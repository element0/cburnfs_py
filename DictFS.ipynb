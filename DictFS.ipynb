{
 "cells": [
  {
   "cell_type": "markdown",
   "metadata": {},
   "source": [
    "# DictFS\n",
    "\n",
    "Turn a dictionary into a file system."
   ]
  },
  {
   "cell_type": "code",
   "execution_count": 5,
   "metadata": {},
   "outputs": [],
   "source": [
    "from fs.base import FS\n",
    "from fs.subfs import SubFS\n",
    "from fs.info import Info\n",
    "from os.path import basename, dirname\n",
    "from fs.errors import ResourceNotFound, ResourceReadOnly\n",
    "from fs.errors import RemoveRootError\n",
    "from fs.errors import DirectoryExists, DirectoryNotEmpty\n",
    "from fs.errors import FileExpected, DirectoryExpected\n",
    "from io import BytesIO\n",
    "from Dcel import Dcel\n",
    "\n",
    "DirectoryTypes = (dict,list)\n",
    "ByteableTypes = (bytes,str)\n",
    "WriteModes = ('w','a')\n",
    "\n",
    "class DictFS(FS):\n",
    "    def __init__(self,fsdict,mode='a'):\n",
    "        self.fsdict = fsdict\n",
    "        self._mode = mode\n",
    "        super().__init__()\n",
    "    \n",
    "    @property\n",
    "    def _addr(self):\n",
    "        return self.fsdict\n",
    "    \n",
    "    def _pathwalk(self,\n",
    "                  path,\n",
    "                  target=None\n",
    "                 ):\n",
    "        if target is None:\n",
    "            target = self.fsdict\n",
    "            if (not type(target) is dict):\n",
    "                # UPDATE 8/7/2022 - raygan - Return fsdict without lookup.\n",
    "                # This enables Fudge glob where fu/'*' needs to return a list.\n",
    "                return target\n",
    "                # raise TypeError(f\"DictFS internal 'fsdict' type must 'dict', not {type(target)}.\")\n",
    "            \n",
    "        if path in (None,\"\",\".\",\"/\"):\n",
    "            return target\n",
    "        \n",
    "        path = path.strip(\"/\")\n",
    "\n",
    "        try:\n",
    "            seg,nextpath = path.split('/',1)\n",
    "        except ValueError:\n",
    "            nextpath = None\n",
    "            seg = path\n",
    "\n",
    "        # lookup seg within target.\n",
    "        # target may be a Dict or Dcel\n",
    "        if not seg in target:\n",
    "            raise ResourceNotFound(path)\n",
    "            return None\n",
    "\n",
    "        nexttarget = target[seg]\n",
    "\n",
    "        if type(nexttarget) is dict\\\n",
    "        and not nextpath is None:\n",
    "            return self._pathwalk(nextpath,\n",
    "                                  nexttarget)\n",
    "        return nexttarget\n",
    "    \n",
    "    \n",
    "    ####################\n",
    "    # pyfilesystem Api #\n",
    "    ####################\n",
    "    \n",
    "    def getinfo(self, path, namespaces=None):\n",
    "        target = self._pathwalk(path)\n",
    "        \n",
    "        if type(target) in DirectoryTypes:\n",
    "            is_dir = True\n",
    "        else:\n",
    "            is_dir = False\n",
    "            \n",
    "        i = Info({\"basic\":{\n",
    "            \"name\": basename(path.strip('/')),\n",
    "            \"is_dir\": is_dir\n",
    "        }})\n",
    "        \n",
    "        if namespaces != None \\\n",
    "        and \"dcel\" in namespaces:\n",
    "            i.raw[\"dcel\"] = {\"value\":\n",
    "                             target\n",
    "                            }\n",
    "        return i\n",
    "    \n",
    "    def listdir(self, path):\n",
    "        target = self._pathwalk(path)\n",
    "        if type(target) in DirectoryTypes:\n",
    "            return list(target)\n",
    "        return list()\n",
    "    \n",
    "    def makedir(self, path, permissions=None, recreate=False):\n",
    "        \n",
    "        if not self._mode in WriteModes:\n",
    "            # raise ReadOnlyFilesystem\n",
    "            return\n",
    "        \n",
    "        parpath = dirname(path)\n",
    "        entryname = basename(path)\n",
    "        target = self._pathwalk(parpath)\n",
    "        if target is None:\n",
    "            raise ResourceNotFound\n",
    "            \n",
    "        if entryname in target\\\n",
    "        and recreate is False:\n",
    "            raise DirectoryExists(path)\n",
    "        \n",
    "        target[entryname] = dict()\n",
    "        \n",
    "        return SubFS(self, path)\n",
    "    \n",
    "    def openbin(self, path, mode='r', buffering=-1, **options):\n",
    "        \n",
    "        if mode in WriteModes\\\n",
    "        and not self._mode in WriteModes:\n",
    "            raise ResourceReadOnly(f\"DictFS: {path}\")\n",
    "        parpath = dirname(path)\n",
    "        entryname = basename(path)\n",
    "        parent = self._pathwalk(parpath)\n",
    "        target = parent[entryname]\n",
    "        targettype = type(target)\n",
    "        \n",
    "        if targettype in DirectoryTypes:\n",
    "            raise FileExpected(path)\n",
    "        \n",
    "        if targettype is str:\n",
    "            buf = target.encode(encoding='utf-8')\n",
    "            # kludge to get writebytes to work\n",
    "            # but it messes up getting strings from DictFS\n",
    "            # parent[entryname] = buf\n",
    "        elif targettype is bytes:\n",
    "            buf = target\n",
    "            \n",
    "        else:\n",
    "            raise FileExpected(path)\n",
    "        \n",
    "        return BytesIO(buf)\n",
    "    \n",
    "    def remove(self, path):\n",
    "        if not self._mode in WriteModes:\n",
    "            # raise ReadOnlyFilesystem\n",
    "            return\n",
    "        \n",
    "        parpath = dirname(path)\n",
    "        entryname = basename(path)\n",
    "        pardir = self._pathwalk(parpath)\n",
    "        if entryname in pardir:\n",
    "            if not type(pardir[entryname]) in DirectoryTypes:\n",
    "                pardir.pop(entryname)\n",
    "            else:\n",
    "                raise FileExpected(path)\n",
    "        else:\n",
    "            raise ResourceNotFound(path)\n",
    "        \n",
    "    def removedir(self, path):\n",
    "        if not self._mode in WriteModes:\n",
    "            # raise ReadOnlyFilesystem\n",
    "            return\n",
    "        \n",
    "        if path == \"/\":\n",
    "            raise RemoveRootError\n",
    "            \n",
    "        parpath = dirname(path)\n",
    "        entryname = basename(path)\n",
    "        pardir = self._pathwalk(parpath)\n",
    "        if entryname in pardir:\n",
    "            if type(pardir[entryname]) in DirectoryTypes:\n",
    "                if pardir[entryname]:\n",
    "                    raise DirectoryNotEmpty(path)\n",
    "                else:\n",
    "                    pardir.pop(entryname)\n",
    "            else:\n",
    "                raise DirectoryExpected(path)\n",
    "        else:\n",
    "            raise ResourceNotFound(path)\n",
    "        \n",
    "        \n",
    "    def setinfo(self, path, info):\n",
    "        if not self._mode in WriteModes:\n",
    "            # raise ReadOnlyFilesystem\n",
    "            return\n",
    "        try:\n",
    "            parpath = dirname(path)\n",
    "            entryname = basename(path)\n",
    "            target = self._pathwalk(parpath)\n",
    "        except:\n",
    "            return\n",
    "        try:\n",
    "            value = info['dcel']['value']\n",
    "            target[entryname] = value\n",
    "        except:\n",
    "            return\n",
    "        \n",
    "    ### pyfilesystem:\n",
    "    #   override methods\n",
    "    \n",
    "    def writetext(self,\n",
    "                  path,\n",
    "                  contents,\n",
    "                  encoding='utf-8',\n",
    "                  errors=None,\n",
    "                  newline=''):\n",
    "        if not self._mode in WriteModes:\n",
    "            raise ResourceReadOnly\n",
    "        try:\n",
    "            # walk to target\n",
    "            parpath = dirname(path)\n",
    "            entryname = basename(path)\n",
    "            target = self._pathwalk(parpath)\n",
    "        except:\n",
    "            print(\"DictFS.writetext() error parpath, entryname, target=self._pathwalk(parpath)\")\n",
    "            return\n",
    "        try:\n",
    "            # set target\n",
    "            result = target[entryname]\n",
    "            if type(result) is Dcel:\n",
    "                result.value = contents\n",
    "            else:\n",
    "                target[entryname] = contents\n",
    "        except:\n",
    "            print(\"DictFS.writetext() error trying to set child\")\n",
    "            print(f\"DictFS::writetext(): parpath: {parpath}, entryname: {entryname}, target: {repr(target)}\")\n",
    "            return\n",
    "    \n",
    "    ####################\n",
    "    #  cosmos API      #\n",
    "    ####################\n",
    "    \n",
    "    # Depricate external use of any API other than pyfilesystem.\n",
    "    # OK to keep if this is internal.\n",
    "\n",
    "    def lookup(self, path, base=None):\n",
    "        return self._pathwalk(path, base)\n",
    "        "
   ]
  },
  {
   "cell_type": "code",
   "execution_count": 22,
   "metadata": {},
   "outputs": [
    {
     "name": "stdout",
     "output_type": "stream",
     "text": [
      "None\n",
      "{'basic': {'name': 'apple', 'is_dir': False}}\n",
      "True\n"
     ]
    }
   ],
   "source": [
    "# Test geturl()\n",
    "\n",
    "s = DictFS({\"a\":{\"apple\":\"True\",\"apricot\":\"True\",\"anchovy\":\"True\"}})\n",
    "print(s.geturl('/a/apple'))\n",
    "print(s.getinfo('/a/apple').raw)\n",
    "print(s.readtext('/a/apple'))"
   ]
  },
  {
   "cell_type": "code",
   "execution_count": 2,
   "metadata": {},
   "outputs": [
    {
     "name": "stdout",
     "output_type": "stream",
     "text": [
      "Dcel::__init__() address=apple a b c carrots service=None args=None service_class=None\n",
      "Dcel::__init__() address=slice(0, 5, None) service=apple a b c carrots args=None service_class=None\n",
      "Dcel::__init__() address=slice(6, 11, None) service=apple a b c carrots args=None service_class=None\n",
      "Dcel::__init__() address=slice(12, None, None) service=apple a b c carrots args=None service_class=None\n",
      "apple a b c carrots\n",
      "Dcel::__init__() address={'apple': <Dcel.Dcel object at 0x7fa4140fc1c0>, 'abc': <Dcel.Dcel object at 0x7fa41410ba60>, 'carrots': <Dcel.Dcel object at 0x7fa41410b070>} service=None args=None service_class=<class '__main__.DictFS'>\n",
      "Dcel::__init__() service_class and address\n",
      "Dcel::__init__() self.service=<__main__.DictFS object at 0x7fa4141903d0>\n",
      "{'apple': <Dcel.Dcel object at 0x7fa4140fc1c0>, 'abc': <Dcel.Dcel object at 0x7fa41410ba60>, 'carrots': <Dcel.Dcel object at 0x7fa41410b070>}\n",
      "Dcel::__init__() address=slice(0, 1, None) service=a b c args=None service_class=None\n",
      "Dcel::__init__() address=slice(2, 3, None) service=a b c args=None service_class=None\n",
      "Dcel::__init__() address=slice(4, 5, None) service=a b c args=None service_class=None\n",
      "a b c\n",
      "Dcel::__init__() address={'a': <Dcel.Dcel object at 0x7fa41410b7f0>, 'b': <Dcel.Dcel object at 0x7fa414190850>, 'c': <Dcel.Dcel object at 0x7fa4140e2f10>} service=None args=None service_class=<class '__main__.DictFS'>\n",
      "Dcel::__init__() service_class and address\n",
      "Dcel::__init__() self.service=<__main__.DictFS object at 0x7fa4140e2b50>\n",
      "{'a': <Dcel.Dcel object at 0x7fa41410b7f0>, 'b': <Dcel.Dcel object at 0x7fa414190850>, 'c': <Dcel.Dcel object at 0x7fa4140e2f10>}\n",
      "Dcel::__init__() address=/b service=<__main__.DictFS object at 0x7fa4140e2b50> args=None service_class=None\n",
      "None\n",
      "apple a balloon c carrots\n"
     ]
    }
   ],
   "source": [
    "# Test writethrough with recursive DictFS\n",
    "from Dcel import Dcel\n",
    "baselayer = Dcel(\"apple a b c carrots\")\n",
    "apple = baselayer[0:5]\n",
    "abc = baselayer[6:11]\n",
    "carrots = baselayer[12:]\n",
    "print(f\"{apple} {abc} {carrots}\")\n",
    "\n",
    "based = Dcel({\"apple\": apple,\n",
    "              \"abc\": abc,\n",
    "              \"carrots\": carrots\n",
    "             },\n",
    "             service_class=DictFS\n",
    "            )\n",
    "print(based.service.fsdict)\n",
    "\n",
    "a = abc[0:1]\n",
    "b = abc[2:3]\n",
    "c = abc[4:5]\n",
    "print(f\"{a} {b} {c}\")\n",
    "\n",
    "abcd = Dcel({\"a\":a, \"b\":b, \"c\":c},\n",
    "         service_class=DictFS)\n",
    "print(abcd.service.fsdict)\n",
    "\n",
    "abcd['b'] = 'balloon'\n",
    "print(abcd)\n",
    "print(baselayer)"
   ]
  },
  {
   "cell_type": "code",
   "execution_count": 18,
   "metadata": {},
   "outputs": [
    {
     "name": "stdout",
     "output_type": "stream",
     "text": [
      "flushing /b <__main__.DictFS object at 0x7f123433af70>\n",
      "/b <__main__.DictFS object at 0x7f123433af70>\n",
      "flushing slice(2, 3, None) a balloonal\n",
      "flushing slice(6, 11, None) apple a balloonalloon c carrots\n"
     ]
    }
   ],
   "source": [
    "abcd['b'].flush()\n",
    "print(f\"{abcd['b'].address} {abcd['b'].service}\")\n",
    "\n",
    "abcd['b'].value.flush()\n"
   ]
  },
  {
   "cell_type": "code",
   "execution_count": 20,
   "metadata": {},
   "outputs": [
    {
     "ename": "AttributeError",
     "evalue": "'str' object has no attribute 'flush'",
     "output_type": "error",
     "traceback": [
      "\u001b[0;31m---------------------------------------------------------------------------\u001b[0m",
      "\u001b[0;31mAttributeError\u001b[0m                            Traceback (most recent call last)",
      "Input \u001b[0;32mIn [20]\u001b[0m, in \u001b[0;36m<cell line: 1>\u001b[0;34m()\u001b[0m\n\u001b[0;32m----> 1\u001b[0m \u001b[43mbaselayer\u001b[49m\u001b[38;5;241;43m.\u001b[39;49m\u001b[43mvalue\u001b[49m\u001b[38;5;241;43m.\u001b[39;49m\u001b[43mflush\u001b[49m()\n",
      "\u001b[0;31mAttributeError\u001b[0m: 'str' object has no attribute 'flush'"
     ]
    }
   ],
   "source": [
    "baselayer.value.flush()"
   ]
  },
  {
   "cell_type": "code",
   "execution_count": 2,
   "metadata": {},
   "outputs": [
    {
     "name": "stdout",
     "output_type": "stream",
     "text": [
      "/b\n",
      "<class 'Dcel.Dcel'>\n",
      "a: abble <class 'Dcel.Dcel'>\n",
      "b: bb <class 'Dcel.Dcel'>\n",
      "c: carrot <class 'Dcel.Dcel'>\n",
      "abble carrot\n"
     ]
    }
   ],
   "source": [
    "# Test dict with Dcels in the values.\n",
    "from Dcel import Dcel\n",
    "\n",
    "a = Dcel(\"apple\")\n",
    "b = a[1:3]  # test with Dcel slice\n",
    "c = Dcel(\"carrot\")\n",
    "\n",
    "stringbuf = Dcel(\"apple carrot\")\n",
    "a = stringbuf[0:5]\n",
    "b = a[1:3]  # test with Dcel slice\n",
    "c = stringbuf[6:12]\n",
    "fsdict = { \"a\": a, \"b\": b, \"c\": c }\n",
    "\n",
    "d = Dcel(fsdict,service_class=DictFS)\n",
    "print(d[\"b\"].address)\n",
    "print(type(d[\"b\"]))\n",
    "d[\"b\"] = \"bb\"  # this should access the slice\n",
    "\n",
    "for ea in d.listdir():\n",
    "   print(f\"{ea}: {d[ea]} {type(d[ea])}\")\n",
    "\n",
    "print(stringbuf)\n"
   ]
  },
  {
   "cell_type": "code",
   "execution_count": 13,
   "metadata": {},
   "outputs": [],
   "source": [
    "# test data\n",
    "from fs.osfs import OSFS\n",
    "fsdict = { \"colors\":\n",
    "          { \"red\": \"Rose\",\n",
    "            \"green\": \"Grapes\",\n",
    "            \"blue\": \"Berries\"\n",
    "           },\n",
    "           \"services\": { \"file\": OSFS }\n",
    "         }\n",
    "\n",
    "a = DictFS(fsdict)"
   ]
  },
  {
   "cell_type": "code",
   "execution_count": 16,
   "metadata": {},
   "outputs": [
    {
     "data": {
      "text/plain": [
       "'Berries'"
      ]
     },
     "execution_count": 16,
     "metadata": {},
     "output_type": "execute_result"
    }
   ],
   "source": [
    "# lookup()\n",
    "a.lookup(\"colors/blue\")"
   ]
  },
  {
   "cell_type": "code",
   "execution_count": 17,
   "metadata": {},
   "outputs": [
    {
     "data": {
      "text/plain": [
       "True"
      ]
     },
     "execution_count": 17,
     "metadata": {},
     "output_type": "execute_result"
    }
   ],
   "source": [
    "# exists()\n",
    "a.exists(\"colors/blue\")"
   ]
  },
  {
   "cell_type": "code",
   "execution_count": 5,
   "metadata": {},
   "outputs": [
    {
     "data": {
      "text/plain": [
       "{'basic': {'name': '', 'is_dir': True}}"
      ]
     },
     "execution_count": 5,
     "metadata": {},
     "output_type": "execute_result"
    }
   ],
   "source": [
    "a.getinfo('/').raw\n",
    "#a.readtext('/')\n",
    "#a._addr"
   ]
  },
  {
   "cell_type": "code",
   "execution_count": 6,
   "metadata": {
    "scrolled": false
   },
   "outputs": [
    {
     "data": {
      "text/plain": [
       "'Rose'"
      ]
     },
     "execution_count": 6,
     "metadata": {},
     "output_type": "execute_result"
    }
   ],
   "source": [
    "a.lookup(\"colors/red\")"
   ]
  },
  {
   "cell_type": "code",
   "execution_count": 7,
   "metadata": {},
   "outputs": [
    {
     "name": "stdout",
     "output_type": "stream",
     "text": [
      "Rose\n"
     ]
    }
   ],
   "source": [
    "print(a.readtext(\"colors/red\"))"
   ]
  },
  {
   "cell_type": "code",
   "execution_count": 8,
   "metadata": {},
   "outputs": [],
   "source": [
    "a.writetext(\"colors/red\",\"Fire Truck\")"
   ]
  },
  {
   "cell_type": "code",
   "execution_count": 9,
   "metadata": {},
   "outputs": [],
   "source": [
    "a.remove(\"colors/red\")"
   ]
  },
  {
   "cell_type": "code",
   "execution_count": 10,
   "metadata": {},
   "outputs": [
    {
     "data": {
      "text/plain": [
       "['green', 'blue']"
      ]
     },
     "execution_count": 10,
     "metadata": {},
     "output_type": "execute_result"
    }
   ],
   "source": [
    "a.listdir('///colors/')"
   ]
  },
  {
   "cell_type": "code",
   "execution_count": 11,
   "metadata": {},
   "outputs": [
    {
     "data": {
      "text/plain": [
       "{'basic': {'name': 'file', 'is_dir': False}, 'dcel': {'value': fs.osfs.OSFS}}"
      ]
     },
     "execution_count": 11,
     "metadata": {},
     "output_type": "execute_result"
    }
   ],
   "source": [
    "a.getinfo('/services/file',namespaces=['dcel']).raw"
   ]
  },
  {
   "cell_type": "code",
   "execution_count": 9,
   "metadata": {},
   "outputs": [
    {
     "data": {
      "text/plain": [
       "SubFS(<__main__.DictFS object at 0x119b01670>, '/colors/brown')"
      ]
     },
     "execution_count": 9,
     "metadata": {},
     "output_type": "execute_result"
    }
   ],
   "source": [
    "a.makedir('/colors/grey')\n",
    "a.makedir('/colors/brown')"
   ]
  },
  {
   "cell_type": "code",
   "execution_count": 10,
   "metadata": {},
   "outputs": [],
   "source": [
    "a.removedir('colors/grey')"
   ]
  },
  {
   "cell_type": "code",
   "execution_count": 11,
   "metadata": {},
   "outputs": [
    {
     "data": {
      "text/plain": [
       "['red', '/green/blue']"
      ]
     },
     "execution_count": 11,
     "metadata": {},
     "output_type": "execute_result"
    }
   ],
   "source": [
    "\"//red//green/blue\".strip('/').split('/',1)"
   ]
  },
  {
   "cell_type": "code",
   "execution_count": 12,
   "metadata": {},
   "outputs": [
    {
     "data": {
      "text/plain": [
       "'/blue'"
      ]
     },
     "execution_count": 12,
     "metadata": {},
     "output_type": "execute_result"
    }
   ],
   "source": [
    "from os.path import basename, dirname\n",
    "\n",
    "basename(\"red/green//\")\n",
    "dirname(\"/blue/yellow\")\n"
   ]
  },
  {
   "cell_type": "code",
   "execution_count": 13,
   "metadata": {},
   "outputs": [
    {
     "data": {
      "text/plain": [
       "{1: 2}"
      ]
     },
     "execution_count": 13,
     "metadata": {},
     "output_type": "execute_result"
    }
   ],
   "source": [
    "d = {1:2,3:4}\n",
    "d.pop(3)\n",
    "d"
   ]
  },
  {
   "cell_type": "code",
   "execution_count": 14,
   "metadata": {},
   "outputs": [
    {
     "name": "stdout",
     "output_type": "stream",
     "text": [
      "False\n"
     ]
    }
   ],
   "source": [
    "l = []\n",
    "if l:\n",
    "    print(True)\n",
    "else:\n",
    "    print(False)"
   ]
  }
 ],
 "metadata": {
  "kernelspec": {
   "display_name": "Python 3.9",
   "language": "python",
   "name": "python3"
  },
  "language_info": {
   "codemirror_mode": {
    "name": "ipython",
    "version": 3
   },
   "file_extension": ".py",
   "mimetype": "text/x-python",
   "name": "python",
   "nbconvert_exporter": "python",
   "pygments_lexer": "ipython3",
   "version": "3.9.5"
  }
 },
 "nbformat": 4,
 "nbformat_minor": 2
}
