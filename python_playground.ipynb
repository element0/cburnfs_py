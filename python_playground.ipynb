{
 "cells": [
  {
   "cell_type": "code",
   "execution_count": 12,
   "metadata": {},
   "outputs": [
    {
     "name": "stdout",
     "output_type": "stream",
     "text": [
      "ParseResult(scheme='file', netloc='fs', path='', params='', query='', fragment='')\n"
     ]
    }
   ],
   "source": [
    "from urllib.parse import urlparse\n",
    "\n",
    "url = urlparse(\"file://fs\")\n",
    "\n",
    "print(url)"
   ]
  },
  {
   "cell_type": "code",
   "execution_count": 18,
   "metadata": {},
   "outputs": [
    {
     "name": "stdout",
     "output_type": "stream",
     "text": [
      "/\n",
      "/\n"
     ]
    }
   ],
   "source": [
    "pathstr = \"/my/file/\"\n",
    "\n",
    "print(pathstr[0])\n",
    "print(pathstr[-1])"
   ]
  },
  {
   "cell_type": "code",
   "execution_count": 16,
   "metadata": {},
   "outputs": [
    {
     "name": "stdout",
     "output_type": "stream",
     "text": [
      "file://fs.localhost\n"
     ]
    }
   ],
   "source": []
  },
  {
   "cell_type": "code",
   "execution_count": 1,
   "metadata": {},
   "outputs": [
    {
     "name": "stdout",
     "output_type": "stream",
     "text": [
      "['.cloud', '..@', '.cosm', 'fruit', 'numbers', 'boats', '@']\n",
      "{'basic': {'name': '.cloud', 'is_dir': True}, 'hosts': ['file://fs.localhost']}\n"
     ]
    }
   ],
   "source": [
    "# What is the geturl() behavior from the BlackstrapFS pyfilesystem instance?\n",
    "\n",
    "from blackstrap import BlackstrapFS\n",
    "import cburn_blackstrap_config\n",
    "from Dcel import Dcel\n",
    "\n",
    "with Dcel(address=\"file://fs.localhost\", service_class=BlackstrapFS) as myfs:\n",
    "    print(myfs.listdir(\"/\"))\n",
    "    print(myfs.getinfo(\".cloud\").raw)"
   ]
  },
  {
   "cell_type": "code",
   "execution_count": 1,
   "metadata": {},
   "outputs": [],
   "source": [
    "# You can't add args to an @property\n",
    "\n",
    "class Something:\n",
    "    @property\n",
    "    def arguable_prop(self,arg=0):\n",
    "        return arg\n",
    "    \n",
    "a = Something()\n",
    "a.arguable_prop(arg=1)"
   ]
  },
  {
   "cell_type": "code",
   "execution_count": 1,
   "metadata": {},
   "outputs": [],
   "source": [
    "class Clown:\n",
    "    def __init__(self, chicken=\"yellow\"):\n",
    "        self.chicken = chicken\n",
    "    \n",
    "class Dunce(Clown, str):\n",
    "    def __new__(cls, x):\n",
    "        return str.__new__(cls, \"one string only\")\n",
    "\n",
    "    def __init__(self, x = 3):\n",
    "        self.x = x\n",
    "        self.chicken = \"blue\"\n",
    "        \n",
    "    \n",
    "        "
   ]
  },
  {
   "cell_type": "code",
   "execution_count": 24,
   "metadata": {},
   "outputs": [
    {
     "name": "stdout",
     "output_type": "stream",
     "text": [
      "['__add__', '__class__', '__contains__', '__delattr__', '__dir__', '__doc__', '__eq__', '__format__', '__ge__', '__getattribute__', '__getitem__', '__getnewargs__', '__gt__', '__hash__', '__init__', '__init_subclass__', '__iter__', '__le__', '__len__', '__lt__', '__mod__', '__mul__', '__ne__', '__new__', '__reduce__', '__reduce_ex__', '__repr__', '__rmod__', '__rmul__', '__setattr__', '__sizeof__', '__str__', '__subclasshook__', 'capitalize', 'casefold', 'center', 'count', 'encode', 'endswith', 'expandtabs', 'find', 'format', 'format_map', 'index', 'isalnum', 'isalpha', 'isascii', 'isdecimal', 'isdigit', 'isidentifier', 'islower', 'isnumeric', 'isprintable', 'isspace', 'istitle', 'isupper', 'join', 'ljust', 'lower', 'lstrip', 'maketrans', 'partition', 'removeprefix', 'removesuffix', 'replace', 'rfind', 'rindex', 'rjust', 'rpartition', 'rsplit', 'rstrip', 'split', 'splitlines', 'startswith', 'strip', 'swapcase', 'title', 'translate', 'upper', 'zfill']\n",
      "blue\n"
     ]
    }
   ],
   "source": [
    "a = str(\"blue\")\n",
    "print(dir(a))\n",
    "print(a.__str__())"
   ]
  },
  {
   "cell_type": "code",
   "execution_count": 21,
   "metadata": {},
   "outputs": [
    {
     "name": "stdout",
     "output_type": "stream",
     "text": [
      "https://bort.org\n",
      "https://spang.io\n"
     ]
    }
   ],
   "source": [
    "hostnames = [ \"bort.org\", \"spang.io\" ]\n",
    "for hostname in hostnames:\n",
    "    url = f\"https://{hostname}\"\n",
    "    print(url)"
   ]
  },
  {
   "cell_type": "code",
   "execution_count": 5,
   "metadata": {},
   "outputs": [
    {
     "name": "stdout",
     "output_type": "stream",
     "text": [
      "0\n",
      "<class 'int'>\n"
     ]
    }
   ],
   "source": [
    "x = 10 % 5\n",
    "print(x)\n",
    "print(type(x))"
   ]
  },
  {
   "cell_type": "code",
   "execution_count": 19,
   "metadata": {},
   "outputs": [
    {
     "data": {
      "text/plain": [
       "5"
      ]
     },
     "execution_count": 19,
     "metadata": {},
     "output_type": "execute_result"
    }
   ],
   "source": [
    "import numpy\n",
    "a = [5,3,1,2,4,20,6]\n",
    "int(numpy.average(a))"
   ]
  },
  {
   "cell_type": "code",
   "execution_count": null,
   "metadata": {},
   "outputs": [],
   "source": []
  }
 ],
 "metadata": {
  "kernelspec": {
   "display_name": "Python 3.9",
   "language": "python",
   "name": "python3"
  },
  "language_info": {
   "codemirror_mode": {
    "name": "ipython",
    "version": 3
   },
   "file_extension": ".py",
   "mimetype": "text/x-python",
   "name": "python",
   "nbconvert_exporter": "python",
   "pygments_lexer": "ipython3",
   "version": "3.9.5"
  }
 },
 "nbformat": 4,
 "nbformat_minor": 4
}
