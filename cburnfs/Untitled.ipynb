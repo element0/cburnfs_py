{
 "cells": [
  {
   "cell_type": "markdown",
   "id": "2e3c0828",
   "metadata": {},
   "source": [
    "# FormulaFS\n",
    "\n",
    "Run a formula, handle side effects, output buffering, etc. Serve the output via FS interface."
   ]
  },
  {
   "cell_type": "code",
   "execution_count": 145,
   "id": "d322aa03",
   "metadata": {},
   "outputs": [],
   "source": [
    "from fs.base import FS\n",
    "from fs.info import Info\n",
    "from fs.enums import ResourceType\n",
    "from fs.errors import DirectoryExpected\n",
    "from io import BytesIO\n",
    "\n",
    "class FormulaFS(FS):\n",
    "    \"\"\"\n",
    "    Serve the output of a command via FS API.\n",
    "    \n",
    "    Handle buffering.\n",
    "    \"\"\"\n",
    "    def __init__(self, formula_dict):\n",
    "        super().__init__()\n",
    "        if(type(formula_dict) == dict):\n",
    "            self._formula_dict = formula_dict\n",
    "            \n",
    "            if 'fn' in formula_dict:\n",
    "                self._formula_name = formula_dict['fn']\n",
    "            else:\n",
    "                raise Exception(\"FormulaFS requires a function 'fn' in the initialization dict.\")\n",
    "            self._buffer = None\n",
    "        else:\n",
    "            raise TypeError('FormulaFS requires a dict to initialize.')\n",
    "        \n",
    "    def getinfo(self, path, namespaces=['basic']):\n",
    "        nodetype = ResourceType.unknown\n",
    "        return Info({\n",
    "            'basic': {\n",
    "                 'name':self._formula_name,\n",
    "                 'is_dir': False\n",
    "             },\n",
    "             'details': {\n",
    "                 'type': 0\n",
    "             }\n",
    "        })\n",
    "    \n",
    "    def listdir(self, path):\n",
    "        raise DirectoryExpected(path)\n",
    "    \n",
    "    def makedir(self, path, *args, **kwargs):\n",
    "        pass\n",
    "    \n",
    "    def openbin(self, path, *args, **kwargs):\n",
    "        buf = self._formula_dict['fn'](*(self._formula_dict['args']))\n",
    "        return BytesIO(buf.encode())\n",
    "    \n",
    "    def remove(self, path, *args, **kwargs):\n",
    "        pass\n",
    "    \n",
    "    def removedir(self, path, *args, **kwargs):\n",
    "        pass\n",
    "    \n",
    "    def setinfo(self, path, *args, **kwargs):\n",
    "        pass\n",
    "    "
   ]
  },
  {
   "cell_type": "code",
   "execution_count": 146,
   "id": "a18ad530",
   "metadata": {},
   "outputs": [],
   "source": [
    "# Setup\n",
    "def hello(msg='Default hello.'):\n",
    "    print(msg)\n",
    "    return \"Return hello.\""
   ]
  },
  {
   "cell_type": "code",
   "execution_count": 147,
   "id": "59dc7883",
   "metadata": {},
   "outputs": [],
   "source": [
    "# Test: __init__()\n",
    "my_formula = FormulaFS({'fn':hello, 'args':['Arg hello.']})"
   ]
  },
  {
   "cell_type": "code",
   "execution_count": 148,
   "id": "798415c8",
   "metadata": {},
   "outputs": [
    {
     "data": {
      "text/plain": [
       "False"
      ]
     },
     "execution_count": 148,
     "metadata": {},
     "output_type": "execute_result"
    }
   ],
   "source": [
    "# Test\n",
    "my_formula.isdir('/')"
   ]
  },
  {
   "cell_type": "code",
   "execution_count": 149,
   "id": "4785b2ef",
   "metadata": {},
   "outputs": [
    {
     "name": "stdout",
     "output_type": "stream",
     "text": [
      "<file '<function hello at 0x7f5814082dd0>'>\n",
      "<function hello at 0x7f5814082dd0>\n"
     ]
    }
   ],
   "source": [
    "# Test\n",
    "info = my_formula.getinfo('')\n",
    "print(info)\n",
    "print(info.name)"
   ]
  },
  {
   "cell_type": "code",
   "execution_count": 150,
   "id": "b3c59e6f",
   "metadata": {},
   "outputs": [
    {
     "name": "stdout",
     "output_type": "stream",
     "text": [
      "Arg hello.\n"
     ]
    }
   ],
   "source": [
    "# Test\n",
    "res = my_formula.gettext('')"
   ]
  },
  {
   "cell_type": "code",
   "execution_count": 151,
   "id": "f16369a7",
   "metadata": {},
   "outputs": [
    {
     "name": "stdout",
     "output_type": "stream",
     "text": [
      "Return hello.\n"
     ]
    }
   ],
   "source": [
    "print(res)"
   ]
  },
  {
   "cell_type": "code",
   "execution_count": null,
   "id": "260e92a1",
   "metadata": {},
   "outputs": [],
   "source": []
  },
  {
   "cell_type": "code",
   "execution_count": null,
   "id": "c1d5681b",
   "metadata": {},
   "outputs": [],
   "source": []
  }
 ],
 "metadata": {
  "kernelspec": {
   "display_name": "Python 3 (ipykernel)",
   "language": "python",
   "name": "python3"
  },
  "language_info": {
   "codemirror_mode": {
    "name": "ipython",
    "version": 3
   },
   "file_extension": ".py",
   "mimetype": "text/x-python",
   "name": "python",
   "nbconvert_exporter": "python",
   "pygments_lexer": "ipython3",
   "version": "3.10.12"
  }
 },
 "nbformat": 4,
 "nbformat_minor": 5
}
