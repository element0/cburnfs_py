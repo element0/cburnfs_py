{
 "cells": [
  {
   "cell_type": "markdown",
   "id": "4ce4fec1",
   "metadata": {},
   "source": [
    "# ValueSvc\n",
    "Provides an FS API for non-container values such as `str`, `int`, and `bool`."
   ]
  },
  {
   "cell_type": "code",
   "execution_count": null,
   "id": "248de21e",
   "metadata": {},
   "outputs": [],
   "source": [
    "from fs.base import FS\n",
    "from fs.info import Info\n",
    "from fs.enums import ResourceType\n",
    "from fs.errors import DirectoryExpected\n",
    "from fs.errors import ResourceInvalid\n",
    "from fs.errors import ResourceReadOnly\n",
    "from io import BytesIO\n",
    "from sys import getsizeof\n",
    "\n",
    "class ValueSvc(FS):\n",
    "    \n",
    "    def __init__(self, value):\n",
    "        self.__value = value\n",
    "        \n",
    "    # ---- pyfilesystem API ----\n",
    "        \n",
    "    def getinfo(self, path, namespaces=['basic']):\n",
    "        \"\"\"Get info about the value.\n",
    "        \n",
    "        The most relevant info will be in the details namespace.\n",
    "        \n",
    "        If this function uses sys.getsizeof, it will return the\n",
    "        memory footprint of the python object, not the length\n",
    "        in bytes of the data of interest.\n",
    "        \"\"\"\n",
    "        info = {\n",
    "            'basic': {\n",
    "                'name': str(type(self.__value)),\n",
    "                'is_dir': False\n",
    "            }\n",
    "        }\n",
    "        if 'details' in (namespaces if namespaces else []):\n",
    "            details = {\n",
    "                'size': getsizeof(self.__value)\n",
    "            }\n",
    "            info.update(details)\n",
    "        return Info(info)\n",
    "    \n",
    "    def listdir(self, _):\n",
    "        raise DirectoryExpected('ValueSvc value does not have a directory.')\n",
    "    \n",
    "    def makedir(self, _):\n",
    "        raise ResourceInvalid('ValueSvc cannot make a directory inside a value.')\n",
    "    \n",
    "    def openbin(self, _, *args, **kwargs):\n",
    "        return BytesIO(str(self.__value).encode())\n",
    "    \n",
    "    def remove(self, _):\n",
    "        raise ResourceInvalid('ValueSvc cannot have directories inside a value. Nothing to remove.')\n",
    "    \n",
    "    def removedir(self, _):\n",
    "        raise ResourceInvalid('ValueSvc cannot have directories inside a value. Nothing to remove.')\n",
    "\n",
    "    def setinfo(self, _):\n",
    "        raise ResourceReadOnly('ValueSvc cannot set arbitrary info.')\n",
    "    \n",
    "    def isdir(self, _):\n",
    "        \"\"\"ValueSvc::isdir() unconditionally returns false.\"\"\"\n",
    "        return False\n",
    "    \n",
    "    def writetext(self, _, value):\n",
    "        self.__value = value\n",
    "    \n",
    "    # ---- Dcel API ----\n",
    "    \n",
    "    @property\n",
    "    def value(self):\n",
    "        \"\"\"Returns the internal value.\"\"\"\n",
    "        return self.__value\n",
    "    \n",
    "    @value.setter\n",
    "    def set_value(self, value):\n",
    "        \"\"\"Sets the internal value.\"\"\"\n",
    "        self.__value = value\n",
    "    "
   ]
  },
  {
   "cell_type": "code",
   "execution_count": 61,
   "id": "029ed0eb",
   "metadata": {},
   "outputs": [],
   "source": [
    "def ValueSvcTests(values, newvalues, methods):\n",
    "    \n",
    "    def test__init__(value):\n",
    "        return ValueSvc(value)\n",
    "    def test_getinfo(obj,*args,**kwargs):\n",
    "        return obj.getinfo('')\n",
    "    \n",
    "    # run\n",
    "    for value,newvalue in zip(values,newvalues):\n",
    "        v = ValueSvc(value)\n",
    "        for method in methods:\n",
    "            try:\n",
    "                print (f\"Testing {method} on {value}...\")\n",
    "                m = getattr(v,method)\n",
    "                res = m(\n",
    "                  *(methods[method]['args']),\n",
    "                  **(methods[method]['kwargs'])\n",
    "                 )\n",
    "                print(f\"Result of {method}: {res}\")\n",
    "            except Exception as e:\n",
    "                print(e)\n",
    "        # special writetext\n",
    "        try:\n",
    "            print (f\"Testing writetext on {value}...\")\n",
    "            res = v.writetext('.',newvalue)\n",
    "            print(f\"Result of writetext on {value}: {res}\")\n",
    "        except Exception as e:\n",
    "            print(e)\n",
    "        try:\n",
    "            print(f\"Testing readtext on new value of {value}...\")\n",
    "            res = v.readtext('.')\n",
    "            print(f\"Result of readtext on new value of {value}: {res}\")\n",
    "        except Exception as e:\n",
    "            print(e)\n",
    "        print('-------------------------------------------')\n",
    "    "
   ]
  },
  {
   "cell_type": "code",
   "execution_count": 63,
   "id": "c645a76b",
   "metadata": {},
   "outputs": [],
   "source": [
    "# Setup test\n",
    "values = [\"hello\",1,True]\n",
    "newvalues = [\"konichiwa\",2,False]\n",
    "methods = {\n",
    "    'getinfo': {'args':['.'],'kwargs':{'namespaces':['details']}},\n",
    "    'listdir': {'args':['.'],'kwargs':{}},\n",
    "    'makedir': {'args':['abcd'],'kwargs':{}},\n",
    "    'openbin': {'args':['.'],'kwargs':{}},\n",
    "    'remove': {'args':['abcd'],'kwargs':{}},\n",
    "    'removedir': {'args':['abcd'],'kwargs':{}},\n",
    "    # 'writetext': {'args':['.','konichiwa'],'kwargs':{}},\n",
    "    'readtext': {'args':['.'],'kwargs':{}}\n",
    "}"
   ]
  },
  {
   "cell_type": "code",
   "execution_count": 64,
   "id": "a08daca1",
   "metadata": {},
   "outputs": [
    {
     "name": "stdout",
     "output_type": "stream",
     "text": [
      "Testing getinfo on hello...\n",
      "Result of getinfo: <file '<class 'str'>'>\n",
      "Testing listdir on hello...\n",
      "path 'ValueSvc value does not have a directory.' should be a directory\n",
      "Testing makedir on hello...\n",
      "resource 'ValueSvc cannot make a directory inside a value.' is invalid for this operation\n",
      "Testing openbin on hello...\n",
      "Result of openbin: <_io.BytesIO object at 0x7faf88235ad0>\n",
      "Testing remove on hello...\n",
      "resource 'ValueSvc cannot have directories inside a value. Nothing to remove.' is invalid for this operation\n",
      "Testing removedir on hello...\n",
      "resource 'ValueSvc cannot have directories inside a value. Nothing to remove.' is invalid for this operation\n",
      "Testing readtext on hello...\n",
      "Result of readtext: hello\n",
      "Testing writetext on hello...\n",
      "Result of writetext on hello: None\n",
      "Testing readtext on new value of hello...\n",
      "Result of readtext on new value of hello: konichiwa\n",
      "-------------------------------------------\n",
      "Testing getinfo on 1...\n",
      "Result of getinfo: <file '<class 'int'>'>\n",
      "Testing listdir on 1...\n",
      "path 'ValueSvc value does not have a directory.' should be a directory\n",
      "Testing makedir on 1...\n",
      "resource 'ValueSvc cannot make a directory inside a value.' is invalid for this operation\n",
      "Testing openbin on 1...\n",
      "Result of openbin: <_io.BytesIO object at 0x7faf882af600>\n",
      "Testing remove on 1...\n",
      "resource 'ValueSvc cannot have directories inside a value. Nothing to remove.' is invalid for this operation\n",
      "Testing removedir on 1...\n",
      "resource 'ValueSvc cannot have directories inside a value. Nothing to remove.' is invalid for this operation\n",
      "Testing readtext on 1...\n",
      "Result of readtext: 1\n",
      "Testing writetext on 1...\n",
      "Result of writetext on 1: None\n",
      "Testing readtext on new value of 1...\n",
      "Result of readtext on new value of 1: 2\n",
      "-------------------------------------------\n",
      "Testing getinfo on True...\n",
      "Result of getinfo: <file '<class 'bool'>'>\n",
      "Testing listdir on True...\n",
      "path 'ValueSvc value does not have a directory.' should be a directory\n",
      "Testing makedir on True...\n",
      "resource 'ValueSvc cannot make a directory inside a value.' is invalid for this operation\n",
      "Testing openbin on True...\n",
      "Result of openbin: <_io.BytesIO object at 0x7faf882ac540>\n",
      "Testing remove on True...\n",
      "resource 'ValueSvc cannot have directories inside a value. Nothing to remove.' is invalid for this operation\n",
      "Testing removedir on True...\n",
      "resource 'ValueSvc cannot have directories inside a value. Nothing to remove.' is invalid for this operation\n",
      "Testing readtext on True...\n",
      "Result of readtext: True\n",
      "Testing writetext on True...\n",
      "Result of writetext on True: None\n",
      "Testing readtext on new value of True...\n",
      "Result of readtext on new value of True: False\n",
      "-------------------------------------------\n"
     ]
    }
   ],
   "source": [
    "ValueSvcTests(values,newvalues,methods)"
   ]
  },
  {
   "cell_type": "code",
   "execution_count": 33,
   "id": "c27a1517",
   "metadata": {},
   "outputs": [
    {
     "name": "stdout",
     "output_type": "stream",
     "text": [
      "getinfo\n",
      "{'args': ['.'], 'kwargs': {'namespaces': ['details']}}\n",
      "listdir\n",
      "{'args': ['.']}\n",
      "makedir\n",
      "{'args': ['abcd']}\n",
      "openbin\n",
      "{'args': ['.']}\n",
      "remove\n",
      "{'args': ['abcd']}\n",
      "removedir\n",
      "{'args': ['abcd']}\n",
      "writetext\n",
      "{'args': ['.', 'konichiwa']}\n",
      "readtext\n",
      "{'args': ['.']}\n"
     ]
    }
   ],
   "source": [
    "for method in methods:\n",
    "    print(method)\n",
    "    print(methods[method])"
   ]
  },
  {
   "cell_type": "code",
   "execution_count": null,
   "id": "9c3d7d38",
   "metadata": {},
   "outputs": [],
   "source": [
    "ValueSvcTest(values,newvalues,methods)"
   ]
  },
  {
   "cell_type": "code",
   "execution_count": 22,
   "id": "dbdafa1b",
   "metadata": {},
   "outputs": [],
   "source": [
    "# TEST __init__()\n",
    "sfs = ValueSvc(\"hello\")"
   ]
  },
  {
   "cell_type": "code",
   "execution_count": 23,
   "id": "32a7cbbd",
   "metadata": {},
   "outputs": [
    {
     "data": {
      "text/plain": [
       "{'basic': {'name': 'str', 'is_dir': False}, 'size': 54}"
      ]
     },
     "execution_count": 23,
     "metadata": {},
     "output_type": "execute_result"
    }
   ],
   "source": [
    "# TEST getinfo()\n",
    "sfs.getinfo('.', namespaces=['details']).raw"
   ]
  },
  {
   "cell_type": "code",
   "execution_count": 24,
   "id": "cb75e2ee",
   "metadata": {},
   "outputs": [
    {
     "data": {
      "text/plain": [
       "'hello'"
      ]
     },
     "execution_count": 24,
     "metadata": {},
     "output_type": "execute_result"
    }
   ],
   "source": [
    "# TEST value()\n",
    "sfs.value"
   ]
  },
  {
   "cell_type": "code",
   "execution_count": 25,
   "id": "97e92043",
   "metadata": {},
   "outputs": [
    {
     "data": {
      "text/plain": [
       "<_io.BytesIO at 0x7faf8c6e14e0>"
      ]
     },
     "execution_count": 25,
     "metadata": {},
     "output_type": "execute_result"
    }
   ],
   "source": [
    "# TEST openbin\n",
    "sfs.openbin('.')"
   ]
  },
  {
   "cell_type": "code",
   "execution_count": 26,
   "id": "29b4759c",
   "metadata": {},
   "outputs": [],
   "source": [
    "## Secondary pyfilesystem tests\n",
    "# These should automatically be inferred by pyfilesystem."
   ]
  },
  {
   "cell_type": "code",
   "execution_count": 27,
   "id": "fa45cf94",
   "metadata": {},
   "outputs": [
    {
     "data": {
      "text/plain": [
       "'hello'"
      ]
     },
     "execution_count": 27,
     "metadata": {},
     "output_type": "execute_result"
    }
   ],
   "source": [
    "# Test readtext\n",
    "sfs.readtext('.')"
   ]
  },
  {
   "cell_type": "code",
   "execution_count": 7,
   "id": "62898610",
   "metadata": {},
   "outputs": [
    {
     "data": {
      "text/plain": [
       "'hello'"
      ]
     },
     "execution_count": 7,
     "metadata": {},
     "output_type": "execute_result"
    }
   ],
   "source": [
    "# Test gettext\n",
    "sfs.gettext('.')"
   ]
  },
  {
   "cell_type": "code",
   "execution_count": 12,
   "id": "780dd8e9",
   "metadata": {},
   "outputs": [],
   "source": [
    "sfs.writetext('.','konichiwa')"
   ]
  },
  {
   "cell_type": "code",
   "execution_count": 13,
   "id": "ac83144e",
   "metadata": {},
   "outputs": [
    {
     "data": {
      "text/plain": [
       "'konichiwa'"
      ]
     },
     "execution_count": 13,
     "metadata": {},
     "output_type": "execute_result"
    }
   ],
   "source": [
    "sfs.gettext('.')"
   ]
  },
  {
   "cell_type": "code",
   "execution_count": null,
   "id": "21cb4192",
   "metadata": {},
   "outputs": [],
   "source": []
  }
 ],
 "metadata": {
  "kernelspec": {
   "display_name": "Python 3 (ipykernel)",
   "language": "python",
   "name": "python3"
  },
  "language_info": {
   "codemirror_mode": {
    "name": "ipython",
    "version": 3
   },
   "file_extension": ".py",
   "mimetype": "text/x-python",
   "name": "python",
   "nbconvert_exporter": "python",
   "pygments_lexer": "ipython3",
   "version": "3.10.12"
  }
 },
 "nbformat": 4,
 "nbformat_minor": 5
}
