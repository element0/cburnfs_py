{
 "cells": [
  {
   "cell_type": "markdown",
   "metadata": {},
   "source": [
    "# fstab Hiena Grammar\n",
    "\n",
    "    fstab_hg"
   ]
  },
  {
   "cell_type": "code",
   "execution_count": 1,
   "metadata": {},
   "outputs": [],
   "source": [
    "LINE = '^[^#\\n][^\\n]+$'\n",
    "WORD = '[^ ]+'\n",
    "entryschema = [str(i) for i in range(1,10)]\n",
    "fieldschema = [\n",
    "    'spec', 'file', 'vfstype', \n",
    "    'mntopts', 'freq', 'passno'\n",
    "]\n",
    "fstab_hg = {\n",
    "    \"#!\": [\"hiena\"], \n",
    "    \"$__start__\": \"entry\",\n",
    "    \"entry\": [LINE, \"field\", entryschema],\n",
    "    \"field\": [WORD, \"\", fieldschema]\n",
    "}"
   ]
  },
  {
   "cell_type": "code",
   "execution_count": 2,
   "metadata": {},
   "outputs": [],
   "source": [
    "CSV = '[^,]+'\n",
    "KVP = '[^=]+[=][^=]+'"
   ]
  },
  {
   "cell_type": "markdown",
   "metadata": {},
   "source": [
    "## Demo"
   ]
  },
  {
   "cell_type": "code",
   "execution_count": 3,
   "metadata": {},
   "outputs": [],
   "source": [
    "from Dcel import Dcel\n",
    "from blackstrap import BlackstrapFS\n",
    "BlackstrapFS.initHost('localhost')\n",
    "BlackstrapFS.addShare('demo-files/fs','fs')\n",
    "d = Dcel(address=\"file://fs.localhost\",service_class=BlackstrapFS)"
   ]
  },
  {
   "cell_type": "code",
   "execution_count": 4,
   "metadata": {},
   "outputs": [
    {
     "name": "stdout",
     "output_type": "stream",
     "text": [
      "|-- @\n",
      "|   `-- etc\n",
      "|       `-- fstab\n",
      "|-- fruit\n",
      "|   `-- apples.txt\n",
      "|-- hello.txt\n",
      "`-- test.txt\n",
      "None\n"
     ]
    }
   ],
   "source": [
    "print(d.tree())"
   ]
  },
  {
   "cell_type": "code",
   "execution_count": 5,
   "metadata": {},
   "outputs": [],
   "source": [
    "fstab = d['@']['etc']['fstab']"
   ]
  },
  {
   "cell_type": "code",
   "execution_count": 6,
   "metadata": {},
   "outputs": [
    {
     "name": "stdout",
     "output_type": "stream",
     "text": [
      "address: <class 'str'>:/@/etc/fstab\n",
      "        abspath: <class 'str'>:/@/etc/fstab\n",
      "        service: <class 'blackstrap.BlackstrapFS'>:<blackstrapfs 'demo-files/fs/'>\n",
      "        value: <class 'str'>:# # Cosm / Etc / FSTab\n",
      "\n",
      "# the .cosm/etc/fstab used by cburn is shared between hosts. The concept of 'localhost' is centric to a generic host model. A file url is relative to the generic host model, whereas a relative file path is relative to the working directory of cloudburner at runtime on each host.\n",
      "\n",
      "# experimental: include a hostname in the 'file://' url to limit the scope of a filepath to a specific host.\n",
      "\n",
      "# experimental: proxy the 'file' protocol and allow subdomain syntax to specify shares. The path component is relative to the share.\n",
      "\n",
      "# idea: make filepaths relative to the fstab's location, ie: for ./.cosm/etc/fstab the relative root is ../../../\n",
      "\n",
      "\n",
      "\n",
      "# KLUDGE ALLERT: shortid=<hide> works around shortcoming in Fudge star, which requires all entries to have the same fields if selected.\n",
      "# ie @/etc/fstab/*/mntopts.cskvp/shortid works if <hide> is present\n",
      "# ie @/etc/fstab/*/mntopts.cskvp/user errors\n",
      "# goal is to use 'nouser' or 'nogui' flag after Fudge is fixed.\n",
      "\n",
      "\n",
      "# file://raygan@raygan.com.cburn.io/ {cburnuser}/example cburnfs nouser,shortid=<hide>,idcard=localuser 0 0\n",
      "\n",
      "file://boot.localhost  {cburnuser}/example/  cburnfs user,shortid=root,idcard=localuser 0 0\n",
      "file://fs2.cburn.io  {cburnuser}/example/  cburnfs user,shortid=FishBo,idcard=localuser 0 0\n",
      "file://fs3.localhost  {cburnuser}/example/  cburnfs user,shortid=Bucket9,idcard=localuser 0 0\n",
      "file://fs4.localhost  /  cburnfs user,shortid=fs4,idcard=localuser 0 0\n",
      "\n",
      "http://metafs-redis no-mount cburnfs-meta nouser,userid='raygan@raygan.com',userhome='raygan-home',userurl='https://raygan-raygan-com.home.laydbug.io'\n",
      "\n",
      "#s3://swashbuckle/?endpoint_url=https://s3.us-west-000.backblazeb2.com    {cburnuser}/example/  cburnfs user,shortid=swash,idcard=aws-credentials 0 0\n",
      "# s3://cburn-demo/?endpoint_url=https://s3.us-west-000.backblazeb2.com   {cburnuser}/example/  cburnfs user,shortid=backbz,idcard=aws-credentials 0 0\n",
      "# file://cburnwebui.cburn.io/  {cburnuser}/example/  cburnfs nouser,shortid=<hide>,idcard=localuser 0 0\n",
      "\n",
      "# mntopt nouser keeps the mountpoint out of the user interface and should be used for the ui overlay only.\n",
      "\n",
      "        _map: <class 'NoneType'>:None\n",
      "        _dir: <class 'NoneType'>:None\n",
      "        \n"
     ]
    }
   ],
   "source": [
    "print(fstab.inspect())"
   ]
  },
  {
   "cell_type": "code",
   "execution_count": 7,
   "metadata": {},
   "outputs": [],
   "source": [
    "fstab_safety = fstab.value"
   ]
  },
  {
   "cell_type": "code",
   "execution_count": 8,
   "metadata": {},
   "outputs": [
    {
     "name": "stdout",
     "output_type": "stream",
     "text": [
      "{'1': {'spec': <Dcel.Dcel object at 0x7faf9060ec80>, 'file': <Dcel.Dcel object at 0x7faf9060ec20>, 'vfstype': <Dcel.Dcel object at 0x7faf9060ed70>, 'mntopts': <Dcel.Dcel object at 0x7faf9060ead0>, 'freq': <Dcel.Dcel object at 0x7faf9060e770>, 'passno': <Dcel.Dcel object at 0x7faf9060c9d0>}, '2': {'spec': <Dcel.Dcel object at 0x7faf9060cfa0>, 'file': <Dcel.Dcel object at 0x7faf9060d030>, 'vfstype': <Dcel.Dcel object at 0x7faf9060cf40>, 'mntopts': <Dcel.Dcel object at 0x7faf9060cf10>, 'freq': <Dcel.Dcel object at 0x7faf9060cfd0>, 'passno': <Dcel.Dcel object at 0x7faf9060cdf0>}, '3': {'spec': <Dcel.Dcel object at 0x7faf9060d360>, 'file': <Dcel.Dcel object at 0x7faf9060d3f0>, 'vfstype': <Dcel.Dcel object at 0x7faf9060d330>, 'mntopts': <Dcel.Dcel object at 0x7faf9060d2d0>, 'freq': <Dcel.Dcel object at 0x7faf9060d210>, 'passno': <Dcel.Dcel object at 0x7faf9060d3c0>}, '4': {'spec': <Dcel.Dcel object at 0x7faf9060d750>, 'file': <Dcel.Dcel object at 0x7faf9060d630>, 'vfstype': <Dcel.Dcel object at 0x7faf9060d6f0>, 'mntopts': <Dcel.Dcel object at 0x7faf9060d4b0>, 'freq': <Dcel.Dcel object at 0x7faf9060d7e0>, 'passno': <Dcel.Dcel object at 0x7faf9060d780>}, '5': {'spec': <Dcel.Dcel object at 0x7faf9060f850>, 'file': <Dcel.Dcel object at 0x7faf9060f940>, 'vfstype': <Dcel.Dcel object at 0x7faf9060d8d0>, 'mntopts': <Dcel.Dcel object at 0x7faf9060d870>}}\n"
     ]
    }
   ],
   "source": [
    "from HienaMP import hiena_mp\n",
    "hienaout = hiena_mp(fstab_hg, fstab)\n",
    "print(hienaout)"
   ]
  },
  {
   "cell_type": "code",
   "execution_count": 9,
   "metadata": {},
   "outputs": [],
   "source": [
    "from DictFS import DictFS\n",
    "hd = Dcel(hienaout, service_class=DictFS)"
   ]
  },
  {
   "cell_type": "code",
   "execution_count": 10,
   "metadata": {},
   "outputs": [
    {
     "name": "stdout",
     "output_type": "stream",
     "text": [
      "<class 'Dcel.Dcel'>\n",
      "{cburnuser}/example/\n",
      "address: <class 'str'>:/1\n",
      "        abspath: <class 'str'>:/1\n",
      "        service: <class 'DictFS.DictFS'>:<DictFS.DictFS object at 0x7faf9060d090>\n",
      "        value: <class 'dict'>:{'spec': <Dcel.Dcel object at 0x7faf9060ec80>, 'file': <Dcel.Dcel object at 0x7faf9060ec20>, 'vfstype': <Dcel.Dcel object at 0x7faf9060ed70>, 'mntopts': <Dcel.Dcel object at 0x7faf9060ead0>, 'freq': <Dcel.Dcel object at 0x7faf9060e770>, 'passno': <Dcel.Dcel object at 0x7faf9060c9d0>}\n",
      "        _map: <class 'NoneType'>:None\n",
      "        _dir: <class 'dict'>:{'file': <Dcel.Dcel object at 0x7faf9060ffa0>}\n",
      "        \n",
      "True\n"
     ]
    }
   ],
   "source": [
    "print(type(hd))\n",
    "print(hd['1']['file'])\n",
    "print(hd['1'].inspect())\n",
    "print(hd.isdir())"
   ]
  },
  {
   "cell_type": "code",
   "execution_count": 11,
   "metadata": {},
   "outputs": [
    {
     "name": "stdout",
     "output_type": "stream",
     "text": [
      "{'spec': <Dcel.Dcel object at 0x7faf9060cfa0>, 'file': <Dcel.Dcel object at 0x7faf9060d030>, 'vfstype': <Dcel.Dcel object at 0x7faf9060cf40>, 'mntopts': <Dcel.Dcel object at 0x7faf9060cf10>, 'freq': <Dcel.Dcel object at 0x7faf9060cfd0>, 'passno': <Dcel.Dcel object at 0x7faf9060cdf0>}\n",
      "{cburnuser}/example/\n",
      "address: <class 'slice'>:slice(21, 41, None)\n",
      "        abspath: <class 'slice'>:slice(21, 41, None)\n",
      "        service: <class 'Dcel.Dcel'>:file://fs2.cburn.io  {cburnuser}/example/  cburnfs user,shortid=FishBo,idcard=localuser 0 0\n",
      "        value: <class 'str'>:{cburnuser}/example/\n",
      "        _map: <class 'NoneType'>:None\n",
      "        _dir: <class 'NoneType'>:None\n",
      "        \n"
     ]
    }
   ],
   "source": [
    "print(hd['2'].value)\n",
    "print(hd['2']['file'])\n",
    "print(hienaout['2']['file'].inspect())"
   ]
  },
  {
   "cell_type": "code",
   "execution_count": 12,
   "metadata": {},
   "outputs": [
    {
     "name": "stdout",
     "output_type": "stream",
     "text": [
      "{'spec': <Dcel.Dcel object at 0x7faf9060cfa0>, 'file': <Dcel.Dcel object at 0x7faf9060d030>, 'vfstype': <Dcel.Dcel object at 0x7faf9060cf40>, 'mntopts': <Dcel.Dcel object at 0x7faf9060cf10>, 'freq': <Dcel.Dcel object at 0x7faf9060cfd0>, 'passno': <Dcel.Dcel object at 0x7faf9060cdf0>}\n",
      "hello\n"
     ]
    }
   ],
   "source": [
    "## ALERT: does not modify the base storage until flushed.\n",
    "hienaout['2']['file'].value = \"hello\"\n",
    "print(hienaout['2'])\n",
    "print(hienaout['2']['file'])"
   ]
  },
  {
   "cell_type": "code",
   "execution_count": 13,
   "metadata": {},
   "outputs": [],
   "source": [
    "## Demonstrate that the underlying storage has not changed.\n",
    "e = Dcel(address=\"file://fs.localhost\",service_class=BlackstrapFS)\n",
    "assert(e['@']['etc']['fstab'].value == fstab_safety)"
   ]
  },
  {
   "cell_type": "code",
   "execution_count": 14,
   "metadata": {},
   "outputs": [],
   "source": [
    "## Flush to storage\n",
    "hienaout['2']['file'].flush()"
   ]
  },
  {
   "cell_type": "code",
   "execution_count": 15,
   "metadata": {},
   "outputs": [
    {
     "name": "stdout",
     "output_type": "stream",
     "text": [
      "# # Cosm / Etc / FSTab\n",
      "\n",
      "# the .cosm/etc/fstab used by cburn is shared between hosts. The concept of 'localhost' is centric to a generic host model. A file url is relative to the generic host model, whereas a relative file path is relative to the working directory of cloudburner at runtime on each host.\n",
      "\n",
      "# experimental: include a hostname in the 'file://' url to limit the scope of a filepath to a specific host.\n",
      "\n",
      "# experimental: proxy the 'file' protocol and allow subdomain syntax to specify shares. The path component is relative to the share.\n",
      "\n",
      "# idea: make filepaths relative to the fstab's location, ie: for ./.cosm/etc/fstab the relative root is ../../../\n",
      "\n",
      "\n",
      "\n",
      "# KLUDGE ALLERT: shortid=<hide> works around shortcoming in Fudge star, which requires all entries to have the same fields if selected.\n",
      "# ie @/etc/fstab/*/mntopts.cskvp/shortid works if <hide> is present\n",
      "# ie @/etc/fstab/*/mntopts.cskvp/user errors\n",
      "# goal is to use 'nouser' or 'nogui' flag after Fudge is fixed.\n",
      "\n",
      "\n",
      "# file://raygan@raygan.com.cburn.io/ {cburnuser}/example cburnfs nouser,shortid=<hide>,idcard=localuser 0 0\n",
      "\n",
      "file://boot.localhost  {cburnuser}/example/  cburnfs user,shortid=root,idcard=localuser 0 0\n",
      "file://fs2.cburn.io  hello  cburnfs user,shortid=FishBo,idcard=localuser 0 0\n",
      "file://fs3.localhost  {cburnuser}/example/  cburnfs user,shortid=Bucket9,idcard=localuser 0 0\n",
      "file://fs4.localhost  /  cburnfs user,shortid=fs4,idcard=localuser 0 0\n",
      "\n",
      "http://metafs-redis no-mount cburnfs-meta nouser,userid='raygan@raygan.com',userhome='raygan-home',userurl='https://raygan-raygan-com.home.laydbug.io'\n",
      "\n",
      "#s3://swashbuckle/?endpoint_url=https://s3.us-west-000.backblazeb2.com    {cburnuser}/example/  cburnfs user,shortid=swash,idcard=aws-credentials 0 0\n",
      "# s3://cburn-demo/?endpoint_url=https://s3.us-west-000.backblazeb2.com   {cburnuser}/example/  cburnfs user,shortid=backbz,idcard=aws-credentials 0 0\n",
      "# file://cburnwebui.cburn.io/  {cburnuser}/example/  cburnfs nouser,shortid=<hide>,idcard=localuser 0 0\n",
      "\n",
      "# mntopt nouser keeps the mountpoint out of the user interface and should be used for the ui overlay only.\n",
      "\n"
     ]
    }
   ],
   "source": [
    "## Demonstrate underlying storage changed after `flush()`\n",
    "assert(e['@']['etc']['fstab'].value != fstab_safety)\n",
    "print(e['@']['etc']['fstab'])"
   ]
  },
  {
   "cell_type": "code",
   "execution_count": 16,
   "metadata": {},
   "outputs": [],
   "source": [
    "## Revert changes\n",
    "e['@']['etc']['fstab'].value = fstab_safety\n",
    "assert(e['@']['etc']['fstab'].value == fstab_safety)"
   ]
  },
  {
   "cell_type": "markdown",
   "metadata": {},
   "source": [
    "## Previous Playground"
   ]
  },
  {
   "cell_type": "code",
   "execution_count": 17,
   "metadata": {},
   "outputs": [],
   "source": [
    "from Dcel import Dcel\n",
    "\n",
    "testdata = [\n",
    "    Dcel(\"url / cburnfs user,userid=raygan@raygan.com,shortid=u 0 0\"),\n",
    "    \"url / cburnfs user,userid=raygan@raygan.com,shortid=u 0 0\"\n",
    "]"
   ]
  },
  {
   "cell_type": "code",
   "execution_count": 18,
   "metadata": {},
   "outputs": [],
   "source": [
    "# Try to change one of the values in the dict from the Dcel level.\n",
    "# See if it updates the testdata[0]\n",
    "\n",
    "# ** It updates, but it destroys the second field in the input, when runnign twice. **\n",
    "\n",
    "from HienaMP import hiena_mp\n",
    "\n",
    "hienaout = hiena_mp(fstab_hg, testdata[0])\n",
    "\n",
    "a = hienaout['1']['spec']\n",
    "b = hienaout['1']['file']\n",
    "c = hienaout['1']['mntopts']\n",
    "a.value = \"hello\"\n",
    "b.value = \"/users/raygan\"\n",
    "c.value = 'user,userid=borris@bomber.com,shortid=snafu'"
   ]
  },
  {
   "cell_type": "code",
   "execution_count": 19,
   "metadata": {},
   "outputs": [
    {
     "name": "stdout",
     "output_type": "stream",
     "text": [
      "url / cburnfs user,userid=raygan@raygan.com,shortid=u 0 0\n",
      "hello /users/raygan cburnfs user,userid=borris@bomber.com,shortid=snafu 0 0\n"
     ]
    }
   ],
   "source": [
    "print(testdata[0]._value)\n",
    "print(testdata[0])"
   ]
  },
  {
   "cell_type": "code",
   "execution_count": 20,
   "metadata": {},
   "outputs": [
    {
     "name": "stdout",
     "output_type": "stream",
     "text": [
      "DictFS.writetext() error trying to set child\n",
      "DictFS::writetext(): parpath: /1, entryname: spec, target: <Dcel.Dcel object at 0x7faf906104c0>\n",
      "DictFS.writetext() error trying to set child\n",
      "DictFS::writetext(): parpath: /1, entryname: file, target: <Dcel.Dcel object at 0x7faf906104c0>\n",
      "DictFS.writetext() error trying to set child\n",
      "DictFS::writetext(): parpath: /1, entryname: mntopts, target: <Dcel.Dcel object at 0x7faf906104c0>\n"
     ]
    }
   ],
   "source": [
    "from HienaMP import hiena_mp\n",
    "from DictFS import DictFS\n",
    "\n",
    "hienaout_dcel = Dcel(formula=hiena_mp,args=[fstab_hg, ~testdata[0]])\n",
    "hienaout_d = Dcel(address=hienaout_dcel,service_class=DictFS)\n",
    "\n",
    "a = hienaout_d['1']['spec'] = \"hello\"\n",
    "b = hienaout_d['1']['file'] = \"/users/raygan\"\n",
    "c = hienaout_d['1']['mntopts'] = \"user,userid=borris@bomber.com,shortid=snafu\"\n"
   ]
  },
  {
   "cell_type": "code",
   "execution_count": 21,
   "metadata": {},
   "outputs": [
    {
     "name": "stdout",
     "output_type": "stream",
     "text": [
      "url / cburnfs user,userid=raygan@raygan.com,shortid=u 0 0\n",
      "hello /users/raygan cburnfs user,userid=borris@bomber.com,shortid=snafu 0 0\n"
     ]
    }
   ],
   "source": [
    "print(testdata[0]._value)\n",
    "print(testdata[0])"
   ]
  },
  {
   "cell_type": "code",
   "execution_count": 22,
   "metadata": {},
   "outputs": [
    {
     "ename": "AttributeError",
     "evalue": "'str' object has no attribute 'service'",
     "output_type": "error",
     "traceback": [
      "\u001b[0;31m---------------------------------------------------------------------------\u001b[0m",
      "\u001b[0;31mAttributeError\u001b[0m                            Traceback (most recent call last)",
      "\u001b[0;32m/tmp/ipykernel_28794/1585412674.py\u001b[0m in \u001b[0;36m<module>\u001b[0;34m\u001b[0m\n\u001b[0;32m----> 1\u001b[0;31m \u001b[0mprint\u001b[0m\u001b[0;34m(\u001b[0m\u001b[0;34mf\"{a.service._map} {a}\"\u001b[0m\u001b[0;34m)\u001b[0m\u001b[0;34m\u001b[0m\u001b[0;34m\u001b[0m\u001b[0m\n\u001b[0m\u001b[1;32m      2\u001b[0m \u001b[0mprint\u001b[0m\u001b[0;34m(\u001b[0m\u001b[0;34mf\"{b.service._map} {b}\"\u001b[0m\u001b[0;34m)\u001b[0m\u001b[0;34m\u001b[0m\u001b[0;34m\u001b[0m\u001b[0m\n\u001b[1;32m      3\u001b[0m \u001b[0mprint\u001b[0m\u001b[0;34m(\u001b[0m\u001b[0;34mf\"{c.service._map} {c}\"\u001b[0m\u001b[0;34m)\u001b[0m\u001b[0;34m\u001b[0m\u001b[0;34m\u001b[0m\u001b[0m\n",
      "\u001b[0;31mAttributeError\u001b[0m: 'str' object has no attribute 'service'"
     ]
    }
   ],
   "source": [
    "print(f\"{a.service._map} {a}\")\n",
    "print(f\"{b.service._map} {b}\")\n",
    "print(f\"{c.service._map} {c}\")"
   ]
  },
  {
   "cell_type": "code",
   "execution_count": null,
   "metadata": {},
   "outputs": [],
   "source": [
    "print(testdata[0]._map)\n",
    "print(repr(testdata[0]))\n",
    "print(repr(hienaout['1']['spec'].service))\n",
    "print(hienaout['1']['spec'].service._map)\n",
    "print(repr(hienaout['1']['spec']))\n",
    "print(repr(hienaout['1']['file']))\n",
    "print(repr(hienaout['1']['mntopts']))\n",
    "# WARNING - Any moves to print 'testdata[0]'\n",
    "# after this will re-calculate the string, corrupting it."
   ]
  },
  {
   "cell_type": "code",
   "execution_count": null,
   "metadata": {},
   "outputs": [],
   "source": [
    "print(testdata[0])"
   ]
  },
  {
   "cell_type": "code",
   "execution_count": null,
   "metadata": {},
   "outputs": [],
   "source": [
    "print(testdata[0])\n",
    "hienaout = hiena_mp(fstab_hg, testdata[0])\n",
    "hienaout['1']['spec'].value = \"url\"\n",
    "print(testdata[0])\n"
   ]
  },
  {
   "cell_type": "code",
   "execution_count": null,
   "metadata": {},
   "outputs": [],
   "source": [
    "# Find relationship between input Dcel testdata[0] and output dict value Dcels.\n",
    "print(type(hienaout))\n",
    "print(repr(testdata[0]))\n",
    "print(repr(hienaout['1']['spec'].service))\n",
    "print(repr(hienaout['1']['spec'].service.service))\n",
    "assert(testdata[0] is hienaout['1']['spec'].service.service)\n",
    "\n",
    "# In this particular case, base is two level deep.\n",
    "\n",
    "print(hienaout['1']['spec'].service)\n",
    "print(hienaout['1']['spec'].service.service)\n",
    "\n",
    "# and the fragment map has propogated.\n",
    "# ** This was fixed in the Dcel code. **\n",
    "\n",
    "a = hienaout['1']['spec'].service\n",
    "b = hienaout['1']['spec'].service.service\n",
    "\n",
    "print(a._map)\n",
    "print(b._map)\n",
    "\n",
    "# Now we see that the backing has no map. The map is generated in the write phase.\n",
    "\n",
    "hienaout['1']['file'].value = \"blue\"\n",
    "\n",
    "print(f\"{a} {a._map}\")\n",
    "print(f\"{b} {b._map}\")"
   ]
  },
  {
   "cell_type": "code",
   "execution_count": null,
   "metadata": {},
   "outputs": [],
   "source": [
    "print(testdata[0])"
   ]
  },
  {
   "cell_type": "code",
   "execution_count": null,
   "metadata": {},
   "outputs": [],
   "source": [
    "from HienaMP import hiena_mp\n",
    "\n",
    "hienaout = [ hiena_mp(fstab_hg,data)\n",
    "               for data in testdata\n",
    "              ]\n",
    "for each in hienaout:\n",
    "    print(each)"
   ]
  },
  {
   "cell_type": "code",
   "execution_count": null,
   "metadata": {},
   "outputs": [],
   "source": [
    "from DcelJSONEncoder import DcelJSONEncoder\n",
    "from json import dumps\n",
    "\n",
    "for each in hienaout:\n",
    "    print(dumps(each,cls=DcelJSONEncoder))"
   ]
  },
  {
   "cell_type": "code",
   "execution_count": null,
   "metadata": {},
   "outputs": [],
   "source": [
    "# Dcel formula version\n",
    "# NOTE: must use the '~testdata' tilde notation\n",
    "#  to create a Dcel reference, or the Dcel won't bind.\n",
    "hienaout = Dcel(formula=hiena_mp,args=[fstab_hg,~testdata[0]])\n",
    "print(hienaout)\n",
    "print(dumps(hienaout,cls=DcelJSONEncoder))"
   ]
  },
  {
   "cell_type": "code",
   "execution_count": null,
   "metadata": {},
   "outputs": [],
   "source": [
    "# assign to slice will write through to backing. acting funny, though.\n",
    "spec = hienaout.value[\"1\"][\"spec\"]\n",
    "print(f\"spec {repr(spec.address)} {spec}\")\n",
    "print(f\"spec.service {repr(spec.service)} {spec.service}\")\n",
    "spec.value = \"hello\"\n",
    "print(f\"spec.service {repr(spec.service)} {spec.service}\")\n",
    "print(f\"testdata[0] {repr(testdata[0])} {testdata[0]}\")\n",
    "print(hienaout.value[\"1\"][\"spec\"])\n",
    "\n",
    "from DictFS import DictFS\n",
    "print(\"\\n\")\n",
    "hienaoutdictfs = Dcel(address=hienaout, service_class=DictFS)\n",
    "specref = hienaoutdictfs.value[\"1\"][\"spec\"]\n",
    "print(f\"{repr(specref.address)} {specref}\")\n",
    "print(f\"{repr(specref.service)} {specref.service}\")\n",
    "specref.value = \"hello\"\n",
    "print(f\"{repr(specref.service)} {specref.service}\")\n",
    "print(f\"{repr(testdata[0])} {testdata[0]}\")\n",
    "print(hienaoutdictfs[\"1\"][\"spec\"])"
   ]
  },
  {
   "cell_type": "code",
   "execution_count": null,
   "metadata": {},
   "outputs": [],
   "source": [
    "d = Dcel(\"hi there\")\n",
    "e = d[3:8]\n",
    "e.value = \"bra\"\n",
    "print(d)"
   ]
  },
  {
   "cell_type": "code",
   "execution_count": null,
   "metadata": {},
   "outputs": [],
   "source": [
    "print(hienaout.value[\"1\"][\"spec\"])"
   ]
  },
  {
   "cell_type": "code",
   "execution_count": null,
   "metadata": {},
   "outputs": [],
   "source": [
    "# I want this to modify the fragment map.\n",
    "hienaout[\"1\"][\"mntopts\"]='user,userid=randypony,shortid=rp'\n",
    "print(dumps(hienaout[\"1\"],cls=DcelJSONEncoder))\n",
    "# prove that the dict contains the same Dcel at mntopts value.\n",
    "print(hienaout)"
   ]
  },
  {
   "cell_type": "code",
   "execution_count": null,
   "metadata": {},
   "outputs": [],
   "source": [
    "target = hienaoutcel[\"1\"][\"mntopts\"]\n",
    "target.address, target.service"
   ]
  },
  {
   "cell_type": "code",
   "execution_count": null,
   "metadata": {},
   "outputs": [],
   "source": [
    "target.value = \"hello\"\n",
    "print(hienaoutcel)"
   ]
  },
  {
   "cell_type": "code",
   "execution_count": null,
   "metadata": {},
   "outputs": [],
   "source": [
    "dumps(hienaoutcel,cls=DcelJSONEncoder)"
   ]
  },
  {
   "cell_type": "code",
   "execution_count": null,
   "metadata": {},
   "outputs": [],
   "source": []
  }
 ],
 "metadata": {
  "kernelspec": {
   "display_name": "Python 3 (ipykernel)",
   "language": "python",
   "name": "python3"
  },
  "language_info": {
   "codemirror_mode": {
    "name": "ipython",
    "version": 3
   },
   "file_extension": ".py",
   "mimetype": "text/x-python",
   "name": "python",
   "nbconvert_exporter": "python",
   "pygments_lexer": "ipython3",
   "version": "3.10.12"
  }
 },
 "nbformat": 4,
 "nbformat_minor": 2
}
