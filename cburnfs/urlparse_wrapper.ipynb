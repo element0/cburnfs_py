{
 "cells": [
  {
   "cell_type": "markdown",
   "metadata": {},
   "source": [
    "# URL Parse Wrapper\n",
    "\n",
    "Parses URL into dict a la urllib."
   ]
  },
  {
   "cell_type": "code",
   "execution_count": 2,
   "metadata": {},
   "outputs": [],
   "source": [
    "from urllib.parse import urlparse\n",
    "\n",
    "def urlparse_wrapper(urlstr) -> dict:\n",
    "    # Just in case the urlstr is a Dcel (and most likely it is)\n",
    "    # urlstr is put through str().\n",
    "    p = urlparse(str(urlstr))\n",
    "    return { \n",
    "        'scheme':p.scheme,\n",
    "        'netloc':p.netloc,\n",
    "        'path':p.path,\n",
    "        'params':p.params,\n",
    "        'query':p.query,\n",
    "        'fragment':p.fragment,\n",
    "    }"
   ]
  },
  {
   "cell_type": "code",
   "execution_count": 5,
   "metadata": {
    "scrolled": true
   },
   "outputs": [
    {
     "data": {
      "text/plain": [
       "{'scheme': 'file',\n",
       " 'netloc': 'raygan@raygan.com.alpha',\n",
       " 'path': '/baker.charlie',\n",
       " 'params': '',\n",
       " 'query': '',\n",
       " 'fragment': ''}"
      ]
     },
     "execution_count": 5,
     "metadata": {},
     "output_type": "execute_result"
    }
   ],
   "source": [
    "\n",
    "urlstr = 'file://raygan@raygan.com.alpha/baker.charlie'\n",
    "urlparse_wrapper(str(urlstr))"
   ]
  },
  {
   "cell_type": "code",
   "execution_count": 15,
   "metadata": {},
   "outputs": [
    {
     "name": "stdout",
     "output_type": "stream",
     "text": [
      "{'scheme': 'file', 'netloc': 'raygan@raygan.com.alpha', 'path': '/baker.charlie', 'params': '', 'query': '', 'fragment': ''}\n"
     ]
    }
   ],
   "source": [
    "from Dcel import Dcel\n",
    "urlstr = Dcel('file://raygan@raygan.com.alpha/baker.charlie')\n",
    "res = urlparse_wrapper(str(urlstr))\n",
    "print(res)"
   ]
  },
  {
   "cell_type": "code",
   "execution_count": 19,
   "metadata": {},
   "outputs": [
    {
     "name": "stdout",
     "output_type": "stream",
     "text": [
      "<class 'bytes'>\n",
      "b'file'\n"
     ]
    }
   ],
   "source": [
    "print(type(res['scheme']))\n",
    "print(res['scheme'])"
   ]
  },
  {
   "cell_type": "code",
   "execution_count": 17,
   "metadata": {},
   "outputs": [],
   "source": [
    "from DictFS import DictFS\n",
    "resdic = Dcel(res,service_class=DictFS)"
   ]
  },
  {
   "cell_type": "code",
   "execution_count": 18,
   "metadata": {},
   "outputs": [
    {
     "name": "stdout",
     "output_type": "stream",
     "text": [
      "b'file'\n"
     ]
    }
   ],
   "source": [
    "print(resdic['scheme'])"
   ]
  },
  {
   "cell_type": "code",
   "execution_count": null,
   "metadata": {},
   "outputs": [],
   "source": []
  }
 ],
 "metadata": {
  "kernelspec": {
   "display_name": "Python 3.9",
   "language": "python",
   "name": "python3"
  },
  "language_info": {
   "codemirror_mode": {
    "name": "ipython",
    "version": 3
   },
   "file_extension": ".py",
   "mimetype": "text/x-python",
   "name": "python",
   "nbconvert_exporter": "python",
   "pygments_lexer": "ipython3",
   "version": "3.9.5"
  }
 },
 "nbformat": 4,
 "nbformat_minor": 2
}
