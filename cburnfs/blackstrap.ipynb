{
 "cells": [
  {
   "cell_type": "markdown",
   "metadata": {},
   "source": [
    "# Blackstrap Service\n",
    "\n",
    "The Blackstrap service proxies a local file service for situations where there may be a sandbox and it is desirable to use a hostname in the url.\n",
    "\n",
    "Normally the file url i"
   ]
  },
  {
   "cell_type": "code",
   "execution_count": 1,
   "metadata": {},
   "outputs": [],
   "source": [
    "from fs.osfs import OSFS\n",
    "from fs.errors import CreateFailed\n",
    "from fs.info import Info\n",
    "from socket import gethostname\n",
    "from urllib.parse import urlparse\n",
    "import six\n",
    "from os import statvfs\n",
    "\n",
    "\n",
    "\n",
    "\"\"\"\n",
    "0.3\n",
    "changed: initClass() --> initHost(name)\n",
    "changed: addShare() removed hostname\n",
    "changed: __init__() use url to init\n",
    "changed: subclasses OSFS\n",
    "\n",
    "0.2c\n",
    "added: generateShareId(hostname, sharename)\n",
    "changed: shareId is now 'share.host' subdomain style\n",
    "         to be able to map to a file name.\n",
    "fixed: now calls super class init\n",
    "fixed: missing import SubFS\n",
    "fixed: now passthru all fs methods\n",
    "\"\"\"\n",
    "\n",
    "def generateShareId(hostname, sharename):\n",
    "    return sharename +'.'+ hostname\n",
    "\n",
    "class BlackstrapFS(OSFS):\n",
    "    \n",
    "    \n",
    "    ###### class methods ######\n",
    "\n",
    "    # class method\n",
    "    def initHost(hostname=None):\n",
    "        \"\"\"\n",
    "        0.1\n",
    "        The BlackstrapFS serves files from\n",
    "        a virtual context. The context is\n",
    "        kept inside the class.\n",
    "        \"\"\"\n",
    "        if hostname is None:\n",
    "            BlackstrapFS.__hostname = gethostname()\n",
    "        else:\n",
    "            BlackstrapFS.__hostname = hostname\n",
    "        BlackstrapFS.__shares = dict()\n",
    "        \n",
    "        return BlackstrapFS\n",
    "    \n",
    "    \n",
    "    \n",
    "    # class method\n",
    "    def addShare(srcaddr,\n",
    "                 sharename\n",
    "                ):\n",
    "        \"\"\"\n",
    "        0.1\n",
    "        Shares are added to the class itself.\n",
    "        An instance of the service can\n",
    "        select which share to serve.\n",
    "        \"\"\"\n",
    "        \n",
    "        #todo: check for blank hostname\n",
    "        #todo: check for existing before...\n",
    "        \n",
    "        shares = BlackstrapFS.__shares\n",
    "        \n",
    "        shareid = generateShareId( \n",
    "            BlackstrapFS.__hostname, \n",
    "            sharename)\n",
    "        \n",
    "        shares[shareid] = srcaddr\n",
    "        \n",
    "        return BlackstrapFS\n",
    "    \n",
    "    # class method\n",
    "    def closeHost():\n",
    "        pass\n",
    "    \n",
    "    ###### Instance methods ######\n",
    "    \n",
    "    def __init__(self,urlstr,*args):\n",
    "        # todo: require file scheme\n",
    "        self._urlstr = urlstr\n",
    "        \n",
    "        url = urlparse(urlstr)\n",
    "        self.url = url\n",
    "        shares = BlackstrapFS.__shares\n",
    "        shareid = url.netloc\n",
    "        \n",
    "        try:\n",
    "            sharepath = shares[shareid]\n",
    "            realpath = sharepath+'/'+url.path\n",
    "        except:\n",
    "            raise CreateFailed(shareid)\n",
    "        \n",
    "        self.__addr = realpath\n",
    "        super().__init__(realpath,*args)\n",
    "        \n",
    "    def getinfo(self, path='/',namespaces=None):\n",
    "        info_raw = super().getinfo(path, namespaces).raw\n",
    "        if namespaces != None and 'limits' in namespaces:\n",
    "            st = statvfs(self.__addr)\n",
    "            if st != None:\n",
    "                bsize = st.f_bsize\n",
    "                total = bsize * st.f_blocks\n",
    "                used = total - (bsize * st.f_bfree)\n",
    "                free = bsize * st.f_bavail\n",
    "                info_raw['limits'] = {\n",
    "                    self._urlstr: {\n",
    "                        'total': total,\n",
    "                        'used': used,\n",
    "                        'free': free                        \n",
    "                    }\n",
    "                }\n",
    "        return Info(info_raw)\n",
    "        \n",
    "        \n",
    "    def geturl(self,path):\n",
    "        # if path starts with '/'\n",
    "        _urlstr = self._urlstr.rstrip('/')\n",
    "        _path = path.lstrip('/')\n",
    "        if(_path == \"\"):\n",
    "            # if there is no path,\n",
    "            # we must return _urlstr as inited.\n",
    "            # It may match an entry in the fstab.\n",
    "            return self._urlstr\n",
    "        return f\"{_urlstr}/{_path}\"\n",
    "        \n",
    "        \n",
    "    def _close(self):\n",
    "        pass\n",
    "    \n",
    "    if six.PY2:\n",
    "        def close(self):  # noqa: D102\n",
    "            self._close()\n",
    "            super(BlackstrapFS, self).close()\n",
    "    else:\n",
    "        def close(self): # noqa: D102\n",
    "            self._close()\n",
    "            super().close()\n",
    "                    \n",
    "            \n",
    "    ####################\n",
    "    #  cosmos API      #\n",
    "    ####################\n",
    "    \n",
    "    # DEPRICATE THIS\n",
    "    # DO NOT ADD EXTERNAL API\n",
    "\n",
    "    def lookup(self, path, base=None):\n",
    "        # FIXME: Placeholder.\n",
    "        return True\n",
    "    "
   ]
  },
  {
   "cell_type": "code",
   "execution_count": 2,
   "metadata": {},
   "outputs": [
    {
     "data": {
      "text/plain": [
       "{'basic': {'name': '', 'is_dir': True}}"
      ]
     },
     "execution_count": 2,
     "metadata": {},
     "output_type": "execute_result"
    }
   ],
   "source": [
    "hostname = gethostname()\n",
    "\n",
    "BlackstrapFS.initHost('localhost')\n",
    "BlackstrapFS.addShare(\n",
    "    srcaddr = 'fs',\n",
    "    sharename = 'fs'\n",
    ").addShare(\n",
    "    srcaddr = 'fs2',\n",
    "    sharename = 'fs2'\n",
    ")\n",
    "\n",
    "fs1 = BlackstrapFS('file://fs.localhost/')\n",
    "fs1.getinfo('/').raw\n"
   ]
  },
  {
   "cell_type": "code",
   "execution_count": 5,
   "metadata": {},
   "outputs": [
    {
     "data": {
      "text/plain": [
       "{'basic': {'name': '', 'is_dir': True},\n",
       " 'limits': {'total': 121938661376, 'used': 99792695296, 'free': 15880413184}}"
      ]
     },
     "execution_count": 5,
     "metadata": {},
     "output_type": "execute_result"
    }
   ],
   "source": [
    "fs1.getinfo('/', namespaces=['limits']).raw"
   ]
  },
  {
   "cell_type": "code",
   "execution_count": 5,
   "metadata": {},
   "outputs": [
    {
     "name": "stdout",
     "output_type": "stream",
     "text": [
      "myiphone\n"
     ]
    },
    {
     "ename": "CreateFailed",
     "evalue": "root path '/fs' does not exist",
     "output_type": "error",
     "traceback": [
      "\u001b[0;31m---------------------------------------------------------------------------\u001b[0m",
      "\u001b[0;31mCreateFailed\u001b[0m                              Traceback (most recent call last)",
      "\u001b[0;32m<ipython-input-5-08f1ca454809>\u001b[0m in \u001b[0;36m<module>\u001b[0;34m\u001b[0m\n\u001b[1;32m      3\u001b[0m \u001b[0;34m\u001b[0m\u001b[0m\n\u001b[1;32m      4\u001b[0m \u001b[0mprint\u001b[0m\u001b[0;34m(\u001b[0m\u001b[0mgethostname\u001b[0m\u001b[0;34m(\u001b[0m\u001b[0;34m)\u001b[0m\u001b[0;34m)\u001b[0m\u001b[0;34m\u001b[0m\u001b[0;34m\u001b[0m\u001b[0m\n\u001b[0;32m----> 5\u001b[0;31m \u001b[0mopen\u001b[0m\u001b[0;34m(\u001b[0m\u001b[0;34m'file:///fs'\u001b[0m\u001b[0;34m)\u001b[0m\u001b[0;34m\u001b[0m\u001b[0;34m\u001b[0m\u001b[0m\n\u001b[0m",
      "\u001b[0;32m/var/mobile/Containers/Data/Application/9DBD9C20-8AA4-43F7-95BF-0F6447F4055C/Library/lib/python3.9/site-packages/fs/opener/registry.py\u001b[0m in \u001b[0;36mopen\u001b[0;34m(self, fs_url, writeable, create, cwd, default_protocol)\u001b[0m\n\u001b[1;32m    184\u001b[0m         \u001b[0mopener\u001b[0m \u001b[0;34m=\u001b[0m \u001b[0mself\u001b[0m\u001b[0;34m.\u001b[0m\u001b[0mget_opener\u001b[0m\u001b[0;34m(\u001b[0m\u001b[0mprotocol\u001b[0m\u001b[0;34m)\u001b[0m\u001b[0;34m\u001b[0m\u001b[0;34m\u001b[0m\u001b[0m\n\u001b[1;32m    185\u001b[0m \u001b[0;34m\u001b[0m\u001b[0m\n\u001b[0;32m--> 186\u001b[0;31m         \u001b[0mopen_fs\u001b[0m \u001b[0;34m=\u001b[0m \u001b[0mopener\u001b[0m\u001b[0;34m.\u001b[0m\u001b[0mopen_fs\u001b[0m\u001b[0;34m(\u001b[0m\u001b[0mfs_url\u001b[0m\u001b[0;34m,\u001b[0m \u001b[0mparse_result\u001b[0m\u001b[0;34m,\u001b[0m \u001b[0mwriteable\u001b[0m\u001b[0;34m,\u001b[0m \u001b[0mcreate\u001b[0m\u001b[0;34m,\u001b[0m \u001b[0mcwd\u001b[0m\u001b[0;34m)\u001b[0m\u001b[0;34m\u001b[0m\u001b[0;34m\u001b[0m\u001b[0m\n\u001b[0m\u001b[1;32m    187\u001b[0m         \u001b[0;32mreturn\u001b[0m \u001b[0mopen_fs\u001b[0m\u001b[0;34m,\u001b[0m \u001b[0mopen_path\u001b[0m\u001b[0;34m\u001b[0m\u001b[0;34m\u001b[0m\u001b[0m\n\u001b[1;32m    188\u001b[0m \u001b[0;34m\u001b[0m\u001b[0m\n",
      "\u001b[0;32m/var/mobile/Containers/Data/Application/9DBD9C20-8AA4-43F7-95BF-0F6447F4055C/Library/lib/python3.9/site-packages/fs/opener/osfs.py\u001b[0m in \u001b[0;36mopen_fs\u001b[0;34m(self, fs_url, parse_result, writeable, create, cwd)\u001b[0m\n\u001b[1;32m     38\u001b[0m         \u001b[0m_path\u001b[0m \u001b[0;34m=\u001b[0m \u001b[0mabspath\u001b[0m\u001b[0;34m(\u001b[0m\u001b[0mjoin\u001b[0m\u001b[0;34m(\u001b[0m\u001b[0mcwd\u001b[0m\u001b[0;34m,\u001b[0m \u001b[0mexpanduser\u001b[0m\u001b[0;34m(\u001b[0m\u001b[0mparse_result\u001b[0m\u001b[0;34m.\u001b[0m\u001b[0mresource\u001b[0m\u001b[0;34m)\u001b[0m\u001b[0;34m)\u001b[0m\u001b[0;34m)\u001b[0m\u001b[0;34m\u001b[0m\u001b[0;34m\u001b[0m\u001b[0m\n\u001b[1;32m     39\u001b[0m         \u001b[0mpath\u001b[0m \u001b[0;34m=\u001b[0m \u001b[0mnormpath\u001b[0m\u001b[0;34m(\u001b[0m\u001b[0m_path\u001b[0m\u001b[0;34m)\u001b[0m\u001b[0;34m\u001b[0m\u001b[0;34m\u001b[0m\u001b[0m\n\u001b[0;32m---> 40\u001b[0;31m         \u001b[0mosfs\u001b[0m \u001b[0;34m=\u001b[0m \u001b[0mOSFS\u001b[0m\u001b[0;34m(\u001b[0m\u001b[0mpath\u001b[0m\u001b[0;34m,\u001b[0m \u001b[0mcreate\u001b[0m\u001b[0;34m=\u001b[0m\u001b[0mcreate\u001b[0m\u001b[0;34m)\u001b[0m\u001b[0;34m\u001b[0m\u001b[0;34m\u001b[0m\u001b[0m\n\u001b[0m\u001b[1;32m     41\u001b[0m         \u001b[0;32mreturn\u001b[0m \u001b[0mosfs\u001b[0m\u001b[0;34m\u001b[0m\u001b[0;34m\u001b[0m\u001b[0m\n",
      "\u001b[0;32m/var/mobile/Containers/Data/Application/9DBD9C20-8AA4-43F7-95BF-0F6447F4055C/Library/lib/python3.9/site-packages/fs/osfs.py\u001b[0m in \u001b[0;36m__init__\u001b[0;34m(self, root_path, create, create_mode, expand_vars)\u001b[0m\n\u001b[1;32m    139\u001b[0m             \u001b[0;32mif\u001b[0m \u001b[0;32mnot\u001b[0m \u001b[0mos\u001b[0m\u001b[0;34m.\u001b[0m\u001b[0mpath\u001b[0m\u001b[0;34m.\u001b[0m\u001b[0misdir\u001b[0m\u001b[0;34m(\u001b[0m\u001b[0m_root_path\u001b[0m\u001b[0;34m)\u001b[0m\u001b[0;34m:\u001b[0m\u001b[0;34m\u001b[0m\u001b[0;34m\u001b[0m\u001b[0m\n\u001b[1;32m    140\u001b[0m                 \u001b[0mmessage\u001b[0m \u001b[0;34m=\u001b[0m \u001b[0;34m\"root path '{}' does not exist\"\u001b[0m\u001b[0;34m.\u001b[0m\u001b[0mformat\u001b[0m\u001b[0;34m(\u001b[0m\u001b[0m_root_path\u001b[0m\u001b[0;34m)\u001b[0m\u001b[0;34m\u001b[0m\u001b[0;34m\u001b[0m\u001b[0m\n\u001b[0;32m--> 141\u001b[0;31m                 \u001b[0;32mraise\u001b[0m \u001b[0merrors\u001b[0m\u001b[0;34m.\u001b[0m\u001b[0mCreateFailed\u001b[0m\u001b[0;34m(\u001b[0m\u001b[0mmessage\u001b[0m\u001b[0;34m)\u001b[0m\u001b[0;34m\u001b[0m\u001b[0;34m\u001b[0m\u001b[0m\n\u001b[0m\u001b[1;32m    142\u001b[0m \u001b[0;34m\u001b[0m\u001b[0m\n\u001b[1;32m    143\u001b[0m         _meta = self._meta = {\n",
      "\u001b[0;31mCreateFailed\u001b[0m: root path '/fs' does not exist"
     ]
    }
   ],
   "source": [
    "from fs.opener import open\n",
    "from socket import gethostname\n",
    "\n",
    "print(gethostname())\n",
    "open('file://fs')"
   ]
  }
 ],
 "metadata": {
  "kernelspec": {
   "display_name": "Python 3.9",
   "language": "python",
   "name": "python3"
  },
  "language_info": {
   "codemirror_mode": {
    "name": "ipython",
    "version": 3
   },
   "file_extension": ".py",
   "mimetype": "text/x-python",
   "name": "python",
   "nbconvert_exporter": "python",
   "pygments_lexer": "ipython3",
   "version": "3.9.5"
  }
 },
 "nbformat": 4,
 "nbformat_minor": 5
}
