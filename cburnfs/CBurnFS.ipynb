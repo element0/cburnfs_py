{
 "cells": [
  {
   "cell_type": "markdown",
   "metadata": {},
   "source": [
    "# CBurnFS\n",
    "\n",
    "    a = CBurnFS(bootpath)\n",
    "    \n",
    "CBurnFS creates a wrapper around an instance of `MulticelFS` and manages its configuration.\n",
    "\n",
    "### Management Role\n",
    "\n",
    "CBurnFS adds and removes members from the `MulticelFS` and configures authentication. It reads and writes state in the `@` provided by the multicel.\n",
    "\n",
    "### Delegation\n",
    "\n",
    "The `MulticelFS` is responsible for combining multiple domains and for reporting item membership in the `getinfo()` output.\n",
    "\n",
    "### Metadata\n",
    "\n",
    "The \n",
    "    \n",
    "## Init\n",
    "\n",
    "For each entry in `bootpath`/`.cosm/etc/fstab`, create a Dcel.\n",
    "\n",
    "    -> dcel_list\n",
    "\n",
    "Then create a `Dcel(dcel_list, MulticelFS)`\n",
    "\n",
    "    -> root\n",
    "\n",
    "Set `root` as the CBurnFS instance's root resource.\n",
    "\n",
    "    self.root = root\n",
    "\n",
    "Rock and roll.\n",
    "\n",
    "## File-change Notifications\n",
    "\n",
    "File notifications are PLANNED to be implemented as follows:\n",
    "\n",
    "Keeps a registry of *tags*.\n",
    "\n",
    "For each tag in the registry, there can be one or more *listeners*.\n",
    "\n",
    "A listener is notified over a channel.\n",
    "\n",
    "A an example remote listener: `https://api.example.com/file-did-update`\n",
    "\n",
    "would receive whatever message was assigned to the tag for a given flow.\n",
    "\n",
    "Ie. as part of some subject's metadata:\n",
    "\n",
    "    flow:\n",
    "        some-tag: message .\n",
    "        \n",
    "Would result in:\n",
    "\n",
    "    POST: { some-tag: [ message, url-of-subject ] }\n",
    "    \n",
    "An example local listener: `callback`\n",
    "\n",
    "Would result in:\n",
    "\n",
    "    callback(message,url-of-subject)\n",
    "    \n",
    "### Listener Objects\n",
    "\n",
    "A listener object could wrap any sort of communication channel. The object would then be registered to the tag-registry, and it's `notify()` method would be called when appropriate.\n",
    "\n",
    "    class MyListener():\n",
    "        def notify(message, subject_url):\n",
    "            # process\n",
    "\n",
    "### Notify on Change\n",
    "\n",
    "In order to implement notifications when files are changed, all FS methods which create change must be overridden. This will be a work in progress.\n",
    "\n",
    "The most obvious method that needs to be implemented is writetext() since it could be used to write the 'fstab' file, and thereby trigger `_reinit()` within the filesystem.\n",
    "\n",
    "\n",
    "## Concurrency\n",
    "\n",
    "There may be certain expectations about file system commands and their results, about how they are anticipated by the user to behave concurrently.\n",
    "\n",
    "### Blocking and Resource Busy\n",
    "\n",
    "Given a single user at a single machine, using a terminal, a file system command is issued, the terminal blocks until it is complete.\n",
    "\n",
    "Another user, logged in via ssh, may see that a resource is busy, but would not know what operation was being performed on the resource. This user, however, would still expect to have access to the file system. Other resources within it would be expected to be available.\n",
    "\n",
    "### CBurnFS's expectations for blocking\n",
    "\n",
    "User 1 loads a resource from the web. The page-load is the blocking operation.\n",
    "\n",
    "User 2 loads another resource from the web. Does not expect that User 1's page-load would block User 2.\n",
    "\n",
    "The most important blocking request types that can be expected are directories, and file contents.\n",
    "\n",
    "    USERAGENT ---request---> WEBSERVER ---request---> FILESYSTEM ---\n",
    "                                                                    |\n",
    "    USERAGENT <--response--- WEBSERVER <--response------------------\n",
    "\n",
    "#### Non-blocking\n",
    "\n",
    "User 1 sets a property of a file or directory via webui. The user expects the update to happen in the background while the user continues to use the page. The user would also like to be able to navigate to another page without necessarily waiting for the property update to complete.\n",
    "\n",
    "\n",
    "#### Pending Progress\n",
    "\n",
    "When a non-blocking file system task is started, a `progess_id` is created and a `progress` item is added into the getinfo content of the file.\n",
    "\n",
    "    {\n",
    "      'progress': {\n",
    "        'updateHosts': {\n",
    "          {{ hostname }}: {{ progress_id }}\n",
    "        },\n",
    "        'removeHosts': {\n",
    "          {{ hostname }}: {{ progress_id }}\n",
    "        }\n",
    "      }\n",
    "    }\n",
    "\n",
    "In this way, multiple calls to 'updateHosts' with the same hostname will share a single result -- if the updateHosts() handler checks for an existing `progress_id`. The CBurnFS needs to keep track of hung or vaporized tasks. \n",
    "\n",
    "    {\n",
    "      'task-map': {\n",
    "        {{ progress_id }}: {{ task_handle }}\n",
    "      }\n",
    "    }\n",
    "\n",
    "When the task completes, the `progress` item is removed and the `progress_id` is added to a `completed` stack.\n",
    "\n",
    "    { 'completed': { progress_id: final_status } }\n",
    "    "
   ]
  },
  {
   "cell_type": "code",
   "execution_count": 2,
   "metadata": {},
   "outputs": [],
   "source": [
    "from fs.osfs import OSFS\n",
    "from fs.base import FS\n",
    "from fs.info import Info\n",
    "from fs.errors import ResourceNotFound\n",
    "from fs.copy import copy_dir, copy_file\n",
    "\n",
    "from MulticelFS import MulticelFS\n",
    "from Dcel import Dcel # TODO: factor out\n",
    "from APath import APath\n",
    "from Fudge import Fudge\n",
    "from metafs import MetaFS\n",
    "from metafs_proxy import MetaFSProxy\n",
    "\n",
    "from copy import deepcopy\n",
    "import json\n",
    "import six\n",
    "from urllib.parse import urlparse\n",
    "from os.path import split\n",
    "if six.PY2:\n",
    "    from urllib import unquote\n",
    "else:\n",
    "    from urllib.parse import unquote\n",
    "from threading import Thread\n",
    "\n",
    "#for merge lib (tbd): mergeinfo\n",
    "\n",
    "\n",
    "_version='0.18'\n",
    "\n",
    "# Adding MetaFSProxy to store custom metadata.\n",
    "\n",
    "# --- version 0.16 goals INHERIT\n",
    "# Refactoring to simplify dependencies.\n",
    "# Goal is an independent, installable python module.\n",
    "\n",
    "# usage:\n",
    "# cbfs = CBurnFS(bootpath)\n",
    "\n",
    "def init_dcel_from_url(boot,url):\n",
    "    dc = None\n",
    "    return dc\n",
    "\n",
    "FSTAB_RELPATH = '@/etc/fstab'\n",
    "FSTAB_ABSPATH = '/@/etc/fstab'\n",
    "\n",
    "def metafs_set_progress(metafs, path, functionName, host, status):\n",
    "    info = metafs.getinfo(path).raw\n",
    "    info.update({\"progress\":{functionName:{host:status}}})\n",
    "    metafs.setinfo(path,info)\n",
    "    \n",
    "def metafs_remove_progress(metafs, path, functionName, host):\n",
    "    info = metafs.getinfo(path).raw\n",
    "    del(info['progress'][functionName][host])\n",
    "    if len(info['progress'][functionName]) == 0:\n",
    "        del(info['progress'][functionName])\n",
    "    if len(info['progress']) == 0:\n",
    "        del(info['progress'])\n",
    "    metafs.setinfo(path,info)\n",
    "\n",
    "def copy_executor(metafs, path, host, copy_func, fs1, path1, fs2, path2):\n",
    "    metafs_set_progress(metafs, path, \"updateHosts\", host, \"pending\")\n",
    "    copy_func(fs1, path1, fs2, path2)\n",
    "    metafs_remove_progress(metafs, path, \"updateHosts\", host)\n",
    "    \n",
    "    \n",
    "def remover_executor(metafs, path, host, remover_func, func_self, target_path):\n",
    "    metafs_set_progress(metafs, path, \"removeHosts\", host, \"pending\")\n",
    "    remover_func(target_path)\n",
    "    metafs_remove_progress(metafs, path, \"removeHosts\", host)\n",
    "\n",
    "\n",
    "class CBurnFS(APath):        \n",
    "    \n",
    "    def __loadFstab(self, bootpath: str):\n",
    "        boot = Fudge(bootpath)\n",
    "        # FIXME: must force load of root - consider this a bug\n",
    "        boot_root = boot/'/'\n",
    "        fstab = boot/FSTAB_RELPATH\n",
    "        cels = []\n",
    "        metafs_conf = dict()\n",
    "        for ea in fstab:\n",
    "            \"\"\"\n",
    "            The fstab parser is located in the APath Cosm.\n",
    "            It might not handle tabs. Try to use spaces only.\n",
    "            \"\"\"\n",
    "            if ea/'vfstype' == 'cburnfs':\n",
    "                urlstr = ea/'spec'\n",
    "                _scheme = ea/'spec.url/scheme'\n",
    "                if _scheme == '':\n",
    "                    _scheme = 'file'\n",
    "                service_class = boot._apath.cosm['services'][str(_scheme)].value\n",
    "                try:\n",
    "                    cels += [ Dcel(address=str(urlstr), \n",
    "                                service_class=service_class) ]\n",
    "                except:\n",
    "                    pass\n",
    "            if ea/'vfstype' == 'cburnfs-meta':\n",
    "                '''\n",
    "                The last 'cburn-metafs' defined will succeed.\n",
    "                '''\n",
    "                host_and_port = str(ea/'spec.url/netloc').split(':')\n",
    "                metafs_conf['REDIS_CONTAINER_NAME'] = host_and_port[0]\n",
    "                if len(host_and_port) > 1:\n",
    "                    metafs_conf['REDIS_CONTAINER_PORT'] = int(host_and_port[1])\n",
    "                else:\n",
    "                    metafs_conf['REDIS_CONTAINER_PORT'] = 6379\n",
    "                try:\n",
    "                    metafs_conf['USERPUBLICID'] = str(ea/'mntopts.cskvp/userid')\n",
    "                except:\n",
    "                    metafs_conf['USERPUBLICID'] = 'unset'\n",
    "                try:\n",
    "                    metafs_conf['USERHOMENAME'] = str(ea/'mntopts.cskvp/userhome')\n",
    "                except:\n",
    "                    metafs_conf['USERHOMENAME'] = 'unset'\n",
    "                try:\n",
    "                    metafs_conf['USERFSURL'] = str(ea/'mntopts.cskvp/userurl')\n",
    "                except:\n",
    "                    metafs_conf['UESRFSURL'] = 'unset'\n",
    "                \n",
    "        root = Dcel(\n",
    "            service_class=MulticelFS,\n",
    "            address=cels\n",
    "        )\n",
    "        meta = MetaFS(config=metafs_conf)\n",
    "        return root, meta\n",
    "                \n",
    "    def __init__(self, bootpath: str):\n",
    "        self._bootpath = bootpath\n",
    "        root, meta = self.__loadFstab(bootpath)\n",
    "        self.metafs = meta\n",
    "        metaproxy = MetaFSProxy(root,meta)\n",
    "        super().__init__(Dcel(service=metaproxy))\n",
    "        self._init_listener_system()\n",
    "        \n",
    "    def _reinit(self):\n",
    "        print(f\"CBurnFS::_reinit() called.\")\n",
    "        root = self.__loadFstab(self._bootpath)\n",
    "        super()._reinit(root)\n",
    "        \n",
    "        \n",
    "    # updater magic\n",
    "        \n",
    "    def updateHosts(self,path,hosts):\n",
    "        \n",
    "        metaproxy = self.target.service\n",
    "        metafs = metaproxy.metafs\n",
    "        dcel = metaproxy.targetfs   # note: unsyncs metafs until next getinfo()\n",
    "        svc = dcel.service\n",
    "        \n",
    "        _path = unquote(path)\n",
    "        pathDir,pathBase = split(_path)\n",
    "        \n",
    "        if type(svc) == MulticelFS:   \n",
    "            for host in hosts:\n",
    "                \n",
    "                # get host fs\n",
    "                dest = svc.get_dcel_by_host(host)\n",
    "            \n",
    "                # make path on host fs\n",
    "                destSvc = dest.service\n",
    "                destDirFS = destSvc.makedirs(pathDir,None,True)\n",
    "                \n",
    "                # copy path from multifs\n",
    "                #   to path in host fs\n",
    "                if svc.getinfo(_path).is_dir:\n",
    "                    copy_func = copy_dir\n",
    "                else:\n",
    "                    copy_func = copy_file\n",
    "                    \n",
    "                # WIP This assumes that svc and destDirFS\n",
    "                # are thread-safe.\n",
    "                copy_thread = Thread(target=copy_executor,\n",
    "                    args=[metafs,path,host,\n",
    "                          copy_func,svc,_path,destDirFS,pathBase]\n",
    "                )\n",
    "                copy_thread.start()\n",
    "\n",
    "    def removeHosts(self,path,hosts):\n",
    "        \n",
    "        metaproxy = self.target.service\n",
    "        metafs = metaproxy.metafs\n",
    "        dcel = metaproxy.targetfs   # note: unsyncs metafs until next getinfo()\n",
    "        svc = dcel.service\n",
    "        \n",
    "        _path = unquote(path)\n",
    "        pathDir,pathBase = split(_path)\n",
    "        \n",
    "        if type(svc) == MulticelFS:   \n",
    "            for host in hosts:\n",
    "                # get host fs\n",
    "                dest = svc.get_dcel_by_host(host)\n",
    "        \n",
    "                if dest.getinfo(_path).is_dir:\n",
    "                    remover_func = dest.service.removetree\n",
    "                else:\n",
    "                    remover_func = dest.service.remove\n",
    "                    \n",
    "                # WIP This assumes that dest.service\n",
    "                # is thread-safe.\n",
    "                remover_thread = Thread(target=remover_executor,\n",
    "                    args=[metafs,path,host,\n",
    "                          remover_func,dest.service,_path]\n",
    "                )\n",
    "                remover_thread.start()\n",
    "                    \n",
    "                    \n",
    "    def urlListFromDict(self, path, ob) -> list:\n",
    "        dirlist = list()\n",
    "        if type(ob) is dict:\n",
    "            for each in ob:\n",
    "                dirlist = dirlist + self.urlListFromDict(f\"{path}/{each}\", ob[each])\n",
    "        else:\n",
    "            return [(path, ob)]\n",
    "        return dirlist\n",
    "\n",
    "    def updateMultiValue(self, path, multiValue):\n",
    "        \"\"\"multiValue should already have been parsed.\"\"\"\n",
    "        _path = unquote(path)\n",
    "        actionPairs = self.urlListFromDict(_path, multiValue)\n",
    "        root_fu = Fudge(self)\n",
    "        for url,val in actionPairs:\n",
    "            (root_fu/url)['.'] = val\n",
    "    \n",
    "    # webdav style updaters\n",
    "    \n",
    "    def propertyupdate(self,path,uprq):\n",
    "        \n",
    "        print(f\"CBurnFS::propertyupdate(): path={path}, uprq={uprq}\")\n",
    "        \n",
    "        for verb in uprq:\n",
    "            if verb == 'append':\n",
    "                if \"cburn\" in uprq[verb]:\n",
    "                    target = uprq[verb][\"cburn\"]\n",
    "                    if \"hosts\" in target:\n",
    "                        self.updateHosts(\n",
    "                            path,\n",
    "                            target[\"hosts\"])\n",
    "                    if \"multivalue\" in target:\n",
    "                        self.updateMultiValue(\n",
    "                            path,\n",
    "                            target[\"multivalue\"])\n",
    "                        if(path.startswith(FSTAB_RELPATH)\n",
    "                           or path.startswith(FSTAB_ABSPATH)):\n",
    "                            self._reinit()\n",
    "            \n",
    "            if verb == 'remove':\n",
    "                if \"cburn\" in uprq[verb]:\n",
    "                    target = uprq[verb][\"cburn\"]\n",
    "                    if \"hosts\" in target:\n",
    "                        self.removeHosts(path,\n",
    "                            target[\"hosts\"])\n",
    "                \n",
    "        return 'CBurnFS.propertyupdate():return: improve this response'\n",
    "    \n",
    "    def processRequest(self,path,rq):\n",
    "        # rq is a dict object from flask app.\n",
    "        print(f\"CBurnFS::processRequest() rq={rq}\")\n",
    "        response = dict()\n",
    "        for mod in rq:\n",
    "            if mod == 'propertyupdate':\n",
    "                response[mod] = self.propertyupdate(path,rq[mod])\n",
    "        return response\n",
    "    \n",
    "    # ---- listener notification system ----\n",
    "    \n",
    "    def _init_listener_system(self):\n",
    "        self._flow = {'listen':dict()}\n",
    "        \n",
    "    def add_listener(self,tag,listener):\n",
    "        tags = self._flow['listen']\n",
    "        if not tag in tags:\n",
    "            tags[tag] = []\n",
    "        tags[tag].append = listener\n",
    "        \n",
    "    def remove_listener(self,tag,listener):\n",
    "        tags = self._flow['listen']\n",
    "        if not tag in tags:\n",
    "            return\n",
    "        if listener in tags[tag]:\n",
    "            tags[tag].remove(listener)\n",
    "            \n",
    "    # ---- FS shadow methods ----\n",
    "    \n",
    "    def writetext(self, path=None, contents='', encoding='utf-8',\n",
    "                  errors=None, newline=''):\n",
    "        # dirty hook to avoid fleshing out listener system\n",
    "        if path == FSTAB_ABSPATH:\n",
    "            old_content = self.readtext(path)\n",
    "        if not old_content == contents:\n",
    "            super().writetext(path,contents,encoding,errors,newline)\n",
    "            self._reinit()\n",
    "        "
   ]
  },
  {
   "cell_type": "markdown",
   "metadata": {},
   "source": [
    "## Todo\n",
    "\n",
    "- cburnfs: config location\n",
    "- cburnfs: check for presence of '@/etc/fstab' and error informatively\n",
    "- demodata: location, generator\n",
    "- blackstrap: yaml config\n",
    "- hiena: yaml grammar definitions\n",
    "\n",
    "### Make it Just Work\n",
    "\n",
    "    cbfs = CBurnFS('.')\n",
    "    \n",
    "Should initialize a `CBurnFS` rooted at the input path.\n",
    "\n",
    "Lookup of @/etc/fstab should fail silently\n",
    "-- or at least provide an educational message that \n",
    "the file system is running on a single layer.\n",
    "\n",
    "Adding/Modifying an @/etc/fstab should trigger a\n",
    "re-build of the layers.\n",
    "\n",
    "Adding/Modifying other aspects of @ should modify\n",
    "the Apath Cosm --- provide for extending the services\n",
    "for URL's -- such as s3, file, sftp etc.\n"
   ]
  },
  {
   "cell_type": "markdown",
   "metadata": {},
   "source": [
    "### SETUP TEST ENVIRONMENT"
   ]
  },
  {
   "cell_type": "code",
   "execution_count": 4,
   "metadata": {},
   "outputs": [],
   "source": [
    "# This needs to be tweaked for your environment.\n",
    "# It references mount locations that may not exist.\n",
    "import demo_blackstrap_config"
   ]
  },
  {
   "cell_type": "code",
   "execution_count": 5,
   "metadata": {},
   "outputs": [
    {
     "ename": "ConnectionError",
     "evalue": "Error 111 connecting to localhost:6379. Connection refused.",
     "output_type": "error",
     "traceback": [
      "\u001b[0;31m---------------------------------------------------------------------------\u001b[0m",
      "\u001b[0;31mConnectionRefusedError\u001b[0m                    Traceback (most recent call last)",
      "File \u001b[0;32m~/.local/lib/python3.9/site-packages/redis/connection.py:598\u001b[0m, in \u001b[0;36mConnection.connect\u001b[0;34m(self)\u001b[0m\n\u001b[1;32m    597\u001b[0m \u001b[38;5;28;01mtry\u001b[39;00m:\n\u001b[0;32m--> 598\u001b[0m     sock \u001b[38;5;241m=\u001b[39m \u001b[38;5;28;43mself\u001b[39;49m\u001b[38;5;241;43m.\u001b[39;49m\u001b[43mretry\u001b[49m\u001b[38;5;241;43m.\u001b[39;49m\u001b[43mcall_with_retry\u001b[49m\u001b[43m(\u001b[49m\n\u001b[1;32m    599\u001b[0m \u001b[43m        \u001b[49m\u001b[38;5;28;43;01mlambda\u001b[39;49;00m\u001b[43m:\u001b[49m\u001b[43m \u001b[49m\u001b[38;5;28;43mself\u001b[39;49m\u001b[38;5;241;43m.\u001b[39;49m\u001b[43m_connect\u001b[49m\u001b[43m(\u001b[49m\u001b[43m)\u001b[49m\u001b[43m,\u001b[49m\u001b[43m \u001b[49m\u001b[38;5;28;43;01mlambda\u001b[39;49;00m\u001b[43m \u001b[49m\u001b[43merror\u001b[49m\u001b[43m:\u001b[49m\u001b[43m \u001b[49m\u001b[38;5;28;43mself\u001b[39;49m\u001b[38;5;241;43m.\u001b[39;49m\u001b[43mdisconnect\u001b[49m\u001b[43m(\u001b[49m\u001b[43merror\u001b[49m\u001b[43m)\u001b[49m\n\u001b[1;32m    600\u001b[0m \u001b[43m    \u001b[49m\u001b[43m)\u001b[49m\n\u001b[1;32m    601\u001b[0m \u001b[38;5;28;01mexcept\u001b[39;00m socket\u001b[38;5;241m.\u001b[39mtimeout:\n",
      "File \u001b[0;32m~/.local/lib/python3.9/site-packages/redis/retry.py:46\u001b[0m, in \u001b[0;36mRetry.call_with_retry\u001b[0;34m(self, do, fail)\u001b[0m\n\u001b[1;32m     45\u001b[0m \u001b[38;5;28;01mtry\u001b[39;00m:\n\u001b[0;32m---> 46\u001b[0m     \u001b[38;5;28;01mreturn\u001b[39;00m \u001b[43mdo\u001b[49m\u001b[43m(\u001b[49m\u001b[43m)\u001b[49m\n\u001b[1;32m     47\u001b[0m \u001b[38;5;28;01mexcept\u001b[39;00m \u001b[38;5;28mself\u001b[39m\u001b[38;5;241m.\u001b[39m_supported_errors \u001b[38;5;28;01mas\u001b[39;00m error:\n",
      "File \u001b[0;32m~/.local/lib/python3.9/site-packages/redis/connection.py:599\u001b[0m, in \u001b[0;36mConnection.connect.<locals>.<lambda>\u001b[0;34m()\u001b[0m\n\u001b[1;32m    597\u001b[0m \u001b[38;5;28;01mtry\u001b[39;00m:\n\u001b[1;32m    598\u001b[0m     sock \u001b[38;5;241m=\u001b[39m \u001b[38;5;28mself\u001b[39m\u001b[38;5;241m.\u001b[39mretry\u001b[38;5;241m.\u001b[39mcall_with_retry(\n\u001b[0;32m--> 599\u001b[0m         \u001b[38;5;28;01mlambda\u001b[39;00m: \u001b[38;5;28;43mself\u001b[39;49m\u001b[38;5;241;43m.\u001b[39;49m\u001b[43m_connect\u001b[49m\u001b[43m(\u001b[49m\u001b[43m)\u001b[49m, \u001b[38;5;28;01mlambda\u001b[39;00m error: \u001b[38;5;28mself\u001b[39m\u001b[38;5;241m.\u001b[39mdisconnect(error)\n\u001b[1;32m    600\u001b[0m     )\n\u001b[1;32m    601\u001b[0m \u001b[38;5;28;01mexcept\u001b[39;00m socket\u001b[38;5;241m.\u001b[39mtimeout:\n",
      "File \u001b[0;32m~/.local/lib/python3.9/site-packages/redis/connection.py:664\u001b[0m, in \u001b[0;36mConnection._connect\u001b[0;34m(self)\u001b[0m\n\u001b[1;32m    663\u001b[0m \u001b[38;5;28;01mif\u001b[39;00m err \u001b[38;5;129;01mis\u001b[39;00m \u001b[38;5;129;01mnot\u001b[39;00m \u001b[38;5;28;01mNone\u001b[39;00m:\n\u001b[0;32m--> 664\u001b[0m     \u001b[38;5;28;01mraise\u001b[39;00m err\n\u001b[1;32m    665\u001b[0m \u001b[38;5;28;01mraise\u001b[39;00m \u001b[38;5;167;01mOSError\u001b[39;00m(\u001b[38;5;124m\"\u001b[39m\u001b[38;5;124msocket.getaddrinfo returned an empty list\u001b[39m\u001b[38;5;124m\"\u001b[39m)\n",
      "File \u001b[0;32m~/.local/lib/python3.9/site-packages/redis/connection.py:652\u001b[0m, in \u001b[0;36mConnection._connect\u001b[0;34m(self)\u001b[0m\n\u001b[1;32m    651\u001b[0m \u001b[38;5;66;03m# connect\u001b[39;00m\n\u001b[0;32m--> 652\u001b[0m \u001b[43msock\u001b[49m\u001b[38;5;241;43m.\u001b[39;49m\u001b[43mconnect\u001b[49m\u001b[43m(\u001b[49m\u001b[43msocket_address\u001b[49m\u001b[43m)\u001b[49m\n\u001b[1;32m    654\u001b[0m \u001b[38;5;66;03m# set the socket_timeout now that we're connected\u001b[39;00m\n",
      "\u001b[0;31mConnectionRefusedError\u001b[0m: [Errno 111] Connection refused",
      "\nDuring handling of the above exception, another exception occurred:\n",
      "\u001b[0;31mConnectionError\u001b[0m                           Traceback (most recent call last)",
      "Input \u001b[0;32mIn [5]\u001b[0m, in \u001b[0;36m<cell line: 2>\u001b[0;34m()\u001b[0m\n\u001b[1;32m      1\u001b[0m \u001b[38;5;66;03m# TODO: need to check for presence of '@/etc/fstab' and fail gracefully\u001b[39;00m\n\u001b[0;32m----> 2\u001b[0m cbfs \u001b[38;5;241m=\u001b[39m \u001b[43mCBurnFS\u001b[49m\u001b[43m(\u001b[49m\u001b[38;5;124;43m'\u001b[39;49m\u001b[38;5;124;43mfile://fs.localhost\u001b[39;49m\u001b[38;5;124;43m'\u001b[39;49m\u001b[43m)\u001b[49m\n",
      "Input \u001b[0;32mIn [3]\u001b[0m, in \u001b[0;36mCBurnFS.__init__\u001b[0;34m(self, bootpath)\u001b[0m\n\u001b[1;32m    101\u001b[0m \u001b[38;5;28;01mdef\u001b[39;00m \u001b[38;5;21m__init__\u001b[39m(\u001b[38;5;28mself\u001b[39m, bootpath: \u001b[38;5;28mstr\u001b[39m):\n\u001b[1;32m    102\u001b[0m     \u001b[38;5;28mself\u001b[39m\u001b[38;5;241m.\u001b[39m_bootpath \u001b[38;5;241m=\u001b[39m bootpath\n\u001b[0;32m--> 103\u001b[0m     root, meta \u001b[38;5;241m=\u001b[39m \u001b[38;5;28;43mself\u001b[39;49m\u001b[38;5;241;43m.\u001b[39;49m\u001b[43m__loadFstab\u001b[49m\u001b[43m(\u001b[49m\u001b[43mbootpath\u001b[49m\u001b[43m)\u001b[49m\n\u001b[1;32m    104\u001b[0m     \u001b[38;5;28mself\u001b[39m\u001b[38;5;241m.\u001b[39mmetafs \u001b[38;5;241m=\u001b[39m meta\n\u001b[1;32m    105\u001b[0m     metaproxy \u001b[38;5;241m=\u001b[39m MetaFSProxy(root,meta)\n",
      "Input \u001b[0;32mIn [3]\u001b[0m, in \u001b[0;36mCBurnFS.__loadFstab\u001b[0;34m(self, bootpath)\u001b[0m\n\u001b[1;32m     92\u001b[0m             metafs_conf[\u001b[38;5;124m'\u001b[39m\u001b[38;5;124mUESRFSURL\u001b[39m\u001b[38;5;124m'\u001b[39m] \u001b[38;5;241m=\u001b[39m \u001b[38;5;124m'\u001b[39m\u001b[38;5;124munset\u001b[39m\u001b[38;5;124m'\u001b[39m\n\u001b[1;32m     94\u001b[0m root \u001b[38;5;241m=\u001b[39m Dcel(\n\u001b[1;32m     95\u001b[0m     service_class\u001b[38;5;241m=\u001b[39mMulticelFS,\n\u001b[1;32m     96\u001b[0m     address\u001b[38;5;241m=\u001b[39mcels\n\u001b[1;32m     97\u001b[0m )\n\u001b[0;32m---> 98\u001b[0m meta \u001b[38;5;241m=\u001b[39m \u001b[43mMetaFS\u001b[49m\u001b[43m(\u001b[49m\u001b[43mconfig\u001b[49m\u001b[38;5;241;43m=\u001b[39;49m\u001b[43mmetafs_conf\u001b[49m\u001b[43m)\u001b[49m\n\u001b[1;32m     99\u001b[0m \u001b[38;5;28;01mreturn\u001b[39;00m root, meta\n",
      "File \u001b[0;32m/run/user/1000/gvfs/sftp:host=laydbug.io/home/raygan/dev/cburnfs_py/cburnfs/metafs.py:55\u001b[0m, in \u001b[0;36mMetaFS.__init__\u001b[0;34m(self, userhome_config_path, redis_config_path, config)\u001b[0m\n\u001b[1;32m     51\u001b[0m \u001b[38;5;28mself\u001b[39m\u001b[38;5;241m.\u001b[39mredis \u001b[38;5;241m=\u001b[39m r\n\u001b[1;32m     53\u001b[0m logging\u001b[38;5;241m.\u001b[39mdebug(\u001b[38;5;124mf\u001b[39m\u001b[38;5;124m\"\u001b[39m\u001b[38;5;124mRedis connection _configured. self.redis: \u001b[39m\u001b[38;5;132;01m{\u001b[39;00mr\u001b[38;5;132;01m}\u001b[39;00m\u001b[38;5;124m\"\u001b[39m)\n\u001b[0;32m---> 55\u001b[0m \u001b[38;5;28;01mif\u001b[39;00m(\u001b[43mr\u001b[49m\u001b[38;5;241;43m.\u001b[39;49m\u001b[43mget\u001b[49m\u001b[43m(\u001b[49m\u001b[38;5;124;43m'\u001b[39;49m\u001b[38;5;124;43mcurino\u001b[39;49m\u001b[38;5;124;43m'\u001b[39;49m\u001b[43m)\u001b[49m \u001b[38;5;241m==\u001b[39m \u001b[38;5;28;01mNone\u001b[39;00m):\n\u001b[1;32m     56\u001b[0m     r\u001b[38;5;241m.\u001b[39mset(\u001b[38;5;124m'\u001b[39m\u001b[38;5;124mcurino\u001b[39m\u001b[38;5;124m'\u001b[39m,\u001b[38;5;241m1\u001b[39m)\n\u001b[1;32m     58\u001b[0m fsnokey \u001b[38;5;241m=\u001b[39m r\u001b[38;5;241m.\u001b[39mget(fsurn)\n",
      "File \u001b[0;32m~/.local/lib/python3.9/site-packages/redis/commands/core.py:1728\u001b[0m, in \u001b[0;36mBasicKeyCommands.get\u001b[0;34m(self, name)\u001b[0m\n\u001b[1;32m   1722\u001b[0m \u001b[38;5;28;01mdef\u001b[39;00m \u001b[38;5;21mget\u001b[39m(\u001b[38;5;28mself\u001b[39m, name: KeyT) \u001b[38;5;241m-\u001b[39m\u001b[38;5;241m>\u001b[39m ResponseT:\n\u001b[1;32m   1723\u001b[0m     \u001b[38;5;124;03m\"\"\"\u001b[39;00m\n\u001b[1;32m   1724\u001b[0m \u001b[38;5;124;03m    Return the value at key ``name``, or None if the key doesn't exist\u001b[39;00m\n\u001b[1;32m   1725\u001b[0m \n\u001b[1;32m   1726\u001b[0m \u001b[38;5;124;03m    For more information see https://redis.io/commands/get\u001b[39;00m\n\u001b[1;32m   1727\u001b[0m \u001b[38;5;124;03m    \"\"\"\u001b[39;00m\n\u001b[0;32m-> 1728\u001b[0m     \u001b[38;5;28;01mreturn\u001b[39;00m \u001b[38;5;28;43mself\u001b[39;49m\u001b[38;5;241;43m.\u001b[39;49m\u001b[43mexecute_command\u001b[49m\u001b[43m(\u001b[49m\u001b[38;5;124;43m\"\u001b[39;49m\u001b[38;5;124;43mGET\u001b[39;49m\u001b[38;5;124;43m\"\u001b[39;49m\u001b[43m,\u001b[49m\u001b[43m \u001b[49m\u001b[43mname\u001b[49m\u001b[43m)\u001b[49m\n",
      "File \u001b[0;32m~/.local/lib/python3.9/site-packages/redis/client.py:1255\u001b[0m, in \u001b[0;36mRedis.execute_command\u001b[0;34m(self, *args, **options)\u001b[0m\n\u001b[1;32m   1253\u001b[0m pool \u001b[38;5;241m=\u001b[39m \u001b[38;5;28mself\u001b[39m\u001b[38;5;241m.\u001b[39mconnection_pool\n\u001b[1;32m   1254\u001b[0m command_name \u001b[38;5;241m=\u001b[39m args[\u001b[38;5;241m0\u001b[39m]\n\u001b[0;32m-> 1255\u001b[0m conn \u001b[38;5;241m=\u001b[39m \u001b[38;5;28mself\u001b[39m\u001b[38;5;241m.\u001b[39mconnection \u001b[38;5;129;01mor\u001b[39;00m \u001b[43mpool\u001b[49m\u001b[38;5;241;43m.\u001b[39;49m\u001b[43mget_connection\u001b[49m\u001b[43m(\u001b[49m\u001b[43mcommand_name\u001b[49m\u001b[43m,\u001b[49m\u001b[43m \u001b[49m\u001b[38;5;241;43m*\u001b[39;49m\u001b[38;5;241;43m*\u001b[39;49m\u001b[43moptions\u001b[49m\u001b[43m)\u001b[49m\n\u001b[1;32m   1257\u001b[0m \u001b[38;5;28;01mtry\u001b[39;00m:\n\u001b[1;32m   1258\u001b[0m     \u001b[38;5;28;01mreturn\u001b[39;00m conn\u001b[38;5;241m.\u001b[39mretry\u001b[38;5;241m.\u001b[39mcall_with_retry(\n\u001b[1;32m   1259\u001b[0m         \u001b[38;5;28;01mlambda\u001b[39;00m: \u001b[38;5;28mself\u001b[39m\u001b[38;5;241m.\u001b[39m_send_command_parse_response(\n\u001b[1;32m   1260\u001b[0m             conn, command_name, \u001b[38;5;241m*\u001b[39margs, \u001b[38;5;241m*\u001b[39m\u001b[38;5;241m*\u001b[39moptions\n\u001b[1;32m   1261\u001b[0m         ),\n\u001b[1;32m   1262\u001b[0m         \u001b[38;5;28;01mlambda\u001b[39;00m error: \u001b[38;5;28mself\u001b[39m\u001b[38;5;241m.\u001b[39m_disconnect_raise(conn, error),\n\u001b[1;32m   1263\u001b[0m     )\n",
      "File \u001b[0;32m~/.local/lib/python3.9/site-packages/redis/connection.py:1389\u001b[0m, in \u001b[0;36mConnectionPool.get_connection\u001b[0;34m(self, command_name, *keys, **options)\u001b[0m\n\u001b[1;32m   1385\u001b[0m     \u001b[38;5;28mself\u001b[39m\u001b[38;5;241m.\u001b[39m_in_use_connections\u001b[38;5;241m.\u001b[39madd(connection)\n\u001b[1;32m   1387\u001b[0m \u001b[38;5;28;01mtry\u001b[39;00m:\n\u001b[1;32m   1388\u001b[0m     \u001b[38;5;66;03m# ensure this connection is connected to Redis\u001b[39;00m\n\u001b[0;32m-> 1389\u001b[0m     \u001b[43mconnection\u001b[49m\u001b[38;5;241;43m.\u001b[39;49m\u001b[43mconnect\u001b[49m\u001b[43m(\u001b[49m\u001b[43m)\u001b[49m\n\u001b[1;32m   1390\u001b[0m     \u001b[38;5;66;03m# connections that the pool provides should be ready to send\u001b[39;00m\n\u001b[1;32m   1391\u001b[0m     \u001b[38;5;66;03m# a command. if not, the connection was either returned to the\u001b[39;00m\n\u001b[1;32m   1392\u001b[0m     \u001b[38;5;66;03m# pool before all data has been read or the socket has been\u001b[39;00m\n\u001b[1;32m   1393\u001b[0m     \u001b[38;5;66;03m# closed. either way, reconnect and verify everything is good.\u001b[39;00m\n\u001b[1;32m   1394\u001b[0m     \u001b[38;5;28;01mtry\u001b[39;00m:\n",
      "File \u001b[0;32m~/.local/lib/python3.9/site-packages/redis/connection.py:604\u001b[0m, in \u001b[0;36mConnection.connect\u001b[0;34m(self)\u001b[0m\n\u001b[1;32m    602\u001b[0m     \u001b[38;5;28;01mraise\u001b[39;00m \u001b[38;5;167;01mTimeoutError\u001b[39;00m(\u001b[38;5;124m\"\u001b[39m\u001b[38;5;124mTimeout connecting to server\u001b[39m\u001b[38;5;124m\"\u001b[39m)\n\u001b[1;32m    603\u001b[0m \u001b[38;5;28;01mexcept\u001b[39;00m \u001b[38;5;167;01mOSError\u001b[39;00m \u001b[38;5;28;01mas\u001b[39;00m e:\n\u001b[0;32m--> 604\u001b[0m     \u001b[38;5;28;01mraise\u001b[39;00m \u001b[38;5;167;01mConnectionError\u001b[39;00m(\u001b[38;5;28mself\u001b[39m\u001b[38;5;241m.\u001b[39m_error_message(e))\n\u001b[1;32m    606\u001b[0m \u001b[38;5;28mself\u001b[39m\u001b[38;5;241m.\u001b[39m_sock \u001b[38;5;241m=\u001b[39m sock\n\u001b[1;32m    607\u001b[0m \u001b[38;5;28;01mtry\u001b[39;00m:\n",
      "\u001b[0;31mConnectionError\u001b[0m: Error 111 connecting to localhost:6379. Connection refused."
     ]
    }
   ],
   "source": [
    "# TODO: need to check for presence of '@/etc/fstab' and fail gracefully\n",
    "cbfs = CBurnFS('file://fs.localhost')"
   ]
  },
  {
   "cell_type": "code",
   "execution_count": null,
   "metadata": {},
   "outputs": [],
   "source": [
    "cbfs.writetext('/test.txt','Hola, Amigo!')"
   ]
  },
  {
   "cell_type": "code",
   "execution_count": null,
   "metadata": {},
   "outputs": [],
   "source": [
    "cbfs.readtext('/test.txt')"
   ]
  },
  {
   "cell_type": "markdown",
   "metadata": {},
   "source": [
    "### TEST removeHosts via propertyupdate()"
   ]
  },
  {
   "cell_type": "code",
   "execution_count": 5,
   "metadata": {},
   "outputs": [],
   "source": [
    "import json"
   ]
  },
  {
   "cell_type": "code",
   "execution_count": 6,
   "metadata": {},
   "outputs": [
    {
     "data": {
      "text/plain": [
       "{'basic': {'name': 'apples.txt', 'is_dir': False},\n",
       " 'hosts': ['file://fs.localhost']}"
      ]
     },
     "execution_count": 6,
     "metadata": {},
     "output_type": "execute_result"
    }
   ],
   "source": [
    "path = '/fruit/apples.txt'\n",
    "cbfs.getinfo(path).raw"
   ]
  },
  {
   "cell_type": "code",
   "execution_count": 6,
   "metadata": {},
   "outputs": [],
   "source": [
    "updateJSON = '{\"propertyupdate\":{\"remove\":{\"cburn\":{\"hosts\":[\"file://fs4.localhost\"]}}}}'\n",
    "updateRequest = json.loads(updateJSON)"
   ]
  },
  {
   "cell_type": "code",
   "execution_count": 8,
   "metadata": {},
   "outputs": [
    {
     "name": "stdout",
     "output_type": "stream",
     "text": [
      "{'basic': {'name': 'apples.txt', 'is_dir': False}, 'hosts': ['file://fs.localhost']}\n"
     ]
    }
   ],
   "source": [
    "print(cbfs.getinfo(path).raw)\n",
    "cbfs.processRequest(path,updateRequest)\n",
    "print(cbfs.getinfo(path).raw)"
   ]
  },
  {
   "cell_type": "markdown",
   "metadata": {},
   "source": [
    "### TEST updateHosts via propertyupdate()"
   ]
  },
  {
   "cell_type": "code",
   "execution_count": 10,
   "metadata": {},
   "outputs": [],
   "source": [
    "import json"
   ]
  },
  {
   "cell_type": "code",
   "execution_count": 11,
   "metadata": {},
   "outputs": [
    {
     "data": {
      "text/plain": [
       "{'basic': {'name': 'apples.txt', 'is_dir': False},\n",
       " 'hosts': ['file://fs.localhost']}"
      ]
     },
     "execution_count": 11,
     "metadata": {},
     "output_type": "execute_result"
    }
   ],
   "source": [
    "path = 'fruit/apples.txt'\n",
    "cbfs.getinfo(path).raw"
   ]
  },
  {
   "cell_type": "code",
   "execution_count": 12,
   "metadata": {},
   "outputs": [],
   "source": [
    "updateJSON = '{\"propertyupdate\":{\"append\":{\"cburn\":{\"hosts\":[\"file://fs4.localhost\"]}}}}'\n",
    "updateRequest = json.loads(updateJSON)"
   ]
  },
  {
   "cell_type": "code",
   "execution_count": 13,
   "metadata": {},
   "outputs": [
    {
     "name": "stdout",
     "output_type": "stream",
     "text": [
      "{'basic': {'name': 'apples.txt', 'is_dir': False}, 'hosts': ['file://fs.localhost']}\n",
      "CBurnFS::processRequest() rq={'propertyupdate': {'append': {'cburn': {'hosts': ['file://fs4.localhost']}}}}\n",
      "CBurnFS::propertyupdate(): path=fruit/apples.txt, uprq={'append': {'cburn': {'hosts': ['file://fs4.localhost']}}}\n",
      "{'basic': {'name': 'apples.txt', 'is_dir': False}, 'hosts': ['file://fs.localhost', 'file://fs4.localhost']}\n"
     ]
    }
   ],
   "source": [
    "print(cbfs.getinfo(path).raw)\n",
    "cbfs.processRequest(path,updateRequest)\n",
    "print(cbfs.getinfo(path).raw)"
   ]
  },
  {
   "cell_type": "markdown",
   "metadata": {},
   "source": [
    "### TEST _reinit() HOOK ON propertyupdate()"
   ]
  },
  {
   "cell_type": "code",
   "execution_count": 26,
   "metadata": {},
   "outputs": [],
   "source": [
    "import json"
   ]
  },
  {
   "cell_type": "code",
   "execution_count": 27,
   "metadata": {},
   "outputs": [],
   "source": [
    "# propertyupdate JSON\n",
    "updateJSON = '{\"propertyupdate\":{\"append\":{\"cburn\":{\"multivalue\":{\"1\":{\"spec\":\"file://fs4.localhost\"},\"2\":{\"mntopts.cskvp\":{\"shortid\":\"FS1\"}},\"3\":{\"mntopts.cskvp\":{\"shortid\":\"FS3\"}}}}}}}'\n",
    "updateRequest = json.loads(updateJSON)\n",
    "path = \"@/etc/fstab.fstab\"\n",
    "cbf = Fudge(cbfs)\n",
    "fstab = cbf/path"
   ]
  },
  {
   "cell_type": "code",
   "execution_count": 28,
   "metadata": {},
   "outputs": [
    {
     "name": "stdout",
     "output_type": "stream",
     "text": [
      "file://fs4.localhost\n"
     ]
    }
   ],
   "source": [
    "print(fstab/'1/spec')"
   ]
  },
  {
   "cell_type": "code",
   "execution_count": 29,
   "metadata": {},
   "outputs": [
    {
     "name": "stdout",
     "output_type": "stream",
     "text": [
      "CBurnFS::processRequest() rq={'propertyupdate': {'append': {'cburn': {'multivalue': {'1': {'spec': 'file://fs4.localhost'}, '2': {'mntopts.cskvp': {'shortid': 'FS1'}}, '3': {'mntopts.cskvp': {'shortid': 'FS3'}}}}}}}\n",
      "CBurnFS::propertyupdate(): path=@/etc/fstab.fstab, uprq={'append': {'cburn': {'multivalue': {'1': {'spec': 'file://fs4.localhost'}, '2': {'mntopts.cskvp': {'shortid': 'FS1'}}, '3': {'mntopts.cskvp': {'shortid': 'FS3'}}}}}}\n",
      "Fudge::__setitem__() target.value type: <class 'Dcel.Dcel'>\n",
      "Fudge::__setitem__() target.value type: <class 'Dcel.Dcel'>\n",
      "Fudge::__setitem__() target.value type: <class 'Dcel.Dcel'>\n",
      "CBurnFS::_reinit() called.\n"
     ]
    },
    {
     "data": {
      "text/plain": [
       "{'propertyupdate': 'CBurnFS.propertyupdate():return: improve this response'}"
      ]
     },
     "execution_count": 29,
     "metadata": {},
     "output_type": "execute_result"
    }
   ],
   "source": [
    "cbfs.processRequest(path,updateRequest)"
   ]
  },
  {
   "cell_type": "markdown",
   "metadata": {},
   "source": [
    "### TEST MulticelFS via getinfo()"
   ]
  },
  {
   "cell_type": "code",
   "execution_count": 12,
   "metadata": {},
   "outputs": [],
   "source": [
    "i = cbfs.getinfo('/fruit/cherries.html.txt')"
   ]
  },
  {
   "cell_type": "code",
   "execution_count": 13,
   "metadata": {},
   "outputs": [
    {
     "name": "stdout",
     "output_type": "stream",
     "text": [
      "{'basic': {'name': 'cherries.html.txt', 'is_dir': False}, 'hosts': ['file://fs3.localhost']}\n"
     ]
    }
   ],
   "source": [
    "print(i.raw)"
   ]
  },
  {
   "cell_type": "markdown",
   "metadata": {},
   "source": [
    "### TEST CBurnFS::propertyupdate() and updateMultiValue()"
   ]
  },
  {
   "cell_type": "code",
   "execution_count": 15,
   "metadata": {},
   "outputs": [],
   "source": [
    "import json"
   ]
  },
  {
   "cell_type": "code",
   "execution_count": 16,
   "metadata": {},
   "outputs": [
    {
     "name": "stdout",
     "output_type": "stream",
     "text": [
      "{'propertyupdate': {'append': {'cburn': {'multivalue': {'1': {'mntopts.cskvp': {'shortid': 'fs2'}}, '2': {'mntopts.cskvp': {'shortid': 'fs1'}}, '3': {'mntopts.cskvp': {'shortid': 'fs3'}}}}}}}\n"
     ]
    }
   ],
   "source": [
    "# propertyupdate JSON\n",
    "updateJSON = '{\"propertyupdate\":{\"append\":{\"cburn\":{\"multivalue\":{\"1\":{\"mntopts.cskvp\":{\"shortid\":\"fs2\"}},\"2\":{\"mntopts.cskvp\":{\"shortid\":\"fs1\"}},\"3\":{\"mntopts.cskvp\":{\"shortid\":\"fs3\"}}}}}}}'\n",
    "updateRequest = json.loads(updateJSON)\n",
    "print(updateRequest)"
   ]
  },
  {
   "cell_type": "code",
   "execution_count": 15,
   "metadata": {},
   "outputs": [
    {
     "name": "stdout",
     "output_type": "stream",
     "text": [
      "{'1': {'spec': <Dcel.Dcel object at 0x7fa9df966fa0>, 'file': <Dcel.Dcel object at 0x7fa9df966580>, 'vfstype': <Dcel.Dcel object at 0x7fa9df966a90>, 'mntopts': <Dcel.Dcel object at 0x7fa9df966ca0>, 'freq': <Dcel.Dcel object at 0x7fa9df966970>, 'passno': <Dcel.Dcel object at 0x7fa9df9660a0>}, '2': {'spec': <Dcel.Dcel object at 0x7fa9df9664f0>, 'file': <Dcel.Dcel object at 0x7fa9df966d30>, 'vfstype': <Dcel.Dcel object at 0x7fa9df966550>, 'mntopts': <Dcel.Dcel object at 0x7fa9df966280>, 'freq': <Dcel.Dcel object at 0x7fa9df966430>, 'passno': <Dcel.Dcel object at 0x7fa9df966520>}, '3': {'spec': <Dcel.Dcel object at 0x7fa9df9b5130>, 'file': <Dcel.Dcel object at 0x7fa9df9b5e80>, 'vfstype': <Dcel.Dcel object at 0x7fa9df9b5fd0>, 'mntopts': <Dcel.Dcel object at 0x7fa9df9b5610>, 'freq': <Dcel.Dcel object at 0x7fa9df9b5850>, 'passno': <Dcel.Dcel object at 0x7fa9df9b5100>}}\n"
     ]
    }
   ],
   "source": [
    "# locate path relative to the above request\n",
    "path = \"@/etc/fstab.fstab\"\n",
    "cbf = Fudge(cbfs)\n",
    "fstab = cbf/path\n",
    "print(fstab)"
   ]
  },
  {
   "cell_type": "code",
   "execution_count": 18,
   "metadata": {},
   "outputs": [
    {
     "name": "stdout",
     "output_type": "stream",
     "text": [
      "CBurnFS::processRequest() rq={'propertyupdate': {'append': {'cburn': {'multivalue': {'1': {'mntopts.cskvp': {'shortid': 'fs2'}}, '2': {'mntopts.cskvp': {'shortid': 'fs1'}}, '3': {'mntopts.cskvp': {'shortid': 'fs3'}}}}}}}\n",
      "CBurnFS::propertyupdate(): path=@/etc/fstabtest.fstab, uprq={'append': {'cburn': {'multivalue': {'1': {'mntopts.cskvp': {'shortid': 'fs2'}}, '2': {'mntopts.cskvp': {'shortid': 'fs1'}}, '3': {'mntopts.cskvp': {'shortid': 'fs3'}}}}}}\n",
      "Fudge::__setitem__() target.value type: <class 'Dcel.Dcel'>\n",
      "Fudge::__setitem__() target.value type: <class 'Dcel.Dcel'>\n",
      "Fudge::__setitem__() target.value type: <class 'Dcel.Dcel'>\n",
      "CBurnFS::_reinit() called.\n"
     ]
    },
    {
     "data": {
      "text/plain": [
       "{'propertyupdate': 'CBurnFS.propertyupdate():return: improve this response'}"
      ]
     },
     "execution_count": 18,
     "metadata": {},
     "output_type": "execute_result"
    }
   ],
   "source": [
    "cbfs.processRequest(path,updateRequest)"
   ]
  },
  {
   "cell_type": "markdown",
   "metadata": {},
   "source": [
    "### TEST CBurnFS File Functions"
   ]
  },
  {
   "cell_type": "code",
   "execution_count": 19,
   "metadata": {
    "scrolled": false
   },
   "outputs": [
    {
     "data": {
      "text/plain": [
       "{'basic': {'name': 'skiff.txt', 'is_dir': False},\n",
       " 'hosts': ['file://fs.localhost', 'file://fs4.localhost']}"
      ]
     },
     "execution_count": 19,
     "metadata": {},
     "output_type": "execute_result"
    }
   ],
   "source": [
    "cbfs.getinfo('/boats/skiff.txt').raw"
   ]
  },
  {
   "cell_type": "code",
   "execution_count": 20,
   "metadata": {
    "scrolled": true
   },
   "outputs": [
    {
     "data": {
      "text/plain": [
       "['.cosm', 'test.txt', 'fruit', '.cloud', '@', 'boats', '..@', 'numbers']"
      ]
     },
     "execution_count": 20,
     "metadata": {},
     "output_type": "execute_result"
    }
   ],
   "source": [
    "cbfs.listdir('/')"
   ]
  },
  {
   "cell_type": "code",
   "execution_count": 21,
   "metadata": {},
   "outputs": [],
   "source": [
    "cbf = Fudge(cbfs)"
   ]
  },
  {
   "cell_type": "code",
   "execution_count": 22,
   "metadata": {
    "scrolled": true
   },
   "outputs": [
    {
     "name": "stdout",
     "output_type": "stream",
     "text": [
      "red\n",
      "<i>sakuranbo</i> means <b>cherries</b>\n",
      "\n"
     ]
    }
   ],
   "source": [
    "for each in cbf/'fruit':\n",
    "    print(each)"
   ]
  },
  {
   "cell_type": "markdown",
   "metadata": {},
   "source": [
    "### DEVELOP INIT PROCEDURE"
   ]
  },
  {
   "cell_type": "code",
   "execution_count": 4,
   "metadata": {
    "scrolled": false
   },
   "outputs": [],
   "source": [
    "boot = Fudge(\"file://fs.localhost\")\n",
    "fstab = boot/'.cosm/etc/fstab.fstab/'\n",
    "cels = []\n",
    "for ea in fstab:\n",
    "    if ea/'vfstype' == 'cburnfs':\n",
    "        urlstr = ea/'spec'\n",
    "        _scheme = ea/'spec.url/scheme'\n",
    "        if _scheme == '':\n",
    "            _scheme = 'file'\n",
    "        service_class = boot._apath.cosm['services'][str(_scheme)].value\n",
    "        try:\n",
    "            cels += [ Dcel(address=str(urlstr), \n",
    "                        service_class=service_class) ]\n",
    "        except:\n",
    "            pass\n",
    "root = Dcel(\n",
    "    service_class=MulticelFS,\n",
    "    address=cels\n",
    ")"
   ]
  },
  {
   "cell_type": "code",
   "execution_count": 18,
   "metadata": {},
   "outputs": [
    {
     "ename": "CreateFailed",
     "evalue": "unable to create filesystem, ",
     "output_type": "error",
     "traceback": [
      "\u001b[0;31m---------------------------------------------------------------------------\u001b[0m",
      "\u001b[0;31mKeyError\u001b[0m                                  Traceback (most recent call last)",
      "File \u001b[0;32m~/cburnweb/blackstrap.py:88\u001b[0m, in \u001b[0;36mBlackstrapFS.__init__\u001b[0;34m(self, urlstr, *args)\u001b[0m\n\u001b[1;32m     87\u001b[0m \u001b[38;5;28;01mtry\u001b[39;00m:\n\u001b[0;32m---> 88\u001b[0m     sharepath \u001b[38;5;241m=\u001b[39m \u001b[43mshares\u001b[49m\u001b[43m[\u001b[49m\u001b[43mshareid\u001b[49m\u001b[43m]\u001b[49m\n\u001b[1;32m     89\u001b[0m     realpath \u001b[38;5;241m=\u001b[39m sharepath\u001b[38;5;241m+\u001b[39m\u001b[38;5;124m'\u001b[39m\u001b[38;5;124m/\u001b[39m\u001b[38;5;124m'\u001b[39m\u001b[38;5;241m+\u001b[39murl\u001b[38;5;241m.\u001b[39mpath\n",
      "\u001b[0;31mKeyError\u001b[0m: ''",
      "\nDuring handling of the above exception, another exception occurred:\n",
      "\u001b[0;31mCreateFailed\u001b[0m                              Traceback (most recent call last)",
      "Input \u001b[0;32mIn [18]\u001b[0m, in \u001b[0;36m<cell line: 10>\u001b[0;34m()\u001b[0m\n\u001b[1;32m      7\u001b[0m \u001b[38;5;28;01mfrom\u001b[39;00m \u001b[38;5;21;01murllib\u001b[39;00m\u001b[38;5;21;01m.\u001b[39;00m\u001b[38;5;21;01mparse\u001b[39;00m \u001b[38;5;28;01mimport\u001b[39;00m urlparse\n\u001b[1;32m      9\u001b[0m bootpath \u001b[38;5;241m=\u001b[39m \u001b[38;5;124m'\u001b[39m\u001b[38;5;124mfs\u001b[39m\u001b[38;5;124m'\u001b[39m\n\u001b[0;32m---> 10\u001b[0m boot \u001b[38;5;241m=\u001b[39m \u001b[43mFudge\u001b[49m\u001b[43m(\u001b[49m\u001b[43mbootpath\u001b[49m\u001b[43m)\u001b[49m\n\u001b[1;32m     11\u001b[0m fstab \u001b[38;5;241m=\u001b[39m boot\u001b[38;5;241m/\u001b[39m\u001b[38;5;124m'\u001b[39m\u001b[38;5;124m.cosm/etc/fstab\u001b[39m\u001b[38;5;124m'\u001b[39m\n\u001b[1;32m     12\u001b[0m services \u001b[38;5;241m=\u001b[39m boot\u001b[38;5;241m.\u001b[39m_apath\u001b[38;5;241m.\u001b[39mcosm[\u001b[38;5;124m'\u001b[39m\u001b[38;5;124mservices\u001b[39m\u001b[38;5;124m'\u001b[39m]\n",
      "File \u001b[0;32m~/cburnweb/Fudge.py:27\u001b[0m, in \u001b[0;36mFudge.__init__\u001b[0;34m(self, source)\u001b[0m\n\u001b[1;32m     25\u001b[0m \u001b[38;5;28;01mif\u001b[39;00m srctype \u001b[38;5;129;01mis\u001b[39;00m \u001b[38;5;28mstr\u001b[39m:\n\u001b[1;32m     26\u001b[0m     service_class \u001b[38;5;241m=\u001b[39m \u001b[38;5;124m'\u001b[39m\u001b[38;5;124mfile\u001b[39m\u001b[38;5;124m'\u001b[39m\n\u001b[0;32m---> 27\u001b[0m     apath \u001b[38;5;241m=\u001b[39m \u001b[43mAPath\u001b[49m\u001b[43m(\u001b[49m\u001b[43msource\u001b[49m\u001b[43m,\u001b[49m\u001b[43m \u001b[49m\n\u001b[1;32m     28\u001b[0m \u001b[43m                  \u001b[49m\u001b[43mservice_class\u001b[49m\n\u001b[1;32m     29\u001b[0m \u001b[43m                 \u001b[49m\u001b[43m)\u001b[49m\n\u001b[1;32m     30\u001b[0m \u001b[38;5;28;01mif\u001b[39;00m \u001b[38;5;28missubclass\u001b[39m(srctype,APath):\n\u001b[1;32m     31\u001b[0m     apath \u001b[38;5;241m=\u001b[39m source\n",
      "File \u001b[0;32m~/cburnweb/APath.py:95\u001b[0m, in \u001b[0;36mAPath.__init__\u001b[0;34m(self, addr, servicename, parent)\u001b[0m\n\u001b[1;32m     93\u001b[0m \u001b[38;5;28;01mif\u001b[39;00m \u001b[38;5;28mtype\u001b[39m(servicename) \u001b[38;5;129;01mis\u001b[39;00m \u001b[38;5;28mstr\u001b[39m:\n\u001b[1;32m     94\u001b[0m     service \u001b[38;5;241m=\u001b[39m \u001b[38;5;28mself\u001b[39m\u001b[38;5;241m.\u001b[39mcosm[\u001b[38;5;124m'\u001b[39m\u001b[38;5;124mservices\u001b[39m\u001b[38;5;124m'\u001b[39m][servicename]\u001b[38;5;241m.\u001b[39mvalue\n\u001b[0;32m---> 95\u001b[0m     \u001b[38;5;28mself\u001b[39m\u001b[38;5;241m.\u001b[39mtarget \u001b[38;5;241m=\u001b[39m \u001b[43mDcel\u001b[49m\u001b[43m(\u001b[49m\u001b[43maddress\u001b[49m\u001b[38;5;241;43m=\u001b[39;49m\u001b[43maddr\u001b[49m\u001b[43m,\u001b[49m\u001b[43m \u001b[49m\n\u001b[1;32m     96\u001b[0m \u001b[43m                       \u001b[49m\u001b[43mservice_class\u001b[49m\u001b[38;5;241;43m=\u001b[39;49m\u001b[43mservice\u001b[49m\u001b[43m)\u001b[49m   \n\u001b[1;32m     98\u001b[0m \u001b[38;5;66;03m## Spawning a Branch\u001b[39;00m\n\u001b[1;32m     99\u001b[0m \u001b[38;5;66;03m#  Dcel\u001b[39;00m\n\u001b[1;32m    100\u001b[0m \u001b[38;5;66;03m#  Parent Apath\u001b[39;00m\n\u001b[1;32m    101\u001b[0m \u001b[38;5;28;01melif\u001b[39;00m \u001b[38;5;28mtype\u001b[39m(addr) \u001b[38;5;129;01mis\u001b[39;00m Dcel:\n\u001b[1;32m    102\u001b[0m     \u001b[38;5;66;03m# WIP lookup instruction\u001b[39;00m\n",
      "File \u001b[0;32m~/cburnweb/Dcel.py:87\u001b[0m, in \u001b[0;36mDcel.__init__\u001b[0;34m(self, address, service, formula, args, value, service_class, service_args, kwargs)\u001b[0m\n\u001b[1;32m     85\u001b[0m             \u001b[38;5;28mself\u001b[39m\u001b[38;5;241m.\u001b[39mservice \u001b[38;5;241m=\u001b[39m service_class(address,\u001b[38;5;241m*\u001b[39mservice_args)\n\u001b[1;32m     86\u001b[0m         \u001b[38;5;28;01melse\u001b[39;00m:\n\u001b[0;32m---> 87\u001b[0m             \u001b[38;5;28mself\u001b[39m\u001b[38;5;241m.\u001b[39mservice \u001b[38;5;241m=\u001b[39m \u001b[43mservice_class\u001b[49m\u001b[43m(\u001b[49m\u001b[43maddress\u001b[49m\u001b[43m)\u001b[49m\n\u001b[1;32m     88\u001b[0m         \u001b[38;5;28mself\u001b[39m\u001b[38;5;241m.\u001b[39mservice\u001b[38;5;241m.\u001b[39m_dcel_hostname \u001b[38;5;241m=\u001b[39m hostname\n\u001b[1;32m     90\u001b[0m \u001b[38;5;28;01mif\u001b[39;00m formula \u001b[38;5;129;01mand\u001b[39;00m args:\n",
      "File \u001b[0;32m~/cburnweb/blackstrap.py:91\u001b[0m, in \u001b[0;36mBlackstrapFS.__init__\u001b[0;34m(self, urlstr, *args)\u001b[0m\n\u001b[1;32m     89\u001b[0m     realpath \u001b[38;5;241m=\u001b[39m sharepath\u001b[38;5;241m+\u001b[39m\u001b[38;5;124m'\u001b[39m\u001b[38;5;124m/\u001b[39m\u001b[38;5;124m'\u001b[39m\u001b[38;5;241m+\u001b[39murl\u001b[38;5;241m.\u001b[39mpath\n\u001b[1;32m     90\u001b[0m \u001b[38;5;28;01mexcept\u001b[39;00m:\n\u001b[0;32m---> 91\u001b[0m     \u001b[38;5;28;01mraise\u001b[39;00m CreateFailed(shareid)\n\u001b[1;32m     93\u001b[0m \u001b[38;5;28msuper\u001b[39m()\u001b[38;5;241m.\u001b[39m\u001b[38;5;21m__init__\u001b[39m(realpath,\u001b[38;5;241m*\u001b[39margs)\n",
      "\u001b[0;31mCreateFailed\u001b[0m: unable to create filesystem, "
     ]
    }
   ],
   "source": [
    "## Init Procedure\n",
    "\n",
    "from Fudge import Fudge\n",
    "from APath import APath\n",
    "from Dcel import Dcel\n",
    "from MulticelFS import MulticelFS\n",
    "from urllib.parse import urlparse\n",
    "\n",
    "bootpath = 'fs'\n",
    "boot = Fudge(bootpath)\n",
    "fstab = boot/'.cosm/etc/fstab'\n",
    "services = boot._apath.cosm['services']\n",
    "cels = []\n",
    "for ea in fstab:\n",
    "    if fstab/ea/'vfstype' == 'cburnfs':\n",
    "        urlstr = str(fstab/ea/'spec')\n",
    "        url = urlparse(urlstr)\n",
    "        print('url: '+urlstr)\n",
    "        print('scheme: '+url.scheme)\n",
    "        print('netloc: '+url.netloc)\n",
    "        print('path: '+url.path)\n",
    "        _scheme = url.scheme\n",
    "        if _scheme == '':\n",
    "            _scheme = 'file'\n",
    "        service_class = services[_scheme].value\n",
    "        print(service_class)\n",
    "        try:\n",
    "            d = Dcel(address=str(url.path), \n",
    "                     service_class=service_class)\n",
    "            print(d.listdir('/'))\n",
    "            cels += [d]\n",
    "        except:\n",
    "            raise\n",
    "        print('')\n",
    "        \n",
    "d = MulticelFS(cels)\n",
    "\n",
    "print(d.listdir('.'))"
   ]
  },
  {
   "cell_type": "code",
   "execution_count": null,
   "metadata": {},
   "outputs": [],
   "source": [
    "from APath import APath\n",
    "from Dcel import Dcel\n",
    "\n",
    "services = APath._rootcosm['services']\n",
    "\n",
    "a = Dcel(address='fs', \n",
    "         service_class=services['file']\n",
    "        )\n",
    "print(services['file'])"
   ]
  },
  {
   "cell_type": "code",
   "execution_count": 4,
   "metadata": {
    "scrolled": false
   },
   "outputs": [],
   "source": [
    "#with CBMetaFS('fs/.cosm/var/cbmeta.zip') as m:\n",
    "   #m.setinfo('boats',{\"cburn\":{\"hosts\":[\"raygan.com\"]}})\n",
    "\n",
    "#with CBMetaFS('fs/.cosm/var/cbmeta.zip') as m:\n",
    "    #print(m.getinfo('boats').raw)\n",
    "    #pass\n",
    "    \n",
    "from socket import gethostname\n",
    "\n",
    "\n",
    "\n",
    "def cbtest(path='/boats/skiff.txt',\n",
    "           namespaces=None\n",
    "          ):\n",
    "    \n",
    "    print('request: '+path)\n",
    "    \n",
    "    hostname = gethostname()\n",
    "\n",
    "    BlackstrapSvc.initClass()\n",
    "    BlackstrapSvc.addShare(\n",
    "        srcaddr = 'fs',\n",
    "        hostname = hostname,\n",
    "        sharename = 'fs'\n",
    "    ).addShare(\n",
    "        srcaddr = 'fs2',\n",
    "        hostname = hostname,\n",
    "        sharename = 'fs2'\n",
    "    )\n",
    "\n",
    "    \n",
    "    cbDemoCosm = {\n",
    "        'fs': {\n",
    "            'fs': Dcel('/',BlackstrapSvc(hostname,'fs'),hostname+'/fs'),\n",
    "            'fs2': Dcel('/',BlackstrapSvc(hostname,'fs2'),hostname+'/fs2'),\n",
    "            #'cbmeta': Dcel('/',CBMetaFS('fs/.cosm/var/cbmeta.zip')),\n",
    "        },\n",
    "        \"hosts\": [\n",
    "            \"file://iph7rh/fs\",\n",
    "            \"file://iph7rh/fs2\",\n",
    "            \"meta:.cosm/var/cbmeta.zip\"\n",
    "        ],\n",
    "        \"services\": {\n",
    "            \"default\": OSFS,\n",
    "            \"file\": BlackstrapSvc,\n",
    "            \"meta\": CBMetaFS,\n",
    "            \"multi\": MultiCelFS\n",
    "        }\n",
    "    }\n",
    "    \n",
    "    root = CBurnFS(cbDemoCosm)\n",
    "    #target = root.lookup('abc/def')\n",
    "    #t2 = target.lookup('ghi')\n",
    "    #i = t2.getinfo('jkl')\n",
    "\n",
    "    i = root.getinfo(path,namespaces)\n",
    "    print(i.raw)\n",
    "    #print(root.getinfo('boats').raw)\n",
    "    #print(root.getinfo('colors').raw)\n",
    "    \n",
    "    if i.is_dir:\n",
    "        print(str(root.listdir(path))) \n",
    "    else:\n",
    "        s = root.readbytes(path)\n",
    "        print(s)\n",
    "\n",
    "    root.close()\n",
    "    BlackstrapSvc.closeClass()\n",
    "    "
   ]
  },
  {
   "cell_type": "markdown",
   "metadata": {
    "scrolled": false
   },
   "source": [
    "cbtest(\"boats\")\n",
    "cbtest(\"boats/skiff.txt\")"
   ]
  },
  {
   "cell_type": "code",
   "execution_count": null,
   "metadata": {},
   "outputs": [],
   "source": []
  }
 ],
 "metadata": {
  "kernelspec": {
   "display_name": "Python 3.9",
   "language": "python",
   "name": "python3"
  },
  "language_info": {
   "codemirror_mode": {
    "name": "ipython",
    "version": 3
   },
   "file_extension": ".py",
   "mimetype": "text/x-python",
   "name": "python",
   "nbconvert_exporter": "python",
   "pygments_lexer": "ipython3",
   "version": "3.9.5"
  }
 },
 "nbformat": 4,
 "nbformat_minor": 2
}
