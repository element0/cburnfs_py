{
 "cells": [
  {
   "cell_type": "markdown",
   "id": "8ec71238",
   "metadata": {},
   "source": [
    "# FormulaFS\n",
    "\n",
    "Run a formula, handle side effects, output buffering, etc. Serve the output via FS interface."
   ]
  },
  {
   "cell_type": "code",
   "execution_count": 1,
   "id": "184cb697",
   "metadata": {},
   "outputs": [],
   "source": [
    "from fs.base import FS\n",
    "from fs.info import Info\n",
    "from fs.enums import ResourceType\n",
    "from fs.errors import DirectoryExpected\n",
    "from io import BytesIO\n",
    "from hashlib import sha256\n",
    "import json\n",
    "from DcelJSONHashEncoder import dumphash\n",
    "from DcelJSONEncoder import dumpdcel\n",
    "\n",
    "def sample_function(*args, **kwargs):\n",
    "    print(\"FormulaFS sample function side-effect.\")\n",
    "    return \"Sample function return value.\"\n",
    "\n",
    "class FormulaFS(FS):\n",
    "    \"\"\"\n",
    "    Serve the output of a command via FS API.\n",
    "    \n",
    "    Handle buffering.\n",
    "    \"\"\"\n",
    "    def __init__(self, formula_dict):\n",
    "        super().__init__()\n",
    "        if(type(formula_dict) == dict):\n",
    "            # set self._formula_dict before calling \n",
    "            # hash_of_formula_dict()\n",
    "            self._formula_dict = formula_dict\n",
    "\n",
    "            if 'fn' in formula_dict:\n",
    "                self._formula_name = formula_dict['fn']\n",
    "                self._formula_hash = self.hash_of_formula_dict()\n",
    "            else:\n",
    "                raise Exception(\"FormulaFS requires a function 'fn' in the initialization dict.\")\n",
    "            self._buffer = None\n",
    "        else:\n",
    "            raise TypeError('FormulaFS requires a dict to initialize.')\n",
    "            \n",
    "    def __repr__(self):\n",
    "        return f\"<FormulaFS({self._formula_dict})>\"\n",
    "    \n",
    "    # ---- FS overloads ----\n",
    "    \n",
    "    def getinfo(self, path, namespaces=['basic']):\n",
    "        nodetype = ResourceType.unknown\n",
    "        return Info({\n",
    "            'basic': {\n",
    "                 'name': self._formula_name,\n",
    "                 'is_dir': False\n",
    "             },\n",
    "        })\n",
    "    \n",
    "    def listdir(self, path):\n",
    "        raise DirectoryExpected(path)\n",
    "    \n",
    "    def makedir(self, path, *args, **kwargs):\n",
    "        raise ResourceInvalid(self._formula_name)\n",
    "    \n",
    "    def openbin(self, path, *args, **kwargs):\n",
    "        if self.isdirty or (self._buffer == None):\n",
    "            buf = self._formula_dict['fn'](*(self._formula_dict['args']))\n",
    "            self.flushbuffer(buf)\n",
    "        else:\n",
    "            buf = self._buffer\n",
    "        if not hasattr(buf, 'encode'):\n",
    "            buf = dumpdcel(buf)\n",
    "        return BytesIO(buf.encode())\n",
    "    \n",
    "    def remove(self, path, *args, **kwargs):\n",
    "        raise ResourceInvalid(self._formula_name)\n",
    "    \n",
    "    def removedir(self, path, *args, **kwargs):\n",
    "        raise ResourceInvalid(self._formula_name)\n",
    "    \n",
    "    def setinfo(self, path, *args, **kwargs):\n",
    "        raise ResourceInvalid(self._formula_name)\n",
    "    \n",
    "    def hash(self, name=''):\n",
    "        \"\"\"Return hash of the dictionary that defines the formula.\"\"\"\n",
    "        if not hasattr(self, '_formula_hash'):\n",
    "            _formula_hash = self.hash_of_formula_dict()\n",
    "            self._formula_hash = _formula_hash\n",
    "            return _formula_hash\n",
    "        if self.isdirty:\n",
    "            return self.hash_of_formula_dict()\n",
    "        return self._formula_hash\n",
    "    \n",
    "    # ---- Iterator support ----\n",
    "    \n",
    "    def __iter__(self):\n",
    "        if not hasattr(self._buffer, '__iter__'):\n",
    "            return TypeError(f'Output from {self._formula_name} is not iterable.')\n",
    "        # These are iterable.\n",
    "        if type(self._buffer) == dict:\n",
    "            # Allows conversion from dict to dict.\n",
    "            return self._buffer.items().__iter__()\n",
    "        return self._buffer.__iter__()\n",
    "    \n",
    "    # ---- String support ----\n",
    "    \n",
    "    def __str__(self):\n",
    "        return self.readtext('')\n",
    "    \n",
    "    # ---- Introspection ----\n",
    "    \n",
    "    def __desc__(self):\n",
    "        return self._formula_name\n",
    "    \n",
    "    # ---- Direct value access ----\n",
    "    \n",
    "    @property\n",
    "    def value(self):\n",
    "        if self._buffer == None:\n",
    "            buf = self._formula_dict['fn'](*(self._formula_dict['args']))\n",
    "            self.flushbuffer(buf)\n",
    "        else:\n",
    "            buf = self._buffer\n",
    "        return buf\n",
    "            \n",
    "    # ---- Checksum support ----\n",
    "    def hash_of_formula_dict(self):\n",
    "        return dumphash(self._formula_dict)\n",
    "    \n",
    "    @property\n",
    "    def isdirty(self):\n",
    "        return self._formula_hash != self.hash_of_formula_dict()\n",
    "    \n",
    "    # ---- Buffer ----\n",
    "    def flushbuffer(self, buf):\n",
    "        self._buffer = buf\n",
    "        self._formula_hash = self.hash_of_formula_dict()\n",
    "    "
   ]
  },
  {
   "cell_type": "code",
   "execution_count": 2,
   "id": "255456f5",
   "metadata": {},
   "outputs": [],
   "source": [
    "# Setup for testing the fstab parser.\n",
    "from HienaMP import hiena_mp\n",
    "from fstab_hg import fstab_hg\n",
    "from cskvp_hg import cskvp_hg\n",
    "from fs import open_fs\n",
    "from Dcel import Dcel\n",
    "from DictFS import DictFS"
   ]
  },
  {
   "cell_type": "code",
   "execution_count": 3,
   "id": "0374d84d",
   "metadata": {},
   "outputs": [],
   "source": [
    "# Setup the fstab parser data.\n",
    "fs_dcel = Dcel('demo-files/fs', service_class=open_fs)\n",
    "file_dcel = fs_dcel['@']['etc']['fstab']\n",
    "formula_dcel = Dcel({'fn':hiena_mp, 'args':[fstab_hg, file_dcel]},\n",
    "                    service_class=FormulaFS)\n",
    "walker_dcel = Dcel(formula_dcel.value, service_class=DictFS)"
   ]
  },
  {
   "cell_type": "code",
   "execution_count": 4,
   "id": "e7e2229d",
   "metadata": {},
   "outputs": [
    {
     "name": "stdout",
     "output_type": "stream",
     "text": [
      "address: <class 'str'>:/\n",
      "        abspath: <class 'str'>:/\n",
      "        service: <class 'DictFS.DictFS'>:<DictFS.DictFS object at 0x7f8e506cfdc0>\n",
      "        value: <class 'dict'>:{'1': {'spec': <Dcel.Dcel object at 0x7f8e5061cdf0>, 'file': <Dcel.Dcel object at 0x7f8e5061cdc0>, 'vfstype': <Dcel.Dcel object at 0x7f8e5061f1c0>, 'mntopts': <Dcel.Dcel object at 0x7f8e5061c160>, 'freq': <Dcel.Dcel object at 0x7f8e5061cf10>, 'passno': <Dcel.Dcel object at 0x7f8e5061c220>}, '2': {'spec': <Dcel.Dcel object at 0x7f8e5061f0d0>, 'file': <Dcel.Dcel object at 0x7f8e5061f040>, 'vfstype': <Dcel.Dcel object at 0x7f8e5061f100>, 'mntopts': <Dcel.Dcel object at 0x7f8e5061f130>, 'freq': <Dcel.Dcel object at 0x7f8e5061f070>, 'passno': <Dcel.Dcel object at 0x7f8e5061f0a0>}, '3': {'spec': <Dcel.Dcel object at 0x7f8e5061ef80>, 'file': <Dcel.Dcel object at 0x7f8e5061eef0>, 'vfstype': <Dcel.Dcel object at 0x7f8e5061efb0>, 'mntopts': <Dcel.Dcel object at 0x7f8e5061efe0>, 'freq': <Dcel.Dcel object at 0x7f8e5061ef20>, 'passno': <Dcel.Dcel object at 0x7f8e5061ef50>}, '4': {'spec': <Dcel.Dcel object at 0x7f8e5061ee30>, 'file': <Dcel.Dcel object at 0x7f8e5061eda0>, 'vfstype': <Dcel.Dcel object at 0x7f8e5061ee60>, 'mntopts': <Dcel.Dcel object at 0x7f8e5061ee90>, 'freq': <Dcel.Dcel object at 0x7f8e5061edd0>, 'passno': <Dcel.Dcel object at 0x7f8e5061ee00>}, '5': {'spec': <Dcel.Dcel object at 0x7f8e5061ece0>, 'file': <Dcel.Dcel object at 0x7f8e5061ec50>, 'vfstype': <Dcel.Dcel object at 0x7f8e5061ed10>, 'mntopts': <Dcel.Dcel object at 0x7f8e5061ed40>}}\n",
      "        _map: <class 'NoneType'>:None\n",
      "        _dir: <class 'NoneType'>:None\n",
      "        \n"
     ]
    }
   ],
   "source": [
    "print(walker_dcel.inspect())"
   ]
  },
  {
   "cell_type": "code",
   "execution_count": 5,
   "id": "7c0a8a86",
   "metadata": {},
   "outputs": [],
   "source": [
    "subfile_dcel = walker_dcel['1']['mntopts']\n",
    "subformula_dcel = Dcel({'fn':hiena_mp, 'args':[cskvp_hg, subfile_dcel]},\n",
    "                      service_class=FormulaFS)\n",
    "subwalker_dcel = Dcel(subformula_dcel.value, service_class=DictFS)"
   ]
  },
  {
   "cell_type": "code",
   "execution_count": 6,
   "id": "5a1fafe2",
   "metadata": {
    "scrolled": true
   },
   "outputs": [
    {
     "name": "stdout",
     "output_type": "stream",
     "text": [
      "address: <class 'str'>:/\n",
      "        abspath: <class 'str'>:/\n",
      "        service: <class 'DictFS.DictFS'>:<DictFS.DictFS object at 0x7f8e506ce6e0>\n",
      "        value: <class 'dict'>:{'user': <Dcel.Dcel object at 0x7f8e5061e920>, 'shortid': <Dcel.Dcel object at 0x7f8e5061e6b0>, 'idcard': <Dcel.Dcel object at 0x7f8e5061e9b0>}\n",
      "        _map: <class 'NoneType'>:None\n",
      "        _dir: <class 'NoneType'>:None\n",
      "        \n"
     ]
    }
   ],
   "source": [
    "# Pre-flight Check\n",
    "print(subwalker_dcel.inspect())"
   ]
  },
  {
   "cell_type": "code",
   "execution_count": 15,
   "id": "35fc2bda",
   "metadata": {},
   "outputs": [
    {
     "name": "stdout",
     "output_type": "stream",
     "text": [
      "<dir 'shortid'>\n",
      "root\n"
     ]
    }
   ],
   "source": [
    "print(subwalker_dcel.getinfo('shortid'))\n",
    "print(subwalker_dcel['shortid'])"
   ]
  },
  {
   "cell_type": "code",
   "execution_count": 8,
   "id": "93ade25f",
   "metadata": {},
   "outputs": [],
   "source": [
    "shortid_dcel = subwalker_dcel['shortid']"
   ]
  },
  {
   "cell_type": "code",
   "execution_count": 9,
   "id": "0f6b41dd",
   "metadata": {},
   "outputs": [
    {
     "name": "stdout",
     "output_type": "stream",
     "text": [
      "address: <class 'str'>:/shortid\n",
      "        abspath: <class 'str'>:/shortid\n",
      "        service: <class 'DictFS.DictFS'>:<DictFS.DictFS object at 0x7f8e506ce6e0>\n",
      "        value: <class 'Dcel.Dcel'>:root\n",
      "        _map: <class 'NoneType'>:None\n",
      "        _dir: <class 'NoneType'>:None\n",
      "        \n"
     ]
    }
   ],
   "source": [
    "print(shortid_dcel.inspect())"
   ]
  },
  {
   "cell_type": "code",
   "execution_count": 19,
   "id": "09c57e6f",
   "metadata": {},
   "outputs": [],
   "source": [
    "# Test: __init__()\n",
    "my_formula = FormulaFS({'fn':sample_function, 'args':['Arg hello.']})"
   ]
  },
  {
   "cell_type": "code",
   "execution_count": 24,
   "id": "f44cb5f2",
   "metadata": {},
   "outputs": [
    {
     "name": "stdout",
     "output_type": "stream",
     "text": [
      "FormulaFS sample function side-effect.\n",
      "Sample function return value.\n"
     ]
    }
   ],
   "source": [
    "# Test: gettext or readtext\n",
    "# The first run of gettext() should execute the function,\n",
    "# any side effects will happen here.\n",
    "print(my_formula.gettext(''))"
   ]
  },
  {
   "cell_type": "code",
   "execution_count": 20,
   "id": "2093c744",
   "metadata": {},
   "outputs": [
    {
     "name": "stdout",
     "output_type": "stream",
     "text": [
      "3cce2092a5604cb797cdd3fd2a316cbdc158f06b4926b75a3c59848f7f418dfe\n"
     ]
    }
   ],
   "source": [
    "# Test: hash value\n",
    "print(my_formula.hash('.'))"
   ]
  },
  {
   "cell_type": "code",
   "execution_count": 19,
   "id": "f0c2d5bb",
   "metadata": {},
   "outputs": [],
   "source": [
    "# Test: Modify formula dict\n",
    "my_formula._formula_dict['args'].append(['Merry Christmas.'])"
   ]
  },
  {
   "cell_type": "code",
   "execution_count": 21,
   "id": "832cc9ba",
   "metadata": {},
   "outputs": [
    {
     "data": {
      "text/plain": [
       "True"
      ]
     },
     "execution_count": 21,
     "metadata": {},
     "output_type": "execute_result"
    }
   ],
   "source": [
    "# Test: isdirty\n",
    "my_formula.isdirty"
   ]
  },
  {
   "cell_type": "code",
   "execution_count": 22,
   "id": "d2cb26b9",
   "metadata": {},
   "outputs": [
    {
     "data": {
      "text/plain": [
       "False"
      ]
     },
     "execution_count": 22,
     "metadata": {},
     "output_type": "execute_result"
    }
   ],
   "source": [
    "# Test isdir()\n",
    "my_formula.isdir('')"
   ]
  },
  {
   "cell_type": "code",
   "execution_count": 23,
   "id": "bb422438",
   "metadata": {},
   "outputs": [
    {
     "name": "stdout",
     "output_type": "stream",
     "text": [
      "{'basic': {'name': <function sample_function at 0x7f0cf572aa70>, 'is_dir': False}}\n",
      "<function sample_function at 0x7f0cf572aa70>\n"
     ]
    }
   ],
   "source": [
    "# Test getinfo()\n",
    "info = my_formula.getinfo('.')\n",
    "print(info.raw)\n",
    "print(info.name)"
   ]
  },
  {
   "cell_type": "code",
   "execution_count": 25,
   "id": "3b087814",
   "metadata": {},
   "outputs": [
    {
     "name": "stdout",
     "output_type": "stream",
     "text": [
      "Sample function return value.\n"
     ]
    }
   ],
   "source": [
    "# The second run of gettext should use the buffered output.\n",
    "print(my_formula.gettext(''))"
   ]
  },
  {
   "cell_type": "code",
   "execution_count": 26,
   "id": "3f64ff5b",
   "metadata": {},
   "outputs": [
    {
     "name": "stdout",
     "output_type": "stream",
     "text": [
      "Sample function return value.\n"
     ]
    }
   ],
   "source": [
    "# Subsequent runs also use the buffer.\n",
    "print(my_formula.gettext(''))"
   ]
  },
  {
   "cell_type": "code",
   "execution_count": 27,
   "id": "e6b1eb1a",
   "metadata": {},
   "outputs": [
    {
     "name": "stdout",
     "output_type": "stream",
     "text": [
      "False\n",
      "True\n"
     ]
    }
   ],
   "source": [
    "# When the formula dictionary is updated, `.isdirty` will be True.\n",
    "print(my_formula.isdirty)\n",
    "my_formula._formula_dict['args'].append(['Feliz Neuvos Anos.'])\n",
    "print(my_formula.isdirty)"
   ]
  },
  {
   "cell_type": "code",
   "execution_count": 12,
   "id": "d480266d",
   "metadata": {},
   "outputs": [
    {
     "name": "stdout",
     "output_type": "stream",
     "text": [
      "FormulaFS sample function side-effect.\n",
      "Sample function return value.\n"
     ]
    }
   ],
   "source": [
    "# If `isdirty` is True, the next invocation of `gettext()` will execute the function.\n",
    "# This will, again, create side effects.\n",
    "print(my_formula.gettext(''))"
   ]
  },
  {
   "cell_type": "code",
   "execution_count": 29,
   "id": "691e121a",
   "metadata": {},
   "outputs": [
    {
     "name": "stdout",
     "output_type": "stream",
     "text": [
      "Sample function return value.\n"
     ]
    }
   ],
   "source": [
    "# And once more, subsequent `gettext()` calls will use the buffer\n",
    "# until `isdirty` becomes True again.\n",
    "print(my_formula.gettext(''))"
   ]
  },
  {
   "cell_type": "code",
   "execution_count": null,
   "id": "759b8433",
   "metadata": {},
   "outputs": [],
   "source": []
  }
 ],
 "metadata": {
  "kernelspec": {
   "display_name": "Python 3 (ipykernel)",
   "language": "python",
   "name": "python3"
  },
  "language_info": {
   "codemirror_mode": {
    "name": "ipython",
    "version": 3
   },
   "file_extension": ".py",
   "mimetype": "text/x-python",
   "name": "python",
   "nbconvert_exporter": "python",
   "pygments_lexer": "ipython3",
   "version": "3.10.12"
  }
 },
 "nbformat": 4,
 "nbformat_minor": 5
}
