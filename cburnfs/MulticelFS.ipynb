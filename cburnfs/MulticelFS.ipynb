{
 "cells": [
  {
   "cell_type": "markdown",
   "metadata": {},
   "source": [
    "# MulticelFS\n",
    "\n",
    "Combine multiple Dcels together.\n",
    "\n",
    "This differs from a typical overlay filesystem: the `MulticelFS` writes through to all layers. "
   ]
  },
  {
   "cell_type": "code",
   "execution_count": 1,
   "metadata": {},
   "outputs": [],
   "source": [
    "from fs.base import FS\n",
    "from fs.info import Info\n",
    "import six\n",
    "from fs.errors import ResourceNotFound\n",
    "from mergeinfo import mergeinfo\n",
    "\n",
    "def mergehostinfo(A,B,out=None):\n",
    "    pass\n",
    "\n",
    "class MulticelFS(FS):\n",
    "    def __init__(self, dcels):\n",
    "        super().__init__()\n",
    "        self.dcels = dcels\n",
    "        \n",
    "    def _close(self):\n",
    "        #todo: close constituents?\n",
    "        #for ea in self.dcels:\n",
    "            #ea.service.close()\n",
    "        # causing trouble\n",
    "        pass\n",
    "        \n",
    "    if six.PY2:\n",
    "        def close(self):  # noqa: D102\n",
    "            self._close()\n",
    "            super(MultiCelFS, self).close()\n",
    "    else:\n",
    "        def close(self): # noqa: D102\n",
    "            self._close()\n",
    "            super().close()\n",
    "        \n",
    "    def getinfo(self, path, namespaces=None):\n",
    "        raw = dict()\n",
    "        for ea in self.dcels:\n",
    "            try:\n",
    "                i2 = ea.getinfo(path,namespaces)\n",
    "                raw = mergeinfo(raw,i2.raw)\n",
    "                try:\n",
    "                    # hostname = ea.service.url.netloc\n",
    "                    hostname = ea.service._dcel_url\n",
    "                    hostinfo = { 'hosts': [hostname] }\n",
    "                    raw = mergeinfo(raw, hostinfo)\n",
    "                except:\n",
    "                    pass\n",
    "            except ResourceNotFound:\n",
    "                pass\n",
    "        if raw == dict():\n",
    "            raise ResourceNotFound(path)\n",
    "            i = None\n",
    "        else:\n",
    "            i = Info(raw)\n",
    "        return i\n",
    "    \n",
    "    def geturl(self,path):\n",
    "        return None\n",
    "    \n",
    "    def listdir(self,path): # Get a list of resources in a directory.\n",
    "        lsprep = set()\n",
    "        for ea in self.dcels:\n",
    "            try:\n",
    "                lsprep.update(\n",
    "                    ea.listdir(path)\n",
    "                )\n",
    "            except ResourceNotFound:\n",
    "                pass\n",
    "        return list(lsprep)\n",
    "    \n",
    "    def makedir(self,path, permissions=None, recreate=False): # Make a directory.\n",
    "        subpath = \"\"\n",
    "        return SubFS(self,subpath)\n",
    "    \n",
    "    def openbin(self,\n",
    "                path,\n",
    "                mode='r',\n",
    "                buffering=-1,\n",
    "                **options):\n",
    "        for ea in self.dcels:\n",
    "            try:\n",
    "                res = ea.openbin(\n",
    "                    path,\n",
    "                    mode,\n",
    "                    buffering\n",
    "                )\n",
    "            except ResourceNotFound:\n",
    "                pass\n",
    "        # Open a binary file.\n",
    "        return res\n",
    "    \n",
    "    def remove(self,path):\n",
    "        \"\"\"TBD: Remove a file.\"\"\"\n",
    "        return \n",
    "    \n",
    "    def removedir(self,path):\n",
    "        \"\"\"TBD: Remove a directory.\"\"\"\n",
    "        pass\n",
    "    \n",
    "    def setinfo(self,path,info):\n",
    "        \"\"\"TBD: Set resource information.\"\"\"\n",
    "        pass\n",
    "    \n",
    "    #######################################\n",
    "    # NON-PYFILESYSTEM-CONFORMANT METHODS #\n",
    "    #######################################\n",
    "    #\n",
    "    # non-FS API specific to MultiCelFS\n",
    "    #\n",
    "    # TODO: factor as many of these out as possible.\n",
    "    \n",
    "    def add_dcel(self, dcel):\n",
    "        self.dcels.append(dcel)\n",
    "        \n",
    "    def remove_dcel(self, dcel):\n",
    "        self.dcels.remove(dcel)\n",
    "        \n",
    "    def get_dcel_by_host(self,hostname):\n",
    "        for each in self.dcels:\n",
    "            hostid = each.getinfo('/').raw['hosts'][0]\n",
    "            if hostid == hostname:\n",
    "                return each\n",
    "        return None"
   ]
  },
  {
   "cell_type": "code",
   "execution_count": 2,
   "metadata": {},
   "outputs": [],
   "source": [
    "# __init__()\n",
    "\n",
    "from Dcel import Dcel\n",
    "import demo_blackstrap_config\n",
    "from blackstrap import BlackstrapFS\n",
    "\n",
    "a = Dcel(address='file://fs.localhost', \n",
    "         service_class=BlackstrapFS,\n",
    "         writeable=False\n",
    "        )\n",
    "b = Dcel(address='file://fs2.localhost', \n",
    "         service_class=BlackstrapFS)\n",
    "c = Dcel(address=[a,b], \n",
    "         service_class=MulticelFS)"
   ]
  },
  {
   "cell_type": "code",
   "execution_count": 3,
   "metadata": {},
   "outputs": [
    {
     "data": {
      "text/plain": [
       "['apples.txt']"
      ]
     },
     "execution_count": 3,
     "metadata": {},
     "output_type": "execute_result"
    }
   ],
   "source": [
    "## Test writeable and not writeable\n",
    "a.listdir('fruit')"
   ]
  },
  {
   "cell_type": "code",
   "execution_count": 4,
   "metadata": {},
   "outputs": [],
   "source": [
    "c.writetext('fruit/bananas.txt','yellow')"
   ]
  },
  {
   "cell_type": "code",
   "execution_count": 5,
   "metadata": {},
   "outputs": [
    {
     "name": "stdout",
     "output_type": "stream",
     "text": [
      "['apples.txt']\n",
      "['cherries.html.txt', 'bananas.txt']\n",
      "['cherries.html.txt', 'apples.txt', 'bananas.txt']\n"
     ]
    }
   ],
   "source": [
    "print(a.listdir('fruit'))\n",
    "print(b.listdir('fruit'))\n",
    "print(c.listdir('fruit'))"
   ]
  },
  {
   "cell_type": "code",
   "execution_count": 6,
   "metadata": {},
   "outputs": [
    {
     "name": "stdout",
     "output_type": "stream",
     "text": [
      "file://fs2.localhost\n",
      "<Dcel.Dcel object at 0x7f6a800bd040>\n"
     ]
    }
   ],
   "source": [
    "# get_dcel_by_host\n",
    "\n",
    "print(b.getinfo('/').raw['hosts'][0])\n",
    "print(repr(c.service.get_dcel_by_host('file://fs2.localhost')))"
   ]
  },
  {
   "cell_type": "code",
   "execution_count": 7,
   "metadata": {},
   "outputs": [
    {
     "data": {
      "text/plain": [
       "{'basic': {'name': '', 'is_dir': True},\n",
       " 'hosts': ['file://fs2.localhost', 'file://fs.localhost']}"
      ]
     },
     "execution_count": 7,
     "metadata": {},
     "output_type": "execute_result"
    }
   ],
   "source": [
    "# getinfo()\n",
    "\n",
    "c.getinfo('/').raw"
   ]
  },
  {
   "cell_type": "code",
   "execution_count": 8,
   "metadata": {},
   "outputs": [
    {
     "name": "stdout",
     "output_type": "stream",
     "text": [
      "/\n",
      "<__main__.MulticelFS object at 0x7f6a8004d1c0>\n"
     ]
    }
   ],
   "source": [
    "print(f\"{c.address}\\n{c.service}\")"
   ]
  },
  {
   "cell_type": "code",
   "execution_count": 9,
   "metadata": {},
   "outputs": [
    {
     "name": "stdout",
     "output_type": "stream",
     "text": [
      "{'basic': {'name': 'fruit', 'is_dir': True}, 'hosts': ['file://fs2.localhost', 'file://fs.localhost']}\n"
     ]
    },
    {
     "data": {
      "text/plain": [
       "'fs2.localhost'"
      ]
     },
     "execution_count": 9,
     "metadata": {},
     "output_type": "execute_result"
    }
   ],
   "source": [
    "i = c.getinfo('fruit') \n",
    "print(i.raw)\n",
    "b.service.url.netloc"
   ]
  },
  {
   "cell_type": "code",
   "execution_count": 10,
   "metadata": {},
   "outputs": [
    {
     "name": "stdout",
     "output_type": "stream",
     "text": [
      "True\n"
     ]
    }
   ],
   "source": [
    "print(c.exists('@/etc/fstab'))"
   ]
  },
  {
   "cell_type": "code",
   "execution_count": null,
   "metadata": {},
   "outputs": [],
   "source": []
  }
 ],
 "metadata": {
  "kernelspec": {
   "display_name": "Python 3.9",
   "language": "python",
   "name": "python3"
  },
  "language_info": {
   "codemirror_mode": {
    "name": "ipython",
    "version": 3
   },
   "file_extension": ".py",
   "mimetype": "text/x-python",
   "name": "python",
   "nbconvert_exporter": "python",
   "pygments_lexer": "ipython3",
   "version": "3.9.5"
  }
 },
 "nbformat": 4,
 "nbformat_minor": 5
}
