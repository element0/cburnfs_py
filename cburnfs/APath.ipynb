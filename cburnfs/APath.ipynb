{
 "cells": [
  {
   "cell_type": "markdown",
   "metadata": {},
   "source": [
    "# Access Paths\n",
    "\n",
    "\n",
    "## Path Walking\n",
    "\n",
    "The Access Path is a mechanism for, and artifact of, path walking. Each successful lookup of a path segment results in an Access Path object.\n",
    "\n",
    "The Access Path object is an abstraction of two patterns.\n",
    "\n",
    "    - The Access Frame\n",
    "    - The Access Frame Stack\n",
    "    \n",
    "The Access Frame is the state of the lookup environment at each path segment.\n",
    "\n",
    "The Access Frame Stack is the current frame, preceded by previous frames. The stack results in a pathway, from root, to target.\n",
    "\n",
    "An Access Frame has a pointer to the previous frame. This linked list of Access Frames forms the stack. The python class APath creates an instance of an Access Frame, which by reference includes previous frames, the whole path. So one can use an APath object to represent the whole path, so it's called Access Path for convenience, instead of Access Frame.\n",
    "\n",
    "\n",
    "## Environment Cascade\n",
    "\n",
    "Each Access Frame inherits the environment of the previous frame and may overload the environment from its own content.\n",
    "\n",
    "The APath class has a class variable `APath._rootcosm` for a default environment, which root level access paths inherit upon creation.\n",
    "\n",
    "Root level access paths are created without a previous Access Frame. Branch Access Paths are created during path lookup.\n",
    "\n",
    "## User Identity\n",
    "\n",
    "The first frame in an Access Path's frame-stack is the Identity Frame.\n",
    "\n",
    "    raygan@raygan.com\n",
    "\n",
    "An entity must first authenticate to the Identity Frame before accessing the root of the path.\n",
    "\n",
    "The second frame, the path-root, or Home Frame. Is the root of an entity's file system. This is the most top level of access that an entity is granted, and the starting point of all access, such as a User's personal device.\n",
    "\n",
    "    Raygan's device\n",
    "    \n",
    "The personal device context has a user agent such as a web browser or a file system client. \n",
    "\n",
    "    --(firefox)-->\n",
    "\n",
    "Using one of these generates the next frame, which would be the root of a file system, either on disk, or via URL.\n",
    "\n",
    "    /\n",
    "    -or-\n",
    "    https://example.com/\n",
    "    \n",
    "\n",
    "\n",
    "\n",
    "## Code Execution\n",
    "\n",
    "An APath object behaves like a containerized shell during path walking and file creation. It can load and execute code and functions to operate on the current target, extending lookup capabilities beyond regular directory-based lookup, such as parsing a file, searching a database or generating data on the fly.\n",
    "\n",
    "All code and data are accessed through Dcels. The Access Path has a main target Dcel which it operates on. \n",
    "\n",
    "Resources from the Cascading Environment are retrieved as Dcels.\n",
    "\n",
    "An executable resource, represented by a Dcel, is loaded via the APath `load_function()` method. This method mimics some of the functionality of linux's `execva()` in that it tries loading the requested target via modular executable-handlers. When a handler returns a function on success, `load_function()` caches it in an access path branch. The next time the Dcel is requested for execution, the cache can be checked for a function handle.\n",
    "\n",
    "`Apath.command()` is a concise way of \"running\" a command. This method uses `load_function()` and generates a Dcel with the function and args stored as its _formula_. The execution is thereby deferred until the Dcel value is referenced, and Dcels in the args will be expanded at each execution.\n",
    "\n",
    "The resultant Dcel is stored in a branch of the APath.\n",
    "\n",
    "\n",
    "## Relationship with Domain Cels (Dcels)\n",
    "\n",
    "See `Dcel`\n",
    "\n",
    "Domain Cels (Dcels) represent any \"addressable\" data set. They have an `address` and a `service`. The Dcel object provides a consistent API for interacting with the contents of a Dcel no matter how the data is stored or generated.\n",
    "\n",
    "A Dcel provides a file-system interface into it's data via it's service module. With a service module, API's for directory lookup, file reads/writes and new file creation are standardized.\n",
    "\n",
    "An Access Path, APath object, is associated with one Dcel for content, and one Dcel for environment. The Dcel for environment is created by a series of inherited contexts from the Access Frame Stack. The Dcel for content is created by the output of the *previous* path segment lookup within the *previous* Access Frame context.\n",
    "\n",
    "\n",
    "\n",
    "\n",
    "\n",
    "## Bootstrapping Each Step of the Environment Cascade\n",
    "\n",
    "#### Root\n",
    "\n",
    "The class environment is used on the root apath to parse its' domain.\n",
    "\n",
    "Out of the domain, is pulled up the root environment configuration and is overlayed onto the class environment of the root apath.\n",
    "\n",
    "The root env re-parses the root env. --> Final root env.\n",
    "\n",
    "#### Branch\n",
    "\n",
    "The parent environment is used to parse a branch.\n",
    "\n",
    "Out of the branch, is pulled up the branch environment configuration and is overlayed onto the parent environment of the root path.\n",
    "\n",
    "The branch env re-parses the branch env. --> Final branch env.\n",
    "\n",
    "\n",
    "\n",
    "\n",
    "\n",
    "\n",
    "\n",
    "## Constructor\n",
    "\n",
    "Conditions under which an Access Path is created.\n",
    "\n",
    "- Beginning access\n",
    "- Spawned path-walk segment\n",
    "- Unwrapping a wrapper such as Fudge\n",
    "\n",
    "### Beginning access\n",
    "\n",
    "Generate a Dcel and set as target.\n",
    "\n",
    "    a = APath(dcel_instr, service)\n",
    "\n",
    "### Spawning a path-walk segment\n",
    "\n",
    "Looking up a segment.\n",
    "\n",
    "    branch = APath(lookup_instr,\n",
    "                   target,\n",
    "                   parent=self)\n",
    "    \n",
    "### Unwrapping a wrapper\n",
    "\n",
    "    a = APath('.')\n",
    "    wrapper = APathWrapper(a)\n",
    "    \n",
    "If the wrapper is a subclass of APathWrapper, the `__new__` method returns the original APath instance.\n",
    "\n",
    "    aa = APath(wrapper)\n",
    "    \n",
    "    aa is a\n",
    "\n",
    "\n",
    "## Init\n",
    "\n",
    "### Constructor Condition\n",
    "\n",
    "- new\n",
    "- spawn\n",
    "- unwrap\n",
    "\n",
    "\n",
    "### Inherit Environment\n",
    "\n",
    "#### Stage 1\n",
    "\n",
    "The Access Path inherits from the class.\n",
    "\n",
    "#### Stage 2\n",
    "\n",
    "The Access Path inherits from a _parent_.\n",
    "\n",
    "In _Stage 2_ the `.cosm` from the parent replaces the one from the class.\n",
    "\n",
    "#### Stage 3\n",
    "\n",
    "The tools and services from the parent `.cosm` are used to parse the target and retrieve the local `.cosm`.\n",
    "\n",
    "The local `.cosm` is layered ontop of the one from the parent. (If no parent, from the class.)\n",
    "\n",
    "\n"
   ]
  },
  {
   "cell_type": "code",
   "execution_count": 42,
   "metadata": {},
   "outputs": [],
   "source": [
    "from fs.base import FS\n",
    "from fs.osfs import OSFS\n",
    "from fs.multifs import MultiFS\n",
    "from Dcel import Dcel\n",
    "from Dcel import Dcel as D\n",
    "from DictFS import DictFS\n",
    "from ApathRootCosm import apathRootCosm\n",
    "from fs.errors import ResourceNotFound\n",
    "from urllib.parse import urlparse\n",
    "\n",
    "METADIRNAME = \".cosm\"\n",
    "\n",
    "\n",
    "class APathWrapper:\n",
    "    \"\"\"\n",
    "    Inherit this class before wrapping an Apath.\n",
    "    \n",
    "    Subclasses can be unwapped by APath.\n",
    "    \"\"\"\n",
    "    \n",
    "    def __init__(self, apath):\n",
    "        self._apath = apath\n",
    "        \n",
    "\n",
    "class APath(FS):\n",
    "    \n",
    "    # Any APath created without\n",
    "    # a parent inherits the class\n",
    "    # environment.\n",
    "    _rootcosm = Dcel(address=apathRootCosm,\n",
    "                  service_class=DictFS,\n",
    "                  args=['r']\n",
    "                 )\n",
    "    _rootcosm_atdir = Dcel({'@':apathRootCosm}, service_class=DictFS)\n",
    "        \n",
    "    def __new__(cls,\n",
    "                addr=None,\n",
    "                servicename=None,\n",
    "                parent=None\n",
    "                ):\n",
    "        \"\"\"\n",
    "        Check to see if we can\n",
    "        unwrap an Apath from\n",
    "        a subclass of APathWrapper.\n",
    "        Otherwise, create a new instance.\n",
    "        \"\"\"\n",
    "        if issubclass(addr.__class__,\n",
    "                      APathWrapper):\n",
    "            return addr._apath\n",
    "\n",
    "        return super().__new__(cls)\n",
    "    \n",
    "    \n",
    "    def __init__(self,\n",
    "                 addr=None,\n",
    "                 servicename=None,\n",
    "                 parent=None\n",
    "                ):\n",
    "        \n",
    "        # Constructor Conditions\n",
    "        # 1. Unwrap\n",
    "        # 2. Begin Access\n",
    "        # 3. Spawn Branch\n",
    "        \n",
    "        ## Unwrap\n",
    "        #\n",
    "        try:\n",
    "            \"\"\"\n",
    "            In this case, the Apath\n",
    "            class might be unwrapping\n",
    "            an Apath from a wrapper.\n",
    "            \"\"\"\n",
    "            if self.__inited == True:\n",
    "                return\n",
    "        except AttributeError:\n",
    "            # a new instance.\n",
    "            pass\n",
    "        \n",
    "        ## Init new instance\n",
    "        super().__init__()\n",
    "        \n",
    "        ## Inherit rootcosm environment from class\n",
    "        #  set .cosm (cascading operating system)\n",
    "        #  .cosm is a Dcel or PyFilesystem2 FS subclass\n",
    "        # THE COSM WILL BE OVERLOADED AT THE END OF THIS METHOD\n",
    "        # BUT WE NEED THIS TO PROVIDE THE SERVICES FOR INIT.\n",
    "        if parent is None:\n",
    "            self.cosm = APath._rootcosm\n",
    "        else:\n",
    "            self.cosm = parent.cosm\n",
    "        \n",
    "        ## Init directory \n",
    "        self.branch = dict()\n",
    "        \n",
    "        ## Set inited flag\n",
    "        self.__inited = True\n",
    "        \n",
    "        ## Beginning Access\n",
    "        #  addr is a url\n",
    "        #  service is None\n",
    "        if type(addr) is str and servicename is None:\n",
    "            url = urlparse(addr)\n",
    "            servicename = url.scheme\n",
    "        \n",
    "        #  addr\n",
    "        #  service\n",
    "        if type(servicename) is str:\n",
    "            service = self.cosm['services'][servicename].value\n",
    "            self.target = Dcel(address=addr, \n",
    "                               service_class=service)   \n",
    "        \n",
    "        ## Spawning a Branch\n",
    "        #  Dcel\n",
    "        #  Parent Apath\n",
    "        elif type(addr) is Dcel:\n",
    "            # WIP lookup instruction\n",
    "            self.target = addr\n",
    "            \n",
    "            ## inherit from parent\n",
    "            if parent is None:\n",
    "                # create a readonly cel for\n",
    "                # root cosm\n",
    "                pass\n",
    "            # else\n",
    "            # cascade the parent .cosm\n",
    "            # TODO\n",
    "            \n",
    "        # parent\n",
    "        self.parent = parent\n",
    "        \n",
    "\n",
    "            \n",
    "        ## Inherit rootcosm environment from class\n",
    "        #  set .cosm (cascading operating system)\n",
    "        #  .cosm is a Dcel or PyFilesystem2 FS subclass\n",
    "        \n",
    "        # - read '@' and '.@' entries\n",
    "        # - cascade '@' and '.@' onto .cosm\n",
    "        # Quick Hack:\n",
    "        # - Make a fs.multifs::MultiFS of:\n",
    "        #        parent.target Dcel, write=False\n",
    "        #        this.target Dcel, write=True\n",
    "        # - Make a fs.subfs::SubFS via opendir() of:\n",
    "        #        theAboveResult.opendir('@')\n",
    "        # - The resulting SubFS instance will allow writes\n",
    "        #   only if '@' exists in the writable layer\n",
    "        #   AND WHEN the @ comes into existence writes become available.\n",
    "\n",
    "        overlay = MultiFS()\n",
    "        overlay.add_fs('root',APath._rootcosm_atdir)\n",
    "        if parent is not None:\n",
    "            overlay.add_fs('parent',parent.target)\n",
    "        if(self.target.isdir()):\n",
    "            overlay.add_fs('local',self.target,write=True)\n",
    "\n",
    "        # TODO: <---- add a virtual directory with stubs for '@' and '.@'\n",
    "        #      to make the following hack work in absense of those in true fs.\n",
    "        stubhack = Dcel({'@':dict(),'.@':dict()},service_class=DictFS)\n",
    "        overlay.add_fs('stubhack',stubhack)\n",
    "\n",
    "        # Use ApathRootCosm['etc']['cosmdirname']\n",
    "        # to customize variants of cosm directory.\n",
    "        # Precedence is determined by list order.\n",
    "        cosmdirnamelist = self.cosm.listdir('/etc/cosmdirname')\n",
    "        self.cosm = MultiFS()\n",
    "        for ea in cosmdirnamelist:\n",
    "            try:\n",
    "                _cosm = overlay.opendir(ea)\n",
    "                self.cosm.add_fs(f'cosm{ea}',_cosm,write=True)\n",
    "            except:\n",
    "                # skip entries that opendir() can't find\n",
    "                pass\n",
    "        \n",
    "    def _reinit(self,\n",
    "                 addr=None,\n",
    "                 servicename=None,\n",
    "                 parent=None\n",
    "                ):\n",
    "        self.branch = dict()\n",
    "        self.__inited = True\n",
    "        \n",
    "        ## Beginning Access\n",
    "        #  addr is a url\n",
    "        #  service is None\n",
    "        if type(addr) is str and servicename is None:\n",
    "            url = urlparse(addr)\n",
    "            servicename = url.scheme\n",
    "        \n",
    "        #  addr\n",
    "        #  service\n",
    "        if type(servicename) is str:\n",
    "            service = self.cosm['services'][servicename].value\n",
    "            self.target = Dcel(address=addr, \n",
    "                               service_class=service)   \n",
    "        \n",
    "        ## Spawning a Branch\n",
    "        #  Dcel\n",
    "        #  Parent Apath\n",
    "        elif type(addr) is Dcel:\n",
    "            # WIP lookup instruction\n",
    "            self.target = addr\n",
    "            \n",
    "            ## inherit from parent\n",
    "            if parent is None:\n",
    "                # create a readonly cel for\n",
    "                # root cosm\n",
    "                pass\n",
    "            # else\n",
    "            # cascade the parent .cosm\n",
    "            # TODO\n",
    "            \n",
    "        # parent\n",
    "        self.parent = parent\n",
    "        \n",
    "        # overlay local environment .cosm\n",
    "        # TODO\n",
    "    \n",
    "    def _inherit_cosm(self):\n",
    "        \n",
    "        # get cosm dcel from parent\n",
    "        par_cosmcel = self.parent.cosm\n",
    "        \n",
    "        # get cosm dcel from target\n",
    "        lookupfn = self.parent.cosm['sbin']['lookup']\n",
    "        targ_cosmcel = self.target['.cosm']\n",
    "        \n",
    "        # create new dcel from both\n",
    "        d = Dcel(address=[par_cosmcel, targ_cosmcel],\n",
    "              service_class=CascadeCelFS)\n",
    "    \n",
    "    def _spawn(parent, name, dcel):\n",
    "        # works as classy or self method\n",
    "        ap = APath(dcel, parent=parent)\n",
    "        parent.branch[name] = ap\n",
    "        return ap\n",
    "    \n",
    "    def close(self):\n",
    "        # TODO:\n",
    "        # need to close _cosm.fs[*]?\n",
    "        # close DCel?\n",
    "        super().close()\n",
    "    \n",
    "    def detect_service(self,addr):\n",
    "        if addr is dict:\n",
    "            return self.cosm['services']['dict'].value\n",
    "        return self.cosm['services']['file']\n",
    "    \n",
    "    def start_service(self,addr,service=None):\n",
    "        if service is None:\n",
    "            _Service = self.detect_service(addr)\n",
    "        else:\n",
    "            _Service = service\n",
    "        return _Service(addr)\n",
    "    \n",
    "    \n",
    "    # lookup interface --------------\n",
    "    \n",
    "    def _pathwalk(self,path=\"\"):\n",
    "        if path in (None,\"\",\".\",\"/\"):\n",
    "            return self\n",
    "        path = path.strip(\"/\")\n",
    "        try:\n",
    "            seg,nextpath = path.split('/',1)\n",
    "        except:\n",
    "            return self.lookup(path)\n",
    "        try:\n",
    "            return self.lookup(seg)._pathwalk(nextpath)\n",
    "        except:\n",
    "            raise ResourceNotFound(path)\n",
    "    \n",
    "    def path_lookup(self,path):\n",
    "        return self._pathwalk(path)\n",
    "        \n",
    "    def lookup(self, addr):\n",
    "        \"\"\" \n",
    "        Return an entry of the current\n",
    "        target's directory\n",
    "        wrapped in an Apath.\n",
    "        \"\"\"\n",
    "        try:\n",
    "            d = self.target[addr]\n",
    "            try:\n",
    "                a = self.branch[addr]\n",
    "                if a.target != d:\n",
    "                    a = APath(d,parent=self)\n",
    "                    self.branch[addr] = a\n",
    "                return a\n",
    "            except:\n",
    "                a = APath(d,parent=self)\n",
    "                self.branch[addr] = a\n",
    "                return a\n",
    "        except:\n",
    "            try:\n",
    "                a = self.branch[addr]\n",
    "                return a\n",
    "            except:\n",
    "                raise\n",
    "            raise\n",
    "    \n",
    "    def getchild(self, key):\n",
    "        return self.lookup(key)\n",
    "    \n",
    "    def exists(self, key):\n",
    "        try:\n",
    "            self.lookup(key)\n",
    "            return True\n",
    "        except:\n",
    "            return False\n",
    "    \n",
    "    def getprop(self, key):\n",
    "        # test version only returns self\n",
    "        return self\n",
    "    \n",
    "    # execution interface -----------\n",
    "    \n",
    "    def canonical_cmdline(cmdname, *args, **kwargs):\n",
    "        # fixme: include args and kwargs\n",
    "        return cmdname\n",
    "    \n",
    "    def load_function(self, fncel:Dcel):\n",
    "        return fncel.value\n",
    "    \n",
    "    def resolve_cmdpath(self, cmdname):\n",
    "        for p in self.cosm['env']['PATH'].value:\n",
    "            # lookup command dcel\n",
    "            _p = p.removeprefix('.cosm/')\n",
    "            pathname = _p+'/'+cmdname\n",
    "            cmdcel = self.cosm.path_lookup(pathname)\n",
    "            if not cmdcel is None:\n",
    "                break\n",
    "        return cmdcel\n",
    "    \n",
    "    def resolve_interpreter(self, cmdcel):\n",
    "        val = cmdcel.value\n",
    "        if type(val) is dict:\n",
    "            try:\n",
    "                interp_path = val['#!'][0]\n",
    "            except:\n",
    "                return (None,[])\n",
    "            try:\n",
    "                interp_args = val['#!'][1:]\n",
    "            except:\n",
    "                interp_args = []\n",
    "            interp_cel = self.resolve_cmdpath(interp_path)\n",
    "            return (interp_cel,interp_args)\n",
    "        return (None,[])\n",
    "\n",
    "    def command(self, rtntype, cmdname, *args, **kwargs):        \n",
    "        # use cache\n",
    "        cmd_id = self.canonical_cmdline(cmdname, *args, **kwargs)\n",
    "        #try:\n",
    "          #  return self.branch[cmd_id]      \n",
    "        #except:\n",
    "            #pass\n",
    "        if str(type(cmdname))==\"<class 'function'>\":\n",
    "            fn = cmdname\n",
    "        else:\n",
    "            cmdcel = self.resolve_cmdpath(cmdname)\n",
    "            interp_cel,interp_args = self.resolve_interpreter(cmdcel)\n",
    "            # get function pointer\n",
    "            if interp_cel != None:\n",
    "                fn = self.load_function(interp_cel)\n",
    "                args = interp_args + [cmdcel] + [*args]\n",
    "            else:\n",
    "                fn = self.load_function(cmdcel)\n",
    "\n",
    "        # set service for return type\n",
    "        if issubclass(rtntype,FS):\n",
    "            service_cls = rtntype\n",
    "        else:\n",
    "            service_cls = self.detect_service(rtntype)\n",
    "        \n",
    "        # create dcel with formula\n",
    "        dc = Dcel( formula=fn,\n",
    "                   args=args,\n",
    "                   kwargs=kwargs,\n",
    "                 )\n",
    "        # create service wrapper\n",
    "        _dc = Dcel(address=dc, \n",
    "                   service_class=service_cls)\n",
    "\n",
    "        # wrap in APath\n",
    "        res = APath(_dc, parent=self)\n",
    "\n",
    "        # stash\n",
    "        self.branch[cmd_id] = res\n",
    "        \n",
    "        return res\n",
    "    \n",
    "    # pyfilesystem 'FS' interface ---\n",
    "    \n",
    "    def getinfo(self, addr=None, namespaces=None):\n",
    "        return self.target.getinfo(addr,namespaces)\n",
    "    \n",
    "    def listdir(self,path=None):\n",
    "        return self.target.listdir(path)\n",
    "    \n",
    "    def isdir(self,path=None):\n",
    "        return self.target.isdir(path)\n",
    "    \n",
    "    def makedir(self,path,permissions=None,recreate=False):\n",
    "        return self.target.makedir(path,permissions,recreate)\n",
    "    \n",
    "    def openbin(self,\n",
    "            path=None,\n",
    "            mode='r',\n",
    "            buffering=-1):\n",
    "        # Open a binary file.\n",
    "        return self.target.openbin(\n",
    "            path,\n",
    "            mode,\n",
    "            buffering)\n",
    "    \n",
    "    def readbytes(self, path=None):\n",
    "        return self.target.readbytes(path)\n",
    "        \n",
    "    def readtext(self, path=None):\n",
    "        return self.target.readtext(path)\n",
    "        \n",
    "    def remove(self,path): # Remove a file.\n",
    "        return self.target.remove(path)\n",
    "    \n",
    "    def removedir(self,path): # Remove a directory.\n",
    "        return self.target.removedir(path)\n",
    "        \n",
    "    def setinfo(self,path,info):  # Set resource information.\n",
    "        return self.target.setinfo(path, info)\n"
   ]
  },
  {
   "cell_type": "code",
   "execution_count": 2,
   "metadata": {},
   "outputs": [
    {
     "data": {
      "text/plain": [
       "blackstrap.BlackstrapFS"
      ]
     },
     "execution_count": 2,
     "metadata": {},
     "output_type": "execute_result"
    }
   ],
   "source": [
    "from blackstrap import BlackstrapFS\n",
    "BlackstrapFS.initHost('localhost')\n",
    "#BlackstrapFS.addShare('fs/cburnwebui','cburn')\n",
    "BlackstrapFS.addShare('fs/fs','fs')\n",
    "BlackstrapFS.addShare('fs/fs2','fs2')\n"
   ]
  },
  {
   "cell_type": "code",
   "execution_count": 43,
   "metadata": {},
   "outputs": [],
   "source": [
    "a = APath('file://fs.localhost','file')\n",
    "aa = APath('file://fs2.localhost','file')"
   ]
  },
  {
   "cell_type": "code",
   "execution_count": 44,
   "metadata": {},
   "outputs": [
    {
     "name": "stdout",
     "output_type": "stream",
     "text": [
      "['WHATISTHIS?', 'bin', 'env', 'etc', 'services', 'tools', 'types', 'machines', 'var', 'hosts']\n"
     ]
    }
   ],
   "source": [
    "print(a.cosm.listdir('/'))"
   ]
  },
  {
   "cell_type": "code",
   "execution_count": 45,
   "metadata": {},
   "outputs": [
    {
     "name": "stdout",
     "output_type": "stream",
     "text": [
      "['test', '.cosm', 'fruit', 'tmp_updateMultiValue.txt', 'numbers', 'boats', '@']\n",
      "['apples.txt']\n"
     ]
    }
   ],
   "source": [
    "# TEST: listdir('/')\n",
    "print(a.listdir('/'))\n",
    "print(aa.listdir('/fruit'))"
   ]
  },
  {
   "cell_type": "code",
   "execution_count": 46,
   "metadata": {},
   "outputs": [
    {
     "name": "stdout",
     "output_type": "stream",
     "text": [
      "red\n"
     ]
    }
   ],
   "source": [
    "# TEST: lookup()\n",
    "\n",
    "path = 'fruit/apples.txt'\n",
    "targ = a.lookup(path)\n",
    "print(targ.target)"
   ]
  },
  {
   "cell_type": "code",
   "execution_count": 47,
   "metadata": {},
   "outputs": [
    {
     "name": "stdout",
     "output_type": "stream",
     "text": [
      "['WHATISTHIS?', 'bin', 'env', 'etc', 'services', 'tools', 'types', 'machines', 'var', 'hosts']\n"
     ]
    }
   ],
   "source": [
    "targ = a.lookup('fruit')\n",
    "print(targ.cosm.listdir('/'))"
   ]
  },
  {
   "cell_type": "code",
   "execution_count": 4,
   "metadata": {
    "scrolled": true
   },
   "outputs": [
    {
     "name": "stdout",
     "output_type": "stream",
     "text": [
      "<class 'function'>\n",
      "True\n"
     ]
    },
    {
     "data": {
      "text/plain": [
       "[<Dcel.Dcel at 0x125ef2340>]"
      ]
     },
     "execution_count": 4,
     "metadata": {},
     "output_type": "execute_result"
    }
   ],
   "source": [
    "from MulticelSeqFS import MulticelSeqFS\n",
    "from fs.base import FS\n",
    "def fudgeglob(cel):\n",
    "    return [cel[e] for e in cel.listdir()]\n",
    "print(type(fudgeglob))\n",
    "print(issubclass(MulticelSeqFS,FS))\n",
    "\n",
    "fudgeglob(a.target)"
   ]
  },
  {
   "cell_type": "code",
   "execution_count": 5,
   "metadata": {},
   "outputs": [
    {
     "data": {
      "text/plain": [
       "\"b'\\\\xff\\\\xd8\""
      ]
     },
     "execution_count": 5,
     "metadata": {},
     "output_type": "execute_result"
    }
   ],
   "source": [
    "path = '.cosm/tools/cburn.app/img/IMG_5997.JPG'\n",
    "b = a.lookup(path)\n",
    "c = str(b.target)\n",
    "c[0:10]"
   ]
  },
  {
   "cell_type": "code",
   "execution_count": 7,
   "metadata": {
    "scrolled": true
   },
   "outputs": [
    {
     "name": "stdout",
     "output_type": "stream",
     "text": [
      "<class 'Dcel.Dcel'>\n",
      "['1', '2', '3', '4']\n",
      "file://fs2.localhost/\n"
     ]
    },
    {
     "ename": "AttributeError",
     "evalue": "'Dcel' object has no attribute 'address'",
     "output_type": "error",
     "traceback": [
      "\u001b[0;31m---------------------------------------------------------------------------\u001b[0m",
      "\u001b[0;31mAttributeError\u001b[0m                            Traceback (most recent call last)",
      "\u001b[0;32m~/tmp/ipykernel_553/1527978445.py\u001b[0m in \u001b[0;36m<module>\u001b[0;34m\u001b[0m\n\u001b[1;32m     17\u001b[0m               \u001b[0;34m[\u001b[0m\u001b[0;34m~\u001b[0m\u001b[0mgcel\u001b[0m\u001b[0;34m]\u001b[0m\u001b[0;34m\u001b[0m\u001b[0;34m\u001b[0m\u001b[0m\n\u001b[1;32m     18\u001b[0m              )\n\u001b[0;32m---> 19\u001b[0;31m \u001b[0mprint\u001b[0m\u001b[0;34m(\u001b[0m\u001b[0mh\u001b[0m\u001b[0;34m.\u001b[0m\u001b[0mlistdir\u001b[0m\u001b[0;34m(\u001b[0m\u001b[0;34m)\u001b[0m\u001b[0;34m)\u001b[0m\u001b[0;34m\u001b[0m\u001b[0;34m\u001b[0m\u001b[0m\n\u001b[0m",
      "\u001b[0;32m~/tmp/ipykernel_553/1787272012.py\u001b[0m in \u001b[0;36mlistdir\u001b[0;34m(self, path)\u001b[0m\n\u001b[1;32m    294\u001b[0m \u001b[0;34m\u001b[0m\u001b[0m\n\u001b[1;32m    295\u001b[0m     \u001b[0;32mdef\u001b[0m \u001b[0mlistdir\u001b[0m\u001b[0;34m(\u001b[0m\u001b[0mself\u001b[0m\u001b[0;34m,\u001b[0m\u001b[0mpath\u001b[0m\u001b[0;34m=\u001b[0m\u001b[0;32mNone\u001b[0m\u001b[0;34m)\u001b[0m\u001b[0;34m:\u001b[0m\u001b[0;34m\u001b[0m\u001b[0;34m\u001b[0m\u001b[0m\n\u001b[0;32m--> 296\u001b[0;31m         \u001b[0;32mreturn\u001b[0m \u001b[0mself\u001b[0m\u001b[0;34m.\u001b[0m\u001b[0mtarget\u001b[0m\u001b[0;34m.\u001b[0m\u001b[0mlistdir\u001b[0m\u001b[0;34m(\u001b[0m\u001b[0mpath\u001b[0m\u001b[0;34m)\u001b[0m\u001b[0;34m\u001b[0m\u001b[0;34m\u001b[0m\u001b[0m\n\u001b[0m\u001b[1;32m    297\u001b[0m \u001b[0;34m\u001b[0m\u001b[0m\n\u001b[1;32m    298\u001b[0m     \u001b[0;32mdef\u001b[0m \u001b[0misdir\u001b[0m\u001b[0;34m(\u001b[0m\u001b[0mself\u001b[0m\u001b[0;34m,\u001b[0m\u001b[0mpath\u001b[0m\u001b[0;34m=\u001b[0m\u001b[0;32mNone\u001b[0m\u001b[0;34m)\u001b[0m\u001b[0;34m:\u001b[0m\u001b[0;34m\u001b[0m\u001b[0;34m\u001b[0m\u001b[0m\n",
      "\u001b[0;32m~/tmp/NSIRD_Carnets_9MEd6m/Dboy/Cloudburner/webui/Dcel.py\u001b[0m in \u001b[0;36mlistdir\u001b[0;34m(self, path)\u001b[0m\n\u001b[1;32m    261\u001b[0m     \u001b[0;32mdef\u001b[0m \u001b[0mlistdir\u001b[0m\u001b[0;34m(\u001b[0m\u001b[0mself\u001b[0m\u001b[0;34m,\u001b[0m\u001b[0mpath\u001b[0m\u001b[0;34m=\u001b[0m\u001b[0;32mNone\u001b[0m\u001b[0;34m)\u001b[0m\u001b[0;34m:\u001b[0m\u001b[0;34m\u001b[0m\u001b[0;34m\u001b[0m\u001b[0m\n\u001b[1;32m    262\u001b[0m         \u001b[0;32mif\u001b[0m \u001b[0mpath\u001b[0m \u001b[0;32mis\u001b[0m \u001b[0;32mNone\u001b[0m\u001b[0;34m:\u001b[0m\u001b[0;34m\u001b[0m\u001b[0;34m\u001b[0m\u001b[0m\n\u001b[0;32m--> 263\u001b[0;31m             \u001b[0mpath\u001b[0m \u001b[0;34m=\u001b[0m \u001b[0mself\u001b[0m\u001b[0;34m.\u001b[0m\u001b[0maddress\u001b[0m\u001b[0;34m\u001b[0m\u001b[0;34m\u001b[0m\u001b[0m\n\u001b[0m\u001b[1;32m    264\u001b[0m         \u001b[0;32melse\u001b[0m\u001b[0;34m:\u001b[0m\u001b[0;34m\u001b[0m\u001b[0;34m\u001b[0m\u001b[0m\n\u001b[1;32m    265\u001b[0m             \u001b[0mpath\u001b[0m \u001b[0;34m=\u001b[0m \u001b[0mself\u001b[0m\u001b[0;34m.\u001b[0m\u001b[0maddress\u001b[0m\u001b[0;34m+\u001b[0m\u001b[0;34m'/'\u001b[0m\u001b[0;34m+\u001b[0m\u001b[0mpath\u001b[0m\u001b[0;34m\u001b[0m\u001b[0;34m\u001b[0m\u001b[0m\n",
      "\u001b[0;31mAttributeError\u001b[0m: 'Dcel' object has no attribute 'address'"
     ]
    }
   ],
   "source": [
    "urlstr='.cosm/etc/fstab'\n",
    "f = aa.lookup(urlstr)\n",
    "d = Dcel(address=urlstr, \n",
    "               service_class='file'\n",
    "              )\n",
    "#f = APath(d)\n",
    "\n",
    "g = f.command(dict,'fstab',f.target)\n",
    "print(type(g.target))\n",
    "#print(g.target.__dict__)\n",
    "print(g.listdir())\n",
    "print(g.target['1']['spec'])\n",
    "\n",
    "gcel = a.target\n",
    "h = a.command(MulticelSeqFS,\n",
    "              fudgeglob,\n",
    "              [~gcel]\n",
    "             )\n",
    "print(h.listdir())\n"
   ]
  },
  {
   "cell_type": "code",
   "execution_count": 17,
   "metadata": {
    "scrolled": false
   },
   "outputs": [
    {
     "name": "stdout",
     "output_type": "stream",
     "text": [
      "<class 'dict'>\n",
      "myserver\n"
     ]
    }
   ],
   "source": [
    "urlstr = 'file://myserver/share/path'\n",
    "d = APath(Dcel(value=urlstr))\n",
    "b = d.command(dict, 'url',d.target)\n",
    "print(type(b.target.value))\n",
    "print(b.target.value['netloc'])"
   ]
  },
  {
   "cell_type": "code",
   "execution_count": 8,
   "metadata": {},
   "outputs": [
    {
     "name": "stdout",
     "output_type": "stream",
     "text": [
      "myserver\n"
     ]
    },
    {
     "data": {
      "text/plain": [
       "['scheme', 'netloc', 'path', 'params', 'query', 'fragment']"
      ]
     },
     "execution_count": 8,
     "metadata": {},
     "output_type": "execute_result"
    }
   ],
   "source": [
    "print(b.target.value['netloc'])\n",
    "b.listdir()"
   ]
  },
  {
   "cell_type": "code",
   "execution_count": 9,
   "metadata": {
    "scrolled": true
   },
   "outputs": [
    {
     "name": "stdout",
     "output_type": "stream",
     "text": [
      "/share/path\n",
      "path\n",
      "/share/path\n",
      "/part/path\n"
     ]
    }
   ],
   "source": [
    "from urllib.parse import urlparse\n",
    "\n",
    "addrs = [ \n",
    "    'file://myserver/share/path',\n",
    "    'file:path',\n",
    "    '//myserver/share/path', \n",
    "    '/part/path'\n",
    "    ]\n",
    "for addr in addrs:\n",
    "    url = urlparse(addr)\n",
    "    print(url.path)\n"
   ]
  },
  {
   "cell_type": "code",
   "execution_count": 10,
   "metadata": {
    "scrolled": true
   },
   "outputs": [
    {
     "name": "stdout",
     "output_type": "stream",
     "text": [
      "(OSFS('/private/var/mobile/Containers/Data/Application/9DBD9C20-8AA4-43F7-95BF-0F6447F4055C/tmp/NSIRD_Carnets_8CHZxE/Dboy/Cloudburner/webui/fs'), None)\n",
      "(OSFS('/private/var/mobile/Containers/Data/Application/9DBD9C20-8AA4-43F7-95BF-0F6447F4055C/tmp/NSIRD_Carnets_8CHZxE/Dboy/Cloudburner/webui/fs'), None)\n"
     ]
    },
    {
     "ename": "CreateFailed",
     "evalue": "root path '/private/var/mobile/Containers/Data/Application/9DBD9C20-8AA4-43F7-95BF-0F6447F4055C/tmp/NSIRD_Carnets_8CHZxE/Dboy/Cloudburner/webui/file:fs' does not exist",
     "output_type": "error",
     "traceback": [
      "\u001b[0;31m---------------------------------------------------------------------------\u001b[0m",
      "\u001b[0;31mCreateFailed\u001b[0m                              Traceback (most recent call last)",
      "\u001b[0;32m<ipython-input-10-8680f090061b>\u001b[0m in \u001b[0;36m<module>\u001b[0;34m\u001b[0m\n\u001b[1;32m      3\u001b[0m \u001b[0maddrs\u001b[0m \u001b[0;34m=\u001b[0m \u001b[0;34m[\u001b[0m\u001b[0;34m'fs'\u001b[0m\u001b[0;34m,\u001b[0m\u001b[0;34m'file://fs'\u001b[0m\u001b[0;34m,\u001b[0m\u001b[0;34m'file:fs'\u001b[0m\u001b[0;34m]\u001b[0m\u001b[0;34m\u001b[0m\u001b[0;34m\u001b[0m\u001b[0m\n\u001b[1;32m      4\u001b[0m \u001b[0;32mfor\u001b[0m \u001b[0maddr\u001b[0m \u001b[0;32min\u001b[0m \u001b[0maddrs\u001b[0m\u001b[0;34m:\u001b[0m\u001b[0;34m\u001b[0m\u001b[0;34m\u001b[0m\u001b[0m\n\u001b[0;32m----> 5\u001b[0;31m     \u001b[0mprint\u001b[0m \u001b[0;34m(\u001b[0m\u001b[0mfsopen\u001b[0m\u001b[0;34m(\u001b[0m\u001b[0maddr\u001b[0m\u001b[0;34m)\u001b[0m\u001b[0;34m)\u001b[0m\u001b[0;34m\u001b[0m\u001b[0;34m\u001b[0m\u001b[0m\n\u001b[0m",
      "\u001b[0;32m/var/mobile/Containers/Data/Application/9DBD9C20-8AA4-43F7-95BF-0F6447F4055C/Library/lib/python3.9/site-packages/fs/opener/registry.py\u001b[0m in \u001b[0;36mopen\u001b[0;34m(self, fs_url, writeable, create, cwd, default_protocol)\u001b[0m\n\u001b[1;32m    184\u001b[0m         \u001b[0mopener\u001b[0m \u001b[0;34m=\u001b[0m \u001b[0mself\u001b[0m\u001b[0;34m.\u001b[0m\u001b[0mget_opener\u001b[0m\u001b[0;34m(\u001b[0m\u001b[0mprotocol\u001b[0m\u001b[0;34m)\u001b[0m\u001b[0;34m\u001b[0m\u001b[0;34m\u001b[0m\u001b[0m\n\u001b[1;32m    185\u001b[0m \u001b[0;34m\u001b[0m\u001b[0m\n\u001b[0;32m--> 186\u001b[0;31m         \u001b[0mopen_fs\u001b[0m \u001b[0;34m=\u001b[0m \u001b[0mopener\u001b[0m\u001b[0;34m.\u001b[0m\u001b[0mopen_fs\u001b[0m\u001b[0;34m(\u001b[0m\u001b[0mfs_url\u001b[0m\u001b[0;34m,\u001b[0m \u001b[0mparse_result\u001b[0m\u001b[0;34m,\u001b[0m \u001b[0mwriteable\u001b[0m\u001b[0;34m,\u001b[0m \u001b[0mcreate\u001b[0m\u001b[0;34m,\u001b[0m \u001b[0mcwd\u001b[0m\u001b[0;34m)\u001b[0m\u001b[0;34m\u001b[0m\u001b[0;34m\u001b[0m\u001b[0m\n\u001b[0m\u001b[1;32m    187\u001b[0m         \u001b[0;32mreturn\u001b[0m \u001b[0mopen_fs\u001b[0m\u001b[0;34m,\u001b[0m \u001b[0mopen_path\u001b[0m\u001b[0;34m\u001b[0m\u001b[0;34m\u001b[0m\u001b[0m\n\u001b[1;32m    188\u001b[0m \u001b[0;34m\u001b[0m\u001b[0m\n",
      "\u001b[0;32m/var/mobile/Containers/Data/Application/9DBD9C20-8AA4-43F7-95BF-0F6447F4055C/Library/lib/python3.9/site-packages/fs/opener/osfs.py\u001b[0m in \u001b[0;36mopen_fs\u001b[0;34m(self, fs_url, parse_result, writeable, create, cwd)\u001b[0m\n\u001b[1;32m     38\u001b[0m         \u001b[0m_path\u001b[0m \u001b[0;34m=\u001b[0m \u001b[0mabspath\u001b[0m\u001b[0;34m(\u001b[0m\u001b[0mjoin\u001b[0m\u001b[0;34m(\u001b[0m\u001b[0mcwd\u001b[0m\u001b[0;34m,\u001b[0m \u001b[0mexpanduser\u001b[0m\u001b[0;34m(\u001b[0m\u001b[0mparse_result\u001b[0m\u001b[0;34m.\u001b[0m\u001b[0mresource\u001b[0m\u001b[0;34m)\u001b[0m\u001b[0;34m)\u001b[0m\u001b[0;34m)\u001b[0m\u001b[0;34m\u001b[0m\u001b[0;34m\u001b[0m\u001b[0m\n\u001b[1;32m     39\u001b[0m         \u001b[0mpath\u001b[0m \u001b[0;34m=\u001b[0m \u001b[0mnormpath\u001b[0m\u001b[0;34m(\u001b[0m\u001b[0m_path\u001b[0m\u001b[0;34m)\u001b[0m\u001b[0;34m\u001b[0m\u001b[0;34m\u001b[0m\u001b[0m\n\u001b[0;32m---> 40\u001b[0;31m         \u001b[0mosfs\u001b[0m \u001b[0;34m=\u001b[0m \u001b[0mOSFS\u001b[0m\u001b[0;34m(\u001b[0m\u001b[0mpath\u001b[0m\u001b[0;34m,\u001b[0m \u001b[0mcreate\u001b[0m\u001b[0;34m=\u001b[0m\u001b[0mcreate\u001b[0m\u001b[0;34m)\u001b[0m\u001b[0;34m\u001b[0m\u001b[0;34m\u001b[0m\u001b[0m\n\u001b[0m\u001b[1;32m     41\u001b[0m         \u001b[0;32mreturn\u001b[0m \u001b[0mosfs\u001b[0m\u001b[0;34m\u001b[0m\u001b[0;34m\u001b[0m\u001b[0m\n",
      "\u001b[0;32m/var/mobile/Containers/Data/Application/9DBD9C20-8AA4-43F7-95BF-0F6447F4055C/Library/lib/python3.9/site-packages/fs/osfs.py\u001b[0m in \u001b[0;36m__init__\u001b[0;34m(self, root_path, create, create_mode, expand_vars)\u001b[0m\n\u001b[1;32m    139\u001b[0m             \u001b[0;32mif\u001b[0m \u001b[0;32mnot\u001b[0m \u001b[0mos\u001b[0m\u001b[0;34m.\u001b[0m\u001b[0mpath\u001b[0m\u001b[0;34m.\u001b[0m\u001b[0misdir\u001b[0m\u001b[0;34m(\u001b[0m\u001b[0m_root_path\u001b[0m\u001b[0;34m)\u001b[0m\u001b[0;34m:\u001b[0m\u001b[0;34m\u001b[0m\u001b[0;34m\u001b[0m\u001b[0m\n\u001b[1;32m    140\u001b[0m                 \u001b[0mmessage\u001b[0m \u001b[0;34m=\u001b[0m \u001b[0;34m\"root path '{}' does not exist\"\u001b[0m\u001b[0;34m.\u001b[0m\u001b[0mformat\u001b[0m\u001b[0;34m(\u001b[0m\u001b[0m_root_path\u001b[0m\u001b[0;34m)\u001b[0m\u001b[0;34m\u001b[0m\u001b[0;34m\u001b[0m\u001b[0m\n\u001b[0;32m--> 141\u001b[0;31m                 \u001b[0;32mraise\u001b[0m \u001b[0merrors\u001b[0m\u001b[0;34m.\u001b[0m\u001b[0mCreateFailed\u001b[0m\u001b[0;34m(\u001b[0m\u001b[0mmessage\u001b[0m\u001b[0;34m)\u001b[0m\u001b[0;34m\u001b[0m\u001b[0;34m\u001b[0m\u001b[0m\n\u001b[0m\u001b[1;32m    142\u001b[0m \u001b[0;34m\u001b[0m\u001b[0m\n\u001b[1;32m    143\u001b[0m         _meta = self._meta = {\n",
      "\u001b[0;31mCreateFailed\u001b[0m: root path '/private/var/mobile/Containers/Data/Application/9DBD9C20-8AA4-43F7-95BF-0F6447F4055C/tmp/NSIRD_Carnets_8CHZxE/Dboy/Cloudburner/webui/file:fs' does not exist"
     ]
    }
   ],
   "source": [
    "from fs.opener import open as fsopen\n",
    "\n",
    "addrs = ['fs','file://fs','file:fs']\n",
    "for addr in addrs:\n",
    "    print (fsopen(addr))"
   ]
  },
  {
   "cell_type": "code",
   "execution_count": 2,
   "metadata": {},
   "outputs": [
    {
     "data": {
      "text/plain": [
       "[1, 2, 3, 4, 5, 6]"
      ]
     },
     "execution_count": 2,
     "metadata": {},
     "output_type": "execute_result"
    }
   ],
   "source": [
    "a = [1,2,3]\n",
    "b = [] \n",
    "c = [4,5,6]\n",
    "\n",
    "\n",
    "a + b + c"
   ]
  },
  {
   "cell_type": "code",
   "execution_count": 5,
   "metadata": {
    "scrolled": true
   },
   "outputs": [
    {
     "name": "stdout",
     "output_type": "stream",
     "text": [
      "interp\n",
      "<function hiena_mp at 0x12adb38b0>\n",
      "[]\n",
      "[<Dcel.Dcel object at 0x12a911d60>, <Dcel.Dcel object at 0x12a9110d0>]\n"
     ]
    }
   ],
   "source": [
    "fstabs = a.target.path_lookup('.cosm/etc/fstab')\n",
    "fstab_g = a.cosm.path_lookup('types/fstab')\n",
    "b = a.command(dict,'fstab',fstabs)"
   ]
  },
  {
   "cell_type": "code",
   "execution_count": 6,
   "metadata": {
    "scrolled": true
   },
   "outputs": [
    {
     "data": {
      "text/plain": [
       "True"
      ]
     },
     "execution_count": 6,
     "metadata": {},
     "output_type": "execute_result"
    }
   ],
   "source": [
    "type(b.target.transformation_history) is Dcel"
   ]
  },
  {
   "cell_type": "code",
   "execution_count": 7,
   "metadata": {},
   "outputs": [
    {
     "name": "stdout",
     "output_type": "stream",
     "text": [
      "{'1': {'spec': 'file://myiphone/fs', 'file': '/', 'vfstype': 'cburnfs', 'mntopts': 'user', 'freq': '0', 'passno': '0'}, '2': {'spec': 'file://myiphone/fs2', 'file': '/', 'vfstype': 'cburnfs', 'mntopts': 'user', 'freq': '0', 'passno': '0'}, '3': {'spec': 'file://dboyhiena/fs', 'file': '/', 'vfstype': 'cburnfs', 'mntopts': 'user', 'freq': '0', 'passno': '0'}, '4': {'spec': 'file://dboyhiena/fs2', 'file': '/', 'vfstype': 'cburnfs', 'mntopts': 'user', 'freq': '0', 'passno': '0'}}\n"
     ]
    }
   ],
   "source": [
    "print(b.target['1'])"
   ]
  },
  {
   "cell_type": "code",
   "execution_count": 1,
   "metadata": {},
   "outputs": [
    {
     "ename": "NameError",
     "evalue": "name 'b' is not defined",
     "output_type": "error",
     "traceback": [
      "\u001b[0;31m---------------------------------------------------------------------------\u001b[0m",
      "\u001b[0;31mNameError\u001b[0m                                 Traceback (most recent call last)",
      "\u001b[0;32m<ipython-input-1-51a7f6fe82ae>\u001b[0m in \u001b[0;36m<module>\u001b[0;34m\u001b[0m\n\u001b[0;32m----> 1\u001b[0;31m c = b.command(dict, \n\u001b[0m\u001b[1;32m      2\u001b[0m               \u001b[0;34m'tools/hiena'\u001b[0m\u001b[0;34m,\u001b[0m\u001b[0;34m\u001b[0m\u001b[0;34m\u001b[0m\u001b[0m\n\u001b[1;32m      3\u001b[0m               \u001b[0mb\u001b[0m\u001b[0;34m.\u001b[0m\u001b[0mtarget\u001b[0m\u001b[0;34m,\u001b[0m\u001b[0;34m\u001b[0m\u001b[0;34m\u001b[0m\u001b[0m\n\u001b[1;32m      4\u001b[0m               g2)\n\u001b[1;32m      5\u001b[0m \u001b[0mprint\u001b[0m\u001b[0;34m(\u001b[0m\u001b[0mb\u001b[0m\u001b[0;34m.\u001b[0m\u001b[0mtarget\u001b[0m\u001b[0;34m.\u001b[0m\u001b[0mvalue\u001b[0m\u001b[0;34m)\u001b[0m\u001b[0;34m\u001b[0m\u001b[0;34m\u001b[0m\u001b[0m\n",
      "\u001b[0;31mNameError\u001b[0m: name 'b' is not defined"
     ]
    }
   ],
   "source": [
    "c = b.command(dict, \n",
    "              'tools/hiena', \n",
    "              b.target, \n",
    "              g2)\n",
    "print(b.target.value)"
   ]
  },
  {
   "cell_type": "code",
   "execution_count": 7,
   "metadata": {
    "scrolled": false
   },
   "outputs": [
    {
     "data": {
      "text/plain": [
       "<__main__.APath at 0x125799370>"
      ]
     },
     "execution_count": 7,
     "metadata": {},
     "output_type": "execute_result"
    }
   ],
   "source": [
    "a.lookup('.cosm')"
   ]
  },
  {
   "cell_type": "code",
   "execution_count": 10,
   "metadata": {},
   "outputs": [
    {
     "ename": "TypeError",
     "evalue": "readtext() missing 1 required positional argument: 'path'",
     "output_type": "error",
     "traceback": [
      "\u001b[0;31m---------------------------------------------------------------------------\u001b[0m",
      "\u001b[0;31mTypeError\u001b[0m                                 Traceback (most recent call last)",
      "\u001b[0;32m<ipython-input-10-3d95e413a98b>\u001b[0m in \u001b[0;36m<module>\u001b[0;34m\u001b[0m\n\u001b[1;32m      1\u001b[0m \u001b[0mc\u001b[0m \u001b[0;34m=\u001b[0m \u001b[0ma\u001b[0m\u001b[0;34m.\u001b[0m\u001b[0mgetchild\u001b[0m\u001b[0;34m(\u001b[0m\u001b[0;34m'.cosm/etc/fstab'\u001b[0m\u001b[0;34m)\u001b[0m\u001b[0;34m\u001b[0m\u001b[0;34m\u001b[0m\u001b[0m\n\u001b[1;32m      2\u001b[0m \u001b[0;34m\u001b[0m\u001b[0m\n\u001b[0;32m----> 3\u001b[0;31m \u001b[0mfstabs\u001b[0m \u001b[0;34m=\u001b[0m \u001b[0mc\u001b[0m\u001b[0;34m.\u001b[0m\u001b[0mreadtext\u001b[0m\u001b[0;34m(\u001b[0m\u001b[0;34m)\u001b[0m\u001b[0;34m\u001b[0m\u001b[0;34m\u001b[0m\u001b[0m\n\u001b[0m\u001b[1;32m      4\u001b[0m \u001b[0mprint\u001b[0m\u001b[0;34m(\u001b[0m\u001b[0mfstabs\u001b[0m\u001b[0;34m)\u001b[0m\u001b[0;34m\u001b[0m\u001b[0;34m\u001b[0m\u001b[0m\n",
      "\u001b[0;31mTypeError\u001b[0m: readtext() missing 1 required positional argument: 'path'"
     ]
    }
   ],
   "source": [
    "c = a.getchild('.cosm/etc/fstab')\n",
    "\n",
    "fstabs = c.readtext('.cosm/etc/fstab')\n",
    "print(fstabs)"
   ]
  },
  {
   "cell_type": "code",
   "execution_count": 11,
   "metadata": {},
   "outputs": [
    {
     "data": {
      "text/plain": [
       "<function Hiena.hiena(target: str, grammar: dict) -> (<class 'map'>, <class 'dict'>)>"
      ]
     },
     "execution_count": 11,
     "metadata": {},
     "output_type": "execute_result"
    }
   ],
   "source": [
    "h = a.cosm['tools']['hiena'].value\n",
    "h"
   ]
  },
  {
   "cell_type": "code",
   "execution_count": 5,
   "metadata": {},
   "outputs": [
    {
     "name": "stdout",
     "output_type": "stream",
     "text": [
      "['file://myiphone/fs', '/', 'cburnfs', 'user', '0', '0']\n",
      "['file://myiphone/fs2', '/', 'cburnfs', 'user', '0', '0']\n",
      "['file://dboyhiena/fs', '/', 'cburnfs', 'user', '0', '0']\n",
      "['file://dboyhiena/fs2', '/', 'cburnfs', 'user', '0', '0']\n"
     ]
    }
   ],
   "source": [
    "g = { 'entry': r\"([^\\n]+)\" }\n",
    "g2 = { 'field': r\"([^ ]+)\" }\n",
    "\n",
    "for e in h(fstabs,g)[0]['entry']:\n",
    "    print(h(e,g2)[0]['field'])"
   ]
  },
  {
   "cell_type": "code",
   "execution_count": 6,
   "metadata": {},
   "outputs": [
    {
     "name": "stdout",
     "output_type": "stream",
     "text": [
      "[['file://myiphone/fs', '/', 'cburnfs', 'user', '0', '0'], ['file://myiphone/fs2', '/', 'cburnfs', 'user', '0', '0'], ['file://dboyhiena/fs', '/', 'cburnfs', 'user', '0', '0'], ['file://dboyhiena/fs2', '/', 'cburnfs', 'user', '0', '0']]\n"
     ]
    }
   ],
   "source": [
    "fstabd = [ h(e,g2)[0]['field']\n",
    "          for e in h(fstabs,g)[0]['entry']]\n",
    "\n",
    "print(fstabd)"
   ]
  },
  {
   "cell_type": "code",
   "execution_count": 7,
   "metadata": {},
   "outputs": [
    {
     "data": {
      "text/plain": [
       "True"
      ]
     },
     "execution_count": 7,
     "metadata": {},
     "output_type": "execute_result"
    }
   ],
   "source": [
    "class FudgeBo(APathWrapper):\n",
    "    pass\n",
    "\n",
    "w = FudgeBo(a)\n",
    "aa = APath(w)\n",
    "\n",
    "aa is a\n"
   ]
  },
  {
   "cell_type": "code",
   "execution_count": 8,
   "metadata": {},
   "outputs": [],
   "source": [
    "d = D('.',OSFS)\n",
    "ab = APath('fs','file',parent=a)"
   ]
  },
  {
   "cell_type": "code",
   "execution_count": 9,
   "metadata": {
    "scrolled": false
   },
   "outputs": [
    {
     "data": {
      "text/plain": [
       "['fruit', 'boats', '.cosm', 'test.txt', '.git']"
      ]
     },
     "execution_count": 9,
     "metadata": {},
     "output_type": "execute_result"
    }
   ],
   "source": [
    "ab.listdir('.')"
   ]
  }
 ],
 "metadata": {
  "kernelspec": {
   "display_name": "Python 3.9",
   "language": "python",
   "name": "python3"
  },
  "language_info": {
   "codemirror_mode": {
    "name": "ipython",
    "version": 3
   },
   "file_extension": ".py",
   "mimetype": "text/x-python",
   "name": "python",
   "nbconvert_exporter": "python",
   "pygments_lexer": "ipython3",
   "version": "3.9.5"
  }
 },
 "nbformat": 4,
 "nbformat_minor": 2
}
