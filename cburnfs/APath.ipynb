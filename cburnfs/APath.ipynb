{
 "cells": [
  {
   "cell_type": "markdown",
   "metadata": {},
   "source": [
    "# Access Paths\n",
    "\n",
    "\n",
    "## Path Walking\n",
    "\n",
    "The Access Path is a mechanism for, and artifact of, path walking. Each successful lookup of a path segment results in an Access Path object.\n",
    "\n",
    "The Access Path object is an abstraction of two patterns.\n",
    "\n",
    "    - The Access Frame\n",
    "    - The Access Frame Stack\n",
    "    \n",
    "The Access Frame is the state of the lookup environment at each path segment.\n",
    "\n",
    "The Access Frame Stack is the current frame, preceded by previous frames. The stack results in a pathway, from root, to target.\n",
    "\n",
    "An Access Frame has a pointer to the previous frame. This linked list of Access Frames forms the stack. The python class APath creates an instance of an Access Frame, which by reference includes previous frames, the whole path. So one can use an APath object to represent the whole path, so it's called Access Path for convenience, instead of Access Frame.\n",
    "\n",
    "\n",
    "## Environment Cascade\n",
    "\n",
    "Each Access Frame inherits the environment of the previous frame and may overload the environment from its own content.\n",
    "\n",
    "The APath class has a class variable `APath._rootcosm` for a default environment, which root level access paths inherit upon creation.\n",
    "\n",
    "Root level access paths are created without a previous Access Frame. Branch Access Paths are created during path lookup.\n",
    "\n",
    "## User Identity\n",
    "\n",
    "The first frame in an Access Path's frame-stack is the Identity Frame.\n",
    "\n",
    "    raygan@raygan.com\n",
    "\n",
    "An entity must first authenticate to the Identity Frame before accessing the root of the path.\n",
    "\n",
    "The second frame, the path-root, or Home Frame. Is the root of an entity's file system. This is the most top level of access that an entity is granted, and the starting point of all access, such as a User's personal device.\n",
    "\n",
    "    Raygan's device\n",
    "    \n",
    "The personal device context has a user agent such as a web browser or a file system client. \n",
    "\n",
    "    --(firefox)-->\n",
    "\n",
    "Using one of these generates the next frame, which would be the root of a file system, either on disk, or via URL.\n",
    "\n",
    "    /\n",
    "    -or-\n",
    "    https://example.com/\n",
    "    \n",
    "\n",
    "\n",
    "\n",
    "## Code Execution\n",
    "\n",
    "An APath object acts as a containerized shell during path walking and file creation. It loads and executes code to operate on the current target, extending lookup capabilities beyond directory-based lookup, such as parsing a file, searching a database, or generating data on the fly.\n",
    "\n",
    "Code and data are accessed through Dcels. The Access Path has a `target` Dcel which it operates on. \n",
    "\n",
    "Resources from the Cascading Environment are retrieved as Dcels.\n",
    "\n",
    "An executable resource, represented by a Dcel, is loaded via `APath.load_function()`. This method mimics some of the functionality of linux's `execva()`. It attempts to load the requested target via modular executable-handlers. When a handler returns a function on success, `load_function()` caches it in an access path branch. The next time the Dcel is requested for execution, the cache can be checked for the function handle.\n",
    "\n",
    "`APath.command()` is a concise way of \"running\" a command. This method uses `load_function()` to generate a Dcel with the function and args stored as the Dcel's _formula_. The execution is therewith deferred until the Dcel's value is referenced, and Dcels in the args are expanded at each execution.\n",
    "\n",
    "The result Dcel is stored in an APath branch.\n",
    "\n",
    "\n",
    "## Relationship with Domain Cels (Dcels)\n",
    "\n",
    "See `Dcel`\n",
    "\n",
    "Domain Cels (Dcels) represent any \"addressable\" data set. They have an `address` and a `service`. The Dcel object provides a consistent API for interacting with the contents of a Dcel no matter how the data is stored or generated.\n",
    "\n",
    "A Dcel provides a file-system interface into it's data via it's service module. With a service module, API's for directory lookup, file reads/writes and new file creation are standardized.\n",
    "\n",
    "An Access Path, APath object, is associated with one Dcel for content, and one Dcel for environment. The Dcel for environment is created by a series of inherited contexts from the Access Frame Stack. The Dcel for content is created by the output of the *previous* path segment lookup within the *previous* Access Frame context.\n",
    "\n",
    "\n",
    "\n",
    "\n",
    "\n",
    "## Bootstrapping Each Step of the Environment Cascade\n",
    "\n",
    "#### Root\n",
    "\n",
    "The class environment is used on the root apath to parse its' domain.\n",
    "\n",
    "Out of the domain, is pulled up the root environment configuration and is overlayed onto the class environment of the root apath.\n",
    "\n",
    "The root env re-parses the root env. --> Final root env.\n",
    "\n",
    "#### Branch\n",
    "\n",
    "The parent environment is used to parse a branch.\n",
    "\n",
    "Out of the branch, is pulled up the branch environment configuration and is overlayed onto the parent environment of the root path.\n",
    "\n",
    "The branch env re-parses the branch env. --> Final branch env.\n",
    "\n",
    "\n",
    "\n",
    "\n",
    "\n",
    "\n",
    "\n",
    "## Constructor\n",
    "\n",
    "Conditions under which an Access Path is created.\n",
    "\n",
    "- Beginning access\n",
    "- Spawned path-walk segment\n",
    "- Unwrapping a wrapper such as Fudge\n",
    "\n",
    "### Beginning access\n",
    "\n",
    "Generate a Dcel and set as target.\n",
    "\n",
    "    a = APath(dcel_instr, service)\n",
    "\n",
    "### Spawning a path-walk segment\n",
    "\n",
    "Looking up a segment.\n",
    "\n",
    "    branch = APath(lookup_instr,\n",
    "                   target,\n",
    "                   parent=self)\n",
    "    \n",
    "### Unwrapping a wrapper\n",
    "\n",
    "    a = APath('.')\n",
    "    wrapper = APathWrapper(a)\n",
    "    \n",
    "If the wrapper is a subclass of APathWrapper, the `__new__` method returns the original APath instance.\n",
    "\n",
    "    aa = APath(wrapper)\n",
    "    \n",
    "    aa is a\n",
    "\n",
    "\n",
    "## Init\n",
    "\n",
    "### Constructor Condition\n",
    "\n",
    "- new\n",
    "- spawn\n",
    "- unwrap\n",
    "\n",
    "\n",
    "### Inherit Environment\n",
    "\n",
    "#### Stage 1\n",
    "\n",
    "The Access Path inherits from the class.\n",
    "\n",
    "#### Stage 2\n",
    "\n",
    "The Access Path inherits from a _parent_.\n",
    "\n",
    "In _Stage 2_ the `.cosm` from the parent replaces the one from the class.\n",
    "\n",
    "#### Stage 3\n",
    "\n",
    "The tools and services from the parent `.cosm` are used to parse the target and retrieve the local `.cosm`.\n",
    "\n",
    "The local `.cosm` is layered ontop of the one from the parent. (If no parent, from the class.)\n",
    "\n",
    "\n"
   ]
  },
  {
   "cell_type": "code",
   "execution_count": 1,
   "metadata": {},
   "outputs": [],
   "source": [
    "from fs.base import FS\n",
    "from fs.osfs import OSFS\n",
    "from fs.multifs import MultiFS\n",
    "from MulticelFS import MulticelFS\n",
    "from Dcel import Dcel\n",
    "from Dcel import Dcel as D\n",
    "from DictFS import DictFS\n",
    "from FormulaFS import FormulaFS\n",
    "from ApathRootCosm import apathRootCosm\n",
    "from fs.errors import ResourceNotFound\n",
    "from urllib.parse import urlparse\n",
    "\n",
    "METADIRNAME = \".cosm\"\n",
    "\n",
    "\n",
    "class APathWrapper:\n",
    "    \"\"\"\n",
    "    Inherit this class before wrapping an Apath.\n",
    "    \n",
    "    Subclasses can be unwapped by APath.\n",
    "    \"\"\"\n",
    "    \n",
    "    def __init__(self, apath):\n",
    "        self._apath = apath\n",
    "        \n",
    "\n",
    "class APath(FS):\n",
    "    \n",
    "    # Any APath created without\n",
    "    # a parent inherits the class\n",
    "    # environment.\n",
    "    _rootcosm = Dcel(address=apathRootCosm,\n",
    "                  service_class=DictFS,\n",
    "                  args=['r'],\n",
    "                  writeable=False\n",
    "                 )\n",
    "    _rootcosm_atdir = Dcel({'@':apathRootCosm}, service_class=DictFS)\n",
    "        \n",
    "    def __new__(cls,\n",
    "                addr=None,\n",
    "                servicename=None,\n",
    "                parent=None\n",
    "                ):\n",
    "        \"\"\"\n",
    "        Check to see if we can\n",
    "        unwrap an Apath from\n",
    "        a subclass of APathWrapper.\n",
    "        Otherwise, create a new instance.\n",
    "        \"\"\"\n",
    "        if issubclass(addr.__class__,\n",
    "                      APathWrapper):\n",
    "            return addr._apath\n",
    "\n",
    "        return super().__new__(cls)\n",
    "    \n",
    "    \n",
    "    def __init__(self,\n",
    "                 addr=None,\n",
    "                 servicename=None,\n",
    "                 parent=None\n",
    "                ):\n",
    "        \n",
    "        # Constructor Conditions\n",
    "        # 1. Unwrap\n",
    "        # 2. Begin Access\n",
    "        # 3. Spawn Branch\n",
    "        \n",
    "        ## Unwrap\n",
    "        #\n",
    "        try:\n",
    "            \"\"\"\n",
    "            In this case, the Apath\n",
    "            class might be unwrapping\n",
    "            an Apath from a wrapper.\n",
    "            \"\"\"\n",
    "            if self.__inited == True:\n",
    "                return\n",
    "        except AttributeError:\n",
    "            # a new instance.\n",
    "            pass\n",
    "        \n",
    "        ## Init new instance\n",
    "        super().__init__()\n",
    "        \n",
    "        ## Inherit rootcosm environment from class\n",
    "        #  set .cosm (cascading operating system)\n",
    "        #  .cosm is a Dcel or PyFilesystem2 FS subclass\n",
    "        # THE COSM WILL BE OVERLOADED AT THE END OF THIS METHOD\n",
    "        # BUT WE NEED THIS TO PROVIDE THE SERVICES FOR INIT.\n",
    "        if parent is None:\n",
    "            self.cosm = APath._rootcosm\n",
    "        else:\n",
    "            self.cosm = parent.cosm\n",
    "        \n",
    "        ## Init directory \n",
    "        self.branch = dict()\n",
    "        \n",
    "        ## Set inited flag\n",
    "        self.__inited = True\n",
    "        \n",
    "        ## Beginning Access\n",
    "        #  addr is a url\n",
    "        #  service is None\n",
    "        if type(addr) is str and servicename is None:\n",
    "            url = urlparse(addr)\n",
    "            servicename = url.scheme\n",
    "        \n",
    "        #  addr\n",
    "        #  service\n",
    "        if type(servicename) is str:\n",
    "            service = self.cosm['services'][servicename].value\n",
    "            self.target = Dcel(address=addr, \n",
    "                               service_class=service)   \n",
    "        \n",
    "        ## Spawning a Branch\n",
    "        #  Dcel\n",
    "        #  Parent Apath\n",
    "        elif type(addr) is Dcel:\n",
    "            # WIP lookup instruction\n",
    "            self.target = addr\n",
    "            \n",
    "            ## inherit from parent\n",
    "            if parent is None:\n",
    "                # create a readonly cel for\n",
    "                # root cosm\n",
    "                pass\n",
    "            # else\n",
    "            # cascade the parent .cosm\n",
    "            # TODO\n",
    "            \n",
    "        # parent\n",
    "        self.parent = parent\n",
    "        \n",
    "\n",
    "            \n",
    "        ## Inherit rootcosm environment from class\n",
    "        #  set .cosm (cascading operating system)\n",
    "        #  .cosm is a Dcel or PyFilesystem2 FS subclass\n",
    "        \n",
    "        # - read '@' and '.@' entries\n",
    "        # - cascade '@' and '.@' onto .cosm\n",
    "        # Quick Hack:\n",
    "        # - Make a fs.multifs::MultiFS of:\n",
    "        #        parent.target Dcel, write=False\n",
    "        #        this.target Dcel, write=True\n",
    "        # - Make a fs.subfs::SubFS via opendir() of:\n",
    "        #        theAboveResult.opendir('@')\n",
    "        # - The resulting SubFS instance will allow writes\n",
    "        #   only if '@' exists in the writable layer\n",
    "        #   AND WHEN the @ comes into existence writes become available.\n",
    "        \n",
    "        # V2\n",
    "        \n",
    "        # Use ApathRootCosm['etc']['cosmdirname']\n",
    "        # to customize variants of cosm directory.\n",
    "        # Precedence is determined by list order.\n",
    "        cosmdirnamelist = self.cosm.listdir('/etc/cosmdirname')\n",
    "        \n",
    "        if parent is None:\n",
    "            parent_cosm = APath._rootcosm\n",
    "        else:\n",
    "            parent_cosm = parent.cosm\n",
    "        \n",
    "        if self.target.isdir():\n",
    "            try:\n",
    "                cosmstack = [ Dcel(parent_cosm, writeable=False),\n",
    "                             *[Dcel(self.target[ea], writeable=False)\n",
    "                               for ea in self.target.listdir()\n",
    "                               if ea in cosmdirnamelist\n",
    "                              ]\n",
    "                            ]  \n",
    "            except:\n",
    "                cosmstack = [ Dcel(parent_cosm, writeable=False) ]\n",
    "        else:\n",
    "            cosmstack = [ Dcel(parent_cosm, writeable=False) ]\n",
    "        self.cosm = Dcel(cosmstack, service_class=MulticelFS)     \n",
    "        \n",
    "    def _reinit(self,\n",
    "                 addr=None,\n",
    "                 servicename=None,\n",
    "                 parent=None\n",
    "                ):\n",
    "        self.branch = dict()\n",
    "        self.__inited = True\n",
    "        \n",
    "        ## Beginning Access\n",
    "        #  addr is a url\n",
    "        #  service is None\n",
    "        if type(addr) is str and servicename is None:\n",
    "            url = urlparse(addr)\n",
    "            servicename = url.scheme\n",
    "        \n",
    "        #  addr\n",
    "        #  service\n",
    "        if type(servicename) is str:\n",
    "            service = self.cosm['services'][servicename].value\n",
    "            self.target = Dcel(address=addr, \n",
    "                               service_class=service)   \n",
    "        \n",
    "        ## Spawning a Branch\n",
    "        #  Dcel\n",
    "        #  Parent Apath\n",
    "        elif type(addr) is Dcel:\n",
    "            # WIP lookup instruction\n",
    "            self.target = addr\n",
    "            \n",
    "            ## inherit from parent\n",
    "            if parent is None:\n",
    "                # create a readonly cel for\n",
    "                # root cosm\n",
    "                pass\n",
    "            # else\n",
    "            # cascade the parent .cosm\n",
    "            # TODO\n",
    "            \n",
    "        # parent\n",
    "        self.parent = parent\n",
    "        \n",
    "        # overlay local environment .cosm\n",
    "        # TODO\n",
    "    \n",
    "    def _inherit_cosm(self):\n",
    "        \n",
    "        # get cosm dcel from parent\n",
    "        par_cosmcel = self.parent.cosm\n",
    "        \n",
    "        # get cosm dcel from target\n",
    "        lookupfn = self.parent.cosm['sbin']['lookup']\n",
    "        targ_cosmcel = self.target['.cosm']\n",
    "        \n",
    "        # create new dcel from both\n",
    "        d = Dcel(address=[par_cosmcel, targ_cosmcel],\n",
    "              service_class=CascadeCelFS)\n",
    "    \n",
    "    def _spawn(parent, name, dcel):\n",
    "        # works as classy or self method\n",
    "        ap = APath(dcel, parent=parent)\n",
    "        parent.branch[name] = ap\n",
    "        return ap\n",
    "    \n",
    "    def close(self):\n",
    "        # TODO:\n",
    "        # need to close _cosm.fs[*]?\n",
    "        # close DCel?\n",
    "        super().close()\n",
    "    \n",
    "    def detect_service(self,addr):\n",
    "        if addr is dict:\n",
    "            return self.cosm['services']['dict'].value\n",
    "        return self.cosm['services']['file']\n",
    "    \n",
    "    def start_service(self,addr,service=None):\n",
    "        if service is None:\n",
    "            _Service = self.detect_service(addr)\n",
    "        else:\n",
    "            _Service = service\n",
    "        return _Service(addr)\n",
    "    \n",
    "    \n",
    "    # lookup interface --------------\n",
    "    \n",
    "    def _pathwalk(self,path=\"\"):\n",
    "        if path in (None,\"\",\".\",\"/\"):\n",
    "            return self\n",
    "        path = path.strip(\"/\")\n",
    "        try:\n",
    "            seg,nextpath = path.split('/',1)\n",
    "        except:\n",
    "            return self.lookup(path)\n",
    "        try:\n",
    "            return self.lookup(seg)._pathwalk(nextpath)\n",
    "        except:\n",
    "            raise ResourceNotFound(path)\n",
    "    \n",
    "    def path_lookup(self,path):\n",
    "        return self._pathwalk(path)\n",
    "        \n",
    "    def lookup(self, addr):\n",
    "        \"\"\" \n",
    "        Return an entry of the current\n",
    "        target's directory\n",
    "        wrapped in an Apath.\n",
    "        \"\"\"\n",
    "        try:\n",
    "            d = self.target[addr]\n",
    "            try:\n",
    "                a = self.branch[addr]\n",
    "                if a.target != d:\n",
    "                    a = APath(d,parent=self)\n",
    "                    self.branch[addr] = a\n",
    "                return a\n",
    "            except:\n",
    "                a = APath(d,parent=self)\n",
    "                self.branch[addr] = a\n",
    "                return a\n",
    "        except:\n",
    "            try:\n",
    "                a = self.branch[addr]\n",
    "                return a\n",
    "            except:\n",
    "                raise\n",
    "            raise\n",
    "    \n",
    "    def getchild(self, key):\n",
    "        return self.lookup(key)\n",
    "    \n",
    "    def exists(self, key):\n",
    "        try:\n",
    "            self.lookup(key)\n",
    "            return True\n",
    "        except:\n",
    "            return False\n",
    "    \n",
    "    def getprop(self, key):\n",
    "        # test version only returns self\n",
    "        return self\n",
    "    \n",
    "    # execution interface -----------\n",
    "    \n",
    "    def canonical_cmdline(cmdname, *args, **kwargs):\n",
    "        # fixme: include args and kwargs\n",
    "        return cmdname\n",
    "    \n",
    "    def load_function(self, fncel:Dcel):\n",
    "        return fncel.value\n",
    "    \n",
    "    def resolve_cmdpath(self, cmdname):\n",
    "        for p in self.cosm['env']['PATH'].value:\n",
    "            # lookup command dcel\n",
    "            _p = p.removeprefix('.cosm/')\n",
    "            pathname = _p+'/'+cmdname\n",
    "            try:\n",
    "                cmdcel = self.cosm.path_lookup(pathname)\n",
    "            except:\n",
    "                continue\n",
    "            if not cmdcel is None:\n",
    "                break\n",
    "        return cmdcel\n",
    "    \n",
    "    def resolve_interpreter(self, cmdcel):\n",
    "        val = cmdcel.value\n",
    "        if type(val) is dict:\n",
    "            try:\n",
    "                interp_path = val['#!'][0]\n",
    "            except:\n",
    "                return (None,[])\n",
    "            try:\n",
    "                interp_args = val['#!'][1:]\n",
    "            except:\n",
    "                interp_args = []\n",
    "            interp_cel = self.resolve_cmdpath(interp_path)\n",
    "            return (interp_cel,interp_args)\n",
    "        return (None,[])\n",
    "\n",
    "    def command(self, rtntype, cmdname, *args, **kwargs):        \n",
    "        # use cache\n",
    "        cmd_id = self.canonical_cmdline(cmdname, *args, **kwargs)\n",
    "        #try:\n",
    "          #  return self.branch[cmd_id]      \n",
    "        #except:\n",
    "            #pass\n",
    "        if str(type(cmdname))==\"<class 'function'>\":\n",
    "            fn = cmdname\n",
    "        else:\n",
    "            cmdcel = self.resolve_cmdpath(cmdname)\n",
    "            interp_cel,interp_args = self.resolve_interpreter(cmdcel)\n",
    "            #print(f\"APath::command: interp_cel: {interp_cel.inspect()}\")\n",
    "            print(f\"APath::command: interp_args: {interp_args}\")\n",
    "            # get function pointer\n",
    "            if interp_cel != None:\n",
    "                fn = self.load_function(interp_cel)\n",
    "                args = interp_args + [cmdcel] + [*args]\n",
    "            else:\n",
    "                fn = self.load_function(cmdcel)\n",
    "\n",
    "        # set service for return type\n",
    "        if issubclass(rtntype,FS):\n",
    "            service_cls = rtntype\n",
    "        else:\n",
    "            service_cls = self.detect_service(rtntype)\n",
    "        \n",
    "        # create dcel with formula\n",
    "        # Using 2024 January FormulaFS\n",
    "        \n",
    "        dc = Dcel({'fn':fn,\n",
    "                   'args':[*args],\n",
    "                   'kwargs':kwargs\n",
    "                  },\n",
    "                 service_class=FormulaFS)\n",
    "        \n",
    "        # older style formula Dcel\n",
    "        # requires internal formula-aware logic\n",
    "        # inside the Dcel object, which is hard to maintain.\n",
    "        #dc = Dcel( formula=fn,\n",
    "         #          args=args,\n",
    "          #         kwargs=kwargs,\n",
    "           #      )\n",
    "        \n",
    "        # create service wrapper\n",
    "        # Q: do we need this?\n",
    "        # A: Yes. The Dcel FS API (ex. `listdir()`)\n",
    "        #    used by APath requires it.\n",
    "        _dc = Dcel(address=dc, \n",
    "                   service_class=service_cls)\n",
    "        \n",
    "        # wrap in APath\n",
    "        res = APath(_dc, parent=self)\n",
    "\n",
    "        # stash\n",
    "        self.branch[cmd_id] = res\n",
    "        \n",
    "        return res\n",
    "    \n",
    "    # pyfilesystem 'FS' interface ---\n",
    "    \n",
    "    def getinfo(self, addr=None, namespaces=None):\n",
    "        _apath = self.path_lookup(addr)\n",
    "        return _apath.target.getinfo(namespaces)\n",
    "    \n",
    "    def listdir(self,path=None):\n",
    "        _apath = self.path_lookup(path)\n",
    "        return _apath.target.listdir()\n",
    "    \n",
    "    def isdir(self,path=None):\n",
    "        return self.target.isdir(path)\n",
    "    \n",
    "    def makedir(self,path,permissions=None,recreate=False):\n",
    "        return self.target.makedir(path,permissions,recreate)\n",
    "    \n",
    "    def openbin(self,\n",
    "            path=None,\n",
    "            mode='r',\n",
    "            buffering=-1):\n",
    "        # Open a binary file.\n",
    "        return self.target.openbin(\n",
    "            path,\n",
    "            mode,\n",
    "            buffering)\n",
    "    \n",
    "    def readbytes(self, path=None):\n",
    "        return self.target.readbytes(path)\n",
    "        \n",
    "    def readtext(self, path=None):\n",
    "        return self.target.readtext(path)\n",
    "        \n",
    "    def remove(self,path): # Remove a file.\n",
    "        return self.target.remove(path)\n",
    "    \n",
    "    def removedir(self,path): # Remove a directory.\n",
    "        return self.target.removedir(path)\n",
    "        \n",
    "    def setinfo(self,path,info):  # Set resource information.\n",
    "        return self.target.setinfo(path, info)\n"
   ]
  },
  {
   "cell_type": "code",
   "execution_count": 29,
   "metadata": {},
   "outputs": [],
   "source": [
    "## Debug: Why is Fudge running 18 executions of a command?\n",
    "from DictFS import DictFS"
   ]
  },
  {
   "cell_type": "code",
   "execution_count": 30,
   "metadata": {},
   "outputs": [
    {
     "name": "stdout",
     "output_type": "stream",
     "text": [
      "DictFS::listdir(): path = /etc/cosmdirname\n",
      "DictFS::listdir(): target type: <class 'list'>\n",
      "DictFS::listdir(): path = /\n",
      "DictFS::listdir(): target type: <class 'dict'>\n",
      "Running test_apath.command() as mutation.\n",
      "APath::command: interp_args: []\n",
      "DictFS::listdir(): path = /etc/cosmdirname\n",
      "DictFS::listdir(): target type: <class 'list'>\n",
      "DictFS::listdir(): path = /\n",
      "DictFS::listdir(): target type: <class 'Dcel.Dcel'>\n",
      "hello.\n"
     ]
    }
   ],
   "source": [
    "dummy_dcel = Dcel(address={'a':{'Aye':'A'}}, service_class=DictFS)\n",
    "test_apath = APath(dummy_dcel)\n",
    "\n",
    "# this executes 9 times\n",
    "print('Running test_apath.command() as mutation.')\n",
    "mutation = test_apath.command(dict, 'hello', dummy_dcel)\n",
    "\n",
    "# Problem: `.command` should only setup the command for execution\n",
    "# not execute it."
   ]
  },
  {
   "cell_type": "code",
   "execution_count": 4,
   "metadata": {},
   "outputs": [
    {
     "name": "stdout",
     "output_type": "stream",
     "text": [
      "hello there.\n"
     ]
    }
   ],
   "source": [
    "print(mutation.target)"
   ]
  },
  {
   "cell_type": "code",
   "execution_count": 5,
   "metadata": {},
   "outputs": [
    {
     "name": "stdout",
     "output_type": "stream",
     "text": [
      "DictFS::listdir(): path = /etc/cosmdirname\n",
      "DictFS::listdir(): target type: <class 'list'>\n"
     ]
    },
    {
     "data": {
      "text/plain": [
       "['fruit', 'hello.txt', '@', 'test.txt']"
      ]
     },
     "execution_count": 5,
     "metadata": {},
     "output_type": "execute_result"
    }
   ],
   "source": [
    "## Test `getinfo()`\n",
    "from fs import open_fs\n",
    "a = APath(Dcel('demo-files/fs', service_class=open_fs, writeable=False))\n",
    "a.listdir()"
   ]
  },
  {
   "cell_type": "code",
   "execution_count": 6,
   "metadata": {},
   "outputs": [
    {
     "name": "stdout",
     "output_type": "stream",
     "text": [
      "DictFS::listdir(): path = /etc/cosmdirname\n",
      "DictFS::listdir(): target type: <class 'list'>\n",
      "DictFS::listdir(): path = /etc/cosmdirname\n",
      "DictFS::listdir(): target type: <class 'list'>\n"
     ]
    },
    {
     "data": {
      "text/plain": [
       "'apples.txt'"
      ]
     },
     "execution_count": 6,
     "metadata": {},
     "output_type": "execute_result"
    }
   ],
   "source": [
    "a.listdir('/fruit')\n",
    "a.getinfo('/fruit/apples.txt').name"
   ]
  },
  {
   "cell_type": "code",
   "execution_count": 7,
   "metadata": {},
   "outputs": [
    {
     "name": "stdout",
     "output_type": "stream",
     "text": [
      ".cosm/types/\n",
      ".cosm/tools/\n",
      ".cosm/bin/\n"
     ]
    }
   ],
   "source": [
    "## Test cmdcel lookup\n",
    "for _p in a.cosm['/env']['PATH'].value:\n",
    "    print(_p)"
   ]
  },
  {
   "cell_type": "code",
   "execution_count": 8,
   "metadata": {},
   "outputs": [],
   "source": [
    "## Test `filterdir()`\n",
    "#  In Dev: Not working\n",
    "#for each in a.filterdir(''):\n",
    "#    print(each)"
   ]
  },
  {
   "cell_type": "code",
   "execution_count": 9,
   "metadata": {},
   "outputs": [
    {
     "name": "stdout",
     "output_type": "stream",
     "text": [
      "`-- error (expected str, bytes or os.PathLike object, not tuple)\n"
     ]
    }
   ],
   "source": [
    "## Test `tree()`\n",
    "# depends on `filterdir()`\n",
    "# depends on Dcel::abspath()\n",
    "a.tree()"
   ]
  },
  {
   "cell_type": "code",
   "execution_count": 10,
   "metadata": {},
   "outputs": [
    {
     "name": "stdout",
     "output_type": "stream",
     "text": [
      "DictFS::listdir(): path = /\n",
      "DictFS::listdir(): target type: <class 'dict'>\n"
     ]
    },
    {
     "data": {
      "text/plain": [
       "['tools',\n",
       " 'hosts',\n",
       " 'kernel',\n",
       " 'var',\n",
       " 'services',\n",
       " 'machines',\n",
       " 'etc',\n",
       " 'bin',\n",
       " 'types',\n",
       " 'env']"
      ]
     },
     "execution_count": 10,
     "metadata": {},
     "output_type": "execute_result"
    }
   ],
   "source": [
    "## Develop: Cosm inheritance\n",
    "# Prepare the 'cosmstack' before handing to MulticelFS\n",
    "from fs import open_fs\n",
    "from Dcel import Dcel\n",
    "from MulticelFS import MulticelFS\n",
    "a = Dcel(address='fs/fs', service_class=open_fs, writeable=False)\n",
    "cosmdirnamelist = ['.cosm','_cosm','@','_@','.@']\n",
    "parent_cosm = APath._rootcosm\n",
    "\n",
    "# == SNIP: insert into Dcel.__init__() method ==\n",
    "cosmstack = [ Dcel(parent_cosm, writeable=False),\n",
    "                     *[Dcel(a[ea], writeable=False)\n",
    "                       for ea in a.listdir('.')\n",
    "                       if ea in cosmdirnamelist\n",
    "                      ]\n",
    "                    ]  \n",
    "m = MulticelFS(cosmstack)\n",
    "# --------\n",
    "m.listdir('.')"
   ]
  },
  {
   "cell_type": "code",
   "execution_count": 11,
   "metadata": {},
   "outputs": [
    {
     "name": "stdout",
     "output_type": "stream",
     "text": [
      "['.newname', '.cosm', '_cosm', '@', '_@', '.@']\n"
     ]
    }
   ],
   "source": [
    "cosmdirnames = ['.cosm','_cosm','@','_@','.@']\n",
    "cosmdirnames_appended = [ '.newname', *[ each for each in cosmdirnames] ]\n",
    "print(cosmdirnames_appended)"
   ]
  },
  {
   "cell_type": "code",
   "execution_count": 12,
   "metadata": {},
   "outputs": [
    {
     "name": "stdout",
     "output_type": "stream",
     "text": [
      ".cosm\n"
     ]
    }
   ],
   "source": [
    "from fs import open_fs\n",
    "from Dcel import Dcel\n",
    "a = Dcel(address='fs/fs', service_class=open_fs, writeable=False)\n",
    "a.listdir('/')\n",
    "cosmdirnames = ['.cosm','_cosm','@','_@','.@']\n",
    "cosmdirs = [ a[ea] for ea in a.listdir('/') if ea in cosmdirnames ]\n",
    "for ea in cosmdirs:\n",
    "    print(ea.getinfo().raw['basic']['name'])\n"
   ]
  },
  {
   "cell_type": "markdown",
   "metadata": {},
   "source": [
    "## Setup Test Environment"
   ]
  },
  {
   "cell_type": "code",
   "execution_count": 2,
   "metadata": {},
   "outputs": [
    {
     "data": {
      "text/plain": [
       "blackstrap.BlackstrapFS"
      ]
     },
     "execution_count": 2,
     "metadata": {},
     "output_type": "execute_result"
    }
   ],
   "source": [
    "from blackstrap import BlackstrapFS\n",
    "BlackstrapFS.initHost('localhost')\n",
    "#BlackstrapFS.addShare('fs/cburnwebui','cburn')\n",
    "BlackstrapFS.addShare('demo-files/fs','fs')\n",
    "BlackstrapFS.addShare('demo-files/fs2','fs2')\n"
   ]
  },
  {
   "cell_type": "markdown",
   "metadata": {},
   "source": [
    "## Test: `__init__()`"
   ]
  },
  {
   "cell_type": "code",
   "execution_count": 3,
   "metadata": {},
   "outputs": [
    {
     "name": "stdout",
     "output_type": "stream",
     "text": [
      "DictFS::listdir(): path = /etc/cosmdirname\n",
      "DictFS::listdir(): target type: <class 'list'>\n",
      "DictFS::listdir(): path = /etc/cosmdirname\n",
      "DictFS::listdir(): target type: <class 'list'>\n"
     ]
    }
   ],
   "source": [
    "a = APath('file://fs.localhost','file')\n",
    "aa = APath('file://fs2.localhost','file')"
   ]
  },
  {
   "cell_type": "code",
   "execution_count": 4,
   "metadata": {},
   "outputs": [
    {
     "name": "stdout",
     "output_type": "stream",
     "text": [
      "<__main__.APath object at 0x7fc8d32ec640>\n",
      "<__main__.APath object at 0x7fc8d32ec5e0>\n"
     ]
    }
   ],
   "source": [
    "print(a)\n",
    "print(aa)"
   ]
  },
  {
   "cell_type": "markdown",
   "metadata": {},
   "source": [
    "## Test `listdir()` Method"
   ]
  },
  {
   "cell_type": "code",
   "execution_count": 5,
   "metadata": {},
   "outputs": [
    {
     "name": "stdout",
     "output_type": "stream",
     "text": [
      "DictFS::listdir(): path = /etc/cosmdirname\n",
      "DictFS::listdir(): target type: <class 'list'>\n",
      "['etc']\n",
      "DictFS::listdir(): path = /etc/cosmdirname\n",
      "DictFS::listdir(): target type: <class 'list'>\n",
      "['fstab']\n"
     ]
    }
   ],
   "source": [
    "# TEST: listdir('/')\n",
    "print(a.listdir('@'))\n",
    "print(a.listdir('@/etc'))"
   ]
  },
  {
   "cell_type": "markdown",
   "metadata": {},
   "source": [
    "## Test `.cosm` Property"
   ]
  },
  {
   "cell_type": "code",
   "execution_count": 6,
   "metadata": {
    "scrolled": true
   },
   "outputs": [
    {
     "name": "stdout",
     "output_type": "stream",
     "text": [
      "DictFS::listdir(): path = /\n",
      "DictFS::listdir(): target type: <class 'dict'>\n",
      "['env', 'types', 'tools', 'kernel', 'bin', 'machines', 'services', 'etc']\n"
     ]
    }
   ],
   "source": [
    "print(a.cosm.listdir('.'))"
   ]
  },
  {
   "cell_type": "code",
   "execution_count": 7,
   "metadata": {},
   "outputs": [
    {
     "name": "stdout",
     "output_type": "stream",
     "text": [
      "DictFS::listdir(): path = /etc/cosmdirname\n",
      "DictFS::listdir(): target type: <class 'list'>\n",
      "DictFS::listdir(): path = /\n",
      "DictFS::listdir(): target type: <class 'dict'>\n",
      "['env', 'types', 'kernel', 'services', 'bin', 'machines', 'tools', 'etc']\n",
      "['apples.txt']\n"
     ]
    }
   ],
   "source": [
    "targ = a.lookup('fruit')\n",
    "print(targ.cosm.listdir('.'))\n",
    "print(targ.listdir('.'))"
   ]
  },
  {
   "cell_type": "markdown",
   "metadata": {},
   "source": [
    "## Test `lookup()` Method"
   ]
  },
  {
   "cell_type": "code",
   "execution_count": 8,
   "metadata": {},
   "outputs": [
    {
     "name": "stdout",
     "output_type": "stream",
     "text": [
      "['apples.txt']\n"
     ]
    }
   ],
   "source": [
    "path = 'fruit'\n",
    "targ = a.lookup('fruit')\n",
    "print(targ.listdir('.'))"
   ]
  },
  {
   "cell_type": "markdown",
   "metadata": {},
   "source": [
    "## Test `.command()` Method"
   ]
  },
  {
   "cell_type": "code",
   "execution_count": 9,
   "metadata": {},
   "outputs": [
    {
     "name": "stdout",
     "output_type": "stream",
     "text": [
      "DictFS::listdir(): path = /etc/cosmdirname\n",
      "DictFS::listdir(): target type: <class 'list'>\n",
      "<__main__.APath object at 0x7fc8d32ec3d0>\n"
     ]
    }
   ],
   "source": [
    "fstab_file = a.lookup('@/etc/fstab')\n",
    "print(fstab_file)"
   ]
  },
  {
   "cell_type": "code",
   "execution_count": 10,
   "metadata": {},
   "outputs": [
    {
     "name": "stdout",
     "output_type": "stream",
     "text": [
      "APath::command: interp_args: []\n",
      "DictFS::listdir(): path = /etc/cosmdirname\n",
      "DictFS::listdir(): target type: <class 'list'>\n",
      "DictFS::listdir(): path = /\n",
      "DictFS::listdir(): target type: <class 'Dcel.Dcel'>\n"
     ]
    }
   ],
   "source": [
    "# run it as by __getattr__() in Fudge.py\n",
    "res = a.command(dict,'fstab',fstab_file.target)"
   ]
  },
  {
   "cell_type": "code",
   "execution_count": 11,
   "metadata": {},
   "outputs": [
    {
     "data": {
      "text/plain": [
       "{'fn': <function HienaMP.hiena_mp(g: dict, text: Dcel.Dcel, rulename='$__start__')>,\n",
       " 'args': [<Dcel.Dcel at 0x7fc8d32ec2e0>, <Dcel.Dcel at 0x7fc8d32ef8b0>],\n",
       " 'kwargs': {}}"
      ]
     },
     "execution_count": 11,
     "metadata": {},
     "output_type": "execute_result"
    }
   ],
   "source": [
    "res.target.service.fsdict.service._formula_dict"
   ]
  },
  {
   "cell_type": "code",
   "execution_count": 12,
   "metadata": {},
   "outputs": [
    {
     "name": "stdout",
     "output_type": "stream",
     "text": [
      "DictFS::listdir(): path = /\n",
      "DictFS::listdir(): target type: <class 'Dcel.Dcel'>\n",
      "['1', '2', '3', '4', '5']\n"
     ]
    }
   ],
   "source": [
    "print(res.target.listdir())"
   ]
  },
  {
   "cell_type": "code",
   "execution_count": 13,
   "metadata": {},
   "outputs": [
    {
     "data": {
      "text/plain": [
       "NoneType"
      ]
     },
     "execution_count": 13,
     "metadata": {},
     "output_type": "execute_result"
    }
   ],
   "source": [
    "type(None)"
   ]
  },
  {
   "cell_type": "code",
   "execution_count": 14,
   "metadata": {},
   "outputs": [
    {
     "name": "stdout",
     "output_type": "stream",
     "text": [
      "address: <class 'str'>:/\n",
      "        abspath: <class 'str'>:/\n",
      "        service: <class 'DictFS.DictFS'>:<DictFS.DictFS object at 0x7fc8d32ef9d0>\n",
      "        value: <class 'Dcel.Dcel'>:{'1': {'spec': <Dcel.Dcel object at 0x7fc8d32ef850>, 'file': <Dcel.Dcel object at 0x7fc8d32ef3a0>, 'vfstype': <Dcel.Dcel object at 0x7fc8d32ef790>, 'mntopts': <Dcel.Dcel object at 0x7fc8d32ec430>, 'freq': <Dcel.Dcel object at 0x7fc8d32ef6a0>, 'passno': <Dcel.Dcel object at 0x7fc8d32ef490>}, '2': {'spec': <Dcel.Dcel object at 0x7fc8d32effa0>, 'file': <Dcel.Dcel object at 0x7fc8d32efe80>, 'vfstype': <Dcel.Dcel object at 0x7fc8d32efee0>, 'mntopts': <Dcel.Dcel object at 0x7fc8d32efd90>, 'freq': <Dcel.Dcel object at 0x7fc8d32effd0>, 'passno': <Dcel.Dcel object at 0x7fc8d32efa00>}, '3': {'spec': <Dcel.Dcel object at 0x7fc8d32efdf0>, 'file': <Dcel.Dcel object at 0x7fc8d32efe20>, 'vfstype': <Dcel.Dcel object at 0x7fc8d32efdc0>, 'mntopts': <Dcel.Dcel object at 0x7fc8d32eacb0>, 'freq': <Dcel.Dcel object at 0x7fc8d32eac50>, 'passno': <Dcel.Dcel object at 0x7fc8d32ea980>}, '4': {'spec': <Dcel.Dcel object at 0x7fc8d32ea6b0>, 'file': <Dcel.Dcel object at 0x7fc8d32ea860>, 'vfstype': <Dcel.Dcel object at 0x7fc8d32eaa70>, 'mntopts': <Dcel.Dcel object at 0x7fc8d32ea680>, 'freq': <Dcel.Dcel object at 0x7fc8d32ea7d0>, 'passno': <Dcel.Dcel object at 0x7fc8d32ea9b0>}, '5': {'spec': <Dcel.Dcel object at 0x7fc8d32ea410>, 'file': <Dcel.Dcel object at 0x7fc8d32ea440>, 'vfstype': <Dcel.Dcel object at 0x7fc8d32ea470>, 'mntopts': <Dcel.Dcel object at 0x7fc8d32ea560>}}\n",
      "        _map: <class 'NoneType'>:None\n",
      "        _dir: <class 'NoneType'>:None\n",
      "        \n",
      "res.isdir(): True\n",
      "res.target.isdir(): True\n"
     ]
    }
   ],
   "source": [
    "print(res.target.inspect())\n",
    "print(f\"res.isdir(): {res.isdir()}\")\n",
    "print(f\"res.target.isdir(): {res.target.isdir()}\")"
   ]
  },
  {
   "cell_type": "code",
   "execution_count": 15,
   "metadata": {},
   "outputs": [
    {
     "name": "stdout",
     "output_type": "stream",
     "text": [
      "True\n",
      "True\n"
     ]
    }
   ],
   "source": [
    "print(res.target.isdir())\n",
    "print(hasattr(res.target.value,\"__getitem__\"))"
   ]
  },
  {
   "cell_type": "code",
   "execution_count": 16,
   "metadata": {},
   "outputs": [
    {
     "name": "stdout",
     "output_type": "stream",
     "text": [
      "{'1': {'spec': <Dcel.Dcel object at 0x7fc8d32ef850>, 'file': <Dcel.Dcel object at 0x7fc8d32ef3a0>, 'vfstype': <Dcel.Dcel object at 0x7fc8d32ef790>, 'mntopts': <Dcel.Dcel object at 0x7fc8d32ec430>, 'freq': <Dcel.Dcel object at 0x7fc8d32ef6a0>, 'passno': <Dcel.Dcel object at 0x7fc8d32ef490>}, '2': {'spec': <Dcel.Dcel object at 0x7fc8d32effa0>, 'file': <Dcel.Dcel object at 0x7fc8d32efe80>, 'vfstype': <Dcel.Dcel object at 0x7fc8d32efee0>, 'mntopts': <Dcel.Dcel object at 0x7fc8d32efd90>, 'freq': <Dcel.Dcel object at 0x7fc8d32effd0>, 'passno': <Dcel.Dcel object at 0x7fc8d32efa00>}, '3': {'spec': <Dcel.Dcel object at 0x7fc8d32efdf0>, 'file': <Dcel.Dcel object at 0x7fc8d32efe20>, 'vfstype': <Dcel.Dcel object at 0x7fc8d32efdc0>, 'mntopts': <Dcel.Dcel object at 0x7fc8d32eacb0>, 'freq': <Dcel.Dcel object at 0x7fc8d32eac50>, 'passno': <Dcel.Dcel object at 0x7fc8d32ea980>}, '4': {'spec': <Dcel.Dcel object at 0x7fc8d32ea6b0>, 'file': <Dcel.Dcel object at 0x7fc8d32ea860>, 'vfstype': <Dcel.Dcel object at 0x7fc8d32eaa70>, 'mntopts': <Dcel.Dcel object at 0x7fc8d32ea680>, 'freq': <Dcel.Dcel object at 0x7fc8d32ea7d0>, 'passno': <Dcel.Dcel object at 0x7fc8d32ea9b0>}, '5': {'spec': <Dcel.Dcel object at 0x7fc8d32ea410>, 'file': <Dcel.Dcel object at 0x7fc8d32ea440>, 'vfstype': <Dcel.Dcel object at 0x7fc8d32ea470>, 'mntopts': <Dcel.Dcel object at 0x7fc8d32ea560>}}\n"
     ]
    }
   ],
   "source": [
    "print(res.target['1'])"
   ]
  },
  {
   "cell_type": "code",
   "execution_count": 17,
   "metadata": {
    "scrolled": false
   },
   "outputs": [
    {
     "name": "stdout",
     "output_type": "stream",
     "text": [
      "address: <class 'str'>:/\n",
      "        abspath: <class 'str'>:/\n",
      "        service: <class 'FormulaFS.FormulaFS'>:{\"1\": {\"spec\": \"file://boot.localhost\", \"file\": \"{cburnuser}/example/\", \"vfstype\": \"cburnfs\", \"mntopts\": \"user,shortid=root,idcard=localuser\", \"freq\": \"0\", \"passno\": \"0\"}, \"2\": {\"spec\": \"file://fs2.cburn.io\", \"file\": \"{CBUSER}/example/\", \"vfstype\": \"cburnfs\", \"mntopts\": \"user,shortid=FishBo,idcard=localuser\", \"freq\": \"0\", \"passno\": \"0\"}, \"3\": {\"spec\": \"file://fs3.localhost\", \"file\": \"{cburnuser}/example/\", \"vfstype\": \"cburnfs\", \"mntopts\": \"user,shortid=Bucket9,idcard=localuser\", \"freq\": \"0\", \"passno\": \"0\"}, \"4\": {\"spec\": \"file://fs4.localhost\", \"file\": \"/\", \"vfstype\": \"cburnfs\", \"mntopts\": \"user,shortid=fs4,idcard=localuser\", \"freq\": \"0\", \"passno\": \"0\"}, \"5\": {\"spec\": \"http://metafs-redis\", \"file\": \"no-mount\", \"vfstype\": \"cburnfs-meta\", \"mntopts\": \"nouser,userid='raygan@raygan.com',userhome='raygan-home',userurl='https://raygan-raygan-com.home.laydbug.io'\"}}\n",
      "        value: <class 'dict'>:{'1': {'spec': <Dcel.Dcel object at 0x7fc8d32ef850>, 'file': <Dcel.Dcel object at 0x7fc8d32ef3a0>, 'vfstype': <Dcel.Dcel object at 0x7fc8d32ef790>, 'mntopts': <Dcel.Dcel object at 0x7fc8d32ec430>, 'freq': <Dcel.Dcel object at 0x7fc8d32ef6a0>, 'passno': <Dcel.Dcel object at 0x7fc8d32ef490>}, '2': {'spec': <Dcel.Dcel object at 0x7fc8d32effa0>, 'file': <Dcel.Dcel object at 0x7fc8d32efe80>, 'vfstype': <Dcel.Dcel object at 0x7fc8d32efee0>, 'mntopts': <Dcel.Dcel object at 0x7fc8d32efd90>, 'freq': <Dcel.Dcel object at 0x7fc8d32effd0>, 'passno': <Dcel.Dcel object at 0x7fc8d32efa00>}, '3': {'spec': <Dcel.Dcel object at 0x7fc8d32efdf0>, 'file': <Dcel.Dcel object at 0x7fc8d32efe20>, 'vfstype': <Dcel.Dcel object at 0x7fc8d32efdc0>, 'mntopts': <Dcel.Dcel object at 0x7fc8d32eacb0>, 'freq': <Dcel.Dcel object at 0x7fc8d32eac50>, 'passno': <Dcel.Dcel object at 0x7fc8d32ea980>}, '4': {'spec': <Dcel.Dcel object at 0x7fc8d32ea6b0>, 'file': <Dcel.Dcel object at 0x7fc8d32ea860>, 'vfstype': <Dcel.Dcel object at 0x7fc8d32eaa70>, 'mntopts': <Dcel.Dcel object at 0x7fc8d32ea680>, 'freq': <Dcel.Dcel object at 0x7fc8d32ea7d0>, 'passno': <Dcel.Dcel object at 0x7fc8d32ea9b0>}, '5': {'spec': <Dcel.Dcel object at 0x7fc8d32ea410>, 'file': <Dcel.Dcel object at 0x7fc8d32ea440>, 'vfstype': <Dcel.Dcel object at 0x7fc8d32ea470>, 'mntopts': <Dcel.Dcel object at 0x7fc8d32ea560>}}\n",
      "        _map: <class 'NoneType'>:None\n",
      "        _dir: <class 'dict'>:{'': <Dcel.Dcel object at 0x7fc8d32eaef0>, '1': <Dcel.Dcel object at 0x7fc8d3257eb0>}\n",
      "        \n"
     ]
    }
   ],
   "source": [
    "print(res.target.value.inspect())"
   ]
  },
  {
   "cell_type": "code",
   "execution_count": 27,
   "metadata": {
    "scrolled": true
   },
   "outputs": [
    {
     "name": "stdout",
     "output_type": "stream",
     "text": [
      "DictFS::listdir(): path = /etc/cosmdirname\n",
      "DictFS::listdir(): target type: <class 'list'>\n",
      "DictFS::listdir(): path = /\n",
      "DictFS::listdir(): target type: <class 'Dcel.Dcel'>\n",
      "hiena_mp::type(text) is <class 'Dcel.Dcel'>\n",
      "hiena_mp::type(text) is <class 'Dcel.Dcel'>\n",
      "hiena_mp::type(text) is <class 'Dcel.Dcel'>\n",
      "hiena_mp::type(text) is <class 'Dcel.Dcel'>\n",
      "hiena_mp::type(text) is <class 'Dcel.Dcel'>\n",
      "hiena_mp::type(text) is <class 'Dcel.Dcel'>\n",
      "<class 'NoneType'>\n",
      "False\n"
     ]
    }
   ],
   "source": [
    "resb = APath(Dcel(res.target, service_class=DictFS))\n",
    "print(type(resb.target.value.value))\n",
    "print(resb.target.value.isdir('/'))"
   ]
  },
  {
   "cell_type": "markdown",
   "metadata": {},
   "source": [
    "## Test Other"
   ]
  },
  {
   "cell_type": "code",
   "execution_count": null,
   "metadata": {
    "scrolled": true
   },
   "outputs": [],
   "source": [
    "from MulticelSeqFS import MulticelSeqFS\n",
    "from fs.base import FS\n",
    "def fudgeglob(cel):\n",
    "    return [cel[e] for e in cel.listdir()]\n",
    "print(type(fudgeglob))\n",
    "print(issubclass(MulticelSeqFS,FS))\n",
    "\n",
    "fudgeglob(a.target)"
   ]
  },
  {
   "cell_type": "code",
   "execution_count": null,
   "metadata": {},
   "outputs": [],
   "source": [
    "path = '.cosm/tools/cburn.app/img/IMG_5997.JPG'\n",
    "b = a.lookup(path)\n",
    "c = str(b.target)\n",
    "c[0:10]"
   ]
  },
  {
   "cell_type": "code",
   "execution_count": null,
   "metadata": {},
   "outputs": [],
   "source": [
    "a.listdir('/')"
   ]
  },
  {
   "cell_type": "code",
   "execution_count": null,
   "metadata": {
    "scrolled": true
   },
   "outputs": [],
   "source": [
    "urlstr='@/etc/fstab'\n",
    "f = a.lookup(urlstr)\n",
    "#d = Dcel(address=urlstr, service_class='file')\n",
    "#f = APath(d)\n",
    "\n",
    "g = f.command(dict,'fstab',f.target)\n",
    "print(type(g.target))\n",
    "print(g.target)\n",
    "#print(g.target.__dict__)\n",
    "print(g.listdir())\n",
    "print(g.target['1']['spec'])\n",
    "\n",
    "gcel = a.target\n",
    "h = a.command(MulticelSeqFS,\n",
    "              fudgeglob,\n",
    "              [~gcel]\n",
    "             )\n",
    "print(h.listdir())\n"
   ]
  },
  {
   "cell_type": "code",
   "execution_count": null,
   "metadata": {
    "scrolled": false
   },
   "outputs": [],
   "source": [
    "urlstr = 'file://myserver/share/path'\n",
    "d = APath(Dcel(value=urlstr))\n",
    "b = d.command(dict, 'url',d.target)\n",
    "print(type(b.target.value))\n",
    "print(b.target.value['netloc'])"
   ]
  },
  {
   "cell_type": "code",
   "execution_count": null,
   "metadata": {},
   "outputs": [],
   "source": [
    "print(b.target.value['netloc'])\n",
    "b.listdir()"
   ]
  },
  {
   "cell_type": "code",
   "execution_count": null,
   "metadata": {
    "scrolled": true
   },
   "outputs": [],
   "source": [
    "from urllib.parse import urlparse\n",
    "\n",
    "addrs = [ \n",
    "    'file://myserver/share/path',\n",
    "    'file:path',\n",
    "    '//myserver/share/path', \n",
    "    '/part/path'\n",
    "    ]\n",
    "for addr in addrs:\n",
    "    url = urlparse(addr)\n",
    "    print(url.path)\n"
   ]
  },
  {
   "cell_type": "code",
   "execution_count": null,
   "metadata": {
    "scrolled": true
   },
   "outputs": [],
   "source": [
    "from fs.opener import open as fsopen\n",
    "\n",
    "addrs = ['fs','file://fs','file:fs']\n",
    "for addr in addrs:\n",
    "    print (fsopen(addr))"
   ]
  },
  {
   "cell_type": "code",
   "execution_count": null,
   "metadata": {},
   "outputs": [],
   "source": [
    "a = [1,2,3]\n",
    "b = [] \n",
    "c = [4,5,6]\n",
    "\n",
    "\n",
    "a + b + c"
   ]
  },
  {
   "cell_type": "code",
   "execution_count": null,
   "metadata": {
    "scrolled": true
   },
   "outputs": [],
   "source": [
    "fstabs = a.target.path_lookup('.cosm/etc/fstab')\n",
    "fstab_g = a.cosm.path_lookup('types/fstab')\n",
    "b = a.command(dict,'fstab',fstabs)"
   ]
  },
  {
   "cell_type": "code",
   "execution_count": null,
   "metadata": {
    "scrolled": true
   },
   "outputs": [],
   "source": [
    "type(b.target.transformation_history) is Dcel"
   ]
  },
  {
   "cell_type": "code",
   "execution_count": null,
   "metadata": {},
   "outputs": [],
   "source": [
    "print(b.target['1'])"
   ]
  },
  {
   "cell_type": "code",
   "execution_count": null,
   "metadata": {},
   "outputs": [],
   "source": [
    "c = b.command(dict, \n",
    "              'tools/hiena', \n",
    "              b.target, \n",
    "              g2)\n",
    "print(b.target.value)"
   ]
  },
  {
   "cell_type": "code",
   "execution_count": null,
   "metadata": {
    "scrolled": false
   },
   "outputs": [],
   "source": [
    "a.lookup('.cosm')"
   ]
  },
  {
   "cell_type": "code",
   "execution_count": null,
   "metadata": {},
   "outputs": [],
   "source": [
    "c = a.getchild('.cosm/etc/fstab')\n",
    "\n",
    "fstabs = c.readtext('.cosm/etc/fstab')\n",
    "print(fstabs)"
   ]
  },
  {
   "cell_type": "code",
   "execution_count": null,
   "metadata": {},
   "outputs": [],
   "source": [
    "h = a.cosm['tools']['hiena'].value\n",
    "h"
   ]
  },
  {
   "cell_type": "code",
   "execution_count": null,
   "metadata": {},
   "outputs": [],
   "source": [
    "g = { 'entry': r\"([^\\n]+)\" }\n",
    "g2 = { 'field': r\"([^ ]+)\" }\n",
    "\n",
    "for e in h(fstabs,g)[0]['entry']:\n",
    "    print(h(e,g2)[0]['field'])"
   ]
  },
  {
   "cell_type": "code",
   "execution_count": null,
   "metadata": {},
   "outputs": [],
   "source": [
    "fstabd = [ h(e,g2)[0]['field']\n",
    "          for e in h(fstabs,g)[0]['entry']]\n",
    "\n",
    "print(fstabd)"
   ]
  },
  {
   "cell_type": "code",
   "execution_count": null,
   "metadata": {},
   "outputs": [],
   "source": [
    "class FudgeBo(APathWrapper):\n",
    "    pass\n",
    "\n",
    "w = FudgeBo(a)\n",
    "aa = APath(w)\n",
    "\n",
    "aa is a\n"
   ]
  },
  {
   "cell_type": "code",
   "execution_count": null,
   "metadata": {},
   "outputs": [],
   "source": [
    "d = D('.',OSFS)\n",
    "ab = APath('fs','file',parent=a)"
   ]
  },
  {
   "cell_type": "code",
   "execution_count": null,
   "metadata": {
    "scrolled": false
   },
   "outputs": [],
   "source": [
    "ab.listdir('.')"
   ]
  }
 ],
 "metadata": {
  "kernelspec": {
   "display_name": "Python 3 (ipykernel)",
   "language": "python",
   "name": "python3"
  },
  "language_info": {
   "codemirror_mode": {
    "name": "ipython",
    "version": 3
   },
   "file_extension": ".py",
   "mimetype": "text/x-python",
   "name": "python",
   "nbconvert_exporter": "python",
   "pygments_lexer": "ipython3",
   "version": "3.10.12"
  }
 },
 "nbformat": 4,
 "nbformat_minor": 2
}
