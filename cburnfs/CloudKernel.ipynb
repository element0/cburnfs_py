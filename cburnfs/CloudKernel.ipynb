{
 "cells": [
  {
   "cell_type": "markdown",
   "metadata": {},
   "source": [
    "# CloudKernel\n",
    "\n",
    "An abstract base class that _cloud kernels_ inherit from. A cloud kernel brokers resources to a less privileged container. The default _cloud kernel_ is pointed to by `@/kernel` in the `ApathRootCosm`.\n",
    "\n",
    "## Use case: Cosmos 'new' command\n",
    "\n",
    "\n",
    "\n",
    "`APath` uses `@/kernel` to \n",
    "\n",
    "## Roadmap\n",
    "\n",
    "CloudKernel should speak a standard configuration language, like _HCL_.\n",
    "\n",
    "## API Status\n",
    "\n",
    "For version one, no holds barred. All API is subject to incompatability with anything else.\n",
    "\n",
    "\n"
   ]
  },
  {
   "cell_type": "code",
   "execution_count": 8,
   "metadata": {},
   "outputs": [],
   "source": [
    "class CloudKernel:\n",
    "    def __init__(self):\n",
    "        _cloudkernel_placeholding_fluff = 0\n",
    "        \n",
    "    def run(self, payload: dict = { 'result': 'example' }):\n",
    "        return payload\n",
    "        \n",
    "        "
   ]
  },
  {
   "cell_type": "code",
   "execution_count": 9,
   "metadata": {},
   "outputs": [],
   "source": [
    "ck = CloudKernel()"
   ]
  },
  {
   "cell_type": "code",
   "execution_count": 10,
   "metadata": {},
   "outputs": [
    {
     "name": "stdout",
     "output_type": "stream",
     "text": [
      "{'result': 'example'}\n"
     ]
    }
   ],
   "source": [
    "print(ck.run())"
   ]
  },
  {
   "cell_type": "markdown",
   "metadata": {},
   "source": [
    "## Playground"
   ]
  },
  {
   "cell_type": "code",
   "execution_count": 28,
   "metadata": {},
   "outputs": [],
   "source": [
    "def back_func(*args, **kwargs):\n",
    "    print(args)\n",
    "    print(kwargs)\n",
    "    \n",
    "def middle_func(*args, **kwargs):\n",
    "    kwargs['man_in_the_middle'] = 'agent_x'\n",
    "    back_func(*args, **kwargs)\n",
    "    \n",
    "def front_func(name, color='blue', **kwargs):\n",
    "    dummy = 'example'\n",
    "    middle_func(name, dummy, color=color, extra_type='complicated metal thing', **kwargs)\n",
    "    \n",
    "    "
   ]
  },
  {
   "cell_type": "code",
   "execution_count": 30,
   "metadata": {},
   "outputs": [
    {
     "name": "stdout",
     "output_type": "stream",
     "text": [
      "('raygan', 'example')\n",
      "{'color': 'green', 'extra_type': 'complicated metal thing', 'man_in_the_middle': 'agent_x'}\n"
     ]
    }
   ],
   "source": [
    "front_func('raygan','green')"
   ]
  },
  {
   "cell_type": "code",
   "execution_count": 24,
   "metadata": {},
   "outputs": [
    {
     "name": "stdout",
     "output_type": "stream",
     "text": [
      "()\n",
      "{'cosm': 'my@', 'man_in_the_middle': 'agent_x'}\n"
     ]
    }
   ],
   "source": [
    "middle_func(cosm='my@')"
   ]
  },
  {
   "cell_type": "code",
   "execution_count": 25,
   "metadata": {},
   "outputs": [
    {
     "name": "stdout",
     "output_type": "stream",
     "text": [
      "()\n",
      "{'man_in_the_middle': 'agent_x'}\n"
     ]
    }
   ],
   "source": [
    "middle_func()"
   ]
  },
  {
   "cell_type": "code",
   "execution_count": null,
   "metadata": {},
   "outputs": [],
   "source": []
  }
 ],
 "metadata": {
  "kernelspec": {
   "display_name": "Python 3.9",
   "language": "python",
   "name": "python3"
  },
  "language_info": {
   "codemirror_mode": {
    "name": "ipython",
    "version": 3
   },
   "file_extension": ".py",
   "mimetype": "text/x-python",
   "name": "python",
   "nbconvert_exporter": "python",
   "pygments_lexer": "ipython3",
   "version": "3.9.5"
  }
 },
 "nbformat": 4,
 "nbformat_minor": 4
}
