{
 "cells": [
  {
   "cell_type": "markdown",
   "metadata": {},
   "source": [
    "# Dcel JSON Encoder\n",
    "\n",
    "A custom Encoder for Dcels.\n"
   ]
  },
  {
   "cell_type": "code",
   "execution_count": 33,
   "metadata": {},
   "outputs": [],
   "source": [
    "import json\n",
    "from Dcel import Dcel\n",
    "from Dcel import DcelReference\n",
    "from hashlib import sha256\n",
    "\n",
    "def dummyfunc():\n",
    "    pass\n",
    "\n",
    "class DcelJSONHashEncoder(json.JSONEncoder):\n",
    "    def default(self, o):\n",
    "        if isinstance(o, Dcel):\n",
    "            return sha256(str(o.value).encode()).hexdigest()\n",
    "        if isinstance(o, DcelReference):\n",
    "            return sha256(str(o).encode()).hexdigest()\n",
    "        if isinstance(o, str):\n",
    "            return sha256(o.encode()).hexdigest()\n",
    "        if isinstance(o, type(dummyfunc)):\n",
    "            return sha256(str(o).encode()).hexdigest()\n",
    "        return json.JSONEncoder.default(self,o)\n",
    "    \n",
    "def dumphash(o):\n",
    "    _json_hash = json.dumps(o, cls=DcelJSONHashEncoder)\n",
    "    return sha256(_json_hash.encode()).hexdigest()"
   ]
  },
  {
   "cell_type": "code",
   "execution_count": 34,
   "metadata": {},
   "outputs": [
    {
     "name": "stdout",
     "output_type": "stream",
     "text": [
      "{\"greeting\": \"c261139b6339f880f4f75a3bf5a08f7c2d6f208e2720760f362e4464735e3845\", \"goodbye\": \"608f8e276d498b8c9955d0319279f0c3645e798e5ba8cd658c48ac4b7d079c3d\", \"piecemeal\": \"542f0b5db770996936a14df02e31827feef4148c4c27579ef97e5e7c3600f439\", \"fn\": \"adf8a3e1b6c32eb80a0762d6d68bdbd5244cbc128006e5b2b05651f40a2a3de0\"}\n",
      "---\n",
      "3dc58a7e1708ce1cc4269fd9b7bf7816f142eb34aa905d3ade6fc0e09ec82cf4\n"
     ]
    }
   ],
   "source": [
    "def dummyfunc():\n",
    "    pass\n",
    "\n",
    "x = { \"greeting\": Dcel({ \"one\": 1, \"two\": 2}),\n",
    "      \"goodbye\": ~Dcel('see ya'),\n",
    "      \"piecemeal\": Dcel('abracadabra')[3:9],\n",
    "     \"fn\": dummyfunc,\n",
    "    }\n",
    "hashes_json = json.dumps(x, cls=DcelJSONHashEncoder)\n",
    "print(hashes_json)\n",
    "print('---')\n",
    "print(sha256(hashes_json.encode()).hexdigest())"
   ]
  },
  {
   "cell_type": "code",
   "execution_count": 35,
   "metadata": {},
   "outputs": [],
   "source": [
    "hashresult = dumphash(x)"
   ]
  },
  {
   "cell_type": "code",
   "execution_count": 36,
   "metadata": {},
   "outputs": [
    {
     "name": "stdout",
     "output_type": "stream",
     "text": [
      "3dc58a7e1708ce1cc4269fd9b7bf7816f142eb34aa905d3ade6fc0e09ec82cf4\n"
     ]
    }
   ],
   "source": [
    "print(hashresult)"
   ]
  },
  {
   "cell_type": "code",
   "execution_count": 37,
   "metadata": {},
   "outputs": [
    {
     "name": "stdout",
     "output_type": "stream",
     "text": [
      "3dc58a7e1708ce1cc4269fd9b7bf7816f142eb34aa905d3ade6fc0e09ec82cf4\n"
     ]
    }
   ],
   "source": [
    "print(dumphash(x))"
   ]
  },
  {
   "cell_type": "code",
   "execution_count": null,
   "metadata": {},
   "outputs": [],
   "source": []
  }
 ],
 "metadata": {
  "kernelspec": {
   "display_name": "Python 3 (ipykernel)",
   "language": "python",
   "name": "python3"
  },
  "language_info": {
   "codemirror_mode": {
    "name": "ipython",
    "version": 3
   },
   "file_extension": ".py",
   "mimetype": "text/x-python",
   "name": "python",
   "nbconvert_exporter": "python",
   "pygments_lexer": "ipython3",
   "version": "3.10.12"
  }
 },
 "nbformat": 4,
 "nbformat_minor": 4
}
