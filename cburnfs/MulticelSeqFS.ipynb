{
 "cells": [
  {
   "cell_type": "markdown",
   "metadata": {},
   "source": [
    "# MulticelSeqFS\n",
    "\n",
    "Combine multiple Dcels together in a sequence. (No overlay.)"
   ]
  },
  {
   "cell_type": "code",
   "execution_count": 1,
   "metadata": {},
   "outputs": [],
   "source": [
    "from fs.base import FS\n",
    "from fs.info import Info\n",
    "import six\n",
    "from fs.errors import ResourceNotFound, DirectoryExpected\n",
    "from copy import deepcopy\n",
    "from MulticelFS import MulticelFS\n",
    "\n",
    "def mergehostinfo(A,B,out=None):\n",
    "    pass\n",
    "\n",
    "def mergeinfo(A,B,out=None):\n",
    "    # type: (dict, dict, dict) -> dict()\n",
    "\n",
    "    if out is None:\n",
    "        _out = dict()\n",
    "    else:\n",
    "        _out = out\n",
    "    \n",
    "    if A == dict():\n",
    "        return deepcopy(B)\n",
    "    \n",
    "    for k,v in A.items():\n",
    "        if k in B:\n",
    "            vB = B[k]\n",
    "            if type(v) is dict and type(vB) is dict:\n",
    "                _out[k] = dict()\n",
    "                mergeinfo(v,vB,_out[k])\n",
    "            elif type(v) is list and type(vB) is list:\n",
    "                #quick fix\n",
    "                #todo: upgrade w mergehostinfo()\n",
    "                _out[k] = list(set(v)|set(vB))\n",
    "            else:\n",
    "                _out[k] = B[k]\n",
    "        else:\n",
    "            _out[k] = A[k]\n",
    "    for k,v in B.items():\n",
    "        if not k in _out:\n",
    "            _out[k] = B[k]\n",
    "    return _out\n",
    "\n",
    "class MulticelSeqFS(MulticelFS):\n",
    "    def __init__(self, dcels):\n",
    "        super().__init__(dcels)\n",
    "    \n",
    "    def listdir(self,path): # Get a list of resources in a directory.\n",
    "        lsprep = list()\n",
    "        for ea in self.dcels:\n",
    "            try:\n",
    "                lsprep.extend(\n",
    "                    ea.listdir(path)\n",
    "                )\n",
    "            except ResourceNotFound:\n",
    "                pass\n",
    "            except DirectoryExpected:\n",
    "                pass\n",
    "        return lsprep\n",
    "\n",
    "    \n",
    "    # non-FS API specific to MultiCelFS\n",
    "    #def add_dcel(self, dcel):\n",
    "    #def remove_dcel(self, dcel):\n",
    "    # def get_dcel_by_host(self,hostname):\n"
   ]
  },
  {
   "cell_type": "code",
   "execution_count": 7,
   "metadata": {},
   "outputs": [],
   "source": [
    "from Dcel import Dcel\n",
    "from blackstrap import BlackstrapFS\n",
    "\n",
    "BlackstrapFS.initHost('localhost')\n",
    "BlackstrapFS.addShare('images/fs','fs')\n",
    "BlackstrapFS.addShare('images/fs2','fs2')\n",
    "\n",
    "\n",
    "a = Dcel(address='file://fs.localhost', \n",
    "         service_class=BlackstrapFS)\n",
    "b = Dcel(address='file://fs2.localhost', \n",
    "         service_class=BlackstrapFS)\n",
    "c = Dcel(address=[a,b], \n",
    "         service_class=MulticelSeqFS)"
   ]
  },
  {
   "cell_type": "code",
   "execution_count": 9,
   "metadata": {
    "scrolled": true
   },
   "outputs": [
    {
     "name": "stdout",
     "output_type": "stream",
     "text": [
      "<class 'Dcel.Dcel'>\n",
      "<class 'Dcel.Dcel'>\n",
      "<class 'Dcel.Dcel'>\n",
      "<class 'Dcel.Dcel'>\n",
      "<class 'Dcel.Dcel'>\n",
      "<class 'Dcel.Dcel'>\n",
      "[<Dcel.Dcel object at 0x118d3ed60>, <Dcel.Dcel object at 0x118d3e280>, <Dcel.Dcel object at 0x118d3e070>, <Dcel.Dcel object at 0x118d3ed60>, <Dcel.Dcel object at 0x118d3e280>, <Dcel.Dcel object at 0x118d4a3a0>]\n"
     ]
    }
   ],
   "source": [
    "for ea in c.listdir('/'):\n",
    "    print(type(c[ea]))\n",
    "\n",
    "print([c[ea] for ea in c.listdir('/')])"
   ]
  },
  {
   "cell_type": "code",
   "execution_count": 35,
   "metadata": {
    "scrolled": false
   },
   "outputs": [
    {
     "name": "stdout",
     "output_type": "stream",
     "text": [
      "<file 'apples.txt'>\n",
      "<file 'cherries.html.txt'>\n",
      "<file 'junk.txt'>\n",
      "<file 'catamaran.txt'>\n",
      "<file 'skiff.txt'>\n",
      "<dir 'tools'>\n",
      "<dir 'types'>\n",
      "<dir 'etc'>\n",
      "<dir 'var'>\n",
      "<dir 'hosts'>\n"
     ]
    }
   ],
   "source": [
    "# glob proof of concept\n",
    "# using MulticelSeqFS\n",
    "\n",
    "def globall(b):\n",
    "    res_list = [b[ea]\n",
    "                for ea in b.listdir('/')]\n",
    "    c = Dcel(res_list,\n",
    "             service_class=MulticelSeqFS\n",
    "            )\n",
    "    return c\n",
    "\n",
    "c = globall(a)\n",
    "for ea in c.listdir('/'):\n",
    "    print(c[ea].getinfo('.'))"
   ]
  },
  {
   "cell_type": "code",
   "execution_count": 13,
   "metadata": {},
   "outputs": [
    {
     "name": "stdout",
     "output_type": "stream",
     "text": [
      "{'basic': {'name': 'boats', 'is_dir': True}, 'hosts': ['fs.localhost', 'fs2.localhost']}\n"
     ]
    },
    {
     "data": {
      "text/plain": [
       "'fs2.localhost'"
      ]
     },
     "execution_count": 13,
     "metadata": {},
     "output_type": "execute_result"
    }
   ],
   "source": [
    "i = c.getinfo('boats', \n",
    "          namespaces=['dcel'])\n",
    "print(i.raw)\n",
    "b.service.url.netlock"
   ]
  }
 ],
 "metadata": {
  "kernelspec": {
   "display_name": "Python 3.9",
   "language": "python",
   "name": "python3"
  },
  "language_info": {
   "codemirror_mode": {
    "name": "ipython",
    "version": 3
   },
   "file_extension": ".py",
   "mimetype": "text/x-python",
   "name": "python",
   "nbconvert_exporter": "python",
   "pygments_lexer": "ipython3",
   "version": "3.9.5"
  }
 },
 "nbformat": 4,
 "nbformat_minor": 5
}
