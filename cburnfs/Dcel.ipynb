{
 "cells": [
  {
   "cell_type": "markdown",
   "metadata": {},
   "source": [
    "# Domain Cells\n",
    "\n",
    "The Dcel pattern defines a _domain_ as a coupled data set and storage location [1][2].\n",
    "\n",
    "The Dcel encapsulates a domain in a single, cell-like object with a generized IO interface.\n",
    "\n",
    "The generalized API allows differently typed domains to be recursively chained and nested in a way that a path walker can easily traverse. [3]\n",
    "\n",
    "Also, in a spreadsheet-cell-like fashion, Dcels may contain a formula to generate their value/dataset. The formula may refer to other Dcels, allowing dependency chains which are refreshed when needed.\n",
    "\n",
    "The Dcel uses external modules to provide the formula function and storage service. This enables the Dcel to enclose different data and storage types.\n",
    "\n",
    "### Executable Dcels\n",
    "\n",
    "Dcels may contain an executable. It is not the responsibility of the Dcel class to run such.\n",
    "\n",
    "---\n",
    "1. Data sets of any size and type at a specific storage location.\n",
    "2. Dcels can be overlaid to provide multiple storage locations for a single data set.\n",
    "2. File paths can refer to locations within files regardless of filetype.\n",
    "\n",
    "    \n",
    "\n",
    "\n",
    "## Table of Contents\n",
    "\n",
    "Overview\n",
    "- Purpose of a Dcel\n",
    "- creating a Dcel\n",
    "- Lazy R Value\n",
    "\n",
    "The Dcel\n",
    "\n",
    "- production instruction\n",
    "- service\n",
    "- stream\n",
    "- map\n",
    "- directory\n",
    "- value\n",
    "- executable\n",
    "\n",
    "API's\n",
    "\n",
    "- pyfilesystem\n",
    "- http-like\n",
    "- string representation\n",
    "- assoc array representation\n",
    "\n",
    "# Overview\n",
    "\n",
    "## Purpose of a Dcel\n",
    "\n",
    "A 'Domain Cel' (aka 'Dcel') represents the 'domain' of a set of data.\n",
    "\n",
    "## Creating a Dcel\n",
    "\n",
    "A Dcel needs a combination of the following to resolve to its `value/dataset`:\n",
    "\n",
    "- formula function with args\n",
    "- service handle\n",
    "- service address\n",
    "- buffer value\n",
    "\n",
    "An optional `formula function`, if present, generates the `value/dataset`. The Dcel stores the value at the `address` served by `service`. \n",
    "\n",
    "On access, the `service` takes the `address` and serves the `value`. The Dcel refreshes stale values via the formula function.\n",
    "\n",
    "The `buffer value` can be set explicitly without formula or service. In this case the Dcel storage will be temporary.\n",
    "\n",
    "### Service Address\n",
    "\n",
    "The `address` is a base path. The service module API uses path strings to identify items within `value/dataset`. Descendants within the dataset use subpaths with the same service. A Dcel derived from a descendant uses the subpath as its `address`.\n",
    "\n",
    "\n",
    "### Initializing a Dcel\n",
    "    \n",
    "Explicitly constructed with all inputs:\n",
    "\n",
    "    D(formula = fn,\n",
    "      args = [a],\n",
    "      service = serviceobj,\n",
    "      address = serviceaddr)\n",
    "      \n",
    "Constructed with service,address pair:\n",
    "\n",
    "    D(service = serviceob,\n",
    "      address = serviceaddr)\n",
    "      \n",
    "Constructed with function,args pair without a service:\n",
    "      \n",
    "    D(formula = fn,\n",
    "      args = [a])\n",
    "      \n",
    "    # expected to produce a value\n",
    "    # Dcel wrapper wont know\n",
    "    # which service to use.\n",
    "    # service functions will fail\n",
    "    # but value functions succeed.    \n",
    "    \n",
    "Constructed with value only.\n",
    "\n",
    "    D(value = v)\n",
    "    \n",
    "    # explicit buffer value\n",
    "    # implied temporary memory\n",
    "    \n",
    "Constructed with ServiceClass,addr pair:\n",
    "\n",
    "    D(service_class = cls,\n",
    "      address = addr)\n",
    "      \n",
    "The ServiceClass takes a `service_address` and generates a `service` object.\n",
    "\n",
    "The enclosing Dcel's base path `address` is `/`.\n",
    "\n",
    "\n",
    "## R Value\n",
    "\n",
    "The R Value of a dcel is evaluated lazily on access.\n",
    "\n",
    "The Dcel may be chained from other Dcels and may be dependent on the values of other dcels. \n",
    "    \n",
    "A simple value implementation would be:\n",
    "\n",
    "    self.args = [ dcel1, dcel2 ]\n",
    "    def value(self):\n",
    "        return self.function(\n",
    "                *self.args\n",
    "                )\n",
    "                \n",
    "Psuedocode test:\n",
    "\n",
    "    d = Dcel(filesvc,['.'])\n",
    "    e = Dcel(lookupfn,[d,request])\n",
    "    e.value = e.function(*e.args)\n",
    "\n",
    "## Production Instructions\n",
    "    \n",
    "The (addr,service) pair is an example of a production instruction.\n",
    "\n",
    "    d = D(service,[url])\n",
    "    d = D(service,[string])\n",
    "    d = D(service,[number])\n",
    "    d = D(service,[json])\n",
    "\n",
    "The production instruction is a repeatable instruction which can be used to rebuild or replicate the Dcel, and which is responsible for evaluating the dcel to return a value.\n",
    "\n",
    "The python `__repr__()` method may return it?\n",
    "\n",
    "The args to the instructions are re-evaluated on access if they contain dcels.\n",
    "\n",
    "    d = D(func,[d2,d3])\n",
    "    \n",
    "vs.\n",
    "\n",
    "    d = D(func,[1,2])\n",
    "    \n",
    "Which is only re-evaluated if `self._value` is not set.\n",
    "\n",
    "#### Service vs Class\n",
    "\n",
    "The (service,addr) pair:\n",
    "\n",
    "Service could well be a class, and the address could be packaged in an instance of it.\n",
    "\n",
    "For extensibility this could work if the class code is loaded into the program on the fly at runtime.\n",
    "\n",
    "However a microservices approach to \"classes\" within the context of Dcels allows sandboxing. The Dcel methods delegate to a DcelService type which wraps a microservice.\n",
    "\n",
    "### Kinds of Production Instructions\n",
    "\n",
    "- Source\n",
    "- Bind\n",
    "- Find\n",
    "- Transform\n",
    "\n",
    "#### Source\n",
    "\n",
    "    d = D(addr,service)\n",
    "    \n",
    "Set up dcel with an initialized service. The function of the dcel returns the service object. Calls to methods \n",
    "    \n",
    "#### Bind\n",
    "\n",
    "    d = D(targets,bindmethod)\n",
    "    \n",
    "#### Find\n",
    "\n",
    "    d = D(target,lookupmethod,request)\n",
    "    \n",
    "The find instruction, where target should be a 'parent' dcel.\n",
    "    \n",
    "#### Transform\n",
    "\n",
    "    d = D(source,transformmethod,args)\n",
    "    \n",
    "### Generalization\n",
    "\n",
    "    D(target,function,args)\n",
    "    \n",
    "A flexible way of constructing a production instruction would be to create a dictionary or named tuple:\n",
    "\n",
    "    target: 'this',\n",
    "    function: fnobject,\n",
    "    args: array or dict\n",
    "    \n",
    "## Service\n",
    "\n",
    "While the Production Instruction determines the content of the Dcel, the Dcel's Service delivers it.\n",
    "\n",
    "The Service is passed in as a pyfilesystem class, which takes the production value as input and generates an open file system handle.\n",
    "\n",
    "    service = serviceclass(value)\n",
    "    \n",
    "### Service vs Production Instruction\n",
    "\n",
    "Production and service.\n",
    "\n",
    "    a = D(noop,\n",
    "          stringdata,\n",
    "          stringserver)\n",
    "          \n",
    "    a = D(noop,\n",
    "          pathstr,\n",
    "          fileserver)\n",
    "          \n",
    "    a = D(fileserver, # won't work\n",
    "          pathstr,\n",
    "          fileserver) # won't work\n",
    "          \n",
    "The producer and fileserver need to be different. The producer creates an object which is used by the server.\n",
    "\n",
    "    d1 = D(noop,[string1],\n",
    "           stringserver)\n",
    "    d2 = D(noop,[string2],\n",
    "           stringserver)\n",
    "    a = D(concat,\n",
    "          [dcel1,dcel2],\n",
    "          stringserver)\n",
    "            \n",
    "    out = a.readtext()\n",
    "    i = a.getinfo()\n",
    "    child = a[key]\n",
    "    \n",
    "### Reusing Open Services\n",
    "\n",
    "Parent Dcel\n",
    "\n",
    "    prodfn(args) -> servableob\n",
    "    -> serviceclass()\n",
    "    -> serviceob, baseaddr\n",
    "\n",
    "Child Dcel\n",
    "\n",
    "    serviceob.exists(childaddr)\n",
    "    -> sameserviceob, childaddr\n",
    "\n",
    "## Value and Executable\n",
    "\n",
    "The primary value from the production instruction is cached before being passed to the service.\n",
    "\n",
    "The \"value\" of a Dcel can be obtained from the output of `getinfo()` if the service supports the `dcel` namespace.\n",
    "\n",
    "    i = d.getinfo('.',namespaces=['dcel'])\n",
    "    val = i.raw['dcel']['value']\n",
    "\n",
    "Any object, including callables, can be passed from the service. So functions as well as data can be delivered by the service.\n",
    "\n",
    "\n",
    "## Map and Slices (Fragments)\n",
    "\n",
    "The Dcel can have a `_map` property which contains `fragments` or `slices` which have been altered.\n",
    "\n",
    "### Slices (Fragments)\n",
    "\n",
    "    a = Dcel(\"grand opening\")\n",
    "    b = a[6:13] # maps 'opening'\n",
    "    b.value = \"poobah\" # replace 'opening'\n",
    "    print(a)\n",
    "    \n",
    "    > grand poobah\n",
    "\n",
    "\n",
    "### Map on Write\n",
    "\n",
    "\n",
    "\n",
    "\n",
    "## The Dcel API\n",
    "\n",
    "A Dcel has a FS API.\n",
    "\n",
    "    dcel.listdir()\n",
    "    dcel.readbytes()\n",
    "    etc...\n",
    "    \n",
    "A Dcel has a directory surface.\n",
    "\n",
    "    dcel[childkey]\n",
    "\n",
    "A Dcel has a properties surface.\n",
    "\n",
    "    dcel.getinfo(...)\n",
    "    \n",
    "A Dcel has a value.\n",
    "\n",
    "    dcel.value\n",
    "    \n",
    "Dcels can be empty.\n",
    "\n",
    "    \n",
    "## API Interactions\n",
    "\n",
    "How do different API's interact with a Dcel?\n",
    "\n",
    "### Delegation\n",
    "\n",
    "The Dcel provides methods which delegate to the service object. Services are `pyfilesystem` compatable classes.\n",
    "\n",
    "### Production and API\n",
    "\n",
    "A Dcel is essentially a production instruction with a map and a directory. The service is responsible for noticing if the Dcel state is stale.\n",
    "\n",
    "Services provide some or all of the following:\n",
    "\n",
    "__Service__\n",
    "- data for the stream\n",
    "- a map of the stream\n",
    "- a directory of children\n",
    "- private state\n",
    "\n",
    "A service doesn't produce a dcel, it produces the goods that the Dcel delivers.\n",
    "\n",
    "#### Getitem and Lookup\n",
    "\n",
    "The Dcel getitem method tests the service for presence of the item.\n",
    "\n",
    "Uses DcelService.lookup()\n",
    "\n",
    "    baseaddr, addr -> itemaddr\n",
    "\n",
    "The `lookup()` method is required to return an address of an item in such a state that the address can be used to produce a new Dcel instance, using the existing service instance.\n",
    "\n",
    "In this way, lookups and `__getitem__()` calls on the Dcel can be chained.\n",
    "\n",
    "### Service and Environment\n",
    "\n",
    "The service runs inside an environment established by an APath. Services can reference other services and external resources as provided by the APath's `.cosm`.\n",
    "\n",
    "The service object is instantiated within the .cosm environment.\n",
    "\n",
    "\n",
    "### Dcel and Environment\n",
    "\n",
    "The Dcel doesn't contain any APath content from the parent invironment, but may provide some environment from its own data. The dcel is a passive container. The APath requests a '.cosm' from the Dcel and the DcelService looks it up.\n",
    "\n",
    "\n",
    "\n"
   ]
  },
  {
   "cell_type": "code",
   "execution_count": 90,
   "metadata": {},
   "outputs": [],
   "source": [
    "from fs.base import FS\n",
    "from fs.info import Info\n",
    "from fs.errors import NoURL, InvalidPath, ResourceNotFound, DirectoryExpected\n",
    "from fs.path import normpath\n",
    "from inspect import isclass, isfunction, ismethod\n",
    "from urllib.parse import urlparse\n",
    "from mergeinfo import mergeinfo\n",
    "from ValueSvc import ValueSvc\n",
    "\n",
    "DEFAULT_HOST = 'localhost'\n",
    "\n",
    "class DcelReference:\n",
    "    def __init__(self,dcel):\n",
    "        self._dcel = dcel\n",
    "        \n",
    "    def __invert__(self):\n",
    "        return self._dcel\n",
    "    \n",
    "    def __str__(self):\n",
    "        return str(self._dcel)\n",
    "    \n",
    "class DcelIterator:\n",
    "    \"\"\"WIP: Don't use this yet. Dcel::__iter__() should return an iterator derived from Dcel::value\"\"\"\n",
    "    def __init__(self,target):\n",
    "        if target != None:\n",
    "            self.target = target\n",
    "            self.curpos = 0\n",
    "        \n",
    "    def __iter__(self):\n",
    "        return self\n",
    "    \n",
    "    def __next__():\n",
    "        raise StopIteration\n",
    "        \n",
    "\n",
    "class Dcel(FS):\n",
    "    \n",
    "    def __new__(cls, arg1=None, *args, **kwargs):\n",
    "        if type(arg1) is Dcel:\n",
    "            if 'writeable' in kwargs:\n",
    "                # This allows cloning a new Dcel\n",
    "                # from an old one, with a different `writeable`\n",
    "                # property.\n",
    "                if kwargs['writeable'] != arg1._writeable:\n",
    "                    return super().__new__(cls)\n",
    "            return arg1\n",
    "        else:\n",
    "            return super().__new__(cls)\n",
    "                \n",
    "    \n",
    "    def __init__(self,\n",
    "                 address = None,\n",
    "                 service = None,\n",
    "                 formula = None,\n",
    "                 args = None,\n",
    "                 value = None,\n",
    "                 service_class = None,\n",
    "                 service_args = None,\n",
    "                 kwargs = None,\n",
    "                 writeable = True,\n",
    "                ):\n",
    "        \"\"\"\n",
    "        Initialize a new Dcel object.\n",
    "        \n",
    "        If self.__inited == True, then we are unwrapping the \n",
    "        dcel from a wrapper, and no initialization is needed.\n",
    "        \n",
    "        These are the main pathways:\n",
    "        - address only (expected to use as a value)\n",
    "        - address and service\n",
    "        - address and service_class\n",
    "        - slice\n",
    "        \"\"\"\n",
    "        # __inited\n",
    "        try:\n",
    "            \"\"\"\n",
    "            The Apath\n",
    "            class might be unwrapping\n",
    "            an Apath from a wrapper.\n",
    "            \"\"\"\n",
    "            if self.__inited == True:\n",
    "                return\n",
    "        except AttributeError:\n",
    "            # a new instance.\n",
    "            super().__init__()\n",
    "            self.__inited = True\n",
    "        \n",
    "        # _writable\n",
    "        # Note to future self:\n",
    "        # Don't set _writeable until end of initialization\n",
    "        # or you are in for a city-state of pain.\n",
    "        # Example: `self._writeable = writeable`\n",
    "        # DO the sensible thing.\n",
    "        self._writeable = True\n",
    "        # And then please remember to set the actual value\n",
    "        # before the method returns.\n",
    "        \n",
    "        # If the address is a dcel,\n",
    "        # use the dcel's value\n",
    "        # and save the dcel in case\n",
    "        # it needs to be re-evaluated.\n",
    "        \n",
    "        def init_address_only(address):\n",
    "            if type(address) is Dcel:\n",
    "                # Clone a Dcel but\n",
    "                # allow current __init__() to override 'writeable' property.\n",
    "                try:\n",
    "                    self.address = address.address\n",
    "                except:\n",
    "                    self.address = address.value\n",
    "                try:\n",
    "                    self.service = address.service\n",
    "                except:\n",
    "                    pass\n",
    "            elif issubclass(type(address),(str,int,bool)):\n",
    "                self.address = '.'\n",
    "                self.service = ValueSvc(address)\n",
    "        \n",
    "        def init_address_service(address, service):\n",
    "            self.address = address\n",
    "            self.service = service\n",
    "        \n",
    "        def init_address_service_class(address,\n",
    "                                       service_class,\n",
    "                                       args=None,\n",
    "                                       kwargs=None\n",
    "                                      ):\n",
    "            if (isclass(service_class)\n",
    "                or isfunction(service_class)\n",
    "                or ismethod(service_class)):\n",
    "                self.address = \"/\"\n",
    "                try:\n",
    "                    url = urlparse(address)\n",
    "                    hostname = url.netloc\n",
    "                    path = url.path\n",
    "                    if hostname == '':\n",
    "                        hostname = path\n",
    "                except:\n",
    "                    hostname = DEFAULT_HOST\n",
    "                if service_args:\n",
    "                    self.service = service_class(address,**service_args)\n",
    "                else:\n",
    "                    self.service = service_class(address)\n",
    "                self.service.__rooturl = address\n",
    "        \n",
    "        # NEW switch to init\n",
    "        # - pathway: address only\n",
    "        if ( address and\n",
    "             not service and\n",
    "             not formula and\n",
    "             not args and\n",
    "             not value and\n",
    "             not service_class and\n",
    "             not service_args and\n",
    "             not kwargs\n",
    "             # writeable will be processed at the end of __init__()\n",
    "           ):\n",
    "            init_address_only(address)\n",
    "        # - pathway: address and service\n",
    "        elif ( address and service and\n",
    "             not formula and\n",
    "             not args and\n",
    "             not value and\n",
    "             not service_class and\n",
    "             not service_args and\n",
    "             not kwargs\n",
    "             # writeable will be processed at the end of __init__()\n",
    "           ):\n",
    "            init_address_service(address, service)\n",
    "        # - pathway: address and service_class\n",
    "        elif ( address and service_class and\n",
    "             not service and\n",
    "             not formula and\n",
    "             not value\n",
    "             # (optional) args\n",
    "             # (optional) service_args\n",
    "             # (optional) kwargs\n",
    "             # writeable will be processed at the end of __init__()\n",
    "           ):\n",
    "            init_address_service_class(address,\n",
    "                                       service_class,\n",
    "                                       *(args if args else []),\n",
    "                                       *(service_args if service_args else []),\n",
    "                                       # args and service_args will be concatenated\n",
    "                                       # if received with *args signature.\n",
    "                                       **(kwargs if kwargs else {})\n",
    "                                      )\n",
    "                \n",
    "        # Deprecate Dcel formula parameter\n",
    "        # in favor of FormulaFS service_class\n",
    "        if formula and args:\n",
    "            self.formula = formula\n",
    "            self.args    = args\n",
    "            self.kwargs  = kwargs\n",
    "        elif formula:\n",
    "            self.formula = formula\n",
    "            \n",
    "        # Value\n",
    "        if not value is None:\n",
    "            self.value = value\n",
    "            \n",
    "        \n",
    "        # internal stubs\n",
    "        self._map = None\n",
    "        self._dir = None\n",
    "        \n",
    "        # last word\n",
    "        # (Thank you for keeping this here, as it must be.)\n",
    "        self._writeable = writeable\n",
    "        \n",
    "    def __invert__(self):\n",
    "        return DcelReference(self)\n",
    "            \n",
    "    def __str__(self):\n",
    "        # this needs to\n",
    "        # return a str version of\n",
    "        # self.value\n",
    "        return str(self.value)\n",
    "    \n",
    "    def freshen(self, a):\n",
    "        if type(a) is Dcel:\n",
    "            return a.value\n",
    "        if type(a) is DcelReference:\n",
    "            return ~a\n",
    "        return a\n",
    "    \n",
    "    def preslice_value(self):\n",
    "        _value = \"\"\n",
    "        # value from slice\n",
    "        if (hasattr(self,'address')\n",
    "            and hasattr(self,'service')\n",
    "            and type(self.address) is slice\n",
    "            and type(self.service) is Dcel):\n",
    "            if (hasattr(self,'_dirty')\n",
    "                and hasattr(self,'_value')):\n",
    "                _value = self._value\n",
    "                return _value\n",
    "            else:\n",
    "                _value = str(self.service.preslice_value())[self.address]\n",
    "                return _value\n",
    "            \n",
    "        # value from service.value\n",
    "        if (hasattr(self,'service')\n",
    "            and hasattr(self.service,'value')):\n",
    "            return self.service.value\n",
    "        \n",
    "        # value from readtext\n",
    "        try:\n",
    "            _value = self.readtext('.')\n",
    "            self._value = _value\n",
    "        except:\n",
    "            try:\n",
    "                _value = self.readbytes('.')\n",
    "                self._value = _value\n",
    "            except:\n",
    "                pass\n",
    "        \n",
    "        # value from formula\n",
    "        # DEV: Depricating in favor of FormulaFS service_class.\n",
    "        try:\n",
    "            # the dirty flag becomes available\n",
    "            # the first time self.value is set.\n",
    "            if not hasattr(self,'_dirty'):\n",
    "                try:\n",
    "                    _args = [ self.freshen(a)\n",
    "                              for a in self.args ]\n",
    "                except:\n",
    "                    _args = []\n",
    "                try:\n",
    "                    _kwargs = { k:self.freshen(v) \n",
    "                           for k,v in self.kwargs.items() }\n",
    "                except:\n",
    "                    _kwargs = {}\n",
    "                try:\n",
    "                    _value = self.formula(*_args,**_kwargs)\n",
    "                    self.value = _value\n",
    "                    return _value\n",
    "                except:\n",
    "                    pass\n",
    "            else:\n",
    "                # return buffer\n",
    "                if hasattr(self._value):\n",
    "                    return self._value\n",
    "        except:\n",
    "            pass\n",
    "\n",
    "        # value from getinfo\n",
    "        try:\n",
    "            i = self.getinfo(namespaces=['dcel'])\n",
    "            _value = i.raw['dcel']['value']\n",
    "            self._value = _value\n",
    "            return _value\n",
    "        except:\n",
    "            pass\n",
    "\n",
    "        # value from buffer\n",
    "        try:\n",
    "            _value = self._value\n",
    "            return _value\n",
    "        except:\n",
    "            pass\n",
    "        return None\n",
    "    \n",
    "    @property\n",
    "    def value(self):\n",
    "        _value = self.preslice_value()\n",
    "\n",
    "        # value from fragment map\n",
    "        if not self._map is None:\n",
    "            _base = _value\n",
    "            if type(_base) is bytes:\n",
    "                _base = _base.decode('utf-8')\n",
    "            pos = 0\n",
    "            _value = \"\"\n",
    "            for ea in self._map:\n",
    "                if pos < ea:\n",
    "                    _value += str(_base[pos:ea])\n",
    "                _fragcel = self._map[ea][1]\n",
    "                if _fragcel is self:\n",
    "                    _value += str(_value)\n",
    "                _value += str(_fragcel)\n",
    "                advancepos = self._map[ea][0]\n",
    "                if advancepos is None:\n",
    "                    return _value\n",
    "                pos = advancepos\n",
    "            _value += str(_base[pos:])\n",
    "        return _value\n",
    "    \n",
    "    def conform_map(self):\n",
    "        \"\"\"Update map with new offsets.\"\"\"\n",
    "        pass\n",
    "        \n",
    "    @value.setter\n",
    "    def value(self,new_value):\n",
    "        \"\"\"Set the value of the Dcel.\n",
    "        \n",
    "        The value can be stored in multiple ways.\n",
    "        The value is buffered, but the buffer may\n",
    "        either be backed by something or not backed\n",
    "        by anything.\n",
    "        \n",
    "        If the value changes, there are multiple effects.\n",
    "        If the Dcel is buffered without backing,\n",
    "        the buffer changes and that's that. If there\n",
    "        is a backing on the Dcel (the Dcel has either a service\n",
    "        or a formula attribute) then the backing needs to be\n",
    "        updated.\n",
    "        \n",
    "        Multiple backing scenarios exist: If the Dcel\n",
    "        is backed by a URL, and the entire contents of the\n",
    "        dcel are updated, then the entire contents can be\n",
    "        flushed to the URL in a single write operation.\n",
    "        \n",
    "        If the Dcel is backed by another Dcel, it possibly\n",
    "        represents a fragment of the other Dcel. The changed\n",
    "        fragment needs to be inserted into the backing Dcel\n",
    "        and then the backing Dcel is either flushed to its URL\n",
    "        or inserted into its backing cell, and so forth until\n",
    "        a root backing cell is flushed to its URL.\n",
    "        \n",
    "        Given that multiple fragment Dcels might be updated\n",
    "        in a short succession, or batch updated, it could\n",
    "        be more efficient to wait until several dirty fragments\n",
    "        are ready before flushing the root backing cell to \n",
    "        its URL. A time window could be implemented to\n",
    "        allow serial fragment writes. A batch-flush mechanism\n",
    "        could be implemented to allow fragment update batches.\n",
    "        \n",
    "        The Dcel fragment map allows for the representation\n",
    "        of the root backing to include updated fragments. The\n",
    "        Dcel.readtext() function should step through the bytes\n",
    "        of the filestream and insert changed fragments.\n",
    "        \n",
    "        \"\"\"\n",
    "        \n",
    "        def set_dirty():\n",
    "            # if this is a subsequent time\n",
    "            if hasattr(self,'_dirty'):\n",
    "                self._dirty = True\n",
    "                \n",
    "            # if this is the first time\n",
    "            if not hasattr(self,'_dirty'):\n",
    "                self._dirty = False\n",
    "        \n",
    "        if self._writeable == False:\n",
    "            raise Exception('not writeable')\n",
    "        \n",
    "        # set buffer if contents changed\n",
    "        if not hasattr(self,'_value'):\n",
    "            self._value = new_value\n",
    "            set_dirty()\n",
    "        elif self._value != new_value:\n",
    "            self._value = new_value\n",
    "            set_dirty()\n",
    "            \n",
    "        \n",
    "        # write slice \"fragment\"\n",
    "        if (hasattr(self,\"address\")\n",
    "            and hasattr(self,\"service\")\n",
    "            and type(self.address) is slice\n",
    "            and type(self.service) is Dcel):\n",
    "            self.service.fragment_updated(self.address, self)\n",
    "        \n",
    "        # write to service\n",
    "        try:\n",
    "            self.service.writetext(self.address,\n",
    "                           new_value)\n",
    "            return\n",
    "        except:\n",
    "            pass\n",
    "        \n",
    "        # write to setinfo\n",
    "        try:\n",
    "            i = {'dcel':{'value':new_value}}\n",
    "            self.setinfo(i)\n",
    "            return\n",
    "        except:\n",
    "            pass\n",
    "        \n",
    "    def fragment_updated(self,frag_slice,frag_dcel):\n",
    "        # TODO: Set and monitor timer to flush buffer to backing.\n",
    "        if self._map is None:\n",
    "            self._map = dict()\n",
    "        self._map.update({frag_slice.start:(frag_slice.stop,frag_dcel)})\n",
    "        if (hasattr(self,\"address\")\n",
    "            and hasattr(self,\"service\")\n",
    "            and type(self.address) is slice\n",
    "            and type(self.service) is Dcel):\n",
    "            assert(not self.service is self)\n",
    "            self.service.fragment_updated(self.address,self)\n",
    "                    \n",
    "    def flush(self):\n",
    "        if (hasattr(self,\"address\")\n",
    "            and hasattr(self,\"service\")):\n",
    "            address = self.address\n",
    "            service = self.service\n",
    "            # bubble the flush...\n",
    "            if (type(address) is slice\n",
    "                and type(service) is Dcel):\n",
    "                service.flush()\n",
    "                return\n",
    "            elif (type(address) is Dcel):\n",
    "                address.flush()\n",
    "                return\n",
    "            else:\n",
    "                # I have to do this tacky shit in order to\n",
    "                # put my kids to bed on time.\n",
    "                # ARCHITECTURE FLAW:\n",
    "                # For the future: Don't add any external methods to a\n",
    "                # service derived from pyfilesystem.\n",
    "                # For the band-aide kludge for DictFS dcels\n",
    "                # which hold Dcel's in their leaves:\n",
    "                if(hasattr(service,\"lookup\")):\n",
    "                    target = service.lookup(address)\n",
    "                    if (type(target) is Dcel):\n",
    "                        if not self._map is None:\n",
    "                            target.value = self.value\n",
    "                        target.flush()\n",
    "                        return\n",
    "                    \n",
    "        # FIXED 8-7-2022 - raygan\n",
    "        # MulticelFS needs to flush correctly.\n",
    "        # The following appears to work.\n",
    "\n",
    "        # execute the flush\n",
    "        if not self._map is None:\n",
    "        # The following seems super-strange\n",
    "            # however, the getter will build the value\n",
    "            # based on the fragment map\n",
    "            # and the setter will write to backing.\n",
    "            # If there is no backing, the buck stops\n",
    "            # at self._value.\n",
    "            self.value = self.value\n",
    "        self._dirty = False\n",
    "        self._map = None\n",
    "            \n",
    "    # Lookup interface\n",
    "    def __getitem__(self,key):\n",
    "        \"\"\"\n",
    "        Access a child of the Dcel's\n",
    "        domain.\n",
    "        \n",
    "        Access a slice of the Dcel's\n",
    "        domain.\n",
    "        \n",
    "        Return object with a dcel\n",
    "        interface that represents a\n",
    "        child from the \"directory\"\n",
    "        surface of this dcel.\n",
    "        \n",
    "        The service lookup()\n",
    "        method is expected to return\n",
    "        an address-object suitable\n",
    "        for use with the same service\n",
    "        instance.\n",
    "        \"\"\"\n",
    "        # slice\n",
    "        if type(key) is slice:\n",
    "            return Dcel(address=key,service=self,writeable=self._writeable)\n",
    "        # before adding a _dir,\n",
    "        # does the service see this\n",
    "        # base address (not the key) as a dir?\n",
    "        \n",
    "        # WIP Dcel address\n",
    "        # convert Dcel value to string type\n",
    "        if (type(key) is Dcel):\n",
    "            key = str(key)\n",
    "        \n",
    "        # function?\n",
    "        if hasattr(self, 'formula'):\n",
    "            raise DirectoryExpected('Formula cell has no directory.')\n",
    "        \n",
    "        # indexed or iterable?\n",
    "        if (not hasattr(self,'address')\n",
    "           and not hasattr(self,'service')\n",
    "           and (hasattr(self.value,'__getitem__'\n",
    "                or hasattr(self.value,'__iter__')))):\n",
    "            if key in ['/','.','']:\n",
    "                return self\n",
    "            return Dcel(self.value[key])\n",
    "\n",
    "        # testing base address for dir\n",
    "        if not self.service.isdir(self.address):\n",
    "            pass\n",
    "            #raise TypeError(self.address)\n",
    "\n",
    "        # base address of this Dcel is a directory\n",
    "        # now we can look up the key.\n",
    "\n",
    "        if not type(self._dir) is dict:\n",
    "            # self._dir is not dict\n",
    "            basepath = self.address\n",
    "            if basepath == '/':\n",
    "                basepath = ''\n",
    "            # create address (\"path\") of key relative to service\n",
    "            if type(basepath) is str:\n",
    "                path = basepath + '/' + key.lstrip('/')\n",
    "            else:\n",
    "                path = key.lstrip('/')\n",
    "            if self.service.exists(path):\n",
    "                # create Dcel's internal _dir and add child\n",
    "                child = Dcel(address=path,\n",
    "                             service=self.service,\n",
    "                             writeable=self._writeable\n",
    "                            )\n",
    "                self._dir = dict()\n",
    "                self._dir[key] = child\n",
    "                # return the child\n",
    "                return child\n",
    "            else:\n",
    "                raise KeyError(key)\n",
    "        \n",
    "        try:\n",
    "            # return child if already cached\n",
    "            # in Dcel's internal _dir\n",
    "            return self._dir[key]\n",
    "        except KeyError:\n",
    "            # otherwise, add child to Dcel's _dir\n",
    "            # same code as further above.\n",
    "            basepath = self.address\n",
    "            if basepath == '/':\n",
    "                basepath = ''\n",
    "            if key == None:\n",
    "                path = basepath\n",
    "            else:\n",
    "                path = basepath + '/' + key.lstrip('/')\n",
    "            if self.service.exists(path):\n",
    "                # child\n",
    "                child = Dcel(address=path,\n",
    "                            service=self.service,\n",
    "                             writeable=self._writeable\n",
    "                            )\n",
    "                self._dir[key] = child\n",
    "                return child\n",
    "            else:\n",
    "                raise KeyError(key)\n",
    "        except TypeError:\n",
    "            raise TypeError(self._dir)\n",
    "            \n",
    "    def __setitem__(self,key,value):\n",
    "        if self._writeable == False:\n",
    "            raise Exception('not writeable')\n",
    "        self[key].value = value\n",
    "        \n",
    "    def __iter__(self):\n",
    "        \"\"\"Return an iterator derived from `self.value`.\n",
    "        \n",
    "        If self.value is a string, just return an iterator\n",
    "        of a list with that string as a single element.\n",
    "        \"\"\"\n",
    "        if (hasattr(self.value,'__iter__')\n",
    "            and self.value.__iter__ != None):\n",
    "            if type(self.value) != str:\n",
    "                return self.value.__iter__()\n",
    "            else:\n",
    "                return [self.value].__iter__()\n",
    "    \n",
    "        \n",
    "    def keys(self):\n",
    "        if hasattr(self,'service'):\n",
    "            return self.listdir('.')\n",
    "        if hasattr(self.value,'keys'):\n",
    "            return self.value.keys()\n",
    "        else:\n",
    "            return None\n",
    "            \n",
    "\n",
    "    \n",
    "    # Info helpers\n",
    "    \n",
    "    ## Absolute path.\n",
    "    #  Be _very_ careful modifying this.\n",
    "    #  Because there are potentially different object\n",
    "    #  types which can be used for the address,\n",
    "    #  _especially_ `slice` objects, we can't really modify\n",
    "    #  anything but 'pathlike' objects, which have\n",
    "    #  string representations.\n",
    "    def abspath(self, addr=None):\n",
    "        if hasattr(self,'address'):\n",
    "            _self_address = self.address\n",
    "        else:\n",
    "            _self_address = ''\n",
    "        if type(addr) is str:\n",
    "            if not addr in ['/','.','']:\n",
    "                if _self_address == '':\n",
    "                    return _self_address + '/' + addr.lstrip('/')\n",
    "                else:\n",
    "                    return addr\n",
    "            else:\n",
    "                if hasattr(self,'address'):\n",
    "                    return self.address\n",
    "                return addr\n",
    "        if addr != None:\n",
    "            return addr\n",
    "        else:\n",
    "            return _self_address\n",
    "    \n",
    "    @property\n",
    "    def hostname(self):\n",
    "        try:\n",
    "            return self.service.geturl('/')\n",
    "        except:\n",
    "            return DEFAULT_HOST\n",
    "    \n",
    "    def getinfo(self,\n",
    "                path=None,\n",
    "                namespaces=None\n",
    "               ):\n",
    "        path = self.abspath(path)\n",
    "        info = self.service.getinfo(path,namespaces)\n",
    "        # MUST allow pyfilesystem conformant subclasses\n",
    "        # to omit geturl().\n",
    "        try:\n",
    "            rooturl = self.service.__rooturl\n",
    "        except:\n",
    "            rooturl = None\n",
    "        if not type(rooturl) is str:\n",
    "            rooturl = None\n",
    "        if not rooturl is None:\n",
    "            hostinfo = { 'hosts': [rooturl] }\n",
    "            raw = mergeinfo(info.raw, hostinfo)\n",
    "        else:\n",
    "            raw = info.raw\n",
    "        return Info(raw)\n",
    "    \n",
    "    def listdir(self,path=None):\n",
    "        if hasattr(self, 'service'):\n",
    "            path = self.abspath(path)\n",
    "            return self.service.listdir(path)\n",
    "    \n",
    "    def isdir(self,path=None):\n",
    "        \n",
    "        if hasattr(self, 'service'):\n",
    "            _path = self.abspath(path)\n",
    "            return self.service.isdir(_path)\n",
    "        \n",
    "        _value = self.value\n",
    "        if (hasattr(_value,'__getitem__')\n",
    "            and not type(_value) is str):\n",
    "            try:\n",
    "                # Dcel will respond to __getitem__\n",
    "                # so we need to see if iter() works.\n",
    "                res = iter(_value)\n",
    "                return True\n",
    "            except:\n",
    "                return False\n",
    "        else:\n",
    "            return False\n",
    "\n",
    "    def openbin(self,\n",
    "            path=None,\n",
    "            mode='r',\n",
    "            buffering=-1,\n",
    "            **options):\n",
    "        # Open a binary file.\n",
    "        path = self.abspath(path)\n",
    "        if self._writeable == False:\n",
    "            mode='r'\n",
    "        return self.service.openbin(\n",
    "            path,\n",
    "            mode,\n",
    "            buffering)\n",
    "    \n",
    "    def readbytes(self, path=None):\n",
    "        path = self.abspath(path)\n",
    "        return self.service.readbytes(path)\n",
    "\n",
    "    def readtext(self, path=None):\n",
    "        path = self.abspath(path)\n",
    "        return self.service.readtext(path)\n",
    "    \n",
    "    def setinfo(self,path,info):\n",
    "        if self._writeable == False:\n",
    "            raise Exception('not writeable')\n",
    "        path = self.abspath(path)\n",
    "        return self.service.setinfo(path,info)\n",
    "\n",
    "    def makedir(self,*args,**kwargs):\n",
    "        if self._writeable == False:\n",
    "            raise Exception('not writeable')\n",
    "        return self.service.makedir(*args,**kwargs)\n",
    "        \n",
    "    def remove(self,*args,**kwargs):\n",
    "        if self._writeable == False:\n",
    "            raise Exception('not writeable')\n",
    "        self.service.remove(*args,**kwargs)\n",
    "        \n",
    "    def removedir(self,*args,**kwargs):\n",
    "        if self._writeable == False:\n",
    "            raise Exception('not writeable')\n",
    "        self.service.removedir(*args,**kwargs)\n",
    "        \n",
    "    def writetext(self, path=None, contents='', encoding='utf-8',\n",
    "                  errors=None, newline=''):\n",
    "        if self._writeable == False:\n",
    "            raise Exception('not writeable')\n",
    "        path = self.abspath(path)\n",
    "        self.service.writetext(path,contents,encoding,errors,newline)\n",
    "\n",
    "    ### Additional Methods\n",
    "    \n",
    "    def _pathwalk(self,path):\n",
    "        if path in ['/', '.', '', None]:\n",
    "            return self\n",
    "        try:\n",
    "            seg,nextpath = path.split('/',1)\n",
    "        except:\n",
    "            return self[path]\n",
    "        try:\n",
    "            if seg in ['/', '.', '']:\n",
    "                target = self\n",
    "            else:\n",
    "                target = self[seg]\n",
    "        except:\n",
    "            raise ResourceNotFound(seg)\n",
    "        try:\n",
    "            return target._pathwalk(nextpath)\n",
    "        except:\n",
    "            raise ResourceNotFound(nextpath)\n",
    "        \n",
    "    def path_lookup(self,path):\n",
    "        try:\n",
    "            return self._pathwalk(path)\n",
    "        except:\n",
    "            raise\n",
    "    \n",
    "    ### Custom Request Processing\n",
    "    \n",
    "    def processRequest(self,path,rq):\n",
    "        if hastattr(self.service,\"processRequest\"):\n",
    "            try:\n",
    "                response = self.service.processRequest(path,rq)\n",
    "            except Exception as e:\n",
    "                return {'Dcel::processRequest':{'service error':str(e)}}\n",
    "            return response\n",
    "    \n",
    "    def inspect(target):\n",
    "        if not target:\n",
    "            return \"Target was empty. Nothing to inspect.\"\n",
    "        if hasattr(target, \"address\"):\n",
    "            _address = target.address\n",
    "            _address_type = type(target.address)\n",
    "            _abspath = target.abspath(target.address)\n",
    "            _abspath_type = type(_abspath)\n",
    "        else:\n",
    "            _address = ''\n",
    "            _address_type = 'Address attribute not present.'\n",
    "            _abspath = target.abspath(None)\n",
    "            _abspath_type = 'Abspath calulated from `None`.'\n",
    "        if hasattr(target, \"service\"):\n",
    "            _service = target.service\n",
    "            _service_type = type(target.service)\n",
    "        else:\n",
    "            _service = ''\n",
    "            _service_type = 'Service attribute not present.'\n",
    "        # Note to self: `service_class` is an `__init__()` keword arg\n",
    "        # which resolves to the `.service` attribute during `__init__()`.\n",
    "        if hasattr(target,\"value\"):\n",
    "            _value = target.value\n",
    "            _value_type = type(target.value)\n",
    "        else:\n",
    "            _value = ''\n",
    "            _value_type = 'Value not present.'\n",
    "        if hasattr(target,\"_map\"):\n",
    "            _map = target._map\n",
    "            _map_type = type(target._map)\n",
    "        else:\n",
    "            _map = ''\n",
    "            _map_type = '_map not present.'\n",
    "        if hasattr(target,\"_dir\"):\n",
    "            _dir = target._dir\n",
    "            _dir_type = type(target._dir)\n",
    "        else:\n",
    "            _dir = ''\n",
    "            _dir_type = 'Dir not present.'\n",
    "\n",
    "        return f\"\"\"address: {_address_type}:{_address}\n",
    "        abspath: {_abspath_type}:{_abspath}\n",
    "        service: {_service_type}:{_service}\n",
    "        value: {_value_type}:{_value}\n",
    "        _map: {_map_type}:{_map}\n",
    "        _dir: {_dir_type}:{_dir}\n",
    "        \"\"\"\n"
   ]
  },
  {
   "cell_type": "code",
   "execution_count": 91,
   "metadata": {},
   "outputs": [
    {
     "data": {
      "text/plain": [
       "True"
      ]
     },
     "execution_count": 91,
     "metadata": {},
     "output_type": "execute_result"
    }
   ],
   "source": [
    "True if (True and True) else False"
   ]
  },
  {
   "cell_type": "code",
   "execution_count": 83,
   "metadata": {},
   "outputs": [],
   "source": [
    "# Dev Dcel_v2\n",
    "\n",
    "class Dcelv2():\n",
    "    def __init__(self, value_class, value, *args, **kwargs):\n",
    "        self.value = value_class(value, *args, **kwargs)\n",
    "        \n",
    "    def __str__(self):\n",
    "        return str(self.value)\n",
    "        "
   ]
  },
  {
   "cell_type": "code",
   "execution_count": 42,
   "metadata": {},
   "outputs": [],
   "source": [
    "d2 = Dcelv2(str,\"hello\")\n",
    "d2i = Dcelv2(int,1)"
   ]
  },
  {
   "cell_type": "code",
   "execution_count": 43,
   "metadata": {},
   "outputs": [
    {
     "name": "stdout",
     "output_type": "stream",
     "text": [
      "hello\n",
      "1\n"
     ]
    }
   ],
   "source": [
    "print(d2)\n",
    "print(d2i)"
   ]
  },
  {
   "cell_type": "code",
   "execution_count": 84,
   "metadata": {},
   "outputs": [],
   "source": [
    "# Test Dcel without a value\n",
    "noncel = Dcel()"
   ]
  },
  {
   "cell_type": "code",
   "execution_count": 87,
   "metadata": {},
   "outputs": [
    {
     "name": "stdout",
     "output_type": "stream",
     "text": [
      "address: Address attribute not present.:\n",
      "        abspath: Abspath calulated from `None`.:\n",
      "        service: Service attribute not present.:\n",
      "        value: <class 'NoneType'>:None\n",
      "        _map: <class 'NoneType'>:None\n",
      "        _dir: <class 'NoneType'>:None\n",
      "        \n"
     ]
    }
   ],
   "source": [
    "print(noncel.inspect())"
   ]
  },
  {
   "cell_type": "code",
   "execution_count": 88,
   "metadata": {},
   "outputs": [
    {
     "name": "stdout",
     "output_type": "stream",
     "text": [
      "None\n"
     ]
    }
   ],
   "source": [
    "print(noncel)"
   ]
  },
  {
   "cell_type": "code",
   "execution_count": 44,
   "metadata": {},
   "outputs": [],
   "source": [
    "# Test ValueSvc\n",
    "vcel = Dcel('hello')"
   ]
  },
  {
   "cell_type": "code",
   "execution_count": 45,
   "metadata": {},
   "outputs": [
    {
     "name": "stdout",
     "output_type": "stream",
     "text": [
      "address: <class 'str'>:.\n",
      "        abspath: <class 'str'>:.\n",
      "        service: <class 'ValueSvc.ValueSvc'>:<ValueSvc.ValueSvc object at 0x7f4ccdb583d0>\n",
      "        value: <class 'str'>:hello\n",
      "        _map: <class 'NoneType'>:None\n",
      "        _dir: <class 'NoneType'>:None\n",
      "        \n"
     ]
    }
   ],
   "source": [
    "print(vcel.inspect())"
   ]
  },
  {
   "cell_type": "code",
   "execution_count": 46,
   "metadata": {},
   "outputs": [
    {
     "name": "stdout",
     "output_type": "stream",
     "text": [
      "hello\n"
     ]
    }
   ],
   "source": [
    "print(vcel)"
   ]
  },
  {
   "cell_type": "code",
   "execution_count": 47,
   "metadata": {},
   "outputs": [],
   "source": [
    "# test open_fs\n",
    "from fs import open_fs"
   ]
  },
  {
   "cell_type": "code",
   "execution_count": 48,
   "metadata": {},
   "outputs": [],
   "source": [
    "fsd = Dcel('demo-files/fs',service_class=open_fs)"
   ]
  },
  {
   "cell_type": "code",
   "execution_count": 50,
   "metadata": {},
   "outputs": [
    {
     "name": "stdout",
     "output_type": "stream",
     "text": [
      "address: <class 'str'>:/\n",
      "        abspath: <class 'str'>:/\n",
      "        service: <class 'fs.osfs.OSFS'>:<osfs '/home/raygan/Cosms/Dboy/Laydbug/dev/cburnfs_py/cburnfs/demo-files/fs'>\n",
      "        value: <class 'NoneType'>:None\n",
      "        _map: <class 'NoneType'>:None\n",
      "        _dir: <class 'NoneType'>:None\n",
      "        \n"
     ]
    }
   ],
   "source": [
    "print(fsd.inspect())"
   ]
  },
  {
   "cell_type": "code",
   "execution_count": 55,
   "metadata": {},
   "outputs": [
    {
     "data": {
      "text/plain": [
       "['fruit', 'hello.txt', '@', 'test.txt']"
      ]
     },
     "execution_count": 55,
     "metadata": {},
     "output_type": "execute_result"
    }
   ],
   "source": [
    "fsd.listdir('/')"
   ]
  },
  {
   "cell_type": "code",
   "execution_count": 72,
   "metadata": {},
   "outputs": [
    {
     "name": "stdout",
     "output_type": "stream",
     "text": [
      "address: <class 'slice'>:slice(5, 8, None)\n",
      "        abspath: <class 'slice'>:slice(5, 8, None)\n",
      "        service: <class '__main__.Dcel'>:Some are red, some are green.\n",
      "        value: <class 'str'>:are\n",
      "        _map: <class 'NoneType'>:None\n",
      "        _dir: <class 'NoneType'>:None\n",
      "        \n"
     ]
    }
   ],
   "source": [
    "print(fsd['fruit']['apples.txt'][5:8].inspect())"
   ]
  },
  {
   "cell_type": "code",
   "execution_count": 7,
   "metadata": {},
   "outputs": [],
   "source": [
    "listdcel = Dcel(address=['a','b','c'])"
   ]
  },
  {
   "cell_type": "code",
   "execution_count": 16,
   "metadata": {},
   "outputs": [],
   "source": [
    "listclone = list(listdcel)"
   ]
  },
  {
   "cell_type": "code",
   "execution_count": 17,
   "metadata": {},
   "outputs": [
    {
     "name": "stdout",
     "output_type": "stream",
     "text": [
      "['a', 'b', 'c']\n"
     ]
    }
   ],
   "source": [
    "print(listclone)"
   ]
  },
  {
   "cell_type": "code",
   "execution_count": 2,
   "metadata": {},
   "outputs": [],
   "source": [
    "### Test: formula Dcel, execution of\n",
    "\n",
    "from ApathRootCosm import apathRootCosm"
   ]
  },
  {
   "cell_type": "code",
   "execution_count": 3,
   "metadata": {},
   "outputs": [],
   "source": [
    "fn = apathRootCosm['bin']['hello']\n",
    "fn_dcel = Dcel(formula=fn)"
   ]
  },
  {
   "cell_type": "code",
   "execution_count": 4,
   "metadata": {},
   "outputs": [
    {
     "name": "stdout",
     "output_type": "stream",
     "text": [
      "hello.\n",
      "hello there.\n",
      "hello there.\n"
     ]
    }
   ],
   "source": [
    "# This should print 'hello.' as a side-effect of the initial execution.\n",
    "# The return value of 'hello()' is 'hello there.'\n",
    "# The return value is cached.\n",
    "print(fn_dcel)\n",
    "\n",
    "# The subsequent stringification of fn_dcel uses the cached value.\n",
    "# There should not be any side-effect, as the function does not execute this time.\n",
    "print(fn_dcel)"
   ]
  },
  {
   "cell_type": "code",
   "execution_count": 5,
   "metadata": {},
   "outputs": [
    {
     "data": {
      "text/plain": [
       "False"
      ]
     },
     "execution_count": 5,
     "metadata": {},
     "output_type": "execute_result"
    }
   ],
   "source": [
    "# testing formulat cel with `isdir()`\n",
    "fn_dcel.isdir()"
   ]
  },
  {
   "cell_type": "code",
   "execution_count": 6,
   "metadata": {},
   "outputs": [],
   "source": [
    "fn_dcel.listdir()"
   ]
  },
  {
   "cell_type": "code",
   "execution_count": 7,
   "metadata": {},
   "outputs": [
    {
     "ename": "DirectoryExpected",
     "evalue": "path 'Formula cell has no directory.' should be a directory",
     "output_type": "error",
     "traceback": [
      "\u001b[0;31m---------------------------------------------------------------------------\u001b[0m",
      "\u001b[0;31mDirectoryExpected\u001b[0m                         Traceback (most recent call last)",
      "\u001b[0;32m/tmp/ipykernel_37081/2761568388.py\u001b[0m in \u001b[0;36m<module>\u001b[0;34m\u001b[0m\n\u001b[1;32m      1\u001b[0m \u001b[0;31m# testing formula cel with __getitem__()\u001b[0m\u001b[0;34m\u001b[0m\u001b[0;34m\u001b[0m\u001b[0m\n\u001b[1;32m      2\u001b[0m \u001b[0;34m\u001b[0m\u001b[0m\n\u001b[0;32m----> 3\u001b[0;31m \u001b[0mfn_dcel\u001b[0m\u001b[0;34m[\u001b[0m\u001b[0;34m'@'\u001b[0m\u001b[0;34m]\u001b[0m\u001b[0;34m.\u001b[0m\u001b[0mvalue\u001b[0m\u001b[0;34m\u001b[0m\u001b[0;34m\u001b[0m\u001b[0m\n\u001b[0m\u001b[1;32m      4\u001b[0m \u001b[0;34m\u001b[0m\u001b[0m\n\u001b[1;32m      5\u001b[0m \u001b[0;31m# Observation: __getitem__() executes the formula 2x.\u001b[0m\u001b[0;34m\u001b[0m\u001b[0;34m\u001b[0m\u001b[0m\n",
      "\u001b[0;32m/tmp/ipykernel_37081/4099608278.py\u001b[0m in \u001b[0;36m__getitem__\u001b[0;34m(self, key)\u001b[0m\n\u001b[1;32m    436\u001b[0m         \u001b[0;31m# function?\u001b[0m\u001b[0;34m\u001b[0m\u001b[0;34m\u001b[0m\u001b[0m\n\u001b[1;32m    437\u001b[0m         \u001b[0;32mif\u001b[0m \u001b[0mhasattr\u001b[0m\u001b[0;34m(\u001b[0m\u001b[0mself\u001b[0m\u001b[0;34m,\u001b[0m \u001b[0;34m'formula'\u001b[0m\u001b[0;34m)\u001b[0m\u001b[0;34m:\u001b[0m\u001b[0;34m\u001b[0m\u001b[0;34m\u001b[0m\u001b[0m\n\u001b[0;32m--> 438\u001b[0;31m             \u001b[0;32mraise\u001b[0m \u001b[0mDirectoryExpected\u001b[0m\u001b[0;34m(\u001b[0m\u001b[0;34m'Formula cell has no directory.'\u001b[0m\u001b[0;34m)\u001b[0m\u001b[0;34m\u001b[0m\u001b[0;34m\u001b[0m\u001b[0m\n\u001b[0m\u001b[1;32m    439\u001b[0m \u001b[0;34m\u001b[0m\u001b[0m\n\u001b[1;32m    440\u001b[0m         \u001b[0;31m# indexed or iterable?\u001b[0m\u001b[0;34m\u001b[0m\u001b[0;34m\u001b[0m\u001b[0m\n",
      "\u001b[0;31mDirectoryExpected\u001b[0m: path 'Formula cell has no directory.' should be a directory"
     ]
    }
   ],
   "source": [
    "# testing formula cel with __getitem__()\n",
    "\n",
    "fn_dcel['@'].value\n",
    "\n",
    "# Observation: __getitem__() executes the formula 2x."
   ]
  },
  {
   "cell_type": "code",
   "execution_count": 8,
   "metadata": {},
   "outputs": [
    {
     "name": "stdout",
     "output_type": "stream",
     "text": [
      "<class 'str'>\n",
      "False\n"
     ]
    }
   ],
   "source": [
    "# wrapping formula cel\n",
    "\n",
    "from DictFS import DictFS\n",
    "\n",
    "wrap_cel = Dcel(address=fn_dcel, service_class=DictFS)\n",
    "\n",
    "print(wrap_cel.isdir())\n",
    "# Observation: Even though the cell is double-up, `isdir()` only invokes one execution."
   ]
  },
  {
   "cell_type": "code",
   "execution_count": 9,
   "metadata": {},
   "outputs": [
    {
     "data": {
      "text/plain": [
       "__main__.Dcel"
      ]
     },
     "execution_count": 9,
     "metadata": {},
     "output_type": "execute_result"
    }
   ],
   "source": [
    "type(wrap_cel)"
   ]
  },
  {
   "cell_type": "code",
   "execution_count": null,
   "metadata": {},
   "outputs": [],
   "source": []
  },
  {
   "cell_type": "markdown",
   "metadata": {},
   "source": [
    "### Test: `__iter__()` preserves Dcel values of a single string."
   ]
  },
  {
   "cell_type": "code",
   "execution_count": 10,
   "metadata": {},
   "outputs": [
    {
     "name": "stdout",
     "output_type": "stream",
     "text": [
      "hello\n"
     ]
    }
   ],
   "source": [
    "str_dcel = Dcel(\"hello\")\n",
    "for each in str_dcel:\n",
    "    print(each)"
   ]
  },
  {
   "cell_type": "markdown",
   "metadata": {},
   "source": [
    "### SETUP: test paths"
   ]
  },
  {
   "cell_type": "code",
   "execution_count": 11,
   "metadata": {},
   "outputs": [],
   "source": [
    "testpaths = ['/','.','',None,'//3',slice(0,1,None)]"
   ]
  },
  {
   "cell_type": "markdown",
   "metadata": {},
   "source": [
    "### TEST: `abspath()` method"
   ]
  },
  {
   "cell_type": "code",
   "execution_count": 12,
   "metadata": {},
   "outputs": [],
   "source": [
    "from DictFS import DictFS\n",
    "d = Dcel({'1': 'one', '2': {'du': 'dos'}}, service_class=DictFS)"
   ]
  },
  {
   "cell_type": "code",
   "execution_count": 13,
   "metadata": {
    "scrolled": false
   },
   "outputs": [
    {
     "name": "stdout",
     "output_type": "stream",
     "text": [
      "/: /2/du\n",
      ".: /2/du\n",
      ": /2/du\n",
      "None: /2/du\n",
      "//3: //3\n",
      "slice(0, 1, None): slice(0, 1, None)\n"
     ]
    }
   ],
   "source": [
    "for each in testpaths:\n",
    "    print(f\"{each}: {d['2']['du'].abspath(each)}\")"
   ]
  },
  {
   "cell_type": "markdown",
   "metadata": {},
   "source": [
    "### TEST: `isdir()` method"
   ]
  },
  {
   "cell_type": "code",
   "execution_count": 14,
   "metadata": {},
   "outputs": [
    {
     "name": "stdout",
     "output_type": "stream",
     "text": [
      "1: False\n",
      "2: True\n",
      "/: True\n"
     ]
    }
   ],
   "source": [
    "for each in ['1','2','/']:\n",
    "    print(f\"{each}: {d[each].isdir()}\")"
   ]
  },
  {
   "cell_type": "markdown",
   "metadata": {},
   "source": [
    "### TEST: DictFS wrapped in Dcel"
   ]
  },
  {
   "cell_type": "code",
   "execution_count": 22,
   "metadata": {},
   "outputs": [],
   "source": [
    "from DictFS import DictFS"
   ]
  },
  {
   "cell_type": "code",
   "execution_count": 23,
   "metadata": {},
   "outputs": [],
   "source": [
    "dict_src = {'a':{'Aye':'A'}}\n",
    "dict_dcel = Dcel(dict_src)\n",
    "dictfs_dcel = Dcel(address=dict_dcel, service_class=DictFS)"
   ]
  },
  {
   "cell_type": "code",
   "execution_count": 24,
   "metadata": {},
   "outputs": [
    {
     "name": "stdout",
     "output_type": "stream",
     "text": [
      "<class '__main__.Dcel'>\n",
      "A\n"
     ]
    }
   ],
   "source": [
    "print(type(dict_dcel))\n",
    "print(dict_dcel['a']['Aye'])"
   ]
  },
  {
   "cell_type": "code",
   "execution_count": 25,
   "metadata": {},
   "outputs": [
    {
     "name": "stdout",
     "output_type": "stream",
     "text": [
      "A\n"
     ]
    }
   ],
   "source": [
    "print(dict_dcel['a']['Aye'])"
   ]
  },
  {
   "cell_type": "code",
   "execution_count": 26,
   "metadata": {},
   "outputs": [
    {
     "name": "stdout",
     "output_type": "stream",
     "text": [
      "{'Aye': 'A'}\n",
      "<class '__main__.Dcel'>\n",
      "A\n",
      "<class '__main__.Dcel'>\n"
     ]
    }
   ],
   "source": [
    "print(dict_dcel['a'])\n",
    "print(type(dict_dcel['a']))\n",
    "print(dict_dcel['a']['Aye'])\n",
    "print(type(dict_dcel['a']['Aye']))"
   ]
  },
  {
   "cell_type": "code",
   "execution_count": 27,
   "metadata": {},
   "outputs": [
    {
     "name": "stdout",
     "output_type": "stream",
     "text": [
      "Dcel::_pathwalk: path type <class 'str'>\n",
      "Dcel::_pathwalk: path type <class 'str'>\n",
      "Dcel::_pathwalk: path type <class 'str'>\n",
      "{'a': {'Aye': 'A'}}\n"
     ]
    }
   ],
   "source": [
    "print(dictfs_dcel)"
   ]
  },
  {
   "cell_type": "code",
   "execution_count": 28,
   "metadata": {},
   "outputs": [
    {
     "name": "stdout",
     "output_type": "stream",
     "text": [
      "Dcel::_pathwalk: path type <class 'str'>\n",
      "Dcel::_pathwalk: path type <class 'str'>\n",
      "Dcel::_pathwalk: path type <class 'str'>\n",
      "{'a': {'Aye': 'A'}}\n",
      "Dcel::_pathwalk: path type <class 'str'>\n",
      "Dcel::_pathwalk: path type <class 'str'>\n",
      "Dcel::_pathwalk: path type <class 'str'>\n",
      "Dcel::_pathwalk: path type <class 'str'>\n",
      "Dcel::_pathwalk: path type <class 'str'>\n",
      "Dcel::_pathwalk: path type <class 'str'>\n",
      "Dcel::_pathwalk: path type <class 'str'>\n",
      "{'Aye': 'A'}\n",
      "Dcel::_pathwalk: path type <class 'str'>\n",
      "<class '__main__.Dcel'>\n",
      "Dcel::_pathwalk: path type <class 'str'>\n",
      "Dcel::_pathwalk: path type <class 'str'>\n",
      "Dcel::_pathwalk: path type <class 'str'>\n",
      "Dcel::_pathwalk: path type <class 'str'>\n",
      "Dcel::_pathwalk: path type <class 'str'>\n",
      "Dcel::_pathwalk: path type <class 'str'>\n",
      "Dcel::_pathwalk: path type <class 'str'>\n",
      "Dcel::_pathwalk: path type <class 'str'>\n",
      "Dcel::_pathwalk: path type <class 'str'>\n",
      "Dcel::_pathwalk: path type <class 'str'>\n",
      "Dcel::_pathwalk: path type <class 'str'>\n",
      "Dcel::_pathwalk: path type <class 'str'>\n",
      "Dcel::_pathwalk: path type <class 'str'>\n",
      "address: <class 'str'>:/a\n",
      "        abspath: <class 'str'>:/a\n",
      "        service: <class 'DictFS.DictFS'>:<DictFS.DictFS object at 0x7fce1961fd30>\n",
      "        value: <class '__main__.Dcel'>:{'Aye': 'A'}\n",
      "        _map: <class 'NoneType'>:None\n",
      "        _dir: <class 'NoneType'>:None\n",
      "        \n",
      "Dcel::_pathwalk: path type <class 'str'>\n",
      "Dcel::_pathwalk: path type <class 'str'>\n",
      "Dcel::_pathwalk: path type <class 'str'>\n",
      "Dcel::_pathwalk: path type <class 'str'>\n",
      "Dcel::_pathwalk: path type <class 'str'>\n",
      "Dcel::_pathwalk: path type <class 'str'>\n",
      "Dcel::_pathwalk: path type <class 'str'>\n",
      "Dcel::_pathwalk: path type <class 'str'>\n",
      "Dcel::_pathwalk: path type <class 'str'>\n",
      "address: <class 'str'>:/\n",
      "        abspath: <class 'str'>:/\n",
      "        service: <class 'DictFS.DictFS'>:<DictFS.DictFS object at 0x7fce1961fd30>\n",
      "        value: <class '__main__.Dcel'>:{'a': {'Aye': 'A'}}\n",
      "        _map: <class 'NoneType'>:None\n",
      "        _dir: <class 'dict'>:{'a': <__main__.Dcel object at 0x7fce1961fee0>}\n",
      "        \n",
      "Dcel::_pathwalk: path type <class 'str'>\n",
      "Dcel::_pathwalk: path type <class 'str'>\n",
      "Dcel::_pathwalk: path type <class 'str'>\n",
      "Dcel::_pathwalk: path type <class 'str'>\n",
      "Dcel::_pathwalk: path type <class 'str'>\n",
      "Dcel::_pathwalk: path type <class 'str'>\n",
      "Dcel::_pathwalk: path type <class 'str'>\n",
      "Dcel::_pathwalk: path type <class 'str'>\n",
      "Dcel::_pathwalk: path type <class 'str'>\n",
      "Dcel::_pathwalk: path type <class 'str'>\n",
      "Dcel::_pathwalk: path type <class 'str'>\n",
      "address: <class 'str'>:/\n",
      "        abspath: <class 'str'>:/\n",
      "        service: <class 'DictFS.DictFS'>:<DictFS.DictFS object at 0x7fce1961fd30>\n",
      "        value: <class '__main__.Dcel'>:{'a': {'Aye': 'A'}}\n",
      "        _map: <class 'NoneType'>:None\n",
      "        _dir: <class 'NoneType'>:None\n",
      "        \n"
     ]
    }
   ],
   "source": [
    "print(dictfs_dcel)\n",
    "print(dictfs_dcel['a'])\n",
    "print(type(dictfs_dcel['a']))\n",
    "print(dictfs_dcel['a'].inspect())\n",
    "print(dictfs_dcel.inspect())\n",
    "print(dictfs_dcel['/'].inspect())\n"
   ]
  },
  {
   "cell_type": "markdown",
   "metadata": {},
   "source": [
    "### TEST: Dcel from fstab_hg parser"
   ]
  },
  {
   "cell_type": "code",
   "execution_count": 29,
   "metadata": {},
   "outputs": [],
   "source": [
    "from fstab_hg import fstab_hg\n",
    "from HienaMP import hiena_mp\n",
    "from fs import open_fs\n",
    "from DictFS import DictFS\n",
    "#from Dcel import Dcel"
   ]
  },
  {
   "cell_type": "code",
   "execution_count": null,
   "metadata": {},
   "outputs": [],
   "source": [
    "fs_dcel = Dcel('demo-files/fs',service_class=open_fs)"
   ]
  },
  {
   "cell_type": "code",
   "execution_count": 43,
   "metadata": {},
   "outputs": [
    {
     "name": "stdout",
     "output_type": "stream",
     "text": [
      "# # Cosm / Etc / FSTab\n",
      "\n",
      "# the .cosm/etc/fstab used by cburn is shared between hosts. The concept of \n"
     ]
    }
   ],
   "source": [
    "# Debug: preview first 100 bytes\n",
    "print(fs_dcel['@']['etc']['fstab'][0:100])"
   ]
  },
  {
   "cell_type": "code",
   "execution_count": 31,
   "metadata": {},
   "outputs": [],
   "source": [
    "fstab_live = Dcel(formula=hiena_mp,args=[fstab_hg,~(fs_dcel['@']['etc']['fstab'])])"
   ]
  },
  {
   "cell_type": "code",
   "execution_count": 45,
   "metadata": {},
   "outputs": [
    {
     "name": "stdout",
     "output_type": "stream",
     "text": [
      "address: Address attribute not present.:\n",
      "        abspath: Abspath calulated from `None`.:\n",
      "        service: Service attribute not present.:\n",
      "        value: <class 'NoneType'>:None\n",
      "        _map: <class 'NoneType'>:None\n",
      "        _dir: <class 'NoneType'>:None\n",
      "        \n"
     ]
    }
   ],
   "source": [
    "# Debug\n",
    "print(fstab_live.inspect())"
   ]
  },
  {
   "cell_type": "code",
   "execution_count": 32,
   "metadata": {},
   "outputs": [
    {
     "ename": "DirectoryExpected",
     "evalue": "path 'Formula cell has no directory.' should be a directory",
     "output_type": "error",
     "traceback": [
      "\u001b[0;31m---------------------------------------------------------------------------\u001b[0m",
      "\u001b[0;31mDirectoryExpected\u001b[0m                         Traceback (most recent call last)",
      "\u001b[0;32m/tmp/ipykernel_37081/2668648238.py\u001b[0m in \u001b[0;36m<module>\u001b[0;34m\u001b[0m\n\u001b[0;32m----> 1\u001b[0;31m \u001b[0mprint\u001b[0m\u001b[0;34m(\u001b[0m\u001b[0mfstab_live\u001b[0m\u001b[0;34m[\u001b[0m\u001b[0;34m'2'\u001b[0m\u001b[0;34m]\u001b[0m\u001b[0;34m[\u001b[0m\u001b[0;34m'file'\u001b[0m\u001b[0;34m]\u001b[0m\u001b[0;34m.\u001b[0m\u001b[0minspect\u001b[0m\u001b[0;34m(\u001b[0m\u001b[0;34m)\u001b[0m\u001b[0;34m)\u001b[0m\u001b[0;34m\u001b[0m\u001b[0;34m\u001b[0m\u001b[0m\n\u001b[0m",
      "\u001b[0;32m/tmp/ipykernel_37081/2776218334.py\u001b[0m in \u001b[0;36m__getitem__\u001b[0;34m(self, key)\u001b[0m\n\u001b[1;32m    436\u001b[0m         \u001b[0;31m# function?\u001b[0m\u001b[0;34m\u001b[0m\u001b[0;34m\u001b[0m\u001b[0m\n\u001b[1;32m    437\u001b[0m         \u001b[0;32mif\u001b[0m \u001b[0mhasattr\u001b[0m\u001b[0;34m(\u001b[0m\u001b[0mself\u001b[0m\u001b[0;34m,\u001b[0m \u001b[0;34m'formula'\u001b[0m\u001b[0;34m)\u001b[0m\u001b[0;34m:\u001b[0m\u001b[0;34m\u001b[0m\u001b[0;34m\u001b[0m\u001b[0m\n\u001b[0;32m--> 438\u001b[0;31m             \u001b[0;32mraise\u001b[0m \u001b[0mDirectoryExpected\u001b[0m\u001b[0;34m(\u001b[0m\u001b[0;34m'Formula cell has no directory.'\u001b[0m\u001b[0;34m)\u001b[0m\u001b[0;34m\u001b[0m\u001b[0;34m\u001b[0m\u001b[0m\n\u001b[0m\u001b[1;32m    439\u001b[0m \u001b[0;34m\u001b[0m\u001b[0m\n\u001b[1;32m    440\u001b[0m         \u001b[0;31m# indexed or iterable?\u001b[0m\u001b[0;34m\u001b[0m\u001b[0;34m\u001b[0m\u001b[0m\n",
      "\u001b[0;31mDirectoryExpected\u001b[0m: path 'Formula cell has no directory.' should be a directory"
     ]
    }
   ],
   "source": [
    "print(fstab_live['2']['file'].inspect())"
   ]
  },
  {
   "cell_type": "code",
   "execution_count": 38,
   "metadata": {},
   "outputs": [],
   "source": [
    "fstab_wrap = Dcel(address=fstab_live, service_class=DictFS)"
   ]
  },
  {
   "cell_type": "code",
   "execution_count": 39,
   "metadata": {},
   "outputs": [
    {
     "name": "stdout",
     "output_type": "stream",
     "text": [
      "Dcel::_pathwalk: path type <class 'str'>\n",
      "Dcel::_pathwalk: path type <class 'str'>\n",
      "Dcel::_pathwalk: path type <class 'str'>\n"
     ]
    },
    {
     "ename": "KeyError",
     "evalue": "'1'",
     "output_type": "error",
     "traceback": [
      "\u001b[0;31m---------------------------------------------------------------------------\u001b[0m",
      "\u001b[0;31mKeyError\u001b[0m                                  Traceback (most recent call last)",
      "\u001b[0;32m/tmp/ipykernel_37081/3892683387.py\u001b[0m in \u001b[0;36m<module>\u001b[0;34m\u001b[0m\n\u001b[0;32m----> 1\u001b[0;31m \u001b[0mprint\u001b[0m\u001b[0;34m(\u001b[0m\u001b[0mfstab_wrap\u001b[0m\u001b[0;34m[\u001b[0m\u001b[0;34m'1'\u001b[0m\u001b[0;34m]\u001b[0m\u001b[0;34m.\u001b[0m\u001b[0minspect\u001b[0m\u001b[0;34m(\u001b[0m\u001b[0;34m)\u001b[0m\u001b[0;34m)\u001b[0m\u001b[0;34m\u001b[0m\u001b[0;34m\u001b[0m\u001b[0m\n\u001b[0m",
      "\u001b[0;32m/tmp/ipykernel_37081/2776218334.py\u001b[0m in \u001b[0;36m__getitem__\u001b[0;34m(self, key)\u001b[0m\n\u001b[1;32m    473\u001b[0m                 \u001b[0;32mreturn\u001b[0m \u001b[0mchild\u001b[0m\u001b[0;34m\u001b[0m\u001b[0;34m\u001b[0m\u001b[0m\n\u001b[1;32m    474\u001b[0m             \u001b[0;32melse\u001b[0m\u001b[0;34m:\u001b[0m\u001b[0;34m\u001b[0m\u001b[0;34m\u001b[0m\u001b[0m\n\u001b[0;32m--> 475\u001b[0;31m                 \u001b[0;32mraise\u001b[0m \u001b[0mKeyError\u001b[0m\u001b[0;34m(\u001b[0m\u001b[0mkey\u001b[0m\u001b[0;34m)\u001b[0m\u001b[0;34m\u001b[0m\u001b[0;34m\u001b[0m\u001b[0m\n\u001b[0m\u001b[1;32m    476\u001b[0m \u001b[0;34m\u001b[0m\u001b[0m\n\u001b[1;32m    477\u001b[0m         \u001b[0;32mtry\u001b[0m\u001b[0;34m:\u001b[0m\u001b[0;34m\u001b[0m\u001b[0;34m\u001b[0m\u001b[0m\n",
      "\u001b[0;31mKeyError\u001b[0m: '1'"
     ]
    }
   ],
   "source": [
    "print(fstab_wrap['1'].inspect())"
   ]
  },
  {
   "cell_type": "code",
   "execution_count": 7,
   "metadata": {},
   "outputs": [
    {
     "name": "stdout",
     "output_type": "stream",
     "text": [
      "<class 'str'>\n",
      "<class 'str'>\n",
      "<class 'str'>\n"
     ]
    },
    {
     "ename": "KeyError",
     "evalue": "'1'",
     "output_type": "error",
     "traceback": [
      "\u001b[0;31m---------------------------------------------------------------------------\u001b[0m",
      "\u001b[0;31mKeyError\u001b[0m                                  Traceback (most recent call last)",
      "\u001b[0;32m/tmp/ipykernel_36492/3864315606.py\u001b[0m in \u001b[0;36m<module>\u001b[0;34m\u001b[0m\n\u001b[0;32m----> 1\u001b[0;31m \u001b[0mprint\u001b[0m\u001b[0;34m(\u001b[0m\u001b[0mfstab_wrap\u001b[0m\u001b[0;34m[\u001b[0m\u001b[0;34m'1'\u001b[0m\u001b[0;34m]\u001b[0m\u001b[0;34m[\u001b[0m\u001b[0;34m'file'\u001b[0m\u001b[0;34m]\u001b[0m\u001b[0;34m.\u001b[0m\u001b[0minspect\u001b[0m\u001b[0;34m(\u001b[0m\u001b[0;34m)\u001b[0m\u001b[0;34m)\u001b[0m\u001b[0;34m\u001b[0m\u001b[0;34m\u001b[0m\u001b[0m\n\u001b[0m",
      "\u001b[0;32m/tmp/ipykernel_36492/4099608278.py\u001b[0m in \u001b[0;36m__getitem__\u001b[0;34m(self, key)\u001b[0m\n\u001b[1;32m    473\u001b[0m                 \u001b[0;32mreturn\u001b[0m \u001b[0mchild\u001b[0m\u001b[0;34m\u001b[0m\u001b[0;34m\u001b[0m\u001b[0m\n\u001b[1;32m    474\u001b[0m             \u001b[0;32melse\u001b[0m\u001b[0;34m:\u001b[0m\u001b[0;34m\u001b[0m\u001b[0;34m\u001b[0m\u001b[0m\n\u001b[0;32m--> 475\u001b[0;31m                 \u001b[0;32mraise\u001b[0m \u001b[0mKeyError\u001b[0m\u001b[0;34m(\u001b[0m\u001b[0mkey\u001b[0m\u001b[0;34m)\u001b[0m\u001b[0;34m\u001b[0m\u001b[0;34m\u001b[0m\u001b[0m\n\u001b[0m\u001b[1;32m    476\u001b[0m \u001b[0;34m\u001b[0m\u001b[0m\n\u001b[1;32m    477\u001b[0m         \u001b[0;32mtry\u001b[0m\u001b[0;34m:\u001b[0m\u001b[0;34m\u001b[0m\u001b[0;34m\u001b[0m\u001b[0m\n",
      "\u001b[0;31mKeyError\u001b[0m: '1'"
     ]
    }
   ],
   "source": [
    "print(fstab_wrap['1']['file'].inspect())"
   ]
  },
  {
   "cell_type": "code",
   "execution_count": 57,
   "metadata": {},
   "outputs": [],
   "source": [
    "#### CLEANUP ####\n",
    "fs_dcel.close()"
   ]
  },
  {
   "cell_type": "markdown",
   "metadata": {},
   "source": [
    "### Tests: Dcel Address Types"
   ]
  },
  {
   "cell_type": "code",
   "execution_count": 113,
   "metadata": {},
   "outputs": [],
   "source": [
    "## Test: Address Types\n",
    "from DictFS import DictFS\n",
    "from fs import open_fs\n",
    "\n",
    "dtest_fs = Dcel('demo-files/fs', service_class=open_fs)\n",
    "dtest_file = dtest_fs['fruit']['apples.txt']\n",
    "dtest_file_slice = dtest_file[0:12]\n",
    "dtest_file_slice_slice = dtest_file_slice[9:12]\n",
    "dtest_string = Dcel(\"Hello, friend.\")\n",
    "dtest_string_slice = dtest_string[0:5]\n",
    "dtest_dict = Dcel({\"a\":{\"Aye\":\"A\"},\"b\":{\"Bee\":\"B\"}})\n",
    "\n",
    "dtest = {\n",
    "    'string': dtest_string,\n",
    "    'string_slice': dtest_string_slice,\n",
    "    'dict': Dcel({\"a\":\"Ayee\"}, service_class=DictFS),\n",
    "    'directory': dtest_fs,\n",
    "    'file_slice_slice': dtest_file_slice_slice,\n",
    "    'file_slice': dtest_file_slice,\n",
    "    'file': dtest_file,\n",
    "    'dict': dtest_dict,\n",
    "}"
   ]
  },
  {
   "cell_type": "code",
   "execution_count": 114,
   "metadata": {},
   "outputs": [],
   "source": [
    "## Restore values before modification\n",
    "dtest_file.value = \"Some are red, some are green.\"\n",
    "dtest_string_slice.value = \"Hello\""
   ]
  },
  {
   "cell_type": "code",
   "execution_count": 2,
   "metadata": {},
   "outputs": [
    {
     "ename": "NameError",
     "evalue": "name 'dtest' is not defined",
     "output_type": "error",
     "traceback": [
      "\u001b[0;31m---------------------------------------------------------------------------\u001b[0m",
      "\u001b[0;31mNameError\u001b[0m                                 Traceback (most recent call last)",
      "\u001b[0;32m/tmp/ipykernel_4368/2574416934.py\u001b[0m in \u001b[0;36m<module>\u001b[0;34m\u001b[0m\n\u001b[1;32m      3\u001b[0m \u001b[0;34m\u001b[0m\u001b[0m\n\u001b[1;32m      4\u001b[0m \u001b[0mres\u001b[0m \u001b[0;34m=\u001b[0m \u001b[0mdict\u001b[0m\u001b[0;34m(\u001b[0m\u001b[0;34m)\u001b[0m\u001b[0;34m\u001b[0m\u001b[0;34m\u001b[0m\u001b[0m\n\u001b[0;32m----> 5\u001b[0;31m \u001b[0;32mfor\u001b[0m \u001b[0meach\u001b[0m \u001b[0;32min\u001b[0m \u001b[0mdtest\u001b[0m\u001b[0;34m:\u001b[0m\u001b[0;34m\u001b[0m\u001b[0;34m\u001b[0m\u001b[0m\n\u001b[0m\u001b[1;32m      6\u001b[0m     \u001b[0mres\u001b[0m\u001b[0;34m[\u001b[0m\u001b[0meach\u001b[0m\u001b[0;34m]\u001b[0m \u001b[0;34m=\u001b[0m \u001b[0;34m{\u001b[0m \u001b[0;34m\"before\"\u001b[0m\u001b[0;34m:\u001b[0m \u001b[0mdinspect\u001b[0m\u001b[0;34m(\u001b[0m\u001b[0mdtest\u001b[0m\u001b[0;34m[\u001b[0m\u001b[0meach\u001b[0m\u001b[0;34m]\u001b[0m\u001b[0;34m)\u001b[0m \u001b[0;34m}\u001b[0m\u001b[0;34m\u001b[0m\u001b[0;34m\u001b[0m\u001b[0m\n\u001b[1;32m      7\u001b[0m \u001b[0;34m\u001b[0m\u001b[0m\n",
      "\u001b[0;31mNameError\u001b[0m: name 'dtest' is not defined"
     ]
    }
   ],
   "source": [
    "# Test: Inspect Dcel Types\n",
    "import json\n",
    "\n",
    "res = dict()\n",
    "for each in dtest:\n",
    "    res[each] = { \"before\": dinspect(dtest[each]) }\n",
    "    \n",
    "# Modify the slices so we can see how they modify\n",
    "# their precursor Dcel's.\n",
    "\n",
    "dtest_string_slice.value = \"Konichiwa\"\n",
    "dtest_file_slice_slice.value = \"rouge\"\n",
    "\n",
    "for each in dtest:\n",
    "    res[each]['after'] = dinspect(dtest[each])\n",
    "    \n",
    "for each in res:\n",
    "    print(each)\n",
    "    print(\"--inspect\")\n",
    "    print(res[each]['before'])\n",
    "    print(\"--modify\")\n",
    "    print(res[each]['after'])\n",
    "    \n",
    "## Restore values before modification\n",
    "dtest_file.value = \"Some are red, some are green.\"\n",
    "dtest_string_slice.value = \"Hello\"\n"
   ]
  },
  {
   "cell_type": "markdown",
   "metadata": {},
   "source": [
    "# Tests: Other"
   ]
  },
  {
   "cell_type": "code",
   "execution_count": 51,
   "metadata": {},
   "outputs": [
    {
     "name": "stdout",
     "output_type": "stream",
     "text": [
      "{'basic': {'name': 'fruit', 'is_dir': True}, 'details': {'_write': ['accessed', 'modified'], 'accessed': 1703334794.5909467, 'modified': 1689681041.4229329, 'size': 4096, 'type': 1, 'created': None, 'metadata_changed': 1689681041.4229329}, 'hosts': ['file://fs/fs']}\n"
     ]
    }
   ],
   "source": [
    "## Test `getinfo()`\n",
    "from fs import open_fs\n",
    "a = Dcel('file://fs/fs', service_class=open_fs, writeable=False)\n",
    "b = a['fruit']\n",
    "print(b.getinfo(namespaces=['details']).raw)"
   ]
  },
  {
   "cell_type": "code",
   "execution_count": 46,
   "metadata": {},
   "outputs": [
    {
     "name": "stdout",
     "output_type": "stream",
     "text": [
      "{'basic': {'name': '', 'is_dir': True}, 'hosts': ['file://fs/fs']}\n"
     ]
    }
   ],
   "source": [
    "c = a[None]\n",
    "print(c.getinfo().raw)"
   ]
  },
  {
   "cell_type": "code",
   "execution_count": 16,
   "metadata": {},
   "outputs": [
    {
     "name": "stdout",
     "output_type": "stream",
     "text": [
      "Exception: not writeable\n"
     ]
    }
   ],
   "source": [
    "## Test 'writeable == False'\n",
    "h = Dcel('hello', writeable=False)\n",
    "try:\n",
    "    h.value = 'konichiwa'\n",
    "except Exception as e:\n",
    "    print(f'Exception: {e}')"
   ]
  },
  {
   "cell_type": "code",
   "execution_count": 5,
   "metadata": {},
   "outputs": [
    {
     "name": "stdout",
     "output_type": "stream",
     "text": [
      "False\n",
      "hello\n",
      "konichiwa\n",
      "hello\n"
     ]
    }
   ],
   "source": [
    "## Test Dcel from Dcel\n",
    "hi = Dcel(h, writeable=True)\n",
    "print(hi == h)\n",
    "print(hi)\n",
    "hi.value = 'konichiwa'\n",
    "print(hi)\n",
    "print(h)"
   ]
  },
  {
   "cell_type": "code",
   "execution_count": 6,
   "metadata": {},
   "outputs": [],
   "source": [
    "## Test subdirectory lookup returns unique Dcel\n",
    "from fs import open_fs\n",
    "a = Dcel(address='fs/fs', service_class=open_fs, writeable=False)\n",
    "assert(a != a['fruit'])"
   ]
  },
  {
   "cell_type": "code",
   "execution_count": 7,
   "metadata": {},
   "outputs": [],
   "source": [
    "assert(a['fruit'] == a['fruit'])"
   ]
  },
  {
   "cell_type": "code",
   "execution_count": 8,
   "metadata": {},
   "outputs": [
    {
     "data": {
      "text/plain": [
       "True"
      ]
     },
     "execution_count": 8,
     "metadata": {},
     "output_type": "execute_result"
    }
   ],
   "source": [
    "b = Dcel(a['fruit'], writeable=False)\n",
    "a['fruit'] == b"
   ]
  },
  {
   "cell_type": "code",
   "execution_count": 9,
   "metadata": {},
   "outputs": [
    {
     "data": {
      "text/plain": [
       "False"
      ]
     },
     "execution_count": 9,
     "metadata": {},
     "output_type": "execute_result"
    }
   ],
   "source": [
    "a['fruit']._writeable"
   ]
  },
  {
   "cell_type": "code",
   "execution_count": 10,
   "metadata": {},
   "outputs": [
    {
     "data": {
      "text/plain": [
       "False"
      ]
     },
     "execution_count": 10,
     "metadata": {},
     "output_type": "execute_result"
    }
   ],
   "source": [
    "b._writeable"
   ]
  },
  {
   "cell_type": "code",
   "execution_count": 11,
   "metadata": {},
   "outputs": [
    {
     "data": {
      "text/plain": [
       "['cherries.html.txt', 'apples.txt']"
      ]
     },
     "execution_count": 11,
     "metadata": {},
     "output_type": "execute_result"
    }
   ],
   "source": [
    "b.listdir()"
   ]
  },
  {
   "cell_type": "code",
   "execution_count": 12,
   "metadata": {},
   "outputs": [
    {
     "data": {
      "text/plain": [
       "False"
      ]
     },
     "execution_count": 12,
     "metadata": {},
     "output_type": "execute_result"
    }
   ],
   "source": [
    "b['cherries.html.txt']._writeable"
   ]
  },
  {
   "cell_type": "code",
   "execution_count": 13,
   "metadata": {},
   "outputs": [
    {
     "data": {
      "text/plain": [
       "False"
      ]
     },
     "execution_count": 13,
     "metadata": {},
     "output_type": "execute_result"
    }
   ],
   "source": [
    "a['fruit']['cherries.html.txt']._writeable"
   ]
  },
  {
   "cell_type": "code",
   "execution_count": 14,
   "metadata": {},
   "outputs": [
    {
     "data": {
      "text/plain": [
       "True"
      ]
     },
     "execution_count": 14,
     "metadata": {},
     "output_type": "execute_result"
    }
   ],
   "source": [
    "b['cherries.html.txt'] == a['fruit']['cherries.html.txt']"
   ]
  },
  {
   "cell_type": "code",
   "execution_count": 11,
   "metadata": {},
   "outputs": [
    {
     "name": "stdout",
     "output_type": "stream",
     "text": [
      "KeyError: 'boric_acid'\n"
     ]
    }
   ],
   "source": [
    "## Test failed lookup\n",
    "try:\n",
    "    a['boric_acid']\n",
    "except KeyError as e:\n",
    "    print(f'KeyError: {e}')"
   ]
  },
  {
   "cell_type": "code",
   "execution_count": 12,
   "metadata": {},
   "outputs": [
    {
     "data": {
      "text/plain": [
       "['color']"
      ]
     },
     "execution_count": 12,
     "metadata": {},
     "output_type": "execute_result"
    }
   ],
   "source": [
    "d = { 'color': 'red' }\n",
    "[ea for ea in d]"
   ]
  },
  {
   "cell_type": "code",
   "execution_count": 48,
   "metadata": {},
   "outputs": [
    {
     "name": "stdout",
     "output_type": "stream",
     "text": [
      "Help on built-in function __getitem__:\n",
      "\n",
      "__getitem__(...) method of builtins.list instance\n",
      "    x.__getitem__(y) <==> x[y]\n",
      "\n"
     ]
    }
   ],
   "source": [
    "help(list().__getitem__)"
   ]
  },
  {
   "cell_type": "code",
   "execution_count": 56,
   "metadata": {},
   "outputs": [
    {
     "data": {
      "text/plain": [
       "['color']"
      ]
     },
     "execution_count": 56,
     "metadata": {},
     "output_type": "execute_result"
    }
   ],
   "source": [
    "[ea for ea in d.keys()]"
   ]
  },
  {
   "cell_type": "code",
   "execution_count": 63,
   "metadata": {},
   "outputs": [
    {
     "ename": "TypeError",
     "evalue": "can only concatenate str (not \"int\") to str",
     "output_type": "error",
     "traceback": [
      "\u001b[0;31m---------------------------------------------------------------------------\u001b[0m",
      "\u001b[0;31mKeyError\u001b[0m                                  Traceback (most recent call last)",
      "Input \u001b[0;32mIn [57]\u001b[0m, in \u001b[0;36mDcel.__getitem__\u001b[0;34m(self, key)\u001b[0m\n\u001b[1;32m    404\u001b[0m \u001b[38;5;28;01mtry\u001b[39;00m:\n\u001b[1;32m    405\u001b[0m     \u001b[38;5;66;03m# return child if already cached\u001b[39;00m\n\u001b[1;32m    406\u001b[0m     \u001b[38;5;66;03m# in Dcel's internal _dir\u001b[39;00m\n\u001b[0;32m--> 407\u001b[0m     \u001b[38;5;28;01mreturn\u001b[39;00m \u001b[38;5;28;43mself\u001b[39;49m\u001b[38;5;241;43m.\u001b[39;49m\u001b[43m_dir\u001b[49m\u001b[43m[\u001b[49m\u001b[43mkey\u001b[49m\u001b[43m]\u001b[49m\n\u001b[1;32m    408\u001b[0m \u001b[38;5;28;01mexcept\u001b[39;00m \u001b[38;5;167;01mKeyError\u001b[39;00m:\n\u001b[1;32m    409\u001b[0m     \u001b[38;5;66;03m# otherwise, add child to Dcel's _dir\u001b[39;00m\n\u001b[1;32m    410\u001b[0m     \u001b[38;5;66;03m# same code as further above.\u001b[39;00m\n",
      "\u001b[0;31mKeyError\u001b[0m: 0",
      "\nDuring handling of the above exception, another exception occurred:\n",
      "\u001b[0;31mTypeError\u001b[0m                                 Traceback (most recent call last)",
      "Input \u001b[0;32mIn [63]\u001b[0m, in \u001b[0;36m<cell line: 2>\u001b[0;34m()\u001b[0m\n\u001b[1;32m      1\u001b[0m \u001b[38;5;66;03m## Testing list 'in' operator\u001b[39;00m\n\u001b[0;32m----> 2\u001b[0m [ ea \u001b[38;5;28;01mfor\u001b[39;00m ea \u001b[38;5;129;01min\u001b[39;00m a ]\n",
      "Input \u001b[0;32mIn [63]\u001b[0m, in \u001b[0;36m<listcomp>\u001b[0;34m(.0)\u001b[0m\n\u001b[1;32m      1\u001b[0m \u001b[38;5;66;03m## Testing list 'in' operator\u001b[39;00m\n\u001b[0;32m----> 2\u001b[0m [ ea \u001b[38;5;28;01mfor\u001b[39;00m ea \u001b[38;5;129;01min\u001b[39;00m a ]\n",
      "Input \u001b[0;32mIn [57]\u001b[0m, in \u001b[0;36mDcel.__getitem__\u001b[0;34m(self, key)\u001b[0m\n\u001b[1;32m    412\u001b[0m \u001b[38;5;28;01mif\u001b[39;00m basepath \u001b[38;5;241m==\u001b[39m \u001b[38;5;124m'\u001b[39m\u001b[38;5;124m/\u001b[39m\u001b[38;5;124m'\u001b[39m:\n\u001b[1;32m    413\u001b[0m     basepath \u001b[38;5;241m=\u001b[39m \u001b[38;5;124m'\u001b[39m\u001b[38;5;124m'\u001b[39m\n\u001b[0;32m--> 414\u001b[0m path \u001b[38;5;241m=\u001b[39m \u001b[43mbasepath\u001b[49m\u001b[43m \u001b[49m\u001b[38;5;241;43m+\u001b[39;49m\u001b[43m \u001b[49m\u001b[38;5;124;43m'\u001b[39;49m\u001b[38;5;124;43m/\u001b[39;49m\u001b[38;5;124;43m'\u001b[39;49m\u001b[43m \u001b[49m\u001b[38;5;241;43m+\u001b[39;49m\u001b[43m \u001b[49m\u001b[43mkey\u001b[49m\n\u001b[1;32m    415\u001b[0m \u001b[38;5;28;01mif\u001b[39;00m \u001b[38;5;28mself\u001b[39m\u001b[38;5;241m.\u001b[39mservice\u001b[38;5;241m.\u001b[39mexists(path):\n\u001b[1;32m    416\u001b[0m     \u001b[38;5;66;03m# child\u001b[39;00m\n\u001b[1;32m    417\u001b[0m     child \u001b[38;5;241m=\u001b[39m Dcel(address\u001b[38;5;241m=\u001b[39mpath,\n\u001b[1;32m    418\u001b[0m                 service\u001b[38;5;241m=\u001b[39m\u001b[38;5;28mself\u001b[39m\u001b[38;5;241m.\u001b[39mservice)\n",
      "\u001b[0;31mTypeError\u001b[0m: can only concatenate str (not \"int\") to str"
     ]
    }
   ],
   "source": [
    "## Testing list 'in' operator\n",
    "[ ea for ea in a ]\n",
    "\n",
    "# RESULTS in TypeError\n",
    "#   trying to use an 'int' where the __getitem__() method wants a key"
   ]
  },
  {
   "cell_type": "code",
   "execution_count": 64,
   "metadata": {},
   "outputs": [
    {
     "data": {
      "text/plain": [
       "['test', '.cosm', 'fruit', 'tmp_updateMultiValue.txt', 'numbers', 'boats', '@']"
      ]
     },
     "execution_count": 64,
     "metadata": {},
     "output_type": "execute_result"
    }
   ],
   "source": [
    "a.keys()"
   ]
  },
  {
   "cell_type": "code",
   "execution_count": 6,
   "metadata": {},
   "outputs": [
    {
     "name": "stdout",
     "output_type": "stream",
     "text": [
      "False\n",
      "False\n",
      "True\n",
      "<bound method Registry.open_fs of <fs-registry ['userdata', 'userconf', 'sitedata', 'siteconf', 'usercache', 'userlog', 'ftp', 'ftps', 'mem', 'file', 'osfs', 'tar', 'temp', 'zip', 'sftp', 'ssh', 's3']>>\n"
     ]
    }
   ],
   "source": [
    "from fs import open_fs\n",
    "from inspect import isclass, isfunction, ismethod\n",
    "\n",
    "print(isclass(open_fs))\n",
    "print(isfunction(open_fs))\n",
    "print(ismethod(open_fs))\n",
    "\n",
    "print(open_fs)"
   ]
  },
  {
   "cell_type": "code",
   "execution_count": 11,
   "metadata": {},
   "outputs": [
    {
     "ename": "TypeError",
     "evalue": "__init__() got an unexpected keyword argument 'writeable'",
     "output_type": "error",
     "traceback": [
      "\u001b[0;31m---------------------------------------------------------------------------\u001b[0m",
      "\u001b[0;31mTypeError\u001b[0m                                 Traceback (most recent call last)",
      "Input \u001b[0;32mIn [11]\u001b[0m, in \u001b[0;36m<cell line: 2>\u001b[0;34m()\u001b[0m\n\u001b[1;32m      1\u001b[0m \u001b[38;5;66;03m## TEST: subscript interface\u001b[39;00m\n\u001b[0;32m----> 2\u001b[0m a \u001b[38;5;241m=\u001b[39m \u001b[43mDcel\u001b[49m\u001b[43m(\u001b[49m\u001b[43maddress\u001b[49m\u001b[38;5;241;43m=\u001b[39;49m\u001b[38;5;124;43m'\u001b[39;49m\u001b[38;5;124;43m.\u001b[39;49m\u001b[38;5;124;43m'\u001b[39;49m\u001b[43m,\u001b[49m\u001b[43mservice_class\u001b[49m\u001b[38;5;241;43m=\u001b[39;49m\u001b[43mopen_fs\u001b[49m\u001b[43m,\u001b[49m\u001b[43m \u001b[49m\u001b[43mwriteable\u001b[49m\u001b[38;5;241;43m=\u001b[39;49m\u001b[38;5;28;43;01mFalse\u001b[39;49;00m\u001b[43m)\u001b[49m\n\u001b[1;32m      3\u001b[0m \u001b[38;5;28mprint\u001b[39m(a[\u001b[38;5;124m'\u001b[39m\u001b[38;5;124mfs/fs/fruit/apples.txt\u001b[39m\u001b[38;5;124m'\u001b[39m])\n",
      "\u001b[0;31mTypeError\u001b[0m: __init__() got an unexpected keyword argument 'writeable'"
     ]
    }
   ],
   "source": [
    "## TEST: subscript interface\n",
    "a = Dcel(address='.',service_class=open_fs, writeable=False)\n",
    "print(a['fs/fs/fruit/apples.txt'])"
   ]
  },
  {
   "cell_type": "code",
   "execution_count": 8,
   "metadata": {},
   "outputs": [],
   "source": [
    "from fs.subfs import SubFS"
   ]
  },
  {
   "cell_type": "code",
   "execution_count": 9,
   "metadata": {},
   "outputs": [
    {
     "name": "stdout",
     "output_type": "stream",
     "text": [
      "Help on class SubFS in module fs.subfs:\n",
      "\n",
      "class SubFS(fs.wrapfs.WrapFS, typing.Generic)\n",
      " |  SubFS(parent_fs, path)\n",
      " |  \n",
      " |  A sub-directory on a parent filesystem.\n",
      " |  \n",
      " |  A SubFS is a filesystem object that maps to a sub-directory of\n",
      " |  another filesystem. This is the object that is returned by\n",
      " |  `~fs.base.FS.opendir`.\n",
      " |  \n",
      " |  Method resolution order:\n",
      " |      SubFS\n",
      " |      fs.wrapfs.WrapFS\n",
      " |      fs.base.FS\n",
      " |      typing.Generic\n",
      " |      builtins.object\n",
      " |  \n",
      " |  Methods defined here:\n",
      " |  \n",
      " |  __init__(self, parent_fs, path)\n",
      " |      Create a filesystem. See help(type(self)) for accurate signature.\n",
      " |  \n",
      " |  __repr__(self)\n",
      " |      Return repr(self).\n",
      " |  \n",
      " |  __str__(self)\n",
      " |      Return str(self).\n",
      " |  \n",
      " |  delegate_fs(self)\n",
      " |      Get the proxied filesystem.\n",
      " |      \n",
      " |      This method should return a filesystem for methods not\n",
      " |      associated with a path, e.g. `~fs.base.FS.getmeta`.\n",
      " |  \n",
      " |  delegate_path(self, path)\n",
      " |      Encode a path for proxied filesystem.\n",
      " |      \n",
      " |      Arguments:\n",
      " |          path (str): A path on the filesystem.\n",
      " |      \n",
      " |      Returns:\n",
      " |          (FS, str): a tuple of ``(<filesystem>, <new_path>)``\n",
      " |  \n",
      " |  ----------------------------------------------------------------------\n",
      " |  Data and other attributes defined here:\n",
      " |  \n",
      " |  __abstractmethods__ = frozenset()\n",
      " |  \n",
      " |  __orig_bases__ = (fs.wrapfs.WrapFS[+_F], typing.Generic[+_F])\n",
      " |  \n",
      " |  __parameters__ = (+_F,)\n",
      " |  \n",
      " |  ----------------------------------------------------------------------\n",
      " |  Methods inherited from fs.wrapfs.WrapFS:\n",
      " |  \n",
      " |  appendbytes(self, path, data)\n",
      " |      Append bytes to the end of a file, creating it if needed.\n",
      " |      \n",
      " |      Arguments:\n",
      " |          path (str): Path to a file.\n",
      " |          data (bytes): Bytes to append.\n",
      " |      \n",
      " |      Raises:\n",
      " |          TypeError: If ``data`` is not a `bytes` instance.\n",
      " |          fs.errors.ResourceNotFound: If a parent directory of\n",
      " |              ``path`` does not exist.\n",
      " |  \n",
      " |  appendtext(self, path, text, encoding='utf-8', errors=None, newline='')\n",
      " |      Append text to the end of a file, creating it if needed.\n",
      " |      \n",
      " |      Arguments:\n",
      " |          path (str): Path to a file.\n",
      " |          text (str): Text to append.\n",
      " |          encoding (str): Encoding for text files (defaults to ``utf-8``).\n",
      " |          errors (str, optional): What to do with unicode decode errors\n",
      " |              (see `codecs` module for more information).\n",
      " |          newline (str): Newline parameter.\n",
      " |      \n",
      " |      Raises:\n",
      " |          TypeError: if ``text`` is not an unicode string.\n",
      " |          fs.errors.ResourceNotFound: if a parent directory of\n",
      " |              ``path`` does not exist.\n",
      " |  \n",
      " |  copy(self, src_path, dst_path, overwrite=False, preserve_time=False)\n",
      " |      Copy file contents from ``src_path`` to ``dst_path``.\n",
      " |      \n",
      " |      Arguments:\n",
      " |          src_path (str): Path of source file.\n",
      " |          dst_path (str): Path to destination file.\n",
      " |          overwrite (bool): If `True`, overwrite the destination file\n",
      " |              if it exists (defaults to `False`).\n",
      " |          preserve_time (bool): If `True`, try to preserve mtime of the\n",
      " |              resource (defaults to `False`).\n",
      " |      \n",
      " |      Raises:\n",
      " |          fs.errors.DestinationExists: If ``dst_path`` exists,\n",
      " |              and ``overwrite`` is `False`.\n",
      " |          fs.errors.ResourceNotFound: If a parent directory of\n",
      " |              ``dst_path`` does not exist.\n",
      " |          fs.errors.FileExpected: If ``src_path`` is not a file.\n",
      " |  \n",
      " |  copydir(self, src_path, dst_path, create=False, preserve_time=False)\n",
      " |      Copy the contents of ``src_path`` to ``dst_path``.\n",
      " |      \n",
      " |      Arguments:\n",
      " |          src_path (str): Path of source directory.\n",
      " |          dst_path (str): Path to destination directory.\n",
      " |          create (bool): If `True`, then ``dst_path`` will be created\n",
      " |              if it doesn't exist already (defaults to `False`).\n",
      " |          preserve_time (bool): If `True`, try to preserve mtime of the\n",
      " |              resource (defaults to `False`).\n",
      " |      \n",
      " |      Raises:\n",
      " |          fs.errors.ResourceNotFound: If the ``dst_path``\n",
      " |              does not exist, and ``create`` is not `True`.\n",
      " |          fs.errors.DirectoryExpected: If ``src_path`` is not a\n",
      " |              directory.\n",
      " |  \n",
      " |  create(self, path, wipe=False)\n",
      " |      Create an empty file.\n",
      " |      \n",
      " |      The default behavior is to create a new file if one doesn't\n",
      " |      already exist. If ``wipe`` is `True`, any existing file will\n",
      " |      be truncated.\n",
      " |      \n",
      " |      Arguments:\n",
      " |          path (str): Path to a new file in the filesystem.\n",
      " |          wipe (bool): If `True`, truncate any existing\n",
      " |              file to 0 bytes (defaults to `False`).\n",
      " |      \n",
      " |      Returns:\n",
      " |          bool: `True` if a new file had to be created.\n",
      " |  \n",
      " |  desc(self, path)\n",
      " |      Return a short descriptive text regarding a path.\n",
      " |      \n",
      " |      Arguments:\n",
      " |          path (str): A path to a resource on the filesystem.\n",
      " |      \n",
      " |      Returns:\n",
      " |          str: a short description of the path.\n",
      " |      \n",
      " |      Raises:\n",
      " |          fs.errors.ResourceNotFound: If ``path`` does not exist.\n",
      " |  \n",
      " |  download(self, path, file, chunk_size=None, **options)\n",
      " |      Copy a file from the filesystem to a file-like object.\n",
      " |      \n",
      " |      This may be more efficient that opening and copying files\n",
      " |      manually if the filesystem supplies an optimized method.\n",
      " |      \n",
      " |      Note that the file object ``file`` will *not* be closed by this\n",
      " |      method. Take care to close it after this method completes\n",
      " |      (ideally with a context manager).\n",
      " |      \n",
      " |      Arguments:\n",
      " |          path (str): Path to a resource.\n",
      " |          file (file-like): A file-like object open for writing in\n",
      " |              binary mode.\n",
      " |          chunk_size (int, optional): Number of bytes to read at a\n",
      " |              time, if a simple copy is used, or `None` to use\n",
      " |              sensible default.\n",
      " |          **options: Implementation specific options required to open\n",
      " |              the source file.\n",
      " |      \n",
      " |      Example:\n",
      " |          >>> with open('starwars.mov', 'wb') as write_file:\n",
      " |          ...     my_fs.download('/Videos/starwars.mov', write_file)\n",
      " |      \n",
      " |      Raises:\n",
      " |          fs.errors.ResourceNotFound: if ``path`` does not exist.\n",
      " |  \n",
      " |  exists(self, path)\n",
      " |      Check if a path maps to a resource.\n",
      " |      \n",
      " |      Arguments:\n",
      " |          path (str): Path to a resource.\n",
      " |      \n",
      " |      Returns:\n",
      " |          bool: `True` if a resource exists at the given path.\n",
      " |  \n",
      " |  filterdir(self, path, files=None, dirs=None, exclude_dirs=None, exclude_files=None, namespaces=None, page=None)\n",
      " |      Get an iterator of resource info, filtered by patterns.\n",
      " |      \n",
      " |      This method enhances `~fs.base.FS.scandir` with additional\n",
      " |      filtering functionality.\n",
      " |      \n",
      " |      Arguments:\n",
      " |          path (str): A path to a directory on the filesystem.\n",
      " |          files (list, optional): A list of UNIX shell-style patterns\n",
      " |              to filter file names, e.g. ``['*.py']``.\n",
      " |          dirs (list, optional): A list of UNIX shell-style patterns\n",
      " |              to filter directory names.\n",
      " |          exclude_dirs (list, optional): A list of patterns used\n",
      " |              to exclude directories.\n",
      " |          exclude_files (list, optional): A list of patterns used\n",
      " |              to exclude files.\n",
      " |          namespaces (list, optional): A list of namespaces to include\n",
      " |              in the resource information, e.g. ``['basic', 'access']``.\n",
      " |          page (tuple, optional): May be a tuple of ``(<start>, <end>)``\n",
      " |              indexes to return an iterator of a subset of the resource\n",
      " |              info, or `None` to iterate over the entire directory.\n",
      " |              Paging a directory scan may be necessary for very large\n",
      " |              directories.\n",
      " |      \n",
      " |      Returns:\n",
      " |          ~collections.abc.Iterator: an iterator of `Info` objects.\n",
      " |  \n",
      " |  getinfo(self, path, namespaces=None)\n",
      " |      Get information about a resource on a filesystem.\n",
      " |      \n",
      " |      Arguments:\n",
      " |          path (str): A path to a resource on the filesystem.\n",
      " |          namespaces (list, optional): Info namespaces to query. The\n",
      " |              `\"basic\"` namespace is alway included in the returned\n",
      " |              info, whatever the value of `namespaces` may be.\n",
      " |      \n",
      " |      Returns:\n",
      " |          ~fs.info.Info: resource information object.\n",
      " |      \n",
      " |      Raises:\n",
      " |          fs.errors.ResourceNotFound: If ``path`` does not exist.\n",
      " |      \n",
      " |      For more information regarding resource information, see :ref:`info`.\n",
      " |  \n",
      " |  getmeta(self, namespace='standard')\n",
      " |      Get meta information regarding a filesystem.\n",
      " |      \n",
      " |      Arguments:\n",
      " |          namespace (str): The meta namespace (defaults\n",
      " |              to ``\"standard\"``).\n",
      " |      \n",
      " |      Returns:\n",
      " |          dict: the meta information.\n",
      " |      \n",
      " |      Meta information is associated with a *namespace* which may be\n",
      " |      specified with the ``namespace`` parameter. The default namespace,\n",
      " |      ``\"standard\"``, contains common information regarding the\n",
      " |      filesystem's capabilities. Some filesystems may provide other\n",
      " |      namespaces which expose less common or implementation specific\n",
      " |      information. If a requested namespace is not supported by\n",
      " |      a filesystem, then an empty dictionary will be returned.\n",
      " |      \n",
      " |      The ``\"standard\"`` namespace supports the following keys:\n",
      " |      \n",
      " |      =================== ============================================\n",
      " |      key                 Description\n",
      " |      ------------------- --------------------------------------------\n",
      " |      case_insensitive    `True` if this filesystem is case\n",
      " |                          insensitive.\n",
      " |      invalid_path_chars  A string containing the characters that\n",
      " |                          may not be used on this filesystem.\n",
      " |      max_path_length     Maximum number of characters permitted in\n",
      " |                          a path, or `None` for no limit.\n",
      " |      max_sys_path_length Maximum number of characters permitted in\n",
      " |                          a sys path, or `None` for no limit.\n",
      " |      network             `True` if this filesystem requires a\n",
      " |                          network.\n",
      " |      read_only           `True` if this filesystem is read only.\n",
      " |      supports_rename     `True` if this filesystem supports an\n",
      " |                          `os.rename` operation.\n",
      " |      =================== ============================================\n",
      " |      \n",
      " |      Most builtin filesystems will provide all these keys, and third-\n",
      " |      party filesystems should do so whenever possible, but a key may\n",
      " |      not be present if there is no way to know the value.\n",
      " |      \n",
      " |      Note:\n",
      " |          Meta information is constant for the lifetime of the\n",
      " |          filesystem, and may be cached.\n",
      " |  \n",
      " |  getsize(self, path)\n",
      " |      Get the size (in bytes) of a resource.\n",
      " |      \n",
      " |      Arguments:\n",
      " |          path (str): A path to a resource.\n",
      " |      \n",
      " |      Returns:\n",
      " |          int: the *size* of the resource.\n",
      " |      \n",
      " |      Raises:\n",
      " |          fs.errors.ResourceNotFound: if ``path`` does not exist.\n",
      " |      \n",
      " |      The *size* of a file is the total number of readable bytes,\n",
      " |      which may not reflect the exact number of bytes of reserved\n",
      " |      disk space (or other storage medium).\n",
      " |      \n",
      " |      The size of a directory is the number of bytes of overhead\n",
      " |      use to store the directory entry.\n",
      " |  \n",
      " |  getsyspath(self, path)\n",
      " |      Get the *system path* of a resource.\n",
      " |      \n",
      " |      Arguments:\n",
      " |          path (str): A path on the filesystem.\n",
      " |      \n",
      " |      Returns:\n",
      " |          str: the *system path* of the resource, if any.\n",
      " |      \n",
      " |      Raises:\n",
      " |          fs.errors.NoSysPath: If there is no corresponding system path.\n",
      " |      \n",
      " |      A system path is one recognized by the OS, that may be used\n",
      " |      outside of PyFilesystem (in an application or a shell for\n",
      " |      example). This method will get the corresponding system path\n",
      " |      that would be referenced by ``path``.\n",
      " |      \n",
      " |      Not all filesystems have associated system paths. Network and\n",
      " |      memory based filesystems, for example, may not physically store\n",
      " |      data anywhere the OS knows about. It is also possible for some\n",
      " |      paths to have a system path, whereas others don't.\n",
      " |      \n",
      " |      This method will always return a str on Py3.* and unicode\n",
      " |      on Py2.7. See `~getospath` if you need to encode the path as\n",
      " |      bytes.\n",
      " |      \n",
      " |      If ``path`` doesn't have a system path, a `~fs.errors.NoSysPath`\n",
      " |      exception will be thrown.\n",
      " |      \n",
      " |      Note:\n",
      " |          A filesystem may return a system path even if no\n",
      " |          resource is referenced by that path -- as long as it can\n",
      " |          be certain what that system path would be.\n",
      " |  \n",
      " |  gettype(self, path)\n",
      " |      Get the type of a resource.\n",
      " |      \n",
      " |      Arguments:\n",
      " |          path (str): A path on the filesystem.\n",
      " |      \n",
      " |      Returns:\n",
      " |          ~fs.enums.ResourceType: the type of the resource.\n",
      " |      \n",
      " |      Raises:\n",
      " |          fs.errors.ResourceNotFound: if ``path`` does not exist.\n",
      " |      \n",
      " |      A type of a resource is an integer that identifies the what\n",
      " |      the resource references. The standard type integers may be one\n",
      " |      of the values in the `~fs.enums.ResourceType` enumerations.\n",
      " |      \n",
      " |      The most common resource types, supported by virtually all\n",
      " |      filesystems are ``directory`` (1) and ``file`` (2), but the\n",
      " |      following types are also possible:\n",
      " |      \n",
      " |      ===================   ======\n",
      " |      ResourceType          value\n",
      " |      -------------------   ------\n",
      " |      unknown               0\n",
      " |      directory             1\n",
      " |      file                  2\n",
      " |      character             3\n",
      " |      block_special_file    4\n",
      " |      fifo                  5\n",
      " |      socket                6\n",
      " |      symlink               7\n",
      " |      ===================   ======\n",
      " |      \n",
      " |      Standard resource types are positive integers, negative values\n",
      " |      are reserved for implementation specific resource types.\n",
      " |  \n",
      " |  geturl(self, path, purpose='download')\n",
      " |      Get the URL to a given resource.\n",
      " |      \n",
      " |      Arguments:\n",
      " |          path (str): A path on the filesystem\n",
      " |          purpose (str): A short string that indicates which URL\n",
      " |              to retrieve for the given path (if there is more than\n",
      " |              one). The default is ``'download'``, which should return\n",
      " |              a URL that serves the file. Other filesystems may support\n",
      " |              other values for ``purpose``: for instance, `OSFS` supports\n",
      " |              ``'fs'``, which returns a FS URL (see :ref:`fs-urls`).\n",
      " |      \n",
      " |      Returns:\n",
      " |          str: a URL.\n",
      " |      \n",
      " |      Raises:\n",
      " |          fs.errors.NoURL: If the path does not map to a URL.\n",
      " |  \n",
      " |  hash(self, path, name)\n",
      " |      Get the hash of a file's contents.\n",
      " |      \n",
      " |      Arguments:\n",
      " |          path(str): A path on the filesystem.\n",
      " |          name(str):\n",
      " |              One of the algorithms supported by the `hashlib` module,\n",
      " |              e.g. `\"md5\"` or `\"sha256\"`.\n",
      " |      \n",
      " |      Returns:\n",
      " |          str: The hex digest of the hash.\n",
      " |      \n",
      " |      Raises:\n",
      " |          fs.errors.UnsupportedHash: If the requested hash is not supported.\n",
      " |          fs.errors.ResourceNotFound: If ``path`` does not exist.\n",
      " |          fs.errors.FileExpected: If ``path`` exists but is not a file.\n",
      " |  \n",
      " |  hassyspath(self, path)\n",
      " |      Check if a path maps to a system path.\n",
      " |      \n",
      " |      Arguments:\n",
      " |          path (str): A path on the filesystem.\n",
      " |      \n",
      " |      Returns:\n",
      " |          bool: `True` if the resource at ``path`` has a *syspath*.\n",
      " |  \n",
      " |  hasurl(self, path, purpose='download')\n",
      " |      Check if a path has a corresponding URL.\n",
      " |      \n",
      " |      Arguments:\n",
      " |          path (str): A path on the filesystem.\n",
      " |          purpose (str): A purpose parameter, as given in\n",
      " |              `~fs.base.FS.geturl`.\n",
      " |      \n",
      " |      Returns:\n",
      " |          bool: `True` if an URL for the given purpose exists.\n",
      " |  \n",
      " |  isdir(self, path)\n",
      " |      Check if a path maps to an existing directory.\n",
      " |      \n",
      " |      Arguments:\n",
      " |          path (str): A path on the filesystem.\n",
      " |      \n",
      " |      Returns:\n",
      " |          bool: `True` if ``path`` maps to a directory.\n",
      " |  \n",
      " |  isfile(self, path)\n",
      " |      Check if a path maps to an existing file.\n",
      " |      \n",
      " |      Arguments:\n",
      " |          path (str): A path on the filesystem.\n",
      " |      \n",
      " |      Returns:\n",
      " |          bool: `True` if ``path`` maps to a file.\n",
      " |  \n",
      " |  islink(self, path)\n",
      " |      Check if a path maps to a symlink.\n",
      " |      \n",
      " |      Arguments:\n",
      " |          path (str): A path on the filesystem.\n",
      " |      \n",
      " |      Returns:\n",
      " |          bool: `True` if ``path`` maps to a symlink.\n",
      " |  \n",
      " |  listdir(self, path)\n",
      " |      Get a list of the resource names in a directory.\n",
      " |      \n",
      " |      This method will return a list of the resources in a directory.\n",
      " |      A *resource* is a file, directory, or one of the other types\n",
      " |      defined in `~fs.enums.ResourceType`.\n",
      " |      \n",
      " |      Arguments:\n",
      " |          path (str): A path to a directory on the filesystem\n",
      " |      \n",
      " |      Returns:\n",
      " |          list: list of names, relative to ``path``.\n",
      " |      \n",
      " |      Raises:\n",
      " |          fs.errors.DirectoryExpected: If ``path`` is not a directory.\n",
      " |          fs.errors.ResourceNotFound: If ``path`` does not exist.\n",
      " |  \n",
      " |  lock(self)\n",
      " |      Get a context manager that *locks* the filesystem.\n",
      " |      \n",
      " |      Locking a filesystem gives a thread exclusive access to it.\n",
      " |      Other threads will block until the threads with the lock has\n",
      " |      left the context manager.\n",
      " |      \n",
      " |      Returns:\n",
      " |          threading.RLock: a lock specific to the filesystem instance.\n",
      " |      \n",
      " |      Example:\n",
      " |          >>> with my_fs.lock():  # May block\n",
      " |          ...    # code here has exclusive access to the filesystem\n",
      " |          ...    pass\n",
      " |      \n",
      " |      It is a good idea to put a lock around any operations that you\n",
      " |      would like to be *atomic*. For instance if you are copying\n",
      " |      files, and you don't want another thread to delete or modify\n",
      " |      anything while the copy is in progress.\n",
      " |      \n",
      " |      Locking with this method is only required for code that calls\n",
      " |      multiple filesystem methods. Individual methods are thread safe\n",
      " |      already, and don't need to be locked.\n",
      " |      \n",
      " |      Note:\n",
      " |          This only locks at the Python level. There is nothing to\n",
      " |          prevent other processes from modifying the filesystem\n",
      " |          outside of the filesystem instance.\n",
      " |  \n",
      " |  makedir(self, path, permissions=None, recreate=False)\n",
      " |      Make a directory.\n",
      " |      \n",
      " |      Arguments:\n",
      " |          path (str): Path to directory from root.\n",
      " |          permissions (~fs.permissions.Permissions, optional): a\n",
      " |              `Permissions` instance, or `None` to use default.\n",
      " |          recreate (bool): Set to `True` to avoid raising an error if\n",
      " |              the directory already exists (defaults to `False`).\n",
      " |      \n",
      " |      Returns:\n",
      " |          ~fs.subfs.SubFS: a filesystem whose root is the new directory.\n",
      " |      \n",
      " |      Raises:\n",
      " |          fs.errors.DirectoryExists: If the path already exists.\n",
      " |          fs.errors.ResourceNotFound: If the path is not found.\n",
      " |  \n",
      " |  makedirs(self, path, permissions=None, recreate=False)\n",
      " |      Make a directory, and any missing intermediate directories.\n",
      " |      \n",
      " |      Arguments:\n",
      " |          path (str): Path to directory from root.\n",
      " |          permissions (~fs.permissions.Permissions, optional): Initial\n",
      " |              permissions, or `None` to use defaults.\n",
      " |          recreate (bool):  If `False` (the default), attempting to\n",
      " |              create an existing directory will raise an error. Set\n",
      " |              to `True` to ignore existing directories.\n",
      " |      \n",
      " |      Returns:\n",
      " |          ~fs.subfs.SubFS: A sub-directory filesystem.\n",
      " |      \n",
      " |      Raises:\n",
      " |          fs.errors.DirectoryExists: if the path is already\n",
      " |              a directory, and ``recreate`` is `False`.\n",
      " |          fs.errors.DirectoryExpected: if one of the ancestors\n",
      " |              in the path is not a directory.\n",
      " |  \n",
      " |  move(self, src_path, dst_path, overwrite=False, preserve_time=False)\n",
      " |      Move a file from ``src_path`` to ``dst_path``.\n",
      " |      \n",
      " |      Arguments:\n",
      " |          src_path (str): A path on the filesystem to move.\n",
      " |          dst_path (str): A path on the filesystem where the source\n",
      " |              file will be written to.\n",
      " |          overwrite (bool): If `True`, destination path will be\n",
      " |              overwritten if it exists.\n",
      " |          preserve_time (bool): If `True`, try to preserve mtime of the\n",
      " |              resources (defaults to `False`).\n",
      " |      \n",
      " |      Raises:\n",
      " |          fs.errors.FileExpected: If ``src_path`` maps to a\n",
      " |              directory instead of a file.\n",
      " |          fs.errors.DestinationExists: If ``dst_path`` exists,\n",
      " |              and ``overwrite`` is `False`.\n",
      " |          fs.errors.ResourceNotFound: If a parent directory of\n",
      " |              ``dst_path`` does not exist.\n",
      " |  \n",
      " |  movedir(self, src_path, dst_path, create=False, preserve_time=False)\n",
      " |      Move directory ``src_path`` to ``dst_path``.\n",
      " |      \n",
      " |      Arguments:\n",
      " |          src_path (str): Path of source directory on the filesystem.\n",
      " |          dst_path (str): Path to destination directory.\n",
      " |          create (bool): If `True`, then ``dst_path`` will be created\n",
      " |              if it doesn't exist already (defaults to `False`).\n",
      " |          preserve_time (bool): If `True`, try to preserve mtime of the\n",
      " |              resources (defaults to `False`).\n",
      " |      \n",
      " |      Raises:\n",
      " |          fs.errors.ResourceNotFound: if ``dst_path`` does not exist,\n",
      " |              and ``create`` is `False`.\n",
      " |          fs.errors.DirectoryExpected: if ``src_path`` or one of its\n",
      " |              ancestors is not a directory.\n",
      " |  \n",
      " |  open(self, path, mode='r', buffering=-1, encoding=None, errors=None, newline='', line_buffering=False, **options)\n",
      " |      Open a file.\n",
      " |      \n",
      " |      Arguments:\n",
      " |          path (str): A path to a file on the filesystem.\n",
      " |          mode (str): Mode to open the file object with\n",
      " |              (defaults to *r*).\n",
      " |          buffering (int): Buffering policy (-1 to use\n",
      " |              default buffering, 0 to disable buffering, 1 to select\n",
      " |              line buffering, of any positive integer to indicate\n",
      " |              a buffer size).\n",
      " |          encoding (str): Encoding for text files (defaults to\n",
      " |              ``utf-8``)\n",
      " |          errors (str, optional): What to do with unicode decode errors\n",
      " |              (see `codecs` module for more information).\n",
      " |          newline (str): Newline parameter.\n",
      " |          **options: keyword arguments for any additional information\n",
      " |              required by the filesystem (if any).\n",
      " |      \n",
      " |      Returns:\n",
      " |          io.IOBase: a *file-like* object.\n",
      " |      \n",
      " |      Raises:\n",
      " |          fs.errors.FileExpected: If the path is not a file.\n",
      " |          fs.errors.FileExists: If the file exists, and *exclusive mode*\n",
      " |              is specified (``x`` in the mode).\n",
      " |          fs.errors.ResourceNotFound: If the path does not exist.\n",
      " |  \n",
      " |  openbin(self, path, mode='r', buffering=-1, **options)\n",
      " |      Open a binary file-like object.\n",
      " |      \n",
      " |      Arguments:\n",
      " |          path (str): A path on the filesystem.\n",
      " |          mode (str): Mode to open file (must be a valid non-text mode,\n",
      " |              defaults to *r*). Since this method only opens binary files,\n",
      " |              the ``b`` in the mode string is implied.\n",
      " |          buffering (int): Buffering policy (-1 to use default buffering,\n",
      " |              0 to disable buffering, or any positive integer to indicate\n",
      " |              a buffer size).\n",
      " |          **options: keyword arguments for any additional information\n",
      " |              required by the filesystem (if any).\n",
      " |      \n",
      " |      Returns:\n",
      " |          io.IOBase: a *file-like* object.\n",
      " |      \n",
      " |      Raises:\n",
      " |          fs.errors.FileExpected: If ``path`` exists and is not a file.\n",
      " |          fs.errors.FileExists: If the ``path`` exists, and\n",
      " |              *exclusive mode* is specified (``x`` in the mode).\n",
      " |          fs.errors.ResourceNotFound: If ``path`` does not exist and\n",
      " |              ``mode`` does not imply creating the file, or if any\n",
      " |              ancestor of ``path`` does not exist.\n",
      " |  \n",
      " |  opendir(self, path, factory=None)\n",
      " |      Get a filesystem object for a sub-directory.\n",
      " |      \n",
      " |      Arguments:\n",
      " |          path (str): Path to a directory on the filesystem.\n",
      " |          factory (callable, optional): A callable that when invoked\n",
      " |              with an FS instance and ``path`` will return a new FS object\n",
      " |              representing the sub-directory contents. If no ``factory``\n",
      " |              is supplied then `~fs.subfs_class` will be used.\n",
      " |      \n",
      " |      Returns:\n",
      " |          ~fs.subfs.SubFS: A filesystem representing a sub-directory.\n",
      " |      \n",
      " |      Raises:\n",
      " |          fs.errors.ResourceNotFound: If ``path`` does not exist.\n",
      " |          fs.errors.DirectoryExpected: If ``path`` is not a directory.\n",
      " |  \n",
      " |  readbytes(self, path)\n",
      " |      Get the contents of a file as bytes.\n",
      " |      \n",
      " |      Arguments:\n",
      " |          path (str): A path to a readable file on the filesystem.\n",
      " |      \n",
      " |      Returns:\n",
      " |          bytes: the file contents.\n",
      " |      \n",
      " |      Raises:\n",
      " |          fs.errors.FileExpected: if ``path`` exists but is not a file.\n",
      " |          fs.errors.ResourceNotFound: if ``path`` does not exist.\n",
      " |  \n",
      " |  readtext(self, path, encoding=None, errors=None, newline='')\n",
      " |      Get the contents of a file as a string.\n",
      " |      \n",
      " |      Arguments:\n",
      " |          path (str): A path to a readable file on the filesystem.\n",
      " |          encoding (str, optional): Encoding to use when reading contents\n",
      " |              in text mode (defaults to `None`, reading in binary mode).\n",
      " |          errors (str, optional): Unicode errors parameter.\n",
      " |          newline (str): Newlines parameter.\n",
      " |      \n",
      " |      Returns:\n",
      " |          str: file contents.\n",
      " |      \n",
      " |      Raises:\n",
      " |          fs.errors.ResourceNotFound: If ``path`` does not exist.\n",
      " |  \n",
      " |  remove(self, path)\n",
      " |      Remove a file from the filesystem.\n",
      " |      \n",
      " |      Arguments:\n",
      " |          path (str): Path of the file to remove.\n",
      " |      \n",
      " |      Raises:\n",
      " |          fs.errors.FileExpected: If the path is a directory.\n",
      " |          fs.errors.ResourceNotFound: If the path does not exist.\n",
      " |  \n",
      " |  removedir(self, path)\n",
      " |      Remove a directory from the filesystem.\n",
      " |      \n",
      " |      Arguments:\n",
      " |          path (str): Path of the directory to remove.\n",
      " |      \n",
      " |      Raises:\n",
      " |          fs.errors.DirectoryNotEmpty: If the directory is not empty (\n",
      " |              see `~fs.base.FS.removetree` for a way to remove the\n",
      " |              directory contents).\n",
      " |          fs.errors.DirectoryExpected: If the path does not refer to\n",
      " |              a directory.\n",
      " |          fs.errors.ResourceNotFound: If no resource exists at the\n",
      " |              given path.\n",
      " |          fs.errors.RemoveRootError: If an attempt is made to remove\n",
      " |              the root directory (i.e. ``'/'``)\n",
      " |  \n",
      " |  removetree(self, dir_path)\n",
      " |      Recursively remove a directory and all its contents.\n",
      " |      \n",
      " |      This method is similar to `~fs.base.FS.removedir`, but will\n",
      " |      remove the contents of the directory if it is not empty.\n",
      " |      \n",
      " |      Arguments:\n",
      " |          dir_path (str): Path to a directory on the filesystem.\n",
      " |      \n",
      " |      Raises:\n",
      " |          fs.errors.ResourceNotFound: If ``dir_path`` does not exist.\n",
      " |          fs.errors.DirectoryExpected: If ``dir_path`` is not a directory.\n",
      " |      \n",
      " |      Caution:\n",
      " |          A filesystem should never delete its root folder, so\n",
      " |          ``FS.removetree(\"/\")`` has different semantics: the\n",
      " |          contents of the root folder will be deleted, but the\n",
      " |          root will be untouched::\n",
      " |      \n",
      " |              >>> home_fs = fs.open_fs(\"~\")\n",
      " |              >>> home_fs.removetree(\"/\")\n",
      " |              >>> home_fs.exists(\"/\")\n",
      " |              True\n",
      " |              >>> home_fs.isempty(\"/\")\n",
      " |              True\n",
      " |      \n",
      " |          Combined with `~fs.base.FS.opendir`, this can be used\n",
      " |          to clear a directory without removing the directory\n",
      " |          itself::\n",
      " |      \n",
      " |              >>> home_fs = fs.open_fs(\"~\")\n",
      " |              >>> home_fs.opendir(\"/Videos\").removetree(\"/\")\n",
      " |              >>> home_fs.exists(\"/Videos\")\n",
      " |              True\n",
      " |              >>> home_fs.isempty(\"/Videos\")\n",
      " |              True\n",
      " |  \n",
      " |  scandir(self, path, namespaces=None, page=None)\n",
      " |      Get an iterator of resource info.\n",
      " |      \n",
      " |      Arguments:\n",
      " |          path (str): A path to a directory on the filesystem.\n",
      " |          namespaces (list, optional): A list of namespaces to include\n",
      " |              in the resource information, e.g. ``['basic', 'access']``.\n",
      " |          page (tuple, optional): May be a tuple of ``(<start>, <end>)``\n",
      " |              indexes to return an iterator of a subset of the resource\n",
      " |              info, or `None` to iterate over the entire directory.\n",
      " |              Paging a directory scan may be necessary for very large\n",
      " |              directories.\n",
      " |      \n",
      " |      Returns:\n",
      " |          ~collections.abc.Iterator: an iterator of `Info` objects.\n",
      " |      \n",
      " |      Raises:\n",
      " |          fs.errors.DirectoryExpected: If ``path`` is not a directory.\n",
      " |          fs.errors.ResourceNotFound: If ``path`` does not exist.\n",
      " |  \n",
      " |  setinfo(self, path, info)\n",
      " |      Set info on a resource.\n",
      " |      \n",
      " |      This method is the complement to `~fs.base.FS.getinfo`\n",
      " |      and is used to set info values on a resource.\n",
      " |      \n",
      " |      Arguments:\n",
      " |          path (str): Path to a resource on the filesystem.\n",
      " |          info (dict): Dictionary of resource info.\n",
      " |      \n",
      " |      Raises:\n",
      " |          fs.errors.ResourceNotFound: If ``path`` does not exist\n",
      " |              on the filesystem\n",
      " |      \n",
      " |      The ``info`` dict should be in the same format as the raw\n",
      " |      info returned by ``getinfo(file).raw``.\n",
      " |      \n",
      " |      Example:\n",
      " |          >>> details_info = {\"details\": {\n",
      " |          ...     \"modified\": time.time()\n",
      " |          ... }}\n",
      " |          >>> my_fs.setinfo('file.txt', details_info)\n",
      " |  \n",
      " |  settimes(self, path, accessed=None, modified=None)\n",
      " |      Set the accessed and modified time on a resource.\n",
      " |      \n",
      " |      Arguments:\n",
      " |          path: A path to a resource on the filesystem.\n",
      " |          accessed (datetime, optional): The accessed time, or\n",
      " |              `None` (the default) to use the current time.\n",
      " |          modified (datetime, optional): The modified time, or\n",
      " |              `None` (the default) to use the same time as the\n",
      " |              ``accessed`` parameter.\n",
      " |  \n",
      " |  touch(self, path)\n",
      " |      Touch a file on the filesystem.\n",
      " |      \n",
      " |      Touching a file means creating a new file if ``path`` doesn't\n",
      " |      exist, or update accessed and modified times if the path does\n",
      " |      exist. This method is similar to the linux command of the same\n",
      " |      name.\n",
      " |      \n",
      " |      Arguments:\n",
      " |          path (str): A path to a file on the filesystem.\n",
      " |  \n",
      " |  upload(self, path, file, chunk_size=None, **options)\n",
      " |      Set a file to the contents of a binary file object.\n",
      " |      \n",
      " |      This method copies bytes from an open binary file to a file on\n",
      " |      the filesystem. If the destination exists, it will first be\n",
      " |      truncated.\n",
      " |      \n",
      " |      Arguments:\n",
      " |          path (str): A path on the filesystem.\n",
      " |          file (io.IOBase): a file object open for reading in\n",
      " |              binary mode.\n",
      " |          chunk_size (int, optional): Number of bytes to read at a\n",
      " |              time, if a simple copy is used, or `None` to use\n",
      " |              sensible default.\n",
      " |          **options: Implementation specific options required to open\n",
      " |              the source file.\n",
      " |      \n",
      " |      Raises:\n",
      " |          fs.errors.ResourceNotFound: If a parent directory of\n",
      " |              ``path`` does not exist.\n",
      " |      \n",
      " |      Note that the file object ``file`` will *not* be closed by this\n",
      " |      method. Take care to close it after this method completes\n",
      " |      (ideally with a context manager).\n",
      " |      \n",
      " |      Example:\n",
      " |          >>> with open('~/movies/starwars.mov', 'rb') as read_file:\n",
      " |          ...     my_fs.upload('starwars.mov', read_file)\n",
      " |  \n",
      " |  validatepath(self, path)\n",
      " |      Validate a path, returning a normalized absolute path on sucess.\n",
      " |      \n",
      " |      Many filesystems have restrictions on the format of paths they\n",
      " |      support. This method will check that ``path`` is valid on the\n",
      " |      underlaying storage mechanism and throw a\n",
      " |      `~fs.errors.InvalidPath` exception if it is not.\n",
      " |      \n",
      " |      Arguments:\n",
      " |          path (str): A path.\n",
      " |      \n",
      " |      Returns:\n",
      " |          str: A normalized, absolute path.\n",
      " |      \n",
      " |      Raises:\n",
      " |          fs.errors.InvalidPath: If the path is invalid.\n",
      " |          fs.errors.FilesystemClosed: if the filesystem is closed.\n",
      " |          fs.errors.InvalidCharsInPath: If the path contains\n",
      " |              invalid characters.\n",
      " |  \n",
      " |  writebytes(self, path, contents)\n",
      " |      Copy binary data to a file.\n",
      " |      \n",
      " |      Arguments:\n",
      " |          path (str): Destination path on the filesystem.\n",
      " |          contents (bytes): Data to be written.\n",
      " |      \n",
      " |      Raises:\n",
      " |          TypeError: if contents is not bytes.\n",
      " |  \n",
      " |  writefile(self, path, file, encoding=None, errors=None, newline='')\n",
      " |      Set a file to the contents of a file object.\n",
      " |      \n",
      " |      Arguments:\n",
      " |          path (str): A path on the filesystem.\n",
      " |          file (io.IOBase): A file object open for reading.\n",
      " |          encoding (str, optional): Encoding of destination file,\n",
      " |              defaults to `None` for binary.\n",
      " |          errors (str, optional): How encoding errors should be treated\n",
      " |              (same as `io.open`).\n",
      " |          newline (str): Newline parameter (same as `io.open`).\n",
      " |      \n",
      " |      This method is similar to `~FS.upload`, in that it copies data from a\n",
      " |      file-like object to a resource on the filesystem, but unlike ``upload``,\n",
      " |      this method also supports creating files in text-mode (if the ``encoding``\n",
      " |      argument is supplied).\n",
      " |      \n",
      " |      Note that the file object ``file`` will *not* be closed by this\n",
      " |      method. Take care to close it after this method completes\n",
      " |      (ideally with a context manager).\n",
      " |      \n",
      " |      Example:\n",
      " |          >>> with open('myfile.txt') as read_file:\n",
      " |          ...     my_fs.writefile('myfile.txt', read_file)\n",
      " |  \n",
      " |  ----------------------------------------------------------------------\n",
      " |  Readonly properties inherited from fs.wrapfs.WrapFS:\n",
      " |  \n",
      " |  walk\n",
      " |      `~fs.walk.BoundWalker`: a walker bound to this filesystem.\n",
      " |  \n",
      " |  ----------------------------------------------------------------------\n",
      " |  Data and other attributes inherited from fs.wrapfs.WrapFS:\n",
      " |  \n",
      " |  wrap_name = None\n",
      " |  \n",
      " |  ----------------------------------------------------------------------\n",
      " |  Methods inherited from fs.base.FS:\n",
      " |  \n",
      " |  __del__(self)\n",
      " |      Auto-close the filesystem on exit.\n",
      " |  \n",
      " |  __enter__(self)\n",
      " |      Allow use of filesystem as a context manager.\n",
      " |  \n",
      " |  __exit__(self, exc_type, exc_value, traceback)\n",
      " |      Close filesystem on exit.\n",
      " |  \n",
      " |  check(self)\n",
      " |      Check if a filesystem may be used.\n",
      " |      \n",
      " |      Raises:\n",
      " |          fs.errors.FilesystemClosed: if the filesystem is closed.\n",
      " |  \n",
      " |  close(self)\n",
      " |      Close the filesystem and release any resources.\n",
      " |      \n",
      " |      It is important to call this method when you have finished\n",
      " |      working with the filesystem. Some filesystems may not finalize\n",
      " |      changes until they are closed (archives for example). You may\n",
      " |      call this method explicitly (it is safe to call close multiple\n",
      " |      times), or you can use the filesystem as a context manager to\n",
      " |      automatically close.\n",
      " |      \n",
      " |      Example:\n",
      " |          >>> with OSFS('~/Desktop') as desktop_fs:\n",
      " |          ...    desktop_fs.writetext(\n",
      " |          ...        'note.txt',\n",
      " |          ...        \"Don't forget to tape Game of Thrones\"\n",
      " |          ...    )\n",
      " |      \n",
      " |      If you attempt to use a filesystem that has been closed, a\n",
      " |      `~fs.errors.FilesystemClosed` exception will be thrown.\n",
      " |  \n",
      " |  getbasic(self, path)\n",
      " |      Get the *basic* resource info.\n",
      " |      \n",
      " |      This method is shorthand for the following::\n",
      " |      \n",
      " |          fs.getinfo(path, namespaces=['basic'])\n",
      " |      \n",
      " |      Arguments:\n",
      " |          path (str): A path on the filesystem.\n",
      " |      \n",
      " |      Returns:\n",
      " |          ~fs.info.Info: Resource information object for ``path``.\n",
      " |      \n",
      " |      Note:\n",
      " |          .. deprecated:: 2.4.13\n",
      " |              Please use `~FS.getinfo` directly, which is\n",
      " |              required to always return the *basic* namespace.\n",
      " |  \n",
      " |  getbytes = readbytes(self, path)\n",
      " |      Get the contents of a file as bytes.\n",
      " |      \n",
      " |      Arguments:\n",
      " |          path (str): A path to a readable file on the filesystem.\n",
      " |      \n",
      " |      Returns:\n",
      " |          bytes: the file contents.\n",
      " |      \n",
      " |      Raises:\n",
      " |          fs.errors.FileExpected: if ``path`` exists but is not a file.\n",
      " |          fs.errors.ResourceNotFound: if ``path`` does not exist.\n",
      " |      \n",
      " |      \n",
      " |      Note:\n",
      " |          .. deprecated:: 2.2.0\n",
      " |              Please use `~readbytes`\n",
      " |  \n",
      " |  getdetails(self, path)\n",
      " |      Get the *details* resource info.\n",
      " |      \n",
      " |      This method is shorthand for the following::\n",
      " |      \n",
      " |          fs.getinfo(path, namespaces=['details'])\n",
      " |      \n",
      " |      Arguments:\n",
      " |          path (str): A path on the filesystem.\n",
      " |      \n",
      " |      Returns:\n",
      " |          ~fs.info.Info: Resource information object for ``path``.\n",
      " |  \n",
      " |  getfile = download(self, path, file, chunk_size=None, **options)\n",
      " |      Copy a file from the filesystem to a file-like object.\n",
      " |      \n",
      " |      This may be more efficient that opening and copying files\n",
      " |      manually if the filesystem supplies an optimized method.\n",
      " |      \n",
      " |      Note that the file object ``file`` will *not* be closed by this\n",
      " |      method. Take care to close it after this method completes\n",
      " |      (ideally with a context manager).\n",
      " |      \n",
      " |      Arguments:\n",
      " |          path (str): Path to a resource.\n",
      " |          file (file-like): A file-like object open for writing in\n",
      " |              binary mode.\n",
      " |          chunk_size (int, optional): Number of bytes to read at a\n",
      " |              time, if a simple copy is used, or `None` to use\n",
      " |              sensible default.\n",
      " |          **options: Implementation specific options required to open\n",
      " |              the source file.\n",
      " |      \n",
      " |      Example:\n",
      " |          >>> with open('starwars.mov', 'wb') as write_file:\n",
      " |          ...     my_fs.download('/Videos/starwars.mov', write_file)\n",
      " |      \n",
      " |      Raises:\n",
      " |          fs.errors.ResourceNotFound: if ``path`` does not exist.\n",
      " |      \n",
      " |      \n",
      " |      Note:\n",
      " |          .. deprecated:: 2.2.0\n",
      " |              Please use `~download`\n",
      " |  \n",
      " |  getmodified(self, path)\n",
      " |      Get the timestamp of the last modifying access of a resource.\n",
      " |      \n",
      " |      Arguments:\n",
      " |          path (str): A path to a resource.\n",
      " |      \n",
      " |      Returns:\n",
      " |          datetime: The timestamp of the last modification.\n",
      " |      \n",
      " |      The *modified timestamp* of a file is the point in time\n",
      " |      that the file was last changed. Depending on the file system,\n",
      " |      it might only have limited accuracy.\n",
      " |  \n",
      " |  getospath(self, path)\n",
      " |      Get the *system path* to a resource, in the OS' prefered encoding.\n",
      " |      \n",
      " |      Arguments:\n",
      " |          path (str): A path on the filesystem.\n",
      " |      \n",
      " |      Returns:\n",
      " |          str: the *system path* of the resource, if any.\n",
      " |      \n",
      " |      Raises:\n",
      " |          fs.errors.NoSysPath: If there is no corresponding system path.\n",
      " |      \n",
      " |      This method takes the output of `~getsyspath` and encodes it to\n",
      " |      the filesystem's prefered encoding. In Python3 this step is\n",
      " |      not required, as the `os` module will do it automatically. In\n",
      " |      Python2.7, the encoding step is required to support filenames\n",
      " |      on the filesystem that don't encode correctly.\n",
      " |      \n",
      " |      Note:\n",
      " |          If you want your code to work in Python2.7 and Python3 then\n",
      " |          use this method if you want to work with the OS filesystem\n",
      " |          outside of the OSFS interface.\n",
      " |  \n",
      " |  gettext = readtext(self, path, encoding=None, errors=None, newline='')\n",
      " |      Get the contents of a file as a string.\n",
      " |      \n",
      " |      Arguments:\n",
      " |          path (str): A path to a readable file on the filesystem.\n",
      " |          encoding (str, optional): Encoding to use when reading contents\n",
      " |              in text mode (defaults to `None`, reading in binary mode).\n",
      " |          errors (str, optional): Unicode errors parameter.\n",
      " |          newline (str): Newlines parameter.\n",
      " |      \n",
      " |      Returns:\n",
      " |          str: file contents.\n",
      " |      \n",
      " |      Raises:\n",
      " |          fs.errors.ResourceNotFound: If ``path`` does not exist.\n",
      " |      \n",
      " |      \n",
      " |      Note:\n",
      " |          .. deprecated:: 2.2.0\n",
      " |              Please use `~readtext`\n",
      " |  \n",
      " |  isclosed(self)\n",
      " |      Check if the filesystem is closed.\n",
      " |  \n",
      " |  isempty(self, path)\n",
      " |      Check if a directory is empty.\n",
      " |      \n",
      " |      A directory is considered empty when it does not contain\n",
      " |      any file or any directory.\n",
      " |      \n",
      " |      Arguments:\n",
      " |          path (str): A path to a directory on the filesystem.\n",
      " |      \n",
      " |      Returns:\n",
      " |          bool: `True` if the directory is empty.\n",
      " |      \n",
      " |      Raises:\n",
      " |          errors.DirectoryExpected: If ``path`` is not a directory.\n",
      " |          errors.ResourceNotFound: If ``path`` does not exist.\n",
      " |  \n",
      " |  match(self, patterns, name)\n",
      " |      Check if a name matches any of a list of wildcards.\n",
      " |      \n",
      " |      If a filesystem is case *insensitive* (such as Windows) then\n",
      " |      this method will perform a case insensitive match (i.e. ``*.py``\n",
      " |      will match the same names as ``*.PY``). Otherwise the match will\n",
      " |      be case sensitive (``*.py`` and ``*.PY`` will match different\n",
      " |      names).\n",
      " |      \n",
      " |      Arguments:\n",
      " |          patterns (list, optional): A list of patterns, e.g.\n",
      " |              ``['*.py']``, or `None` to match everything.\n",
      " |          name (str): A file or directory name (not a path)\n",
      " |      \n",
      " |      Returns:\n",
      " |          bool: `True` if ``name`` matches any of the patterns.\n",
      " |      \n",
      " |      Raises:\n",
      " |          TypeError: If ``patterns`` is a single string instead of\n",
      " |              a list (or `None`).\n",
      " |      \n",
      " |      Example:\n",
      " |          >>> my_fs.match(['*.py'], '__init__.py')\n",
      " |          True\n",
      " |          >>> my_fs.match(['*.jpg', '*.png'], 'foo.gif')\n",
      " |          False\n",
      " |      \n",
      " |      Note:\n",
      " |          If ``patterns`` is `None` (or ``['*']``), then this\n",
      " |          method will always return `True`.\n",
      " |  \n",
      " |  setbinfile = upload(self, path, file, chunk_size=None, **options)\n",
      " |      Set a file to the contents of a binary file object.\n",
      " |      \n",
      " |      This method copies bytes from an open binary file to a file on\n",
      " |      the filesystem. If the destination exists, it will first be\n",
      " |      truncated.\n",
      " |      \n",
      " |      Arguments:\n",
      " |          path (str): A path on the filesystem.\n",
      " |          file (io.IOBase): a file object open for reading in\n",
      " |              binary mode.\n",
      " |          chunk_size (int, optional): Number of bytes to read at a\n",
      " |              time, if a simple copy is used, or `None` to use\n",
      " |              sensible default.\n",
      " |          **options: Implementation specific options required to open\n",
      " |              the source file.\n",
      " |      \n",
      " |      Raises:\n",
      " |          fs.errors.ResourceNotFound: If a parent directory of\n",
      " |              ``path`` does not exist.\n",
      " |      \n",
      " |      Note that the file object ``file`` will *not* be closed by this\n",
      " |      method. Take care to close it after this method completes\n",
      " |      (ideally with a context manager).\n",
      " |      \n",
      " |      Example:\n",
      " |          >>> with open('~/movies/starwars.mov', 'rb') as read_file:\n",
      " |          ...     my_fs.upload('starwars.mov', read_file)\n",
      " |      \n",
      " |      \n",
      " |      Note:\n",
      " |          .. deprecated:: 2.2.0\n",
      " |              Please use `~upload`\n",
      " |  \n",
      " |  setbytes = writebytes(self, path, contents)\n",
      " |      Copy binary data to a file.\n",
      " |      \n",
      " |      Arguments:\n",
      " |          path (str): Destination path on the filesystem.\n",
      " |          contents (bytes): Data to be written.\n",
      " |      \n",
      " |      Raises:\n",
      " |          TypeError: if contents is not bytes.\n",
      " |      \n",
      " |      \n",
      " |      Note:\n",
      " |          .. deprecated:: 2.2.0\n",
      " |              Please use `~writebytes`\n",
      " |  \n",
      " |  setfile = writefile(self, path, file, encoding=None, errors=None, newline='')\n",
      " |      Set a file to the contents of a file object.\n",
      " |      \n",
      " |      Arguments:\n",
      " |          path (str): A path on the filesystem.\n",
      " |          file (io.IOBase): A file object open for reading.\n",
      " |          encoding (str, optional): Encoding of destination file,\n",
      " |              defaults to `None` for binary.\n",
      " |          errors (str, optional): How encoding errors should be treated\n",
      " |              (same as `io.open`).\n",
      " |          newline (str): Newline parameter (same as `io.open`).\n",
      " |      \n",
      " |      This method is similar to `~FS.upload`, in that it copies data from a\n",
      " |      file-like object to a resource on the filesystem, but unlike ``upload``,\n",
      " |      this method also supports creating files in text-mode (if the ``encoding``\n",
      " |      argument is supplied).\n",
      " |      \n",
      " |      Note that the file object ``file`` will *not* be closed by this\n",
      " |      method. Take care to close it after this method completes\n",
      " |      (ideally with a context manager).\n",
      " |      \n",
      " |      Example:\n",
      " |          >>> with open('myfile.txt') as read_file:\n",
      " |          ...     my_fs.writefile('myfile.txt', read_file)\n",
      " |      \n",
      " |      \n",
      " |      Note:\n",
      " |          .. deprecated:: 2.2.0\n",
      " |              Please use `~writefile`\n",
      " |  \n",
      " |  settext = writetext(self, path, contents, encoding='utf-8', errors=None, newline='')\n",
      " |      Create or replace a file with text.\n",
      " |      \n",
      " |      Arguments:\n",
      " |          path (str): Destination path on the filesystem.\n",
      " |          contents (str): Text to be written.\n",
      " |          encoding (str, optional): Encoding of destination file\n",
      " |              (defaults to ``'utf-8'``).\n",
      " |          errors (str, optional): How encoding errors should be treated\n",
      " |              (same as `io.open`).\n",
      " |          newline (str): Newline parameter (same as `io.open`).\n",
      " |      \n",
      " |      Raises:\n",
      " |          TypeError: if ``contents`` is not a unicode string.\n",
      " |      \n",
      " |      \n",
      " |      Note:\n",
      " |          .. deprecated:: 2.2.0\n",
      " |              Please use `~writetext`\n",
      " |  \n",
      " |  tree(self, **kwargs)\n",
      " |      Render a tree view of the filesystem to stdout or a file.\n",
      " |      \n",
      " |      The parameters are passed to :func:`~fs.tree.render`.\n",
      " |      \n",
      " |      Keyword Arguments:\n",
      " |          path (str): The path of the directory to start rendering\n",
      " |              from (defaults to root folder, i.e. ``'/'``).\n",
      " |          file (io.IOBase): An open file-like object to render the\n",
      " |              tree, or `None` for stdout.\n",
      " |          encoding (str): Unicode encoding, or `None` to\n",
      " |              auto-detect.\n",
      " |          max_levels (int): Maximum number of levels to\n",
      " |              display, or `None` for no maximum.\n",
      " |          with_color (bool): Enable terminal color output,\n",
      " |              or `None` to auto-detect terminal.\n",
      " |          dirs_first (bool): Show directories first.\n",
      " |          exclude (list): Option list of directory patterns\n",
      " |              to exclude from the tree render.\n",
      " |          filter (list): Optional list of files patterns to\n",
      " |              match in the tree render.\n",
      " |  \n",
      " |  writetext(self, path, contents, encoding='utf-8', errors=None, newline='')\n",
      " |      Create or replace a file with text.\n",
      " |      \n",
      " |      Arguments:\n",
      " |          path (str): Destination path on the filesystem.\n",
      " |          contents (str): Text to be written.\n",
      " |          encoding (str, optional): Encoding of destination file\n",
      " |              (defaults to ``'utf-8'``).\n",
      " |          errors (str, optional): How encoding errors should be treated\n",
      " |              (same as `io.open`).\n",
      " |          newline (str): Newline parameter (same as `io.open`).\n",
      " |      \n",
      " |      Raises:\n",
      " |          TypeError: if ``contents`` is not a unicode string.\n",
      " |  \n",
      " |  ----------------------------------------------------------------------\n",
      " |  Readonly properties inherited from fs.base.FS:\n",
      " |  \n",
      " |  glob\n",
      " |      `~fs.glob.BoundGlobber`: a globber object..\n",
      " |  \n",
      " |  ----------------------------------------------------------------------\n",
      " |  Data descriptors inherited from fs.base.FS:\n",
      " |  \n",
      " |  __dict__\n",
      " |      dictionary for instance variables (if defined)\n",
      " |  \n",
      " |  __weakref__\n",
      " |      list of weak references to the object (if defined)\n",
      " |  \n",
      " |  ----------------------------------------------------------------------\n",
      " |  Data and other attributes inherited from fs.base.FS:\n",
      " |  \n",
      " |  subfs_class = None\n",
      " |  \n",
      " |  walker_class = <class 'fs.walk.Walker'>\n",
      " |      A walker object recursively lists directories in a filesystem.\n",
      " |  \n",
      " |  \n",
      " |  ----------------------------------------------------------------------\n",
      " |  Class methods inherited from typing.Generic:\n",
      " |  \n",
      " |  __class_getitem__(params) from abc.ABCMeta\n",
      " |  \n",
      " |  __init_subclass__(*args, **kwargs) from abc.ABCMeta\n",
      " |      This method is called when a class is subclassed.\n",
      " |      \n",
      " |      The default implementation does nothing. It may be\n",
      " |      overridden to extend subclasses.\n",
      "\n"
     ]
    }
   ],
   "source": [
    "help(SubFS)"
   ]
  },
  {
   "cell_type": "code",
   "execution_count": 21,
   "metadata": {},
   "outputs": [],
   "source": [
    "f.remove('/hello.nurse')"
   ]
  },
  {
   "cell_type": "code",
   "execution_count": 18,
   "metadata": {},
   "outputs": [],
   "source": [
    "f.writetext('/hello.nurse','hello')"
   ]
  },
  {
   "cell_type": "code",
   "execution_count": 22,
   "metadata": {},
   "outputs": [
    {
     "data": {
      "text/plain": [
       "['test', '.cosm', 'fruit', 'tmp_updateMultiValue.txt', 'numbers', 'boats', '@']"
      ]
     },
     "execution_count": 22,
     "metadata": {},
     "output_type": "execute_result"
    }
   ],
   "source": [
    "f.listdir('/')"
   ]
  },
  {
   "cell_type": "code",
   "execution_count": 20,
   "metadata": {},
   "outputs": [
    {
     "data": {
      "text/plain": [
       "'hello'"
      ]
     },
     "execution_count": 20,
     "metadata": {},
     "output_type": "execute_result"
    }
   ],
   "source": [
    "f.readtext('/hello.nurse')"
   ]
  },
  {
   "cell_type": "code",
   "execution_count": 35,
   "metadata": {},
   "outputs": [
    {
     "name": "stdout",
     "output_type": "stream",
     "text": [
      "['a', 'b']\n"
     ]
    }
   ],
   "source": [
    "## TEST: dict() address type\n",
    "#  REQUIRES: DictFS\n",
    "from DictFS import DictFS\n",
    "a = Dcel({'a':'pirate','b':'ship'}, service_class=DictFS)\n",
    "print(a.listdir('/'))"
   ]
  },
  {
   "cell_type": "code",
   "execution_count": 41,
   "metadata": {},
   "outputs": [
    {
     "name": "stdout",
     "output_type": "stream",
     "text": [
      "[]\n"
     ]
    }
   ],
   "source": [
    "## TEST: nesting other types inside DictFS\n",
    "from DictFS import DictFS\n",
    "from fs import open_fs\n",
    "a = Dcel('.',service_class=open_fs)\n",
    "b = Dcel({'a':a}, service_class=DictFS)\n",
    "print(b.listdir('/a'))"
   ]
  },
  {
   "cell_type": "code",
   "execution_count": 21,
   "metadata": {},
   "outputs": [],
   "source": [
    "### Test service_class=open_fs\n",
    "\n",
    "from fs import open_fs\n",
    "\n",
    "a = Dcel(address='file://fs/fs',\n",
    "         service_class=open_fs\n",
    "        )"
   ]
  },
  {
   "cell_type": "code",
   "execution_count": 22,
   "metadata": {},
   "outputs": [
    {
     "name": "stdout",
     "output_type": "stream",
     "text": [
      "/\n",
      "<osfs '/home/raygan/Cosms/Dboy/Laydbug/dev/cburnfs_py/cburnfs/fs/fs'>\n",
      "['test', '.cosm', 'fruit', 'tmp_updateMultiValue.txt', 'numbers', 'boats', '@']\n"
     ]
    }
   ],
   "source": [
    "print(a.address)\n",
    "print(a.service)\n",
    "print(a.listdir())"
   ]
  },
  {
   "cell_type": "code",
   "execution_count": 28,
   "metadata": {},
   "outputs": [
    {
     "name": "stdout",
     "output_type": "stream",
     "text": [
      "{'basic': {'name': '', 'is_dir': True}, 'details': {'_write': ['accessed', 'modified'], 'accessed': 1703333622.6908386, 'modified': 1703041388.8880703, 'size': 4096, 'type': 1, 'created': None, 'metadata_changed': 1703041388.8880703}, 'hosts': ['file://fs/fs']}\n"
     ]
    }
   ],
   "source": [
    "print(a.getinfo(namespaces=[\"details\"]).raw)"
   ]
  },
  {
   "cell_type": "code",
   "execution_count": 9,
   "metadata": {},
   "outputs": [
    {
     "name": "stdout",
     "output_type": "stream",
     "text": [
      "file:///home/raygan/Cosms/Dboy/Laydbug/dev/cburnfs_py/cburnfs/fs/fs/boats/\n"
     ]
    }
   ],
   "source": [
    "### TEST HOSTNAME GETTER\n",
    "\n",
    "from fs.osfs import OSFS\n",
    "d = Dcel(address='fs/fs/boats',\n",
    "        service_class=OSFS)\n",
    "\n",
    "print(d.hostname)"
   ]
  },
  {
   "cell_type": "code",
   "execution_count": 11,
   "metadata": {},
   "outputs": [
    {
     "name": "stdout",
     "output_type": "stream",
     "text": [
      "Dcel::__init__() self.service=<osfs 'fs/fs/boats'>\n",
      "My barge is WAY faster than your scull.\n",
      "My barge is WAY faster than your scull.\n",
      "My barge is WAY faster than your scull.\n"
     ]
    }
   ],
   "source": [
    "# Dcel write to slice, and flush to storage.\n",
    "\n",
    "from fs.osfs import OSFS\n",
    "d = Dcel(address='fs/fs/boats',\n",
    "        service_class=OSFS)\n",
    "print(d[\"skiff.txt\"])\n",
    "#d[\"skiff.txt\"] = \"My skiff is WAY faster than your scull.\"\n",
    "print(d[\"skiff.txt\"])\n",
    "d[\"skiff.txt\"][3:8] = \"barge\"\n",
    "print(d[\"skiff.txt\"])\n",
    "d[\"skiff.txt\"].flush()\n",
    "#print(d[\"skiff.txt\"])"
   ]
  },
  {
   "cell_type": "code",
   "execution_count": 8,
   "metadata": {},
   "outputs": [
    {
     "name": "stdout",
     "output_type": "stream",
     "text": [
      "My barge is WAY faster than your scull.\n"
     ]
    }
   ],
   "source": [
    "e = Dcel(address='fs/fs/boats',\n",
    "        service_class=OSFS)\n",
    "print(e[\"skiff.txt\"])"
   ]
  },
  {
   "cell_type": "code",
   "execution_count": 2,
   "metadata": {},
   "outputs": [
    {
     "name": "stdout",
     "output_type": "stream",
     "text": [
      "<__main__.Dcel object at 0x7fed70261c10>\n",
      "<__main__.Dcel object at 0x7fed70261c10>\n",
      "<__main__.DcelReference object at 0x7fed70261c40>\n",
      "<__main__.Dcel object at 0x7fed70261c10>\n",
      "['one', 'two']\n",
      "grand opening\n",
      "<__main__.DcelReference object at 0x7fed70261c40>\n"
     ]
    }
   ],
   "source": [
    "# Dcel Referencing vs. Re-binding\n",
    "\n",
    "# re-binding\n",
    "a = Dcel(\"grand opening\")\n",
    "b = Dcel(a)\n",
    "\n",
    "print(repr(a))\n",
    "print(repr(b))\n",
    "assert(a is b)\n",
    "\n",
    "# referencing\n",
    "c = ~a\n",
    "print(repr(c))\n",
    "print(repr(~c))\n",
    "\n",
    "somedict = { \"one\": a,\n",
    "             \"two\": c\n",
    "           }\n",
    "\n",
    "from DictFS import DictFS\n",
    "d = Dcel(address=somedict, service_class=DictFS)\n",
    "\n",
    "print(d.listdir())\n",
    "print(d['two'])\n",
    "print(repr(d['two']._value))\n",
    "\n"
   ]
  },
  {
   "cell_type": "code",
   "execution_count": 4,
   "metadata": {},
   "outputs": [
    {
     "name": "stdout",
     "output_type": "stream",
     "text": [
      "x: <__main__.Dcel object at 0x7fed686ec550> map: None\n",
      "z: <__main__.Dcel object at 0x7fed702da6a0> map: None\n",
      "x: <__main__.Dcel object at 0x7fed686ec550> map: {7: (None, <__main__.Dcel object at 0x7fed702da6a0>)}\n",
      "z: <__main__.Dcel object at 0x7fed702da6a0> map: {0: (2, <__main__.Dcel object at 0x7fed68641880>), 3: (9, <__main__.Dcel object at 0x7fed68641c10>)}\n",
      "\n",
      "\n",
      "x: <__main__.Dcel object at 0x7fed686ec550> map: {7: (None, <__main__.Dcel object at 0x7fed702da6a0>)}\n",
      "z: <__main__.Dcel object at 0x7fed702da6a0> map: {0: (2, <__main__.Dcel object at 0x7fed68641880>), 3: (9, <__main__.Dcel object at 0x7fed68641c10>)}\n",
      "w: <__main__.Dcel object at 0x7fed68641c10> map: {3: (5, <__main__.Dcel object at 0x7fed700a6160>), 9: (11, <__main__.Dcel object at 0x7fed7023afa0>)}\n",
      "v: <__main__.Dcel object at 0x7fed700a6160> map: None\n",
      "once upover an XXXcapaDumpling to the supermarket...\n"
     ]
    }
   ],
   "source": [
    "# Dcel slice test.\n",
    "\n",
    "x = Dcel('once upon a time in the lost land...')\n",
    "z = x[7:]\n",
    "print(f\"x: {repr(x)} map: {x._map}\")\n",
    "print(f\"z: {repr(z)} map: {z._map}\")\n",
    "z.value = 'on a trip to the supermarket...'\n",
    "t = z[0:2]\n",
    "t.value = \"over\"\n",
    "w = z[3:9]\n",
    "w.value = \"an excapade\"\n",
    "print(f\"x: {repr(x)} map: {x._map}\")\n",
    "print(f\"z: {repr(z)} map: {z._map}\")\n",
    "print('\\n')\n",
    "v = w[3:5]\n",
    "v.value = \"XXX\"\n",
    "u = w[9:11]\n",
    "u.value = \"Dumpling\"\n",
    "\n",
    "# assert the map references cascade one to the next\n",
    "print(f\"x: {repr(x)} map: {x._map}\")\n",
    "print(f\"z: {repr(z)} map: {z._map}\")\n",
    "print(f\"w: {repr(w)} map: {w._map}\")\n",
    "print(f\"v: {repr(v)} map: {v._map}\")\n",
    "\n",
    "# this should print with no errors\n",
    "# and the sentence should be \"once upon an Xcapade to the supermarket...\"\n",
    "print(x)\n"
   ]
  },
  {
   "cell_type": "code",
   "execution_count": 5,
   "metadata": {},
   "outputs": [
    {
     "name": "stdout",
     "output_type": "stream",
     "text": [
      "once upover an XXXcapaDumpling to the supermarket...\n"
     ]
    }
   ],
   "source": [
    "print(x)"
   ]
  },
  {
   "cell_type": "code",
   "execution_count": 12,
   "metadata": {
    "scrolled": false
   },
   "outputs": [
    {
     "name": "stdout",
     "output_type": "stream",
     "text": [
      "over an XXXcapaDumpling to the supermarket...\n",
      "once upover an XXXcapaDumpling to the supermarket...\n",
      "an XXXcapaDumpling\n",
      "x: once upover an XXXcapaDumpling to the supermarket...\n",
      "{7: (None, <__main__.Dcel object at 0x7fc168355cd0>)}\n",
      "{0: (2, <__main__.Dcel object at 0x7fc151f15940>), 3: (9, <__main__.Dcel object at 0x7fc152080ac0>)}\n",
      "{3: (5, <__main__.Dcel object at 0x7fc1681f1490>), 9: (11, <__main__.Dcel object at 0x7fc152080df0>)}\n",
      "\n",
      "\n"
     ]
    },
    {
     "ename": "AttributeError",
     "evalue": "'Dcel' object has no attribute 'address'",
     "output_type": "error",
     "traceback": [
      "\u001b[0;31m---------------------------------------------------------------------------\u001b[0m",
      "\u001b[0;31mAttributeError\u001b[0m                            Traceback (most recent call last)",
      "Input \u001b[0;32mIn [12]\u001b[0m, in \u001b[0;36m<cell line: 12>\u001b[0;34m()\u001b[0m\n\u001b[1;32m     10\u001b[0m \u001b[38;5;28mprint\u001b[39m(w\u001b[38;5;241m.\u001b[39m_map)\n\u001b[1;32m     11\u001b[0m \u001b[38;5;28mprint\u001b[39m(\u001b[38;5;124m\"\u001b[39m\u001b[38;5;130;01m\\n\u001b[39;00m\u001b[38;5;124m\"\u001b[39m)\n\u001b[0;32m---> 12\u001b[0m \u001b[38;5;28mprint\u001b[39m(\u001b[43mx\u001b[49m\u001b[38;5;241;43m.\u001b[39;49m\u001b[43maddress\u001b[49m)\n",
      "\u001b[0;31mAttributeError\u001b[0m: 'Dcel' object has no attribute 'address'"
     ]
    }
   ],
   "source": [
    "\n",
    "#z.value = 'on a trip to the supermarket...'\n",
    "\n",
    "print(z)\n",
    "print(x)\n",
    "\n",
    "print(w)\n",
    "print(f\"x: {x}\")\n",
    "print(x._map)\n",
    "print(z._map)\n",
    "print(w._map)\n",
    "print(\"\\n\")\n",
    "print(x.address)"
   ]
  },
  {
   "cell_type": "code",
   "execution_count": 13,
   "metadata": {},
   "outputs": [
    {
     "name": "stdout",
     "output_type": "stream",
     "text": [
      "<__main__.Dcel object at 0x7fc16834df10>\n",
      "<__main__.DcelReference object at 0x7fc16834f190>\n",
      "<__main__.Dcel object at 0x7fc16834df10>\n"
     ]
    }
   ],
   "source": [
    "# Test Dcel Reference Inversion\n",
    "\n",
    "d = Dcel(\"hello\")\n",
    "dref = ~d\n",
    "drefd = ~dref\n",
    "\n",
    "print(f\"{repr(d)}\")\n",
    "print(f\"{repr(dref)}\")\n",
    "print(f\"{repr(drefd)}\")\n",
    "\n",
    "assert(d is drefd)"
   ]
  },
  {
   "cell_type": "code",
   "execution_count": 14,
   "metadata": {},
   "outputs": [
    {
     "ename": "TypeError",
     "evalue": "None",
     "output_type": "error",
     "traceback": [
      "\u001b[0;31m---------------------------------------------------------------------------\u001b[0m",
      "\u001b[0;31mTypeError\u001b[0m                                 Traceback (most recent call last)",
      "Input \u001b[0;32mIn [3]\u001b[0m, in \u001b[0;36mDcel.__getitem__\u001b[0;34m(self, key)\u001b[0m\n\u001b[1;32m    379\u001b[0m \u001b[38;5;28;01mtry\u001b[39;00m:\n\u001b[1;32m    380\u001b[0m     \u001b[38;5;66;03m# return child if already cached\u001b[39;00m\n\u001b[1;32m    381\u001b[0m     \u001b[38;5;66;03m# in Dcel's internal _dir\u001b[39;00m\n\u001b[0;32m--> 382\u001b[0m     \u001b[38;5;28;01mreturn\u001b[39;00m \u001b[38;5;28;43mself\u001b[39;49m\u001b[38;5;241;43m.\u001b[39;49m\u001b[43m_dir\u001b[49m\u001b[43m[\u001b[49m\u001b[43mkey\u001b[49m\u001b[43m]\u001b[49m\n\u001b[1;32m    383\u001b[0m \u001b[38;5;28;01mexcept\u001b[39;00m \u001b[38;5;167;01mKeyError\u001b[39;00m:\n\u001b[1;32m    384\u001b[0m     \u001b[38;5;66;03m# otherwise, add child to Dcel's _dir\u001b[39;00m\n\u001b[1;32m    385\u001b[0m     \u001b[38;5;66;03m# same code as further above.\u001b[39;00m\n",
      "\u001b[0;31mTypeError\u001b[0m: 'NoneType' object is not subscriptable",
      "\nDuring handling of the above exception, another exception occurred:\n",
      "\u001b[0;31mTypeError\u001b[0m                                 Traceback (most recent call last)",
      "Input \u001b[0;32mIn [14]\u001b[0m, in \u001b[0;36m<cell line: 7>\u001b[0;34m()\u001b[0m\n\u001b[1;32m      3\u001b[0m \u001b[38;5;28;01mfrom\u001b[39;00m \u001b[38;5;21;01mfs\u001b[39;00m\u001b[38;5;21;01m.\u001b[39;00m\u001b[38;5;21;01mosfs\u001b[39;00m \u001b[38;5;28;01mimport\u001b[39;00m OSFS\n\u001b[1;32m      4\u001b[0m d \u001b[38;5;241m=\u001b[39m Dcel(address\u001b[38;5;241m=\u001b[39m\u001b[38;5;124m'\u001b[39m\u001b[38;5;124mfs/fs/boats\u001b[39m\u001b[38;5;124m'\u001b[39m,\n\u001b[1;32m      5\u001b[0m         service_class\u001b[38;5;241m=\u001b[39mOSFS)\n\u001b[0;32m----> 7\u001b[0m \u001b[38;5;28;01mfor\u001b[39;00m item \u001b[38;5;129;01min\u001b[39;00m d:\n\u001b[1;32m      8\u001b[0m     \u001b[38;5;28mprint\u001b[39m(item)\n",
      "Input \u001b[0;32mIn [3]\u001b[0m, in \u001b[0;36mDcel.__getitem__\u001b[0;34m(self, key)\u001b[0m\n\u001b[1;32m    397\u001b[0m         \u001b[38;5;28;01mraise\u001b[39;00m \u001b[38;5;167;01mKeyError\u001b[39;00m(key)\n\u001b[1;32m    398\u001b[0m \u001b[38;5;28;01mexcept\u001b[39;00m \u001b[38;5;167;01mTypeError\u001b[39;00m:\n\u001b[0;32m--> 399\u001b[0m     \u001b[38;5;28;01mraise\u001b[39;00m \u001b[38;5;167;01mTypeError\u001b[39;00m(\u001b[38;5;28mself\u001b[39m\u001b[38;5;241m.\u001b[39m_dir)\n",
      "\u001b[0;31mTypeError\u001b[0m: None"
     ]
    }
   ],
   "source": [
    "# Test 'in' operator with file system backing.\n",
    "\n",
    "from fs.osfs import OSFS\n",
    "d = Dcel(address='fs/fs/boats',\n",
    "        service_class=OSFS)\n",
    "\n",
    "for item in d:\n",
    "    print(item)"
   ]
  },
  {
   "cell_type": "code",
   "execution_count": 5,
   "metadata": {},
   "outputs": [
    {
     "name": "stdout",
     "output_type": "stream",
     "text": [
      "h\n",
      "e\n",
      "l\n",
      "l\n",
      "o\n"
     ]
    }
   ],
   "source": [
    "# Test 'in' operator with str initialization.\n",
    "# The Dcel::__iter__() method should catch this.\n",
    "a = Dcel(\"hello\")\n",
    "for each in a:\n",
    "    print(each)"
   ]
  },
  {
   "cell_type": "code",
   "execution_count": 14,
   "metadata": {},
   "outputs": [
    {
     "name": "stdout",
     "output_type": "stream",
     "text": [
      "1\n",
      "2\n",
      "3\n"
     ]
    }
   ],
   "source": [
    "# Test 'in' operator with list initialization.\n",
    "\n",
    "a = Dcel([1,2,3])\n",
    "for i in a:\n",
    "    print(i)"
   ]
  },
  {
   "cell_type": "code",
   "execution_count": 99,
   "metadata": {},
   "outputs": [],
   "source": [
    "# for JSONEncoder see DcelJSONEncoder notebook."
   ]
  },
  {
   "cell_type": "code",
   "execution_count": 25,
   "metadata": {},
   "outputs": [
    {
     "name": "stdout",
     "output_type": "stream",
     "text": [
      "123456\n",
      "6\n"
     ]
    }
   ],
   "source": [
    "# bytes encoder playground\n",
    "\n",
    "a = \"123\".encode(\"utf-8\")\n",
    "b = bytes(\"456\".encode(\"utf-8\"))\n",
    "a += b\n",
    "print(a.decode('utf-8'))\n",
    "print(len(a))"
   ]
  },
  {
   "cell_type": "code",
   "execution_count": 62,
   "metadata": {},
   "outputs": [
    {
     "name": "stdout",
     "output_type": "stream",
     "text": [
      "['var', 'hosts', 'types', 'etc', 'var', 'hosts', 'types', 'etc', 'var', 'hosts', 'types', 'etc', 'cherries.html.txt', 'apples.txt', 'skiff.txt', 'junk.txt', 'catamaran.txt', 'var', 'hosts', 'types', 'etc']\n",
      "['ssh', 'fstab', 'ssh', 'fstab', 'ssh', 'fstab', 'ssh', 'fstab']\n"
     ]
    }
   ],
   "source": [
    "# Test Dcel with formula and MulticelSeqFS\n",
    "\n",
    "from fs.osfs import OSFS\n",
    "from MulticelSeqFS import MulticelSeqFS\n",
    "\n",
    "def globstar(a):\n",
    "    items = [a[ea] for ea in a.listdir()]\n",
    "    return items\n",
    "\n",
    "a = Dcel(address='fs/fs', \n",
    "         service_class=OSFS)\n",
    "b = Dcel(formula=globstar, args=[~a])\n",
    "c = Dcel(address=b,\n",
    "         service_class=MulticelSeqFS)\n",
    "\n",
    "print(c.listdir())\n",
    "print(c['etc'].listdir())"
   ]
  },
  {
   "cell_type": "code",
   "execution_count": 60,
   "metadata": {},
   "outputs": [
    {
     "name": "stdout",
     "output_type": "stream",
     "text": [
      "True\n",
      "\n",
      "# # Cosm / Etc / FSTab\n",
      "\n",
      "# the .cosm/etc/fstab used by cburn is shared between hosts. The concept of 'localhost' is centric to a generic host model. A file url is relative to the generic host model, whereas a relative file path is relative to the working directory of cloudburner at runtime on each host.\n",
      "\n",
      "# experimental: include a hostname in the 'file://' url to limit the scope of a filepath to a specific host.\n",
      "\n",
      "# experimental: proxy the 'file' protocol and allow subdomain syntax to specify shares. The path component is relative to the share.\n",
      "\n",
      "# idea: make filepaths relative to the fstab's location, ie: for ./.cosm/etc/fstab the relative root is ../../../\n",
      "\n",
      "\n",
      "\n",
      "file://fs2.localhost/  {cburnuser}/example/  cburnfs user,shortid=f2,idcard=localuser 0 0\n",
      "file://fs.localhost    {cburnuser}/example/  cburnfs user,shortid=fs,idcard=localuser 0 0\n",
      "file://fs3.localhost/  {cburnuser}/example/  cburnfs user,shortid=f3,idcard=localuser 0 0\n",
      "file://cburnwebui.localhost/  {cburnuser}/example/  cburnfs nouser,idcard=localuser 0 0\n",
      "\n",
      "# mntopt nouser keeps the mountpoint out of the user interface and should be used for the ui overlay only.\n",
      "\n"
     ]
    }
   ],
   "source": [
    "from fs.osfs import OSFS\n",
    "\n",
    "q = Dcel(address='fs/fs', \n",
    "         service_class=OSFS\n",
    "        )\n",
    "print(q.isdir())\n",
    "print(q.value)\n",
    "print(q['.cosm/etc/fstab'].value)\n",
    "#print(q['.cosm/etc/fstab'].readbytes('.'))"
   ]
  },
  {
   "cell_type": "code",
   "execution_count": 6,
   "metadata": {},
   "outputs": [
    {
     "name": "stdout",
     "output_type": "stream",
     "text": [
      "True\n",
      "{'one': '1'}\n",
      "1\n"
     ]
    }
   ],
   "source": [
    "from DictFS import DictFS\n",
    "\n",
    "a = Dcel(address={'one':'1'}, \n",
    "         service_class=DictFS\n",
    "        )\n",
    "print(a.isdir())\n",
    "print(a.value)\n",
    "print(a['one'].value)"
   ]
  },
  {
   "cell_type": "code",
   "execution_count": 7,
   "metadata": {},
   "outputs": [],
   "source": [
    "b = Dcel(address=a, \n",
    "         service_class=DictFS\n",
    "        )"
   ]
  },
  {
   "cell_type": "code",
   "execution_count": 8,
   "metadata": {
    "scrolled": true
   },
   "outputs": [
    {
     "data": {
      "text/plain": [
       "dict"
      ]
     },
     "execution_count": 8,
     "metadata": {},
     "output_type": "execute_result"
    }
   ],
   "source": [
    "type(a.value) #'one',namespaces=['dcel']).raw"
   ]
  },
  {
   "cell_type": "code",
   "execution_count": 7,
   "metadata": {},
   "outputs": [
    {
     "name": "stdout",
     "output_type": "stream",
     "text": [
      "<class 'str'>\n",
      "/\n",
      "<class 'dict'>\n",
      "<class 'dict'>\n",
      "<DictFS.DictFS object at 0x12a3fec70>\n"
     ]
    }
   ],
   "source": [
    "print(type(b.address))\n",
    "print(b.address)\n",
    "print(type(b.value))\n",
    "print(type(b._value))\n",
    "print(b.service)"
   ]
  },
  {
   "cell_type": "code",
   "execution_count": 8,
   "metadata": {},
   "outputs": [
    {
     "data": {
      "text/plain": [
       "dict_items([(1, 1)])"
      ]
     },
     "execution_count": 8,
     "metadata": {},
     "output_type": "execute_result"
    }
   ],
   "source": [
    "{1:1}.items()"
   ]
  },
  {
   "cell_type": "code",
   "execution_count": 10,
   "metadata": {},
   "outputs": [
    {
     "name": "stdout",
     "output_type": "stream",
     "text": [
      "6\n",
      "hello\n",
      "9\n"
     ]
    }
   ],
   "source": [
    "def addem(a,b,msg=None):\n",
    "    if msg:\n",
    "        print(msg)\n",
    "    return a+b\n",
    "\n",
    "b = Dcel(value=2)\n",
    "c = Dcel(value=1)\n",
    "d = Dcel(formula=addem,args=[c,b])\n",
    "e = Dcel(formula=addem,args=[d,d])\n",
    "f = Dcel(formula=addem,args=[d,e],kwargs={'msg':'hello'})\n",
    "\n",
    "print(e.value)\n",
    "b.args = [3]\n",
    "print(f.value)"
   ]
  },
  {
   "cell_type": "code",
   "execution_count": 17,
   "metadata": {},
   "outputs": [
    {
     "name": "stdout",
     "output_type": "stream",
     "text": [
      "hi there.\n"
     ]
    }
   ],
   "source": [
    "def say_hi():\n",
    "    return(\"hi there.\")\n",
    "\n",
    "g = Dcel(formula=say_hi, args=[])\n",
    "\n",
    "print(g.value)"
   ]
  },
  {
   "cell_type": "code",
   "execution_count": 5,
   "metadata": {
    "scrolled": true
   },
   "outputs": [
    {
     "data": {
      "text/plain": [
       "__main__.Dcel"
      ]
     },
     "execution_count": 5,
     "metadata": {},
     "output_type": "execute_result"
    }
   ],
   "source": [
    "def argumentor(x):\n",
    "    return x\n",
    "\n",
    "class dc:\n",
    "    def __init__(self, dcel):\n",
    "        self._dcel = dcel\n",
    "    \n",
    "bb = ~b\n",
    "type(argumentor(~bb))"
   ]
  },
  {
   "cell_type": "code",
   "execution_count": 6,
   "metadata": {},
   "outputs": [
    {
     "data": {
      "text/plain": [
       "2"
      ]
     },
     "execution_count": 6,
     "metadata": {},
     "output_type": "execute_result"
    }
   ],
   "source": [
    "g = Dcel(formula=argumentor, \n",
    "         args=[b])\n",
    "g.value"
   ]
  },
  {
   "cell_type": "code",
   "execution_count": 7,
   "metadata": {},
   "outputs": [],
   "source": [
    "from fs.osfs import OSFS\n",
    "from DictFS import DictFS\n",
    "\n",
    "d = Dcel(service_class=OSFS, \n",
    "         address='fs'\n",
    "        )\n",
    "\n",
    "d2 = Dcel(service_class=DictFS, \n",
    "         address={'fruit': {\n",
    "                'cherries.html.txt': '<b>Sakuranbo</b>'\n",
    "                    },\n",
    "                   'boats':'skiff'\n",
    "                  }\n",
    "        )"
   ]
  },
  {
   "cell_type": "code",
   "execution_count": 8,
   "metadata": {
    "scrolled": true
   },
   "outputs": [
    {
     "data": {
      "text/plain": [
       "'<b>Sakuranbo</b>'"
      ]
     },
     "execution_count": 8,
     "metadata": {},
     "output_type": "execute_result"
    }
   ],
   "source": [
    "a = d2.path_lookup('fruit/cherries.html.txt')\n",
    "a.value"
   ]
  },
  {
   "cell_type": "code",
   "execution_count": 9,
   "metadata": {},
   "outputs": [
    {
     "data": {
      "text/plain": [
       "'<b>Sakuranbo</b>'"
      ]
     },
     "execution_count": 9,
     "metadata": {},
     "output_type": "execute_result"
    }
   ],
   "source": [
    "d2['fruit']['cherries.html.txt'].value"
   ]
  },
  {
   "cell_type": "code",
   "execution_count": 10,
   "metadata": {},
   "outputs": [],
   "source": [
    "d2['fruit']['cherries.html.txt'].value = 'hello'"
   ]
  },
  {
   "cell_type": "code",
   "execution_count": 14,
   "metadata": {},
   "outputs": [],
   "source": [
    "d['fruit']['apples.txt'].value = 'red'"
   ]
  },
  {
   "cell_type": "code",
   "execution_count": 7,
   "metadata": {},
   "outputs": [
    {
     "data": {
      "text/plain": [
       "'red'"
      ]
     },
     "execution_count": 7,
     "metadata": {},
     "output_type": "execute_result"
    }
   ],
   "source": [
    "d['fruit']['apples.txt'].value"
   ]
  },
  {
   "cell_type": "code",
   "execution_count": 8,
   "metadata": {
    "scrolled": false
   },
   "outputs": [
    {
     "name": "stdout",
     "output_type": "stream",
     "text": [
      "{'basic': {'name': 'fruit', 'is_dir': True}, 'dcel': {'hosts': ['localhost']}}\n",
      "['apples.txt', 'cherries.html.txt']\n",
      "<i>sakuranbo</i> means <b>cherries</b>\n",
      "\n",
      "{'basic': {'name': 'fruit', 'is_dir': True}, 'dcel': {'hosts': ['localhost']}}\n",
      "['cherries.html.txt']\n",
      "hello\n"
     ]
    }
   ],
   "source": [
    "for ea in d,d2:\n",
    "    print(ea['fruit'].getinfo().raw)\n",
    "    print(ea['fruit'].listdir())\n",
    "    print(ea['fruit']['cherries.html.txt'].value)"
   ]
  },
  {
   "cell_type": "code",
   "execution_count": 9,
   "metadata": {
    "scrolled": true
   },
   "outputs": [
    {
     "name": "stdout",
     "output_type": "stream",
     "text": [
      "{'basic': {'name': '', 'is_dir': True}, 'dcel': {'hosts': ['localhost']}}\n",
      "['fruit', 'boats', '.cosm', 'test.txt', '.git']\n",
      "None\n",
      "{'basic': {'name': '', 'is_dir': True}, 'dcel': {'hosts': ['localhost']}}\n",
      "['fruit', 'boats']\n",
      "{'fruit': {'cherries.html.txt': 'hello'}, 'boats': 'skiff'}\n"
     ]
    }
   ],
   "source": [
    "for ea in d,d2:\n",
    "    print(ea.getinfo().raw)\n",
    "    print(ea.listdir())\n",
    "    print(ea.value)\n",
    "\n"
   ]
  },
  {
   "cell_type": "code",
   "execution_count": 14,
   "metadata": {
    "scrolled": false
   },
   "outputs": [
    {
     "name": "stdout",
     "output_type": "stream",
     "text": [
      "---\n",
      "'raygan.com:80'\n",
      "ParseResult(protocol='sshfs', username=None, password=None, resource='raygan.com:80/path', params={}, path=None)\n",
      "---\n",
      "'localhost:80'\n",
      "ParseResult(protocol='http', username=None, password=None, resource='localhost:80/path;parameters', params={'query': 'argument#fragment'}, path=None)\n",
      "---\n",
      "'localhost'\n",
      "ParseResult(protocol='file', username=None, password=None, resource='localhost/path', params={}, path=None)\n",
      "---\n",
      "''\n"
     ]
    },
    {
     "ename": "ParseError",
     "evalue": "'fs' is not a fs2 url",
     "output_type": "error",
     "traceback": [
      "\u001b[0;31m---------------------------------------------------------------------------\u001b[0m",
      "\u001b[0;31mParseError\u001b[0m                                Traceback (most recent call last)",
      "\u001b[0;32m<ipython-input-14-2f44555fcfbe>\u001b[0m in \u001b[0;36m<module>\u001b[0;34m\u001b[0m\n\u001b[1;32m     12\u001b[0m     \u001b[0mparsed\u001b[0m \u001b[0;34m=\u001b[0m \u001b[0murlparse\u001b[0m\u001b[0;34m(\u001b[0m\u001b[0mu\u001b[0m\u001b[0;34m)\u001b[0m\u001b[0;34m.\u001b[0m\u001b[0mnetloc\u001b[0m\u001b[0;34m\u001b[0m\u001b[0;34m\u001b[0m\u001b[0m\n\u001b[1;32m     13\u001b[0m     \u001b[0mprint\u001b[0m\u001b[0;34m(\u001b[0m\u001b[0;34m'\\''\u001b[0m\u001b[0;34m+\u001b[0m\u001b[0mparsed\u001b[0m\u001b[0;34m+\u001b[0m\u001b[0;34m'\\''\u001b[0m\u001b[0;34m)\u001b[0m\u001b[0;34m\u001b[0m\u001b[0;34m\u001b[0m\u001b[0m\n\u001b[0;32m---> 14\u001b[0;31m     \u001b[0mfsparsed\u001b[0m \u001b[0;34m=\u001b[0m \u001b[0mparse\u001b[0m\u001b[0;34m(\u001b[0m\u001b[0mu\u001b[0m\u001b[0;34m)\u001b[0m\u001b[0;34m\u001b[0m\u001b[0;34m\u001b[0m\u001b[0m\n\u001b[0m\u001b[1;32m     15\u001b[0m     \u001b[0mprint\u001b[0m\u001b[0;34m(\u001b[0m\u001b[0mfsparsed\u001b[0m\u001b[0;34m)\u001b[0m\u001b[0;34m\u001b[0m\u001b[0;34m\u001b[0m\u001b[0m\n\u001b[1;32m     16\u001b[0m \u001b[0;34m\u001b[0m\u001b[0m\n",
      "\u001b[0;32m/var/mobile/Containers/Data/Application/9DBD9C20-8AA4-43F7-95BF-0F6447F4055C/Library/lib/python3.9/site-packages/fs/opener/parse.py\u001b[0m in \u001b[0;36mparse_fs_url\u001b[0;34m(fs_url)\u001b[0m\n\u001b[1;32m     76\u001b[0m     \u001b[0mmatch\u001b[0m \u001b[0;34m=\u001b[0m \u001b[0m_RE_FS_URL\u001b[0m\u001b[0;34m.\u001b[0m\u001b[0mmatch\u001b[0m\u001b[0;34m(\u001b[0m\u001b[0mfs_url\u001b[0m\u001b[0;34m)\u001b[0m\u001b[0;34m\u001b[0m\u001b[0;34m\u001b[0m\u001b[0m\n\u001b[1;32m     77\u001b[0m     \u001b[0;32mif\u001b[0m \u001b[0mmatch\u001b[0m \u001b[0;32mis\u001b[0m \u001b[0;32mNone\u001b[0m\u001b[0;34m:\u001b[0m\u001b[0;34m\u001b[0m\u001b[0;34m\u001b[0m\u001b[0m\n\u001b[0;32m---> 78\u001b[0;31m         \u001b[0;32mraise\u001b[0m \u001b[0mParseError\u001b[0m\u001b[0;34m(\u001b[0m\u001b[0;34m\"{!r} is not a fs2 url\"\u001b[0m\u001b[0;34m.\u001b[0m\u001b[0mformat\u001b[0m\u001b[0;34m(\u001b[0m\u001b[0mfs_url\u001b[0m\u001b[0;34m)\u001b[0m\u001b[0;34m)\u001b[0m\u001b[0;34m\u001b[0m\u001b[0;34m\u001b[0m\u001b[0m\n\u001b[0m\u001b[1;32m     79\u001b[0m \u001b[0;34m\u001b[0m\u001b[0m\n\u001b[1;32m     80\u001b[0m     \u001b[0mfs_name\u001b[0m\u001b[0;34m,\u001b[0m \u001b[0mcredentials\u001b[0m\u001b[0;34m,\u001b[0m \u001b[0murl1\u001b[0m\u001b[0;34m,\u001b[0m \u001b[0murl2\u001b[0m\u001b[0;34m,\u001b[0m \u001b[0mpath\u001b[0m \u001b[0;34m=\u001b[0m \u001b[0mmatch\u001b[0m\u001b[0;34m.\u001b[0m\u001b[0mgroups\u001b[0m\u001b[0;34m(\u001b[0m\u001b[0;34m)\u001b[0m\u001b[0;34m\u001b[0m\u001b[0;34m\u001b[0m\u001b[0m\n",
      "\u001b[0;31mParseError\u001b[0m: 'fs' is not a fs2 url"
     ]
    }
   ],
   "source": [
    "from urllib.parse import urlparse\n",
    "from fs.opener import parse\n",
    "\n",
    "urls = ['sshfs://raygan.com:80/path',\n",
    "       'http://localhost:80/path;parameters?query=argument#fragment',\n",
    "       'file://localhost/path',\n",
    "        'fs'\n",
    "       ]\n",
    "\n",
    "for u in urls:\n",
    "    print('---')\n",
    "    parsed = urlparse(u).netloc\n",
    "    print('\\''+parsed+'\\'')\n",
    "    fsparsed = parse(u)\n",
    "    print(fsparsed)\n",
    "    \n"
   ]
  },
  {
   "cell_type": "code",
   "execution_count": 3,
   "metadata": {},
   "outputs": [
    {
     "name": "stdout",
     "output_type": "stream",
     "text": [
      "blue\n"
     ]
    }
   ],
   "source": [
    "class Dtest3:\n",
    "    def __init__(self):\n",
    "        self.address = 'blue'\n",
    "    def getinfo(self,addr=None):\n",
    "        if addr is None:\n",
    "            addr = self.address\n",
    "        print(addr)\n",
    "\n",
    "a = Dtest3()\n",
    "a.getinfo()"
   ]
  },
  {
   "cell_type": "code",
   "execution_count": 2,
   "metadata": {
    "scrolled": true
   },
   "outputs": [],
   "source": [
    "class Dtest2:\n",
    "    def __init__(self):\n",
    "        pass\n",
    "    \n",
    "    @property\n",
    "    def value(self):\n",
    "        try: \n",
    "            return self._value\n",
    "        except:\n",
    "            print('no dice')\n",
    "            return ''"
   ]
  },
  {
   "cell_type": "code",
   "execution_count": 4,
   "metadata": {},
   "outputs": [
    {
     "name": "stdout",
     "output_type": "stream",
     "text": [
      "no dice\n"
     ]
    },
    {
     "data": {
      "text/plain": [
       "''"
      ]
     },
     "execution_count": 4,
     "metadata": {},
     "output_type": "execute_result"
    }
   ],
   "source": [
    "a = Dtest2()\n",
    "a.value"
   ]
  },
  {
   "cell_type": "code",
   "execution_count": 16,
   "metadata": {},
   "outputs": [],
   "source": [
    "# Init Logic\n",
    "\n",
    "class Dtest:\n",
    "    def __init__(self,\n",
    "                 address = None,\n",
    "                 service = None,\n",
    "                 args = None,\n",
    "                 formula = None,\n",
    "                 value = None,\n",
    "                 service_class = None,\n",
    "                 service_args = None,\n",
    "                 # obsolete\n",
    "                 hostname = 'example',\n",
    "                ):\n",
    "        if service and not address is None:\n",
    "            print('addr-service pair')\n",
    "        elif service_class and not address is None:\n",
    "            print('Create new service object')\n",
    "            if service_args:\n",
    "                print('service args applied')\n",
    "        if formula and args:\n",
    "            print('formula-args pair')\n",
    "        elif formula:\n",
    "            print('formula without args')\n",
    "        if not value is None:\n",
    "            print('value explicitly set')\n",
    "            self._value = value\n",
    "        "
   ]
  },
  {
   "cell_type": "code",
   "execution_count": 18,
   "metadata": {},
   "outputs": [
    {
     "name": "stdout",
     "output_type": "stream",
     "text": [
      "addr-service pair\n",
      "formula-args pair\n",
      "Create new service object\n",
      "service args applied\n",
      "formula without args\n",
      "value explicitly set\n"
     ]
    }
   ],
   "source": [
    "a = Dtest(\n",
    "          service='one',\n",
    "          address='two',\n",
    "          formula='three',\n",
    "          args=[1,2,3,4],\n",
    "          service_args=[1,2,3],\n",
    "         )\n",
    "\n",
    "b = Dtest(\n",
    "          service_class='one',\n",
    "          service_args=[1,2,3],\n",
    "          address='two',\n",
    "          formula='three',\n",
    "          value='',\n",
    "         )\n"
   ]
  },
  {
   "cell_type": "code",
   "execution_count": 4,
   "metadata": {},
   "outputs": [
    {
     "data": {
      "text/plain": [
       "abc.ABCMeta"
      ]
     },
     "execution_count": 4,
     "metadata": {},
     "output_type": "execute_result"
    }
   ],
   "source": [
    "d = Dcel()\n",
    "type(Dcel)\n"
   ]
  },
  {
   "cell_type": "code",
   "execution_count": 3,
   "metadata": {
    "scrolled": true
   },
   "outputs": [
    {
     "name": "stdout",
     "output_type": "stream",
     "text": [
      "hello\n"
     ]
    }
   ],
   "source": [
    "x = None\n",
    "try:\n",
    "    y = x[1]\n",
    "except TypeError:\n",
    "    x = dict()\n",
    "    y = x[1] = 'hello'\n",
    "\n",
    "except KeyError:\n",
    "    y = x[1] = 'hello'\n",
    "\n",
    "print(y)"
   ]
  },
  {
   "cell_type": "code",
   "execution_count": 10,
   "metadata": {},
   "outputs": [],
   "source": [
    "from DictFS import DictFS\n",
    "\n",
    "fsdict = {\".cosm\":\n",
    "          {\"etc\":\n",
    "           {\"fstab\": \"fs.raygan.com / sshfs\"\n",
    "           }\n",
    "          }\n",
    "         }\n",
    "\n",
    "d = Dcel(fsdict,DictFS)\n",
    "\n"
   ]
  },
  {
   "cell_type": "code",
   "execution_count": 5,
   "metadata": {
    "scrolled": true
   },
   "outputs": [
    {
     "name": "stdout",
     "output_type": "stream",
     "text": [
      "<class 'abc.ABCMeta'>\n"
     ]
    }
   ],
   "source": [
    "\n",
    "\n",
    "if str(type(DictFS)) == \"abc.ABCMeta\":\n",
    "    print('OK')\n",
    "    \n",
    "print(str(type(DictFS)))"
   ]
  },
  {
   "cell_type": "code",
   "execution_count": 13,
   "metadata": {},
   "outputs": [],
   "source": [
    "from FileService import FileService\n",
    "from fs.osfs import OSFS\n",
    "\n",
    "d = Dcel('fs',OSFS)"
   ]
  },
  {
   "cell_type": "code",
   "execution_count": 14,
   "metadata": {},
   "outputs": [
    {
     "data": {
      "text/plain": [
       "abc.ABCMeta"
      ]
     },
     "execution_count": 14,
     "metadata": {},
     "output_type": "execute_result"
    }
   ],
   "source": [
    "d.address\n",
    "type(OSFS)"
   ]
  },
  {
   "cell_type": "code",
   "execution_count": 5,
   "metadata": {},
   "outputs": [
    {
     "ename": "AttributeError",
     "evalue": "'Dcel' object has no attribute 'service'",
     "output_type": "error",
     "traceback": [
      "\u001b[0;31m---------------------------------------------------------------------------\u001b[0m",
      "\u001b[0;31mAttributeError\u001b[0m                            Traceback (most recent call last)",
      "\u001b[0;32m<ipython-input-5-757aab7f0a04>\u001b[0m in \u001b[0;36m<module>\u001b[0;34m\u001b[0m\n\u001b[0;32m----> 1\u001b[0;31m \u001b[0md\u001b[0m\u001b[0;34m.\u001b[0m\u001b[0mgetinfo\u001b[0m\u001b[0;34m(\u001b[0m\u001b[0;34m'.cosm/etc/'\u001b[0m\u001b[0;34m)\u001b[0m\u001b[0;34m.\u001b[0m\u001b[0mraw\u001b[0m\u001b[0;34m\u001b[0m\u001b[0;34m\u001b[0m\u001b[0m\n\u001b[0m",
      "\u001b[0;32m<ipython-input-1-d985954f51a1>\u001b[0m in \u001b[0;36mgetinfo\u001b[0;34m(self, path, namespaces)\u001b[0m\n\u001b[1;32m    210\u001b[0m             \u001b[0;32mexcept\u001b[0m\u001b[0;34m:\u001b[0m\u001b[0;34m\u001b[0m\u001b[0;34m\u001b[0m\u001b[0m\n\u001b[1;32m    211\u001b[0m                 \u001b[0mpath\u001b[0m \u001b[0;34m=\u001b[0m \u001b[0;34m'/'\u001b[0m\u001b[0;34m\u001b[0m\u001b[0;34m\u001b[0m\u001b[0m\n\u001b[0;32m--> 212\u001b[0;31m         \u001b[0minfo\u001b[0m \u001b[0;34m=\u001b[0m \u001b[0mself\u001b[0m\u001b[0;34m.\u001b[0m\u001b[0mservice\u001b[0m\u001b[0;34m.\u001b[0m\u001b[0mgetinfo\u001b[0m\u001b[0;34m(\u001b[0m\u001b[0mpath\u001b[0m\u001b[0;34m,\u001b[0m\u001b[0mnamespaces\u001b[0m\u001b[0;34m)\u001b[0m\u001b[0;34m\u001b[0m\u001b[0;34m\u001b[0m\u001b[0m\n\u001b[0m\u001b[1;32m    213\u001b[0m         \u001b[0mhostinfo\u001b[0m \u001b[0;34m=\u001b[0m \u001b[0;34m{\u001b[0m\u001b[0;34m\"dcel\"\u001b[0m\u001b[0;34m:\u001b[0m \u001b[0;34m{\u001b[0m\u001b[0;34m\"hosts\"\u001b[0m\u001b[0;34m:\u001b[0m \u001b[0;34m[\u001b[0m\u001b[0mself\u001b[0m\u001b[0;34m.\u001b[0m\u001b[0mhostname\u001b[0m\u001b[0;34m]\u001b[0m\u001b[0;34m}\u001b[0m\u001b[0;34m}\u001b[0m\u001b[0;34m\u001b[0m\u001b[0;34m\u001b[0m\u001b[0m\n\u001b[1;32m    214\u001b[0m         \u001b[0minfo\u001b[0m\u001b[0;34m.\u001b[0m\u001b[0mraw\u001b[0m \u001b[0;34m=\u001b[0m \u001b[0mself\u001b[0m\u001b[0;34m.\u001b[0m\u001b[0mmergeinfo\u001b[0m\u001b[0;34m(\u001b[0m\u001b[0minfo\u001b[0m\u001b[0;34m.\u001b[0m\u001b[0mraw\u001b[0m\u001b[0;34m,\u001b[0m \u001b[0mhostinfo\u001b[0m\u001b[0;34m)\u001b[0m\u001b[0;34m\u001b[0m\u001b[0;34m\u001b[0m\u001b[0m\n",
      "\u001b[0;31mAttributeError\u001b[0m: 'Dcel' object has no attribute 'service'"
     ]
    }
   ],
   "source": [
    "d.getinfo('.cosm/etc/').raw"
   ]
  },
  {
   "cell_type": "code",
   "execution_count": 6,
   "metadata": {},
   "outputs": [
    {
     "name": "stdout",
     "output_type": "stream",
     "text": [
      "getitem...\n",
      "getitem: key: .cosm\n",
      "getitem: path: /.cosm\n",
      "getitem...\n",
      "getitem: key: etc\n",
      "getitem: path: /.cosm/etc\n"
     ]
    },
    {
     "data": {
      "text/plain": [
       "['fstab']"
      ]
     },
     "execution_count": 6,
     "metadata": {},
     "output_type": "execute_result"
    }
   ],
   "source": [
    "d['.cosm']['etc'].listdir()"
   ]
  }
 ],
 "metadata": {
  "kernelspec": {
   "display_name": "Python 3 (ipykernel)",
   "language": "python",
   "name": "python3"
  },
  "language_info": {
   "codemirror_mode": {
    "name": "ipython",
    "version": 3
   },
   "file_extension": ".py",
   "mimetype": "text/x-python",
   "name": "python",
   "nbconvert_exporter": "python",
   "pygments_lexer": "ipython3",
   "version": "3.10.12"
  }
 },
 "nbformat": 4,
 "nbformat_minor": 2
}
