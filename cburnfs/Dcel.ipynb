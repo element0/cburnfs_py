{
 "cells": [
  {
   "cell_type": "markdown",
   "metadata": {},
   "source": [
    "# Domain Cells\n",
    "\n",
    "The Dcel pattern defines a _domain_ as a coupled data set and storage location [1][2].\n",
    "\n",
    "The Dcel encapsulates a domain in a single, cell-like object with a generized IO interface.\n",
    "\n",
    "The generalized API allows differently typed domains to be recursively chained and nested in a way that a path walker can easily traverse. [3]\n",
    "\n",
    "Also, in a spreadsheet-cell-like fashion, Dcels may contain a formula to generate their value/dataset. The formula may refer to other Dcels, allowing dependency chains which are refreshed when needed.\n",
    "\n",
    "The Dcel uses external modules to provide the formula function and storage service. This enables the Dcel to enclose different data and storage types.\n",
    "\n",
    "### Executable Dcels\n",
    "\n",
    "Dcels may contain an executable. It is not the responsibility of the Dcel class to run such.\n",
    "\n",
    "---\n",
    "1. Data sets of any size and type at a specific storage location.\n",
    "2. Dcels can be overlaid to provide multiple storage locations for a single data set.\n",
    "2. File paths can refer to locations within files regardless of filetype.\n",
    "\n",
    "    \n",
    "\n",
    "\n",
    "## Table of Contents\n",
    "\n",
    "Overview\n",
    "\n",
    "- creating a Dcel\n",
    "- Lazy R Value\n",
    "\n",
    "The Dcel\n",
    "\n",
    "- production instruction\n",
    "- service\n",
    "- stream\n",
    "- map\n",
    "- directory\n",
    "- value\n",
    "- executable\n",
    "\n",
    "API's\n",
    "\n",
    "- pyfilesystem\n",
    "- http-like\n",
    "- string representation\n",
    "- assoc array representation\n",
    "\n",
    "# Overview\n",
    "\n",
    "## Creating a Dcel\n",
    "\n",
    "A Dcel needs a combination of the following to resolve to its `value/dataset`:\n",
    "\n",
    "- formula function with args\n",
    "- service handle\n",
    "- service address\n",
    "- buffer value\n",
    "\n",
    "An optional `formula function`, if present, generates the `value/dataset`. The Dcel stores the value at the `address` served by `service`. \n",
    "\n",
    "On access, the `service` takes the `address` and serves the `value`. The Dcel refreshes stale values via the formula function.\n",
    "\n",
    "The `buffer value` can be set explicitly without formula or service. In this case the Dcel storage will be temporary.\n",
    "\n",
    "### Service Address\n",
    "\n",
    "The `address` is a base path. The service module API uses path strings to identify items within `value/dataset`. Descendants within the dataset use subpaths with the same service. A Dcel derived from a descendant uses the subpath as its `address`.\n",
    "\n",
    "\n",
    "### Initializing a Dcel\n",
    "    \n",
    "Explicitly constructed with all inputs:\n",
    "\n",
    "    D(formula = fn,\n",
    "      args = [a],\n",
    "      service = serviceobj,\n",
    "      address = serviceaddr)\n",
    "      \n",
    "Constructed with service,address pair:\n",
    "\n",
    "    D(service = serviceob,\n",
    "      address = serviceaddr)\n",
    "      \n",
    "Constructed with function,args pair without a service:\n",
    "      \n",
    "    D(formula = fn,\n",
    "      args = [a])\n",
    "      \n",
    "    # expected to produce a value\n",
    "    # Dcel wrapper wont know\n",
    "    # which service to use.\n",
    "    # service functions will fail\n",
    "    # but value functions succeed.    \n",
    "    \n",
    "Constructed with value only.\n",
    "\n",
    "    D(value = v)\n",
    "    \n",
    "    # explicit buffer value\n",
    "    # implied temporary memory\n",
    "    \n",
    "Constructed with ServiceClass,addr pair:\n",
    "\n",
    "    D(service_class = cls,\n",
    "      address = addr)\n",
    "      \n",
    "The ServiceClass takes a `service_address` and generates a `service` object.\n",
    "\n",
    "The enclosing Dcel's base path `address` is `/`.\n",
    "\n",
    "\n",
    "## R Value\n",
    "\n",
    "The R Value of a dcel is evaluated lazily on access.\n",
    "\n",
    "The Dcel may be chained from other Dcels and may be dependent on the values of other dcels. \n",
    "    \n",
    "A simple value implementation would be:\n",
    "\n",
    "    self.args = [ dcel1, dcel2 ]\n",
    "    def value(self):\n",
    "        return self.function(\n",
    "                *self.args\n",
    "                )\n",
    "                \n",
    "Psuedocode test:\n",
    "\n",
    "    d = Dcel(filesvc,['.'])\n",
    "    e = Dcel(lookupfn,[d,request])\n",
    "    e.value = e.function(*e.args)\n",
    "\n",
    "## Production Instructions\n",
    "    \n",
    "The (addr,service) pair is an example of a production instruction.\n",
    "\n",
    "    d = D(service,[url])\n",
    "    d = D(service,[string])\n",
    "    d = D(service,[number])\n",
    "    d = D(service,[json])\n",
    "\n",
    "The production instruction is a repeatable instruction which can be used to rebuild or replicate the Dcel, and which is responsible for evaluating the dcel to return a value.\n",
    "\n",
    "The python `__repr__()` method may return it?\n",
    "\n",
    "The args to the instructions are re-evaluated on access if they contain dcels.\n",
    "\n",
    "    d = D(func,[d2,d3])\n",
    "    \n",
    "vs.\n",
    "\n",
    "    d = D(func,[1,2])\n",
    "    \n",
    "Which is only re-evaluated if `self._value` is not set.\n",
    "\n",
    "#### Service vs Class\n",
    "\n",
    "The (service,addr) pair:\n",
    "\n",
    "Service could well be a class, and the address could be packaged in an instance of it.\n",
    "\n",
    "For extensibility this could work if the class code is loaded into the program on the fly at runtime.\n",
    "\n",
    "However a microservices approach to \"classes\" within the context of Dcels allows sandboxing. The Dcel methods delegate to a DcelService type which wraps a microservice.\n",
    "\n",
    "### Kinds of Production Instructions\n",
    "\n",
    "- Source\n",
    "- Bind\n",
    "- Find\n",
    "- Transform\n",
    "\n",
    "#### Source\n",
    "\n",
    "    d = D(addr,service)\n",
    "    \n",
    "Set up dcel with an initialized service. The function of the dcel returns the service object. Calls to methods \n",
    "    \n",
    "#### Bind\n",
    "\n",
    "    d = D(targets,bindmethod)\n",
    "    \n",
    "#### Find\n",
    "\n",
    "    d = D(target,lookupmethod,request)\n",
    "    \n",
    "The find instruction, where target should be a 'parent' dcel.\n",
    "    \n",
    "#### Transform\n",
    "\n",
    "    d = D(source,transformmethod,args)\n",
    "    \n",
    "### Generalization\n",
    "\n",
    "    D(target,function,args)\n",
    "    \n",
    "A flexible way of constructing a production instruction would be to create a dictionary or named tuple:\n",
    "\n",
    "    target: 'this',\n",
    "    function: fnobject,\n",
    "    args: array or dict\n",
    "    \n",
    "## Service\n",
    "\n",
    "While the Production Instruction determines the content of the Dcel, the Dcel's Service delivers it.\n",
    "\n",
    "The Service is passed in as a pyfilesystem class, which takes the production value as input and generates an open file system handle.\n",
    "\n",
    "    service = serviceclass(value)\n",
    "    \n",
    "### Service vs Production Instruction\n",
    "\n",
    "Production and service.\n",
    "\n",
    "    a = D(noop,\n",
    "          stringdata,\n",
    "          stringserver)\n",
    "          \n",
    "    a = D(noop,\n",
    "          pathstr,\n",
    "          fileserver)\n",
    "          \n",
    "    a = D(fileserver, # won't work\n",
    "          pathstr,\n",
    "          fileserver) # won't work\n",
    "          \n",
    "The producer and fileserver need to be different. The producer creates an object which is used by the server.\n",
    "\n",
    "    d1 = D(noop,[string1],\n",
    "           stringserver)\n",
    "    d2 = D(noop,[string2],\n",
    "           stringserver)\n",
    "    a = D(concat,\n",
    "          [dcel1,dcel2],\n",
    "          stringserver)\n",
    "            \n",
    "    out = a.readtext()\n",
    "    i = a.getinfo()\n",
    "    child = a[key]\n",
    "    \n",
    "### Reusing Open Services\n",
    "\n",
    "Parent Dcel\n",
    "\n",
    "    prodfn(args) -> servableob\n",
    "    -> serviceclass()\n",
    "    -> serviceob, baseaddr\n",
    "\n",
    "Child Dcel\n",
    "\n",
    "    serviceob.exists(childaddr)\n",
    "    -> sameserviceob, childaddr\n",
    "\n",
    "## Value and Executable\n",
    "\n",
    "The primary value from the production instruction is cached before being passed to the service.\n",
    "\n",
    "The \"value\" of a Dcel can be obtained from the output of `getinfo()` if the service supports the `dcel` namespace.\n",
    "\n",
    "    i = d.getinfo('.',namespaces=['dcel'])\n",
    "    val = i.raw['dcel']['value']\n",
    "\n",
    "Any object, including callables, can be passed from the service. So functions as well as data can be delivered by the service.\n",
    "\n",
    "\n",
    "## Map and Slices (Fragments)\n",
    "\n",
    "The Dcel can have a `_map` property which contains `fragments` or `slices` which have been altered.\n",
    "\n",
    "### Slices (Fragments)\n",
    "\n",
    "    a = Dcel(\"grand opening\")\n",
    "    b = a[6:13] # maps 'opening'\n",
    "    b.value = \"poobah\" # replace 'opening'\n",
    "    print(a)\n",
    "    \n",
    "    > grand poobah\n",
    "\n",
    "\n",
    "### Map on Write\n",
    "\n",
    "\n",
    "\n",
    "\n",
    "## The Dcel API\n",
    "\n",
    "A Dcel has a FS API.\n",
    "\n",
    "    dcel.listdir()\n",
    "    dcel.readbytes()\n",
    "    etc...\n",
    "    \n",
    "A Dcel has a directory surface.\n",
    "\n",
    "    dcel[childkey]\n",
    "\n",
    "A Dcel has a properties surface.\n",
    "\n",
    "    dcel.getinfo(...)\n",
    "    \n",
    "A Dcel has a value.\n",
    "\n",
    "    dcel.value\n",
    "    \n",
    "Dcels can be empty.\n",
    "\n",
    "    \n",
    "## API Interactions\n",
    "\n",
    "How do different API's interact with a Dcel?\n",
    "\n",
    "### Delegation\n",
    "\n",
    "The Dcel provides methods which delegate to the service object. Services are `pyfilesystem` compatable classes.\n",
    "\n",
    "### Production and API\n",
    "\n",
    "A Dcel is essentially a production instruction with a map and a directory. The service is responsible for noticing if the Dcel state is stale.\n",
    "\n",
    "Services provide some or all of the following:\n",
    "\n",
    "__Service__\n",
    "- data for the stream\n",
    "- a map of the stream\n",
    "- a directory of children\n",
    "- private state\n",
    "\n",
    "A service doesn't produce a dcel, it produces the goods that the Dcel delivers.\n",
    "\n",
    "#### Getitem and Lookup\n",
    "\n",
    "The Dcel getitem method tests the service for presence of the item.\n",
    "\n",
    "Uses DcelService.lookup()\n",
    "\n",
    "    baseaddr, addr -> itemaddr\n",
    "\n",
    "The `lookup()` method is required to return an address of an item in such a state that the address can be used to produce a new Dcel instance, using the existing service instance.\n",
    "\n",
    "In this way, lookups and `__getitem__()` calls on the Dcel can be chained.\n",
    "\n",
    "### Service and Environment\n",
    "\n",
    "The service runs inside an environment established by an APath. Services can reference other services and external resources as provided by the APath's `.cosm`.\n",
    "\n",
    "The service object is instantiated within the .cosm environment.\n",
    "\n",
    "\n",
    "### Dcel and Environment\n",
    "\n",
    "The Dcel doesn't contain any APath content from the parent invironment, but may provide some environment from its own data. The dcel is a passive container. The APath requests a '.cosm' from the Dcel and the DcelService looks it up.\n",
    "\n",
    "\n",
    "\n"
   ]
  },
  {
   "cell_type": "code",
   "execution_count": 1,
   "metadata": {},
   "outputs": [],
   "source": [
    "from fs.base import FS\n",
    "from fs.info import Info\n",
    "from fs.errors import NoURL\n",
    "from fs.path import normpath\n",
    "from inspect import isclass, isfunction, ismethod\n",
    "from urllib.parse import urlparse\n",
    "from mergeinfo import mergeinfo\n",
    "\n",
    "DEFAULT_HOST = 'localhost'\n",
    "\n",
    "class DcelReference:\n",
    "    def __init__(self,dcel):\n",
    "        self._dcel = dcel\n",
    "        \n",
    "    def __invert__(self):\n",
    "        return self._dcel\n",
    "    \n",
    "    def __str__(self):\n",
    "        return str(self._dcel)\n",
    "\n",
    "class Dcel(FS):\n",
    "    \n",
    "    def __new__(cls, arg1=None, *args, **kwargs):\n",
    "        if type(arg1) is Dcel:\n",
    "            return arg1\n",
    "        else:\n",
    "            return super().__new__(cls)\n",
    "                \n",
    "    \n",
    "    def __init__(self,\n",
    "                 address = None,\n",
    "                 service = None,\n",
    "                 formula = None,\n",
    "                 args = None,\n",
    "                 value = None,\n",
    "                 service_class = None,\n",
    "                 service_args = None,\n",
    "                 kwargs = None,\n",
    "                ):\n",
    "        try:\n",
    "            \"\"\"\n",
    "            In this case, the Apath\n",
    "            class might be unwrapping\n",
    "            an Apath from a wrapper.\n",
    "            \"\"\"\n",
    "            if self.__inited == True:\n",
    "                return\n",
    "        except AttributeError:\n",
    "            # a new instance.\n",
    "            pass\n",
    "        \n",
    "        super().__init__()\n",
    "        self.__inited = True\n",
    "        \n",
    "        # If the address is a dcel,\n",
    "        # use the dcel's value\n",
    "        # and save the dcel in case\n",
    "        # it needs to be re-evaluated.\n",
    "        \n",
    "        # The transformation-history ivar\n",
    "        # generalizes such dependencies.\n",
    "        \n",
    "        if type(address) is Dcel:\n",
    "            self.transformation_history = address\n",
    "            address = address.value\n",
    "            \n",
    "        if type(address) is slice:\n",
    "            address = address\n",
    "            \n",
    "        if not service is None:\n",
    "            self.service = service\n",
    "            if address:\n",
    "                self.address = address\n",
    "            else:\n",
    "                self.address = \"/\"\n",
    "        elif (service_class and address):\n",
    "            if (isclass(service_class)\n",
    "                or isfunction(service_class)\n",
    "                or ismethod(service_class)):\n",
    "                self.address = \"/\"\n",
    "                try:\n",
    "                    url = urlparse(address)\n",
    "                    hostname = url.netloc\n",
    "                    path = url.path\n",
    "                    if hostname == '':\n",
    "                        hostname = path\n",
    "                except:\n",
    "                    hostname = DEFAULT_HOST\n",
    "                if service_args:\n",
    "                    self.service = service_class(address,**service_args)\n",
    "                else:\n",
    "                    self.service = service_class(address)\n",
    "                self.service.__rooturl = address\n",
    "                \n",
    "        if formula and args:\n",
    "            self.formula = formula\n",
    "            self.args    = args\n",
    "            self.kwargs  = kwargs\n",
    "        elif formula:\n",
    "            self.formula = formula\n",
    "        if not value is None:\n",
    "            self._value = value\n",
    "        \n",
    "        # address sets value\n",
    "        if (address\n",
    "           and service is None\n",
    "           and formula is None\n",
    "           and value is None\n",
    "           and service_class is None):\n",
    "            self._value = address\n",
    "        \n",
    "        # internal stubs\n",
    "        self._map = None\n",
    "        self._dir = None\n",
    "        \n",
    "    def __invert__(self):\n",
    "        return DcelReference(self)\n",
    "            \n",
    "    def __str__(self):\n",
    "        # this needs to\n",
    "        # return a str version of\n",
    "        # self.value\n",
    "        return str(self.value)\n",
    "    \n",
    "    def freshen(self, a):\n",
    "        if type(a) is Dcel:\n",
    "            return a.value\n",
    "        if type(a) is DcelReference:\n",
    "            return ~a\n",
    "        return a\n",
    "    \n",
    "    def preslice_value(self):\n",
    "        _value = \"\"\n",
    "        # value from slice\n",
    "        if (hasattr(self,'address')\n",
    "            and hasattr(self,'service')\n",
    "            and type(self.address) is slice\n",
    "            and type(self.service) is Dcel):\n",
    "            if (hasattr(self,'_dirty')\n",
    "                and hasattr(self,'_value')):\n",
    "                _value = self._value\n",
    "            else:\n",
    "                _value = str(self.service.preslice_value())[self.address]\n",
    "            return _value\n",
    "        else: \n",
    "            # value from readtext\n",
    "            try:\n",
    "                _value = self.readtext()\n",
    "                self._value = _value\n",
    "            except:\n",
    "                try:\n",
    "                    _value = self.readbytes()\n",
    "                    self._value = _value\n",
    "                except:\n",
    "                    pass\n",
    "            # value from formula\n",
    "            try:\n",
    "                try:\n",
    "                    _args = [ self.freshen(a)\n",
    "                              for a in self.args ]\n",
    "                except:\n",
    "                    _args = []\n",
    "                try:\n",
    "                    _kwargs = { k:self.freshen(v) \n",
    "                           for k,v in self.kwargs.items() }\n",
    "                except:\n",
    "                    _kwargs = {}\n",
    "                _value = self.formula(*_args,**_kwargs)\n",
    "                self.value = _value\n",
    "                return _value\n",
    "            except:\n",
    "                pass\n",
    "\n",
    "            # value from getinfo\n",
    "            try:\n",
    "                i = self.getinfo(namespaces=['dcel'])\n",
    "                _value = i.raw['dcel']['value']\n",
    "                self._value = _value\n",
    "                return _value\n",
    "            except:\n",
    "                pass\n",
    "\n",
    "            # value from buffer\n",
    "            try:\n",
    "                _value = self._value\n",
    "                return _value\n",
    "            except:\n",
    "                pass\n",
    "        return None\n",
    "    \n",
    "    @property\n",
    "    def value(self):\n",
    "        _value = self.preslice_value()\n",
    "\n",
    "        # value from fragment map\n",
    "        if not self._map is None:\n",
    "            _base = _value\n",
    "            if type(_base) is bytes:\n",
    "                _base = _base.decode('utf-8')\n",
    "            pos = 0\n",
    "            _value = \"\"\n",
    "            for ea in self._map:\n",
    "                if pos < ea:\n",
    "                    _value += str(_base[pos:ea])\n",
    "                _fragcel = self._map[ea][1]\n",
    "                if _fragcel is self:\n",
    "                    _value += str(_value)\n",
    "                _value += str(_fragcel)\n",
    "                advancepos = self._map[ea][0]\n",
    "                if advancepos is None:\n",
    "                    return _value\n",
    "                pos = advancepos\n",
    "            _value += str(_base[pos:])\n",
    "        return _value\n",
    "    \n",
    "    def conform_map(self):\n",
    "        \"\"\"Update map with new offsets.\"\"\"\n",
    "        pass\n",
    "        \n",
    "    @value.setter\n",
    "    def value(self,new_value):\n",
    "        \"\"\"Set the value of the Dcel.\n",
    "        \n",
    "        The value can be stored in multiple ways.\n",
    "        The value is buffered, but the buffer may\n",
    "        either be backed by something or not backed\n",
    "        by anything.\n",
    "        \n",
    "        If the value changes, there are multiple effects.\n",
    "        If the Dcel is buffered without backing,\n",
    "        the buffer changes and that's that. If there\n",
    "        is a backing on the Dcel (the Dcel has either a service\n",
    "        or a formula attribute) then the backing needs to be\n",
    "        updated.\n",
    "        \n",
    "        Multiple backing scenarios exist: If the Dcel\n",
    "        is backed by a URL, and the entire contents of the\n",
    "        dcel are updated, then the entire contents can be\n",
    "        flushed to the URL in a single write operation.\n",
    "        \n",
    "        If the Dcel is backed by another Dcel, it possibly\n",
    "        represents a fragment of the other Dcel. The changed\n",
    "        fragment needs to be inserted into the backing Dcel\n",
    "        and then the backing Dcel is either flushed to its URL\n",
    "        or inserted into its backing cell, and so forth until\n",
    "        a root backing cell is flushed to its URL.\n",
    "        \n",
    "        Given that multiple fragment Dcels might be updated\n",
    "        in a short succession, or batch updated, it could\n",
    "        be more efficient to wait until several dirty fragments\n",
    "        are ready before flushing the root backing cell to \n",
    "        its URL. A time window could be implemented to\n",
    "        allow serial fragment writes. A batch-flush mechanism\n",
    "        could be implemented to allow fragment update batches.\n",
    "        \n",
    "        The Dcel fragment map allows for the representation\n",
    "        of the root backing to include updated fragments. The\n",
    "        Dcel.readtext() function should step through the bytes\n",
    "        of the filestream and insert changed fragments.\n",
    "        \n",
    "        \"\"\"\n",
    "        \n",
    "        # set buffer\n",
    "        self._value = new_value\n",
    "        self._dirty = True\n",
    "\n",
    "        # write slice \"fragment\"\n",
    "        if (hasattr(self,\"address\")\n",
    "            and hasattr(self,\"service\")\n",
    "            and type(self.address) is slice\n",
    "            and type(self.service) is Dcel):\n",
    "            self.service.fragment_updated(self.address, self)\n",
    "        \n",
    "        # write to service\n",
    "        try:\n",
    "            self.service.writetext(self.address,\n",
    "                           new_value)\n",
    "            return\n",
    "        except:\n",
    "            pass\n",
    "        \n",
    "        # write to setinfo\n",
    "        try:\n",
    "            i = {'dcel':{'value':new_value}}\n",
    "            self.setinfo(i)\n",
    "            return\n",
    "        except:\n",
    "            pass\n",
    "        \n",
    "    def fragment_updated(self,frag_slice,frag_dcel):\n",
    "        # TODO: Set and monitor timer to flush buffer to backing.\n",
    "        if self._map is None:\n",
    "            self._map = dict()\n",
    "        self._map.update({frag_slice.start:(frag_slice.stop,frag_dcel)})\n",
    "        if (hasattr(self,\"address\")\n",
    "            and hasattr(self,\"service\")\n",
    "            and type(self.address) is slice\n",
    "            and type(self.service) is Dcel):\n",
    "            assert(not self.service is self)\n",
    "            self.service.fragment_updated(self.address,self)\n",
    "                    \n",
    "    def flush(self):\n",
    "        if (hasattr(self,\"address\")\n",
    "            and hasattr(self,\"service\")):\n",
    "            address = self.address\n",
    "            service = self.service\n",
    "            # bubble the flush...\n",
    "            if (type(address) is slice\n",
    "                and type(service) is Dcel):\n",
    "                service.flush()\n",
    "                return\n",
    "            elif (type(address) is Dcel):\n",
    "                address.flush()\n",
    "                return\n",
    "            else:\n",
    "                # I have to do this tacky shit in order to\n",
    "                # put my kids to bed on time.\n",
    "                # ARCHITECTURE FLAW:\n",
    "                # For the future: Don't add any external methods to a\n",
    "                # service derived from pyfilesystem.\n",
    "                # For the band-aide kludge for DictFS dcels\n",
    "                # which hold Dcel's in their leaves:\n",
    "                if(hasattr(service,\"lookup\")):\n",
    "                    target = service.lookup(address)\n",
    "                    if (type(target) is Dcel):\n",
    "                        if not self._map is None:\n",
    "                            target.value = self.value\n",
    "                        target.flush()\n",
    "                        return\n",
    "                    \n",
    "        # FIXED 8-7-2022 - raygan\n",
    "        # MulticelFS needs to flush correctly.\n",
    "        # The following appears to work.\n",
    "\n",
    "        # execute the flush\n",
    "        if not self._map is None:\n",
    "        # The following seems super-strange\n",
    "            # however, the getter will build the value\n",
    "            # based on the fragment map\n",
    "            # and the setter will write to backing.\n",
    "            # If there is no backing, the buck stops\n",
    "            # at self._value.\n",
    "            self.value = self.value\n",
    "        self._dirty = False\n",
    "        self._map = None\n",
    "            \n",
    "    # Lookup interface\n",
    "    def __getitem__(self,key):\n",
    "        \"\"\"\n",
    "        Access a child of the Dcel's\n",
    "        domain.\n",
    "        \n",
    "        Access a slice of the Dcel's\n",
    "        domain.\n",
    "        \n",
    "        Return object with a dcel\n",
    "        interface that represents a\n",
    "        child from the \"directory\"\n",
    "        surface of this dcel.\n",
    "        \n",
    "        The service lookup()\n",
    "        method is expected to return\n",
    "        an address-object suitable\n",
    "        for use with the same service\n",
    "        instance.\n",
    "        \"\"\"\n",
    "        # slice\n",
    "        if type(key) is slice:\n",
    "            return Dcel(address=key,service=self)\n",
    "        # before adding a _dir,\n",
    "        # does the service see this\n",
    "        # base address (not the key) as a dir?\n",
    "\n",
    "        # testing base address for dir\n",
    "        if not self.service.isdir(self.address):\n",
    "            raise TypeError(self.address)\n",
    "\n",
    "        # base address of this Dcel is a directory\n",
    "        # now we can look up the key.\n",
    "\n",
    "        if not type(self._dir) is dict:\n",
    "            # self._dir is not dict\n",
    "            basepath = self.address\n",
    "            if basepath == '/':\n",
    "                basepath = ''\n",
    "            # create address (\"path\") of key relative to service\n",
    "            path = basepath + '/' + key\n",
    "            if self.service.exists(path):\n",
    "                # create Dcel's internal _dir and add child\n",
    "                child = Dcel(address=path,\n",
    "                             service=self.service)\n",
    "                self._dir = dict()\n",
    "                self._dir[key] = child\n",
    "                # return the child\n",
    "                return child\n",
    "            else:\n",
    "                raise KeyError(key)\n",
    "        \n",
    "        try:\n",
    "            # return child if already cached\n",
    "            # in Dcel's internal _dir\n",
    "            return self._dir[key]\n",
    "        except KeyError:\n",
    "            # otherwise, add child to Dcel's _dir\n",
    "            # same code as further above.\n",
    "            basepath = self.address\n",
    "            if basepath == '/':\n",
    "                basepath = ''\n",
    "            path = basepath + '/' + key\n",
    "            if self.service.exists(path):\n",
    "                # child\n",
    "                child = Dcel(address=path,\n",
    "                            service=self.service)\n",
    "                self._dir[key] = child\n",
    "                return child\n",
    "            else:\n",
    "                raise KeyError(key)\n",
    "        except TypeError:\n",
    "            raise TypeError(self._dir)\n",
    "            \n",
    "    def __setitem__(self,key,value):\n",
    "        self[key].value = value\n",
    "\n",
    "    \n",
    "    # Info helpers\n",
    "    \n",
    "    def abspath(self,path):\n",
    "        if path == None:\n",
    "            return self.address\n",
    "        if path == '/':\n",
    "            return path\n",
    "        return self.address + '/' + path.lstrip('/')\n",
    "    \n",
    "    @property\n",
    "    def hostname(self):\n",
    "        try:\n",
    "            return self.service.geturl('/')\n",
    "        except:\n",
    "            return DEFAULT_HOST\n",
    "    \n",
    "    def getinfo(self,\n",
    "                path=None,\n",
    "                namespaces=None\n",
    "               ):\n",
    "        path = self.abspath(path)\n",
    "        info = self.service.getinfo(path,namespaces)\n",
    "        # MUST allow pyfilesystem conformant subclasses\n",
    "        # to omit geturl().\n",
    "        try:\n",
    "            rooturl = self.service.__rooturl\n",
    "        except:\n",
    "            rooturl = None\n",
    "        if not type(rooturl) is str:\n",
    "            rooturl = None\n",
    "        if not rooturl is None:\n",
    "            hostinfo = { 'hosts': [rooturl] }\n",
    "            raw = mergeinfo(info.raw, hostinfo)\n",
    "        else:\n",
    "            raw = info.raw\n",
    "        return Info(raw)\n",
    "    \n",
    "    def listdir(self,path=None):\n",
    "        path = self.abspath(path)\n",
    "        return self.service.listdir(path)\n",
    "    \n",
    "    def isdir(self,path=None):\n",
    "        path = self.abspath(path)\n",
    "        return self.service.isdir(path)\n",
    "    \n",
    "    def openbin(self,\n",
    "            path=None,\n",
    "            mode='r',\n",
    "            buffering=-1,\n",
    "            **options):\n",
    "        # Open a binary file.\n",
    "        path = self.abspath(path)\n",
    "        return self.service.openbin(\n",
    "            path,\n",
    "            mode,\n",
    "            buffering)\n",
    "    \n",
    "    def readbytes(self, path=None):\n",
    "        path = self.abspath(path)\n",
    "        return self.service.readbytes(path)\n",
    "\n",
    "    def readtext(self, path=None):\n",
    "        path = self.abspath(path)\n",
    "        return self.service.readtext(path)\n",
    "    \n",
    "    def setinfo(self,path,info):\n",
    "        path = self.abspath(path)\n",
    "        return self.service.setinfo(path,info)\n",
    "\n",
    "    def makedir(self,*args,**kwargs):\n",
    "        return self.service.makedir(*args,**kwargs)\n",
    "        \n",
    "    def remove(self,*args,**kwargs):\n",
    "        self.service.remove(*args,**kwargs)\n",
    "        \n",
    "    def removedir(self,*args,**kwargs):\n",
    "        self.service.removedir(*args,**kwargs)\n",
    "        \n",
    "    def writetext(self, path=None, contents='', encoding='utf-8',\n",
    "                  errors=None, newline=''):\n",
    "        path = self.abspath(path)\n",
    "        self.service.writetext(path,contents,encoding,errors,newline)\n",
    "\n",
    "    ### Additional Methods\n",
    "    \n",
    "    def _pathwalk(self,path):\n",
    "        try:\n",
    "            seg,nextpath = path.split('/',1)\n",
    "        except:\n",
    "            return self[path]\n",
    "        try:\n",
    "            return self[seg]._pathwalk(nextpath)\n",
    "        except:\n",
    "            return None\n",
    "        \n",
    "    def path_lookup(self,path):\n",
    "        return self._pathwalk(path)\n",
    "    \n",
    "    ### Custom Request Processing\n",
    "    \n",
    "    def processRequest(self,path,rq):\n",
    "        if hastattr(self.service,\"processRequest\"):\n",
    "            try:\n",
    "                response = self.service.processRequest(path,rq)\n",
    "            except Exception as e:\n",
    "                return {'Dcel::processRequest':{'service error':str(e)}}\n",
    "            return response\n",
    "    \n",
    "    "
   ]
  },
  {
   "cell_type": "code",
   "execution_count": 3,
   "metadata": {},
   "outputs": [
    {
     "name": "stdout",
     "output_type": "stream",
     "text": [
      "False\n",
      "False\n",
      "True\n",
      "<bound method Registry.open_fs of <fs-registry ['userdata', 'userconf', 'sitedata', 'siteconf', 'usercache', 'userlog', 'ftp', 'ftps', 'mem', 'file', 'osfs', 'tar', 'temp', 'zip', 'sftp', 'ssh', 's3']>>\n"
     ]
    }
   ],
   "source": [
    "from fs import open_fs\n",
    "from inspect import isclass, isfunction, ismethod\n",
    "\n",
    "print(isclass(open_fs))\n",
    "print(isfunction(open_fs))\n",
    "print(ismethod(open_fs))\n",
    "\n",
    "print(open_fs)"
   ]
  },
  {
   "cell_type": "code",
   "execution_count": 4,
   "metadata": {},
   "outputs": [
    {
     "name": "stdout",
     "output_type": "stream",
     "text": [
      "red\n"
     ]
    }
   ],
   "source": [
    "## TEST: subscript interface\n",
    "a = Dcel(address='.',service_class=open_fs)\n",
    "print(a['fs/fs/fruit/apples.txt'])"
   ]
  },
  {
   "cell_type": "code",
   "execution_count": 35,
   "metadata": {},
   "outputs": [
    {
     "name": "stdout",
     "output_type": "stream",
     "text": [
      "['a', 'b']\n"
     ]
    }
   ],
   "source": [
    "## TEST: dict() address type\n",
    "#  REQUIRES: DictFS\n",
    "from DictFS import DictFS\n",
    "a = Dcel({'a':'pirate','b':'ship'}, service_class=DictFS)\n",
    "print(a.listdir('/'))"
   ]
  },
  {
   "cell_type": "code",
   "execution_count": 41,
   "metadata": {},
   "outputs": [
    {
     "name": "stdout",
     "output_type": "stream",
     "text": [
      "[]\n"
     ]
    }
   ],
   "source": [
    "## TEST: nesting other types inside DictFS\n",
    "from DictFS import DictFS\n",
    "from fs import open_fs\n",
    "a = Dcel('.',service_class=open_fs)\n",
    "b = Dcel({'a':a}, service_class=DictFS)\n",
    "print(b.listdir('/a'))"
   ]
  },
  {
   "cell_type": "code",
   "execution_count": 42,
   "metadata": {},
   "outputs": [],
   "source": [
    "### Test service_class=open_fs\n",
    "### FIXME: Test relies on s3 endpoint\n",
    "\n",
    "from fs import open_fs\n",
    "\n",
    "a = Dcel(address='s3://cburn-demo/?endpoint_url=https://s3.us-west-000.backblazeb2.com',\n",
    "         service_class=open_fs\n",
    "        )"
   ]
  },
  {
   "cell_type": "code",
   "execution_count": 8,
   "metadata": {},
   "outputs": [
    {
     "name": "stdout",
     "output_type": "stream",
     "text": [
      "/\n",
      "<s3fs 'cburn-demo'>\n"
     ]
    },
    {
     "ename": "PermissionDenied",
     "evalue": "Malformed Access Key Id",
     "output_type": "error",
     "traceback": [
      "\u001b[0;31m---------------------------------------------------------------------------\u001b[0m",
      "\u001b[0;31mClientError\u001b[0m                               Traceback (most recent call last)",
      "File \u001b[0;32m~/.local/lib/python3.9/site-packages/fs_s3fs/_s3fs.py:173\u001b[0m, in \u001b[0;36ms3errors\u001b[0;34m(path)\u001b[0m\n\u001b[1;32m    172\u001b[0m \u001b[38;5;28;01mtry\u001b[39;00m:\n\u001b[0;32m--> 173\u001b[0m     \u001b[38;5;28;01myield\u001b[39;00m\n\u001b[1;32m    174\u001b[0m \u001b[38;5;28;01mexcept\u001b[39;00m ClientError \u001b[38;5;28;01mas\u001b[39;00m error:\n",
      "File \u001b[0;32m~/.local/lib/python3.9/site-packages/fs_s3fs/_s3fs.py:483\u001b[0m, in \u001b[0;36mS3FS.listdir\u001b[0;34m(self, path)\u001b[0m\n\u001b[1;32m    482\u001b[0m _directory \u001b[38;5;241m=\u001b[39m []\n\u001b[0;32m--> 483\u001b[0m \u001b[38;5;28;01mfor\u001b[39;00m result \u001b[38;5;129;01min\u001b[39;00m _paginate:\n\u001b[1;32m    484\u001b[0m     common_prefixes \u001b[38;5;241m=\u001b[39m result\u001b[38;5;241m.\u001b[39mget(\u001b[38;5;124m\"\u001b[39m\u001b[38;5;124mCommonPrefixes\u001b[39m\u001b[38;5;124m\"\u001b[39m, ())\n",
      "File \u001b[0;32m~/.local/lib/python3.9/site-packages/botocore/paginate.py:269\u001b[0m, in \u001b[0;36mPageIterator.__iter__\u001b[0;34m(self)\u001b[0m\n\u001b[1;32m    268\u001b[0m \u001b[38;5;28;01mwhile\u001b[39;00m \u001b[38;5;28;01mTrue\u001b[39;00m:\n\u001b[0;32m--> 269\u001b[0m     response \u001b[38;5;241m=\u001b[39m \u001b[38;5;28;43mself\u001b[39;49m\u001b[38;5;241;43m.\u001b[39;49m\u001b[43m_make_request\u001b[49m\u001b[43m(\u001b[49m\u001b[43mcurrent_kwargs\u001b[49m\u001b[43m)\u001b[49m\n\u001b[1;32m    270\u001b[0m     parsed \u001b[38;5;241m=\u001b[39m \u001b[38;5;28mself\u001b[39m\u001b[38;5;241m.\u001b[39m_extract_parsed_response(response)\n",
      "File \u001b[0;32m~/.local/lib/python3.9/site-packages/botocore/paginate.py:357\u001b[0m, in \u001b[0;36mPageIterator._make_request\u001b[0;34m(self, current_kwargs)\u001b[0m\n\u001b[1;32m    356\u001b[0m \u001b[38;5;28;01mdef\u001b[39;00m \u001b[38;5;21m_make_request\u001b[39m(\u001b[38;5;28mself\u001b[39m, current_kwargs):\n\u001b[0;32m--> 357\u001b[0m     \u001b[38;5;28;01mreturn\u001b[39;00m \u001b[38;5;28;43mself\u001b[39;49m\u001b[38;5;241;43m.\u001b[39;49m\u001b[43m_method\u001b[49m\u001b[43m(\u001b[49m\u001b[38;5;241;43m*\u001b[39;49m\u001b[38;5;241;43m*\u001b[39;49m\u001b[43mcurrent_kwargs\u001b[49m\u001b[43m)\u001b[49m\n",
      "File \u001b[0;32m~/.local/lib/python3.9/site-packages/botocore/client.py:508\u001b[0m, in \u001b[0;36mClientCreator._create_api_method.<locals>._api_call\u001b[0;34m(self, *args, **kwargs)\u001b[0m\n\u001b[1;32m    507\u001b[0m \u001b[38;5;66;03m# The \"self\" in this scope is referring to the BaseClient.\u001b[39;00m\n\u001b[0;32m--> 508\u001b[0m \u001b[38;5;28;01mreturn\u001b[39;00m \u001b[38;5;28;43mself\u001b[39;49m\u001b[38;5;241;43m.\u001b[39;49m\u001b[43m_make_api_call\u001b[49m\u001b[43m(\u001b[49m\u001b[43moperation_name\u001b[49m\u001b[43m,\u001b[49m\u001b[43m \u001b[49m\u001b[43mkwargs\u001b[49m\u001b[43m)\u001b[49m\n",
      "File \u001b[0;32m~/.local/lib/python3.9/site-packages/botocore/client.py:915\u001b[0m, in \u001b[0;36mBaseClient._make_api_call\u001b[0;34m(self, operation_name, api_params)\u001b[0m\n\u001b[1;32m    914\u001b[0m     error_class \u001b[38;5;241m=\u001b[39m \u001b[38;5;28mself\u001b[39m\u001b[38;5;241m.\u001b[39mexceptions\u001b[38;5;241m.\u001b[39mfrom_code(error_code)\n\u001b[0;32m--> 915\u001b[0m     \u001b[38;5;28;01mraise\u001b[39;00m error_class(parsed_response, operation_name)\n\u001b[1;32m    916\u001b[0m \u001b[38;5;28;01melse\u001b[39;00m:\n",
      "\u001b[0;31mClientError\u001b[0m: An error occurred (InvalidAccessKeyId) when calling the ListObjects operation: Malformed Access Key Id",
      "\nDuring handling of the above exception, another exception occurred:\n",
      "\u001b[0;31mPermissionDenied\u001b[0m                          Traceback (most recent call last)",
      "Input \u001b[0;32mIn [8]\u001b[0m, in \u001b[0;36m<cell line: 3>\u001b[0;34m()\u001b[0m\n\u001b[1;32m      1\u001b[0m \u001b[38;5;28mprint\u001b[39m(a\u001b[38;5;241m.\u001b[39maddress)\n\u001b[1;32m      2\u001b[0m \u001b[38;5;28mprint\u001b[39m(a\u001b[38;5;241m.\u001b[39mservice)\n\u001b[0;32m----> 3\u001b[0m \u001b[38;5;28mprint\u001b[39m(\u001b[43ma\u001b[49m\u001b[38;5;241;43m.\u001b[39;49m\u001b[43mlistdir\u001b[49m\u001b[43m(\u001b[49m\u001b[43m)\u001b[49m)\n",
      "Input \u001b[0;32mIn [5]\u001b[0m, in \u001b[0;36mDcel.listdir\u001b[0;34m(self, path)\u001b[0m\n\u001b[1;32m    462\u001b[0m \u001b[38;5;28;01mdef\u001b[39;00m \u001b[38;5;21mlistdir\u001b[39m(\u001b[38;5;28mself\u001b[39m,path\u001b[38;5;241m=\u001b[39m\u001b[38;5;28;01mNone\u001b[39;00m):\n\u001b[1;32m    463\u001b[0m     path \u001b[38;5;241m=\u001b[39m \u001b[38;5;28mself\u001b[39m\u001b[38;5;241m.\u001b[39mabspath(path)\n\u001b[0;32m--> 464\u001b[0m     \u001b[38;5;28;01mreturn\u001b[39;00m \u001b[38;5;28;43mself\u001b[39;49m\u001b[38;5;241;43m.\u001b[39;49m\u001b[43mservice\u001b[49m\u001b[38;5;241;43m.\u001b[39;49m\u001b[43mlistdir\u001b[49m\u001b[43m(\u001b[49m\u001b[43mpath\u001b[49m\u001b[43m)\u001b[49m\n",
      "File \u001b[0;32m~/.local/lib/python3.9/site-packages/fs_s3fs/_s3fs.py:493\u001b[0m, in \u001b[0;36mS3FS.listdir\u001b[0;34m(self, path)\u001b[0m\n\u001b[1;32m    491\u001b[0m             name \u001b[38;5;241m=\u001b[39m obj[\u001b[38;5;124m\"\u001b[39m\u001b[38;5;124mKey\u001b[39m\u001b[38;5;124m\"\u001b[39m][prefix_len:]\n\u001b[1;32m    492\u001b[0m             \u001b[38;5;28;01mif\u001b[39;00m name:\n\u001b[0;32m--> 493\u001b[0m                 _directory\u001b[38;5;241m.\u001b[39mappend(name)\n\u001b[1;32m    495\u001b[0m \u001b[38;5;28;01mif\u001b[39;00m \u001b[38;5;129;01mnot\u001b[39;00m _directory:\n\u001b[1;32m    496\u001b[0m     \u001b[38;5;28;01mif\u001b[39;00m \u001b[38;5;129;01mnot\u001b[39;00m \u001b[38;5;28mself\u001b[39m\u001b[38;5;241m.\u001b[39mgetinfo(_path)\u001b[38;5;241m.\u001b[39mis_dir:\n",
      "File \u001b[0;32m/usr/lib/python3.9/contextlib.py:135\u001b[0m, in \u001b[0;36m_GeneratorContextManager.__exit__\u001b[0;34m(self, type, value, traceback)\u001b[0m\n\u001b[1;32m    133\u001b[0m     value \u001b[38;5;241m=\u001b[39m \u001b[38;5;28mtype\u001b[39m()\n\u001b[1;32m    134\u001b[0m \u001b[38;5;28;01mtry\u001b[39;00m:\n\u001b[0;32m--> 135\u001b[0m     \u001b[38;5;28;43mself\u001b[39;49m\u001b[38;5;241;43m.\u001b[39;49m\u001b[43mgen\u001b[49m\u001b[38;5;241;43m.\u001b[39;49m\u001b[43mthrow\u001b[49m\u001b[43m(\u001b[49m\u001b[38;5;28;43mtype\u001b[39;49m\u001b[43m,\u001b[49m\u001b[43m \u001b[49m\u001b[43mvalue\u001b[49m\u001b[43m,\u001b[49m\u001b[43m \u001b[49m\u001b[43mtraceback\u001b[49m\u001b[43m)\u001b[49m\n\u001b[1;32m    136\u001b[0m \u001b[38;5;28;01mexcept\u001b[39;00m \u001b[38;5;167;01mStopIteration\u001b[39;00m \u001b[38;5;28;01mas\u001b[39;00m exc:\n\u001b[1;32m    137\u001b[0m     \u001b[38;5;66;03m# Suppress StopIteration *unless* it's the same exception that\u001b[39;00m\n\u001b[1;32m    138\u001b[0m     \u001b[38;5;66;03m# was passed to throw().  This prevents a StopIteration\u001b[39;00m\n\u001b[1;32m    139\u001b[0m     \u001b[38;5;66;03m# raised inside the \"with\" statement from being suppressed.\u001b[39;00m\n\u001b[1;32m    140\u001b[0m     \u001b[38;5;28;01mreturn\u001b[39;00m exc \u001b[38;5;129;01mis\u001b[39;00m \u001b[38;5;129;01mnot\u001b[39;00m value\n",
      "File \u001b[0;32m~/.local/lib/python3.9/site-packages/fs_s3fs/_s3fs.py:185\u001b[0m, in \u001b[0;36ms3errors\u001b[0;34m(path)\u001b[0m\n\u001b[1;32m    183\u001b[0m     \u001b[38;5;28;01mraise\u001b[39;00m errors\u001b[38;5;241m.\u001b[39mResourceNotFound(path)\n\u001b[1;32m    184\u001b[0m \u001b[38;5;28;01melif\u001b[39;00m http_status \u001b[38;5;241m==\u001b[39m \u001b[38;5;241m403\u001b[39m:\n\u001b[0;32m--> 185\u001b[0m     \u001b[38;5;28;01mraise\u001b[39;00m errors\u001b[38;5;241m.\u001b[39mPermissionDenied(path\u001b[38;5;241m=\u001b[39mpath, msg\u001b[38;5;241m=\u001b[39merror_msg)\n\u001b[1;32m    186\u001b[0m \u001b[38;5;28;01melse\u001b[39;00m:\n\u001b[1;32m    187\u001b[0m     \u001b[38;5;28;01mraise\u001b[39;00m errors\u001b[38;5;241m.\u001b[39mOperationFailed(path\u001b[38;5;241m=\u001b[39mpath, exc\u001b[38;5;241m=\u001b[39merror)\n",
      "\u001b[0;31mPermissionDenied\u001b[0m: Malformed Access Key Id"
     ]
    }
   ],
   "source": [
    "print(a.address)\n",
    "print(a.service)\n",
    "print(a.listdir())"
   ]
  },
  {
   "cell_type": "code",
   "execution_count": 4,
   "metadata": {},
   "outputs": [
    {
     "name": "stdout",
     "output_type": "stream",
     "text": [
      "{'basic': {'name': '', 'is_dir': True}, 'details': {'type': 1}, 'hosts': ['s3://cburn-demo/?endpoint_url=https://s3.us-west-000.backblazeb2.com']}\n"
     ]
    }
   ],
   "source": [
    "print(a.getinfo().raw)"
   ]
  },
  {
   "cell_type": "code",
   "execution_count": 9,
   "metadata": {},
   "outputs": [
    {
     "name": "stdout",
     "output_type": "stream",
     "text": [
      "file:///home/raygan/Cosms/Dboy/Laydbug/dev/cburnfs_py/cburnfs/fs/fs/boats/\n"
     ]
    }
   ],
   "source": [
    "### TEST HOSTNAME GETTER\n",
    "\n",
    "from fs.osfs import OSFS\n",
    "d = Dcel(address='fs/fs/boats',\n",
    "        service_class=OSFS)\n",
    "\n",
    "print(d.hostname)"
   ]
  },
  {
   "cell_type": "code",
   "execution_count": 11,
   "metadata": {},
   "outputs": [
    {
     "name": "stdout",
     "output_type": "stream",
     "text": [
      "Dcel::__init__() self.service=<osfs 'fs/fs/boats'>\n",
      "My barge is WAY faster than your scull.\n",
      "My barge is WAY faster than your scull.\n",
      "My barge is WAY faster than your scull.\n"
     ]
    }
   ],
   "source": [
    "# Dcel write to slice, and flush to storage.\n",
    "\n",
    "from fs.osfs import OSFS\n",
    "d = Dcel(address='fs/fs/boats',\n",
    "        service_class=OSFS)\n",
    "print(d[\"skiff.txt\"])\n",
    "#d[\"skiff.txt\"] = \"My skiff is WAY faster than your scull.\"\n",
    "print(d[\"skiff.txt\"])\n",
    "d[\"skiff.txt\"][3:8] = \"barge\"\n",
    "print(d[\"skiff.txt\"])\n",
    "d[\"skiff.txt\"].flush()\n",
    "#print(d[\"skiff.txt\"])"
   ]
  },
  {
   "cell_type": "code",
   "execution_count": 8,
   "metadata": {},
   "outputs": [
    {
     "name": "stdout",
     "output_type": "stream",
     "text": [
      "My barge is WAY faster than your scull.\n"
     ]
    }
   ],
   "source": [
    "e = Dcel(address='fs/fs/boats',\n",
    "        service_class=OSFS)\n",
    "print(e[\"skiff.txt\"])"
   ]
  },
  {
   "cell_type": "code",
   "execution_count": 2,
   "metadata": {},
   "outputs": [
    {
     "name": "stdout",
     "output_type": "stream",
     "text": [
      "<__main__.Dcel object at 0x7fed70261c10>\n",
      "<__main__.Dcel object at 0x7fed70261c10>\n",
      "<__main__.DcelReference object at 0x7fed70261c40>\n",
      "<__main__.Dcel object at 0x7fed70261c10>\n",
      "['one', 'two']\n",
      "grand opening\n",
      "<__main__.DcelReference object at 0x7fed70261c40>\n"
     ]
    }
   ],
   "source": [
    "# Dcel Referencing vs. Re-binding\n",
    "\n",
    "# re-binding\n",
    "a = Dcel(\"grand opening\")\n",
    "b = Dcel(a)\n",
    "\n",
    "print(repr(a))\n",
    "print(repr(b))\n",
    "assert(a is b)\n",
    "\n",
    "# referencing\n",
    "c = ~a\n",
    "print(repr(c))\n",
    "print(repr(~c))\n",
    "\n",
    "somedict = { \"one\": a,\n",
    "             \"two\": c\n",
    "           }\n",
    "\n",
    "from DictFS import DictFS\n",
    "d = Dcel(address=somedict, service_class=DictFS)\n",
    "\n",
    "print(d.listdir())\n",
    "print(d['two'])\n",
    "print(repr(d['two']._value))\n",
    "\n"
   ]
  },
  {
   "cell_type": "code",
   "execution_count": 4,
   "metadata": {},
   "outputs": [
    {
     "name": "stdout",
     "output_type": "stream",
     "text": [
      "x: <__main__.Dcel object at 0x7fed686ec550> map: None\n",
      "z: <__main__.Dcel object at 0x7fed702da6a0> map: None\n",
      "x: <__main__.Dcel object at 0x7fed686ec550> map: {7: (None, <__main__.Dcel object at 0x7fed702da6a0>)}\n",
      "z: <__main__.Dcel object at 0x7fed702da6a0> map: {0: (2, <__main__.Dcel object at 0x7fed68641880>), 3: (9, <__main__.Dcel object at 0x7fed68641c10>)}\n",
      "\n",
      "\n",
      "x: <__main__.Dcel object at 0x7fed686ec550> map: {7: (None, <__main__.Dcel object at 0x7fed702da6a0>)}\n",
      "z: <__main__.Dcel object at 0x7fed702da6a0> map: {0: (2, <__main__.Dcel object at 0x7fed68641880>), 3: (9, <__main__.Dcel object at 0x7fed68641c10>)}\n",
      "w: <__main__.Dcel object at 0x7fed68641c10> map: {3: (5, <__main__.Dcel object at 0x7fed700a6160>), 9: (11, <__main__.Dcel object at 0x7fed7023afa0>)}\n",
      "v: <__main__.Dcel object at 0x7fed700a6160> map: None\n",
      "once upover an XXXcapaDumpling to the supermarket...\n"
     ]
    }
   ],
   "source": [
    "# Dcel slice test.\n",
    "\n",
    "x = Dcel('once upon a time in the lost land...')\n",
    "z = x[7:]\n",
    "print(f\"x: {repr(x)} map: {x._map}\")\n",
    "print(f\"z: {repr(z)} map: {z._map}\")\n",
    "z.value = 'on a trip to the supermarket...'\n",
    "t = z[0:2]\n",
    "t.value = \"over\"\n",
    "w = z[3:9]\n",
    "w.value = \"an excapade\"\n",
    "print(f\"x: {repr(x)} map: {x._map}\")\n",
    "print(f\"z: {repr(z)} map: {z._map}\")\n",
    "print('\\n')\n",
    "v = w[3:5]\n",
    "v.value = \"XXX\"\n",
    "u = w[9:11]\n",
    "u.value = \"Dumpling\"\n",
    "\n",
    "# assert the map references cascade one to the next\n",
    "print(f\"x: {repr(x)} map: {x._map}\")\n",
    "print(f\"z: {repr(z)} map: {z._map}\")\n",
    "print(f\"w: {repr(w)} map: {w._map}\")\n",
    "print(f\"v: {repr(v)} map: {v._map}\")\n",
    "\n",
    "# this should print with no errors\n",
    "# and the sentence should be \"once upon an Xcapade to the supermarket...\"\n",
    "print(x)\n"
   ]
  },
  {
   "cell_type": "code",
   "execution_count": 5,
   "metadata": {},
   "outputs": [
    {
     "name": "stdout",
     "output_type": "stream",
     "text": [
      "once upover an XXXcapaDumpling to the supermarket...\n"
     ]
    }
   ],
   "source": [
    "print(x)"
   ]
  },
  {
   "cell_type": "code",
   "execution_count": 12,
   "metadata": {
    "scrolled": false
   },
   "outputs": [
    {
     "name": "stdout",
     "output_type": "stream",
     "text": [
      "over an XXXcapaDumpling to the supermarket...\n",
      "once upover an XXXcapaDumpling to the supermarket...\n",
      "an XXXcapaDumpling\n",
      "x: once upover an XXXcapaDumpling to the supermarket...\n",
      "{7: (None, <__main__.Dcel object at 0x7fc168355cd0>)}\n",
      "{0: (2, <__main__.Dcel object at 0x7fc151f15940>), 3: (9, <__main__.Dcel object at 0x7fc152080ac0>)}\n",
      "{3: (5, <__main__.Dcel object at 0x7fc1681f1490>), 9: (11, <__main__.Dcel object at 0x7fc152080df0>)}\n",
      "\n",
      "\n"
     ]
    },
    {
     "ename": "AttributeError",
     "evalue": "'Dcel' object has no attribute 'address'",
     "output_type": "error",
     "traceback": [
      "\u001b[0;31m---------------------------------------------------------------------------\u001b[0m",
      "\u001b[0;31mAttributeError\u001b[0m                            Traceback (most recent call last)",
      "Input \u001b[0;32mIn [12]\u001b[0m, in \u001b[0;36m<cell line: 12>\u001b[0;34m()\u001b[0m\n\u001b[1;32m     10\u001b[0m \u001b[38;5;28mprint\u001b[39m(w\u001b[38;5;241m.\u001b[39m_map)\n\u001b[1;32m     11\u001b[0m \u001b[38;5;28mprint\u001b[39m(\u001b[38;5;124m\"\u001b[39m\u001b[38;5;130;01m\\n\u001b[39;00m\u001b[38;5;124m\"\u001b[39m)\n\u001b[0;32m---> 12\u001b[0m \u001b[38;5;28mprint\u001b[39m(\u001b[43mx\u001b[49m\u001b[38;5;241;43m.\u001b[39;49m\u001b[43maddress\u001b[49m)\n",
      "\u001b[0;31mAttributeError\u001b[0m: 'Dcel' object has no attribute 'address'"
     ]
    }
   ],
   "source": [
    "\n",
    "#z.value = 'on a trip to the supermarket...'\n",
    "\n",
    "print(z)\n",
    "print(x)\n",
    "\n",
    "print(w)\n",
    "print(f\"x: {x}\")\n",
    "print(x._map)\n",
    "print(z._map)\n",
    "print(w._map)\n",
    "print(\"\\n\")\n",
    "print(x.address)"
   ]
  },
  {
   "cell_type": "code",
   "execution_count": 13,
   "metadata": {},
   "outputs": [
    {
     "name": "stdout",
     "output_type": "stream",
     "text": [
      "<__main__.Dcel object at 0x7fc16834df10>\n",
      "<__main__.DcelReference object at 0x7fc16834f190>\n",
      "<__main__.Dcel object at 0x7fc16834df10>\n"
     ]
    }
   ],
   "source": [
    "# Test Dcel Reference Inversion\n",
    "\n",
    "d = Dcel(\"hello\")\n",
    "dref = ~d\n",
    "drefd = ~dref\n",
    "\n",
    "print(f\"{repr(d)}\")\n",
    "print(f\"{repr(dref)}\")\n",
    "print(f\"{repr(drefd)}\")\n",
    "\n",
    "assert(d is drefd)"
   ]
  },
  {
   "cell_type": "code",
   "execution_count": 14,
   "metadata": {},
   "outputs": [
    {
     "ename": "TypeError",
     "evalue": "None",
     "output_type": "error",
     "traceback": [
      "\u001b[0;31m---------------------------------------------------------------------------\u001b[0m",
      "\u001b[0;31mTypeError\u001b[0m                                 Traceback (most recent call last)",
      "Input \u001b[0;32mIn [3]\u001b[0m, in \u001b[0;36mDcel.__getitem__\u001b[0;34m(self, key)\u001b[0m\n\u001b[1;32m    379\u001b[0m \u001b[38;5;28;01mtry\u001b[39;00m:\n\u001b[1;32m    380\u001b[0m     \u001b[38;5;66;03m# return child if already cached\u001b[39;00m\n\u001b[1;32m    381\u001b[0m     \u001b[38;5;66;03m# in Dcel's internal _dir\u001b[39;00m\n\u001b[0;32m--> 382\u001b[0m     \u001b[38;5;28;01mreturn\u001b[39;00m \u001b[38;5;28;43mself\u001b[39;49m\u001b[38;5;241;43m.\u001b[39;49m\u001b[43m_dir\u001b[49m\u001b[43m[\u001b[49m\u001b[43mkey\u001b[49m\u001b[43m]\u001b[49m\n\u001b[1;32m    383\u001b[0m \u001b[38;5;28;01mexcept\u001b[39;00m \u001b[38;5;167;01mKeyError\u001b[39;00m:\n\u001b[1;32m    384\u001b[0m     \u001b[38;5;66;03m# otherwise, add child to Dcel's _dir\u001b[39;00m\n\u001b[1;32m    385\u001b[0m     \u001b[38;5;66;03m# same code as further above.\u001b[39;00m\n",
      "\u001b[0;31mTypeError\u001b[0m: 'NoneType' object is not subscriptable",
      "\nDuring handling of the above exception, another exception occurred:\n",
      "\u001b[0;31mTypeError\u001b[0m                                 Traceback (most recent call last)",
      "Input \u001b[0;32mIn [14]\u001b[0m, in \u001b[0;36m<cell line: 7>\u001b[0;34m()\u001b[0m\n\u001b[1;32m      3\u001b[0m \u001b[38;5;28;01mfrom\u001b[39;00m \u001b[38;5;21;01mfs\u001b[39;00m\u001b[38;5;21;01m.\u001b[39;00m\u001b[38;5;21;01mosfs\u001b[39;00m \u001b[38;5;28;01mimport\u001b[39;00m OSFS\n\u001b[1;32m      4\u001b[0m d \u001b[38;5;241m=\u001b[39m Dcel(address\u001b[38;5;241m=\u001b[39m\u001b[38;5;124m'\u001b[39m\u001b[38;5;124mfs/fs/boats\u001b[39m\u001b[38;5;124m'\u001b[39m,\n\u001b[1;32m      5\u001b[0m         service_class\u001b[38;5;241m=\u001b[39mOSFS)\n\u001b[0;32m----> 7\u001b[0m \u001b[38;5;28;01mfor\u001b[39;00m item \u001b[38;5;129;01min\u001b[39;00m d:\n\u001b[1;32m      8\u001b[0m     \u001b[38;5;28mprint\u001b[39m(item)\n",
      "Input \u001b[0;32mIn [3]\u001b[0m, in \u001b[0;36mDcel.__getitem__\u001b[0;34m(self, key)\u001b[0m\n\u001b[1;32m    397\u001b[0m         \u001b[38;5;28;01mraise\u001b[39;00m \u001b[38;5;167;01mKeyError\u001b[39;00m(key)\n\u001b[1;32m    398\u001b[0m \u001b[38;5;28;01mexcept\u001b[39;00m \u001b[38;5;167;01mTypeError\u001b[39;00m:\n\u001b[0;32m--> 399\u001b[0m     \u001b[38;5;28;01mraise\u001b[39;00m \u001b[38;5;167;01mTypeError\u001b[39;00m(\u001b[38;5;28mself\u001b[39m\u001b[38;5;241m.\u001b[39m_dir)\n",
      "\u001b[0;31mTypeError\u001b[0m: None"
     ]
    }
   ],
   "source": [
    "# Test 'in' operator with file system backing.\n",
    "\n",
    "from fs.osfs import OSFS\n",
    "d = Dcel(address='fs/fs/boats',\n",
    "        service_class=OSFS)\n",
    "\n",
    "for item in d:\n",
    "    print(item)"
   ]
  },
  {
   "cell_type": "code",
   "execution_count": null,
   "metadata": {},
   "outputs": [],
   "source": [
    "# Test 'in' operator with str initialization.\n",
    "\n",
    "# This raises a TypeError\n",
    "\n",
    "a = Dcel(\"hello\")\n",
    "for each in a:\n",
    "    print(each)"
   ]
  },
  {
   "cell_type": "code",
   "execution_count": 98,
   "metadata": {},
   "outputs": [
    {
     "ename": "TypeError",
     "evalue": "None",
     "output_type": "error",
     "traceback": [
      "\u001b[0;31m---------------------------------------------------------------------------\u001b[0m",
      "\u001b[0;31mTypeError\u001b[0m                                 Traceback (most recent call last)",
      "Input \u001b[0;32mIn [95]\u001b[0m, in \u001b[0;36mDcel.__getitem__\u001b[0;34m(self, key)\u001b[0m\n\u001b[1;32m    362\u001b[0m \u001b[38;5;28;01mtry\u001b[39;00m:\n\u001b[1;32m    363\u001b[0m     \u001b[38;5;66;03m# return child if already cached\u001b[39;00m\n\u001b[1;32m    364\u001b[0m     \u001b[38;5;66;03m# in Dcel's internal _dir\u001b[39;00m\n\u001b[0;32m--> 365\u001b[0m     \u001b[38;5;28;01mreturn\u001b[39;00m \u001b[38;5;28;43mself\u001b[39;49m\u001b[38;5;241;43m.\u001b[39;49m\u001b[43m_dir\u001b[49m\u001b[43m[\u001b[49m\u001b[43mkey\u001b[49m\u001b[43m]\u001b[49m\n\u001b[1;32m    366\u001b[0m \u001b[38;5;28;01mexcept\u001b[39;00m \u001b[38;5;167;01mKeyError\u001b[39;00m:\n\u001b[1;32m    367\u001b[0m     \u001b[38;5;66;03m# otherwise, add child to Dcel's _dir\u001b[39;00m\n\u001b[1;32m    368\u001b[0m     \u001b[38;5;66;03m# same code as further above.\u001b[39;00m\n",
      "\u001b[0;31mTypeError\u001b[0m: 'NoneType' object is not subscriptable",
      "\nDuring handling of the above exception, another exception occurred:\n",
      "\u001b[0;31mTypeError\u001b[0m                                 Traceback (most recent call last)",
      "Input \u001b[0;32mIn [98]\u001b[0m, in \u001b[0;36m<cell line: 5>\u001b[0;34m()\u001b[0m\n\u001b[1;32m      1\u001b[0m \u001b[38;5;66;03m# Test 'in' operator with list initialization.\u001b[39;00m\n\u001b[1;32m      2\u001b[0m \n\u001b[1;32m      3\u001b[0m \u001b[38;5;66;03m# This raises a TypeError:\u001b[39;00m\n\u001b[1;32m      4\u001b[0m a \u001b[38;5;241m=\u001b[39m Dcel([\u001b[38;5;241m1\u001b[39m,\u001b[38;5;241m2\u001b[39m,\u001b[38;5;241m3\u001b[39m])\n\u001b[0;32m----> 5\u001b[0m \u001b[38;5;28;01mfor\u001b[39;00m i \u001b[38;5;129;01min\u001b[39;00m a:\n\u001b[1;32m      6\u001b[0m     \u001b[38;5;28mprint\u001b[39m(i)\n",
      "Input \u001b[0;32mIn [95]\u001b[0m, in \u001b[0;36mDcel.__getitem__\u001b[0;34m(self, key)\u001b[0m\n\u001b[1;32m    380\u001b[0m         \u001b[38;5;28;01mraise\u001b[39;00m \u001b[38;5;167;01mKeyError\u001b[39;00m(key)\n\u001b[1;32m    381\u001b[0m \u001b[38;5;28;01mexcept\u001b[39;00m \u001b[38;5;167;01mTypeError\u001b[39;00m:\n\u001b[0;32m--> 382\u001b[0m     \u001b[38;5;28;01mraise\u001b[39;00m \u001b[38;5;167;01mTypeError\u001b[39;00m(\u001b[38;5;28mself\u001b[39m\u001b[38;5;241m.\u001b[39m_dir)\n",
      "\u001b[0;31mTypeError\u001b[0m: None"
     ]
    }
   ],
   "source": [
    "# Test 'in' operator with list initialization.\n",
    "\n",
    "# This raises a TypeError:\n",
    "a = Dcel([1,2,3])\n",
    "for i in a:\n",
    "    print(i)"
   ]
  },
  {
   "cell_type": "code",
   "execution_count": 99,
   "metadata": {},
   "outputs": [],
   "source": [
    "# for JSONEncoder see DcelJSONEncoder notebook."
   ]
  },
  {
   "cell_type": "code",
   "execution_count": 25,
   "metadata": {},
   "outputs": [
    {
     "name": "stdout",
     "output_type": "stream",
     "text": [
      "123456\n",
      "6\n"
     ]
    }
   ],
   "source": [
    "# bytes encoder playground\n",
    "\n",
    "a = \"123\".encode(\"utf-8\")\n",
    "b = bytes(\"456\".encode(\"utf-8\"))\n",
    "a += b\n",
    "print(a.decode('utf-8'))\n",
    "print(len(a))"
   ]
  },
  {
   "cell_type": "code",
   "execution_count": 62,
   "metadata": {},
   "outputs": [
    {
     "name": "stdout",
     "output_type": "stream",
     "text": [
      "['var', 'hosts', 'types', 'etc', 'var', 'hosts', 'types', 'etc', 'var', 'hosts', 'types', 'etc', 'cherries.html.txt', 'apples.txt', 'skiff.txt', 'junk.txt', 'catamaran.txt', 'var', 'hosts', 'types', 'etc']\n",
      "['ssh', 'fstab', 'ssh', 'fstab', 'ssh', 'fstab', 'ssh', 'fstab']\n"
     ]
    }
   ],
   "source": [
    "# Test Dcel with formula and MulticelSeqFS\n",
    "\n",
    "from fs.osfs import OSFS\n",
    "from MulticelSeqFS import MulticelSeqFS\n",
    "\n",
    "def globstar(a):\n",
    "    items = [a[ea] for ea in a.listdir()]\n",
    "    return items\n",
    "\n",
    "a = Dcel(address='fs/fs', \n",
    "         service_class=OSFS)\n",
    "b = Dcel(formula=globstar, args=[~a])\n",
    "c = Dcel(address=b,\n",
    "         service_class=MulticelSeqFS)\n",
    "\n",
    "print(c.listdir())\n",
    "print(c['etc'].listdir())"
   ]
  },
  {
   "cell_type": "code",
   "execution_count": 60,
   "metadata": {},
   "outputs": [
    {
     "name": "stdout",
     "output_type": "stream",
     "text": [
      "True\n",
      "\n",
      "# # Cosm / Etc / FSTab\n",
      "\n",
      "# the .cosm/etc/fstab used by cburn is shared between hosts. The concept of 'localhost' is centric to a generic host model. A file url is relative to the generic host model, whereas a relative file path is relative to the working directory of cloudburner at runtime on each host.\n",
      "\n",
      "# experimental: include a hostname in the 'file://' url to limit the scope of a filepath to a specific host.\n",
      "\n",
      "# experimental: proxy the 'file' protocol and allow subdomain syntax to specify shares. The path component is relative to the share.\n",
      "\n",
      "# idea: make filepaths relative to the fstab's location, ie: for ./.cosm/etc/fstab the relative root is ../../../\n",
      "\n",
      "\n",
      "\n",
      "file://fs2.localhost/  {cburnuser}/example/  cburnfs user,shortid=f2,idcard=localuser 0 0\n",
      "file://fs.localhost    {cburnuser}/example/  cburnfs user,shortid=fs,idcard=localuser 0 0\n",
      "file://fs3.localhost/  {cburnuser}/example/  cburnfs user,shortid=f3,idcard=localuser 0 0\n",
      "file://cburnwebui.localhost/  {cburnuser}/example/  cburnfs nouser,idcard=localuser 0 0\n",
      "\n",
      "# mntopt nouser keeps the mountpoint out of the user interface and should be used for the ui overlay only.\n",
      "\n"
     ]
    }
   ],
   "source": [
    "from fs.osfs import OSFS\n",
    "\n",
    "q = Dcel(address='fs/fs', \n",
    "         service_class=OSFS\n",
    "        )\n",
    "print(q.isdir())\n",
    "print(q.value)\n",
    "print(q['.cosm/etc/fstab'].value)\n",
    "#print(q['.cosm/etc/fstab'].readbytes('.'))"
   ]
  },
  {
   "cell_type": "code",
   "execution_count": 6,
   "metadata": {},
   "outputs": [
    {
     "name": "stdout",
     "output_type": "stream",
     "text": [
      "True\n",
      "{'one': '1'}\n",
      "1\n"
     ]
    }
   ],
   "source": [
    "from DictFS import DictFS\n",
    "\n",
    "a = Dcel(address={'one':'1'}, \n",
    "         service_class=DictFS\n",
    "        )\n",
    "print(a.isdir())\n",
    "print(a.value)\n",
    "print(a['one'].value)"
   ]
  },
  {
   "cell_type": "code",
   "execution_count": 7,
   "metadata": {},
   "outputs": [],
   "source": [
    "b = Dcel(address=a, \n",
    "         service_class=DictFS\n",
    "        )"
   ]
  },
  {
   "cell_type": "code",
   "execution_count": 8,
   "metadata": {
    "scrolled": true
   },
   "outputs": [
    {
     "data": {
      "text/plain": [
       "dict"
      ]
     },
     "execution_count": 8,
     "metadata": {},
     "output_type": "execute_result"
    }
   ],
   "source": [
    "type(a.value) #'one',namespaces=['dcel']).raw"
   ]
  },
  {
   "cell_type": "code",
   "execution_count": 7,
   "metadata": {},
   "outputs": [
    {
     "name": "stdout",
     "output_type": "stream",
     "text": [
      "<class 'str'>\n",
      "/\n",
      "<class 'dict'>\n",
      "<class 'dict'>\n",
      "<DictFS.DictFS object at 0x12a3fec70>\n"
     ]
    }
   ],
   "source": [
    "print(type(b.address))\n",
    "print(b.address)\n",
    "print(type(b.value))\n",
    "print(type(b._value))\n",
    "print(b.service)"
   ]
  },
  {
   "cell_type": "code",
   "execution_count": 8,
   "metadata": {},
   "outputs": [
    {
     "data": {
      "text/plain": [
       "dict_items([(1, 1)])"
      ]
     },
     "execution_count": 8,
     "metadata": {},
     "output_type": "execute_result"
    }
   ],
   "source": [
    "{1:1}.items()"
   ]
  },
  {
   "cell_type": "code",
   "execution_count": 10,
   "metadata": {},
   "outputs": [
    {
     "name": "stdout",
     "output_type": "stream",
     "text": [
      "6\n",
      "hello\n",
      "9\n"
     ]
    }
   ],
   "source": [
    "def addem(a,b,msg=None):\n",
    "    if msg:\n",
    "        print(msg)\n",
    "    return a+b\n",
    "\n",
    "b = Dcel(value=2)\n",
    "c = Dcel(value=1)\n",
    "d = Dcel(formula=addem,args=[c,b])\n",
    "e = Dcel(formula=addem,args=[d,d])\n",
    "f = Dcel(formula=addem,args=[d,e],kwargs={'msg':'hello'})\n",
    "\n",
    "print(e.value)\n",
    "b.args = [3]\n",
    "print(f.value)"
   ]
  },
  {
   "cell_type": "code",
   "execution_count": 17,
   "metadata": {},
   "outputs": [
    {
     "name": "stdout",
     "output_type": "stream",
     "text": [
      "hi there.\n"
     ]
    }
   ],
   "source": [
    "def say_hi():\n",
    "    return(\"hi there.\")\n",
    "\n",
    "g = Dcel(formula=say_hi, args=[])\n",
    "\n",
    "print(g.value)"
   ]
  },
  {
   "cell_type": "code",
   "execution_count": 5,
   "metadata": {
    "scrolled": true
   },
   "outputs": [
    {
     "data": {
      "text/plain": [
       "__main__.Dcel"
      ]
     },
     "execution_count": 5,
     "metadata": {},
     "output_type": "execute_result"
    }
   ],
   "source": [
    "def argumentor(x):\n",
    "    return x\n",
    "\n",
    "class dc:\n",
    "    def __init__(self, dcel):\n",
    "        self._dcel = dcel\n",
    "    \n",
    "bb = ~b\n",
    "type(argumentor(~bb))"
   ]
  },
  {
   "cell_type": "code",
   "execution_count": 6,
   "metadata": {},
   "outputs": [
    {
     "data": {
      "text/plain": [
       "2"
      ]
     },
     "execution_count": 6,
     "metadata": {},
     "output_type": "execute_result"
    }
   ],
   "source": [
    "g = Dcel(formula=argumentor, \n",
    "         args=[b])\n",
    "g.value"
   ]
  },
  {
   "cell_type": "code",
   "execution_count": 7,
   "metadata": {},
   "outputs": [],
   "source": [
    "from fs.osfs import OSFS\n",
    "from DictFS import DictFS\n",
    "\n",
    "d = Dcel(service_class=OSFS, \n",
    "         address='fs'\n",
    "        )\n",
    "\n",
    "d2 = Dcel(service_class=DictFS, \n",
    "         address={'fruit': {\n",
    "                'cherries.html.txt': '<b>Sakuranbo</b>'\n",
    "                    },\n",
    "                   'boats':'skiff'\n",
    "                  }\n",
    "        )"
   ]
  },
  {
   "cell_type": "code",
   "execution_count": 8,
   "metadata": {
    "scrolled": true
   },
   "outputs": [
    {
     "data": {
      "text/plain": [
       "'<b>Sakuranbo</b>'"
      ]
     },
     "execution_count": 8,
     "metadata": {},
     "output_type": "execute_result"
    }
   ],
   "source": [
    "a = d2.path_lookup('fruit/cherries.html.txt')\n",
    "a.value"
   ]
  },
  {
   "cell_type": "code",
   "execution_count": 9,
   "metadata": {},
   "outputs": [
    {
     "data": {
      "text/plain": [
       "'<b>Sakuranbo</b>'"
      ]
     },
     "execution_count": 9,
     "metadata": {},
     "output_type": "execute_result"
    }
   ],
   "source": [
    "d2['fruit']['cherries.html.txt'].value"
   ]
  },
  {
   "cell_type": "code",
   "execution_count": 10,
   "metadata": {},
   "outputs": [],
   "source": [
    "d2['fruit']['cherries.html.txt'].value = 'hello'"
   ]
  },
  {
   "cell_type": "code",
   "execution_count": 14,
   "metadata": {},
   "outputs": [],
   "source": [
    "d['fruit']['apples.txt'].value = 'red'"
   ]
  },
  {
   "cell_type": "code",
   "execution_count": 7,
   "metadata": {},
   "outputs": [
    {
     "data": {
      "text/plain": [
       "'red'"
      ]
     },
     "execution_count": 7,
     "metadata": {},
     "output_type": "execute_result"
    }
   ],
   "source": [
    "d['fruit']['apples.txt'].value"
   ]
  },
  {
   "cell_type": "code",
   "execution_count": 8,
   "metadata": {
    "scrolled": false
   },
   "outputs": [
    {
     "name": "stdout",
     "output_type": "stream",
     "text": [
      "{'basic': {'name': 'fruit', 'is_dir': True}, 'dcel': {'hosts': ['localhost']}}\n",
      "['apples.txt', 'cherries.html.txt']\n",
      "<i>sakuranbo</i> means <b>cherries</b>\n",
      "\n",
      "{'basic': {'name': 'fruit', 'is_dir': True}, 'dcel': {'hosts': ['localhost']}}\n",
      "['cherries.html.txt']\n",
      "hello\n"
     ]
    }
   ],
   "source": [
    "for ea in d,d2:\n",
    "    print(ea['fruit'].getinfo().raw)\n",
    "    print(ea['fruit'].listdir())\n",
    "    print(ea['fruit']['cherries.html.txt'].value)"
   ]
  },
  {
   "cell_type": "code",
   "execution_count": 9,
   "metadata": {
    "scrolled": true
   },
   "outputs": [
    {
     "name": "stdout",
     "output_type": "stream",
     "text": [
      "{'basic': {'name': '', 'is_dir': True}, 'dcel': {'hosts': ['localhost']}}\n",
      "['fruit', 'boats', '.cosm', 'test.txt', '.git']\n",
      "None\n",
      "{'basic': {'name': '', 'is_dir': True}, 'dcel': {'hosts': ['localhost']}}\n",
      "['fruit', 'boats']\n",
      "{'fruit': {'cherries.html.txt': 'hello'}, 'boats': 'skiff'}\n"
     ]
    }
   ],
   "source": [
    "for ea in d,d2:\n",
    "    print(ea.getinfo().raw)\n",
    "    print(ea.listdir())\n",
    "    print(ea.value)\n",
    "\n"
   ]
  },
  {
   "cell_type": "code",
   "execution_count": 14,
   "metadata": {
    "scrolled": false
   },
   "outputs": [
    {
     "name": "stdout",
     "output_type": "stream",
     "text": [
      "---\n",
      "'raygan.com:80'\n",
      "ParseResult(protocol='sshfs', username=None, password=None, resource='raygan.com:80/path', params={}, path=None)\n",
      "---\n",
      "'localhost:80'\n",
      "ParseResult(protocol='http', username=None, password=None, resource='localhost:80/path;parameters', params={'query': 'argument#fragment'}, path=None)\n",
      "---\n",
      "'localhost'\n",
      "ParseResult(protocol='file', username=None, password=None, resource='localhost/path', params={}, path=None)\n",
      "---\n",
      "''\n"
     ]
    },
    {
     "ename": "ParseError",
     "evalue": "'fs' is not a fs2 url",
     "output_type": "error",
     "traceback": [
      "\u001b[0;31m---------------------------------------------------------------------------\u001b[0m",
      "\u001b[0;31mParseError\u001b[0m                                Traceback (most recent call last)",
      "\u001b[0;32m<ipython-input-14-2f44555fcfbe>\u001b[0m in \u001b[0;36m<module>\u001b[0;34m\u001b[0m\n\u001b[1;32m     12\u001b[0m     \u001b[0mparsed\u001b[0m \u001b[0;34m=\u001b[0m \u001b[0murlparse\u001b[0m\u001b[0;34m(\u001b[0m\u001b[0mu\u001b[0m\u001b[0;34m)\u001b[0m\u001b[0;34m.\u001b[0m\u001b[0mnetloc\u001b[0m\u001b[0;34m\u001b[0m\u001b[0;34m\u001b[0m\u001b[0m\n\u001b[1;32m     13\u001b[0m     \u001b[0mprint\u001b[0m\u001b[0;34m(\u001b[0m\u001b[0;34m'\\''\u001b[0m\u001b[0;34m+\u001b[0m\u001b[0mparsed\u001b[0m\u001b[0;34m+\u001b[0m\u001b[0;34m'\\''\u001b[0m\u001b[0;34m)\u001b[0m\u001b[0;34m\u001b[0m\u001b[0;34m\u001b[0m\u001b[0m\n\u001b[0;32m---> 14\u001b[0;31m     \u001b[0mfsparsed\u001b[0m \u001b[0;34m=\u001b[0m \u001b[0mparse\u001b[0m\u001b[0;34m(\u001b[0m\u001b[0mu\u001b[0m\u001b[0;34m)\u001b[0m\u001b[0;34m\u001b[0m\u001b[0;34m\u001b[0m\u001b[0m\n\u001b[0m\u001b[1;32m     15\u001b[0m     \u001b[0mprint\u001b[0m\u001b[0;34m(\u001b[0m\u001b[0mfsparsed\u001b[0m\u001b[0;34m)\u001b[0m\u001b[0;34m\u001b[0m\u001b[0;34m\u001b[0m\u001b[0m\n\u001b[1;32m     16\u001b[0m \u001b[0;34m\u001b[0m\u001b[0m\n",
      "\u001b[0;32m/var/mobile/Containers/Data/Application/9DBD9C20-8AA4-43F7-95BF-0F6447F4055C/Library/lib/python3.9/site-packages/fs/opener/parse.py\u001b[0m in \u001b[0;36mparse_fs_url\u001b[0;34m(fs_url)\u001b[0m\n\u001b[1;32m     76\u001b[0m     \u001b[0mmatch\u001b[0m \u001b[0;34m=\u001b[0m \u001b[0m_RE_FS_URL\u001b[0m\u001b[0;34m.\u001b[0m\u001b[0mmatch\u001b[0m\u001b[0;34m(\u001b[0m\u001b[0mfs_url\u001b[0m\u001b[0;34m)\u001b[0m\u001b[0;34m\u001b[0m\u001b[0;34m\u001b[0m\u001b[0m\n\u001b[1;32m     77\u001b[0m     \u001b[0;32mif\u001b[0m \u001b[0mmatch\u001b[0m \u001b[0;32mis\u001b[0m \u001b[0;32mNone\u001b[0m\u001b[0;34m:\u001b[0m\u001b[0;34m\u001b[0m\u001b[0;34m\u001b[0m\u001b[0m\n\u001b[0;32m---> 78\u001b[0;31m         \u001b[0;32mraise\u001b[0m \u001b[0mParseError\u001b[0m\u001b[0;34m(\u001b[0m\u001b[0;34m\"{!r} is not a fs2 url\"\u001b[0m\u001b[0;34m.\u001b[0m\u001b[0mformat\u001b[0m\u001b[0;34m(\u001b[0m\u001b[0mfs_url\u001b[0m\u001b[0;34m)\u001b[0m\u001b[0;34m)\u001b[0m\u001b[0;34m\u001b[0m\u001b[0;34m\u001b[0m\u001b[0m\n\u001b[0m\u001b[1;32m     79\u001b[0m \u001b[0;34m\u001b[0m\u001b[0m\n\u001b[1;32m     80\u001b[0m     \u001b[0mfs_name\u001b[0m\u001b[0;34m,\u001b[0m \u001b[0mcredentials\u001b[0m\u001b[0;34m,\u001b[0m \u001b[0murl1\u001b[0m\u001b[0;34m,\u001b[0m \u001b[0murl2\u001b[0m\u001b[0;34m,\u001b[0m \u001b[0mpath\u001b[0m \u001b[0;34m=\u001b[0m \u001b[0mmatch\u001b[0m\u001b[0;34m.\u001b[0m\u001b[0mgroups\u001b[0m\u001b[0;34m(\u001b[0m\u001b[0;34m)\u001b[0m\u001b[0;34m\u001b[0m\u001b[0;34m\u001b[0m\u001b[0m\n",
      "\u001b[0;31mParseError\u001b[0m: 'fs' is not a fs2 url"
     ]
    }
   ],
   "source": [
    "from urllib.parse import urlparse\n",
    "from fs.opener import parse\n",
    "\n",
    "urls = ['sshfs://raygan.com:80/path',\n",
    "       'http://localhost:80/path;parameters?query=argument#fragment',\n",
    "       'file://localhost/path',\n",
    "        'fs'\n",
    "       ]\n",
    "\n",
    "for u in urls:\n",
    "    print('---')\n",
    "    parsed = urlparse(u).netloc\n",
    "    print('\\''+parsed+'\\'')\n",
    "    fsparsed = parse(u)\n",
    "    print(fsparsed)\n",
    "    \n"
   ]
  },
  {
   "cell_type": "code",
   "execution_count": 3,
   "metadata": {},
   "outputs": [
    {
     "name": "stdout",
     "output_type": "stream",
     "text": [
      "blue\n"
     ]
    }
   ],
   "source": [
    "class Dtest3:\n",
    "    def __init__(self):\n",
    "        self.address = 'blue'\n",
    "    def getinfo(self,addr=None):\n",
    "        if addr is None:\n",
    "            addr = self.address\n",
    "        print(addr)\n",
    "\n",
    "a = Dtest3()\n",
    "a.getinfo()"
   ]
  },
  {
   "cell_type": "code",
   "execution_count": 2,
   "metadata": {
    "scrolled": true
   },
   "outputs": [],
   "source": [
    "class Dtest2:\n",
    "    def __init__(self):\n",
    "        pass\n",
    "    \n",
    "    @property\n",
    "    def value(self):\n",
    "        try: \n",
    "            return self._value\n",
    "        except:\n",
    "            print('no dice')\n",
    "            return ''"
   ]
  },
  {
   "cell_type": "code",
   "execution_count": 4,
   "metadata": {},
   "outputs": [
    {
     "name": "stdout",
     "output_type": "stream",
     "text": [
      "no dice\n"
     ]
    },
    {
     "data": {
      "text/plain": [
       "''"
      ]
     },
     "execution_count": 4,
     "metadata": {},
     "output_type": "execute_result"
    }
   ],
   "source": [
    "a = Dtest2()\n",
    "a.value"
   ]
  },
  {
   "cell_type": "code",
   "execution_count": 16,
   "metadata": {},
   "outputs": [],
   "source": [
    "# Init Logic\n",
    "\n",
    "class Dtest:\n",
    "    def __init__(self,\n",
    "                 address = None,\n",
    "                 service = None,\n",
    "                 args = None,\n",
    "                 formula = None,\n",
    "                 value = None,\n",
    "                 service_class = None,\n",
    "                 service_args = None,\n",
    "                 # obsolete\n",
    "                 hostname = 'example',\n",
    "                ):\n",
    "        if service and not address is None:\n",
    "            print('addr-service pair')\n",
    "        elif service_class and not address is None:\n",
    "            print('Create new service object')\n",
    "            if service_args:\n",
    "                print('service args applied')\n",
    "        if formula and args:\n",
    "            print('formula-args pair')\n",
    "        elif formula:\n",
    "            print('formula without args')\n",
    "        if not value is None:\n",
    "            print('value explicitly set')\n",
    "            self._value = value\n",
    "        "
   ]
  },
  {
   "cell_type": "code",
   "execution_count": 18,
   "metadata": {},
   "outputs": [
    {
     "name": "stdout",
     "output_type": "stream",
     "text": [
      "addr-service pair\n",
      "formula-args pair\n",
      "Create new service object\n",
      "service args applied\n",
      "formula without args\n",
      "value explicitly set\n"
     ]
    }
   ],
   "source": [
    "a = Dtest(\n",
    "          service='one',\n",
    "          address='two',\n",
    "          formula='three',\n",
    "          args=[1,2,3,4],\n",
    "          service_args=[1,2,3],\n",
    "         )\n",
    "\n",
    "b = Dtest(\n",
    "          service_class='one',\n",
    "          service_args=[1,2,3],\n",
    "          address='two',\n",
    "          formula='three',\n",
    "          value='',\n",
    "         )\n"
   ]
  },
  {
   "cell_type": "code",
   "execution_count": 4,
   "metadata": {},
   "outputs": [
    {
     "data": {
      "text/plain": [
       "abc.ABCMeta"
      ]
     },
     "execution_count": 4,
     "metadata": {},
     "output_type": "execute_result"
    }
   ],
   "source": [
    "d = Dcel()\n",
    "type(Dcel)\n"
   ]
  },
  {
   "cell_type": "code",
   "execution_count": 3,
   "metadata": {
    "scrolled": true
   },
   "outputs": [
    {
     "name": "stdout",
     "output_type": "stream",
     "text": [
      "hello\n"
     ]
    }
   ],
   "source": [
    "x = None\n",
    "try:\n",
    "    y = x[1]\n",
    "except TypeError:\n",
    "    x = dict()\n",
    "    y = x[1] = 'hello'\n",
    "\n",
    "except KeyError:\n",
    "    y = x[1] = 'hello'\n",
    "\n",
    "print(y)"
   ]
  },
  {
   "cell_type": "code",
   "execution_count": 10,
   "metadata": {},
   "outputs": [],
   "source": [
    "from DictFS import DictFS\n",
    "\n",
    "fsdict = {\".cosm\":\n",
    "          {\"etc\":\n",
    "           {\"fstab\": \"fs.raygan.com / sshfs\"\n",
    "           }\n",
    "          }\n",
    "         }\n",
    "\n",
    "d = Dcel(fsdict,DictFS)\n",
    "\n"
   ]
  },
  {
   "cell_type": "code",
   "execution_count": 5,
   "metadata": {
    "scrolled": true
   },
   "outputs": [
    {
     "name": "stdout",
     "output_type": "stream",
     "text": [
      "<class 'abc.ABCMeta'>\n"
     ]
    }
   ],
   "source": [
    "\n",
    "\n",
    "if str(type(DictFS)) == \"abc.ABCMeta\":\n",
    "    print('OK')\n",
    "    \n",
    "print(str(type(DictFS)))"
   ]
  },
  {
   "cell_type": "code",
   "execution_count": 13,
   "metadata": {},
   "outputs": [],
   "source": [
    "from FileService import FileService\n",
    "from fs.osfs import OSFS\n",
    "\n",
    "d = Dcel('fs',OSFS)"
   ]
  },
  {
   "cell_type": "code",
   "execution_count": 14,
   "metadata": {},
   "outputs": [
    {
     "data": {
      "text/plain": [
       "abc.ABCMeta"
      ]
     },
     "execution_count": 14,
     "metadata": {},
     "output_type": "execute_result"
    }
   ],
   "source": [
    "d.address\n",
    "type(OSFS)"
   ]
  },
  {
   "cell_type": "code",
   "execution_count": 5,
   "metadata": {},
   "outputs": [
    {
     "ename": "AttributeError",
     "evalue": "'Dcel' object has no attribute 'service'",
     "output_type": "error",
     "traceback": [
      "\u001b[0;31m---------------------------------------------------------------------------\u001b[0m",
      "\u001b[0;31mAttributeError\u001b[0m                            Traceback (most recent call last)",
      "\u001b[0;32m<ipython-input-5-757aab7f0a04>\u001b[0m in \u001b[0;36m<module>\u001b[0;34m\u001b[0m\n\u001b[0;32m----> 1\u001b[0;31m \u001b[0md\u001b[0m\u001b[0;34m.\u001b[0m\u001b[0mgetinfo\u001b[0m\u001b[0;34m(\u001b[0m\u001b[0;34m'.cosm/etc/'\u001b[0m\u001b[0;34m)\u001b[0m\u001b[0;34m.\u001b[0m\u001b[0mraw\u001b[0m\u001b[0;34m\u001b[0m\u001b[0;34m\u001b[0m\u001b[0m\n\u001b[0m",
      "\u001b[0;32m<ipython-input-1-d985954f51a1>\u001b[0m in \u001b[0;36mgetinfo\u001b[0;34m(self, path, namespaces)\u001b[0m\n\u001b[1;32m    210\u001b[0m             \u001b[0;32mexcept\u001b[0m\u001b[0;34m:\u001b[0m\u001b[0;34m\u001b[0m\u001b[0;34m\u001b[0m\u001b[0m\n\u001b[1;32m    211\u001b[0m                 \u001b[0mpath\u001b[0m \u001b[0;34m=\u001b[0m \u001b[0;34m'/'\u001b[0m\u001b[0;34m\u001b[0m\u001b[0;34m\u001b[0m\u001b[0m\n\u001b[0;32m--> 212\u001b[0;31m         \u001b[0minfo\u001b[0m \u001b[0;34m=\u001b[0m \u001b[0mself\u001b[0m\u001b[0;34m.\u001b[0m\u001b[0mservice\u001b[0m\u001b[0;34m.\u001b[0m\u001b[0mgetinfo\u001b[0m\u001b[0;34m(\u001b[0m\u001b[0mpath\u001b[0m\u001b[0;34m,\u001b[0m\u001b[0mnamespaces\u001b[0m\u001b[0;34m)\u001b[0m\u001b[0;34m\u001b[0m\u001b[0;34m\u001b[0m\u001b[0m\n\u001b[0m\u001b[1;32m    213\u001b[0m         \u001b[0mhostinfo\u001b[0m \u001b[0;34m=\u001b[0m \u001b[0;34m{\u001b[0m\u001b[0;34m\"dcel\"\u001b[0m\u001b[0;34m:\u001b[0m \u001b[0;34m{\u001b[0m\u001b[0;34m\"hosts\"\u001b[0m\u001b[0;34m:\u001b[0m \u001b[0;34m[\u001b[0m\u001b[0mself\u001b[0m\u001b[0;34m.\u001b[0m\u001b[0mhostname\u001b[0m\u001b[0;34m]\u001b[0m\u001b[0;34m}\u001b[0m\u001b[0;34m}\u001b[0m\u001b[0;34m\u001b[0m\u001b[0;34m\u001b[0m\u001b[0m\n\u001b[1;32m    214\u001b[0m         \u001b[0minfo\u001b[0m\u001b[0;34m.\u001b[0m\u001b[0mraw\u001b[0m \u001b[0;34m=\u001b[0m \u001b[0mself\u001b[0m\u001b[0;34m.\u001b[0m\u001b[0mmergeinfo\u001b[0m\u001b[0;34m(\u001b[0m\u001b[0minfo\u001b[0m\u001b[0;34m.\u001b[0m\u001b[0mraw\u001b[0m\u001b[0;34m,\u001b[0m \u001b[0mhostinfo\u001b[0m\u001b[0;34m)\u001b[0m\u001b[0;34m\u001b[0m\u001b[0;34m\u001b[0m\u001b[0m\n",
      "\u001b[0;31mAttributeError\u001b[0m: 'Dcel' object has no attribute 'service'"
     ]
    }
   ],
   "source": [
    "d.getinfo('.cosm/etc/').raw"
   ]
  },
  {
   "cell_type": "code",
   "execution_count": 6,
   "metadata": {},
   "outputs": [
    {
     "name": "stdout",
     "output_type": "stream",
     "text": [
      "getitem...\n",
      "getitem: key: .cosm\n",
      "getitem: path: /.cosm\n",
      "getitem...\n",
      "getitem: key: etc\n",
      "getitem: path: /.cosm/etc\n"
     ]
    },
    {
     "data": {
      "text/plain": [
       "['fstab']"
      ]
     },
     "execution_count": 6,
     "metadata": {},
     "output_type": "execute_result"
    }
   ],
   "source": [
    "d['.cosm']['etc'].listdir()"
   ]
  }
 ],
 "metadata": {
  "kernelspec": {
   "display_name": "Python 3.9",
   "language": "python",
   "name": "python3"
  },
  "language_info": {
   "codemirror_mode": {
    "name": "ipython",
    "version": 3
   },
   "file_extension": ".py",
   "mimetype": "text/x-python",
   "name": "python",
   "nbconvert_exporter": "python",
   "pygments_lexer": "ipython3",
   "version": "3.9.5"
  }
 },
 "nbformat": 4,
 "nbformat_minor": 2
}
