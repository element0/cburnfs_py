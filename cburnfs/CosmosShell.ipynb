{
 "cells": [
  {
   "cell_type": "markdown",
   "metadata": {},
   "source": [
    "# Cosmos Shell\n",
    "\n",
    "The Cosmos Shell, is an acronym + visual pun.\n",
    "\n",
    "    Cosmos: \"Cascading Operating SysteM Operating System\"\n",
    "    Shell: \"@ + specialized shell behavior\"\n",
    "    \n",
    "## Wraps APath\n",
    "\n",
    "The Cosmos Shell python object `CosmosShell` wraps an `APath` Access Path object. The shell uses the Access Path as a context to execute commands.\n",
    "\n",
    "The Cosmos type-system has commands like `new` which create a file system object from a type template.\n",
    "\n",
    "\n",
    "## Target Paths vs. APath Location\n",
    "\n",
    "In the examples below, a target path may be specified like `/a/b/c.typename`. A CosmosShell operates only on one segment of a path. The path lookup mechanism can use CosmosShell to execute commands in each lookup step, in the context of each path segment, the resulting `APath` object for `/a/b/` would issue a command `new` to create `c.typename`. This command would run in a CosmosShell wrapping the `/a/b/` APath. The pathname value of the APath would be `/a/b/` and the new target directory entry pathname would be `/a/b/c.typename` so the target pathname could be pattern matched with a type-match of `*.typename`. However, it must be noted that the actual execution environment of the CosmosShell is the APath for `/a/b/`, and not `/`.\n",
    "\n",
    "\n",
    "## Snail Shell Directories\n",
    "\n",
    "    @/\n",
    "\n",
    "Anywhere in the file system where there is an '@' directory, the contents of the '@' directory overload the contents of a previous '@' directory further up the hierarchy.\n",
    "\n",
    "In an '@' aware file system, '@' will always resolve as a local directory, even if it doesn't exist in the underlying file system.\n",
    "\n",
    "    .@/\n",
    "    \n",
    "The snail shell directory may be hidden, but functions the same.\n",
    "\n",
    "\n",
    "## Object Oriented Type System\n",
    "\n",
    "    @/Types/\n",
    "\n",
    "A type system that uses the python `Jinja` template processor on filenames and file contents:\n",
    "    \n",
    "`@/Types` defines classes that may be instantiated under the APath's level of the file system hierarchy.\n",
    "\n",
    "Example:\n",
    "\n",
    "    /my/projects/@/Types/project\n",
    "    \n",
    "Enables...\n",
    "\n",
    "    > new /my/project/special.project\n",
    "    \n",
    "...to instantiate a directory called `special.project/` which is prepopulated with files from `@/Types/project`\n",
    "\n",
    "The `new` command accepts arguments that will expand to variable names within the `Types/project` template processed by `Jinja`.\n",
    "\n",
    "    @/Types/project/\n",
    "        {{main_file}}.py\n",
    "        \n",
    "Where `{{main_flename}}.py` has these contents:\n",
    "\n",
    "    import {{class}} from {{module}}\n",
    "    \n",
    "    x = {{class}}({{ttl}})\n",
    "    \n",
    "And where `new` was invoked like this:\n",
    "\n",
    "    > new /my/project/special.project --json '{\"main_file\":\"boris\",\"class\":\"Bomb\",\"module\":\"coat_pocket\",\"ttl\":\"5000\"}'\n",
    "    \n",
    "Creates:\n",
    "\n",
    "    /my/project/\n",
    "        special.project/\n",
    "            boris.py\n",
    "            \n",
    "Where `boris.py` has these contents:\n",
    "\n",
    "    import Bomb from coat_pocket\n",
    "    \n",
    "    x = Bomb(5000)\n",
    "    \n",
    "\n",
    "## Python Implementation\n",
    "\n",
    "When the `new` command is implemented in Python:\n",
    "\n",
    "    if __name__ == \"__main__\":\n",
    "        fs = OSFS('.')\n",
    "        snail_shell = SnailShellFS(fs)\n",
    "        \n"
   ]
  },
  {
   "cell_type": "code",
   "execution_count": 21,
   "metadata": {},
   "outputs": [],
   "source": [
    "class CosmosShell:\n",
    "    def __init__(self, apath=None):\n",
    "        self._apath = apath\n",
    "        return None\n",
    "    \n",
    "    def new(self, dirent_name='', typename='', **kwargs):\n",
    "        return None"
   ]
  },
  {
   "cell_type": "code",
   "execution_count": 22,
   "metadata": {},
   "outputs": [],
   "source": [
    "# Test CosmosShell Init\n",
    "\n",
    "cosh = CosmosShell()"
   ]
  },
  {
   "cell_type": "code",
   "execution_count": 23,
   "metadata": {},
   "outputs": [
    {
     "data": {
      "text/plain": [
       "<__main__.CosmosShell at 0x7f09a82b0370>"
      ]
     },
     "execution_count": 23,
     "metadata": {},
     "output_type": "execute_result"
    }
   ],
   "source": [
    "cosh"
   ]
  },
  {
   "cell_type": "code",
   "execution_count": 19,
   "metadata": {},
   "outputs": [],
   "source": [
    "cosh.new('rclone.conf','*/.config/rclone/rclone.conf')"
   ]
  },
  {
   "cell_type": "code",
   "execution_count": 24,
   "metadata": {},
   "outputs": [],
   "source": [
    "cosh.new('dbox','*/.config/rclone/rclone.conf/*.dropbox')"
   ]
  },
  {
   "cell_type": "code",
   "execution_count": null,
   "metadata": {},
   "outputs": [],
   "source": [
    "# Test Apath Init Helper for CLI Invocation\n",
    "\n",
    "CosmosShell.APath_from_cli()"
   ]
  }
 ],
 "metadata": {
  "kernelspec": {
   "display_name": "Python 3.9",
   "language": "python",
   "name": "python3"
  },
  "language_info": {
   "codemirror_mode": {
    "name": "ipython",
    "version": 3
   },
   "file_extension": ".py",
   "mimetype": "text/x-python",
   "name": "python",
   "nbconvert_exporter": "python",
   "pygments_lexer": "ipython3",
   "version": "3.9.5"
  }
 },
 "nbformat": 4,
 "nbformat_minor": 4
}
