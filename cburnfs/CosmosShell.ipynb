{
 "cells": [
  {
   "cell_type": "markdown",
   "metadata": {},
   "source": [
    "# Cosmos Shell\n",
    "\n",
    "The Cosmos Shell, is an acronym + visual pun.\n",
    "\n",
    "    Cosmos: \"Cascading Operating SysteM Operating System\"\n",
    "    Shell: \"@ + specialized shell behavior\"\n",
    "    \n",
    "## Wraps APath\n",
    "\n",
    "The Cosmos Shell python object `CosmosShell` wraps an `APath` Access Path object. The shell uses the Access Path as a context to execute commands.\n",
    "\n",
    "The Cosmos type-system has commands like `new` which create a file system object from a type template.\n",
    "\n",
    "\n",
    "## Target Paths vs. APath Location\n",
    "\n",
    "In the examples below, a target path may be specified like `/a/b/c.typename`. A CosmosShell operates only on one segment of a path. The path lookup mechanism can use CosmosShell to execute commands in each lookup step, in the context of each path segment, the resulting `APath` object for `/a/b/` would issue a command `new` to create `c.typename`. This command would run in a CosmosShell wrapping the `/a/b/` APath. The pathname value of the APath would be `/a/b/` and the new target directory entry pathname would be `/a/b/c.typename` so the target pathname could be pattern matched with a type-match of `*.typename`. However, it must be noted that the actual execution environment of the CosmosShell is the APath for `/a/b/`, and not `/`.\n",
    "\n",
    "\n",
    "## Snail Shell Directories\n",
    "\n",
    "    @/\n",
    "\n",
    "Anywhere in the file system where there is an '@' directory, the contents of the '@' directory overload the contents of a previous '@' directory further up the hierarchy.\n",
    "\n",
    "In an '@' aware file system, '@' will always resolve as a local directory, even if it doesn't exist in the underlying file system.\n",
    "\n",
    "    .@/\n",
    "    \n",
    "The snail shell directory may be hidden, but functions the same.\n",
    "\n",
    "\n",
    "## Object Oriented Type System\n",
    "\n",
    "    @/Types/\n",
    "\n",
    "A type system that uses the python `Jinja` template processor on filenames and file contents:\n",
    "    \n",
    "`@/Types` defines classes that may be instantiated under the APath's level of the file system hierarchy.\n",
    "\n",
    "Example:\n",
    "\n",
    "    /my/projects/@/Types/project\n",
    "    \n",
    "Enables...\n",
    "\n",
    "    > new /my/project/special.project\n",
    "    \n",
    "...to instantiate a directory called `special.project/` which is prepopulated with files from `@/Types/project`\n",
    "\n",
    "The `new` command accepts arguments that will expand to variable names within the `Types/project` template processed by `Jinja`.\n",
    "\n",
    "    @/Types/project/\n",
    "        {{main_file}}.py\n",
    "        \n",
    "Where `{{main_flename}}.py` has these contents:\n",
    "\n",
    "    import {{class}} from {{module}}\n",
    "    \n",
    "    x = {{class}}({{ttl}})\n",
    "    \n",
    "And where `new` was invoked like this:\n",
    "\n",
    "    > new /my/project/special.project --json '{\"main_file\":\"boris\",\"class\":\"Bomb\",\"module\":\"coat_pocket\",\"ttl\":\"5000\"}'\n",
    "    \n",
    "Creates:\n",
    "\n",
    "    /my/project/\n",
    "        special.project/\n",
    "            boris.py\n",
    "            \n",
    "Where `boris.py` has these contents:\n",
    "\n",
    "    import Bomb from coat_pocket\n",
    "    \n",
    "    x = Bomb(5000)\n",
    "    \n",
    "\n",
    "## Python Implementation\n",
    "\n",
    "CosmosShell class instance method new(). default behavior uses Jinja to process names and file contents. No code solution. Just create a type template under @/Types and pass the variable substitutions to the new command.\n",
    "\n",
    "To modify and customize the new object behavior, you need to write a `New.py` file under `@/Types/<yourtype>/@/bin/`. The signature of the new function follows:\n",
    "\n",
    "    def new(apath, jsonargs)\n",
    "\n",
    "\n",
    "\n",
    "\n",
    "\n",
    "## Python as a cli\n",
    "\n",
    "When the `new` command is implemented in Python as CLI executable.\n",
    "\n",
    "    if __name__ == \"__main__\":\n",
    "        fs = OSFS('.')\n",
    "        snail_shell = SnailShellFS(fs)\n",
    "        \n"
   ]
  },
  {
   "cell_type": "code",
   "execution_count": 2,
   "metadata": {},
   "outputs": [],
   "source": [
    "class CosmosShell:\n",
    "    def __init__(self, apath=None):\n",
    "        self._apath = apath\n",
    "        return None\n",
    "    \n",
    "    def new(self, dirent_name='', typename='', **kwargs):\n",
    "        return None"
   ]
  },
  {
   "cell_type": "code",
   "execution_count": 3,
   "metadata": {},
   "outputs": [],
   "source": [
    "from APath import APath\n",
    "from Dcel import Dcel\n",
    "from fs.osfs import OSFS\n",
    "\n",
    "a = APath(Dcel('fs/fs',service_class=OSFS))"
   ]
  },
  {
   "cell_type": "code",
   "execution_count": 4,
   "metadata": {},
   "outputs": [
    {
     "data": {
      "text/plain": [
       "['.*[/]etc[/]fstab']"
      ]
     },
     "execution_count": 4,
     "metadata": {},
     "output_type": "execute_result"
    }
   ],
   "source": [
    "a.cosm.listdir('/etc/typematch/filefmt')"
   ]
  },
  {
   "cell_type": "code",
   "execution_count": 5,
   "metadata": {},
   "outputs": [
    {
     "data": {
      "text/plain": [
       "['#!', '$__start__', 'entry', 'field']"
      ]
     },
     "execution_count": 5,
     "metadata": {},
     "output_type": "execute_result"
    }
   ],
   "source": [
    "a.cosm.listdir('/types/fstab')"
   ]
  },
  {
   "cell_type": "code",
   "execution_count": 11,
   "metadata": {},
   "outputs": [
    {
     "data": {
      "text/plain": [
       "['fstab', 'cskvp', 'url']"
      ]
     },
     "execution_count": 11,
     "metadata": {},
     "output_type": "execute_result"
    }
   ],
   "source": [
    "a.cosm.listdir('/types')"
   ]
  },
  {
   "cell_type": "markdown",
   "metadata": {},
   "source": [
    "### WIP `new()` method"
   ]
  },
  {
   "cell_type": "code",
   "execution_count": 6,
   "metadata": {},
   "outputs": [
    {
     "data": {
      "text/plain": [
       "['test', '.cosm', 'fruit', 'tmp_updateMultiValue.txt', 'numbers', 'boats', '@']"
      ]
     },
     "execution_count": 6,
     "metadata": {},
     "output_type": "execute_result"
    }
   ],
   "source": [
    "a.listdir('/')"
   ]
  },
  {
   "cell_type": "code",
   "execution_count": 7,
   "metadata": {},
   "outputs": [
    {
     "data": {
      "text/plain": [
       "SubFS(OSFS('fs/fs'), '/test')"
      ]
     },
     "execution_count": 7,
     "metadata": {},
     "output_type": "execute_result"
    }
   ],
   "source": [
    "a.makedir('/test',recreate=True)"
   ]
  },
  {
   "cell_type": "code",
   "execution_count": 8,
   "metadata": {},
   "outputs": [],
   "source": [
    "# args\n",
    "apath = a.opendir('/test')\n",
    "target = 'new.thing'\n"
   ]
  },
  {
   "cell_type": "code",
   "execution_count": 9,
   "metadata": {},
   "outputs": [
    {
     "data": {
      "text/plain": [
       "SubFS(<APath.APath object at 0x7f4efd63e070>, '/test')"
      ]
     },
     "execution_count": 9,
     "metadata": {},
     "output_type": "execute_result"
    }
   ],
   "source": [
    "apath"
   ]
  },
  {
   "cell_type": "code",
   "execution_count": 14,
   "metadata": {},
   "outputs": [
    {
     "data": {
      "text/plain": [
       "[]"
      ]
     },
     "execution_count": 14,
     "metadata": {},
     "output_type": "execute_result"
    }
   ],
   "source": [
    "apath.listdir('/')"
   ]
  },
  {
   "cell_type": "code",
   "execution_count": 12,
   "metadata": {},
   "outputs": [
    {
     "ename": "AttributeError",
     "evalue": "'SubFS' object has no attribute 'cosm'",
     "output_type": "error",
     "traceback": [
      "\u001b[0;31m---------------------------------------------------------------------------\u001b[0m",
      "\u001b[0;31mAttributeError\u001b[0m                            Traceback (most recent call last)",
      "Input \u001b[0;32mIn [12]\u001b[0m, in \u001b[0;36m<cell line: 1>\u001b[0;34m()\u001b[0m\n\u001b[0;32m----> 1\u001b[0m \u001b[43mapath\u001b[49m\u001b[38;5;241;43m.\u001b[39;49m\u001b[43mcosm\u001b[49m\u001b[38;5;241m.\u001b[39mlistdir(\u001b[38;5;124m'\u001b[39m\u001b[38;5;124m/\u001b[39m\u001b[38;5;124m'\u001b[39m)\n",
      "\u001b[0;31mAttributeError\u001b[0m: 'SubFS' object has no attribute 'cosm'"
     ]
    }
   ],
   "source": [
    "# won't work if apath is SubFS\n",
    "apath.cosm.listdir('/')"
   ]
  },
  {
   "cell_type": "code",
   "execution_count": 15,
   "metadata": {},
   "outputs": [],
   "source": [
    "bpath = a.lookup('/test')"
   ]
  },
  {
   "cell_type": "code",
   "execution_count": 26,
   "metadata": {},
   "outputs": [
    {
     "name": "stdout",
     "output_type": "stream",
     "text": [
      "['fstab', 'cskvp', 'url']\n",
      "[]\n"
     ]
    }
   ],
   "source": [
    "print(bpath.cosm.listdir('/types'))\n",
    "print(bpath.listdir('./'))"
   ]
  },
  {
   "cell_type": "markdown",
   "metadata": {},
   "source": [
    "### Test CosmosShell `init()` method"
   ]
  },
  {
   "cell_type": "code",
   "execution_count": 51,
   "metadata": {},
   "outputs": [],
   "source": [
    "# Test CosmosShell Init\n",
    "\n",
    "cosh = CosmosShell(a)"
   ]
  },
  {
   "cell_type": "code",
   "execution_count": 52,
   "metadata": {},
   "outputs": [
    {
     "data": {
      "text/plain": [
       "<__main__.CosmosShell at 0x7f098ab0e340>"
      ]
     },
     "execution_count": 52,
     "metadata": {},
     "output_type": "execute_result"
    }
   ],
   "source": [
    "cosh"
   ]
  },
  {
   "cell_type": "code",
   "execution_count": 53,
   "metadata": {},
   "outputs": [],
   "source": [
    "cosh.new('rclone.conf','*/.config/rclone/rclone.conf')"
   ]
  },
  {
   "cell_type": "code",
   "execution_count": 54,
   "metadata": {},
   "outputs": [],
   "source": [
    "cosh.new('dbox','*/.config/rclone/rclone.conf/*.dropbox')"
   ]
  },
  {
   "cell_type": "code",
   "execution_count": null,
   "metadata": {},
   "outputs": [],
   "source": [
    "# Test Apath Init Helper for CLI Invocation\n",
    "\n",
    "CosmosShell.APath_from_cli()"
   ]
  }
 ],
 "metadata": {
  "kernelspec": {
   "display_name": "Python 3.9",
   "language": "python",
   "name": "python3"
  },
  "language_info": {
   "codemirror_mode": {
    "name": "ipython",
    "version": 3
   },
   "file_extension": ".py",
   "mimetype": "text/x-python",
   "name": "python",
   "nbconvert_exporter": "python",
   "pygments_lexer": "ipython3",
   "version": "3.9.5"
  }
 },
 "nbformat": 4,
 "nbformat_minor": 4
}
