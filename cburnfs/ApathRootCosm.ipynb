{
 "cells": [
  {
   "cell_type": "markdown",
   "metadata": {},
   "source": [
    "# Apath Root Cosm\n",
    "\n",
    "This is the system that every Apath inherits from at init time."
   ]
  },
  {
   "cell_type": "code",
   "execution_count": 1,
   "metadata": {},
   "outputs": [],
   "source": [
    "from blackstrap import BlackstrapFS\n",
    "from DictFS import DictFS\n",
    "from HienaMP import hiena_mp\n",
    "from MulticelFS import MulticelFS\n",
    "from CBMetaFS import CBMetaFS\n",
    "from fstab_hg import fstab_hg\n",
    "from cskvp_hg import cskvp_hg\n",
    "from urlparse_wrapper import urlparse_wrapper\n",
    "# from fs_s3fs import S3FS # removed dependency for simplicity\n",
    "from fs import open_fs\n",
    "\n",
    "def say_hello():\n",
    "    print(\"hello.\")\n",
    "    return \"hello there.\"\n",
    "\n",
    "apathRootCosm = { \n",
    "    'bin': { \n",
    "        'hello': say_hello\n",
    "    },\n",
    "    'env': { \n",
    "        'PATH': [ \n",
    "            '.cosm/types/',\n",
    "            '.cosm/tools/',\n",
    "            '.cosm/bin/'\n",
    "        ]\n",
    "    },\n",
    "    'etc': { \n",
    "        'typematch': { \n",
    "            'filefmt': {\n",
    "                '.*[/]etc[/]fstab': 'fstab'\n",
    "            },\n",
    "            'MIME': {\n",
    "                '.+[.]htm[l]?': 'text/html',\n",
    "                '.+[.](txt|text)': 'text/plain',\n",
    "                '.+[.]css': 'text/css',\n",
    "                '.+[.][m]?js': 'text/javascript',\n",
    "                # catchall\n",
    "                '.*': 'application/octet-stream',\n",
    "            }\n",
    "        }\n",
    "    },\n",
    "    'services': {\n",
    "        'file': BlackstrapFS,\n",
    "        'dict': DictFS,\n",
    "        'multicel': MulticelFS,\n",
    "        #'cascade' : CascadeCelFS,\n",
    "        'cbmetafs': CBMetaFS,\n",
    "        ## open_fs will receive a full URL with FS params url-encoded in query string. \n",
    "        # 's3': open_fs, # removed dependency for simpler installs\n",
    "    },\n",
    "    'tools': {\n",
    "        'hiena': hiena_mp\n",
    "    },\n",
    "    'types': { \n",
    "        'fstab': fstab_hg,\n",
    "        'cskvp': cskvp_hg,\n",
    "        'url': urlparse_wrapper,\n",
    "    },\n",
    "    'machines': {\n",
    "        'localhost': {}\n",
    "    }\n",
    "}\n"
   ]
  },
  {
   "cell_type": "code",
   "execution_count": 2,
   "metadata": {},
   "outputs": [
    {
     "name": "stdout",
     "output_type": "stream",
     "text": [
      "{'bin': {'hello': <function say_hello at 0x7f38346b0ee0>}, 'env': {'PATH': ['.cosm/types/', '.cosm/tools/', '.cosm/bin/']}, 'etc': {'typematch': {'filefmt': {'.*[/]etc[/]fstab': 'fstab'}, 'MIME': {'.+[.]htm[l]?': 'text/html', '.+[.](txt|text)': 'text/plain', '.+[.]css': 'text/css', '.+[.][m]?js': 'text/javascript', '.*': 'application/octet-stream'}}}, 'services': {'file': <class 'blackstrap.BlackstrapFS'>, 'dict': <class 'DictFS.DictFS'>, 'multicel': <class 'MulticelFS.MulticelFS'>, 'cbmetafs': <class 'CBMetaFS.CBMetaFS'>, 's3': <class 'fs_s3fs._s3fs.S3FS'>}, 'tools': {'hiena': <function hiena_mp at 0x7f383458c310>}, 'types': {'fstab': {'#!': ['hiena'], '$__start__': 'entry', 'entry': ['^[^#\\n][^\\n]+$', 'field', ['1', '2', '3', '4', '5', '6', '7', '8', '9']], 'field': ['[^ ]+', '', ['spec', 'file', 'vfstype', 'mntopts', 'freq', 'passno']]}, 'cskvp': {'#!': ['hiena'], '$__start__': 'cskvp', 'cskvp': ['([^, =]+)(?:[=]([^, =]+))?', '', {'key': 1, 'value': 2}]}, 'url': <function urlparse_wrapper at 0x7f3834551280>}, 'machines': {'localhost': {}}}\n"
     ]
    }
   ],
   "source": [
    "print(apathRootCosm)"
   ]
  },
  {
   "cell_type": "code",
   "execution_count": 5,
   "metadata": {},
   "outputs": [
    {
     "name": "stdout",
     "output_type": "stream",
     "text": [
      "<class 'DictFS.DictFS'>\n"
     ]
    }
   ],
   "source": [
    "print(DictFS)"
   ]
  },
  {
   "cell_type": "code",
   "execution_count": null,
   "metadata": {},
   "outputs": [],
   "source": []
  }
 ],
 "metadata": {
  "kernelspec": {
   "display_name": "Python 3.9",
   "language": "python",
   "name": "python3"
  },
  "language_info": {
   "codemirror_mode": {
    "name": "ipython",
    "version": 3
   },
   "file_extension": ".py",
   "mimetype": "text/x-python",
   "name": "python",
   "nbconvert_exporter": "python",
   "pygments_lexer": "ipython3",
   "version": "3.9.5"
  }
 },
 "nbformat": 4,
 "nbformat_minor": 2
}
