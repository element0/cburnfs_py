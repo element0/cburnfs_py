{
 "cells": [
  {
   "cell_type": "code",
   "execution_count": 2,
   "metadata": {},
   "outputs": [
    {
     "name": "stdout",
     "output_type": "stream",
     "text": [
      "Python 3.9.8+\n",
      "\r"
     ]
    }
   ],
   "source": [
    "import sys\n",
    "!{sys.executable} --version"
   ]
  },
  {
   "cell_type": "code",
   "execution_count": 3,
   "metadata": {},
   "outputs": [
    {
     "name": "stdout",
     "output_type": "stream",
     "text": [
      "Defaulting to user installation because normal site-packages is not writeable\n",
      "Collecting fs-s3fs\n",
      "  Downloading fs_s3fs-1.1.1-py2.py3-none-any.whl (9.7 kB)\n",
      "Collecting boto3~=1.9\n",
      "  Downloading boto3-1.26.8-py3-none-any.whl (132 kB)\n",
      "     ━━━━━━━━━━━━━━━━━━━━━━━━━━━━━━━━━━━━━━━ 132.5/132.5 KB 1.0 MB/s eta 0:00:00\n",
      "Requirement already satisfied: fs~=2.4 in /private/var/mobile/Containers/Data/Application/E2A13D92-20DB-42B9-8687-EFAFEE2AB969/Library/lib/python3.9/site-packages (from fs-s3fs) (2.4.14)\n",
      "Requirement already satisfied: six~=1.10 in /private/var/containers/Bundle/Application/C8F9FF06-F21B-49E2-A7A5-9BF04FE03019/Carnets.app/Library/lib/python3.9/site-packages (from fs-s3fs) (1.16.0)\n",
      "Collecting s3transfer<0.7.0,>=0.6.0\n",
      "  Downloading s3transfer-0.6.0-py3-none-any.whl (79 kB)\n",
      "     ━━━━━━━━━━━━━━━━━━━━━━━━━━━━━━━━━━━━━━━━ 79.6/79.6 KB 1.5 MB/s eta 0:00:00\n",
      "Collecting jmespath<2.0.0,>=0.7.1\n",
      "  Downloading jmespath-1.0.1-py3-none-any.whl (20 kB)\n",
      "Collecting botocore<1.30.0,>=1.29.8\n",
      "  Downloading botocore-1.29.8-py3-none-any.whl (9.9 MB)\n",
      "     ━━━━━━━━━━━━━━━━━━━━━━━━━━━━━━━━━━━━━━━━ 9.9/9.9 MB 4.8 MB/s eta 0:00:00\n",
      "Requirement already satisfied: setuptools in /private/var/containers/Bundle/Application/C8F9FF06-F21B-49E2-A7A5-9BF04FE03019/Carnets.app/Library/lib/python3.9/site-packages (from fs~=2.4->fs-s3fs) (59.4.0)\n",
      "Requirement already satisfied: appdirs~=1.4.3 in /private/var/mobile/Containers/Data/Application/E2A13D92-20DB-42B9-8687-EFAFEE2AB969/Library/lib/python3.9/site-packages (from fs~=2.4->fs-s3fs) (1.4.4)\n",
      "Requirement already satisfied: pytz in /private/var/containers/Bundle/Application/C8F9FF06-F21B-49E2-A7A5-9BF04FE03019/Carnets.app/Library/lib/python3.9/site-packages (from fs~=2.4->fs-s3fs) (2021.3)\n",
      "Requirement already satisfied: urllib3<1.27,>=1.25.4 in /private/var/containers/Bundle/Application/C8F9FF06-F21B-49E2-A7A5-9BF04FE03019/Carnets.app/Library/lib/python3.9/site-packages (from botocore<1.30.0,>=1.29.8->boto3~=1.9->fs-s3fs) (1.26.7)\n",
      "Requirement already satisfied: python-dateutil<3.0.0,>=2.1 in /private/var/containers/Bundle/Application/C8F9FF06-F21B-49E2-A7A5-9BF04FE03019/Carnets.app/Library/lib/python3.9/site-packages (from botocore<1.30.0,>=1.29.8->boto3~=1.9->fs-s3fs) (2.8.2)\n",
      "Installing collected packages: jmespath, botocore, s3transfer, boto3, fs-s3fs\n",
      "Successfully installed boto3-1.26.8 botocore-1.29.8 fs-s3fs-1.1.1 jmespath-1.0.1 s3transfer-0.6.0\n",
      "\r"
     ]
    },
    {
     "name": "stderr",
     "output_type": "stream",
     "text": [
      "WARNING: You are using pip version 22.0.4; however, version 22.3.1 is available.\n",
      "You should consider upgrading via the '/private/var/containers/Bundle/Application/C8F9FF06-F21B-49E2-A7A5-9BF04FE03019/Carnets.app/Library/bin/python3 -m pip install --upgrade pip' command.\n",
      "\r"
     ]
    }
   ],
   "source": [
    "!{sys.executable} -m pip install fs-s3fs"
   ]
  },
  {
   "cell_type": "code",
   "execution_count": 2,
   "metadata": {
    "scrolled": true
   },
   "outputs": [
    {
     "name": "stdout",
     "output_type": "stream",
     "text": [
      "Defaulting to user installation because normal site-packages is not writeable\n",
      "Collecting fs\n",
      "  Using cached fs-2.4.16-py2.py3-none-any.whl (135 kB)\n",
      "Requirement already satisfied: six~=1.10 in /usr/lib/python3/dist-packages (from fs) (1.14.0)\n",
      "Collecting appdirs~=1.4.3\n",
      "  Using cached appdirs-1.4.4-py2.py3-none-any.whl (9.6 kB)\n",
      "Requirement already satisfied: setuptools in /usr/lib/python3/dist-packages (from fs) (45.2.0)\n",
      "Installing collected packages: appdirs, fs\n",
      "Successfully installed appdirs-1.4.4 fs-2.4.16\n"
     ]
    }
   ],
   "source": [
    "import sys\n",
    "!{sys.executable} -m pip install fs"
   ]
  },
  {
   "cell_type": "code",
   "execution_count": null,
   "metadata": {
    "scrolled": true
   },
   "outputs": [],
   "source": [
    "import sys\n",
    "!{sys.executable} -m pip install --upgrade jupyterthemes"
   ]
  },
  {
   "cell_type": "code",
   "execution_count": 2,
   "metadata": {},
   "outputs": [
    {
     "name": "stdout",
     "output_type": "stream",
     "text": [
      "Available Themes: \r\n",
      "   chesterish\r\n",
      "   grade3\r\n",
      "   gruvboxd\r\n",
      "   gruvboxl\r\n",
      "   monokai\r\n",
      "   oceans16\r\n",
      "   onedork\r\n",
      "   solarizedd\r\n",
      "   solarizedl\r\n"
     ]
    }
   ],
   "source": [
    "!jt -l"
   ]
  },
  {
   "cell_type": "code",
   "execution_count": 5,
   "metadata": {},
   "outputs": [],
   "source": [
    "!jt -t monokai -T"
   ]
  },
  {
   "cell_type": "code",
   "execution_count": 1,
   "metadata": {
    "scrolled": true
   },
   "outputs": [
    {
     "name": "stdout",
     "output_type": "stream",
     "text": [
      "Defaulting to user installation because normal site-packages is not writeable\n",
      "Collecting numpy\n",
      "  Downloading numpy-1.23.0-cp39-cp39-manylinux_2_17_x86_64.manylinux2014_x86_64.whl (17.1 MB)\n",
      "\u001b[2K     \u001b[90m━━━━━━━━━━━━━━━━━━━━━━━━━━━━━━━━━━━━━━━━\u001b[0m \u001b[32m17.1/17.1 MB\u001b[0m \u001b[31m3.5 MB/s\u001b[0m eta \u001b[36m0:00:00\u001b[0m00:01\u001b[0m00:01\u001b[0m\n",
      "\u001b[?25hInstalling collected packages: numpy\n",
      "Successfully installed numpy-1.23.0\n"
     ]
    }
   ],
   "source": [
    "import sys\n",
    "!{sys.executable} -m pip install --upgrade numpy"
   ]
  },
  {
   "cell_type": "code",
   "execution_count": null,
   "metadata": {},
   "outputs": [],
   "source": []
  }
 ],
 "metadata": {
  "kernelspec": {
   "display_name": "Python 3 (ipykernel)",
   "language": "python",
   "name": "python3"
  },
  "language_info": {
   "codemirror_mode": {
    "name": "ipython",
    "version": 3
   },
   "file_extension": ".py",
   "mimetype": "text/x-python",
   "name": "python",
   "nbconvert_exporter": "python",
   "pygments_lexer": "ipython3",
   "version": "3.9.8+"
  }
 },
 "nbformat": 4,
 "nbformat_minor": 4
}
