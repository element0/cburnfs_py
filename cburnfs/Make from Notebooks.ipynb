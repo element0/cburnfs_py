{
 "cells": [
  {
   "cell_type": "markdown",
   "metadata": {},
   "source": [
    "# Make from Notebooks\n",
    "\n",
    "Extract text from `cell[1]` of an `ipynb` file and save as `.py`."
   ]
  },
  {
   "cell_type": "code",
   "execution_count": 1,
   "metadata": {},
   "outputs": [],
   "source": [
    "# ipynib extractor\n",
    "srcsuffix = \".ipynb\"\n",
    "dstsuffix = \".py\"\n",
    "import json\n",
    "from datetime import datetime\n",
    "\n",
    "def makepy(*args):\n",
    "    for basename in args:\n",
    "        with open(basename+srcsuffix) as f:\n",
    "            a = json.load(f)\n",
    "        with open(basename+dstsuffix,'w') as f:\n",
    "            for line in a['cells'][1]['source']:\n",
    "                f.write(line)\n",
    "        print(f\"{datetime.now().strftime('%Y/%m/%d %H:%M:%S')} {basename}\")"
   ]
  },
  {
   "cell_type": "code",
   "execution_count": 5,
   "metadata": {},
   "outputs": [
    {
     "name": "stdout",
     "output_type": "stream",
     "text": [
      "2022/11/14 07:21:33 blackstrap\n",
      "2022/11/14 07:21:35 Dcel\n",
      "2022/11/14 07:21:36 DictFS\n",
      "2022/11/14 07:21:37 APath\n",
      "2022/11/14 07:21:38 Fudge\n",
      "2022/11/14 07:21:39 ApathRootCosm\n",
      "2022/11/14 07:21:40 HienaMP\n",
      "2022/11/14 07:21:41 MulticelFS\n",
      "2022/11/14 07:21:42 MulticelSeqFS\n",
      "2022/11/14 07:21:43 fstab_hg\n",
      "2022/11/14 07:21:44 urlparse_wrapper\n"
     ]
    }
   ],
   "source": [
    "# CBurnFS deps\n",
    "\n",
    "makepy(\"blackstrap\",\n",
    "       \"Dcel\",\n",
    "       \"DictFS\",\n",
    "       \"APath\",\n",
    "       \"Fudge\",\n",
    "       \"ApathRootCosm\",\n",
    "       \"HienaMP\",\n",
    "       \"MulticelFS\",\n",
    "       \"MulticelSeqFS\",\n",
    "       \"fstab_hg\",\n",
    "       \"urlparse_wrapper\",\n",
    "      )"
   ]
  },
  {
   "cell_type": "code",
   "execution_count": 2,
   "metadata": {},
   "outputs": [
    {
     "name": "stdout",
     "output_type": "stream",
     "text": [
      "2023/05/23 13:39:35 CBurnFS\n"
     ]
    }
   ],
   "source": [
    "# CBurnFS\n",
    "makepy(\"CBurnFS\")"
   ]
  },
  {
   "cell_type": "code",
   "execution_count": 3,
   "metadata": {},
   "outputs": [],
   "source": [
    "# OPEN ISSUES\n",
    "\n",
    "# August 15, 2022 - raygan\n",
    "# KLUDGE in Fudge globstar\n",
    "# ie fstab/*/mntops/... 'shortid=<hide>' will keep this entry out of the filelistview.js\n",
    "# this is because globstar will only accept matches for a search term in ALL entries.\n",
    "# FIXME.\n"
   ]
  },
  {
   "cell_type": "code",
   "execution_count": 38,
   "metadata": {},
   "outputs": [
    {
     "name": "stdout",
     "output_type": "stream",
     "text": [
      "2022/08/16 18:24:01 MulticelFS\n"
     ]
    }
   ],
   "source": [
    "# August 16, 2022 - raygan\n",
    "\n",
    "# CBurnFS, MulticelFS\n",
    "# UPDATE MulticelFS::get_dcel_by_host() to match the host reported by getinfo()\n",
    "# FIXES a mismatch which caused CBurnFS::removeHosts() to do nothing.\n",
    "makepy(\"MulticelFS\")"
   ]
  },
  {
   "cell_type": "code",
   "execution_count": 35,
   "metadata": {},
   "outputs": [
    {
     "name": "stdout",
     "output_type": "stream",
     "text": [
      "2022/08/15 06:43:37 Dcel\n",
      "2022/08/15 06:43:37 DictFS\n"
     ]
    }
   ],
   "source": [
    "# August 14, 2022 - raygan\n",
    "# ISSUE 2\n",
    "\n",
    "# CBurnFS -> Fudge -> Dcel\n",
    "# not initializing correctly - error on Dcel::isdir() reporting \"no address\"\n",
    "makepy(\"Dcel\")\n",
    "# ADDED/REMOVED DictFS::geturl() to test (DictFS must be recompiled).\n",
    "# ADDED Dcel::geturl() ... test for fs.errors.NoURL\n",
    "makepy(\"DictFS\")"
   ]
  },
  {
   "cell_type": "code",
   "execution_count": 18,
   "metadata": {},
   "outputs": [
    {
     "name": "stdout",
     "output_type": "stream",
     "text": [
      "2022/08/14 20:15:40\n",
      "2022/08/14 20:15:40\n",
      "2022/08/14 20:15:40\n"
     ]
    }
   ],
   "source": [
    "# August 14, 2022 - raygan\n",
    "\n",
    "# modified Dcel, blackstrap and MulticelFS\n",
    "#\n",
    "# Factored mergeinfo() from Dcel and MulticelFS into mergeinfo.py\n",
    "#\n",
    "# Dcel now reports host in getinfo() via geturl('/') call to service.\n",
    "#\n",
    "# BlackstrapFS now implements geturl() to show urls relative to \"share\" id's.\n",
    "# This satisfies the new Dcel getinfo() implementation.\n",
    "# \n",
    "# MulticelFS returns None for geturl()\n",
    "# and Dcel::getinfo() properly discards this and properly returns all hosts.\n",
    "#\n",
    "# ADDED BlackstrapFS::geturl()\n",
    "# ADDED MulticelFS::geturl()\n",
    "\n",
    "makepy(\"blackstrap\", \"Dcel\", \"MulticelFS\")\n"
   ]
  },
  {
   "cell_type": "code",
   "execution_count": 7,
   "metadata": {},
   "outputs": [
    {
     "name": "stdout",
     "output_type": "stream",
     "text": [
      "2022/08/10 21:48:53\n",
      "2022/08/10 21:48:53\n"
     ]
    }
   ],
   "source": [
    "# August 10, 2022 - raygan\n",
    "\n",
    "# DONE: CBurnFS::processRequest() hook to trigger _reinit() if fstab changed.\n",
    "\n",
    "makepy(\"APath\",\"CBurnFS\")"
   ]
  },
  {
   "cell_type": "code",
   "execution_count": 60,
   "metadata": {},
   "outputs": [
    {
     "name": "stdout",
     "output_type": "stream",
     "text": [
      "2022/08/09 13:11:03\n",
      "2022/08/09 13:11:03\n"
     ]
    }
   ],
   "source": [
    "# August 7, 2022 (3rd issue of the day) - raygan\n",
    "\n",
    "# SOLVED: issue was with /app/js/cbfstab\n",
    "\n",
    "# WIP CBurnFS::processRequest()\n",
    "# need to understand whether we are recieving JSON or parsed dict.\n",
    "makepy(\"CBurnFS\", \"Fudge\")"
   ]
  },
  {
   "cell_type": "code",
   "execution_count": 56,
   "metadata": {},
   "outputs": [
    {
     "name": "stdout",
     "output_type": "stream",
     "text": [
      "2022/08/07 21:42:08\n",
      "2022/08/07 21:42:08\n",
      "2022/08/07 21:42:08\n"
     ]
    }
   ],
   "source": [
    "# August 7, 2022 (2nd issue of the day) - raygan\n",
    "\n",
    "# UPDATE CBurnFS::propertyupdate()\n",
    "# - CBurnFS, APath, Dcel: removed print() statements from previous debug session.\n",
    "# - Dcel::flush() KLUDGE to make DictFS flushing work, while allowing pyfilesystem conformant\n",
    "#      services to write through.\n",
    "# - CBurnFS::updateMultiValue(), urlListFromDict()\n",
    "#      FIXED removed json.loads(); input already comes parsed.\n",
    "#      FIXED reference: urlListFromDict() --> self.urlListFromDict()\n",
    "# propertyupdate() will write through to backing, via Dcel::flush()\n",
    "makepy(\"APath\", \"Dcel\", \"CBurnFS\")"
   ]
  },
  {
   "cell_type": "code",
   "execution_count": 49,
   "metadata": {},
   "outputs": [
    {
     "name": "stdout",
     "output_type": "stream",
     "text": [
      "2022/08/07 17:47:03\n"
     ]
    }
   ],
   "source": [
    "# August 7, 2022 - raygan\n",
    "\n",
    "# FIXED Fudge glob behavior \"fstab/*/spec.url\" outputs a list.\n",
    "makepy(\"DictFS\")"
   ]
  },
  {
   "cell_type": "code",
   "execution_count": 47,
   "metadata": {},
   "outputs": [
    {
     "name": "stdout",
     "output_type": "stream",
     "text": [
      "2022/08/06 22:46:10\n"
     ]
    }
   ],
   "source": [
    "# BUGFIX CBurnFS 197: targets['hosts'] --> target['hosts']\n",
    "makepy(\"CBurnFS\")"
   ]
  },
  {
   "cell_type": "code",
   "execution_count": 45,
   "metadata": {},
   "outputs": [
    {
     "name": "stdout",
     "output_type": "stream",
     "text": [
      "2022/08/06 22:16:54\n",
      "2022/08/06 22:16:54\n",
      "2022/08/06 22:16:54\n",
      "2022/08/06 22:16:54\n"
     ]
    }
   ],
   "source": [
    "# August 6, 2022 - raygan\n",
    "\n",
    "# WIP trying to get .url parser to work. Tests for Dcel._dir seem to be part of the problem.\n",
    "\n",
    "# UPDATED added __str__() method to Dcel Reference class.\n",
    "# UPDATED added str() around the input. This will correct for passing Dcels as input.\n",
    "# WIP DictFS openbytes maybe remove kludge of overwriting original string with bytes version.\n",
    "\n",
    "# The above changes were enough to get CBurnFS __init__() running again.\n",
    "# Looks like this healed the recent wound to cburn_flask.py too.\n",
    "# Time will tell if we need some alternative to the kludge in DictFS to make writebytes() work...\n",
    "\n",
    "makepy(\"Dcel\", \"APath\", \"urlparse_wrapper\", \"DictFS\")"
   ]
  },
  {
   "cell_type": "code",
   "execution_count": 25,
   "metadata": {},
   "outputs": [
    {
     "name": "stdout",
     "output_type": "stream",
     "text": [
      "2022/08/02 20:58:57\n",
      "2022/08/02 20:58:57\n",
      "2022/08/02 20:58:57\n"
     ]
    }
   ],
   "source": [
    "# August 1, 2022 - raygan\n",
    "# UPDATED Dcel flush() works with services which return a Dcel via the lookup() function.\n",
    "#   As does DictFS...\n",
    "# This means that Fudge can now flush on __setitem__() and in that scenario, writes will\n",
    "# propogate back to the source backing.\n",
    "\n",
    "makepy(\"Dcel\", \"blackstrap\", \"Fudge\")"
   ]
  },
  {
   "cell_type": "code",
   "execution_count": 15,
   "metadata": {},
   "outputs": [
    {
     "name": "stdout",
     "output_type": "stream",
     "text": [
      "2022/08/02 18:16:28\n",
      "2022/08/02 18:16:28\n",
      "2022/08/02 18:16:28\n",
      "2022/08/02 18:16:28\n",
      "2022/08/02 18:16:28\n"
     ]
    }
   ],
   "source": [
    "# July 10, 2022 - raygan\n",
    "# FIXED Dcel slices work recursively\n",
    "# FIXED Dcel prints correctly from map\n",
    "# FIXED Dcel flush works with indirection - via DictFS\n",
    "# FIXED DictFS to writes through to Dcel members\n",
    "# FIXED Fudge flushes Dcel with every __setitem__()\n",
    "# OK HienaMP to uses Dcel slices\n",
    "# OK fstab_hg works with new version of HienaMP and Dcel\n",
    "makepy(\"Dcel\", \"HienaMP\", \"fstab_hg\", \"DictFS\", \"Fudge\")"
   ]
  },
  {
   "cell_type": "code",
   "execution_count": 3,
   "metadata": {},
   "outputs": [
    {
     "ename": "NameError",
     "evalue": "name 'makepy' is not defined",
     "output_type": "error",
     "traceback": [
      "\u001b[0;31m---------------------------------------------------------------------------\u001b[0m",
      "\u001b[0;31mNameError\u001b[0m                                 Traceback (most recent call last)",
      "Input \u001b[0;32mIn [3]\u001b[0m, in \u001b[0;36m<cell line: 1>\u001b[0;34m()\u001b[0m\n\u001b[0;32m----> 1\u001b[0m \u001b[43mmakepy\u001b[49m(\u001b[38;5;124m\"\u001b[39m\u001b[38;5;124mcburn_blackstrap_config\u001b[39m\u001b[38;5;124m\"\u001b[39m)\n",
      "\u001b[0;31mNameError\u001b[0m: name 'makepy' is not defined"
     ]
    }
   ],
   "source": [
    "makepy(\"cburn_blackstrap_config\")"
   ]
  },
  {
   "cell_type": "code",
   "execution_count": 2,
   "metadata": {},
   "outputs": [
    {
     "name": "stdout",
     "output_type": "stream",
     "text": [
      "2022/02/22 08:05:51\n"
     ]
    }
   ],
   "source": [
    "makepy(\"module_playground\")\n"
   ]
  },
  {
   "cell_type": "code",
   "execution_count": 2,
   "metadata": {},
   "outputs": [
    {
     "name": "stdout",
     "output_type": "stream",
     "text": [
      "2021/12/20 22:32:19\n"
     ]
    }
   ],
   "source": [
    "makepy(\"urlparse_wrapper\")"
   ]
  },
  {
   "cell_type": "code",
   "execution_count": 2,
   "metadata": {},
   "outputs": [
    {
     "name": "stdout",
     "output_type": "stream",
     "text": [
      "2021/12/14 19:40:47\n"
     ]
    }
   ],
   "source": [
    "makepy(\"blackstrap\")"
   ]
  },
  {
   "cell_type": "code",
   "execution_count": 7,
   "metadata": {
    "scrolled": true
   },
   "outputs": [
    {
     "name": "stdout",
     "output_type": "stream",
     "text": [
      "2023/07/14 14:01:14 CBurnFS\n"
     ]
    }
   ],
   "source": [
    "makepy(\"CBurnFS\")\n"
   ]
  },
  {
   "cell_type": "code",
   "execution_count": null,
   "metadata": {},
   "outputs": [],
   "source": [
    "makepy(\"cskvp_hg\")"
   ]
  },
  {
   "cell_type": "code",
   "execution_count": 2,
   "metadata": {},
   "outputs": [
    {
     "name": "stdout",
     "output_type": "stream",
     "text": [
      "2021/12/09 20:46:05\n"
     ]
    }
   ],
   "source": [
    "makepy(\"fstab_hg\")"
   ]
  },
  {
   "cell_type": "code",
   "execution_count": 4,
   "metadata": {},
   "outputs": [
    {
     "name": "stdout",
     "output_type": "stream",
     "text": [
      "2022/07/03 20:19:28\n"
     ]
    }
   ],
   "source": [
    "makepy(\"HienaMP\")\n"
   ]
  },
  {
   "cell_type": "code",
   "execution_count": 2,
   "metadata": {},
   "outputs": [
    {
     "name": "stdout",
     "output_type": "stream",
     "text": [
      "2021/12/15 08:16:37\n"
     ]
    }
   ],
   "source": [
    "makepy(\"MulticelFS\")"
   ]
  },
  {
   "cell_type": "code",
   "execution_count": 2,
   "metadata": {},
   "outputs": [
    {
     "name": "stdout",
     "output_type": "stream",
     "text": [
      "2022/03/29 07:40:27\n"
     ]
    }
   ],
   "source": [
    "makepy(\"MulticelSeqFS\")\n"
   ]
  },
  {
   "cell_type": "code",
   "execution_count": 2,
   "metadata": {},
   "outputs": [],
   "source": [
    "makepy(\"Hiena\")"
   ]
  },
  {
   "cell_type": "code",
   "execution_count": 2,
   "metadata": {},
   "outputs": [
    {
     "name": "stdout",
     "output_type": "stream",
     "text": [
      "2023/06/20 20:35:38 ApathRootCosm\n"
     ]
    }
   ],
   "source": [
    "makepy(\"ApathRootCosm\")"
   ]
  },
  {
   "cell_type": "code",
   "execution_count": 2,
   "metadata": {},
   "outputs": [],
   "source": [
    "makepy(\"FileService\")"
   ]
  },
  {
   "cell_type": "code",
   "execution_count": 2,
   "metadata": {},
   "outputs": [],
   "source": [
    "makepy(\"DictFS\")"
   ]
  },
  {
   "cell_type": "code",
   "execution_count": 9,
   "metadata": {},
   "outputs": [
    {
     "name": "stdout",
     "output_type": "stream",
     "text": [
      "2023/07/14 14:09:02 Dcel\n"
     ]
    }
   ],
   "source": [
    "makepy(\"Dcel\")"
   ]
  },
  {
   "cell_type": "code",
   "execution_count": 2,
   "metadata": {},
   "outputs": [
    {
     "name": "stdout",
     "output_type": "stream",
     "text": [
      "2022/07/03 20:03:43\n"
     ]
    }
   ],
   "source": [
    "makepy(\"DcelJSONEncoder\")"
   ]
  },
  {
   "cell_type": "code",
   "execution_count": 3,
   "metadata": {},
   "outputs": [
    {
     "name": "stdout",
     "output_type": "stream",
     "text": [
      "2022/03/31 18:37:51\n"
     ]
    }
   ],
   "source": [
    "makepy(\"APath\")"
   ]
  },
  {
   "cell_type": "code",
   "execution_count": 3,
   "metadata": {},
   "outputs": [
    {
     "name": "stdout",
     "output_type": "stream",
     "text": [
      "2022/04/01 19:29:56\n"
     ]
    }
   ],
   "source": [
    "makepy(\"Fudge\")\n"
   ]
  }
 ],
 "metadata": {
  "kernelspec": {
   "display_name": "Python 3.9",
   "language": "python",
   "name": "python3"
  },
  "language_info": {
   "codemirror_mode": {
    "name": "ipython",
    "version": 3
   },
   "file_extension": ".py",
   "mimetype": "text/x-python",
   "name": "python",
   "nbconvert_exporter": "python",
   "pygments_lexer": "ipython3",
   "version": "3.9.5"
  }
 },
 "nbformat": 4,
 "nbformat_minor": 2
}
