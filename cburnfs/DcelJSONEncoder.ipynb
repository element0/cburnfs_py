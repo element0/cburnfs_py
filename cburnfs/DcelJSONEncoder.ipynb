{
 "cells": [
  {
   "cell_type": "markdown",
   "metadata": {},
   "source": [
    "# Dcel JSON Encoder\n",
    "\n",
    "A custom Encoder for Dcels.\n"
   ]
  },
  {
   "cell_type": "code",
   "execution_count": 22,
   "metadata": {},
   "outputs": [],
   "source": [
    "import json\n",
    "from Dcel import Dcel\n",
    "\n",
    "def dummyfunc():\n",
    "    pass\n",
    "\n",
    "class DcelJSONEncoder(json.JSONEncoder):\n",
    "    def default(self, o):\n",
    "        if isinstance(o, Dcel):\n",
    "            return o.value\n",
    "        if isinstance(o, type(dummyfunc)):\n",
    "            return str(o)\n",
    "        return json.JSONEncoder.default(self,o)\n",
    "    \n",
    "def dumpdcel(o):\n",
    "    return json.dumps(o, cls=DcelJSONEncoder)"
   ]
  },
  {
   "cell_type": "code",
   "execution_count": 23,
   "metadata": {},
   "outputs": [
    {
     "name": "stdout",
     "output_type": "stream",
     "text": [
      "{\"greeting\": {\"one\": 1, \"two\": 2}, \"goodbye\": \"see ya\", \"piecemeal\": \"acadab\", \"fn\": \"<function dummyfunc at 0x7fe87034dfc0>\"}\n"
     ]
    }
   ],
   "source": [
    "def dummyfunc():\n",
    "    pass\n",
    "\n",
    "x = { \"greeting\": Dcel({ \"one\": 1, \"two\": 2}),\n",
    "      \"goodbye\": Dcel('see ya'),\n",
    "      \"piecemeal\": Dcel('abracadabra')[3:9],\n",
    "     \"fn\": dummyfunc,\n",
    "    }\n",
    "print(dumpdcel(x))"
   ]
  },
  {
   "cell_type": "code",
   "execution_count": 13,
   "metadata": {},
   "outputs": [
    {
     "name": "stdout",
     "output_type": "stream",
     "text": [
      "True\n"
     ]
    },
    {
     "data": {
      "text/plain": [
       "builtin_function_or_method"
      ]
     },
     "execution_count": 13,
     "metadata": {},
     "output_type": "execute_result"
    }
   ],
   "source": [
    "def dummy():\n",
    "    pass\n",
    "\n",
    "def mummy():\n",
    "    pass\n",
    "\n",
    "if isinstance(mummy, type(dummy)):\n",
    "    print(True)\n",
    "    \n",
    "type(print)"
   ]
  },
  {
   "cell_type": "code",
   "execution_count": null,
   "metadata": {},
   "outputs": [],
   "source": []
  }
 ],
 "metadata": {
  "kernelspec": {
   "display_name": "Python 3 (ipykernel)",
   "language": "python",
   "name": "python3"
  },
  "language_info": {
   "codemirror_mode": {
    "name": "ipython",
    "version": 3
   },
   "file_extension": ".py",
   "mimetype": "text/x-python",
   "name": "python",
   "nbconvert_exporter": "python",
   "pygments_lexer": "ipython3",
   "version": "3.10.12"
  }
 },
 "nbformat": 4,
 "nbformat_minor": 4
}
