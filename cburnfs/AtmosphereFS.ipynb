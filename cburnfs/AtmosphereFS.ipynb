{
 "cells": [
  {
   "cell_type": "markdown",
   "metadata": {},
   "source": [
    "## AtmosphereFS\n",
    "\n",
    "Atmosphere File System\n",
    "\n",
    "Example\n",
    "\n",
    "    mknod @/Hosts/dropbox.host/@statecode=12345:config.vnc\n",
    "    \n",
    "Request\n",
    "\n",
    "    GET /@/Hosts/dropbox.host/config.vnc HTTP/2\n",
    "    Host: example.com\n",
    "    statecode: 12345\n",
    "    ...\n",
    "    \n",
    "The `@statecode=12345` branch in AtmosphereFS will match the `statecode: 12345` header in the request context.\n",
    "\n",
    "\n",
    "### File tree\n",
    "\n",
    "    @/\n",
    "    |__Hosts/\n",
    "       |__dropbox.host/\n",
    "          |__@statecode=12345/\n",
    "             |__config.vnc\n",
    "          |__@statecode=23456/\n",
    "             |__config.vnc\n",
    "             \n",
    "There can be more than one meta-branch."
   ]
  }
 ],
 "metadata": {
  "kernelspec": {
   "display_name": "Python 3.9",
   "language": "python",
   "name": "python3"
  },
  "language_info": {
   "codemirror_mode": {
    "name": "ipython",
    "version": 3
   },
   "file_extension": ".py",
   "mimetype": "text/x-python",
   "name": "python",
   "nbconvert_exporter": "python",
   "pygments_lexer": "ipython3",
   "version": "3.9.5"
  }
 },
 "nbformat": 4,
 "nbformat_minor": 4
}
