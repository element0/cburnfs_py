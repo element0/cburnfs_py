{
 "cells": [
  {
   "cell_type": "markdown",
   "metadata": {},
   "source": [
    "# RoomserviceRclone Service\n",
    "\n",
    "The RoomserviceRcloneFS manages an Rclone FUSE file system mounted from another context controlled by Roomservice. \n",
    "\n",
    "Basic file system access is via pyfilesystem's OSFS. Rclone utilities are accessed via Roomservice API calls.\n",
    "\n",
    "For example, `getinfo(path, namespaces=['statvfs'])` needs to query Rclone using Rclone utilities in order to receive more accurate information than FUSE provides.\n",
    "\n",
    "\n",
    "## Rclone FUSE Mounts\n",
    "\n",
    "\n"
   ]
  },
  {
   "cell_type": "code",
   "execution_count": 1,
   "metadata": {},
   "outputs": [],
   "source": [
    "from fs.osfs import OSFS\n",
    "from fs.errors import CreateFailed\n",
    "from fs.info import Info\n",
    "from socket import gethostname\n",
    "from urllib.parse import urlparse\n",
    "import six\n",
    "from os import statvfs\n",
    "\n",
    "import logging\n",
    "import subprocess\n",
    "import json\n",
    "import socket\n",
    "\n",
    "HT_RCVSIZE = 1024\n",
    "HT_SOCKADDR = './socket/rs/roomservice.sock'\n",
    "\n",
    "class Roomservice():\n",
    "    def call_roomservice(self, message_jsonable):\n",
    "        # caution: this can handle secrets in the messages.\n",
    "        #    |     do not log messages in the clear.\n",
    "        \n",
    "        logging.debug(message_jsonable)\n",
    "        \n",
    "        msg = json.dumps(message_jsonable)\n",
    "        logging.debug(msg)\n",
    "    \n",
    "        message = json.dumps(message_jsonable)\n",
    "        sock = socket.socket(socket.AF_UNIX, socket.SOCK_STREAM)\n",
    "        try:\n",
    "            sock.connect(HT_SOCKADDR)\n",
    "        except Exception as e:\n",
    "            logging.debug(e)\n",
    "            raise\n",
    "        try:\n",
    "            logging.debug(f'message to roomservice sent.')\n",
    "            sock.sendall(message.encode())\n",
    "            data = sock.recv(HT_RCVSIZE)\n",
    "            response = data.decode()\n",
    "            logging.debug(f\"response from roomservice received: {response}\")\n",
    "        except Exception as e:\n",
    "            logging.debug(e)\n",
    "            sock.close()\n",
    "            raise\n",
    "        finally:\n",
    "            sock.close()\n",
    "        try:\n",
    "            return json.loads(response)\n",
    "        except:\n",
    "            return \"roomserviced returned a response that could not be loaded by the json.loads() method.\"\n",
    "\n",
    "    def run(self,\n",
    "            args, \n",
    "            stdin=None, \n",
    "            input=None,\n",
    "            stdout=None,\n",
    "            stderr=None,\n",
    "            capture_output=False,\n",
    "            shell=False,\n",
    "            cwd=None,\n",
    "            timeout=None,\n",
    "            check=False,\n",
    "            encoding=None,\n",
    "            errors=None,\n",
    "            text=None,\n",
    "            env=None,\n",
    "            universal_newlines=None,\n",
    "            **other_popen_kwargs):\n",
    "        \n",
    "        return self.call_roomservice({'subprocess.run':\n",
    "                                      {\n",
    "                                          'args':args,\n",
    "                                          'capture_output':capture_output,\n",
    "                                          'check':check\n",
    "                                      }\n",
    "                                     })\n",
    "\n",
    "\n",
    "def generateShareId(hostname, sharename):\n",
    "    return sharename +'.'+ hostname\n",
    "\n",
    "class RoomserviceRcloneFS(OSFS,Roomservice):\n",
    "    \n",
    "    \n",
    "    ###### class methods ######\n",
    "\n",
    "    # class method\n",
    "    def initHost(hostname=None):\n",
    "        \"\"\"\n",
    "        0.1\n",
    "        The BlackstrapFS serves files from\n",
    "        a virtual context. The context is\n",
    "        kept inside the class.\n",
    "        \"\"\"\n",
    "        if hostname is None:\n",
    "            BlackstrapFS.__hostname = gethostname()\n",
    "        else:\n",
    "            BlackstrapFS.__hostname = hostname\n",
    "        BlackstrapFS.__shares = dict()\n",
    "        \n",
    "        return BlackstrapFS\n",
    "    \n",
    "    \n",
    "    \n",
    "    # class method\n",
    "    def addShare(srcaddr,\n",
    "                 sharename\n",
    "                ):\n",
    "        \"\"\"\n",
    "        0.1\n",
    "        Shares are added to the class itself.\n",
    "        An instance of the service can\n",
    "        select which share to serve.\n",
    "        \"\"\"\n",
    "        \n",
    "        #todo: check for blank hostname\n",
    "        #todo: check for existing before...\n",
    "        \n",
    "        shares = BlackstrapFS.__shares\n",
    "        \n",
    "        shareid = generateShareId( \n",
    "            BlackstrapFS.__hostname, \n",
    "            sharename)\n",
    "        \n",
    "        shares[shareid] = srcaddr\n",
    "        \n",
    "        return BlackstrapFS\n",
    "    \n",
    "    # class method\n",
    "    def closeHost():\n",
    "        pass\n",
    "    \n",
    "    ###### Instance methods ######\n",
    "    \n",
    "    def __init__(self,urlstr,*args):\n",
    "        # todo: require file scheme\n",
    "        self._urlstr = urlstr\n",
    "        \n",
    "        url = urlparse(urlstr)\n",
    "        self.url = url\n",
    "        self.path = url.path\n",
    "                \n",
    "        super().__init__(url.path,*args)\n",
    "        \n",
    "    def getinfo(self, path='/',namespaces=None):\n",
    "        info_raw = super().getinfo(path, namespaces).raw\n",
    "        if namespaces != None and 'limits' in namespaces:\n",
    "            res = self.run(['rclone','about','--json',path],capture_output=True)\n",
    "            if res != None and \"Good dog\" in res:\n",
    "                \n",
    "                info_raw['limits'] = {\n",
    "                    self._urlstr: {\n",
    "                        'total': res[\"Good dog\"][\"total\"],\n",
    "                        'used': res[\"Good dog\"][\"used\"],\n",
    "                        'free': res[\"Good dog\"][\"free\"]                        \n",
    "                    }\n",
    "                }\n",
    "        return Info(info_raw)\n",
    "        \n",
    "        \n",
    "    def geturl(self,path):\n",
    "        # if path starts with '/'\n",
    "        _urlstr = self._urlstr.rstrip('/')\n",
    "        _path = path.lstrip('/')\n",
    "        if(_path == \"\"):\n",
    "            # if there is no path,\n",
    "            # we must return _urlstr as inited.\n",
    "            # It may match an entry in the fstab.\n",
    "            return self._urlstr\n",
    "        return f\"{_urlstr}/{_path}\"\n",
    "        \n",
    "        \n",
    "    def _close(self):\n",
    "        pass\n",
    "    \n",
    "    if six.PY2:\n",
    "        def close(self):  # noqa: D102\n",
    "            self._close()\n",
    "            super(BlackstrapFS, self).close()\n",
    "    else:\n",
    "        def close(self): # noqa: D102\n",
    "            self._close()\n",
    "            super().close()\n",
    "                    \n",
    "            \n",
    "    ####################\n",
    "    #  cosmos API      #\n",
    "    ####################\n",
    "    \n",
    "    # DEPRICATE THIS\n",
    "    # DO NOT ADD EXTERNAL API\n",
    "\n",
    "    def lookup(self, path, base=None):\n",
    "        # FIXME: Placeholder.\n",
    "        return True\n",
    "    "
   ]
  },
  {
   "cell_type": "code",
   "execution_count": 2,
   "metadata": {},
   "outputs": [],
   "source": [
    "from sys import stdout\n",
    "logging.basicConfig(stream=stdout,encoding='utf-8',level=logging.DEBUG)"
   ]
  },
  {
   "cell_type": "code",
   "execution_count": 3,
   "metadata": {},
   "outputs": [],
   "source": [
    "rsfs = RoomserviceRcloneFS('fs')"
   ]
  },
  {
   "cell_type": "code",
   "execution_count": 4,
   "metadata": {},
   "outputs": [
    {
     "name": "stdout",
     "output_type": "stream",
     "text": [
      "DEBUG:root:{'subprocess.run': {'args': ['rclone', 'about', '--json', '/'], 'capture_output': True, 'check': True}}\n",
      "DEBUG:root:{\"subprocess.run\": {\"args\": [\"rclone\", \"about\", \"--json\", \"/\"], \"capture_output\": true, \"check\": true}}\n",
      "DEBUG:root:message to roomservice sent.\n",
      "DEBUG:root:response from roomservice received: {\"Good dog\": {\"total\": 121938661376, \"used\": 99914076160, \"free\": 15759032320}}\n",
      "\n"
     ]
    },
    {
     "data": {
      "text/plain": [
       "{'Good dog': {'total': 121938661376, 'used': 99914076160, 'free': 15759032320}}"
      ]
     },
     "execution_count": 4,
     "metadata": {},
     "output_type": "execute_result"
    }
   ],
   "source": [
    "rsfs.run(['rclone','about','--json','/'],capture_output=True,check=True)"
   ]
  },
  {
   "cell_type": "code",
   "execution_count": 5,
   "metadata": {},
   "outputs": [
    {
     "name": "stdout",
     "output_type": "stream",
     "text": [
      "DEBUG:root:{'subprocess.run': {'args': ['rclone', 'about', '--json', '/'], 'capture_output': True, 'check': False}}\n",
      "DEBUG:root:{\"subprocess.run\": {\"args\": [\"rclone\", \"about\", \"--json\", \"/\"], \"capture_output\": true, \"check\": false}}\n",
      "DEBUG:root:message to roomservice sent.\n",
      "DEBUG:root:response from roomservice received: {\"Good dog\": {\"total\": 121938661376, \"used\": 99914076160, \"free\": 15759032320}}\n",
      "\n"
     ]
    },
    {
     "data": {
      "text/plain": [
       "{'basic': {'name': '', 'is_dir': True},\n",
       " 'limits': {'fs': {'total': 121938661376,\n",
       "   'used': 99914076160,\n",
       "   'free': 15759032320}}}"
      ]
     },
     "execution_count": 5,
     "metadata": {},
     "output_type": "execute_result"
    }
   ],
   "source": [
    "rsfs.getinfo('/',namespaces=['limits']).raw"
   ]
  },
  {
   "cell_type": "code",
   "execution_count": 7,
   "metadata": {},
   "outputs": [
    {
     "ename": "NameError",
     "evalue": "name 'BlackstrapFS' is not defined",
     "output_type": "error",
     "traceback": [
      "\u001b[0;31m---------------------------------------------------------------------------\u001b[0m",
      "\u001b[0;31mNameError\u001b[0m                                 Traceback (most recent call last)",
      "Input \u001b[0;32mIn [7]\u001b[0m, in \u001b[0;36m<cell line: 3>\u001b[0;34m()\u001b[0m\n\u001b[1;32m      1\u001b[0m hostname \u001b[38;5;241m=\u001b[39m gethostname()\n\u001b[0;32m----> 3\u001b[0m \u001b[43mBlackstrapFS\u001b[49m\u001b[38;5;241m.\u001b[39minitHost(\u001b[38;5;124m'\u001b[39m\u001b[38;5;124mlocalhost\u001b[39m\u001b[38;5;124m'\u001b[39m)\n\u001b[1;32m      4\u001b[0m BlackstrapFS\u001b[38;5;241m.\u001b[39maddShare(\n\u001b[1;32m      5\u001b[0m     srcaddr \u001b[38;5;241m=\u001b[39m \u001b[38;5;124m'\u001b[39m\u001b[38;5;124mfs\u001b[39m\u001b[38;5;124m'\u001b[39m,\n\u001b[1;32m      6\u001b[0m     sharename \u001b[38;5;241m=\u001b[39m \u001b[38;5;124m'\u001b[39m\u001b[38;5;124mfs\u001b[39m\u001b[38;5;124m'\u001b[39m\n\u001b[0;32m   (...)\u001b[0m\n\u001b[1;32m      9\u001b[0m     sharename \u001b[38;5;241m=\u001b[39m \u001b[38;5;124m'\u001b[39m\u001b[38;5;124mfs2\u001b[39m\u001b[38;5;124m'\u001b[39m\n\u001b[1;32m     10\u001b[0m )\n\u001b[1;32m     12\u001b[0m fs1 \u001b[38;5;241m=\u001b[39m BlackstrapFS(\u001b[38;5;124m'\u001b[39m\u001b[38;5;124mfile://fs.localhost/\u001b[39m\u001b[38;5;124m'\u001b[39m)\n",
      "\u001b[0;31mNameError\u001b[0m: name 'BlackstrapFS' is not defined"
     ]
    }
   ],
   "source": [
    "hostname = gethostname()\n",
    "\n",
    "BlackstrapFS.initHost('localhost')\n",
    "BlackstrapFS.addShare(\n",
    "    srcaddr = 'fs',\n",
    "    sharename = 'fs'\n",
    ").addShare(\n",
    "    srcaddr = 'fs2',\n",
    "    sharename = 'fs2'\n",
    ")\n",
    "\n",
    "fs1 = BlackstrapFS('file://fs.localhost/')\n",
    "fs1.getinfo('/').raw\n"
   ]
  },
  {
   "cell_type": "code",
   "execution_count": 12,
   "metadata": {},
   "outputs": [
    {
     "data": {
      "text/plain": [
       "{'basic': {'name': '', 'is_dir': True},\n",
       " 'limits': {'file://fs.localhost/': {'total': 121938661376,\n",
       "   'used': 99794636800,\n",
       "   'free': 22144024576}}}"
      ]
     },
     "execution_count": 12,
     "metadata": {},
     "output_type": "execute_result"
    }
   ],
   "source": [
    "fs1.getinfo('/', namespaces=['limits']).raw"
   ]
  },
  {
   "cell_type": "code",
   "execution_count": 9,
   "metadata": {},
   "outputs": [
    {
     "name": "stdout",
     "output_type": "stream",
     "text": [
      "mbp-linux\n"
     ]
    },
    {
     "data": {
      "text/plain": [
       "(OSFS('/home/raygan/Cosms/Dboy/Laydbug/dev/cburnfs_py/cburnfs/fs'), None)"
      ]
     },
     "execution_count": 9,
     "metadata": {},
     "output_type": "execute_result"
    }
   ],
   "source": [
    "from fs.opener import open\n",
    "from socket import gethostname\n",
    "\n",
    "print(gethostname())\n",
    "open('file://fs')"
   ]
  },
  {
   "cell_type": "code",
   "execution_count": null,
   "metadata": {},
   "outputs": [],
   "source": []
  }
 ],
 "metadata": {
  "kernelspec": {
   "display_name": "Python 3.9",
   "language": "python",
   "name": "python3"
  },
  "language_info": {
   "codemirror_mode": {
    "name": "ipython",
    "version": 3
   },
   "file_extension": ".py",
   "mimetype": "text/x-python",
   "name": "python",
   "nbconvert_exporter": "python",
   "pygments_lexer": "ipython3",
   "version": "3.9.5"
  }
 },
 "nbformat": 4,
 "nbformat_minor": 5
}
