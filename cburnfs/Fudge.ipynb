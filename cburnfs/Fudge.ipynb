{
 "cells": [
  {
   "cell_type": "markdown",
   "metadata": {},
   "source": [
    "# Fudge Wrapper\n",
    "\n",
    "The Fudge() function wraps an Apath object in a Fudge interface allowing access to branches and attributes through a simple, familiar path-ish syntax.\n",
    "\n",
    "    fu = Fudge(apath)\n",
    "    \n",
    "The fluent methods of fudge emulate the _fudge_ minilanguage which is a subset of regular filepath syntax.\n",
    "\n",
    "Fudge path language:\n",
    "    `/this/that/other.type/item@attribute`\n",
    "\n",
    "Fudge syntax emulation:\n",
    "\n",
    "    fu['/this/that/other'].type['/item']['@attribute']\n",
    "    \n",
    "The fudgepath language can be evaluated by an interpreter to get the same result:\n",
    "\n",
    "    `fu/'this/that/other.type/item@attribute'`\n",
    "    \n",
    "Children and attributes are mapped using types from the cosmos system of the access path. Some types transform data.\n",
    "\n",
    "    fu['/this'].transform\n",
    "\n",
    "Some types create a map:\n",
    "    \n",
    "    fu['/that'].map['/other']['@somefield']\n",
    "    \n",
    "As an example, a field from an fstab file can be accessed like this:\n",
    "\n",
    "    fu = Fudge(fstab_apath)\n",
    "    fu.fstab['/'+some_entryname]['@vfstype']\n",
    "\n",
    "\n",
    "## API namespace\n",
    "\n",
    "A Fudge object represents the namespace of the domain it wraps by generating an object interface for it. \n",
    "\n",
    "Items accessed from the Dcel `__getitem__()` interface are available via the Fudge `__getitem__()` interface when the item key is prefixed with '/'.\n",
    "\n",
    "Attributes accessed from the `Dcel.map` are available via the Fudge `__getitem__()` interface when the item key is prefixed with '@'.\n",
    "\n",
    "Type functions from `APath.cosm['types']` are available via the Fudge `__getattr__()` interface and create an APath branch with a Dcel with a _producer with default (uninitialized) arguments._\n",
    "\n",
    "Arguments are added to the producer via the Fudge `__call__()` interface to create a branch with initialized arguments. Each invocation of `__call_()` results in a separate access path branch.\n",
    "\n",
    "\n",
    "## R Value\n",
    "\n",
    "The Fudge class cannot provide most other interfaces such as pyfilesystem because of the override of the `__getattr__()` method.\n",
    "\n",
    "To get data from a fudge use its string representation:\n",
    "\n",
    "    str(fu)\n",
    "    or fu.__str__()\n",
    "    \n",
    "Or take the Apath out of the wrapper:\n",
    "\n",
    "    Apath(fu)\n",
    "\n",
    "### Lazy Evaluation\n",
    "\n",
    "See also Dcel and APath.\n",
    "\n",
    "The Fudge methods set up a chain of Dcels via Access Paths. The chain is not evaluated until the R Value is requested.\n",
    "\n",
    "Dcels and APaths provide R Values via their file system, getitem, getattr, string and value interfaces.\n",
    "\n",
    "The methods used to construct the chain are strictly initialization methods which set Dcel production parameters.\n",
    "\n",
    "Access Path lookup may succeed even though its Dcel R Value request may fail. Therefor some APaths may not map to data and should not be represented in a directory listing.\n",
    "\n",
    "\n",
    "## Fudgestar (\\*) explained\n",
    "\n",
    "The fudgestar glob works a little differently depending on whether it is addressed as a leaf\n",
    "\n",
    "    a/b/*\n",
    "\n",
    "or a branch.\n",
    "\n",
    "    a/b/*/\n",
    "    \n",
    "In the case of a leaf, the fudge star does nothing but return the same filelist as its parent segment.\n",
    "\n",
    "    a/b/ === a/b/*\n",
    "    \n",
    "But if the fudgestar has a trailing slash or a following segment, those must be evaluated for every item in the list.\n",
    "\n",
    "    a/b/*/ == [ ea/ for ea in a/b/ ]\n",
    "    \n",
    "    \n",
    "### Glob Filetype\n",
    "\n",
    "In addition to dir and file, there needs to be a glob filetype to support the fudgestar behavior.\n",
    "\n",
    "    fudge._apath._isglob\n",
    "\n",
    "    "
   ]
  },
  {
   "cell_type": "code",
   "execution_count": 1,
   "metadata": {},
   "outputs": [],
   "source": [
    "from APath import APath, APathWrapper\n",
    "from os.path import basename\n",
    "from urllib.parse import urlparse\n",
    "\n",
    "\n",
    "from DictFS import DictFS\n",
    "from MulticelSeqFS import MulticelSeqFS\n",
    "from Dcel import Dcel\n",
    "\n",
    "def fudgeglob(apath,expr):\n",
    "    dcel_list = list()\n",
    "    res_dcel = Dcel(dcel_list,\n",
    "                    service_class=MulticelSeqFS\n",
    "                   )\n",
    "    res = Fudge(apath.spawn(expr,\n",
    "                            res_dcel))\n",
    "    return res\n",
    "\n",
    "\n",
    "class Fudge(APathWrapper):\n",
    "    \n",
    "    def __init__(self,source):\n",
    "        # default string to 'file'\n",
    "        srctype = type(source)\n",
    "        if srctype is str:\n",
    "            service_class = 'file'\n",
    "            apath = APath(source, \n",
    "                          service_class\n",
    "                         )\n",
    "        if issubclass(srctype,APath):\n",
    "            apath = source\n",
    "        if issubclass(srctype,(dict, list)):\n",
    "            service_class = 'dict'\n",
    "            apath = APath(source, \n",
    "                          service_class\n",
    "                         )\n",
    "        # APathWrapper initializes\n",
    "        #   self._apath\n",
    "        super().__init__(apath)\n",
    "        \n",
    "    def _getdir(self):\n",
    "        if self._apath.isdir():\n",
    "            return self\n",
    "        else:\n",
    "            try:\n",
    "                addr = self._apath.target.address\n",
    "                typename = basename(addr)\n",
    "                res = self.__getattr__(typename)\n",
    "                if res._apath.isdir():\n",
    "                    return res\n",
    "            except:\n",
    "                raise\n",
    "        raise NotADirectoryError\n",
    "    \n",
    "    def __getitem__(self, item: str):\n",
    "        \"\"\"\n",
    "        Return child from directory\n",
    "        surface of the domain,\n",
    "        wrapped in fudge.\n",
    "        \n",
    "        If the parent is a glob,\n",
    "        then the item returned is a\n",
    "        list of matching items for\n",
    "        each item in the glob result.\n",
    "        \n",
    "        If the item is a glob, then\n",
    "        spawn a new target with fudge\n",
    "        \"\"\"\n",
    "        \n",
    "        if item == '.':\n",
    "            return self\n",
    "        \n",
    "        if hasattr(self._apath,'_isglob'):\n",
    "            res = Fudge([ea[item]\n",
    "                          for ea in self\n",
    "                         ])\n",
    "            res._apath._isglob = True\n",
    "            return res\n",
    "        \n",
    "        if item == '*':\n",
    "            res = Fudge([ea for ea in self])\n",
    "            res._apath._isglob = True\n",
    "            return res\n",
    "        \n",
    "        directory = self._getdir()\n",
    "\n",
    "        if item == '*':\n",
    "            dcel = directory._apath.target\n",
    "            items = [dcel[ea]\n",
    "                     for ea in dcel.listdir()]\n",
    "            globcel = Dcel(items,\n",
    "                           service_class=MulticelSeqFS)\n",
    "            globapath = self._apath._spawn('*',globcel)\n",
    "            globapath._isglob = True\n",
    "            return Fudge(globapath)\n",
    "        \n",
    "        return Fudge(directory._apath.getchild(item))\n",
    "    \n",
    "    def __setitem__(self, pathstr, value):\n",
    "        target = self[pathstr]._apath.target\n",
    "        target.value = value\n",
    "        print(f\"Fudge::__setitem__() target.value type: {type(target.value)}\")\n",
    "        target.value.flush()\n",
    "        \n",
    "    def __getattr__(self, typename):\n",
    "        \"\"\"\n",
    "        Return a cosmos 'type'\n",
    "        mutation of the _apath.\n",
    "        \"\"\"\n",
    "        #1. lookup cosm/type\n",
    "        #2. mutate the apath\n",
    "        \n",
    "        #typefn = self._apath.cosm['types'][typename]\n",
    "        mutation = self._apath.command(dict, typename, ~(self._apath.target))\n",
    "        return Fudge(mutation)\n",
    "    \n",
    "    def __call__(self, *args, **kwargs):\n",
    "        \"\"\"\n",
    "        Pass domain through a function.\n",
    "        \"\"\"\n",
    "        return Fudge(self._apath)\n",
    "    \n",
    "    #def __truediv__(self, item):\n",
    "        #!!! this is overridden below\n",
    "    \n",
    "    def __matmul__(self, item):\n",
    "        return self.__getattr__(item)\n",
    "    \n",
    "    def __mul__(self, item):\n",
    "        return self.__getattr__(item)\n",
    "    \n",
    "    def __gt__(self, other):\n",
    "        if other == 'hello':\n",
    "            return 'hi'\n",
    "        return Fudge(self._apath)\n",
    "    \n",
    "    def __eq__(self, other):\n",
    "        if type(other) is str:\n",
    "            return str(self) == other\n",
    "        else:\n",
    "            raise TypeError(other)\n",
    "    \n",
    "    def __str__(self):\n",
    "        return str(self._apath.target)\n",
    "\n",
    "    def __iter__(self):\n",
    "        try:\n",
    "            directory = self._getdir()\n",
    "            if hasattr(self._apath,'_isglob'):\n",
    "                return iter([ea for ea in directory._apath.listdir()])\n",
    "            return iter([self[ea] for ea in directory._apath.listdir()])\n",
    "        except:\n",
    "            return iter([self])\n",
    "        \n",
    "            \n",
    "# Fudge pathwalk\n",
    "\n",
    "def splitexists(fudgeob, seg, c='.'):\n",
    "    parts = seg.split(c)\n",
    "    i = 0\n",
    "    matchi = -1\n",
    "    match = ''\n",
    "    trypart = ''\n",
    "    fudgeob = fudgeob._getdir()\n",
    "    for part in parts:\n",
    "        if trypart == '':\n",
    "            trypart = part\n",
    "        else:\n",
    "            trypart += c + part\n",
    "        if fudgeob._apath.exists(trypart):\n",
    "            matchi = i\n",
    "            match = trypart\n",
    "        i += 1\n",
    "    return (match,parts[matchi+1:])\n",
    "\n",
    "def fudgedots(nextfudge,suffixes):\n",
    "    for suf in suffixes:\n",
    "        nextfudge = nextfudge.__getattr__(suf)\n",
    "    return nextfudge\n",
    "\n",
    "def fudgedot(fudgeob,path):\n",
    "    if hasattr(fudgeob._apath,'_isglob'):\n",
    "        array = [fudgedot(each,path)\n",
    "                 for each in fudgeob]\n",
    "        res = Fudge(array)\n",
    "        res._apath._isglob = True\n",
    "        return res\n",
    "    exists,segs = splitexists(fudgeob,path,'.')\n",
    "    nextfudge = fudgeob\n",
    "    if exists != '':\n",
    "        nextfudge = fudgeob[exists]\n",
    "    if segs == []:\n",
    "        return nextfudge\n",
    "    else:\n",
    "        return fudgedots(nextfudge, segs)\n",
    "\n",
    "def fudgestar(fudgeob,segs):\n",
    "    ar = [ fudgesegs(fudgeob[name],segs)._apath.target.value\n",
    "            for name in fudgeob ] \n",
    "    return Fudge(ar)\n",
    "\n",
    "def fudgesegs(nextfudge,segs):\n",
    "    for seg in segs:\n",
    "        if seg == '*':\n",
    "            nextfudge = nextfudge[seg]\n",
    "            continue\n",
    "        nextfudge = fudgedot(nextfudge,seg)\n",
    "    return nextfudge\n",
    "\n",
    "def fudgewalk(fudgeob,path):\n",
    "    try:\n",
    "        return fudgeob[path]\n",
    "    except KeyError:\n",
    "        exists,segs = splitexists(fudgeob,path,'/')\n",
    "        if segs == []:\n",
    "            return fudgedot(fudgeob,path)\n",
    "        if exists != '':\n",
    "            nextfudge = fudgeob[exists]\n",
    "            return fudgesegs(nextfudge, segs)\n",
    "        else:\n",
    "            return fudgesegs(fudgeob, segs)\n",
    "\n",
    "Fudge.__truediv__ = fudgewalk"
   ]
  },
  {
   "cell_type": "markdown",
   "metadata": {},
   "source": [
    "### SETUP TEST ENVIRONMENT"
   ]
  },
  {
   "cell_type": "code",
   "execution_count": 2,
   "metadata": {
    "scrolled": true
   },
   "outputs": [
    {
     "data": {
      "text/plain": [
       "blackstrap.BlackstrapFS"
      ]
     },
     "execution_count": 2,
     "metadata": {},
     "output_type": "execute_result"
    }
   ],
   "source": [
    "from blackstrap import BlackstrapFS\n",
    "\n",
    "BlackstrapFS.initHost('localhost')\n",
    "BlackstrapFS.addShare('fs/fs','fs')\n"
   ]
  },
  {
   "cell_type": "code",
   "execution_count": 3,
   "metadata": {},
   "outputs": [],
   "source": [
    "# file system root\n",
    "\n",
    "fu_root = Fudge('file://fs.localhost')"
   ]
  },
  {
   "cell_type": "code",
   "execution_count": 4,
   "metadata": {},
   "outputs": [],
   "source": [
    "# TODO: FIXME: accessing root is somehow required\n",
    "# before using a '.command' fudge as in the next jupyter cell\n",
    "# otherwise the '.command' lookup fails.\n",
    "# Why?\n",
    "rootdir = fu_root/'/'"
   ]
  },
  {
   "cell_type": "markdown",
   "metadata": {},
   "source": [
    "### TEST .CSKVP PARSER"
   ]
  },
  {
   "cell_type": "code",
   "execution_count": 27,
   "metadata": {},
   "outputs": [
    {
     "name": "stdout",
     "output_type": "stream",
     "text": [
      "creating Dcel with formula: <function hiena_mp at 0x7f4018265040>, args: [<Dcel.Dcel object at 0x7f40183859a0>, <Dcel.DcelReference object at 0x7f4001e80070>], kwargs: {}\n",
      "<Dcel.Dcel object at 0x7f4001e6e700>\n",
      "Dcel service wrapper: <Dcel.Dcel object at 0x7f4001e6e670>\n",
      "APath wrapper: <APath.APath object at 0x7f4001dba670>\n",
      "branch key: <APath.APath object at 0x7f4018385820>\n",
      "creating Dcel with formula: <function hiena_mp at 0x7f4018265040>, args: [<Dcel.Dcel object at 0x7f40183859a0>, <Dcel.DcelReference object at 0x7f401802d430>], kwargs: {}\n",
      "<Dcel.Dcel object at 0x7f4018320ac0>\n",
      "Dcel service wrapper: <Dcel.Dcel object at 0x7f4018320700>\n",
      "APath wrapper: <APath.APath object at 0x7f4018320f40>\n",
      "branch key: <APath.APath object at 0x7f4018385820>\n",
      "creating Dcel with formula: <function hiena_mp at 0x7f4018265040>, args: [<Dcel.Dcel object at 0x7f4001bc8e80>, <Dcel.DcelReference object at 0x7f4001bc8ca0>], kwargs: {}\n",
      "<Dcel.Dcel object at 0x7f4001bc8d30>\n",
      "Dcel service wrapper: <Dcel.Dcel object at 0x7f4001bc8d60>\n",
      "APath wrapper: <APath.APath object at 0x7f4001bc8eb0>\n",
      "branch key: <APath.APath object at 0x7f40181490a0>\n"
     ]
    }
   ],
   "source": [
    "mntops = fu_root/'@/etc/fstab/1/mntopts.cskvp'"
   ]
  },
  {
   "cell_type": "code",
   "execution_count": 39,
   "metadata": {},
   "outputs": [
    {
     "name": "stdout",
     "output_type": "stream",
     "text": [
      "<__main__.Fudge object at 0x7f4001bc8fd0>\n",
      "---\n",
      "<__main__.Fudge object at 0x7f4001aa5670> user\n",
      "<__main__.Fudge object at 0x7f40019eac70> shortid\n",
      "<__main__.Fudge object at 0x7f40019ea5b0> idcard\n"
     ]
    }
   ],
   "source": [
    "print(repr(mntops))\n",
    "print('---')\n",
    "for ea in mntops:\n",
    "    print(f\"{repr(ea)} {ea._apath.getinfo().name}\")"
   ]
  },
  {
   "cell_type": "code",
   "execution_count": 42,
   "metadata": {},
   "outputs": [
    {
     "name": "stdout",
     "output_type": "stream",
     "text": [
      "localuser\n"
     ]
    }
   ],
   "source": [
    "print(mntops/'idcard')"
   ]
  },
  {
   "cell_type": "markdown",
   "metadata": {},
   "source": [
    "### TEST FUDGE GLOB OUTPUT"
   ]
  },
  {
   "cell_type": "code",
   "execution_count": 5,
   "metadata": {},
   "outputs": [],
   "source": [
    "dirlist = fu_root/'*'"
   ]
  },
  {
   "cell_type": "code",
   "execution_count": 15,
   "metadata": {},
   "outputs": [
    {
     "name": "stdout",
     "output_type": "stream",
     "text": [
      "DictFS: fsdict type is <class 'list'>, path is /. Returning fsdict without lookup.\n",
      "DictFS: fsdict type is <class 'list'>, path is /. Returning fsdict without lookup.\n",
      "<__main__.Fudge object at 0x7f40183430d0> <dir '.cloud'>\n",
      "<__main__.Fudge object at 0x7f40183315e0> <dir '..@'>\n",
      "<__main__.Fudge object at 0x7f4018324940> <dir '.cosm'>\n",
      "<__main__.Fudge object at 0x7f4018324340> <dir 'fruit'>\n",
      "<__main__.Fudge object at 0x7f40183cfe80> <dir 'numbers'>\n",
      "<__main__.Fudge object at 0x7f40183cf730> <dir 'boats'>\n",
      "<__main__.Fudge object at 0x7f40183cf700> <dir '@'>\n"
     ]
    }
   ],
   "source": [
    "for ea in dirlist:\n",
    "    print(f\"{repr(ea)} {ea._apath.getinfo()}\")"
   ]
  },
  {
   "cell_type": "code",
   "execution_count": 24,
   "metadata": {},
   "outputs": [
    {
     "name": "stdout",
     "output_type": "stream",
     "text": [
      "creating Dcel with formula: <function hiena_mp at 0x7f4018265040>, args: [<Dcel.Dcel object at 0x7f40183859a0>, <Dcel.DcelReference object at 0x7f40183c4190>], kwargs: {}\n",
      "<Dcel.Dcel object at 0x7f4001c4dbb0>\n",
      "Dcel service wrapper: <Dcel.Dcel object at 0x7f40026e6ca0>\n",
      "APath wrapper: <APath.APath object at 0x7f4001c4de50>\n",
      "branch key: <APath.APath object at 0x7f40026e0bb0>\n",
      "DictFS: fsdict type is <class 'list'>, path is /. Returning fsdict without lookup.\n",
      "DictFS: fsdict type is <class 'list'>, path is /. Returning fsdict without lookup.\n",
      "creating Dcel with formula: <function urlparse_wrapper at 0x7f401822d430>, args: (<Dcel.DcelReference object at 0x7f4018370e50>,), kwargs: {}\n",
      "<Dcel.Dcel object at 0x7f40180e4fa0>\n",
      "Dcel service wrapper: <Dcel.Dcel object at 0x7f4018370370>\n",
      "APath wrapper: <APath.APath object at 0x7f4018185160>\n",
      "branch key: <APath.APath object at 0x7f40183c8a60>\n",
      "creating Dcel with formula: <function urlparse_wrapper at 0x7f401822d430>, args: (<Dcel.DcelReference object at 0x7f4018185220>,), kwargs: {}\n",
      "<Dcel.Dcel object at 0x7f4018185bb0>\n",
      "Dcel service wrapper: <Dcel.Dcel object at 0x7f4018185b20>\n",
      "APath wrapper: <APath.APath object at 0x7f4018185040>\n",
      "branch key: <APath.APath object at 0x7f40181859a0>\n",
      "creating Dcel with formula: <function urlparse_wrapper at 0x7f401822d430>, args: (<Dcel.DcelReference object at 0x7f40181857c0>,), kwargs: {}\n",
      "<Dcel.Dcel object at 0x7f40181858e0>\n",
      "Dcel service wrapper: <Dcel.Dcel object at 0x7f4018185910>\n",
      "APath wrapper: <APath.APath object at 0x7f4018185850>\n",
      "branch key: <APath.APath object at 0x7f40181854f0>\n",
      "creating Dcel with formula: <function urlparse_wrapper at 0x7f401822d430>, args: (<Dcel.DcelReference object at 0x7f40183706a0>,), kwargs: {}\n",
      "<Dcel.Dcel object at 0x7f4018353880>\n",
      "Dcel service wrapper: <Dcel.Dcel object at 0x7f40183536d0>\n",
      "APath wrapper: <APath.APath object at 0x7f40183534f0>\n",
      "branch key: <APath.APath object at 0x7f4018185610>\n",
      "DictFS: fsdict type is <class 'list'>, path is /. Returning fsdict without lookup.\n",
      "DictFS: fsdict type is <class 'list'>, path is /. Returning fsdict without lookup.\n"
     ]
    }
   ],
   "source": [
    "schemelist = fu_root/'@/etc/fstabtest.fstab/*/spec.url/scheme'"
   ]
  },
  {
   "cell_type": "code",
   "execution_count": 25,
   "metadata": {},
   "outputs": [
    {
     "name": "stdout",
     "output_type": "stream",
     "text": [
      "DictFS: fsdict type is <class 'list'>, path is /. Returning fsdict without lookup.\n",
      "DictFS: fsdict type is <class 'list'>, path is /. Returning fsdict without lookup.\n",
      "cloud\n",
      "file\n",
      "file\n",
      "file\n"
     ]
    }
   ],
   "source": [
    "for ea in schemelist:\n",
    "    print(ea)"
   ]
  },
  {
   "cell_type": "markdown",
   "metadata": {},
   "source": [
    "### TEST URL PARSER"
   ]
  },
  {
   "cell_type": "code",
   "execution_count": 5,
   "metadata": {},
   "outputs": [],
   "source": [
    "fstab = fu_root/'@/etc/fstab'"
   ]
  },
  {
   "cell_type": "code",
   "execution_count": 6,
   "metadata": {},
   "outputs": [
    {
     "name": "stdout",
     "output_type": "stream",
     "text": [
      "creating Dcel with formula: <function hiena_mp at 0x7f4b11eecee0>, args: [<Dcel.Dcel object at 0x7f4b11f61f10>, <Dcel.DcelReference object at 0x7f4b11f54460>], kwargs: {}\n",
      "<Dcel.Dcel object at 0x7f4b11f61760>\n",
      "Dcel service wrapper: <Dcel.Dcel object at 0x7f4b11f61580>\n",
      "APath wrapper: <APath.APath object at 0x7f4b11f61610>\n",
      "branch key: <APath.APath object at 0x7f4b127ab910>\n",
      "creating Dcel with formula: <function hiena_mp at 0x7f4b11eecee0>, args: [<Dcel.Dcel object at 0x7f4b11f61f10>, <Dcel.DcelReference object at 0x7f4b11f41880>], kwargs: {}\n",
      "<Dcel.Dcel object at 0x7f4b11f411f0>\n",
      "Dcel service wrapper: <Dcel.Dcel object at 0x7f4b11f41220>\n",
      "APath wrapper: <APath.APath object at 0x7f4b12ff1d90>\n",
      "branch key: <APath.APath object at 0x7f4b127ab910>\n",
      "creating Dcel with formula: <function hiena_mp at 0x7f4b11eecee0>, args: [<Dcel.Dcel object at 0x7f4b11f61f10>, <Dcel.DcelReference object at 0x7f4b11f43820>], kwargs: {}\n",
      "<Dcel.Dcel object at 0x7f4b11f433d0>\n",
      "Dcel service wrapper: <Dcel.Dcel object at 0x7f4b11f43880>\n",
      "APath wrapper: <APath.APath object at 0x7f4b11f43400>\n",
      "branch key: <APath.APath object at 0x7f4b127ab910>\n",
      "creating Dcel with formula: <function urlparse_wrapper at 0x7f4b11e4e310>, args: (<Dcel.DcelReference object at 0x7f4b11f76af0>,), kwargs: {}\n",
      "<Dcel.Dcel object at 0x7f4b11f769d0>\n",
      "Dcel service wrapper: <Dcel.Dcel object at 0x7f4b11f76a60>\n",
      "APath wrapper: <APath.APath object at 0x7f4b11f768b0>\n",
      "branch key: <APath.APath object at 0x7f4b11f76b50>\n",
      "file\n"
     ]
    }
   ],
   "source": [
    "print(fstab/'1/spec.url/scheme')"
   ]
  },
  {
   "cell_type": "code",
   "execution_count": 7,
   "metadata": {},
   "outputs": [
    {
     "name": "stdout",
     "output_type": "stream",
     "text": [
      "creating Dcel with formula: <function hiena_mp at 0x7f4b11eecee0>, args: [<Dcel.Dcel object at 0x7f4b11f61f10>, <Dcel.DcelReference object at 0x7f4b11f41700>], kwargs: {}\n",
      "<Dcel.Dcel object at 0x7f4b11f41640>\n",
      "Dcel service wrapper: <Dcel.Dcel object at 0x7f4b11f416d0>\n",
      "APath wrapper: <APath.APath object at 0x7f4b11f61eb0>\n",
      "branch key: <APath.APath object at 0x7f4b127ab910>\n",
      "creating Dcel with formula: <function urlparse_wrapper at 0x7f4b11e4e310>, args: (<Dcel.DcelReference object at 0x7f4b11f41370>,), kwargs: {}\n",
      "<Dcel.Dcel object at 0x7f4b11f76850>\n",
      "Dcel service wrapper: <Dcel.Dcel object at 0x7f4b11f76880>\n",
      "APath wrapper: <APath.APath object at 0x7f4b11f765b0>\n",
      "branch key: <APath.APath object at 0x7f4b11f76be0>\n"
     ]
    }
   ],
   "source": [
    "url = fstab['1']['spec'].url"
   ]
  },
  {
   "cell_type": "code",
   "execution_count": 20,
   "metadata": {},
   "outputs": [
    {
     "name": "stdout",
     "output_type": "stream",
     "text": [
      "<DictFS.DictFS object at 0x7fc5780cde80>\n"
     ]
    }
   ],
   "source": [
    "print(url._apath.target.service)"
   ]
  },
  {
   "cell_type": "code",
   "execution_count": 7,
   "metadata": {},
   "outputs": [
    {
     "name": "stdout",
     "output_type": "stream",
     "text": [
      "<Dcel.Dcel object at 0x7fc578108310>\n",
      "<Dcel.Dcel object at 0x7fc578108a60>\n",
      "file://fs2.localhost/\n"
     ]
    }
   ],
   "source": [
    "print(repr(url._apath.target))\n",
    "# same as Dcel service wrapper, above.\n",
    "\n",
    "print(repr(url._apath.target.transformation_history))\n",
    "# address o fwrapper is supposed to be previous dcel.\n",
    "\n",
    "transource = url._apath.target.transformation_history\n",
    "\n",
    "print(str(transource.args[0]))"
   ]
  },
  {
   "cell_type": "code",
   "execution_count": 8,
   "metadata": {},
   "outputs": [
    {
     "name": "stdout",
     "output_type": "stream",
     "text": [
      "{'scheme': 'file', 'netloc': 'fs2.localhost', 'path': '/', 'params': '', 'query': '', 'fragment': ''}\n"
     ]
    }
   ],
   "source": [
    "print(url)"
   ]
  },
  {
   "cell_type": "markdown",
   "metadata": {},
   "source": [
    "### Develop multivalue update from JSON"
   ]
  },
  {
   "cell_type": "code",
   "execution_count": 5,
   "metadata": {},
   "outputs": [],
   "source": [
    "path = '@/etc/fstabtest.fstab'\n",
    "fstab = fu_root/(path+'/')"
   ]
  },
  {
   "cell_type": "code",
   "execution_count": 44,
   "metadata": {},
   "outputs": [],
   "source": [
    "# create JSON\n",
    "from json import dumps, loads\n",
    "from DcelJSONEncoder import DcelJSONEncoder\n",
    "multiValue = dumps(fstab._apath.target,cls=DcelJSONEncoder)"
   ]
  },
  {
   "cell_type": "code",
   "execution_count": 46,
   "metadata": {},
   "outputs": [
    {
     "name": "stdout",
     "output_type": "stream",
     "text": [
      "@/etc/fstabtest.fstab/1/spec = cloud://burner.localhost\n",
      "@/etc/fstabtest.fstab/1/file = {cburnuser}/example/\n",
      "@/etc/fstabtest.fstab/1/vfstype = cburnfs\n",
      "@/etc/fstabtest.fstab/1/mntopts = user,shortid=9mm,idcard=smithandwesson.id.pub\n",
      "@/etc/fstabtest.fstab/1/freq = 0\n",
      "@/etc/fstabtest.fstab/1/passno = 0\n",
      "@/etc/fstabtest.fstab/2/spec = file://fs.localhost\n",
      "@/etc/fstabtest.fstab/2/file = {cburnuser}/example/\n",
      "@/etc/fstabtest.fstab/2/vfstype = cburnfs\n",
      "@/etc/fstabtest.fstab/2/mntopts = user,shortid=fs,idcard=localuser\n",
      "@/etc/fstabtest.fstab/2/freq = 0\n",
      "@/etc/fstabtest.fstab/2/passno = 0\n",
      "@/etc/fstabtest.fstab/3/spec = file://fs3.localhost/\n",
      "@/etc/fstabtest.fstab/3/file = {cburnuser}/example/\n",
      "@/etc/fstabtest.fstab/3/vfstype = cburnfs\n",
      "@/etc/fstabtest.fstab/3/mntopts = user,shortid=f3,idcard=localuser\n",
      "@/etc/fstabtest.fstab/3/freq = 0\n",
      "@/etc/fstabtest.fstab/3/passno = 0\n",
      "@/etc/fstabtest.fstab/4/spec = file://cburnwebui.localhost/\n",
      "@/etc/fstabtest.fstab/4/file = {cburnuser}/example/\n",
      "@/etc/fstabtest.fstab/4/vfstype = cburnfs\n",
      "@/etc/fstabtest.fstab/4/mntopts = nouser,idcard=localuser\n",
      "@/etc/fstabtest.fstab/4/freq = 0\n",
      "@/etc/fstabtest.fstab/4/passno = 0\n"
     ]
    }
   ],
   "source": [
    "# create list of (URL,VALUE)\n",
    "jsonMultiValue = loads(multiValue)\n",
    "\n",
    "def urlListFromDict(path, ob) -> list:\n",
    "    dirlist = list()\n",
    "    if type(ob) is dict:\n",
    "        for each in ob:\n",
    "            dirlist = dirlist + urlListFromDict(f\"{path}/{each}\", ob[each])\n",
    "    else:\n",
    "        return [(path, ob)]\n",
    "    return dirlist\n",
    "                \n",
    "updates = urlListFromDict(path, jsonMultiValue)\n",
    "for url,val in updates:\n",
    "    print(f\"{url} = {val}\")"
   ]
  },
  {
   "cell_type": "markdown",
   "metadata": {},
   "source": [
    "### Test writing multiple values and flushing to storage."
   ]
  },
  {
   "cell_type": "markdown",
   "metadata": {},
   "source": [
    "Following is the working way to *write* to a Fudge. Use the whole URL. This method parses the Fudge completely before writing to it. It's the only predictable method currently."
   ]
  },
  {
   "cell_type": "code",
   "execution_count": 7,
   "metadata": {},
   "outputs": [],
   "source": [
    "# WORKS: so here's what works: re-parsing each time a value needs to change\n",
    "#        will make sure that the data gets mapped to the correct bytes in storage.\n",
    "\n",
    "mntops = fu_root/'@/etc/fstabtest.fstab/1/mntopts.cskvp'\n",
    "mntops['shortid'] = 'PF2'\n",
    "\n",
    "# re-parse...\n",
    "\n",
    "mntops = fu_root/'@/etc/fstabtest.fstab/1/mntopts.cskvp'\n",
    "mntops['idcard'] = 'dannyboy.id'\n",
    "\n",
    "# re-parse...\n",
    "\n",
    "spec = fu_root/'@/etc/fstabtest.fstab/1/spec'\n",
    "spec['.'] = \"git://fs2.localhost\"\n"
   ]
  },
  {
   "cell_type": "code",
   "execution_count": 9,
   "metadata": {},
   "outputs": [],
   "source": [
    "# shorthand...\n",
    "\n",
    "(fu_root/'@/etc/fstabtest.fstab/1/mntopts.cskvp/shortid')['.'] = '9mm'\n",
    "(fu_root/'@/etc/fstabtest.fstab/1/mntopts.cskvp/idcard')['.'] = 'smithandwesson.id.pub'\n",
    "(fu_root/'@/etc/fstabtest.fstab/1/spec')['.'] = 'cloud://burner.localhost'\n"
   ]
  },
  {
   "cell_type": "markdown",
   "metadata": {},
   "source": [
    "### Developing flush()"
   ]
  },
  {
   "cell_type": "code",
   "execution_count": 5,
   "metadata": {},
   "outputs": [],
   "source": [
    "mntopts = fu_root/'@/etc/fstabtest.fstab/1/mntopts.cskvp'"
   ]
  },
  {
   "cell_type": "code",
   "execution_count": 6,
   "metadata": {},
   "outputs": [
    {
     "name": "stdout",
     "output_type": "stream",
     "text": [
      "booty\n"
     ]
    }
   ],
   "source": [
    "print(mntopts['shortid'])"
   ]
  },
  {
   "cell_type": "code",
   "execution_count": 8,
   "metadata": {},
   "outputs": [],
   "source": [
    "mntopts['shortid'] = 'F5'"
   ]
  },
  {
   "cell_type": "code",
   "execution_count": 9,
   "metadata": {},
   "outputs": [
    {
     "name": "stdout",
     "output_type": "stream",
     "text": [
      "flushing /shortid <DictFS.DictFS object at 0x7f81f054dc70>\n",
      "flushing slice(13, 18, None) user,shortid=F5,idcard=localuser\n",
      "address is slice, service is Dcel\n",
      "flushing /1/mntopts <DictFS.DictFS object at 0x7f81f056ca90>\n",
      "flushing slice(53, 88, None) file://fs2.localhost/  {cburnuser}/example/  cburnfs user,shortid=F5,idcard=localuser 0 0\n",
      "address is slice, service is Dcel\n",
      "flushing slice(666, 758, None) # # Cosm / Etc / FSTab\n",
      "\n",
      "# the .cosm/etc/fstab used by cburn is shared between hosts. The concept of 'localhost' is centric to a generic host model. A file url is relative to the generic host model, whereas a relative file path is relative to the working directory of cloudburner at runtime on each host.\n",
      "\n",
      "# experimental: include a hostname in the 'file://' url to limit the scope of a filepath to a specific host.\n",
      "\n",
      "# experimental: proxy the 'file' protocol and allow subdomain syntax to specify shares. The path component is relative to the share.\n",
      "\n",
      "# idea: make filepaths relative to the fstab's location, ie: for ./.cosm/etc/fstab the relative root is ../../../\n",
      "\n",
      "\n",
      "\n",
      "file://fs2.localhost/  {cburnuser}/example/  cburnfs user,shortid=F5,idcard=localuser 0 0\n",
      "file://fs.localhost    {cburnuser}/example/  cburnfs user,shortid=fs,idcard=localuser 0 0\n",
      "file://fs3.localhost/  {cburnuser}/example/  cburnfs user,shortid=f3,idcard=localuser 0 0\n",
      "file://cburnwebui.localhost/  {cburnuser}/example/  cburnfs nouser,idcard=localuser 0 0\n",
      "\n",
      "# mntopt nouser keeps the mountpoint out of the user interface and should be used for the ui overlay only.\n",
      "\n",
      "address is slice, service is Dcel\n",
      "flushing /@/etc/fstabtest <blackstrapfs 'fs/fs/'>\n",
      "flushing value: self.value = self.value\n"
     ]
    }
   ],
   "source": [
    "target = mntopts['shortid']._apath.target\n",
    "target.flush()"
   ]
  },
  {
   "cell_type": "code",
   "execution_count": 9,
   "metadata": {},
   "outputs": [
    {
     "name": "stdout",
     "output_type": "stream",
     "text": [
      "<APath.APath object at 0x7f2d501798b0> <Dcel.Dcel object at 0x7f2d50179a00>\n",
      "    address: /\n",
      "    service: <class 'DictFS.DictFS'>\n",
      "    lookup result: {'user': <Dcel.Dcel object at 0x7f2d50179a60>, 'shortid': <Dcel.Dcel object at 0x7f2d50122190>, 'idcard': <Dcel.Dcel object at 0x7f2d50122a30>}\n",
      "    value type: <class 'dict'>\n",
      "    value: {'user': <Dcel.Dcel object at 0x7f2d50179a60>, 'shortid': <Dcel.Dcel object at 0x7f2d50122190>, 'idcard': <Dcel.Dcel object at 0x7f2d50122a30>}\n",
      "    json: {\"user\": \"\", \"shortid\": \"booty\", \"idcard\": \"localuser\"}\n",
      "    \n",
      "\n",
      "<APath.APath object at 0x7f2d50179b80> <Dcel.Dcel object at 0x7f2d5010b550>\n",
      "    address: /1/mntopts\n",
      "    service: <class 'DictFS.DictFS'>\n",
      "    lookup result: <Dcel.Dcel object at 0x7f2d5010b8b0>\n",
      "    value type: <class 'str'>\n",
      "    value: user,shortid=booty,idcard=localuser\n",
      "    json: \"user,shortid=booty,idcard=localuser\"\n",
      "    \n",
      "\n",
      "<APath.APath object at 0x7f2d50179c10> <Dcel.Dcel object at 0x7f2d50111310>\n",
      "    address: /1\n",
      "    service: <class 'DictFS.DictFS'>\n",
      "    lookup result: {'spec': <Dcel.Dcel object at 0x7f2d5010bbe0>, 'file': <Dcel.Dcel object at 0x7f2d5010bd90>, 'vfstype': <Dcel.Dcel object at 0x7f2d5010bc40>, 'mntopts': <Dcel.Dcel object at 0x7f2d5010b8b0>, 'freq': <Dcel.Dcel object at 0x7f2d5010ba60>, 'passno': <Dcel.Dcel object at 0x7f2d5010bdc0>}\n",
      "    value type: <class 'dict'>\n",
      "    value: {'spec': <Dcel.Dcel object at 0x7f2d5010bbe0>, 'file': <Dcel.Dcel object at 0x7f2d5010bd90>, 'vfstype': <Dcel.Dcel object at 0x7f2d5010bc40>, 'mntopts': <Dcel.Dcel object at 0x7f2d5010b8b0>, 'freq': <Dcel.Dcel object at 0x7f2d5010ba60>, 'passno': <Dcel.Dcel object at 0x7f2d5010bdc0>}\n",
      "    json: {\"spec\": \"file://fs2.localhost/\", \"file\": \"{cburnuser}/example/\", \"vfstype\": \"cburnfs\", \"mntopts\": \"user,shortid=berry,idcard=localuser\", \"freq\": \"0\", \"passno\": \"0\"}\n",
      "    \n",
      "\n",
      "<APath.APath object at 0x7f2d5010b220> <Dcel.Dcel object at 0x7f2d5010b700>\n",
      "    address: /\n",
      "    service: <class 'DictFS.DictFS'>\n",
      "    lookup result: {'1': {'spec': <Dcel.Dcel object at 0x7f2d5010bbe0>, 'file': <Dcel.Dcel object at 0x7f2d5010bd90>, 'vfstype': <Dcel.Dcel object at 0x7f2d5010bc40>, 'mntopts': <Dcel.Dcel object at 0x7f2d5010b8b0>, 'freq': <Dcel.Dcel object at 0x7f2d5010ba60>, 'passno': <Dcel.Dcel object at 0x7f2d5010bdc0>}, '2': {'spec': <Dcel.Dcel object at 0x7f2d5010bc70>, 'file': <Dcel.Dcel object at 0x7f2d5010bf70>, 'vfstype': <Dcel.Dcel object at 0x7f2d5010bee0>, 'mntopts': <Dcel.Dcel object at 0x7f2d5010beb0>, 'freq': <Dcel.Dcel object at 0x7f2d5010bd30>, 'passno': <Dcel.Dcel object at 0x7f2d5010baf0>}, '3': {'spec': <Dcel.Dcel object at 0x7f2d5010bb20>, 'file': <Dcel.Dcel object at 0x7f2d5010b970>, 'vfstype': <Dcel.Dcel object at 0x7f2d5010bfa0>, 'mntopts': <Dcel.Dcel object at 0x7f2d5010b940>, 'freq': <Dcel.Dcel object at 0x7f2d50179fd0>, 'passno': <Dcel.Dcel object at 0x7f2d50179e80>}, '4': {'spec': <Dcel.Dcel object at 0x7f2d50179fa0>, 'file': <Dcel.Dcel object at 0x7f2d50179d00>, 'vfstype': <Dcel.Dcel object at 0x7f2d50179e20>, 'mntopts': <Dcel.Dcel object at 0x7f2d50179cd0>, 'freq': <Dcel.Dcel object at 0x7f2d50179dc0>, 'passno': <Dcel.Dcel object at 0x7f2d50179ca0>}}\n",
      "    value type: <class 'dict'>\n",
      "    value: {'1': {'spec': <Dcel.Dcel object at 0x7f2d5010bbe0>, 'file': <Dcel.Dcel object at 0x7f2d5010bd90>, 'vfstype': <Dcel.Dcel object at 0x7f2d5010bc40>, 'mntopts': <Dcel.Dcel object at 0x7f2d5010b8b0>, 'freq': <Dcel.Dcel object at 0x7f2d5010ba60>, 'passno': <Dcel.Dcel object at 0x7f2d5010bdc0>}, '2': {'spec': <Dcel.Dcel object at 0x7f2d5010bc70>, 'file': <Dcel.Dcel object at 0x7f2d5010bf70>, 'vfstype': <Dcel.Dcel object at 0x7f2d5010bee0>, 'mntopts': <Dcel.Dcel object at 0x7f2d5010beb0>, 'freq': <Dcel.Dcel object at 0x7f2d5010bd30>, 'passno': <Dcel.Dcel object at 0x7f2d5010baf0>}, '3': {'spec': <Dcel.Dcel object at 0x7f2d5010bb20>, 'file': <Dcel.Dcel object at 0x7f2d5010b970>, 'vfstype': <Dcel.Dcel object at 0x7f2d5010bfa0>, 'mntopts': <Dcel.Dcel object at 0x7f2d5010b940>, 'freq': <Dcel.Dcel object at 0x7f2d50179fd0>, 'passno': <Dcel.Dcel object at 0x7f2d50179e80>}, '4': {'spec': <Dcel.Dcel object at 0x7f2d50179fa0>, 'file': <Dcel.Dcel object at 0x7f2d50179d00>, 'vfstype': <Dcel.Dcel object at 0x7f2d50179e20>, 'mntopts': <Dcel.Dcel object at 0x7f2d50179cd0>, 'freq': <Dcel.Dcel object at 0x7f2d50179dc0>, 'passno': <Dcel.Dcel object at 0x7f2d50179ca0>}}\n",
      "    json: {\"1\": {\"spec\": \"file://fs2.localhost/\", \"file\": \"{cburnuser}/example/\", \"vfstype\": \"cburnfs\", \"mntopts\": \"user,shortid=berry,idcard=localuser\", \"freq\": \"0\", \"passno\": \"0\"}, \"2\": {\"spec\": \"file://fs.localhost\", \"file\": \"{cburnuser}/example/\", \"vfstype\": \"cburnfs\", \"mntopts\": \"user,shortid=fs,idcard=localuser\", \"freq\": \"0\", \"passno\": \"0\"}, \"3\": {\"spec\": \"file://fs3.localhost/\", \"file\": \"{cburnuser}/example/\", \"vfstype\": \"cburnfs\", \"mntopts\": \"user,shortid=f3,idcard=localuser\", \"freq\": \"0\", \"passno\": \"0\"}, \"4\": {\"spec\": \"file://cburnwebui.localhost/\", \"file\": \"{cburnuser}/example/\", \"vfstype\": \"cburnfs\", \"mntopts\": \"nouser,idcard=localuser\", \"freq\": \"0\", \"passno\": \"0\"}}\n",
      "    \n",
      "\n",
      "<APath.APath object at 0x7f2d50127eb0> <Dcel.Dcel object at 0x7f2d50111100>\n",
      "    address: /@/etc/fstabtest\n",
      "    service: <class 'blackstrap.BlackstrapFS'>\n",
      "    lookup result: True\n",
      "    value type: <class 'str'>\n",
      "    value: # # Cosm / Etc / FSTab\n",
      "\n",
      "# the .cosm/etc/fstab used by cburn is shared between hosts. The concept of 'localhost' is centric to a generic host model. A file url is relative to the generic host model, whereas a relative file path is relative to the working directory of cloudburner at runtime on each host.\n",
      "\n",
      "# experimental: include a hostname in the 'file://' url to limit the scope of a filepath to a specific host.\n",
      "\n",
      "# experimental: proxy the 'file' protocol and allow subdomain syntax to specify shares. The path component is relative to the share.\n",
      "\n",
      "# idea: make filepaths relative to the fstab's location, ie: for ./.cosm/etc/fstab the relative root is ../../../\n",
      "\n",
      "\n",
      "\n",
      "file://fs2.localhost/  {cburnuser}/example/  cburnfs user,shortid=berry,idcard=localuser 0 0\n",
      "file://fs.localhost    {cburnuser}/example/  cburnfs user,shortid=fs,idcard=localuser 0 0\n",
      "file://fs3.localhost/  {cburnuser}/example/  cburnfs user,shortid=f3,idcard=localuser 0 0\n",
      "file://cburnwebui.localhost/  {cburnuser}/example/  cburnfs nouser,idcard=localuser 0 0\n",
      "\n",
      "# mntopt nouser keeps the mountpoint out of the user interface and should be used for the ui overlay only.\n",
      "\n",
      "    json: \"# # Cosm / Etc / FSTab\\n\\n# the .cosm/etc/fstab used by cburn is shared between hosts. The concept of 'localhost' is centric to a generic host model. A file url is relative to the generic host model, whereas a relative file path is relative to the working directory of cloudburner at runtime on each host.\\n\\n# experimental: include a hostname in the 'file://' url to limit the scope of a filepath to a specific host.\\n\\n# experimental: proxy the 'file' protocol and allow subdomain syntax to specify shares. The path component is relative to the share.\\n\\n# idea: make filepaths relative to the fstab's location, ie: for ./.cosm/etc/fstab the relative root is ../../../\\n\\n\\n\\nfile://fs2.localhost/  {cburnuser}/example/  cburnfs user,shortid=berry,idcard=localuser 0 0\\nfile://fs.localhost    {cburnuser}/example/  cburnfs user,shortid=fs,idcard=localuser 0 0\\nfile://fs3.localhost/  {cburnuser}/example/  cburnfs user,shortid=f3,idcard=localuser 0 0\\nfile://cburnwebui.localhost/  {cburnuser}/example/  cburnfs nouser,idcard=localuser 0 0\\n\\n# mntopt nouser keeps the mountpoint out of the user interface and should be used for the ui overlay only.\\n\"\n",
      "    \n",
      "\n",
      "<APath.APath object at 0x7f2d5010b820> <Dcel.Dcel object at 0x7f2d5010b640>\n",
      "    address: /@/etc\n",
      "    service: <class 'blackstrap.BlackstrapFS'>\n",
      "    lookup result: True\n",
      "    value type: <class 'NoneType'>\n",
      "    value: None\n",
      "    json: null\n",
      "    \n",
      "\n",
      "<APath.APath object at 0x7f2d501197c0> <Dcel.Dcel object at 0x7f2d50119130>\n",
      "    address: /\n",
      "    service: <class 'blackstrap.BlackstrapFS'>\n",
      "    lookup result: True\n",
      "    value type: <class 'NoneType'>\n",
      "    value: None\n",
      "    json: null\n",
      "    \n",
      "\n"
     ]
    }
   ],
   "source": [
    "# Apaths\n",
    "from json import dumps\n",
    "from DcelJSONEncoder import DcelJSONEncoder\n",
    "\n",
    "apath = mntopts._apath\n",
    "while not apath is None:\n",
    "    dcel = apath.target\n",
    "    print(f\"\"\"{apath} {repr(dcel)}\n",
    "    address: {dcel.address}\n",
    "    service: {type(dcel.service)}\n",
    "    lookup result: {repr(dcel.service.lookup(dcel.address))}\n",
    "    value type: {type(dcel.value)}\n",
    "    value: {dcel.value}\n",
    "    json: {dumps(dcel,cls=DcelJSONEncoder)}\n",
    "    \"\"\")\n",
    "    print()\n",
    "    apath = apath.parent\n",
    "    "
   ]
  },
  {
   "cell_type": "code",
   "execution_count": 12,
   "metadata": {},
   "outputs": [
    {
     "name": "stdout",
     "output_type": "stream",
     "text": [
      "berry\n",
      "/shortid\n",
      "<DictFS.DictFS object at 0x7f027c409190>\n",
      "slice(13, 15, None)\n",
      "\n",
      "None\n",
      "/1/mntopts\n",
      "<DictFS.DictFS object at 0x7f027c38da60>\n",
      "\n",
      "None\n",
      "slice(53, 85, None)\n",
      "file://fs2.localhost/  {cburnuser}/example/  cburnfs user,shortid=berry,idcard=localuser 0 0\n"
     ]
    }
   ],
   "source": [
    "print(mntopts['shortid'])\n",
    "print(mntopts['shortid']._apath.target.address)\n",
    "print(mntopts['shortid']._apath.target.service)\n",
    "repr(mntopts['shortid']._apath.target.value)\n",
    "\n",
    "shortid_dcel = mntopts['shortid']._apath.target.value\n",
    "repr(shortid_dcel)\n",
    "print(shortid_dcel.address)\n",
    "repr(shortid_dcel.service)\n",
    "\n",
    "print()\n",
    "shortid_parent = shortid_dcel.service\n",
    "print(shortid_parent._map)\n",
    "print(shortid_parent.address)\n",
    "print(shortid_parent.service)\n",
    "\n",
    "print()\n",
    "shortid_grandpa = shortid_parent.value\n",
    "print(shortid_grandpa._map)\n",
    "print(shortid_grandpa.address)\n",
    "print(shortid_grandpa.service)"
   ]
  },
  {
   "cell_type": "code",
   "execution_count": 13,
   "metadata": {},
   "outputs": [
    {
     "name": "stdout",
     "output_type": "stream",
     "text": [
      "flushing /1/mntopts <DictFS.DictFS object at 0x7f027c38da60>\n",
      "target is Dcel\n",
      "flushing slice(53, 85, None) file://fs2.localhost/  {cburnuser}/example/  cburnfs user,shortid=berry,idcard=localuser 0 0\n",
      "address is slice, service is Dcel\n",
      "flushing slice(666, 755, None) # # Cosm / Etc / FSTab\n",
      "\n",
      "# the .cosm/etc/fstab used by cburn is shared between hosts. The concept of 'localhost' is centric to a generic host model. A file url is relative to the generic host model, whereas a relative file path is relative to the working directory of cloudburner at runtime on each host.\n",
      "\n",
      "# experimental: include a hostname in the 'file://' url to limit the scope of a filepath to a specific host.\n",
      "\n",
      "# experimental: proxy the 'file' protocol and allow subdomain syntax to specify shares. The path component is relative to the share.\n",
      "\n",
      "# idea: make filepaths relative to the fstab's location, ie: for ./.cosm/etc/fstab the relative root is ../../../\n",
      "\n",
      "\n",
      "\n",
      "file://fs2.localhost/  {cburnuser}/example/  cburnfs user,shortid=berry,idcard=localuser 0 0\n",
      "file://fs.localhost    {cburnuser}/example/  cburnfs user,shortid=fs,idcard=localuser 0 0\n",
      "file://fs3.localhost/  {cburnuser}/example/  cburnfs user,shortid=f3,idcard=localuser 0 0\n",
      "file://cburnwebui.localhost/  {cburnuser}/example/  cburnfs nouser,idcard=localuser 0 0\n",
      "\n",
      "# mntopt nouser keeps the mountpoint out of the user interface and should be used for the ui overlay only.\n",
      "\n",
      "address is slice, service is Dcel\n",
      "flushing /@/etc/fstabtest <blackstrapfs 'fs/fs/'>\n"
     ]
    }
   ],
   "source": [
    "shortid_parent.flush()"
   ]
  },
  {
   "cell_type": "code",
   "execution_count": 53,
   "metadata": {},
   "outputs": [
    {
     "name": "stdout",
     "output_type": "stream",
     "text": [
      "{'user': <Dcel.Dcel object at 0x7f84c857c580>, 'shortid': <Dcel.Dcel object at 0x7f84c857c610>, 'idcard': <Dcel.Dcel object at 0x7f84c857c430>}\n",
      "{\"user\": \"\", \"shortid\": \"bluegil\", \"idcard\": \"localusererile://fs.localhost  \"}\n",
      "---\n",
      "{\"spec\": \"dav://fs2.localhost\", \"file\": \"/home/raygan\", \"vfstype\": \"cburnfs\", \"mntopts\": \"user,shortid=bluegil,idcard=localusererile://fs.localhost  \", \"freq\": \"burnuser}/example/  \", \"passno\": \"urnfs u\"}\n"
     ]
    }
   ],
   "source": [
    "\n",
    "from json import dumps\n",
    "from DcelJSONEncoder import DcelJSONEncoder\n",
    "print(mntopts)\n",
    "print(dumps(mntopts._apath.target,cls=DcelJSONEncoder))\n",
    "print('---')\n",
    "print(dumps(mntopts._apath.parent.parent.target,cls=DcelJSONEncoder))\n"
   ]
  },
  {
   "cell_type": "code",
   "execution_count": 9,
   "metadata": {},
   "outputs": [
    {
     "name": "stdout",
     "output_type": "stream",
     "text": [
      "flushing / <DictFS.DictFS object at 0x7f3f8413aeb0>\n"
     ]
    }
   ],
   "source": [
    "mntopts._apath.target.flush()"
   ]
  },
  {
   "cell_type": "code",
   "execution_count": 20,
   "metadata": {},
   "outputs": [
    {
     "name": "stdout",
     "output_type": "stream",
     "text": [
      "/1/mntopts\n"
     ]
    }
   ],
   "source": [
    "print(mntopts['shortid']._apath.parent.parent.target.address)"
   ]
  },
  {
   "cell_type": "code",
   "execution_count": 19,
   "metadata": {},
   "outputs": [
    {
     "name": "stdout",
     "output_type": "stream",
     "text": [
      "\"user,shortid=SNOTGREEN,idcard=localuserer\"\n"
     ]
    }
   ],
   "source": [
    "from json import dumps\n",
    "from DcelJSONEncoder import DcelJSONEncoder\n",
    "print(dumps(mntopts['shortid']._apath.parent.parent.target,cls=DcelJSONEncoder))"
   ]
  },
  {
   "cell_type": "code",
   "execution_count": 15,
   "metadata": {},
   "outputs": [
    {
     "name": "stdout",
     "output_type": "stream",
     "text": [
      "flushing /1/mntopts <DictFS.DictFS object at 0x7f3f8415ae20>\n",
      "target is Dcel\n",
      "flushing slice(41, 79, None) dav://fs2.localhost /home/raygan cburnfs user,shortid=SNOTGREEN,idcard=localuserer\n",
      "address is slice, service is Dcel\n",
      "flushing slice(666, 745, None) # # Cosm / Etc / FSTab\n",
      "\n",
      "# the .cosm/etc/fstab used by cburn is shared between hosts. The concept of 'localhost' is centric to a generic host model. A file url is relative to the generic host model, whereas a relative file path is relative to the working directory of cloudburner at runtime on each host.\n",
      "\n",
      "# experimental: include a hostname in the 'file://' url to limit the scope of a filepath to a specific host.\n",
      "\n",
      "# experimental: proxy the 'file' protocol and allow subdomain syntax to specify shares. The path component is relative to the share.\n",
      "\n",
      "# idea: make filepaths relative to the fstab's location, ie: for ./.cosm/etc/fstab the relative root is ../../../\n",
      "\n",
      "\n",
      "\n",
      "dav://fs2.localhost /home/raygan cburnfs user,shortid=SNOTGREEN,idcard=localuserer\n",
      "file://fs.localhost    {cburnuser}/example/  cburnfs user,shortid=fs,idcard=localuser 0 0\n",
      "file://fs3.localhost/  {cburnuser}/example/  cburnfs user,shortid=f3,idcard=localuser 0 0\n",
      "file://cburnwebui.localhost/  {cburnuser}/example/  cburnfs nouser,idcard=localuser 0 0\n",
      "\n",
      "# mntopt nouser keeps the mountpoint out of the user interface and should be used for the ui overlay only.\n",
      "\n",
      "address is slice, service is Dcel\n",
      "flushing /@/etc/fstabtest <blackstrapfs 'fs/fs/'>\n"
     ]
    }
   ],
   "source": [
    "mntopts['shortid']._apath.parent.parent.target.flush()"
   ]
  },
  {
   "cell_type": "code",
   "execution_count": 22,
   "metadata": {},
   "outputs": [
    {
     "name": "stdout",
     "output_type": "stream",
     "text": [
      "flushing /shortid <DictFS.DictFS object at 0x7fca440974c0>\n",
      "target is Dcel\n",
      "flushing slice(13, 22, None) user,shortid=BLUE,idcard=localuser\n",
      "address is slice, service is Dcel\n",
      "flushing /1/mntopts <DictFS.DictFS object at 0x7fca44281fd0>\n",
      "target is Dcel\n",
      "flushing slice(41, 80, None) dav://fs2.localhost /home/raygan cburnfs user,shortid=HELLOELLO,idcard=localuser 0 \n",
      "address is slice, service is Dcel\n",
      "flushing slice(666, 749, None) # # Cosm / Etc / FSTab\n",
      "\n",
      "# the .cosm/etc/fstab used by cburn is shared between hosts. The concept of 'localhost' is centric to a generic host model. A file url is relative to the generic host model, whereas a relative file path is relative to the working directory of cloudburner at runtime on each host.\n",
      "\n",
      "# experimental: include a hostname in the 'file://' url to limit the scope of a filepath to a specific host.\n",
      "\n",
      "# experimental: proxy the 'file' protocol and allow subdomain syntax to specify shares. The path component is relative to the share.\n",
      "\n",
      "# idea: make filepaths relative to the fstab's location, ie: for ./.cosm/etc/fstab the relative root is ../../../\n",
      "\n",
      "\n",
      "\n",
      "dav://fs2.localhost /home/raygan cburnfs user,shortid=BLUEELLO,idcard=localuser 0 0\n",
      "file://fs.localhost    {cburnuser}/example/  cburnfs user,shortid=fs,idcard=localuser 0 0\n",
      "file://fs3.localhost/  {cburnuser}/example/  cburnfs user,shortid=f3,idcard=localuser 0 0\n",
      "file://cburnwebui.localhost/  {cburnuser}/example/  cburnfs nouser,idcard=localuser 0 0\n",
      "\n",
      "# mntopt nouser keeps the mountpoint out of the user interface and should be used for the ui overlay only.\n",
      "\n",
      "address is slice, service is Dcel\n",
      "flushing /@/etc/fstabtest <blackstrapfs 'fs/fs/'>\n"
     ]
    }
   ],
   "source": [
    "mntopts['shortid']._apath.target.flush()"
   ]
  },
  {
   "cell_type": "code",
   "execution_count": 1,
   "metadata": {},
   "outputs": [
    {
     "ename": "NameError",
     "evalue": "name 'mntopts' is not defined",
     "output_type": "error",
     "traceback": [
      "\u001b[0;31m---------------------------------------------------------------------------\u001b[0m",
      "\u001b[0;31mNameError\u001b[0m                                 Traceback (most recent call last)",
      "Input \u001b[0;32mIn [1]\u001b[0m, in \u001b[0;36m<cell line: 1>\u001b[0;34m()\u001b[0m\n\u001b[0;32m----> 1\u001b[0m \u001b[38;5;28mprint\u001b[39m(\u001b[43mmntopts\u001b[49m\u001b[38;5;241m.\u001b[39m_apath\u001b[38;5;241m.\u001b[39mtarget\u001b[38;5;241m.\u001b[39mvalue)\n\u001b[1;32m      2\u001b[0m \u001b[38;5;28mprint\u001b[39m(mntopts\u001b[38;5;241m.\u001b[39m_apath\u001b[38;5;241m.\u001b[39mtarget\u001b[38;5;241m.\u001b[39maddress)\n\u001b[1;32m      3\u001b[0m \u001b[38;5;28mprint\u001b[39m(mntopts\u001b[38;5;241m.\u001b[39m_apath\u001b[38;5;241m.\u001b[39mtarget\u001b[38;5;241m.\u001b[39mservice)\n",
      "\u001b[0;31mNameError\u001b[0m: name 'mntopts' is not defined"
     ]
    }
   ],
   "source": [
    "print(mntopts._apath.target.value)\n",
    "print(mntopts._apath.target.address)\n",
    "print(mntopts._apath.target.service)\n",
    "print(mntopts._apath.target.service.fsdict['shortid'].service.address)\n",
    "print(mntopts._apath.target.service.fsdict['shortid'].service.service)\n",
    "print(mntopts._apath.target.service.fsdict['shortid'].service.service.fsdict.keys())\n",
    "\n",
    "addr  = mntopts._apath.target.service.fsdict['shortid'].service.address\n",
    "svc   = mntopts._apath.target.service.fsdict['shortid'].service.service\n",
    "res   = svc.lookup(addr)\n",
    "\n",
    "print(type(res))\n",
    "print(type(res.value))\n",
    "print(res)\n"
   ]
  },
  {
   "cell_type": "code",
   "execution_count": 21,
   "metadata": {},
   "outputs": [
    {
     "name": "stdout",
     "output_type": "stream",
     "text": [
      "/\n",
      "<DictFS.DictFS object at 0x7fca440974c0>\n",
      "{'user': <Dcel.Dcel object at 0x7fca4421a100>, 'shortid': <Dcel.Dcel object at 0x7fca44106ee0>, 'idcard': <Dcel.Dcel object at 0x7fca44106b20>}\n",
      "slice(13, 22, None)\n",
      "user,shortid=BLUE,idcard=localuser\n",
      "/1/mntopts\n",
      "<DictFS.DictFS object at 0x7fca44281fd0>\n",
      "{'1': {'spec': <Dcel.Dcel object at 0x7fca44555a30>, 'file': <Dcel.Dcel object at 0x7fca44555d00>, 'vfstype': <Dcel.Dcel object at 0x7fca445559d0>, 'mntopts': <Dcel.Dcel object at 0x7fca45d63520>, 'freq': <Dcel.Dcel object at 0x7fca45d639a0>}, '2': {'spec': <Dcel.Dcel object at 0x7fca44499d30>, 'file': <Dcel.Dcel object at 0x7fca44499df0>, 'vfstype': <Dcel.Dcel object at 0x7fca44499e20>, 'mntopts': <Dcel.Dcel object at 0x7fca444d03d0>, 'freq': <Dcel.Dcel object at 0x7fca444d0250>}, '3': {'spec': <Dcel.Dcel object at 0x7fca444d0100>, 'file': <Dcel.Dcel object at 0x7fca442415e0>, 'vfstype': <Dcel.Dcel object at 0x7fca440dfca0>, 'mntopts': <Dcel.Dcel object at 0x7fca441b3340>, 'freq': <Dcel.Dcel object at 0x7fca44246be0>}, '4': {'spec': <Dcel.Dcel object at 0x7fca4449c220>, 'file': <Dcel.Dcel object at 0x7fca440fb370>, 'vfstype': <Dcel.Dcel object at 0x7fca440fb550>, 'mntopts': <Dcel.Dcel object at 0x7fca440fb4f0>, 'freq': <Dcel.Dcel object at 0x7fca44148d00>}}\n",
      "user,shortid=HELLOELLO,idcard=localuser\n",
      "slice(41, 80, None)\n",
      "dav://fs2.localhost /home/raygan cburnfs user,shortid=HELLOELLO,idcard=localuser 0 \n",
      "<class 'Dcel.Dcel'>\n",
      "slice(666, 749, None)\n",
      "# # Cosm / Etc / FSTab\n",
      "\n",
      "# the .cosm/etc/fstab used by cburn is shared between hosts. The concept of 'localhost' is centric to a generic host model. A file url is relative to the generic host model, whereas a relative file path is relative to the working directory of cloudburner at runtime on each host.\n",
      "\n",
      "# experimental: include a hostname in the 'file://' url to limit the scope of a filepath to a specific host.\n",
      "\n",
      "# experimental: proxy the 'file' protocol and allow subdomain syntax to specify shares. The path component is relative to the share.\n",
      "\n",
      "# idea: make filepaths relative to the fstab's location, ie: for ./.cosm/etc/fstab the relative root is ../../../\n",
      "\n",
      "\n",
      "\n",
      "dav://fs2.localhost /home/raygan cburnfs user,shortid=BLUEELLO,idcard=localuser 0 0\n",
      "file://fs.localhost    {cburnuser}/example/  cburnfs user,shortid=fs,idcard=localuser 0 0\n",
      "file://fs3.localhost/  {cburnuser}/example/  cburnfs user,shortid=f3,idcard=localuser 0 0\n",
      "file://cburnwebui.localhost/  {cburnuser}/example/  cburnfs nouser,idcard=localuser 0 0\n",
      "\n",
      "# mntopt nouser keeps the mountpoint out of the user interface and should be used for the ui overlay only.\n",
      "\n",
      "<class 'Dcel.Dcel'>\n"
     ]
    }
   ],
   "source": [
    "print(mntopts._apath.target.address)\n",
    "print(mntopts._apath.target.service)\n",
    "print(mntopts._apath.target.service.fsdict)\n",
    "print(mntopts._apath.target.service.fsdict[\"shortid\"].address)\n",
    "print(mntopts._apath.target.service.fsdict[\"shortid\"].service)\n",
    "print(mntopts._apath.target.service.fsdict[\"shortid\"].service.address)\n",
    "print(mntopts._apath.target.service.fsdict[\"shortid\"].service.service)\n",
    "print(mntopts._apath.target.service.fsdict[\"shortid\"].service.service.fsdict)\n",
    "print(mntopts._apath.target.service.fsdict[\"shortid\"].service.service.fsdict['1']['mntopts'])\n",
    "print(mntopts._apath.target.service.fsdict[\"shortid\"].service.service.fsdict['1']['mntopts'].address)\n",
    "print(mntopts._apath.target.service.fsdict[\"shortid\"].service.service.fsdict['1']['mntopts'].service)\n",
    "print(type(mntopts._apath.target.service.fsdict[\"shortid\"].service.service.fsdict['1']['mntopts']))\n",
    "print(mntopts._apath.target.service.fsdict[\"shortid\"].service.service.fsdict['1']['mntopts'].service.address)\n",
    "print(mntopts._apath.target.service.fsdict[\"shortid\"].service.service.fsdict['1']['mntopts'].service.service)\n",
    "print(type(mntopts._apath.target.service.fsdict[\"shortid\"].service.service.fsdict['1']['mntopts'].service))\n"
   ]
  },
  {
   "cell_type": "code",
   "execution_count": 18,
   "metadata": {},
   "outputs": [],
   "source": [
    "# Debugging: This proves that something is not triggering a write via Fudge.\n",
    "# This long statement works to flush the contents of the base object to storage.\n",
    "mntopts._apath.target.service.fsdict[\"shortid\"].service.service.fsdict['1']['mntopts'].service.service.value = mntopts._apath.target.service.fsdict[\"shortid\"].service.service.fsdict['1']['mntopts'].service.service.value\n"
   ]
  },
  {
   "cell_type": "code",
   "execution_count": 1,
   "metadata": {},
   "outputs": [
    {
     "ename": "NameError",
     "evalue": "name 'mntopts' is not defined",
     "output_type": "error",
     "traceback": [
      "\u001b[0;31m---------------------------------------------------------------------------\u001b[0m",
      "\u001b[0;31mNameError\u001b[0m                                 Traceback (most recent call last)",
      "Input \u001b[0;32mIn [1]\u001b[0m, in \u001b[0;36m<cell line: 1>\u001b[0;34m()\u001b[0m\n\u001b[0;32m----> 1\u001b[0m \u001b[38;5;28mprint\u001b[39m(\u001b[43mmntopts\u001b[49m[\u001b[38;5;124m\"\u001b[39m\u001b[38;5;124mshortid\u001b[39m\u001b[38;5;124m\"\u001b[39m]\u001b[38;5;241m.\u001b[39m_apath\u001b[38;5;241m.\u001b[39mtarget\u001b[38;5;241m.\u001b[39mservice\u001b[38;5;241m.\u001b[39mfsdict[\u001b[38;5;124m'\u001b[39m\u001b[38;5;124mshortid\u001b[39m\u001b[38;5;124m'\u001b[39m])\n",
      "\u001b[0;31mNameError\u001b[0m: name 'mntopts' is not defined"
     ]
    }
   ],
   "source": [
    "print(mntopts[\"shortid\"]._apath.target.service.fsdict['shortid'])\n"
   ]
  },
  {
   "cell_type": "code",
   "execution_count": 56,
   "metadata": {},
   "outputs": [
    {
     "name": "stdout",
     "output_type": "stream",
     "text": [
      "raygan\n"
     ]
    }
   ],
   "source": [
    "mntopts = fu_root/'@/etc/fstabtest.fstab/1/mntopts.cskvp'\n",
    "mntopts['idcard'] = 'raygan'\n",
    "print(mntopts['idcard'])"
   ]
  },
  {
   "cell_type": "code",
   "execution_count": 52,
   "metadata": {},
   "outputs": [
    {
     "name": "stdout",
     "output_type": "stream",
     "text": [
      "f2\n"
     ]
    }
   ],
   "source": [
    "print(mntopts['shortid'])\n",
    "mntopts['shortid'] = \"C\""
   ]
  },
  {
   "cell_type": "code",
   "execution_count": 54,
   "metadata": {},
   "outputs": [
    {
     "name": "stdout",
     "output_type": "stream",
     "text": [
      "/home/raygan\n"
     ]
    }
   ],
   "source": [
    "# Test writing multiple values to file at different positions.\n",
    "entry = fu_root/'@/etc/fstabtest.fstab/1'\n",
    "entry['file'] = '/home/raygan'\n",
    "print(entry['file']._apath.target)\n",
    "entry = fu_root/'@/etc/fstabtest.fstab/1'\n",
    "entry['spec'] = 'dav://fs2.localhost'\n"
   ]
  },
  {
   "cell_type": "code",
   "execution_count": 33,
   "metadata": {},
   "outputs": [],
   "source": [
    "fstab = fu_root/'@/etc/fstabtest.fstab'"
   ]
  },
  {
   "cell_type": "code",
   "execution_count": 34,
   "metadata": {},
   "outputs": [
    {
     "name": "stdout",
     "output_type": "stream",
     "text": [
      "/home/raygan\n"
     ]
    }
   ],
   "source": [
    "filefield = fstab/'1/file'\n",
    "print(filefield)"
   ]
  },
  {
   "cell_type": "code",
   "execution_count": 7,
   "metadata": {},
   "outputs": [],
   "source": [
    "fstab['1/file'] = \"cornfish\""
   ]
  },
  {
   "cell_type": "code",
   "execution_count": 8,
   "metadata": {},
   "outputs": [
    {
     "name": "stdout",
     "output_type": "stream",
     "text": [
      "{\"1\": {\"spec\": \"file://fs2.localhost/\", \"file\": \"cornfish\", \"vfstype\": \"  cburn\", \"mntopts\": \"s user,shortid=f2,idcard=localus\", \"freq\": \"r\", \"passno\": \"0\"}, \"2\": {\"spec\": \"\\nfile://fs.localhos\", \"file\": \" {cburnuser}/example\", \"vfstype\": \" cburnf\", \"mntopts\": \" user,shortid=fs,idcard=localuse\", \"freq\": \" \", \"passno\": \" \"}, \"3\": {\"spec\": \"\\nfile://fs3.localhost\", \"file\": \" {cburnuser}/example\", \"vfstype\": \" cburnf\", \"mntopts\": \" user,shortid=f3,idcard=localuse\", \"freq\": \" \", \"passno\": \" \"}, \"4\": {\"spec\": \"\\nfile://cburnwebui.localhost\", \"file\": \" {cburnuser}/example\", \"vfstype\": \" cburnf\", \"mntopts\": \" nouser,idcard=localuse\", \"freq\": \" \", \"passno\": \" \"}}\n"
     ]
    }
   ],
   "source": [
    "from json import dumps\n",
    "from DcelJSONEncoder import DcelJSONEncoder\n",
    "print(dumps(fstab._apath.target,cls=DcelJSONEncoder))"
   ]
  },
  {
   "cell_type": "code",
   "execution_count": 9,
   "metadata": {},
   "outputs": [
    {
     "name": "stdout",
     "output_type": "stream",
     "text": [
      "# # Cosm / Etc / FSTab\n",
      "\n",
      "# the .cosm/etc/fstab used by cburn is shared between hosts. The concept of 'localhost' is centric to a generic host model. A file url is relative to the generic host model, whereas a relative file path is relative to the working directory of cloudburner at runtime on each host.\n",
      "\n",
      "# experimental: include a hostname in the 'file://' url to limit the scope of a filepath to a specific host.\n",
      "\n",
      "# experimental: proxy the 'file' protocol and allow subdomain syntax to specify shares. The path component is relative to the share.\n",
      "\n",
      "# idea: make filepaths relative to the fstab's location, ie: for ./.cosm/etc/fstab the relative root is ../../../\n",
      "\n",
      "\n",
      "\n",
      "file://fs2.localhost/  cornfish  cburnfs user,shortid=f2,idcard=localuser 0 0\n",
      "file://fs.localhost    {cburnuser}/example/  cburnfs user,shortid=fs,idcard=localuser 0 0\n",
      "file://fs3.localhost/  {cburnuser}/example/  cburnfs user,shortid=f3,idcard=localuser 0 0\n",
      "file://cburnwebui.localhost/  {cburnuser}/example/  cburnfs nouser,idcard=localuser 0 0\n",
      "\n",
      "# mntopt nouser keeps the mountpoint out of the user interface and should be used for the ui overlay only.\n",
      "\n"
     ]
    }
   ],
   "source": [
    "\n",
    "print(fu_root/'@/etc/fstabtest')"
   ]
  },
  {
   "cell_type": "code",
   "execution_count": 17,
   "metadata": {},
   "outputs": [
    {
     "name": "stdout",
     "output_type": "stream",
     "text": [
      "<Dcel.Dcel object at 0x7feba529a3d0> '/@/etc/fstab'\n",
      "<Dcel.Dcel object at 0x7feba529a3d0> '/@/etc/fstab'\n",
      "<Dcel.Dcel object at 0x7feba51af310>\n",
      "<Dcel.Dcel object at 0x7feba51c1fd0>\n",
      "{'spec': <Dcel.Dcel object at 0x7feba51af1f0>, 'file': <Dcel.Dcel object at 0x7feba51af4c0>, 'vfstype': <Dcel.Dcel object at 0x7feba51af160>, 'mntopts': <Dcel.Dcel object at 0x7feba51af490>}\n",
      "{'spec': <Dcel.Dcel object at 0x7feba51af910>, 'file': <Dcel.Dcel object at 0x7feba51afd00>, 'vfstype': <Dcel.Dcel object at 0x7feba51afb80>, 'mntopts': <Dcel.Dcel object at 0x7feba51af550>}\n"
     ]
    }
   ],
   "source": [
    "fstab = fu_root/'@/etc/fstab'\n",
    "print(f\"{repr(fstab._apath.target)} {repr(fstab._apath.target.address)}\")\n",
    "fstab_apath = APath(fstab)\n",
    "print(f\"{repr(fstab_apath.target)} {repr(fstab_apath.target.address)}\")\n",
    "\n",
    "entry_ref1 = fu_root/'@/etc/fstab/1'\n",
    "entry_ref2 = fstab/'1'\n",
    "\n",
    "print(f\"{repr(entry_ref1._apath.target)}\")\n",
    "print(f\"{repr(entry_ref2._apath.target)}\")\n",
    "\n",
    "print(entry_ref1)\n",
    "print(entry_ref2)\n"
   ]
  },
  {
   "cell_type": "code",
   "execution_count": 6,
   "metadata": {},
   "outputs": [
    {
     "ename": "TypeError",
     "evalue": "None",
     "output_type": "error",
     "traceback": [
      "\u001b[0;31m---------------------------------------------------------------------------\u001b[0m",
      "\u001b[0;31mTypeError\u001b[0m                                 Traceback (most recent call last)",
      "File \u001b[0;32m~/cburnweb/Dcel.py:369\u001b[0m, in \u001b[0;36mDcel.__getitem__\u001b[0;34m(self, key)\u001b[0m\n\u001b[1;32m    366\u001b[0m \u001b[38;5;28;01mtry\u001b[39;00m:\n\u001b[1;32m    367\u001b[0m     \u001b[38;5;66;03m# return child if already cached\u001b[39;00m\n\u001b[1;32m    368\u001b[0m     \u001b[38;5;66;03m# in Dcel's internal _dir\u001b[39;00m\n\u001b[0;32m--> 369\u001b[0m     \u001b[38;5;28;01mreturn\u001b[39;00m \u001b[38;5;28;43mself\u001b[39;49m\u001b[38;5;241;43m.\u001b[39;49m\u001b[43m_dir\u001b[49m\u001b[43m[\u001b[49m\u001b[43mkey\u001b[49m\u001b[43m]\u001b[49m\n\u001b[1;32m    370\u001b[0m \u001b[38;5;28;01mexcept\u001b[39;00m \u001b[38;5;167;01mKeyError\u001b[39;00m:\n\u001b[1;32m    371\u001b[0m     \u001b[38;5;66;03m# otherwise, add child to Dcel's _dir\u001b[39;00m\n\u001b[1;32m    372\u001b[0m     \u001b[38;5;66;03m# same code as further above.\u001b[39;00m\n",
      "\u001b[0;31mTypeError\u001b[0m: 'NoneType' object is not subscriptable",
      "\nDuring handling of the above exception, another exception occurred:\n",
      "\u001b[0;31mTypeError\u001b[0m                                 Traceback (most recent call last)",
      "Input \u001b[0;32mIn [6]\u001b[0m, in \u001b[0;36m<cell line: 1>\u001b[0;34m()\u001b[0m\n\u001b[0;32m----> 1\u001b[0m \u001b[38;5;28mprint\u001b[39m(\u001b[38;5;124mf\u001b[39m\u001b[38;5;124m\"\u001b[39m\u001b[38;5;132;01m{\u001b[39;00m\u001b[38;5;28mrepr\u001b[39m(fu_root[\u001b[38;5;124m'\u001b[39m\u001b[38;5;124m.@/etc/fstab\u001b[39m\u001b[38;5;124m'\u001b[39m]\u001b[38;5;241m.\u001b[39m_apath\u001b[38;5;241m.\u001b[39mtarget)\u001b[38;5;132;01m}\u001b[39;00m\u001b[38;5;124m\"\u001b[39m)\n\u001b[1;32m      2\u001b[0m \u001b[38;5;28mprint\u001b[39m(\u001b[38;5;124mf\u001b[39m\u001b[38;5;124m\"\u001b[39m\u001b[38;5;132;01m{\u001b[39;00m\u001b[38;5;28mrepr\u001b[39m(fu_root[\u001b[38;5;124m'\u001b[39m\u001b[38;5;124m.@/etc/fstab\u001b[39m\u001b[38;5;124m'\u001b[39m]\u001b[38;5;241m.\u001b[39m_apath\u001b[38;5;241m.\u001b[39mtarget\u001b[38;5;241m.\u001b[39maddress)\u001b[38;5;132;01m}\u001b[39;00m\u001b[38;5;124m\"\u001b[39m)\n\u001b[1;32m      3\u001b[0m \u001b[38;5;28;01mfor\u001b[39;00m fu \u001b[38;5;129;01min\u001b[39;00m fu_root[\u001b[38;5;124m'\u001b[39m\u001b[38;5;124m.@/etc\u001b[39m\u001b[38;5;124m'\u001b[39m]:\n",
      "Input \u001b[0;32mIn [1]\u001b[0m, in \u001b[0;36mFudge.__getitem__\u001b[0;34m(self, item)\u001b[0m\n\u001b[1;32m     91\u001b[0m     globapath\u001b[38;5;241m.\u001b[39m_isglob \u001b[38;5;241m=\u001b[39m \u001b[38;5;28;01mTrue\u001b[39;00m\n\u001b[1;32m     92\u001b[0m     \u001b[38;5;28;01mreturn\u001b[39;00m Fudge(globapath)\n\u001b[0;32m---> 94\u001b[0m \u001b[38;5;28;01mreturn\u001b[39;00m Fudge(\u001b[43mdirectory\u001b[49m\u001b[38;5;241;43m.\u001b[39;49m\u001b[43m_apath\u001b[49m\u001b[38;5;241;43m.\u001b[39;49m\u001b[43mgetchild\u001b[49m\u001b[43m(\u001b[49m\u001b[43mitem\u001b[49m\u001b[43m)\u001b[49m)\n",
      "File \u001b[0;32m~/cburnweb/APath.py:186\u001b[0m, in \u001b[0;36mAPath.getchild\u001b[0;34m(self, key)\u001b[0m\n\u001b[1;32m    185\u001b[0m \u001b[38;5;28;01mdef\u001b[39;00m \u001b[38;5;21mgetchild\u001b[39m(\u001b[38;5;28mself\u001b[39m, key):\n\u001b[0;32m--> 186\u001b[0m     \u001b[38;5;28;01mreturn\u001b[39;00m \u001b[38;5;28;43mself\u001b[39;49m\u001b[38;5;241;43m.\u001b[39;49m\u001b[43mlookup\u001b[49m\u001b[43m(\u001b[49m\u001b[43mkey\u001b[49m\u001b[43m)\u001b[49m\n",
      "File \u001b[0;32m~/cburnweb/APath.py:180\u001b[0m, in \u001b[0;36mAPath.lookup\u001b[0;34m(self, addr)\u001b[0m\n\u001b[1;32m    174\u001b[0m \u001b[38;5;28;01mdef\u001b[39;00m \u001b[38;5;21mlookup\u001b[39m(\u001b[38;5;28mself\u001b[39m, addr):\n\u001b[1;32m    175\u001b[0m     \u001b[38;5;124;03m\"\"\" \u001b[39;00m\n\u001b[1;32m    176\u001b[0m \u001b[38;5;124;03m    Return an entry of the current\u001b[39;00m\n\u001b[1;32m    177\u001b[0m \u001b[38;5;124;03m    target's directory\u001b[39;00m\n\u001b[1;32m    178\u001b[0m \u001b[38;5;124;03m    wrapped in an Apath.\u001b[39;00m\n\u001b[1;32m    179\u001b[0m \u001b[38;5;124;03m    \"\"\"\u001b[39;00m\n\u001b[0;32m--> 180\u001b[0m     d \u001b[38;5;241m=\u001b[39m \u001b[38;5;28;43mself\u001b[39;49m\u001b[38;5;241;43m.\u001b[39;49m\u001b[43mtarget\u001b[49m\u001b[43m[\u001b[49m\u001b[43maddr\u001b[49m\u001b[43m]\u001b[49m\n\u001b[1;32m    181\u001b[0m     a \u001b[38;5;241m=\u001b[39m APath(d,parent\u001b[38;5;241m=\u001b[39m\u001b[38;5;28mself\u001b[39m)\n\u001b[1;32m    182\u001b[0m     \u001b[38;5;28mself\u001b[39m\u001b[38;5;241m.\u001b[39mbranch[addr] \u001b[38;5;241m=\u001b[39m a\n",
      "File \u001b[0;32m~/cburnweb/Dcel.py:386\u001b[0m, in \u001b[0;36mDcel.__getitem__\u001b[0;34m(self, key)\u001b[0m\n\u001b[1;32m    384\u001b[0m         \u001b[38;5;28;01mraise\u001b[39;00m \u001b[38;5;167;01mKeyError\u001b[39;00m(key)\n\u001b[1;32m    385\u001b[0m \u001b[38;5;28;01mexcept\u001b[39;00m \u001b[38;5;167;01mTypeError\u001b[39;00m:\n\u001b[0;32m--> 386\u001b[0m     \u001b[38;5;28;01mraise\u001b[39;00m \u001b[38;5;167;01mTypeError\u001b[39;00m(\u001b[38;5;28mself\u001b[39m\u001b[38;5;241m.\u001b[39m_dir)\n",
      "\u001b[0;31mTypeError\u001b[0m: None"
     ]
    }
   ],
   "source": [
    "print(f\"{repr(fu_root['.@/etc/fstab']._apath.target)}\")\n",
    "print(f\"{repr(fu_root['.@/etc/fstab']._apath.target.address)}\")\n",
    "for fu in fu_root['.@/etc']:\n",
    "    print(f\"\"\"\n",
    "    {repr(fu)}\n",
    "    {repr(fu._apath)}\n",
    "    {repr(fu._apath.target)}\n",
    "    {repr(fu._apath.target.address)}\n",
    "          \"\"\")\n"
   ]
  },
  {
   "cell_type": "code",
   "execution_count": 75,
   "metadata": {},
   "outputs": [
    {
     "name": "stdout",
     "output_type": "stream",
     "text": [
      "<dir '1'> <Dcel.Dcel object at 0x7f29adfe5250>\n",
      "<dir '2'> <Dcel.Dcel object at 0x7f29adfbc310>\n",
      "<dir '3'> <Dcel.Dcel object at 0x7f29ae003070>\n",
      "<dir '4'> <Dcel.Dcel object at 0x7f29ae07d8e0>\n",
      "<Dcel.Dcel object at 0x7f29adf6fb50>\n"
     ]
    }
   ],
   "source": [
    "x=fu/'@/etc/fstab'\n",
    "\n",
    "for ea in x:\n",
    "    print(f\"{ea._apath.getinfo()} {repr((ea/'spec')._apath.target.value)}\")\n",
    "    \n",
    "print(repr((x/'2/spec')._apath.target.value.service))"
   ]
  },
  {
   "cell_type": "code",
   "execution_count": 76,
   "metadata": {},
   "outputs": [
    {
     "name": "stdout",
     "output_type": "stream",
     "text": [
      "blue\n",
      "{'spec': <Dcel.Dcel object at 0x7f29ae4d0790>, 'file': <Dcel.Dcel object at 0x7f29ae4d06a0>, 'vfstype': <Dcel.Dcel object at 0x7f29ae4d0b20>, 'mntopts': <Dcel.Dcel object at 0x7f29ae521cd0>, 'freq': <Dcel.Dcel object at 0x7f29ae521be0>, 'passno': <Dcel.Dcel object at 0x7f29ae521d90>}\n"
     ]
    },
    {
     "ename": "TypeError",
     "evalue": "None",
     "output_type": "error",
     "traceback": [
      "\u001b[0;31m---------------------------------------------------------------------------\u001b[0m",
      "\u001b[0;31mTypeError\u001b[0m                                 Traceback (most recent call last)",
      "File \u001b[0;32m~/cburnweb/Dcel.py:369\u001b[0m, in \u001b[0;36mDcel.__getitem__\u001b[0;34m(self, key)\u001b[0m\n\u001b[1;32m    366\u001b[0m \u001b[38;5;28;01mtry\u001b[39;00m:\n\u001b[1;32m    367\u001b[0m     \u001b[38;5;66;03m# return child if already cached\u001b[39;00m\n\u001b[1;32m    368\u001b[0m     \u001b[38;5;66;03m# in Dcel's internal _dir\u001b[39;00m\n\u001b[0;32m--> 369\u001b[0m     \u001b[38;5;28;01mreturn\u001b[39;00m \u001b[38;5;28;43mself\u001b[39;49m\u001b[38;5;241;43m.\u001b[39;49m\u001b[43m_dir\u001b[49m\u001b[43m[\u001b[49m\u001b[43mkey\u001b[49m\u001b[43m]\u001b[49m\n\u001b[1;32m    370\u001b[0m \u001b[38;5;28;01mexcept\u001b[39;00m \u001b[38;5;167;01mKeyError\u001b[39;00m:\n\u001b[1;32m    371\u001b[0m     \u001b[38;5;66;03m# otherwise, add child to Dcel's _dir\u001b[39;00m\n\u001b[1;32m    372\u001b[0m     \u001b[38;5;66;03m# same code as further above.\u001b[39;00m\n",
      "\u001b[0;31mTypeError\u001b[0m: 'NoneType' object is not subscriptable",
      "\nDuring handling of the above exception, another exception occurred:\n",
      "\u001b[0;31mTypeError\u001b[0m                                 Traceback (most recent call last)",
      "Input \u001b[0;32mIn [76]\u001b[0m, in \u001b[0;36m<cell line: 5>\u001b[0;34m()\u001b[0m\n\u001b[1;32m      3\u001b[0m \u001b[38;5;28mprint\u001b[39m(a\u001b[38;5;241m.\u001b[39mtarget\u001b[38;5;241m.\u001b[39mvalue)\n\u001b[1;32m      4\u001b[0m \u001b[38;5;28mprint\u001b[39m(x[\u001b[38;5;124m'\u001b[39m\u001b[38;5;124m1\u001b[39m\u001b[38;5;124m'\u001b[39m])\n\u001b[0;32m----> 5\u001b[0m \u001b[38;5;28mprint\u001b[39m(\u001b[38;5;28mrepr\u001b[39m(\u001b[43mx\u001b[49m\u001b[38;5;241;43m.\u001b[39;49m\u001b[43m_apath\u001b[49m\u001b[38;5;241;43m.\u001b[39;49m\u001b[43mtarget\u001b[49m\u001b[43m[\u001b[49m\u001b[38;5;124;43m'\u001b[39;49m\u001b[38;5;124;43m1\u001b[39;49m\u001b[38;5;124;43m'\u001b[39;49m\u001b[43m]\u001b[49m))\n",
      "File \u001b[0;32m~/cburnweb/Dcel.py:386\u001b[0m, in \u001b[0;36mDcel.__getitem__\u001b[0;34m(self, key)\u001b[0m\n\u001b[1;32m    384\u001b[0m         \u001b[38;5;28;01mraise\u001b[39;00m \u001b[38;5;167;01mKeyError\u001b[39;00m(key)\n\u001b[1;32m    385\u001b[0m \u001b[38;5;28;01mexcept\u001b[39;00m \u001b[38;5;167;01mTypeError\u001b[39;00m:\n\u001b[0;32m--> 386\u001b[0m     \u001b[38;5;28;01mraise\u001b[39;00m \u001b[38;5;167;01mTypeError\u001b[39;00m(\u001b[38;5;28mself\u001b[39m\u001b[38;5;241m.\u001b[39m_dir)\n",
      "\u001b[0;31mTypeError\u001b[0m: None"
     ]
    }
   ],
   "source": [
    "a = APath(x/'2/spec')\n",
    "a.target.value.value = \"blue\"\n",
    "print(a.target.value)\n",
    "print(x['1'])\n",
    "print(repr(x._apath.target['1']))\n"
   ]
  },
  {
   "cell_type": "code",
   "execution_count": 51,
   "metadata": {},
   "outputs": [],
   "source": [
    "from json import dumps\n",
    "from DcelJSONEncoder import DcelJSONEncoder"
   ]
  },
  {
   "cell_type": "code",
   "execution_count": 18,
   "metadata": {},
   "outputs": [
    {
     "name": "stdout",
     "output_type": "stream",
     "text": [
      "{'spec': <Dcel.Dcel object at 0x7f29cc44ee80>, 'file': <Dcel.Dcel object at 0x7f29cc44ecd0>, 'vfstype': <Dcel.Dcel object at 0x7f29cc44ebb0>, 'mntopts': <Dcel.Dcel object at 0x7f29cc44eeb0>}\n",
      "{\"spec\": \"file://fs.localhost\", \"file\": \"{cburnuser}/example/\", \"vfstype\": \"cburnfs\", \"mntopts\": \"user,shortid=fs,idcard\"}\n",
      "file://fs.localhost\n",
      "{\"spec\": \"file://fs.localhost\", \"file\": \"{cburnuser}/example/\", \"vfstype\": \"cburnfs\", \"mntopts\": \"user,shortid=fs,idcard\"}\n"
     ]
    }
   ],
   "source": [
    "print(x[\"2\"])\n",
    "print(dumps(x[\"2\"]._apath.target,cls=DcelJSONEncoder))\n",
    "x[\"2\"][\"spec\"]._apath.target.value.value = \"hello\"\n",
    "print(x[\"2\"][\"spec\"]._apath.target.value.value)\n",
    "print(dumps(x[\"2\"]._apath.target,cls=DcelJSONEncoder))\n"
   ]
  },
  {
   "cell_type": "code",
   "execution_count": 28,
   "metadata": {},
   "outputs": [
    {
     "name": "stdout",
     "output_type": "stream",
     "text": [
      "b'sftp://fs.cburn.io'\n",
      "file://fs.localhost\n",
      "\"file://fs.localhost\"\n"
     ]
    }
   ],
   "source": [
    "from json import dumps\n",
    "from DcelJSONEncoder import DcelJSONEncoder\n",
    "target = (x/'2/spec')._apath.target\n",
    "target.value = \"sftp://fs.cburn.io\"\n",
    "target.flush()\n",
    "print(target)\n",
    "print(x/'2/spec')\n",
    "print(dumps((x/'2/spec')._apath.target,cls=DcelJSONEncoder))"
   ]
  },
  {
   "cell_type": "code",
   "execution_count": null,
   "metadata": {},
   "outputs": [],
   "source": [
    "fu = Fudge('file://fs.localhost')"
   ]
  },
  {
   "cell_type": "code",
   "execution_count": 132,
   "metadata": {},
   "outputs": [],
   "source": [
    "fu['boats/skiff.txt'] = \"My skiff is *somewhat* faster than your skull.\""
   ]
  },
  {
   "cell_type": "code",
   "execution_count": 133,
   "metadata": {},
   "outputs": [
    {
     "name": "stdout",
     "output_type": "stream",
     "text": [
      "My skiff is *somewhat* faster than your skull.\n"
     ]
    }
   ],
   "source": [
    "print(fu['boats/skiff.txt'])"
   ]
  },
  {
   "cell_type": "code",
   "execution_count": 128,
   "metadata": {},
   "outputs": [
    {
     "ename": "KeyError",
     "evalue": "'@/etc/fstab'",
     "output_type": "error",
     "traceback": [
      "\u001b[0;31m---------------------------------------------------------------------------\u001b[0m",
      "\u001b[0;31mKeyError\u001b[0m                                  Traceback (most recent call last)",
      "File \u001b[0;32m~/cburnweb/Dcel.py:369\u001b[0m, in \u001b[0;36mDcel.__getitem__\u001b[0;34m(self, key)\u001b[0m\n\u001b[1;32m    366\u001b[0m \u001b[38;5;28;01mtry\u001b[39;00m:\n\u001b[1;32m    367\u001b[0m     \u001b[38;5;66;03m# return child if already cached\u001b[39;00m\n\u001b[1;32m    368\u001b[0m     \u001b[38;5;66;03m# in Dcel's internal _dir\u001b[39;00m\n\u001b[0;32m--> 369\u001b[0m     \u001b[38;5;28;01mreturn\u001b[39;00m \u001b[38;5;28;43mself\u001b[39;49m\u001b[38;5;241;43m.\u001b[39;49m\u001b[43m_dir\u001b[49m\u001b[43m[\u001b[49m\u001b[43mkey\u001b[49m\u001b[43m]\u001b[49m\n\u001b[1;32m    370\u001b[0m \u001b[38;5;28;01mexcept\u001b[39;00m \u001b[38;5;167;01mKeyError\u001b[39;00m:\n\u001b[1;32m    371\u001b[0m     \u001b[38;5;66;03m# otherwise, add child to Dcel's _dir\u001b[39;00m\n\u001b[1;32m    372\u001b[0m     \u001b[38;5;66;03m# same code as further above.\u001b[39;00m\n",
      "\u001b[0;31mKeyError\u001b[0m: '@/etc/fstab'",
      "\nDuring handling of the above exception, another exception occurred:\n",
      "\u001b[0;31mKeyError\u001b[0m                                  Traceback (most recent call last)",
      "Input \u001b[0;32mIn [128]\u001b[0m, in \u001b[0;36m<cell line: 1>\u001b[0;34m()\u001b[0m\n\u001b[0;32m----> 1\u001b[0m w \u001b[38;5;241m=\u001b[39m \u001b[43mfu\u001b[49m\u001b[43m[\u001b[49m\u001b[38;5;124;43m'\u001b[39;49m\u001b[38;5;124;43m@/etc/fstab\u001b[39;49m\u001b[38;5;124;43m'\u001b[39;49m\u001b[43m]\u001b[49m\u001b[38;5;241m.\u001b[39mfstab\n\u001b[1;32m      2\u001b[0m x \u001b[38;5;241m=\u001b[39m w[\u001b[38;5;124m'\u001b[39m\u001b[38;5;124m1/spec\u001b[39m\u001b[38;5;124m'\u001b[39m]\n\u001b[1;32m      3\u001b[0m \u001b[38;5;28mprint\u001b[39m((x\u001b[38;5;241m.\u001b[39m_apath\u001b[38;5;241m.\u001b[39mtarget\u001b[38;5;241m.\u001b[39mservice\u001b[38;5;241m.\u001b[39mfsdict))\n",
      "Input \u001b[0;32mIn [77]\u001b[0m, in \u001b[0;36mFudge.__getitem__\u001b[0;34m(self, item)\u001b[0m\n\u001b[1;32m     91\u001b[0m     globapath\u001b[38;5;241m.\u001b[39m_isglob \u001b[38;5;241m=\u001b[39m \u001b[38;5;28;01mTrue\u001b[39;00m\n\u001b[1;32m     92\u001b[0m     \u001b[38;5;28;01mreturn\u001b[39;00m Fudge(globapath)\n\u001b[0;32m---> 94\u001b[0m \u001b[38;5;28;01mreturn\u001b[39;00m Fudge(\u001b[43mdirectory\u001b[49m\u001b[38;5;241;43m.\u001b[39;49m\u001b[43m_apath\u001b[49m\u001b[38;5;241;43m.\u001b[39;49m\u001b[43mgetchild\u001b[49m\u001b[43m(\u001b[49m\u001b[43mitem\u001b[49m\u001b[43m)\u001b[49m)\n",
      "File \u001b[0;32m~/cburnweb/APath.py:186\u001b[0m, in \u001b[0;36mAPath.getchild\u001b[0;34m(self, key)\u001b[0m\n\u001b[1;32m    185\u001b[0m \u001b[38;5;28;01mdef\u001b[39;00m \u001b[38;5;21mgetchild\u001b[39m(\u001b[38;5;28mself\u001b[39m, key):\n\u001b[0;32m--> 186\u001b[0m     \u001b[38;5;28;01mreturn\u001b[39;00m \u001b[38;5;28;43mself\u001b[39;49m\u001b[38;5;241;43m.\u001b[39;49m\u001b[43mlookup\u001b[49m\u001b[43m(\u001b[49m\u001b[43mkey\u001b[49m\u001b[43m)\u001b[49m\n",
      "File \u001b[0;32m~/cburnweb/APath.py:180\u001b[0m, in \u001b[0;36mAPath.lookup\u001b[0;34m(self, addr)\u001b[0m\n\u001b[1;32m    174\u001b[0m \u001b[38;5;28;01mdef\u001b[39;00m \u001b[38;5;21mlookup\u001b[39m(\u001b[38;5;28mself\u001b[39m, addr):\n\u001b[1;32m    175\u001b[0m     \u001b[38;5;124;03m\"\"\" \u001b[39;00m\n\u001b[1;32m    176\u001b[0m \u001b[38;5;124;03m    Return an entry of the current\u001b[39;00m\n\u001b[1;32m    177\u001b[0m \u001b[38;5;124;03m    target's directory\u001b[39;00m\n\u001b[1;32m    178\u001b[0m \u001b[38;5;124;03m    wrapped in an Apath.\u001b[39;00m\n\u001b[1;32m    179\u001b[0m \u001b[38;5;124;03m    \"\"\"\u001b[39;00m\n\u001b[0;32m--> 180\u001b[0m     d \u001b[38;5;241m=\u001b[39m \u001b[38;5;28;43mself\u001b[39;49m\u001b[38;5;241;43m.\u001b[39;49m\u001b[43mtarget\u001b[49m\u001b[43m[\u001b[49m\u001b[43maddr\u001b[49m\u001b[43m]\u001b[49m\n\u001b[1;32m    181\u001b[0m     a \u001b[38;5;241m=\u001b[39m APath(d,parent\u001b[38;5;241m=\u001b[39m\u001b[38;5;28mself\u001b[39m)\n\u001b[1;32m    182\u001b[0m     \u001b[38;5;28mself\u001b[39m\u001b[38;5;241m.\u001b[39mbranch[addr] \u001b[38;5;241m=\u001b[39m a\n",
      "File \u001b[0;32m~/cburnweb/Dcel.py:384\u001b[0m, in \u001b[0;36mDcel.__getitem__\u001b[0;34m(self, key)\u001b[0m\n\u001b[1;32m    382\u001b[0m         \u001b[38;5;28;01mreturn\u001b[39;00m child\n\u001b[1;32m    383\u001b[0m     \u001b[38;5;28;01melse\u001b[39;00m:\n\u001b[0;32m--> 384\u001b[0m         \u001b[38;5;28;01mraise\u001b[39;00m \u001b[38;5;167;01mKeyError\u001b[39;00m(key)\n\u001b[1;32m    385\u001b[0m \u001b[38;5;28;01mexcept\u001b[39;00m \u001b[38;5;167;01mTypeError\u001b[39;00m:\n\u001b[1;32m    386\u001b[0m     \u001b[38;5;28;01mraise\u001b[39;00m \u001b[38;5;167;01mTypeError\u001b[39;00m(\u001b[38;5;28mself\u001b[39m\u001b[38;5;241m.\u001b[39m_dir)\n",
      "\u001b[0;31mKeyError\u001b[0m: '@/etc/fstab'"
     ]
    }
   ],
   "source": [
    "w = fu['@/etc/fstab'].fstab\n",
    "x = w['1/spec']\n",
    "print((x._apath.target.service.fsdict))\n",
    "print(x._apath.target.address)\n",
    "\n",
    "w['1/spec'] = 'file://fs200.localhost/'\n",
    "print('---')\n",
    "print(w)\n",
    "\n"
   ]
  },
  {
   "cell_type": "markdown",
   "metadata": {},
   "source": [
    "#### Experiment to map the data from a dict (in the case of fstab) to the file stream.\n",
    "\n",
    "Note: The data could just be formatted and written into the file. However, there may be comments or other non-parsed data in the original file which the parser ignored. Since that is much the case with the `etc/fstab` file, a byte-map needs to be kept to remap the new data to the file.\n",
    "\n",
    "The example uses start, stop values, followed by a nested map.\n",
    "\n",
    "    example_map = {'1':[0,200,nested_map_1],\n",
    "                   '2':[201,300,nested_map_2]\n",
    "                  }\n",
    "    nested_map_1 = {'spec':[0,21,None],\n",
    "                    'file':[22,20,None],\n",
    "                    ...\n",
    "                   }\n",
    "    nested_map_2 = { ... }\n",
    "etc.\n",
    "\n",
    "On each write to the buffered data, a change log is made:\n",
    "\n",
    "    change_log = {'1':{'spec':None, 'file':None}}\n",
    "    \n",
    "In the above example, `data['1']['spec']` and `data['1']['file']` changed.\n",
    "\n",
    "\n",
    "To write the data back to the actual file a dirty bytes ordered dictionary is made:\n",
    "\n",
    "lookup `example_map['1'][2] == 'spec'` and `example_map['1'][2] == 'file'`\n",
    "\n",
    "From those, build the `dirty_bytes` ordered dictionary\n",
    "\n",
    "    dirty_bytes = { 0: (old_len,new_len,new_data),\n",
    "                    50: (old_len2,new_len2,new_data2),\n",
    "                  }\n",
    "\n",
    "oldfileposition = 0;\n",
    "\n",
    "Copy the old file into new file until next `dirty_bytes` offset.\n",
    "Then copy the dirty bytes data into the new file.\n",
    "Advance the old file by `old_len`.\n",
    "Repeat.\n"
   ]
  },
  {
   "cell_type": "code",
   "execution_count": 40,
   "metadata": {},
   "outputs": [
    {
     "name": "stdout",
     "output_type": "stream",
     "text": [
      "{0: (21, 25, 'new data'), 50: (20, 30, 'new data 2')}\n"
     ]
    }
   ],
   "source": [
    "# dirty bytes { starting byte in old file: (old len, new len, new data) }\n",
    "dirty_bytes = { 0: (21, 25, \"new data\"),\n",
    "               50: (20, 30, \"new data 2\")\n",
    "              }\n",
    "print(dirty_bytes)"
   ]
  },
  {
   "cell_type": "code",
   "execution_count": 18,
   "metadata": {
    "scrolled": true
   },
   "outputs": [
    {
     "name": "stdout",
     "output_type": "stream",
     "text": [
      "<dir '1'>\n",
      "<dir '2'>\n",
      "<dir '3'>\n",
      "<dir '4'>\n",
      "is_dir: True\n",
      "is_glob: False\n",
      "<file 'spec'>\n",
      "<file 'file'>\n",
      "<file 'vfstype'>\n",
      "<file 'mntopts'>\n",
      "<file 'freq'>\n",
      "<file 'passno'>\n"
     ]
    }
   ],
   "source": [
    "# usecase: list and select a single\n",
    "# entry from the fstab file.\n",
    "#\n",
    "\n",
    "fu = Fudge('file://fs.localhost')\n",
    "\n",
    "x=fu/'.cosm/etc/fstab'\n",
    "\n",
    "# list fstab\n",
    "\n",
    "for ea in x:\n",
    "    print(ea._apath.getinfo())\n",
    "    \n",
    "# select target\n",
    "\n",
    "x=x/'1'\n",
    "\n",
    "print('is_dir: '+str(x._apath.isdir()))\n",
    "print('is_glob: '+str(hasattr(x._apath,\"_isglob\")))\n",
    "if(x._apath.isdir()):\n",
    "    for ea in x:\n",
    "        print(ea._apath.getinfo())\n",
    "else:\n",
    "    for ea in x:\n",
    "        print(ea)"
   ]
  },
  {
   "cell_type": "code",
   "execution_count": 4,
   "metadata": {},
   "outputs": [
    {
     "name": "stdout",
     "output_type": "stream",
     "text": [
      "{'basic': {'name': 'fs2.localhost', 'is_dir': False}}\n",
      "{'basic': {'name': 'fs.localhost', 'is_dir': False}}\n",
      "{'basic': {'name': 'fs3.localhost', 'is_dir': False}}\n",
      "{'basic': {'name': 'cburnwebui.localhost', 'is_dir': False}}\n",
      "fs2.localhost\n",
      "fs.localhost\n",
      "fs3.localhost\n",
      "cburnwebui.localhost\n"
     ]
    }
   ],
   "source": [
    "fu = Fudge('file://fs.localhost')\n",
    "\n",
    "x=fu/'.cosm/etc/fstab/*/spec.url/netloc'\n",
    "for e in x:\n",
    "    a = e._apath\n",
    "    i = a.getinfo().raw\n",
    "    if hasattr(x._apath,('_isglob')):\n",
    "        i['basic']['name'] = str(e)\n",
    "    print(i)\n",
    "\n",
    "x=fu['.cosm']['etc']['fstab']['*']['spec']\n",
    "for e in x:\n",
    "    print(e.url['netloc'])"
   ]
  },
  {
   "cell_type": "code",
   "execution_count": 5,
   "metadata": {
    "scrolled": false
   },
   "outputs": [
    {
     "name": "stdout",
     "output_type": "stream",
     "text": [
      "True\n",
      "file://fs2.localhost/\n",
      "file://fs.localhost\n",
      "file://fs3.localhost/\n",
      "file://cburnwebui.localhost/\n"
     ]
    }
   ],
   "source": [
    "fstab=fu/'.cosm/etc/fstab'\n",
    "print(fstab['*']['spec']._apath.isdir())\n",
    "\n",
    "for ea in fstab['*']['spec']:\n",
    "    print(ea)"
   ]
  },
  {
   "cell_type": "code",
   "execution_count": 6,
   "metadata": {},
   "outputs": [
    {
     "name": "stdout",
     "output_type": "stream",
     "text": [
      "[<__main__.Fudge object at 0x11e049f40>, <__main__.Fudge object at 0x11e0904f0>, <__main__.Fudge object at 0x11e090a60>, <__main__.Fudge object at 0x11e090a30>]\n",
      "fs2.localhost\n",
      "fs.localhost\n",
      "fs3.localhost\n",
      "cburnwebui.localhost\n"
     ]
    }
   ],
   "source": [
    "print(fstab/'*'/'spec.url')\n",
    "for ea in fstab/'*'/'spec.url':\n",
    "    print(ea/'netloc')\n",
    "    "
   ]
  },
  {
   "cell_type": "code",
   "execution_count": 7,
   "metadata": {},
   "outputs": [
    {
     "name": "stdout",
     "output_type": "stream",
     "text": [
      "('.cosm/etc', [])\n",
      "('fstab', ['json'])\n"
     ]
    }
   ],
   "source": [
    "print(splitexists(fu,'.cosm/etc','/'))\n",
    "print(splitexists(fu/'.cosm/etc','fstab.json','.'))"
   ]
  },
  {
   "cell_type": "code",
   "execution_count": 8,
   "metadata": {
    "scrolled": false
   },
   "outputs": [
    {
     "name": "stdout",
     "output_type": "stream",
     "text": [
      "fs2.localhost\n",
      "fs.localhost\n",
      "fs3.localhost\n",
      "cburnwebui.localhost\n"
     ]
    }
   ],
   "source": [
    "path = '.cosm/etc/fstab/*/spec.url/netloc'\n",
    "res = fu/path\n",
    "for ea in res:\n",
    "    print(ea)"
   ]
  },
  {
   "cell_type": "code",
   "execution_count": 12,
   "metadata": {},
   "outputs": [],
   "source": [
    "hosts = [str(e) for e in fu/'.cosm/etc/fstab/*/spec.url/netloc']\n",
    "sources = [str(e) for e in fu/'.cosm/etc/fstab/*/spec']\n",
    "vfstypes = {str(e) for e in fu/'.cosm/etc/fstab/*/vfstype'}"
   ]
  },
  {
   "cell_type": "code",
   "execution_count": 11,
   "metadata": {
    "scrolled": true
   },
   "outputs": [
    {
     "name": "stdout",
     "output_type": "stream",
     "text": [
      "[<__main__.Fudge object at 0x11c955670>, <__main__.Fudge object at 0x11c955b50>, <__main__.Fudge object at 0x11ed0c3a0>, <__main__.Fudge object at 0x11ed0c4c0>]\n",
      "[<__main__.Fudge object at 0x11ed0c880>, <__main__.Fudge object at 0x11ed0cb20>, <__main__.Fudge object at 0x11ed0cc40>, <__main__.Fudge object at 0x11ed0cd60>]\n",
      "{'cburnfs'}\n"
     ]
    }
   ],
   "source": [
    "print(hosts)\n",
    "print(sources)\n",
    "print(vfstypes)"
   ]
  },
  {
   "cell_type": "code",
   "execution_count": 19,
   "metadata": {
    "scrolled": true
   },
   "outputs": [
    {
     "name": "stdout",
     "output_type": "stream",
     "text": [
      "spec\n",
      "file\n",
      "vfstype\n",
      "mntopts\n",
      "freq\n",
      "passno\n"
     ]
    }
   ],
   "source": [
    "def dir_magic(self):\n",
    "        if self._apath.isdir():\n",
    "            return self\n",
    "        else:\n",
    "            try:\n",
    "                addr = self._apath.target.address\n",
    "                typename = basename(addr)\n",
    "                res = self.__getattr__(typename)\n",
    "                if res._apath.isdir():\n",
    "                    return res\n",
    "            except:\n",
    "                pass\n",
    "        raise NotADirectoryError\n",
    "            \n",
    "a = fu/'.cosm/etc/'\n",
    "\n",
    "b = dir_magic(a)\n",
    "for ea in b['fstab']['1']:\n",
    "    print(ea)"
   ]
  },
  {
   "cell_type": "code",
   "execution_count": 20,
   "metadata": {},
   "outputs": [
    {
     "name": "stdout",
     "output_type": "stream",
     "text": [
      "1\n",
      "---\n",
      "2\n",
      "3\n",
      "[2, 3]\n",
      "<list_iterator object at 0x11f770490>\n"
     ]
    }
   ],
   "source": [
    "a=[1,2,3]\n",
    "b=iter(a)\n",
    "for ea in b:\n",
    "    print(ea)\n",
    "    break\n",
    "print('---')\n",
    "c = [*b]\n",
    "for ea in c:\n",
    "    print(ea)\n",
    "print(c)\n",
    "print(b)\n",
    "for ea in b:\n",
    "    print(ea)"
   ]
  },
  {
   "cell_type": "code",
   "execution_count": 21,
   "metadata": {},
   "outputs": [
    {
     "name": "stdout",
     "output_type": "stream",
     "text": [
      ".cosm/etc\n",
      "['fstab.fstab', '1', 'spec']\n",
      "fstab\n",
      "['fstab']\n",
      "{'1': {'spec': 'file://fs2.localhost/', 'file': '/', 'vfstype': 'cburnfs', 'mntopts': 'user', 'freq': '0', 'passno': '0'}, '2': {'spec': 'file://fs.localhost', 'file': '/', 'vfstype': 'cburnfs', 'mntopts': 'user', 'freq': '0', 'passno': '0'}}\n"
     ]
    }
   ],
   "source": [
    "path = '.cosm/etc/fstab.fstab/1/spec'\n",
    "a = fu['.cosm/etc']\n",
    "b,segs = splitexists(fu,path,'/')\n",
    "print(b)\n",
    "print(segs)\n",
    "c,segs = splitexists(fu[b],segs[0],'.')\n",
    "print(c)\n",
    "print(segs)\n",
    "d = fu[b][c].__getattr__(segs[0])\n",
    "print(d)\n"
   ]
  },
  {
   "cell_type": "code",
   "execution_count": 24,
   "metadata": {},
   "outputs": [],
   "source": [
    "f = fu['/']['.cosm']['etc']['fstab']\n",
    "g = f.fstab\n",
    "h = g._apath.target.value['1']\n",
    "h = g['1']['spec']"
   ]
  },
  {
   "cell_type": "code",
   "execution_count": 29,
   "metadata": {
    "scrolled": true
   },
   "outputs": [
    {
     "name": "stdout",
     "output_type": "stream",
     "text": [
      "file://fs2.localhost/\n"
     ]
    }
   ],
   "source": [
    "type(g._apath.target.value)\n",
    "print(h)\n"
   ]
  },
  {
   "cell_type": "code",
   "execution_count": 3,
   "metadata": {
    "scrolled": false
   },
   "outputs": [
    {
     "ename": "NameError",
     "evalue": "name 'fu' is not defined",
     "output_type": "error",
     "traceback": [
      "\u001b[0;31m---------------------------------------------------------------------------\u001b[0m",
      "\u001b[0;31mNameError\u001b[0m                                 Traceback (most recent call last)",
      "\u001b[0;32m<ipython-input-3-6bb9cfb95e34>\u001b[0m in \u001b[0;36m<module>\u001b[0;34m\u001b[0m\n\u001b[1;32m      1\u001b[0m \u001b[0mpath\u001b[0m \u001b[0;34m=\u001b[0m \u001b[0;34m'.cosm/etc/fstab'\u001b[0m\u001b[0;34m\u001b[0m\u001b[0;34m\u001b[0m\u001b[0m\n\u001b[1;32m      2\u001b[0m \u001b[0;34m\u001b[0m\u001b[0m\n\u001b[0;32m----> 3\u001b[0;31m \u001b[0ma\u001b[0m \u001b[0;34m=\u001b[0m \u001b[0mfu\u001b[0m\u001b[0;34m[\u001b[0m\u001b[0mpath\u001b[0m\u001b[0;34m]\u001b[0m\u001b[0;34m.\u001b[0m\u001b[0mfstab\u001b[0m\u001b[0;34m[\u001b[0m\u001b[0;34m'1'\u001b[0m\u001b[0;34m]\u001b[0m\u001b[0;34m[\u001b[0m\u001b[0;34m'spec'\u001b[0m\u001b[0;34m]\u001b[0m\u001b[0;34m.\u001b[0m\u001b[0murl\u001b[0m\u001b[0;34m[\u001b[0m\u001b[0;34m'netloc'\u001b[0m\u001b[0;34m]\u001b[0m\u001b[0;34m\u001b[0m\u001b[0;34m\u001b[0m\u001b[0m\n\u001b[0m\u001b[1;32m      4\u001b[0m \u001b[0mprint\u001b[0m\u001b[0;34m(\u001b[0m\u001b[0mtype\u001b[0m\u001b[0;34m(\u001b[0m\u001b[0ma\u001b[0m\u001b[0;34m)\u001b[0m\u001b[0;34m)\u001b[0m\u001b[0;34m\u001b[0m\u001b[0;34m\u001b[0m\u001b[0m\n\u001b[1;32m      5\u001b[0m \u001b[0mprint\u001b[0m\u001b[0;34m(\u001b[0m\u001b[0ma\u001b[0m\u001b[0;34m)\u001b[0m\u001b[0;34m\u001b[0m\u001b[0;34m\u001b[0m\u001b[0m\n",
      "\u001b[0;31mNameError\u001b[0m: name 'fu' is not defined"
     ]
    }
   ],
   "source": [
    "path = '.cosm/etc/fstab'\n",
    "\n",
    "a = fu[path].fstab['1']['spec'].url['netloc']\n",
    "print(type(a))\n",
    "print(a)\n",
    "\n",
    "#b = fu/'.cosm/etc/fstab/1/spec.url/netloc'\n",
    "#print(b)"
   ]
  },
  {
   "cell_type": "code",
   "execution_count": 8,
   "metadata": {},
   "outputs": [
    {
     "name": "stdout",
     "output_type": "stream",
     "text": [
      "['1', '2', '3']\n",
      "1\n",
      "2\n",
      "3\n"
     ]
    }
   ],
   "source": [
    "ar = ['1','2','3']\n",
    "fg = Fudge(ar)\n",
    "print(fg)\n",
    "for ea in fg:\n",
    "    print(ea)"
   ]
  },
  {
   "cell_type": "code",
   "execution_count": 9,
   "metadata": {},
   "outputs": [
    {
     "name": "stdout",
     "output_type": "stream",
     "text": [
      "a\n"
     ]
    }
   ],
   "source": [
    "name = 'a.b.c'\n",
    "exts = name.split('.',1)\n",
    "while exts != [name]:\n",
    "    ext = exts[1]\n",
    "    name = exts[0]\n",
    "    exts = name.split('.',-1)\n",
    "name = exts[0]\n",
    "print(name)"
   ]
  },
  {
   "cell_type": "code",
   "execution_count": 10,
   "metadata": {
    "scrolled": true
   },
   "outputs": [
    {
     "name": "stdout",
     "output_type": "stream",
     "text": [
      "/.cosm/etc/fstab\n",
      "last seg...\n",
      "1\n",
      "/.cosm/etc/fstab\n",
      "enter fudgedot\n",
      "seg: 1\n",
      "tryseg: 1\n"
     ]
    },
    {
     "ename": "AttributeError",
     "evalue": "'NoneType' object has no attribute '_apath'",
     "output_type": "error",
     "traceback": [
      "\u001b[0;31m---------------------------------------------------------------------------\u001b[0m",
      "\u001b[0;31mAttributeError\u001b[0m                            Traceback (most recent call last)",
      "\u001b[0;32m<ipython-input-10-9a2e2d85a54f>\u001b[0m in \u001b[0;36m<module>\u001b[0;34m\u001b[0m\n\u001b[1;32m      1\u001b[0m \u001b[0mb\u001b[0m \u001b[0;34m=\u001b[0m \u001b[0mfu\u001b[0m\u001b[0;34m[\u001b[0m\u001b[0;34m'.cosm/etc/fstab'\u001b[0m\u001b[0;34m]\u001b[0m\u001b[0;34m\u001b[0m\u001b[0;34m\u001b[0m\u001b[0m\n\u001b[1;32m      2\u001b[0m \u001b[0;32mfor\u001b[0m \u001b[0mea\u001b[0m \u001b[0;32min\u001b[0m \u001b[0mb\u001b[0m\u001b[0;34m:\u001b[0m\u001b[0;34m\u001b[0m\u001b[0;34m\u001b[0m\u001b[0m\n\u001b[0;32m----> 3\u001b[0;31m     \u001b[0;32mif\u001b[0m \u001b[0mb\u001b[0m\u001b[0;34m/\u001b[0m\u001b[0mea\u001b[0m\u001b[0;34m/\u001b[0m\u001b[0;34m'vfstype'\u001b[0m \u001b[0;34m==\u001b[0m \u001b[0;34m'cburnfs'\u001b[0m\u001b[0;34m:\u001b[0m\u001b[0;34m\u001b[0m\u001b[0;34m\u001b[0m\u001b[0m\n\u001b[0m\u001b[1;32m      4\u001b[0m         \u001b[0mprint\u001b[0m\u001b[0;34m(\u001b[0m\u001b[0mstr\u001b[0m\u001b[0;34m(\u001b[0m\u001b[0mb\u001b[0m\u001b[0;34m/\u001b[0m\u001b[0mea\u001b[0m\u001b[0;34m/\u001b[0m\u001b[0;34m'spec'\u001b[0m\u001b[0;34m)\u001b[0m\u001b[0;34m)\u001b[0m\u001b[0;34m\u001b[0m\u001b[0;34m\u001b[0m\u001b[0m\n\u001b[1;32m      5\u001b[0m \u001b[0;34m\u001b[0m\u001b[0m\n",
      "\u001b[0;32m<ipython-input-1-9bdca4da817f>\u001b[0m in \u001b[0;36mfudgewalk\u001b[0;34m(fudgeob, path)\u001b[0m\n\u001b[1;32m    164\u001b[0m         \u001b[0;32mreturn\u001b[0m \u001b[0mfudgestar\u001b[0m\u001b[0;34m(\u001b[0m\u001b[0mnextfudge\u001b[0m\u001b[0;34m,\u001b[0m\u001b[0mpath\u001b[0m\u001b[0;34m)\u001b[0m\u001b[0;34m\u001b[0m\u001b[0;34m\u001b[0m\u001b[0m\n\u001b[1;32m    165\u001b[0m     \u001b[0mnextfudge\u001b[0m \u001b[0;34m=\u001b[0m \u001b[0mfudgedot\u001b[0m\u001b[0;34m(\u001b[0m\u001b[0mnextfudge\u001b[0m\u001b[0;34m,\u001b[0m\u001b[0mseg\u001b[0m\u001b[0;34m)\u001b[0m\u001b[0;34m\u001b[0m\u001b[0;34m\u001b[0m\u001b[0m\n\u001b[0;32m--> 166\u001b[0;31m     \u001b[0mprint\u001b[0m\u001b[0;34m(\u001b[0m\u001b[0mnextfudge\u001b[0m\u001b[0;34m.\u001b[0m\u001b[0m_apath\u001b[0m\u001b[0;34m.\u001b[0m\u001b[0mtarget\u001b[0m\u001b[0;34m.\u001b[0m\u001b[0maddress\u001b[0m\u001b[0;34m)\u001b[0m\u001b[0;34m\u001b[0m\u001b[0;34m\u001b[0m\u001b[0m\n\u001b[0m\u001b[1;32m    167\u001b[0m     \u001b[0;31m###\u001b[0m\u001b[0;34m\u001b[0m\u001b[0;34m\u001b[0m\u001b[0;34m\u001b[0m\u001b[0m\n\u001b[1;32m    168\u001b[0m     \u001b[0;32mreturn\u001b[0m \u001b[0mnextfudge\u001b[0m\u001b[0;34m\u001b[0m\u001b[0;34m\u001b[0m\u001b[0m\n",
      "\u001b[0;31mAttributeError\u001b[0m: 'NoneType' object has no attribute '_apath'"
     ]
    }
   ],
   "source": [
    "b = fu['.cosm/etc/fstab']\n",
    "for ea in b:\n",
    "    if b/ea/'vfstype' == 'cburnfs':\n",
    "        print(str(b/ea/'spec'))\n",
    "    "
   ]
  },
  {
   "cell_type": "code",
   "execution_count": 29,
   "metadata": {},
   "outputs": [
    {
     "name": "stdout",
     "output_type": "stream",
     "text": [
      "x\n"
     ]
    }
   ],
   "source": [
    "name = \"\"\n",
    "try:\n",
    "    x\n",
    "except NameError as exception:\n",
    "    name = (str(exception). \n",
    "          removeprefix(\"name '\"). \n",
    "          removesuffix(\"' is not defined\"))\n",
    "print(name)"
   ]
  },
  {
   "cell_type": "code",
   "execution_count": 3,
   "metadata": {
    "scrolled": false
   },
   "outputs": [
    {
     "name": "stdout",
     "output_type": "stream",
     "text": [
      "{'spec': 'file://fs2.localhost/', 'file': '/', 'vfstype': 'cburnfs', 'mntopts': 'user', 'freq': '0', 'passno': '0'}\n"
     ]
    }
   ],
   "source": [
    "print(fu['.cosm']['etc']['fstab']/'1')"
   ]
  },
  {
   "cell_type": "code",
   "execution_count": 12,
   "metadata": {},
   "outputs": [
    {
     "ename": "SyntaxError",
     "evalue": "invalid syntax (<ipython-input-12-ce50f3fcbe94>, line 1)",
     "output_type": "error",
     "traceback": [
      "\u001b[0;36m  File \u001b[0;32m\"<ipython-input-12-ce50f3fcbe94>\"\u001b[0;36m, line \u001b[0;32m1\u001b[0m\n\u001b[0;31m    fu/;\u001b[0m\n\u001b[0m       ^\u001b[0m\n\u001b[0;31mSyntaxError\u001b[0m\u001b[0;31m:\u001b[0m invalid syntax\n"
     ]
    }
   ],
   "source": [
    "fu/*\n"
   ]
  },
  {
   "cell_type": "code",
   "execution_count": 18,
   "metadata": {},
   "outputs": [
    {
     "data": {
      "text/plain": [
       "False"
      ]
     },
     "execution_count": 18,
     "metadata": {},
     "output_type": "execute_result"
    }
   ],
   "source": [
    "addr = fu['.cosm/etc']['fstab']._apath.target.address\n",
    "fu._apath.isdir(addr)"
   ]
  },
  {
   "cell_type": "code",
   "execution_count": 4,
   "metadata": {},
   "outputs": [
    {
     "ename": "SyntaxError",
     "evalue": "invalid syntax (<ipython-input-4-a193f3076e34>, line 29)",
     "output_type": "error",
     "traceback": [
      "\u001b[0;36m  File \u001b[0;32m\"<ipython-input-4-a193f3076e34>\"\u001b[0;36m, line \u001b[0;32m29\u001b[0m\n\u001b[0;31m    fu['child'].typeshift('args'){['@attr']}\u001b[0m\n\u001b[0m                                 ^\u001b[0m\n\u001b[0;31mSyntaxError\u001b[0m\u001b[0;31m:\u001b[0m invalid syntax\n"
     ]
    }
   ],
   "source": [
    "fu = Fudge(APath('fs','file'))\n",
    "\n",
    "\n",
    "print(fu/'a'/'b'/'c'@'hello') # ugly\n",
    "print((fu/'a'/'b'/'c').hello) # clumsy\n",
    "print(fu.a.b.c/'hello') # misleading\n",
    "print(fu.a.b.c@'hello') # misleading\n",
    "print(fu['a/b/c.hello']) # confusing\n",
    "print(fu('a/b/c.hello')) # func-like\n",
    "print(fu/'a/b/c'*'hello') # weird\n",
    "print(fu/'a/b/c'/'this'@'hello') # weird\n",
    "print(fu/'a/b/c.hello') # streamlined\n",
    "\n",
    "# this form makes the most sense\n",
    "# ie, three branches, attribute\n",
    "print(fu/'a/b/c.hello')\n",
    "\n",
    "# equivalent alternative\n",
    "print(fu['a']['b']['c'].hello) # ugly\n",
    "\n",
    "# three surfaces\n",
    "print( fu['a']('twelve').six )\n",
    "\n",
    "# a table\n",
    "fu['a/b/c.transf']._table('spec','vfstype')\n",
    "\n",
    "# bracket syntax\n",
    "\n",
    "fu['child'].typeshift('args'){['@attr']}"
   ]
  },
  {
   "cell_type": "code",
   "execution_count": 6,
   "metadata": {},
   "outputs": [
    {
     "ename": "NameError",
     "evalue": "name 'fu' is not defined",
     "output_type": "error",
     "traceback": [
      "\u001b[0;31m---------------------------------------------------------------------------\u001b[0m",
      "\u001b[0;31mNameError\u001b[0m                                 Traceback (most recent call last)",
      "\u001b[0;32m<ipython-input-6-58182459781a>\u001b[0m in \u001b[0;36m<module>\u001b[0;34m\u001b[0m\n\u001b[0;32m----> 1\u001b[0;31m \u001b[0mfu\u001b[0m\u001b[0;34m@\u001b[0m\u001b[0;34m'hello'\u001b[0m\u001b[0;34m\u001b[0m\u001b[0;34m\u001b[0m\u001b[0m\n\u001b[0m",
      "\u001b[0;31mNameError\u001b[0m: name 'fu' is not defined"
     ]
    }
   ],
   "source": [
    "fu@'hello'\n"
   ]
  },
  {
   "cell_type": "code",
   "execution_count": 6,
   "metadata": {},
   "outputs": [
    {
     "name": "stdout",
     "output_type": "stream",
     "text": [
      "<__main__.A object at 0x12da754f0>\n"
     ]
    },
    {
     "data": {
      "text/plain": [
       "2"
      ]
     },
     "execution_count": 6,
     "metadata": {},
     "output_type": "execute_result"
    }
   ],
   "source": [
    "class A():\n",
    "    def __call__(self):\n",
    "        return 2\n",
    "    \n",
    "a = A()\n",
    "\n",
    "print(a)\n",
    "a()"
   ]
  },
  {
   "cell_type": "code",
   "execution_count": 7,
   "metadata": {},
   "outputs": [
    {
     "name": "stdout",
     "output_type": "stream",
     "text": [
      "fudge\n"
     ]
    }
   ],
   "source": [
    "fu('fstab').entry[1].vfstype\n",
    "\n",
    "fu.fstab('some','args').entry[1].vfstype\n",
    "fu.fstab['fs1.raygan.com'].vfstype\n",
    "x = fu.fstab(encoding='utf-8')['fs1.raygan.com'].vfstype\n",
    "print(x)"
   ]
  },
  {
   "cell_type": "code",
   "execution_count": 6,
   "metadata": {},
   "outputs": [
    {
     "name": "stdout",
     "output_type": "stream",
     "text": [
      "hi\n",
      "rock on\n"
     ]
    }
   ],
   "source": [
    "type(fu)\n",
    "dir(fu)\n",
    "fu.__class__\n",
    "print((fu/'a'/'b'/'c').hello)\n",
    "\n",
    "class Fidge():\n",
    "    def __truediv__(self, other):\n",
    "        return Fidge()\n",
    "    \n",
    "    def __getitem__(self, item):\n",
    "        return Fidge()\n",
    "    \n",
    "    def __matmul__(self, item):\n",
    "        return Fidge()\n",
    "    \n",
    "    hello = 'rock on' \n",
    "    \n",
    "import __main__\n",
    "\n",
    "fu.__class__ = __main__.Fidge\n",
    "print(fu['a/b/c'].hello)"
   ]
  },
  {
   "cell_type": "code",
   "execution_count": 7,
   "metadata": {},
   "outputs": [
    {
     "name": "stdout",
     "output_type": "stream",
     "text": [
      "hi\n"
     ]
    }
   ],
   "source": [
    "\n",
    "\n",
    "def __getattr__(name):\n",
    "    if name == 'hello':\n",
    "        return 'hi'\n",
    "    return name\n",
    "\n",
    "\n",
    "#dir(__main__.__builtin__)\n",
    "#type(__main__)\n",
    "\n",
    "#hello = 'hey'\n",
    "\n",
    "import runtimeLocalsTest"
   ]
  },
  {
   "cell_type": "code",
   "execution_count": 8,
   "metadata": {},
   "outputs": [
    {
     "name": "stdout",
     "output_type": "stream",
     "text": [
      "bruce\n",
      "dan\n",
      "kelly\n"
     ]
    }
   ],
   "source": [
    "from __main__ import bruce, dan, kelly\n",
    "\n",
    "print(bruce)\n",
    "print(dan)\n",
    "print(kelly)\n",
    "# print(bob)"
   ]
  },
  {
   "cell_type": "code",
   "execution_count": 10,
   "metadata": {},
   "outputs": [
    {
     "ename": "NameError",
     "evalue": "name 'varname' is not defined",
     "output_type": "error",
     "traceback": [
      "\u001b[0;31m---------------------------------------------------------------------------\u001b[0m",
      "\u001b[0;31mNameError\u001b[0m                                 Traceback (most recent call last)",
      "\u001b[0;32m<ipython-input-10-13bfee2a4140>\u001b[0m in \u001b[0;36m<module>\u001b[0;34m\u001b[0m\n\u001b[1;32m     10\u001b[0m \u001b[0;34m\u001b[0m\u001b[0m\n\u001b[1;32m     11\u001b[0m \u001b[0mfake\u001b[0m\u001b[0;34m(\u001b[0m\u001b[0;34m'me'\u001b[0m\u001b[0;34m)\u001b[0m\u001b[0;34m(\u001b[0m\u001b[0;34m)\u001b[0m\u001b[0;34m\u001b[0m\u001b[0;34m\u001b[0m\u001b[0m\n\u001b[0;32m---> 12\u001b[0;31m \u001b[0mvarname\u001b[0m\u001b[0;34m\u001b[0m\u001b[0;34m\u001b[0m\u001b[0m\n\u001b[0m",
      "\u001b[0;31mNameError\u001b[0m: name 'varname' is not defined"
     ]
    }
   ],
   "source": [
    "# you can only decorate functions and methods\n",
    "\n",
    "def fake(varname):\n",
    "    def wrapper():\n",
    "        from __main__ import varname\n",
    "    return wrapper\n",
    "\n",
    "#@fake\n",
    "#bruce\n",
    "yy\n",
    "fake('me')()\n",
    "varname\n"
   ]
  },
  {
   "cell_type": "code",
   "execution_count": null,
   "metadata": {},
   "outputs": [],
   "source": []
  },
  {
   "cell_type": "code",
   "execution_count": 2,
   "metadata": {},
   "outputs": [
    {
     "ename": "SyntaxError",
     "evalue": "invalid syntax (<ipython-input-2-a7df1eec3a13>, line 5)",
     "output_type": "error",
     "traceback": [
      "\u001b[0;36m  File \u001b[0;32m\"<ipython-input-2-a7df1eec3a13>\"\u001b[0;36m, line \u001b[0;32m5\u001b[0m\n\u001b[0;31m    def __iter\u001b[0m\n\u001b[0m              ^\u001b[0m\n\u001b[0;31mSyntaxError\u001b[0m\u001b[0;31m:\u001b[0m invalid syntax\n"
     ]
    }
   ],
   "source": [
    "class FudgeIter():\n",
    "    def __init__(self, fudge):\n",
    "        self.fudge = fudge\n",
    "        self._iter = iter(fudge._apath.listdir())\n",
    "    def __iter"
   ]
  }
 ],
 "metadata": {
  "kernelspec": {
   "display_name": "Python 3.9",
   "language": "python",
   "name": "python3"
  },
  "language_info": {
   "codemirror_mode": {
    "name": "ipython",
    "version": 3
   },
   "file_extension": ".py",
   "mimetype": "text/x-python",
   "name": "python",
   "nbconvert_exporter": "python",
   "pygments_lexer": "ipython3",
   "version": "3.9.5"
  }
 },
 "nbformat": 4,
 "nbformat_minor": 2
}
