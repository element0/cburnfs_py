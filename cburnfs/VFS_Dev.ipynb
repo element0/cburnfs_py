{
 "cells": [
  {
   "cell_type": "markdown",
   "metadata": {},
   "source": [
    "Virtual File Systems a la linux /proc and /sys\n",
    "to control cburnfs\n",
    "\n",
    "    /@ - cosmos root\n",
    "    /@/hosts - host configuration vfs\n",
    "    \n"
   ]
  },
  {
   "cell_type": "code",
   "execution_count": 1,
   "metadata": {},
   "outputs": [],
   "source": [
    "from fs.osfs import OSFS\n",
    "from fs.info import Info\n",
    "from os import statvfs"
   ]
  },
  {
   "cell_type": "code",
   "execution_count": 22,
   "metadata": {},
   "outputs": [],
   "source": [
    "\n",
    "class OSFS_vfs(OSFS):\n",
    "    def __init__(self, addr, **kwdargs):\n",
    "        super().__init__(addr, **kwdargs)\n",
    "        self.__addr = addr\n",
    "        \n",
    "    def getinfo(self, path='/',namespaces=None):\n",
    "        info_raw = super().getinfo(path, namespaces).raw\n",
    "        if namespaces != None and 'limits' in namespaces:\n",
    "            st = statvfs(self.__addr)\n",
    "            if st != None:\n",
    "                bsize = st.f_bsize\n",
    "                total = bsize * st.f_blocks\n",
    "                used = total - (bsize * st.f_bfree)\n",
    "                free = bsize * st.f_bavail\n",
    "                info_raw['limits'] = {\n",
    "                    'total': total,\n",
    "                    'used': used,\n",
    "                    'free': free\n",
    "                }\n",
    "        return Info(info_raw)\n",
    "        "
   ]
  },
  {
   "cell_type": "code",
   "execution_count": 23,
   "metadata": {},
   "outputs": [],
   "source": [
    "a = OSFS_vfs('demo-files/fs2')"
   ]
  },
  {
   "cell_type": "code",
   "execution_count": 25,
   "metadata": {},
   "outputs": [],
   "source": [
    "info = a.getinfo('/', namespaces=['limits']).raw"
   ]
  },
  {
   "cell_type": "code",
   "execution_count": 28,
   "metadata": {},
   "outputs": [
    {
     "name": "stdout",
     "output_type": "stream",
     "text": [
      "113.56422805786133\n"
     ]
    }
   ],
   "source": [
    "print(info['limits']['total'] / 1024 / 1024 / 1024)"
   ]
  },
  {
   "cell_type": "code",
   "execution_count": 12,
   "metadata": {},
   "outputs": [],
   "source": [
    "HostVFSTree = {\n",
    "    'redhost': 'https://redhost.example.com',\n",
    "    'reduser': 'UserVFSTree OVERRIDDEN!'\n",
    "}\n",
    "\n",
    "class HostVFS:\n",
    "    def show_thyself(self):\n",
    "        return self.myfsname   # reference to base class MyFS \n",
    "    \n",
    "    def readtext(self,path):\n",
    "        if path in HostVFSTree:\n",
    "            return HostVFSTree[path]\n",
    "        return super().readtext(path)\n",
    "    \n",
    "    def get_hostvfstree(self):\n",
    "        return HostVFSTree\n",
    "    "
   ]
  },
  {
   "cell_type": "code",
   "execution_count": 13,
   "metadata": {},
   "outputs": [],
   "source": [
    "UserVFSTree = {\n",
    "    'reduser': 'Raygan Henley'\n",
    "}\n",
    "class UserVFS:\n",
    "    def readtext(self,path):\n",
    "        if path in UserVFSTree:\n",
    "            return UserVFSTree[path]\n",
    "        return super().readtext(path)"
   ]
  },
  {
   "cell_type": "code",
   "execution_count": 14,
   "metadata": {},
   "outputs": [],
   "source": [
    "class BaseFS:\n",
    "    def readtext(self,path):\n",
    "        return path[1:2]"
   ]
  },
  {
   "cell_type": "code",
   "execution_count": 15,
   "metadata": {},
   "outputs": [],
   "source": [
    "class MyFS(UserVFS, HostVFS, BaseFS):\n",
    "    def __init__(self):\n",
    "        self.myfsname = 'royal'"
   ]
  },
  {
   "cell_type": "code",
   "execution_count": 16,
   "metadata": {},
   "outputs": [
    {
     "data": {
      "text/plain": [
       "'Raygan Henley'"
      ]
     },
     "execution_count": 16,
     "metadata": {},
     "output_type": "execute_result"
    }
   ],
   "source": [
    "b = MyFS()\n",
    "b.readtext('reduser')"
   ]
  },
  {
   "cell_type": "code",
   "execution_count": 17,
   "metadata": {},
   "outputs": [
    {
     "data": {
      "text/plain": [
       "{'redhost': 'https://redhost.example.com',\n",
       " 'reduser': 'UserVFSTree OVERRIDDEN!'}"
      ]
     },
     "execution_count": 17,
     "metadata": {},
     "output_type": "execute_result"
    }
   ],
   "source": [
    "b.get_hostvfstree()"
   ]
  },
  {
   "cell_type": "code",
   "execution_count": 18,
   "metadata": {},
   "outputs": [
    {
     "data": {
      "text/plain": [
       "'royal'"
      ]
     },
     "execution_count": 18,
     "metadata": {},
     "output_type": "execute_result"
    }
   ],
   "source": [
    "b.show_thyself()"
   ]
  }
 ],
 "metadata": {
  "kernelspec": {
   "display_name": "Python 3.9",
   "language": "python",
   "name": "python3"
  },
  "language_info": {
   "codemirror_mode": {
    "name": "ipython",
    "version": 3
   },
   "file_extension": ".py",
   "mimetype": "text/x-python",
   "name": "python",
   "nbconvert_exporter": "python",
   "pygments_lexer": "ipython3",
   "version": "3.9.5"
  }
 },
 "nbformat": 4,
 "nbformat_minor": 4
}
