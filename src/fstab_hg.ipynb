{
 "cells": [
  {
   "cell_type": "markdown",
   "metadata": {},
   "source": [
    "# fstab Hiena Grammar\n",
    "\n",
    "    fstab_hg"
   ]
  },
  {
   "cell_type": "code",
   "execution_count": 1,
   "metadata": {},
   "outputs": [],
   "source": [
    "LINE = '^[^#\\n][^\\n]+$'\n",
    "WORD = '[^ ]+'\n",
    "entryschema = [str(i) for i in range(1,10)]\n",
    "fieldschema = [\n",
    "    'spec', 'file', 'vfstype', \n",
    "    'mntopts', 'freq', 'passno'\n",
    "]\n",
    "fstab_hg = {\n",
    "    \"#!\": [\"hiena\"], \n",
    "    \"$__start__\": \"entry\",\n",
    "    \"entry\": [LINE, \"field\", entryschema],\n",
    "    \"field\": [WORD, \"\", fieldschema]\n",
    "}"
   ]
  },
  {
   "cell_type": "code",
   "execution_count": 2,
   "metadata": {},
   "outputs": [],
   "source": [
    "CSV = '[^,]+'\n",
    "KVP = '[^=]+[=][^=]+'"
   ]
  },
  {
   "cell_type": "code",
   "execution_count": 6,
   "metadata": {},
   "outputs": [],
   "source": [
    "from Dcel import Dcel\n",
    "from blackstrap import BlackstrapFS\n",
    "BlackstrapFS.initHost('localhost')\n",
    "BlackstrapFS.addShare('fs/fs','fs')\n",
    "d = Dcel(address=\"file://fs.localhost\",service_class=BlackstrapFS)"
   ]
  },
  {
   "cell_type": "code",
   "execution_count": 7,
   "metadata": {},
   "outputs": [
    {
     "name": "stdout",
     "output_type": "stream",
     "text": [
      "['.cloud', '..@', '.cosm', 'fruit', 'boats', '@']\n"
     ]
    }
   ],
   "source": [
    "print(d.listdir())"
   ]
  },
  {
   "cell_type": "code",
   "execution_count": 8,
   "metadata": {},
   "outputs": [],
   "source": [
    "fstab = d['@']['etc']['fstabtest']"
   ]
  },
  {
   "cell_type": "code",
   "execution_count": 9,
   "metadata": {},
   "outputs": [
    {
     "name": "stdout",
     "output_type": "stream",
     "text": [
      "# # Cosm / Etc / FSTab\n",
      "\n",
      "# the .cosm/etc/fstab used by cburn is shared between hosts. The concept of 'localhost' is centric to a generic host model. A file url is relative to the generic host model, whereas a relative file path is relative to the working directory of cloudburner at runtime on each host.\n",
      "\n",
      "# experimental: include a hostname in the 'file://' url to limit the scope of a filepath to a specific host.\n",
      "\n",
      "# experimental: proxy the 'file' protocol and allow subdomain syntax to specify shares. The path component is relative to the share.\n",
      "\n",
      "# idea: make filepaths relative to the fstab's location, ie: for ./.cosm/etc/fstab the relative root is ../../../\n",
      "\n",
      "\n",
      "\n",
      "file://fs2.localhost/  {cburnuser}/example/  cburnfs user,shortid=f2,idcard=localuser 0 0\n",
      "file://fs.localhost    {cburnuser}/example/  cburnfs user,shortid=fs,idcard=localuser 0 0\n",
      "file://fs3.localhost/  {cburnuser}/example/  cburnfs user,shortid=f3,idcard=localuser 0 0\n",
      "file://cburnwebui.localhost/  {cburnuser}/example/  cburnfs nouser,idcard=localuser 0 0\n",
      "\n",
      "# mntopt nouser keeps the mountpoint out of the user interface and should be used for the ui overlay only.\n",
      "\n"
     ]
    }
   ],
   "source": [
    "print(fstab)"
   ]
  },
  {
   "cell_type": "code",
   "execution_count": 11,
   "metadata": {},
   "outputs": [],
   "source": [
    "from HienaMP import hiena_mp\n",
    "hienaout = hiena_mp(fstab_hg, fstab)"
   ]
  },
  {
   "cell_type": "code",
   "execution_count": 15,
   "metadata": {},
   "outputs": [
    {
     "name": "stdout",
     "output_type": "stream",
     "text": [
      "{'spec': <Dcel.Dcel object at 0x7f34d0f263a0>, 'file': <Dcel.Dcel object at 0x7f34d0f263d0>, 'vfstype': <Dcel.Dcel object at 0x7f34e032bee0>, 'mntopts': <Dcel.Dcel object at 0x7f34d17b0d30>, 'freq': <Dcel.Dcel object at 0x7f34e033ddf0>, 'passno': <Dcel.Dcel object at 0x7f34e033d550>}\n",
      "{'spec': <Dcel.Dcel object at 0x7f34d0f263a0>, 'file': <Dcel.Dcel object at 0x7f34d0f263d0>, 'vfstype': <Dcel.Dcel object at 0x7f34e032bee0>, 'mntopts': <Dcel.Dcel object at 0x7f34d17b0d30>, 'freq': <Dcel.Dcel object at 0x7f34e033ddf0>, 'passno': <Dcel.Dcel object at 0x7f34e033d550>}\n"
     ]
    }
   ],
   "source": [
    "print(hienaout['1'])\n",
    "hienaout['1']['file'].value = \"hello\"\n",
    "print(hienaout['1'])"
   ]
  },
  {
   "cell_type": "code",
   "execution_count": 16,
   "metadata": {},
   "outputs": [
    {
     "name": "stdout",
     "output_type": "stream",
     "text": [
      "hello\n"
     ]
    }
   ],
   "source": [
    "print(hienaout['1']['file'])"
   ]
  },
  {
   "cell_type": "code",
   "execution_count": 18,
   "metadata": {},
   "outputs": [
    {
     "name": "stdout",
     "output_type": "stream",
     "text": [
      "# # Cosm / Etc / FSTab\n",
      "\n",
      "# the .cosm/etc/fstab used by cburn is shared between hosts. The concept of 'localhost' is centric to a generic host model. A file url is relative to the generic host model, whereas a relative file path is relative to the working directory of cloudburner at runtime on each host.\n",
      "\n",
      "# experimental: include a hostname in the 'file://' url to limit the scope of a filepath to a specific host.\n",
      "\n",
      "# experimental: proxy the 'file' protocol and allow subdomain syntax to specify shares. The path component is relative to the share.\n",
      "\n",
      "# idea: make filepaths relative to the fstab's location, ie: for ./.cosm/etc/fstab the relative root is ../../../\n",
      "\n",
      "\n",
      "\n",
      "file://fs2.localhost/  hello  cburnfs user,shortid=f2,idcard=localuser 0 0\n",
      "file://fs.localhost    {cburnuser}/example/  cburnfs user,shortid=fs,idcard=localuser 0 0\n",
      "file://fs3.localhost/  {cburnuser}/example/  cburnfs user,shortid=f3,idcard=localuser 0 0\n",
      "file://cburnwebui.localhost/  {cburnuser}/example/  cburnfs nouser,idcard=localuser 0 0\n",
      "\n",
      "# mntopt nouser keeps the mountpoint out of the user interface and should be used for the ui overlay only.\n",
      "\n"
     ]
    }
   ],
   "source": [
    "#print(fstab)\n",
    "print(d['@']['etc']['fstabtest'])"
   ]
  },
  {
   "cell_type": "code",
   "execution_count": 20,
   "metadata": {},
   "outputs": [
    {
     "name": "stdout",
     "output_type": "stream",
     "text": [
      "# # Cosm / Etc / FSTab\n",
      "\n",
      "# the .cosm/etc/fstab used by cburn is shared between hosts. The concept of 'localhost' is centric to a generic host model. A file url is relative to the generic host model, whereas a relative file path is relative to the working directory of cloudburner at runtime on each host.\n",
      "\n",
      "# experimental: include a hostname in the 'file://' url to limit the scope of a filepath to a specific host.\n",
      "\n",
      "# experimental: proxy the 'file' protocol and allow subdomain syntax to specify shares. The path component is relative to the share.\n",
      "\n",
      "# idea: make filepaths relative to the fstab's location, ie: for ./.cosm/etc/fstab the relative root is ../../../\n",
      "\n",
      "\n",
      "\n",
      "file://fs2.localhost/  hello  cburnfs user,shortid=f2,idcard=localuser 0 0\n",
      "file://fs.localhost    {cburnuser}/example/  cburnfs user,shortid=fs,idcard=localuser 0 0\n",
      "file://fs3.localhost/  {cburnuser}/example/  cburnfs user,shortid=f3,idcard=localuser 0 0\n",
      "file://cburnwebui.localhost/  {cburnuser}/example/  cburnfs nouser,idcard=localuser 0 0\n",
      "\n",
      "# mntopt nouser keeps the mountpoint out of the user interface and should be used for the ui overlay only.\n",
      "\n"
     ]
    }
   ],
   "source": [
    "hienaout['1']['file'].flush()\n",
    "e = Dcel(address=\"file://fs.localhost\",service_class=BlackstrapFS)\n",
    "print(e['@']['etc']['fstabtest'])"
   ]
  },
  {
   "cell_type": "code",
   "execution_count": 3,
   "metadata": {},
   "outputs": [],
   "source": [
    "from Dcel import Dcel\n",
    "\n",
    "testdata = [\n",
    "    Dcel(\"url / cburnfs user,userid=raygan@raygan.com,shortid=u 0 0\"),\n",
    "    \"url / cburnfs user,userid=raygan@raygan.com,shortid=u 0 0\"\n",
    "]"
   ]
  },
  {
   "cell_type": "code",
   "execution_count": 12,
   "metadata": {},
   "outputs": [],
   "source": [
    "# Try to change one of the values in the dict from the Dcel level.\n",
    "# See if it updates the testdata[0]\n",
    "\n",
    "# ** It updates, but it destroys the second field in the input, when runnign twice. **\n",
    "\n",
    "from HienaMP import hiena_mp\n",
    "\n",
    "hienaout = hiena_mp(fstab_hg, testdata[0])\n",
    "\n",
    "a = hienaout['1']['spec']\n",
    "b = hienaout['1']['file']\n",
    "c = hienaout['1']['mntopts']\n",
    "a.value = \"hello\"\n",
    "b.value = \"/users/raygan\"\n",
    "c.value = 'user,userid=borris@bomber.com,shortid=snafu'"
   ]
  },
  {
   "cell_type": "code",
   "execution_count": 4,
   "metadata": {},
   "outputs": [
    {
     "name": "stdout",
     "output_type": "stream",
     "text": [
      "url / cburnfs user,userid=raygan@raygan.com,shortid=u 0 0\n",
      "url / cburnfs user,userid=raygan@raygan.com,shortid=u 0 0\n"
     ]
    }
   ],
   "source": [
    "print(testdata[0]._value)\n",
    "print(testdata[0])"
   ]
  },
  {
   "cell_type": "code",
   "execution_count": 13,
   "metadata": {},
   "outputs": [],
   "source": [
    "from HienaMP import hiena_mp\n",
    "from DictFS import DictFS\n",
    "\n",
    "hienaout_dcel = Dcel(formula=hiena_mp,args=[fstab_hg, ~testdata[0]])\n",
    "hienaout_d = Dcel(address=hienaout_dcel,service_class=DictFS)\n",
    "\n",
    "a = hienaout_d['1']['spec'] = \"hello\"\n",
    "b = hienaout_d['1']['file'] = \"/users/raygan\"\n",
    "c = hienaout_d['1']['mntopts'] = \"user,userid=borris@bomber.com,shortid=snafu\"\n"
   ]
  },
  {
   "cell_type": "code",
   "execution_count": 14,
   "metadata": {},
   "outputs": [
    {
     "name": "stdout",
     "output_type": "stream",
     "text": [
      "url / cburnfs user,userid=raygan@raygan.com,shortid=u 0 0\n",
      "hello /users/raygan cburnfs user,userid=borris@bomber.com,shortid=snafu 0 0\n"
     ]
    }
   ],
   "source": [
    "print(testdata[0]._value)\n",
    "print(testdata[0])"
   ]
  },
  {
   "cell_type": "code",
   "execution_count": 6,
   "metadata": {},
   "outputs": [
    {
     "name": "stdout",
     "output_type": "stream",
     "text": [
      "{0: (3, <Dcel.Dcel object at 0x7fa7a80252e0>), 4: (5, <Dcel.Dcel object at 0x7fa7a8025280>), 14: (53, <Dcel.Dcel object at 0x7fa7a8025340>)} hello\n",
      "{0: (3, <Dcel.Dcel object at 0x7fa7a80252e0>), 4: (5, <Dcel.Dcel object at 0x7fa7a8025280>), 14: (53, <Dcel.Dcel object at 0x7fa7a8025340>)} /users/raygan\n",
      "{0: (3, <Dcel.Dcel object at 0x7fa7a80252e0>), 4: (5, <Dcel.Dcel object at 0x7fa7a8025280>), 14: (53, <Dcel.Dcel object at 0x7fa7a8025340>)} user,userid=borris@bomber.com,shortid=snafu\n"
     ]
    }
   ],
   "source": [
    "print(f\"{a.service._map} {a}\")\n",
    "print(f\"{b.service._map} {b}\")\n",
    "print(f\"{c.service._map} {c}\")"
   ]
  },
  {
   "cell_type": "code",
   "execution_count": 7,
   "metadata": {},
   "outputs": [
    {
     "name": "stdout",
     "output_type": "stream",
     "text": [
      "{0: (57, <Dcel.Dcel object at 0x7fa7a8025490>)}\n",
      "<Dcel.Dcel object at 0x7fa7a81085e0>\n",
      "<Dcel.Dcel object at 0x7fa7a8025490>\n",
      "{0: (3, <Dcel.Dcel object at 0x7fa7a80252e0>), 4: (5, <Dcel.Dcel object at 0x7fa7a8025280>), 14: (53, <Dcel.Dcel object at 0x7fa7a8025340>)}\n",
      "<Dcel.Dcel object at 0x7fa7a80252e0>\n",
      "<Dcel.Dcel object at 0x7fa7a8025280>\n",
      "<Dcel.Dcel object at 0x7fa7a8025340>\n"
     ]
    }
   ],
   "source": [
    "print(testdata[0]._map)\n",
    "print(repr(testdata[0]))\n",
    "print(repr(hienaout['1']['spec'].service))\n",
    "print(hienaout['1']['spec'].service._map)\n",
    "print(repr(hienaout['1']['spec']))\n",
    "print(repr(hienaout['1']['file']))\n",
    "print(repr(hienaout['1']['mntopts']))\n",
    "# WARNING - Any moves to print 'testdata[0]'\n",
    "# after this will re-calculate the string, corrupting it."
   ]
  },
  {
   "cell_type": "code",
   "execution_count": 8,
   "metadata": {},
   "outputs": [
    {
     "name": "stdout",
     "output_type": "stream",
     "text": [
      "hello /users/raygan cburnfs user,userid=borris@bomber.com,shortid=snafu 0 0\n"
     ]
    }
   ],
   "source": [
    "print(testdata[0])"
   ]
  },
  {
   "cell_type": "code",
   "execution_count": 9,
   "metadata": {},
   "outputs": [
    {
     "name": "stdout",
     "output_type": "stream",
     "text": [
      "hello /users/raygan cburnfs user,userid=borris@bomber.com,shortid=snafu 0 0\n",
      "url / cburnfs user,userid=raygan@raygan.com,shortid=u 0 0\n"
     ]
    }
   ],
   "source": [
    "print(testdata[0])\n",
    "hienaout = hiena_mp(fstab_hg, testdata[0])\n",
    "hienaout['1']['spec'].value = \"url\"\n",
    "print(testdata[0])\n"
   ]
  },
  {
   "cell_type": "code",
   "execution_count": 19,
   "metadata": {},
   "outputs": [
    {
     "name": "stdout",
     "output_type": "stream",
     "text": [
      "<class 'dict'>\n",
      "<Dcel.Dcel object at 0x7f4ae871c5e0>\n",
      "<Dcel.Dcel object at 0x7f4ae871c850>\n",
      "<Dcel.Dcel object at 0x7f4ae871c5e0>\n",
      "url blueurnfs user,userid=raygan@raygan.com,shortid=u 0 0\n",
      "url blueurnfs user,userid=raygan@raygan.com,shortid=u 0 0\n",
      "{0: (3, <Dcel.Dcel object at 0x7f4ae871c190>), 4: (5, <Dcel.Dcel object at 0x7f4ae871c6a0>)}\n",
      "{0: (68, <Dcel.Dcel object at 0x7f4ae871c850>)}\n",
      "url blueurnfs user,userid=raygan@raygan.com,shortid=u 0 0 {0: (3, <Dcel.Dcel object at 0x7f4ae871c190>), 4: (5, <Dcel.Dcel object at 0x7f4ae871c6a0>)}\n",
      "url blueurnfs user,userid=raygan@raygan.com,shortid=u 0 0 {0: (68, <Dcel.Dcel object at 0x7f4ae871c850>)}\n"
     ]
    }
   ],
   "source": [
    "# Find relationship between input Dcel testdata[0] and output dict value Dcels.\n",
    "print(type(hienaout))\n",
    "print(repr(testdata[0]))\n",
    "print(repr(hienaout['1']['spec'].service))\n",
    "print(repr(hienaout['1']['spec'].service.service))\n",
    "assert(testdata[0] is hienaout['1']['spec'].service.service)\n",
    "\n",
    "# In this particular case, base is two level deep.\n",
    "\n",
    "print(hienaout['1']['spec'].service)\n",
    "print(hienaout['1']['spec'].service.service)\n",
    "\n",
    "# and the fragment map has propogated.\n",
    "# ** This was fixed in the Dcel code. **\n",
    "\n",
    "a = hienaout['1']['spec'].service\n",
    "b = hienaout['1']['spec'].service.service\n",
    "\n",
    "print(a._map)\n",
    "print(b._map)\n",
    "\n",
    "# Now we see that the backing has no map. The map is generated in the write phase.\n",
    "\n",
    "hienaout['1']['file'].value = \"blue\"\n",
    "\n",
    "print(f\"{a} {a._map}\")\n",
    "print(f\"{b} {b._map}\")"
   ]
  },
  {
   "cell_type": "code",
   "execution_count": 18,
   "metadata": {},
   "outputs": [
    {
     "name": "stdout",
     "output_type": "stream",
     "text": [
      "url blueurnfs user,userid=raygan@raygan.com,shortid=u 0 0\n"
     ]
    }
   ],
   "source": [
    "print(testdata[0])"
   ]
  },
  {
   "cell_type": "code",
   "execution_count": 7,
   "metadata": {},
   "outputs": [
    {
     "name": "stdout",
     "output_type": "stream",
     "text": [
      "<Dcel.Dcel object at 0x7fb9980ea5e0>\n",
      "<Dcel.Dcel object at 0x7fb9827da880>\n",
      "'url / cburnfs user,userid=raygan@raygan.com,shortid=u 0 0'\n",
      "'url / cburnfs user,userid=raygan@raygan.com,shortid=u 0 0'\n",
      "{'1': {'spec': <Dcel.Dcel object at 0x7fb9827da6d0>, 'file': <Dcel.Dcel object at 0x7fb9827daee0>, 'vfstype': <Dcel.Dcel object at 0x7fb9827daf70>, 'mntopts': <Dcel.Dcel object at 0x7fb9827da190>, 'freq': <Dcel.Dcel object at 0x7fb9827da550>}}\n",
      "{'1': {'spec': 'url', 'file': '/', 'vfstype': 'cburnfs', 'mntopts': 'user,userid=raygan@raygan.com,shortid=u', 'freq': '0', 'passno': '0'}}\n"
     ]
    }
   ],
   "source": [
    "from HienaMP import hiena_mp\n",
    "\n",
    "hienaout = [ hiena_mp(fstab_hg,data)\n",
    "               for data in testdata\n",
    "              ]\n",
    "for each in hienaout:\n",
    "    print(each)"
   ]
  },
  {
   "cell_type": "code",
   "execution_count": 13,
   "metadata": {},
   "outputs": [
    {
     "ename": "TypeError",
     "evalue": "None",
     "output_type": "error",
     "traceback": [
      "\u001b[0;31m---------------------------------------------------------------------------\u001b[0m",
      "\u001b[0;31mTypeError\u001b[0m                                 Traceback (most recent call last)",
      "File \u001b[0;32m~/cburnweb/Dcel.py:349\u001b[0m, in \u001b[0;36mDcel.__getitem__\u001b[0;34m(self, key)\u001b[0m\n\u001b[1;32m    346\u001b[0m \u001b[38;5;28;01mtry\u001b[39;00m:\n\u001b[1;32m    347\u001b[0m     \u001b[38;5;66;03m# return child if already cached\u001b[39;00m\n\u001b[1;32m    348\u001b[0m     \u001b[38;5;66;03m# in Dcel's internal _dir\u001b[39;00m\n\u001b[0;32m--> 349\u001b[0m     \u001b[38;5;28;01mreturn\u001b[39;00m \u001b[38;5;28;43mself\u001b[39;49m\u001b[38;5;241;43m.\u001b[39;49m\u001b[43m_dir\u001b[49m\u001b[43m[\u001b[49m\u001b[43mkey\u001b[49m\u001b[43m]\u001b[49m\n\u001b[1;32m    350\u001b[0m \u001b[38;5;28;01mexcept\u001b[39;00m \u001b[38;5;167;01mKeyError\u001b[39;00m:\n\u001b[1;32m    351\u001b[0m     \u001b[38;5;66;03m# otherwise, add child to Dcel's _dir\u001b[39;00m\n\u001b[1;32m    352\u001b[0m     \u001b[38;5;66;03m# same code as further above.\u001b[39;00m\n",
      "\u001b[0;31mTypeError\u001b[0m: 'NoneType' object is not subscriptable",
      "\nDuring handling of the above exception, another exception occurred:\n",
      "\u001b[0;31mTypeError\u001b[0m                                 Traceback (most recent call last)",
      "Input \u001b[0;32mIn [13]\u001b[0m, in \u001b[0;36m<cell line: 4>\u001b[0;34m()\u001b[0m\n\u001b[1;32m      1\u001b[0m \u001b[38;5;28;01mfrom\u001b[39;00m \u001b[38;5;21;01mDcelJSONEncoder\u001b[39;00m \u001b[38;5;28;01mimport\u001b[39;00m DcelJSONEncoder\n\u001b[1;32m      2\u001b[0m \u001b[38;5;28;01mfrom\u001b[39;00m \u001b[38;5;21;01mjson\u001b[39;00m \u001b[38;5;28;01mimport\u001b[39;00m dumps\n\u001b[0;32m----> 4\u001b[0m \u001b[38;5;28;01mfor\u001b[39;00m each \u001b[38;5;129;01min\u001b[39;00m hienaout:\n\u001b[1;32m      5\u001b[0m     \u001b[38;5;28mprint\u001b[39m(dumps(each,\u001b[38;5;28mcls\u001b[39m\u001b[38;5;241m=\u001b[39mDcelJSONEncoder))\n",
      "File \u001b[0;32m~/cburnweb/Dcel.py:366\u001b[0m, in \u001b[0;36mDcel.__getitem__\u001b[0;34m(self, key)\u001b[0m\n\u001b[1;32m    364\u001b[0m         \u001b[38;5;28;01mraise\u001b[39;00m \u001b[38;5;167;01mKeyError\u001b[39;00m(key)\n\u001b[1;32m    365\u001b[0m \u001b[38;5;28;01mexcept\u001b[39;00m \u001b[38;5;167;01mTypeError\u001b[39;00m:\n\u001b[0;32m--> 366\u001b[0m     \u001b[38;5;28;01mraise\u001b[39;00m \u001b[38;5;167;01mTypeError\u001b[39;00m(\u001b[38;5;28mself\u001b[39m\u001b[38;5;241m.\u001b[39m_dir)\n",
      "\u001b[0;31mTypeError\u001b[0m: None"
     ]
    }
   ],
   "source": [
    "from DcelJSONEncoder import DcelJSONEncoder\n",
    "from json import dumps\n",
    "\n",
    "for each in hienaout:\n",
    "    print(dumps(each,cls=DcelJSONEncoder))"
   ]
  },
  {
   "cell_type": "code",
   "execution_count": 14,
   "metadata": {},
   "outputs": [
    {
     "name": "stdout",
     "output_type": "stream",
     "text": [
      "<Dcel.Dcel object at 0x7fb9980ea5e0>\n",
      "<Dcel.Dcel object at 0x7fb981be1340>\n",
      "{'1': {'spec': <Dcel.Dcel object at 0x7fb98249c7c0>, 'file': <Dcel.Dcel object at 0x7fb9827ed9d0>, 'vfstype': <Dcel.Dcel object at 0x7fb9827ed6d0>}}\n",
      "<Dcel.Dcel object at 0x7fb9980ea5e0>\n",
      "<Dcel.Dcel object at 0x7fb982526b80>\n",
      "{\"1\": {\"spec\": \"hellobluer,userid=raygan@raygan.com,shortid=u\", \"file\": \"0\", \"vfstype\": \"0\"}}\n"
     ]
    }
   ],
   "source": [
    "# Dcel formula version\n",
    "# NOTE: must use the '~testdata' tilde notation\n",
    "#  to create a Dcel reference, or the Dcel won't bind.\n",
    "hienaout = Dcel(formula=hiena_mp,args=[fstab_hg,~testdata[0]])\n",
    "print(hienaout)\n",
    "print(dumps(hienaout,cls=DcelJSONEncoder))"
   ]
  },
  {
   "cell_type": "code",
   "execution_count": 15,
   "metadata": {},
   "outputs": [
    {
     "name": "stdout",
     "output_type": "stream",
     "text": [
      "<Dcel.Dcel object at 0x7fb9980ea5e0>\n",
      "<Dcel.Dcel object at 0x7fb981bdfe50>\n",
      "spec slice(0, 45, None) hellobluer,userid=raygan@raygan.com,shortid=u\n",
      "spec.service <Dcel.Dcel object at 0x7fb981bdfe50> hellobluer,userid=raygan@raygan.com,shortid=u 0 0\n",
      "spec.service <Dcel.Dcel object at 0x7fb981bdfe50> hello\n",
      "testdata[0] <Dcel.Dcel object at 0x7fb9980ea5e0> helloblued=u 0 0\n",
      "<Dcel.Dcel object at 0x7fb9980ea5e0>\n",
      "<Dcel.Dcel object at 0x7fb981bbe2e0>\n",
      "helloblued=u\n",
      "\n",
      "\n",
      "<Dcel.Dcel object at 0x7fb9980ea5e0>\n",
      "<Dcel.Dcel object at 0x7fb981bdfeb0>\n",
      "slice(0, 12, None) helloblued=u\n",
      "<Dcel.Dcel object at 0x7fb981bdfeb0> helloblued=u 0 0\n",
      "<Dcel.Dcel object at 0x7fb981bdfeb0> helloseri\n",
      "<Dcel.Dcel object at 0x7fb9980ea5e0> hellobluer,userid=raygan@raygan.com,shortid=u 0 0\n",
      "hello\n"
     ]
    }
   ],
   "source": [
    "# assign to slice will write through to backing. acting funny, though.\n",
    "spec = hienaout.value[\"1\"][\"spec\"]\n",
    "print(f\"spec {repr(spec.address)} {spec}\")\n",
    "print(f\"spec.service {repr(spec.service)} {spec.service}\")\n",
    "spec.value = \"hello\"\n",
    "print(f\"spec.service {repr(spec.service)} {spec.service}\")\n",
    "print(f\"testdata[0] {repr(testdata[0])} {testdata[0]}\")\n",
    "print(hienaout.value[\"1\"][\"spec\"])\n",
    "\n",
    "from DictFS import DictFS\n",
    "print(\"\\n\")\n",
    "hienaoutdictfs = Dcel(address=hienaout, service_class=DictFS)\n",
    "specref = hienaoutdictfs.value[\"1\"][\"spec\"]\n",
    "print(f\"{repr(specref.address)} {specref}\")\n",
    "print(f\"{repr(specref.service)} {specref.service}\")\n",
    "specref.value = \"hello\"\n",
    "print(f\"{repr(specref.service)} {specref.service}\")\n",
    "print(f\"{repr(testdata[0])} {testdata[0]}\")\n",
    "print(hienaoutdictfs[\"1\"][\"spec\"])"
   ]
  },
  {
   "cell_type": "code",
   "execution_count": 16,
   "metadata": {},
   "outputs": [
    {
     "name": "stdout",
     "output_type": "stream",
     "text": [
      "hi bra\n"
     ]
    }
   ],
   "source": [
    "d = Dcel(\"hi there\")\n",
    "e = d[3:8]\n",
    "e.value = \"bra\"\n",
    "print(d)"
   ]
  },
  {
   "cell_type": "code",
   "execution_count": 84,
   "metadata": {},
   "outputs": [
    {
     "name": "stdout",
     "output_type": "stream",
     "text": [
      "url\n"
     ]
    }
   ],
   "source": [
    "print(hienaout.value[\"1\"][\"spec\"])"
   ]
  },
  {
   "cell_type": "code",
   "execution_count": 26,
   "metadata": {},
   "outputs": [
    {
     "name": "stdout",
     "output_type": "stream",
     "text": [
      "{'1': {'spec': <Dcel.Dcel object at 0x7fd9b264dd30>, 'file': <Dcel.Dcel object at 0x7fd9b264d490>, 'vfstype': <Dcel.Dcel object at 0x7fd9b264dd60>, 'mntopts': <Dcel.Dcel object at 0x7fd9b264db20>, 'freq': <Dcel.Dcel object at 0x7fd9b264d940>, 'passno': <Dcel.Dcel object at 0x7fd9b264da90>}}\n",
      "{'1': {'spec': <Dcel.Dcel object at 0x7fd9d047eac0>, 'file': <Dcel.Dcel object at 0x7fd9d047ec40>, 'vfstype': <Dcel.Dcel object at 0x7fd9d4db98b0>, 'mntopts': <Dcel.Dcel object at 0x7fd9d4db9460>, 'freq': <Dcel.Dcel object at 0x7fd9d4db9520>, 'passno': <Dcel.Dcel object at 0x7fd9d4db9ac0>}}\n",
      "<class 'Dcel.Dcel'>\n"
     ]
    },
    {
     "ename": "TypeError",
     "evalue": "None",
     "output_type": "error",
     "traceback": [
      "\u001b[0;31m---------------------------------------------------------------------------\u001b[0m",
      "\u001b[0;31mTypeError\u001b[0m                                 Traceback (most recent call last)",
      "File \u001b[0;32m~/cburnweb/Dcel.py:346\u001b[0m, in \u001b[0;36mDcel.__getitem__\u001b[0;34m(self, key)\u001b[0m\n\u001b[1;32m    343\u001b[0m \u001b[38;5;28;01mtry\u001b[39;00m:\n\u001b[1;32m    344\u001b[0m     \u001b[38;5;66;03m# return child if already cached\u001b[39;00m\n\u001b[1;32m    345\u001b[0m     \u001b[38;5;66;03m# in Dcel's internal _dir\u001b[39;00m\n\u001b[0;32m--> 346\u001b[0m     \u001b[38;5;28;01mreturn\u001b[39;00m \u001b[38;5;28;43mself\u001b[39;49m\u001b[38;5;241;43m.\u001b[39;49m\u001b[43m_dir\u001b[49m\u001b[43m[\u001b[49m\u001b[43mkey\u001b[49m\u001b[43m]\u001b[49m\n\u001b[1;32m    347\u001b[0m \u001b[38;5;28;01mexcept\u001b[39;00m \u001b[38;5;167;01mKeyError\u001b[39;00m:\n\u001b[1;32m    348\u001b[0m     \u001b[38;5;66;03m# otherwise, add child to Dcel's _dir\u001b[39;00m\n\u001b[1;32m    349\u001b[0m     \u001b[38;5;66;03m# same code as further above.\u001b[39;00m\n",
      "\u001b[0;31mTypeError\u001b[0m: 'NoneType' object is not subscriptable",
      "\nDuring handling of the above exception, another exception occurred:\n",
      "\u001b[0;31mTypeError\u001b[0m                                 Traceback (most recent call last)",
      "Input \u001b[0;32mIn [26]\u001b[0m, in \u001b[0;36m<cell line: 9>\u001b[0;34m()\u001b[0m\n\u001b[1;32m      6\u001b[0m \u001b[38;5;28mprint\u001b[39m(\u001b[38;5;28mtype\u001b[39m(hienaout))\n\u001b[1;32m      8\u001b[0m \u001b[38;5;66;03m# I want this to modify the fragment map.\u001b[39;00m\n\u001b[0;32m----> 9\u001b[0m \u001b[43mhienaout\u001b[49m\u001b[43m[\u001b[49m\u001b[38;5;124;43m\"\u001b[39;49m\u001b[38;5;124;43m1\u001b[39;49m\u001b[38;5;124;43m\"\u001b[39;49m\u001b[43m]\u001b[49m[\u001b[38;5;124m\"\u001b[39m\u001b[38;5;124mmntopts\u001b[39m\u001b[38;5;124m\"\u001b[39m]\u001b[38;5;241m=\u001b[39m\u001b[38;5;124m'\u001b[39m\u001b[38;5;124muser,userid=randypony,shortid=rp\u001b[39m\u001b[38;5;124m'\u001b[39m\n\u001b[1;32m     10\u001b[0m \u001b[38;5;28mprint\u001b[39m(dumps(hienaout[\u001b[38;5;124m\"\u001b[39m\u001b[38;5;124m1\u001b[39m\u001b[38;5;124m\"\u001b[39m],\u001b[38;5;28mcls\u001b[39m\u001b[38;5;241m=\u001b[39mDcelJSONEncoder))\n\u001b[1;32m     11\u001b[0m \u001b[38;5;66;03m# prove that the dict contains the same Dcel at mntopts value.\u001b[39;00m\n",
      "File \u001b[0;32m~/cburnweb/Dcel.py:363\u001b[0m, in \u001b[0;36mDcel.__getitem__\u001b[0;34m(self, key)\u001b[0m\n\u001b[1;32m    361\u001b[0m         \u001b[38;5;28;01mraise\u001b[39;00m \u001b[38;5;167;01mKeyError\u001b[39;00m(key)\n\u001b[1;32m    362\u001b[0m \u001b[38;5;28;01mexcept\u001b[39;00m \u001b[38;5;167;01mTypeError\u001b[39;00m:\n\u001b[0;32m--> 363\u001b[0m     \u001b[38;5;28;01mraise\u001b[39;00m \u001b[38;5;167;01mTypeError\u001b[39;00m(\u001b[38;5;28mself\u001b[39m\u001b[38;5;241m.\u001b[39m_dir)\n",
      "\u001b[0;31mTypeError\u001b[0m: None"
     ]
    }
   ],
   "source": [
    "# I want this to modify the fragment map.\n",
    "hienaout[\"1\"][\"mntopts\"]='user,userid=randypony,shortid=rp'\n",
    "print(dumps(hienaout[\"1\"],cls=DcelJSONEncoder))\n",
    "# prove that the dict contains the same Dcel at mntopts value.\n",
    "print(hienaout)"
   ]
  },
  {
   "cell_type": "code",
   "execution_count": 8,
   "metadata": {},
   "outputs": [
    {
     "data": {
      "text/plain": [
       "('/1/mntopts', <DictFS.DictFS at 0x7fd9d0552df0>)"
      ]
     },
     "execution_count": 8,
     "metadata": {},
     "output_type": "execute_result"
    }
   ],
   "source": [
    "target = hienaoutcel[\"1\"][\"mntopts\"]\n",
    "target.address, target.service"
   ]
  },
  {
   "cell_type": "code",
   "execution_count": 9,
   "metadata": {},
   "outputs": [
    {
     "name": "stdout",
     "output_type": "stream",
     "text": [
      "{'1': {'spec': <Dcel.Dcel object at 0x7fd9d047e2b0>, 'file': <Dcel.Dcel object at 0x7fd9d0540fa0>, 'vfstype': <Dcel.Dcel object at 0x7fd9d042df70>, 'mntopts': <Dcel.Dcel object at 0x7fd9d042d760>, 'freq': <Dcel.Dcel object at 0x7fd9d042c610>, 'passno': <Dcel.Dcel object at 0x7fd9d042c5b0>}}\n"
     ]
    }
   ],
   "source": [
    "target.value = \"hello\"\n",
    "print(hienaoutcel)"
   ]
  },
  {
   "cell_type": "code",
   "execution_count": 10,
   "metadata": {},
   "outputs": [
    {
     "data": {
      "text/plain": [
       "'{\"1\": {\"spec\": \"url\", \"file\": \"/\", \"vfstype\": \"cburnfs\", \"mntopts\": \"hello\", \"freq\": \"\", \"passno\": \"\"}}'"
      ]
     },
     "execution_count": 10,
     "metadata": {},
     "output_type": "execute_result"
    }
   ],
   "source": [
    "dumps(hienaoutcel,cls=DcelJSONEncoder)"
   ]
  },
  {
   "cell_type": "code",
   "execution_count": null,
   "metadata": {},
   "outputs": [],
   "source": []
  }
 ],
 "metadata": {
  "kernelspec": {
   "display_name": "Python 3.9",
   "language": "python",
   "name": "python3"
  },
  "language_info": {
   "codemirror_mode": {
    "name": "ipython",
    "version": 3
   },
   "file_extension": ".py",
   "mimetype": "text/x-python",
   "name": "python",
   "nbconvert_exporter": "python",
   "pygments_lexer": "ipython3",
   "version": "3.9.5"
  }
 },
 "nbformat": 4,
 "nbformat_minor": 2
}
