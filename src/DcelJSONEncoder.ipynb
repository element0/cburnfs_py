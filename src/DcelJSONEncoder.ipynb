{
 "cells": [
  {
   "cell_type": "markdown",
   "metadata": {},
   "source": [
    "# Dcel JSON Encoder\n",
    "\n",
    "A custom Encoder for Dcels.\n"
   ]
  },
  {
   "cell_type": "code",
   "execution_count": 3,
   "metadata": {},
   "outputs": [],
   "source": [
    "import json\n",
    "from Dcel import Dcel\n",
    "class DcelJSONEncoder(json.JSONEncoder):\n",
    "    def default(self, o):\n",
    "        if isinstance(o, Dcel):\n",
    "            return o.value\n",
    "        return json.JSONEncoder.default(self,o)"
   ]
  },
  {
   "cell_type": "code",
   "execution_count": 8,
   "metadata": {},
   "outputs": [
    {
     "name": "stdout",
     "output_type": "stream",
     "text": [
      "{\"greeting\": {\"one\": 1, \"two\": 2}, \"goodbye\": \"see ya\", \"piecemeal\": \"acadab\"}\n"
     ]
    }
   ],
   "source": [
    "x = { \"greeting\": Dcel({ \"one\": 1, \"two\": 2}),\n",
    "      \"goodbye\": Dcel('see ya'),\n",
    "      \"piecemeal\": Dcel('abracadabra')[3:9]\n",
    "    }\n",
    "print(json.dumps(x, cls=DcelJSONEncoder))"
   ]
  },
  {
   "cell_type": "code",
   "execution_count": null,
   "metadata": {},
   "outputs": [],
   "source": []
  }
 ],
 "metadata": {
  "kernelspec": {
   "display_name": "Python 3.9",
   "language": "python",
   "name": "python3"
  },
  "language_info": {
   "codemirror_mode": {
    "name": "ipython",
    "version": 3
   },
   "file_extension": ".py",
   "mimetype": "text/x-python",
   "name": "python",
   "nbconvert_exporter": "python",
   "pygments_lexer": "ipython3",
   "version": "3.9.5"
  }
 },
 "nbformat": 4,
 "nbformat_minor": 4
}
